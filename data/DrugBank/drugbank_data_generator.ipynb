{
 "cells": [
  {
   "metadata": {},
   "cell_type": "markdown",
   "source": [
    "# Parse DrugBank data concerning Blood Brain Barrier (BBB) prediction\n",
    "\n",
    "This requires a full database provided by DrugBank, adjust `path_drugbank_unzipped`. \n",
    "\n",
    "We used a version downloaded 03/01/2024\n"
   ],
   "id": "b060eb489483479e"
  },
  {
   "metadata": {
    "ExecuteTime": {
     "end_time": "2024-07-11T11:03:48.602118Z",
     "start_time": "2024-07-11T11:00:40.566086Z"
    }
   },
   "cell_type": "code",
   "source": [
    "import xmltodict\n",
    "import json\n",
    "import os\n",
    "path_drugbank_unzipped = os.path.expanduser(\"~/Downloads/full database.xml\")\n",
    "\n",
    "with open(path_drugbank_unzipped, \"rb\") as f:\n",
    "    db_data = xmltodict.parse(f)\n",
    "db_data = (json.\n",
    "           loads(json.dumps(db_data)))    \n",
    "\n",
    "print(\"Total number of drugs:\", len(db_data[\"drugbank\"][\"drug\"]))"
   ],
   "id": "initial_id",
   "outputs": [
    {
     "name": "stdout",
     "output_type": "stream",
     "text": [
      "Total number of drugs: 16575\n"
     ]
    }
   ],
   "execution_count": 2
  },
  {
   "cell_type": "code",
   "source": [
    "import requests_cache\n",
    "from requests.adapters import HTTPAdapter, Retry\n",
    "from functools import cache\n",
    "\n",
    "@cache\n",
    "def get_drugbank_session():\n",
    "    session=requests_cache.CachedSession(\"_drugbank_session\", allowable_codes=[200], allowable_methods=[\"GET\", \"POST\"])\n",
    "    retries_adapter = HTTPAdapter(max_retries=Retry(total=5, backoff_factor=0.25))\n",
    "    session.mount('http://', retries_adapter)\n",
    "    session.mount('https://', retries_adapter)\n",
    "    return session"
   ],
   "metadata": {
    "collapsed": false,
    "ExecuteTime": {
     "end_time": "2024-07-11T11:11:38.741886Z",
     "start_time": "2024-07-11T11:11:38.457186Z"
    }
   },
   "id": "b7ad895ffcddc75",
   "outputs": [],
   "execution_count": 3
  },
  {
   "cell_type": "code",
   "source": [
    "import re\n",
    "import pandas as pd\n",
    "r = r\"<td>Blood Brain Barrier</td><td>([-|+])</td><td>([\\d|\\.]*)<\"\n",
    "res = []\n",
    "\n",
    "for i, d in enumerate(db_data[\"drugbank\"][\"drug\"]):\n",
    "    if d[\"@type\"] == \"small molecule\":\n",
    "        if type(d[\"drugbank-id\"]) == list: \n",
    "            if len( d[\"drugbank-id\"]) < 1:\n",
    "                print(\"No DB id present in \", d[\"drugbank-id\"], \"name:\", d[\"name\"])\n",
    "            else:\n",
    "                db_id = d[\"drugbank-id\"][0][\"#text\"]\n",
    "        elif type(d[\"drugbank-id\"]) == dict:\n",
    "            db_id = d[\"drugbank-id\"][\"#text\"]\n",
    "        else:\n",
    "            raise RuntimeError(f\"Cannot extract drugbank-id {d['drugbank-id']}\")\n",
    "        assert db_id\n",
    "        \n",
    "        drugbank_data = get_drugbank_session().get(f\"https://go.drugbank.com/drugs/{db_id}\")\n",
    "        found_bbb = re.findall(r, drugbank_data.text)\n",
    "        bbb_class, bbb_prob = found_bbb[0] if found_bbb else (None, None)\n",
    "        \n",
    "        chembl_id = None\n",
    "        if \"external-identifiers\" in d and d[\"external-identifiers\"] is not None:\n",
    "            #assert \"external-identifier\" in , d[\"external-identifiers\"]\n",
    "            eis = d[\"external-identifiers\"][\"external-identifier\"]\n",
    "            if type(eis) == list:\n",
    "                cid_c = []\n",
    "                for ei in eis: # double nested\n",
    "                    if type(ei) == str:\n",
    "                        assert False, ei\n",
    "                    if ei[\"resource\"] == \"ChEMBL\":\n",
    "                        cid_c.append(ei[\"identifier\"])\n",
    "                if len(cid_c) > 1:\n",
    "                    assert False, f\"too many ChEMBL identifiers found {cid_c}\"\n",
    "                if len(cid_c) == 1:\n",
    "                    chembl_id = cid_c[0]\n",
    "            elif type(eis) == dict:\n",
    "                if eis[\"resource\"] == \"ChEMBL\":\n",
    "                    chembl_id = eis[\"identifier\"]\n",
    "            else:\n",
    "                assert False\n",
    "        \n",
    "        assert type(d[\"groups\"]) == dict, d[\"groups\"]\n",
    "        groups = d[\"groups\"][\"group\"]\n",
    "        if type(groups) == str:\n",
    "            groups = [groups]\n",
    "        \n",
    "        res.append({\n",
    "            \"drugbank_id\": db_id,\n",
    "            \"chembl_id\": chembl_id,\n",
    "            \"name\": d[\"name\"],\n",
    "            \"groups\": groups,\n",
    "            \"BBB_class\": bbb_class,\n",
    "            \"bbb_prob\": bbb_prob,\n",
    "        })\n",
    "        #res.append((d, drugbank_data.text))\n",
    "        if len(res) > 50000:\n",
    "            break\n",
    "\n",
    "\n",
    "df_db_small_molecule_drug_permeability = pd.DataFrame(res)\n",
    "\n",
    "_target = \"drugbank_data.csv\"\n",
    "print(f\"Persisting {len(df_db_small_molecule_drug_permeability)} DrugBank small molecule drug records to {_target}\")\n",
    "df_db_small_molecule_drug_permeability.to_csv(_target, index=False)\n",
    "\n",
    "df_db_small_molecule_drug_permeability.describe(include=\"all\")"
   ],
   "metadata": {
    "collapsed": false,
    "ExecuteTime": {
     "end_time": "2024-07-11T11:12:15.827363Z",
     "start_time": "2024-07-11T11:11:39.524747Z"
    }
   },
   "id": "5138790562a8ae6d",
   "outputs": [
    {
     "name": "stdout",
     "output_type": "stream",
     "text": [
      "Persisting 12695 DrugBank small molecule drug records to drugbank_data.csv\n"
     ]
    },
    {
     "data": {
      "text/plain": [
       "       drugbank_id      chembl_id         name          groups BBB_class  \\\n",
       "count        12695           8327        12695           12695      6586   \n",
       "unique       12695           8327        12695              50         2   \n",
       "top        DB00006  CHEMBL2103749  Bivalirudin  [experimental]         +   \n",
       "freq             1              1            1            5887      5232   \n",
       "\n",
       "       bbb_prob  \n",
       "count      6586  \n",
       "unique     2973  \n",
       "top      0.9382  \n",
       "freq         57  "
      ],
      "text/html": [
       "<div>\n",
       "<style scoped>\n",
       "    .dataframe tbody tr th:only-of-type {\n",
       "        vertical-align: middle;\n",
       "    }\n",
       "\n",
       "    .dataframe tbody tr th {\n",
       "        vertical-align: top;\n",
       "    }\n",
       "\n",
       "    .dataframe thead th {\n",
       "        text-align: right;\n",
       "    }\n",
       "</style>\n",
       "<table border=\"1\" class=\"dataframe\">\n",
       "  <thead>\n",
       "    <tr style=\"text-align: right;\">\n",
       "      <th></th>\n",
       "      <th>drugbank_id</th>\n",
       "      <th>chembl_id</th>\n",
       "      <th>name</th>\n",
       "      <th>groups</th>\n",
       "      <th>BBB_class</th>\n",
       "      <th>bbb_prob</th>\n",
       "    </tr>\n",
       "  </thead>\n",
       "  <tbody>\n",
       "    <tr>\n",
       "      <th>count</th>\n",
       "      <td>12695</td>\n",
       "      <td>8327</td>\n",
       "      <td>12695</td>\n",
       "      <td>12695</td>\n",
       "      <td>6586</td>\n",
       "      <td>6586</td>\n",
       "    </tr>\n",
       "    <tr>\n",
       "      <th>unique</th>\n",
       "      <td>12695</td>\n",
       "      <td>8327</td>\n",
       "      <td>12695</td>\n",
       "      <td>50</td>\n",
       "      <td>2</td>\n",
       "      <td>2973</td>\n",
       "    </tr>\n",
       "    <tr>\n",
       "      <th>top</th>\n",
       "      <td>DB00006</td>\n",
       "      <td>CHEMBL2103749</td>\n",
       "      <td>Bivalirudin</td>\n",
       "      <td>[experimental]</td>\n",
       "      <td>+</td>\n",
       "      <td>0.9382</td>\n",
       "    </tr>\n",
       "    <tr>\n",
       "      <th>freq</th>\n",
       "      <td>1</td>\n",
       "      <td>1</td>\n",
       "      <td>1</td>\n",
       "      <td>5887</td>\n",
       "      <td>5232</td>\n",
       "      <td>57</td>\n",
       "    </tr>\n",
       "  </tbody>\n",
       "</table>\n",
       "</div>"
      ]
     },
     "execution_count": 4,
     "metadata": {},
     "output_type": "execute_result"
    }
   ],
   "execution_count": 4
  },
  {
   "cell_type": "code",
   "source": [
    "print(\"Permeability class across all small molecule DrugBank records\")\n",
    "df_db_small_molecule_drug_permeability.BBB_class.value_counts(dropna=False)"
   ],
   "metadata": {
    "collapsed": false,
    "ExecuteTime": {
     "end_time": "2024-07-11T11:13:05.043693Z",
     "start_time": "2024-07-11T11:13:05.035960Z"
    }
   },
   "id": "dc28b1c252cb92bf",
   "outputs": [
    {
     "name": "stdout",
     "output_type": "stream",
     "text": [
      "Permeability class across all small molecule DrugBank records\n"
     ]
    },
    {
     "data": {
      "text/plain": [
       "BBB_class\n",
       "None    6109\n",
       "+       5232\n",
       "-       1354\n",
       "Name: count, dtype: int64"
      ]
     },
     "execution_count": 6,
     "metadata": {},
     "output_type": "execute_result"
    }
   ],
   "execution_count": 6
  },
  {
   "cell_type": "code",
   "source": [
    "df_db_drugs = df_db_small_molecule_drug_permeability[df_db_small_molecule_drug_permeability.groups.apply(lambda x: (\"approved\" in x or \"investigational\" in x) and \"withdrawn\" not in x)]\n",
    "\n",
    "print(\"BBB permeability across approved and investigational and not withdrawn drugs:\")\n",
    "df_db_drugs.BBB_class.value_counts(dropna=False)"
   ],
   "metadata": {
    "collapsed": false,
    "ExecuteTime": {
     "end_time": "2024-07-11T11:13:14.527007Z",
     "start_time": "2024-07-11T11:13:14.512833Z"
    }
   },
   "id": "6fff89375831d86e",
   "outputs": [
    {
     "name": "stdout",
     "output_type": "stream",
     "text": [
      "BBB permeability across approved and investigational and not withdrawn drugs:\n"
     ]
    },
    {
     "data": {
      "text/plain": [
       "BBB_class\n",
       "None    4524\n",
       "+       1286\n",
       "-        422\n",
       "Name: count, dtype: int64"
      ]
     },
     "execution_count": 7,
     "metadata": {},
     "output_type": "execute_result"
    }
   ],
   "execution_count": 7
  },
  {
   "cell_type": "code",
   "source": [
    "_df_approved_only = df_db_small_molecule_drug_permeability[df_db_small_molecule_drug_permeability.groups.apply(lambda x: (\"approved\" in x) and \"withdrawn\" not in x)]\n",
    "print(\"BBB permeability across approved and not withdrawn drugs:\")\n",
    "_df_approved_only.BBB_class.value_counts(dropna=False)"
   ],
   "metadata": {
    "collapsed": false,
    "ExecuteTime": {
     "end_time": "2024-07-11T11:13:38.938178Z",
     "start_time": "2024-07-11T11:13:38.924544Z"
    }
   },
   "id": "8572977a70ac40a3",
   "outputs": [
    {
     "name": "stdout",
     "output_type": "stream",
     "text": [
      "BBB permeability across approved and not withdrawn drugs:\n"
     ]
    },
    {
     "data": {
      "text/plain": [
       "BBB_class\n",
       "None    1193\n",
       "+       1034\n",
       "-        346\n",
       "Name: count, dtype: int64"
      ]
     },
     "execution_count": 8,
     "metadata": {},
     "output_type": "execute_result"
    }
   ],
   "execution_count": 8
  },
  {
   "metadata": {},
   "cell_type": "markdown",
   "source": [
    "### Coverage / linkage with ChEMBL drugs\n",
    "A verification of the identifier resolution across DrugBank and ChEMBL drug set used in analysis."
   ],
   "id": "55d3ed925385a754"
  },
  {
   "cell_type": "code",
   "source": [
    "import os\n",
    "import sys\n",
    "sys.path.insert(0, os.path.abspath(os.path.join(os.getcwd(), \"..\", \"..\", \"b3db_kc\")))\n",
    "from utils import get_chembl_drugs\n",
    "df_chembl_drugs = get_chembl_drugs()"
   ],
   "metadata": {
    "collapsed": false,
    "ExecuteTime": {
     "end_time": "2024-07-11T11:15:07.325018Z",
     "start_time": "2024-07-11T11:14:33.137203Z"
    }
   },
   "id": "e5aa4b02573fa28c",
   "outputs": [],
   "execution_count": 10
  },
  {
   "cell_type": "code",
   "source": [
    "from matplotlib import pyplot as plt\n",
    "import matplotlib_venn\n",
    "_s_db_cid = set(df_db_drugs.chembl_id)\n",
    "_s_chembl_cid = set(df_chembl_drugs.chembl_id)\n",
    "\n",
    "matplotlib_venn.venn2([_s_db_cid, _s_chembl_cid], set_labels=[\"DrugBank CID\", \"Chembl CID\"])\n",
    "plt.title(\"Coverage of the filtered ChEMBL / DrugBank datasets\")\n",
    "print(\"Total DrugBank investigational / approved drugs without ChEMBL id:\", sum(pd.isna(df_db_drugs.chembl_id)))"
   ],
   "metadata": {
    "collapsed": false,
    "ExecuteTime": {
     "end_time": "2024-07-11T11:15:07.682923Z",
     "start_time": "2024-07-11T11:15:07.342779Z"
    }
   },
   "id": "ebd6366b987b3b4e",
   "outputs": [
    {
     "name": "stdout",
     "output_type": "stream",
     "text": [
      "Total DrugBank investigational / approved drugs without ChEMBL id: 1629\n"
     ]
    },
    {
     "data": {
      "text/plain": [
       "<Figure size 640x480 with 1 Axes>"
      ],
      "image/png": "[encoded data removed]"
     },
     "metadata": {},
     "output_type": "display_data"
    }
   ],
   "execution_count": 11
  }
 ],
 "metadata": {
  "kernelspec": {
   "display_name": "Python 3",
   "language": "python",
   "name": "python3"
  },
  "language_info": {
   "codemirror_mode": {
    "name": "ipython",
    "version": 2
   },
   "file_extension": ".py",
   "mimetype": "text/x-python",
   "name": "python",
   "nbconvert_exporter": "python",
   "pygments_lexer": "ipython2",
   "version": "2.7.6"
  }
 },
 "nbformat": 4,
 "nbformat_minor": 5
}
