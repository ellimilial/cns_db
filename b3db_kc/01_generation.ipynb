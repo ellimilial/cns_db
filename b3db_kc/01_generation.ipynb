{
 "cells": [
  {
   "cell_type": "markdown",
   "source": [
    "### B3DB xls -> tsvs\n",
    "We convert Excel spreadsheets to a tsv's to facilitate access and prevent editing software from changing the values.\n",
    "E.g. R49 logBB data not displaying decimal values, R9 including dates for compound names."
   ],
   "metadata": {
    "collapsed": false
   }
  },
  {
   "metadata": {
    "ExecuteTime": {
     "end_time": "2024-07-09T09:05:48.029931Z",
     "start_time": "2024-07-09T09:05:48.014226Z"
    }
   },
   "cell_type": "code",
   "source": [
    "import collections\n",
    "import os\n",
    "import shelve\n",
    "import statistics\n",
    "\n",
    "import datamol\n",
    "import pandas as pd\n",
    "import rdkit\n",
    "\n",
    "import urllib\n",
    "\n",
    "from requests.adapters import HTTPAdapter, Retry\n",
    "\n",
    "from functools import cache\n",
    "from matplotlib import pyplot as plt\n",
    "\n",
    "from matplotlib_venn import venn2\n",
    "import requests_cache\n",
    "import seaborn as sns\n",
    "\n",
    "from tqdm import tqdm\n",
    "tqdm.pandas()\n",
    "from rdkit.Chem import rdFingerprintGenerator\n",
    "from utils import smiles_to_mol, get_tanimoto_distance, chembl_parent_from_smiles, smiles_to_fingerprint_tuple"
   ],
   "outputs": [],
   "execution_count": 46
  },
  {
   "cell_type": "code",
   "source": [
    "references_kept = [\n",
    "    \"R3\",\n",
    "    \"R4\",\n",
    "    \"R5\",\n",
    "    \"R6\",\n",
    "    \"R7\",\n",
    "    \"R12\",\n",
    "    \"R14\",\n",
    "    # \"R16\", tested with the core set, adds 6 non-logBB.\n",
    "    \"R17\",\n",
    "    \"R21\",\n",
    "    \"R22\",\n",
    "    \"R23\",\n",
    "    \"R25\",\n",
    "    \"R26\",\n",
    "    \"R28\",\n",
    "    \"R29\",\n",
    "    \"R31\",\n",
    "    \"R34\",\n",
    "    \"R37\",\n",
    "    \"R39\",\n",
    "    \"R40\",\n",
    "    \"R41\",\n",
    "    \"R42\",\n",
    "    \"R44\",\n",
    "    \"R45\",\n",
    "    \"R46\",\n",
    "    \"R47\",\n",
    "    \"R48\",\n",
    "    \"R49\",\n",
    "    \"R50\",\n",
    "]\n",
    "\n",
    "references_used = references_kept + [\"R51\", \"R52\", \"R53\"]\n",
    "\n",
    "references_id_to_first_author_year = {\n",
    "    \"R3\": \"abraham_2006\",\n",
    "    \"R4\": \"mente_2005\",\n",
    "    \"R5\": \"guerra_2008\",\n",
    "    \"R6\": \"adenot_2004\",\n",
    "    \"R7\": \"andres_2006\",\n",
    "    \"R12\": \"garg_2006\",\n",
    "    \"R14\": \"ghose_2012\",\n",
    "    \"R17\": \"fu_2008\",\n",
    "    \"R21\": \"muehlbacher_2011\",\n",
    "    \"R22\": \"clark_1999\",\n",
    "    \"R23\": \"gupta_2019\",\n",
    "    \"R25\": \"brito_sanchez_2015\",\n",
    "    \"R26\": \"chico_2009\",\n",
    "    \"R28\": \"li_2005\",\n",
    "    \"R29\": \"subramanian_2003\",\n",
    "    \"R31\": \"carpenter_2014\",\n",
    "    \"R34\": \"broccatelli_2012\",\n",
    "    \"R37\": \"chen_2011\",\n",
    "    \"R39\": \"shayanfar_2011\",\n",
    "    \"R40\": \"vilar_2010\",\n",
    "    \"R41\": \"toropov_2017\",\n",
    "    \"R42\": \"ciura_2020\",\n",
    "    \"R44\": \"bujak_2015\",\n",
    "    \"R45\": \"hemmateenejad_2006\",\n",
    "    \"R46\": \"mendoza_valencia_2017\",\n",
    "    \"R47\": \"radchenko_2020\",\n",
    "    \"R48\": \"hou_2003\",\n",
    "    \"R49\": \"norinder_2002\",\n",
    "    \"R50\": \"sobanska_2019\",\n",
    "    \"R51\": \"doninger_2002\", \n",
    "    \"R52\": \"liu_2001\", \n",
    "    \"R53\": \"friden_2009\"\n",
    "}\n",
    "\n",
    "def get_b3db_raw_df(id, b3db_raw_data_folder = os.path.join(os.getcwd(), \"../data/B3DB/raw_data\")):\n",
    "    return pd.read_excel(os.path.join(b3db_raw_data_folder, id, \"data_formatted_done.xls\"))\n",
    "\n",
    "def get_b3db_r_df(id, data_folder = os.path.join(os.getcwd(), \"reference_data\")):\n",
    "    return pd.read_csv(os.path.join(data_folder, f\"{id}.tsv\"), sep=\"\\t\")\n",
    "\n",
    "path_references_parsed = os.path.join(os.getcwd(), \"reference_data\")\n",
    "if not os.path.exists(path_references_parsed):\n",
    "    os.makedirs(path_references_parsed)\n",
    "\n",
    "for r in references_kept:\n",
    "    _df = get_b3db_raw_df(r)\n",
    "    _out = os.path.join(path_references_parsed, f\"{r}.tsv\")\n",
    "    \n",
    "    # We need to sanitise line breaks early due to the format conversion. This functionality is duplicated during sanitisation.\n",
    "    _df[\"compound_name\"] = _df[\"compound_name\"].apply(lambda x: str(x).replace(\"\\n\", \"\").replace(\"\\r\", \"\"))\n",
    "    _df[\"smiles\"] = _df[\"smiles\"].apply(lambda x: str(x).replace(\"\\n\", \"\"))\n",
    "    _df[[\"compound_name\", \"smiles\", \"CID\", \"logBB\", \"BBB+/BBB-\"] + ([\"comments\"] if \"comments\" in _df else [])].to_csv(_out, sep=\"\\t\", index=False)"
   ],
   "metadata": {
    "collapsed": false,
    "ExecuteTime": {
     "end_time": "2024-07-09T08:47:10.906051Z",
     "start_time": "2024-07-09T08:47:10.653324Z"
    }
   },
   "outputs": [],
   "execution_count": 3
  },
  {
   "cell_type": "markdown",
   "source": [
    "## Record resolution\n",
    "This section of the notebook includes the methods for extracting the raw data from the publication, cleaning it, resolving to unified PubChem entities, using ChEMBL pipeline to extract the \"parent\" structures and then normalising those to PubChem entities where available. \n",
    "\n",
    "The output of this step is a dataframe of all the records from all the publications, reconciled to the single \"parent\" structure."
   ],
   "metadata": {
    "collapsed": false
   }
  },
  {
   "cell_type": "code",
   "source": [
    "def get_datasource_information():\n",
    "    df_data_source_available_information = pd.read_csv(os.path.join(os.getcwd(), \"../data\",    \"b3db_article_table_1_data_source_and_the_available_corresponding_information.tsv\"), delimiter=\"\\t\")\n",
    "    ds_info = []\n",
    "    for d in df_data_source_available_information[[\"ID\", \"Data Source Size\", \"Information Available\", \"Data Type\"]].to_dict(\"records\"):\n",
    "        d[\"Information Available\"] = {\n",
    "            \"R40\": \"name, smiles\",  # The data consists of several tables, the largest one includes SMILES.\n",
    "            \"R47\": \"name, smiles\",\n",
    "        }.get(d[\"ID\"], d[\"Information Available\"])\n",
    "            \n",
    "        # Filtering this data allows us to ignore over 400 BBB+ classifications from R26 where this data is not provided and molecules with logBB < -2 are labeled as BBB+.\n",
    "        d[\"Data Type\"] = {\n",
    "            # Removed \"R2\": \"numerical data\",  # No categorical data present in the raw data sheet.\n",
    "            \"R26\": \"numerical data\",  # All compounds classified as positive, original data does not include categories. While the spreadsheet is called \"CNS-penetrant small molecules\", the authors explicitly point out in the article that, for example, imatinib listed with logBB of -1.5 is not CNS-penetrant.\n",
    "            \"R34\": \"categorical data\",  # Categorical and not numerical data is available.            \n",
    "        }.get(d[\"ID\"], d[\"Data Type\"])\n",
    "        ds_info.append(d)\n",
    "    \n",
    "    ds_info = ds_info + [\n",
    "        {\"ID\": \"R51\", \"Data Source Size\": 325, \"Information Available\": \"name\", \"Data Type\": \"categorical data\"},\n",
    "        {\"ID\": \"R52\", \"Data Source Size\": 70, \"Information Available\": \"name, smiles\", \"Data Type\": \"numerical data\"},\n",
    "        {\"ID\": \"R53\", \"Data Source Size\": 42, \"Information Available\": \"name\", \"Data Type\": \"numerical data\"}\n",
    "    ]     \n",
    "    return ds_info"
   ],
   "metadata": {
    "collapsed": false,
    "ExecuteTime": {
     "end_time": "2024-07-09T08:47:10.910705Z",
     "start_time": "2024-07-09T08:47:10.906793Z"
    }
   },
   "outputs": [],
   "execution_count": 4
  },
  {
   "cell_type": "code",
   "source": [
    "print(\"Provided  data types\")\n",
    "datatypes = []\n",
    "for datasource in [d for d in get_datasource_information() if d[\"ID\"] in references_used]:\n",
    "    df_raw = get_b3db_r_df(datasource[\"ID\"])\n",
    "    \n",
    "    \n",
    "    nlbb = sum(pd.notna(df_raw.logBB))\n",
    "    nlc_p = df_raw[\"BBB+/BBB-\"].value_counts().get(\"BBB+\")\n",
    "    nlc_m = df_raw[\"BBB+/BBB-\"].value_counts().get(\"BBB-\")\n",
    "    assert nlbb > 0 or \"numerical data\" not in datasource[\"Data Type\"], \"Should contain numerical data\"\n",
    "\n",
    "    assert nlc_p is not None or \"categorical data\" not in datasource[\"Data Type\"], \"Should contain categorical data, but does not.\"\n",
    "    \n",
    "    comment = ''\n",
    "    if \"categorical data\" in datasource[\"Data Type\"]:\n",
    "        if nlc_p and nlc_p > 0 and nlc_m is None:\n",
    "            comment += \"Only positive category\"\n",
    "        if nlc_m and nlc_m > 0 and nlc_p is None:\n",
    "            comment += \"Only negative category\"\n",
    "    datatypes.append({\n",
    "        \"reference\": datasource[\"ID\"],\n",
    "        \"author_year\": references_id_to_first_author_year[datasource[\"ID\"]],\n",
    "        \"data_types\": datasource[\"Data Type\"],\n",
    "        \"comment\": comment\n",
    "    })\n",
    "pd.DataFrame(datatypes)"
   ],
   "metadata": {
    "collapsed": false,
    "ExecuteTime": {
     "end_time": "2024-07-09T08:47:10.977991Z",
     "start_time": "2024-07-09T08:47:10.912020Z"
    }
   },
   "outputs": [
    {
     "name": "stdout",
     "output_type": "stream",
     "text": [
      "Provided  data types\n"
     ]
    },
    {
     "data": {
      "text/plain": [
       "   reference            author_year                        data_types  \\\n",
       "0         R3           abraham_2006                    numerical data   \n",
       "1         R4             mente_2005                    numerical data   \n",
       "2         R5            guerra_2008                    numerical data   \n",
       "3         R6            adenot_2004                  categorical data   \n",
       "4         R7            andres_2006                  categorical data   \n",
       "5        R12              garg_2006                    numerical data   \n",
       "6        R14             ghose_2012                  categorical data   \n",
       "7        R17                fu_2008                    numerical data   \n",
       "8        R21       muehlbacher_2011                    numerical data   \n",
       "9        R22             clark_1999                    numerical data   \n",
       "10       R23             gupta_2019                  categorical data   \n",
       "11       R25     brito_sanchez_2015                    numerical data   \n",
       "12       R26             chico_2009                    numerical data   \n",
       "13       R28                li_2005                  categorical data   \n",
       "14       R29       subramanian_2003                  categorical data   \n",
       "15       R31         carpenter_2014                    numerical data   \n",
       "16       R34       broccatelli_2012                  categorical data   \n",
       "17       R37              chen_2011                  categorical data   \n",
       "18       R39         shayanfar_2011                    numerical data   \n",
       "19       R40             vilar_2010                    numerical data   \n",
       "20       R41           toropov_2017                    numerical data   \n",
       "21       R42             ciura_2020                    numerical data   \n",
       "22       R44             bujak_2015                    numerical data   \n",
       "23       R45     hemmateenejad_2006                    numerical data   \n",
       "24       R46  mendoza_valencia_2017                    numerical data   \n",
       "25       R47         radchenko_2020                    numerical data   \n",
       "26       R48               hou_2003                    numerical data   \n",
       "27       R49          norinder_2002                    numerical data   \n",
       "28       R50          sobanska_2019  categorical data, numerical data   \n",
       "29       R51          doninger_2002                  categorical data   \n",
       "30       R52               liu_2001                    numerical data   \n",
       "31       R53            friden_2009                    numerical data   \n",
       "\n",
       "                   comment  \n",
       "0                           \n",
       "1                           \n",
       "2                           \n",
       "3                           \n",
       "4                           \n",
       "5                           \n",
       "6                           \n",
       "7                           \n",
       "8                           \n",
       "9                           \n",
       "10                          \n",
       "11                          \n",
       "12                          \n",
       "13                          \n",
       "14                          \n",
       "15                          \n",
       "16                          \n",
       "17  Only positive category  \n",
       "18                          \n",
       "19                          \n",
       "20                          \n",
       "21                          \n",
       "22                          \n",
       "23                          \n",
       "24                          \n",
       "25                          \n",
       "26                          \n",
       "27                          \n",
       "28                          \n",
       "29                          \n",
       "30                          \n",
       "31                          "
      ],
      "text/html": [
       "<div>\n",
       "<style scoped>\n",
       "    .dataframe tbody tr th:only-of-type {\n",
       "        vertical-align: middle;\n",
       "    }\n",
       "\n",
       "    .dataframe tbody tr th {\n",
       "        vertical-align: top;\n",
       "    }\n",
       "\n",
       "    .dataframe thead th {\n",
       "        text-align: right;\n",
       "    }\n",
       "</style>\n",
       "<table border=\"1\" class=\"dataframe\">\n",
       "  <thead>\n",
       "    <tr style=\"text-align: right;\">\n",
       "      <th></th>\n",
       "      <th>reference</th>\n",
       "      <th>author_year</th>\n",
       "      <th>data_types</th>\n",
       "      <th>comment</th>\n",
       "    </tr>\n",
       "  </thead>\n",
       "  <tbody>\n",
       "    <tr>\n",
       "      <th>0</th>\n",
       "      <td>R3</td>\n",
       "      <td>abraham_2006</td>\n",
       "      <td>numerical data</td>\n",
       "      <td></td>\n",
       "    </tr>\n",
       "    <tr>\n",
       "      <th>1</th>\n",
       "      <td>R4</td>\n",
       "      <td>mente_2005</td>\n",
       "      <td>numerical data</td>\n",
       "      <td></td>\n",
       "    </tr>\n",
       "    <tr>\n",
       "      <th>2</th>\n",
       "      <td>R5</td>\n",
       "      <td>guerra_2008</td>\n",
       "      <td>numerical data</td>\n",
       "      <td></td>\n",
       "    </tr>\n",
       "    <tr>\n",
       "      <th>3</th>\n",
       "      <td>R6</td>\n",
       "      <td>adenot_2004</td>\n",
       "      <td>categorical data</td>\n",
       "      <td></td>\n",
       "    </tr>\n",
       "    <tr>\n",
       "      <th>4</th>\n",
       "      <td>R7</td>\n",
       "      <td>andres_2006</td>\n",
       "      <td>categorical data</td>\n",
       "      <td></td>\n",
       "    </tr>\n",
       "    <tr>\n",
       "      <th>5</th>\n",
       "      <td>R12</td>\n",
       "      <td>garg_2006</td>\n",
       "      <td>numerical data</td>\n",
       "      <td></td>\n",
       "    </tr>\n",
       "    <tr>\n",
       "      <th>6</th>\n",
       "      <td>R14</td>\n",
       "      <td>ghose_2012</td>\n",
       "      <td>categorical data</td>\n",
       "      <td></td>\n",
       "    </tr>\n",
       "    <tr>\n",
       "      <th>7</th>\n",
       "      <td>R17</td>\n",
       "      <td>fu_2008</td>\n",
       "      <td>numerical data</td>\n",
       "      <td></td>\n",
       "    </tr>\n",
       "    <tr>\n",
       "      <th>8</th>\n",
       "      <td>R21</td>\n",
       "      <td>muehlbacher_2011</td>\n",
       "      <td>numerical data</td>\n",
       "      <td></td>\n",
       "    </tr>\n",
       "    <tr>\n",
       "      <th>9</th>\n",
       "      <td>R22</td>\n",
       "      <td>clark_1999</td>\n",
       "      <td>numerical data</td>\n",
       "      <td></td>\n",
       "    </tr>\n",
       "    <tr>\n",
       "      <th>10</th>\n",
       "      <td>R23</td>\n",
       "      <td>gupta_2019</td>\n",
       "      <td>categorical data</td>\n",
       "      <td></td>\n",
       "    </tr>\n",
       "    <tr>\n",
       "      <th>11</th>\n",
       "      <td>R25</td>\n",
       "      <td>brito_sanchez_2015</td>\n",
       "      <td>numerical data</td>\n",
       "      <td></td>\n",
       "    </tr>\n",
       "    <tr>\n",
       "      <th>12</th>\n",
       "      <td>R26</td>\n",
       "      <td>chico_2009</td>\n",
       "      <td>numerical data</td>\n",
       "      <td></td>\n",
       "    </tr>\n",
       "    <tr>\n",
       "      <th>13</th>\n",
       "      <td>R28</td>\n",
       "      <td>li_2005</td>\n",
       "      <td>categorical data</td>\n",
       "      <td></td>\n",
       "    </tr>\n",
       "    <tr>\n",
       "      <th>14</th>\n",
       "      <td>R29</td>\n",
       "      <td>subramanian_2003</td>\n",
       "      <td>categorical data</td>\n",
       "      <td></td>\n",
       "    </tr>\n",
       "    <tr>\n",
       "      <th>15</th>\n",
       "      <td>R31</td>\n",
       "      <td>carpenter_2014</td>\n",
       "      <td>numerical data</td>\n",
       "      <td></td>\n",
       "    </tr>\n",
       "    <tr>\n",
       "      <th>16</th>\n",
       "      <td>R34</td>\n",
       "      <td>broccatelli_2012</td>\n",
       "      <td>categorical data</td>\n",
       "      <td></td>\n",
       "    </tr>\n",
       "    <tr>\n",
       "      <th>17</th>\n",
       "      <td>R37</td>\n",
       "      <td>chen_2011</td>\n",
       "      <td>categorical data</td>\n",
       "      <td>Only positive category</td>\n",
       "    </tr>\n",
       "    <tr>\n",
       "      <th>18</th>\n",
       "      <td>R39</td>\n",
       "      <td>shayanfar_2011</td>\n",
       "      <td>numerical data</td>\n",
       "      <td></td>\n",
       "    </tr>\n",
       "    <tr>\n",
       "      <th>19</th>\n",
       "      <td>R40</td>\n",
       "      <td>vilar_2010</td>\n",
       "      <td>numerical data</td>\n",
       "      <td></td>\n",
       "    </tr>\n",
       "    <tr>\n",
       "      <th>20</th>\n",
       "      <td>R41</td>\n",
       "      <td>toropov_2017</td>\n",
       "      <td>numerical data</td>\n",
       "      <td></td>\n",
       "    </tr>\n",
       "    <tr>\n",
       "      <th>21</th>\n",
       "      <td>R42</td>\n",
       "      <td>ciura_2020</td>\n",
       "      <td>numerical data</td>\n",
       "      <td></td>\n",
       "    </tr>\n",
       "    <tr>\n",
       "      <th>22</th>\n",
       "      <td>R44</td>\n",
       "      <td>bujak_2015</td>\n",
       "      <td>numerical data</td>\n",
       "      <td></td>\n",
       "    </tr>\n",
       "    <tr>\n",
       "      <th>23</th>\n",
       "      <td>R45</td>\n",
       "      <td>hemmateenejad_2006</td>\n",
       "      <td>numerical data</td>\n",
       "      <td></td>\n",
       "    </tr>\n",
       "    <tr>\n",
       "      <th>24</th>\n",
       "      <td>R46</td>\n",
       "      <td>mendoza_valencia_2017</td>\n",
       "      <td>numerical data</td>\n",
       "      <td></td>\n",
       "    </tr>\n",
       "    <tr>\n",
       "      <th>25</th>\n",
       "      <td>R47</td>\n",
       "      <td>radchenko_2020</td>\n",
       "      <td>numerical data</td>\n",
       "      <td></td>\n",
       "    </tr>\n",
       "    <tr>\n",
       "      <th>26</th>\n",
       "      <td>R48</td>\n",
       "      <td>hou_2003</td>\n",
       "      <td>numerical data</td>\n",
       "      <td></td>\n",
       "    </tr>\n",
       "    <tr>\n",
       "      <th>27</th>\n",
       "      <td>R49</td>\n",
       "      <td>norinder_2002</td>\n",
       "      <td>numerical data</td>\n",
       "      <td></td>\n",
       "    </tr>\n",
       "    <tr>\n",
       "      <th>28</th>\n",
       "      <td>R50</td>\n",
       "      <td>sobanska_2019</td>\n",
       "      <td>categorical data, numerical data</td>\n",
       "      <td></td>\n",
       "    </tr>\n",
       "    <tr>\n",
       "      <th>29</th>\n",
       "      <td>R51</td>\n",
       "      <td>doninger_2002</td>\n",
       "      <td>categorical data</td>\n",
       "      <td></td>\n",
       "    </tr>\n",
       "    <tr>\n",
       "      <th>30</th>\n",
       "      <td>R52</td>\n",
       "      <td>liu_2001</td>\n",
       "      <td>numerical data</td>\n",
       "      <td></td>\n",
       "    </tr>\n",
       "    <tr>\n",
       "      <th>31</th>\n",
       "      <td>R53</td>\n",
       "      <td>friden_2009</td>\n",
       "      <td>numerical data</td>\n",
       "      <td></td>\n",
       "    </tr>\n",
       "  </tbody>\n",
       "</table>\n",
       "</div>"
      ]
     },
     "execution_count": 5,
     "metadata": {},
     "output_type": "execute_result"
    }
   ],
   "execution_count": 5
  },
  {
   "cell_type": "code",
   "source": [
    "@cache\n",
    "def get_pubchem_session():\n",
    "    path_cache = os.path.join(os.getcwd(), \"caches\" , \"pubchem_session\")\n",
    "    session=requests_cache.CachedSession(path_cache, allowable_codes=[200], allowable_methods=[\"GET\", \"POST\"])\n",
    "    retries_adapter = HTTPAdapter(max_retries=Retry(total=5, backoff_factor=0.25))\n",
    "    session.mount('http://', retries_adapter)\n",
    "    session.mount('https://', retries_adapter)\n",
    "    return session\n",
    "\n",
    "\n",
    "QUERY_RESULT_SUCCESS = \"Success\"\n",
    "QUERY_RESULT_ERROR = \"Error, status code: \"  # Add status code\n",
    "QUERY_RESULT_NOT_FOUND = \"Not found\" #  Returned CID == 0, Pubchem does not always return 404 status code.\n",
    "QUERY_RESULT_INVALID_RESPONSE = \"Invalid response\"  # PropertyTable not there.\n",
    "\n",
    "def query_pubchem_compound_information(namespace, value):\n",
    "    \"\"\"\n",
    "    :param namespace:  cid | name | smiles | inchi | sdf | inchikey | formula etc.\n",
    "    \"\"\"\n",
    "    url = f\"https://pubchem.ncbi.nlm.nih.gov/rest/pug/compound/{namespace}/property/CanonicalSMILES,IsomericSMILES,InchiKey,IUPACName,Title/json\"\n",
    "    body = f\"{namespace}={urllib.parse.quote_plus(value)}\"\n",
    "    res = get_pubchem_session().post(url, body)\n",
    "\n",
    "    if not res.ok:\n",
    "        return None, QUERY_RESULT_ERROR + str(res.status_code)\n",
    "    d = res.json()\n",
    "    if \"PropertyTable\" in d:\n",
    "        retval = [c for c in d[\"PropertyTable\"][\"Properties\"] if c[\"CID\"] != 0]\n",
    "        if len(retval) == 0:\n",
    "            return None, QUERY_RESULT_NOT_FOUND\n",
    "        return retval, QUERY_RESULT_SUCCESS\n",
    "    return None, QUERY_RESULT_INVALID_RESPONSE\n",
    "\n",
    "\n",
    "PUBCHEM_SHELF_PATH = os.path.join(os.getcwd(), \"caches\",  \"pubchem_compound_shelf\")\n",
    "\n",
    "def get_pubchem_compound_information(namespace, value, shelf_path = PUBCHEM_SHELF_PATH):\n",
    "    with shelve.open(shelf_path) as shelf:\n",
    "        key = f\"{namespace}:{value}\"\n",
    "        if key not in shelf:\n",
    "            qr = query_pubchem_compound_information(namespace, value)\n",
    "            shelf[key] = qr\n",
    "        return shelf[key][0]\n",
    "\n",
    "# Example usage:\n",
    "# get_pubchem_compound_information(\"name\", \"tipredane\")\n",
    "# get_pubchem_compound_information(\"smiles\", \"CCSC3(CCC4C2CCC1=CC(=O)C=CC1(C)C2(F)C(O)CC34C)SC\")"
   ],
   "metadata": {
    "collapsed": false,
    "ExecuteTime": {
     "end_time": "2024-07-09T08:47:10.985363Z",
     "start_time": "2024-07-09T08:47:10.979411Z"
    }
   },
   "outputs": [],
   "execution_count": 6
  },
  {
   "cell_type": "code",
   "source": [
    "# Occasionally PubChem's API will fail, we recommend at least a single re-run of the notebook after pruning errors from the cache. \n",
    "# _to_del = []\n",
    "# with shelve.open(PUBCHEM_SHELF_PATH) as shelf:\n",
    "#     for k, v in shelf.items():\n",
    "#         if v[0] is None:\n",
    "#             _to_del.append(k)\n",
    "#     for td in _to_del:\n",
    "#         del shelf[td]\n",
    "        "
   ],
   "metadata": {
    "collapsed": false,
    "ExecuteTime": {
     "end_time": "2024-07-09T08:47:10.988370Z",
     "start_time": "2024-07-09T08:47:10.986374Z"
    }
   },
   "outputs": [],
   "execution_count": 7
  },
  {
   "cell_type": "code",
   "source": [
    "def sanitise_smiles(smi):\n",
    "    \"\"\"Minium cleaning of the smiles string, asserting it can be converted to rdkit's Mol object\"\"\"\n",
    "    if pd.isna(smi):\n",
    "        return None\n",
    "    smi = smi\\\n",
    "        .replace(\" \", \"\")\\\n",
    "        .replace(\"\\n\", \"\")\\\n",
    "        .replace(\"(H)\", \"([H])\") # There is a single case in the dataset where this is problematic: C(F)(F)(F)C(H)(H)OC=C.\n",
    "    sanitised = smiles_to_mol(smi)\n",
    "    return rdkit.Chem.MolToSmiles(sanitised) if sanitised else None\n",
    "\n",
    "\n",
    "# The following mappings were introduced for the compounds where the mapping exists in the original B3DB but is no longer available in our method.\n",
    "COMPOUND_RENAMES = {\n",
    "    \"FK506 (fujimycin)\": \"Fujimycin\",  # R7\n",
    "    \"FLUDARABINEPHOSPHATE\": \"FLUDARABINE PHOSPHATE\",  # R15\n",
    "    \"VASOPRESSIN\": \"argipressin\",  # R15\n",
    "    \"Terbutylchlorambucil\": \"Chlorambucil-tertiary butyl ester\", # R17\n",
    "    \"17-(dimethylaminoethylamino)-17-demethoxygeldamycin\": \"17-DMAG\", # R20\n",
    "    \"Campthothecin\": \"Camptothecin\", # R20\n",
    "    \"Aminocyclopentane Carboxylic Acid\": \"AminocyclopentaneCarboxylic Acid\", # R20\n",
    "    \"carbamazepine-10, 11-epoxide\": \"Carbamazepine epoxide\", # #R39, reverted to the original name (less hyphen)\n",
    "    \"6 (Ms-275)\": \"Ms-275\",\n",
    "    \"HEPP (beta-ethyl-beta-hydroxybenzenepropanamide)\": \"beta-ethyl-beta-hydroxybenzenepropanamide\",\n",
    "    \"desmethydesipramine (didesipramine or Desdimethylimipramine)\": \"didesipramine\",\n",
    "    \"5-Butyl-5-ethyl barbituric acid (Butethal)\": \"Butethal\",\n",
    "    \"propyl-4-aminobenzoate (risocaine)\": \"Risocaine\",\n",
    "    \"Org5222 (asenapine)\": \"asenapine\",\n",
    "    \"HEPP (beta-ethyl-beta-hydroxybenzenepropanamide) (3-hydroxy-3-phenylpentamide)\": \"3-hydroxy-3-phenylpentamide\",\n",
    "    \"ethyl 4-aminobenzoate (benzocaine)\": \"benzocaine\",\n",
    "    \"vitamine (alpha-tocopherol)\": \"vitamin e\",\n",
    "    \"vitamine(alpha-tocopherol)\": \"vitamin e\",\n",
    "    \"flumethasone21pivalate(flumetasone-pivalate)\": \"flumetasone-pivalate\",\n",
    "    \"flumethasone21pivalate (flumetasone-pivalate)\": \"flumetasone-pivalate\",\n",
    "    \"MSP (N-methylspiroperidol)\": \"N-methylspiroperidol\",\n",
    "    \"isothamine(profenamine)\": \"profenamine\",\n",
    "    \"isothamine (profenamine)\": \"profenamine\",\n",
    "    \"methylprednisolone21hemisuccinate (methylprednisolone-hemisuccinate)\": \"methylprednisolone-hemisuccinate\",\n",
    "    \"methylprednisolone21hemisuccinate(methylprednisolone-hemisuccinate)\": \"methylprednisolone-hemisuccinate\",\n",
    "    \"misonidazolefluoro (Fluoromisonidazole)\": \"Fluoromisonidazole\",\n",
    "    \"Misonidazolefluoro (Fluoromisonidazole)\": \"Fluoromisonidazole\",\n",
    "    \"Misonidazolefluoro(Fluoromisonidazole)\": \"Fluoromisonidazole\",\n",
    "    \"12dichlorotetrafluoroethane (cryofluorane)\": \"cryofluorane\",\n",
    "    \"propene (propylene)\": \"propylene\",\n",
    "    \"propyl-4-aminobenzoate (risocaine)\": \"risocaine\",\n",
    "    \"scopolamide (scopolamine)\": \"scopolamine\",\n",
    "    \"2methylthiophencyclidine (gacyclidine)\": \"gacyclidine\",\n",
    "    \"7amphetaminoethyltheophylline (fenetylline)\": \"fenetylline\",\n",
    "    \"cyclosporina (ciclosporin)\": \"cyclosporin\",\n",
    "    \"neomycinbas2ethylbutyrate (framycetin)\": \"framycetin\",\n",
    "    \"amdinocillinpivoxil (pivmecillinam)\": \"pivmecillinam\",\n",
    "    \"α-hydroxyalprazolam (alpha-hydroxyalprazolam)\": \"alpha-hydroxyalprazolam\",\n",
    "    \"SKF89124 (7-hydroxy ropinirole)\": \"7-hydroxy ropinirole\",\n",
    "    \"5-butyl-5-ethyl barbituric acid (Butethal)\": \"Butethal\",\n",
    "    \"5-heptyl-5-ethyl barbituric acid (5-ethyl-5-heptyl-1,3-diazinane-2,4,6-trione)\": \"5-ethyl-5-heptyl-1,3-diazinane-2,4,6-trione\",\n",
    "    \"5-hexyl-5-ethyl barbituric acid (ortal)\": \"ortal\",\n",
    "    \"5-methyl-5-ethyl barbituric acid (NSC 30403)\": \"NSC 30403\",\n",
    "    \"5-propyl-5-ethyl barbituric acid (5-ethyl-5-propyl-1,3-diazinane-2,4,6-trione)\": \"5-ethyl-5-propyl-1,3-diazinane-2,4,6-trione\",\n",
    "    \"desmethyldesipramine (didesipramine)\": \"didesipramine\",\n",
    "    \"donezepil (donepezil)\": \"donepezil\",\n",
    "    \"nor-2-chlorpromazine (didemethylchlorpromazine)\": \"didemethylchlorpromazine\",\n",
    "    \"cloticasone(cloticasone-propionate)\" : \"cloticasone propionate\", \n",
    "    \"cloticasone (cloticasone-propionate)\": \"cloticasone propionate\",\n",
    "    \"loteprednol(loteprednol-etabonate)\": \"loteprednol etabonate\",\n",
    "    \"loteprednol (loteprednol-etabonate)\": \"loteprednol etabonate\",\n",
    "    \"beclomethasonedipropionate(beclometasone-dipropionate)\": \"beclometasone dipropionate\",\n",
    "    \"beclomethasonedipropionate (beclometasone-dipropionate)\": \"beclometasone dipropionate\",\n",
    "    \"ticabesone(ticabesone-propionate)\": \"ticabesone-propionate\",\n",
    "    \"ticabesone (ticabesone-propionate)\": \"ticabesone-propionate\",\n",
    "    \"1,1,2-trichloroethane (vinyltrichloride)\": \"vinyltrichloride\",\n",
    "    \"7 (CI-994)\": \"CI-994\",\n",
    "    \"mikamycin (pristinamycin-ia)\": \"pristinamycin-ia\",\n",
    "    \"cormethasoneacetate (cormetasone-acetate)\": \"cormetasone acetate\", \n",
    "    \"hydrocortisonecypionate (hydrocortisone-cipionate)\": \"hydrocortisone cypionate\",\n",
    "    \"erythromycin-ethylcarbonate\": \"erythromycin ethylcarbonate\",\n",
    "    \"AmphotericinB\": \"Amphotericin B\",\n",
    "    \"Ivermectin 1a\": \"Ivermectin B1a\",\n",
    "    \"PHENOBARBITAL/PHENOBARBITONE\": \"Phenobarbital\",\n",
    "}\n",
    "\n",
    "\n",
    "def clean_name(name, datasource_source_id):\n",
    "    if pd.isna(name):\n",
    "        return None\n",
    "    if name == \"-\":\n",
    "        return None\n",
    "    \n",
    "    name = str(name).replace(\"\\n\", \"\").replace(\"\\r\", \"\").strip().replace(\"ﬂu\", \"flu\")\n",
    "    name = name.split(\"\\r\\n\")[0]\n",
    "    \n",
    "    # In R9 and R36 there are cases of date conversion. The original names are, for example 5-69. After the manual inspection, they cannot be reconciled in PubChem and hence they are ignored. An alternative would be to replace them with the original names from the paper. \n",
    "    if name.endswith(\"00:00:00\"):\n",
    "        return None\n",
    "    if name in COMPOUND_RENAMES:\n",
    "        return COMPOUND_RENAMES.get(name, name)\n",
    "    if \"CID \" in name:\n",
    "        cid = name.split(\"CID \")[1].split(\" \")[0].rstrip(\")\")\n",
    "        return f\"CID {cid}\"\n",
    "    if datasource_source_id in {\"R1\", \"R30\"} and \"(\" in name and \"-(\" not in name:\n",
    "        name = name.replace(\"(\", \" (\")\n",
    "    name = name.split(\" (\")[0].rstrip(\" \")\n",
    "    return name\n",
    "\n",
    "assert clean_name(\"vitamine (alpha-tocopherol)\", \"\") == \"vitamin e\"\n",
    "assert clean_name(\"caffeine  (1,3,7-Trimethylxanthine)\", \"\") == \"caffeine\"\n",
    "assert clean_name(\"Org32104 (CID 22154175)\", \"\") == \"CID 22154175\"\n",
    "assert clean_name(\"flumethasone21pivalate(flumetasone-pivalate)\", \"\") == \"flumetasone-pivalate\"\n",
    "\n",
    "# Similar to COMPOUND_RENAMES but for the cases where search by IUPAC name returns 404.\n",
    "COMPOUND_NAME_MAPS = {\n",
    "    \"(4As,7R,7aR,12bS)-9-methoxy-3-methyl-1,2,4,5,6,7,7a,13-octahydro-4,12-methanobenzofuro[3,2-e]isoquinoline-4a,7-diol\": 131770023 ,  # R20\n",
    "    #\"Nor-2-chlorpromazine (CID 74981)\": 74981,  # R47:280\n",
    "    \"AI-9\": 204104,  # R47:100\n",
    "    \"everolimus, RAD001\": 6442177,# R26:183\n",
    "    \"3-bromocytisine\":  9807561, # R46:351  - SMILES in the record \n",
    "    \"alpha-(4-pyridyl-1-oxide)-N-tert-butylnitrone\": 135532295, # R21:281 SMILES in the record\n",
    "    #\"CID 10451635 (2-(3'-Iodo-4'-aminophenyl)-6- hydroxybenzothiazole)\": 10451635,\n",
    "    # \"phenyl-N-tert-butylnitrone (CID 10313352)\": 10313352,\n",
    "    #\"Org32104 (CID 22154175)\": 22154175,\n",
    "    #\"Org34167 (CID 9861160)\": 9861160,\n",
    "    #\"Lin_train_55 (CID 23235109)\": 23235109, \n",
    "}   \n",
    "\n",
    "\n",
    "def get_pubchem_compound_by_smiles(smi):\n",
    "    if pd.isna(smi):\n",
    "        return None\n",
    "    smi = smi.replace(\" \", \"\").replace(\"\\n\", \"\")\n",
    "    by_smiles = get_pubchem_compound_information(\"smiles\", smi)\n",
    "    if by_smiles:\n",
    "        assert len(by_smiles) <= 1, f\"by_smiles invalid length (should be 1): {by_smiles}\"\n",
    "        return by_smiles[0]\n",
    "        \n",
    "\n",
    "def _get_pubchem_compound_by_name(name):\n",
    "    if pd.isna(name):\n",
    "        return None\n",
    "    if type(name) is not str:\n",
    "        print(\"name\", name)\n",
    "    if \"CID \" in name:\n",
    "        cid = name.split(\"CID \")[1].split(\" \")[0].rstrip(\")\")\n",
    "        return get_pubchem_compound_information(\"cid\", cid)\n",
    "    if name in COMPOUND_NAME_MAPS:\n",
    "        return get_pubchem_compound_information(\"cid\", str(COMPOUND_NAME_MAPS[name]))\n",
    "    return get_pubchem_compound_information(\"name\", name)\n",
    "\n",
    "assert _get_pubchem_compound_by_name(\"AI-9\")[0][\"CID\"] == 204104\n",
    "assert _get_pubchem_compound_by_name(\"Org32104 (CID 22154175)\")[0][\"CID\"] == 22154175\n",
    "    \n",
    "def resolve_ids(df, data_source_size, information_available, col_id, col_name, col_smiles):\n",
    "    assert data_source_size == len(df), f\"counts mismatch: expected {data_source_size}, found {len(df)}\"\n",
    "\n",
    "    df[\"pubchem_compound_by_id\"] = df[col_id].apply(lambda x: get_pubchem_compound_information(\"cid\", str(int(x)))[0] if pd.notna(x) else None) if \"CID\" in information_available else None\n",
    "\n",
    "    df[\"pubchem_compound_by_structure\"] = df[col_smiles].apply(get_pubchem_compound_by_smiles) if \"smiles\" in information_available else None\n",
    "    \n",
    "    df[\"pubchem_compounds_by_name\"] = df[col_name].apply(_get_pubchem_compound_by_name) if \"name\" in information_available else None\n",
    "\n",
    "    return df"
   ],
   "metadata": {
    "collapsed": false,
    "ExecuteTime": {
     "end_time": "2024-07-09T08:47:11.010632Z",
     "start_time": "2024-07-09T08:47:10.989185Z"
    }
   },
   "outputs": [],
   "execution_count": 8
  },
  {
   "cell_type": "code",
   "source": [
    "%%time\n",
    "df_all = pd.DataFrame()\n",
    "\n",
    "for datasource in (d for d in get_datasource_information() if d[\"ID\"] in references_used):\n",
    "    print(\"Resolving CIDs for raw datasource:\", datasource[\"ID\"])\n",
    "    information_available = datasource[\"Information Available\"]\n",
    "    \n",
    "    df_raw = get_b3db_r_df(datasource[\"ID\"])\n",
    "    df_raw[\"reference\"] = datasource[\"ID\"]\n",
    "    df_raw[\"cid_cleaned\"] = None\n",
    "    df_raw[\"smiles_sanitised\"] = None\n",
    "    df_raw[\"compound_name_cleaned\"] = None\n",
    "    df_raw[\"logBB_cleaned\"] = None\n",
    "    df_raw[\"BBB+/BBB-_cleaned\"] = None\n",
    "    if \"CID\" in information_available:\n",
    "    # R10 and R16 originally use a padded CID1 notation, e.g. 'CID100000297' for Methane which we need to translate to '297'.  \n",
    "        df_raw[\"cid_cleaned\"] = df_raw[\"CID\"].apply(lambda x: int(str(x).lstrip(\"1\").lstrip(\"0\"))) if datasource[\"ID\"] in {\"R10\", \"R16\"} else df_raw[\"CID\"]  \n",
    "    if \"smiles\" in information_available:\n",
    "        df_raw[\"smiles_sanitised\"] =  df_raw[\"smiles\"].apply(sanitise_smiles)\n",
    "    if \"name\" in information_available:\n",
    "        df_raw[\"compound_name_cleaned\"] = df_raw.compound_name.apply(lambda x: clean_name(x, datasource[\"ID\"]))\n",
    "    \n",
    "    if \"numerical\" in datasource[\"Data Type\"]:\n",
    "        df_raw[\"logBB_cleaned\"] = df_raw[\"logBB\"].apply(lambda x: round(float(str(x).replace(\"−\", \"-\")), 2) if pd.notna(x) else None)\n",
    "    if \"categorical\" in datasource[\"Data Type\"]:\n",
    "        df_raw[\"BBB+/BBB-_cleaned\"] = df_raw[\"BBB+/BBB-\"]\n",
    "    \n",
    "    df_resolved_ids = resolve_ids(df_raw, datasource[\"Data Source Size\"], information_available, col_id=\"cid_cleaned\", col_smiles=\"smiles_sanitised\", col_name=\"compound_name_cleaned\")\n",
    "    \n",
    "    print(list(df_all) == list(df_resolved_ids), df_resolved_ids.empty)\n",
    "    df_all = pd.concat([df_all, df_resolved_ids])\n",
    "df_all[\"record_id\"] = list(map(lambda x: f\"{x[1]}_{references_id_to_first_author_year[x[1]]}:{x[0]+1}\", zip(df_all.index, df_all.reference)))\n",
    "df_all = df_all.reset_index(drop=True)\n",
    "\n",
    "# Last run 06/07/2024"
   ],
   "metadata": {
    "collapsed": false,
    "ExecuteTime": {
     "end_time": "2024-07-09T08:47:16.551115Z",
     "start_time": "2024-07-09T08:47:11.011677Z"
    }
   },
   "outputs": [
    {
     "name": "stdout",
     "output_type": "stream",
     "text": [
      "Resolving CIDs for raw datasource: R3\n",
      "False False\n",
      "Resolving CIDs for raw datasource: R4\n",
      "True False\n",
      "Resolving CIDs for raw datasource: R5\n",
      "True False\n",
      "Resolving CIDs for raw datasource: R6\n",
      "True False\n",
      "Resolving CIDs for raw datasource: R7\n",
      "True False\n",
      "Resolving CIDs for raw datasource: R12\n"
     ]
    },
    {
     "name": "stderr",
     "output_type": "stream",
     "text": [
      "<timed exec>:30: FutureWarning: The behavior of DataFrame concatenation with empty or all-NA entries is deprecated. In a future version, this will no longer exclude empty or all-NA columns when determining the result dtypes. To retain the old behavior, exclude the relevant entries before the concat operation.\n",
      "<timed exec>:30: FutureWarning: The behavior of DataFrame concatenation with empty or all-NA entries is deprecated. In a future version, this will no longer exclude empty or all-NA columns when determining the result dtypes. To retain the old behavior, exclude the relevant entries before the concat operation.\n"
     ]
    },
    {
     "name": "stdout",
     "output_type": "stream",
     "text": [
      "True False\n",
      "Resolving CIDs for raw datasource: R14\n",
      "True False\n",
      "Resolving CIDs for raw datasource: R17\n",
      "True False\n",
      "Resolving CIDs for raw datasource: R21\n"
     ]
    },
    {
     "name": "stderr",
     "output_type": "stream",
     "text": [
      "<timed exec>:30: FutureWarning: The behavior of DataFrame concatenation with empty or all-NA entries is deprecated. In a future version, this will no longer exclude empty or all-NA columns when determining the result dtypes. To retain the old behavior, exclude the relevant entries before the concat operation.\n"
     ]
    },
    {
     "name": "stdout",
     "output_type": "stream",
     "text": [
      "False False\n",
      "Resolving CIDs for raw datasource: R22\n",
      "True False\n",
      "Resolving CIDs for raw datasource: R23\n",
      "True False\n",
      "Resolving CIDs for raw datasource: R25\n"
     ]
    },
    {
     "name": "stderr",
     "output_type": "stream",
     "text": [
      "<timed exec>:30: FutureWarning: The behavior of DataFrame concatenation with empty or all-NA entries is deprecated. In a future version, this will no longer exclude empty or all-NA columns when determining the result dtypes. To retain the old behavior, exclude the relevant entries before the concat operation.\n"
     ]
    },
    {
     "name": "stdout",
     "output_type": "stream",
     "text": [
      "True False\n",
      "Resolving CIDs for raw datasource: R26\n",
      "True False\n",
      "Resolving CIDs for raw datasource: R28\n",
      "True False\n",
      "Resolving CIDs for raw datasource: R29\n",
      "True False\n",
      "Resolving CIDs for raw datasource: R31\n",
      "True False\n",
      "Resolving CIDs for raw datasource: R34\n"
     ]
    },
    {
     "name": "stderr",
     "output_type": "stream",
     "text": [
      "<timed exec>:30: FutureWarning: The behavior of DataFrame concatenation with empty or all-NA entries is deprecated. In a future version, this will no longer exclude empty or all-NA columns when determining the result dtypes. To retain the old behavior, exclude the relevant entries before the concat operation.\n",
      "<timed exec>:30: FutureWarning: The behavior of DataFrame concatenation with empty or all-NA entries is deprecated. In a future version, this will no longer exclude empty or all-NA columns when determining the result dtypes. To retain the old behavior, exclude the relevant entries before the concat operation.\n"
     ]
    },
    {
     "name": "stdout",
     "output_type": "stream",
     "text": [
      "True False\n",
      "Resolving CIDs for raw datasource: R37\n",
      "True False\n",
      "Resolving CIDs for raw datasource: R39\n",
      "True False\n",
      "Resolving CIDs for raw datasource: R40\n"
     ]
    },
    {
     "name": "stderr",
     "output_type": "stream",
     "text": [
      "<timed exec>:30: FutureWarning: The behavior of DataFrame concatenation with empty or all-NA entries is deprecated. In a future version, this will no longer exclude empty or all-NA columns when determining the result dtypes. To retain the old behavior, exclude the relevant entries before the concat operation.\n",
      "<timed exec>:30: FutureWarning: The behavior of DataFrame concatenation with empty or all-NA entries is deprecated. In a future version, this will no longer exclude empty or all-NA columns when determining the result dtypes. To retain the old behavior, exclude the relevant entries before the concat operation.\n"
     ]
    },
    {
     "name": "stdout",
     "output_type": "stream",
     "text": [
      "True False\n",
      "Resolving CIDs for raw datasource: R41\n",
      "True False\n",
      "Resolving CIDs for raw datasource: R42\n",
      "True False\n",
      "Resolving CIDs for raw datasource: R44\n",
      "True False\n",
      "Resolving CIDs for raw datasource: R45\n",
      "True False\n",
      "Resolving CIDs for raw datasource: R46\n",
      "True False\n",
      "Resolving CIDs for raw datasource: R47\n",
      "True False\n",
      "Resolving CIDs for raw datasource: R48\n",
      "True False\n",
      "Resolving CIDs for raw datasource: R49\n",
      "True False\n",
      "Resolving CIDs for raw datasource: R50\n",
      "True False\n",
      "Resolving CIDs for raw datasource: R51\n",
      "True False\n",
      "Resolving CIDs for raw datasource: R52\n",
      "True False\n",
      "Resolving CIDs for raw datasource: R53\n",
      "True False\n",
      "CPU times: user 2.98 s, sys: 1.35 s, total: 4.33 s\n",
      "Wall time: 5.53 s\n"
     ]
    },
    {
     "name": "stderr",
     "output_type": "stream",
     "text": [
      "<timed exec>:30: FutureWarning: The behavior of DataFrame concatenation with empty or all-NA entries is deprecated. In a future version, this will no longer exclude empty or all-NA columns when determining the result dtypes. To retain the old behavior, exclude the relevant entries before the concat operation.\n"
     ]
    }
   ],
   "execution_count": 9
  },
  {
   "cell_type": "code",
   "source": [
    "NO_MATCH_FOUND = \"No matches found\"\n",
    "NO_MATCH_FOUND_INVALID_SMILES = \"No matches found, SMILES invalid\"\n",
    "\n",
    "MATCHED_BY_ID = \"Matched by ID\"\n",
    "MATCHED_BY_STRUCTURE = \"Matched by structure\"\n",
    "MATCHED_BY_NAME = \"Matched by name\"\n",
    "MATCHED_BY_NAME_OTHER_MATCHES_AVAILABLE = \"Matched by name, other name matches available\"\n",
    "\n",
    "MATCHED_BY_ID_STRUCTURE_AND_NAME = \"Matched by ID, structure and name\"\n",
    "\n",
    "MATCHED_BY_ID_AND_STRUCTURE = \"Matched by ID and structure\"\n",
    "CONFLICT_BETWEEN_ID_AND_STRUCTURE = \"Conflict between ID and structure\"\n",
    "\n",
    "MATCHED_BY_ID_AND_NAME = \"Matched by ID and name\"\n",
    "MATCHED_BY_ID_AND_NAME_OTHER_MATCHES_AVAILABLE = \"Matched by ID and name, other name matches available\"\n",
    "CONFLICT_BETWEEN_ID_AND_NAME = \"Conflict between ID and name\"\n",
    "\n",
    "MATCHED_BY_STRUCTURE_AND_NAME = \"Matched by structure and name\"\n",
    "MATCHED_BY_STRUCTURE_AND_NAME_OTHER_MATCHES_AVAILABLE = \"Matched by structure and name, other name matches available\"\n",
    "\n",
    "CONFLICT_BETWEEN_NAME_AND_STRUCTURE = \"Conflict between name and structure\"\n",
    "\n",
    "\n",
    "def resolve_pubchem_id(by_id, by_structure, by_name, original_smiles, minimum_similarity):\n",
    "    \"\"\"\n",
    "    original_smiles are here only for the NO_MATCH_FOUND_INVALID_SMILES check.\n",
    "    minumum_similarity - (0-1) threshold of Tanimoto similarity measure  \n",
    "    # This prioritises ID over structure \n",
    "    \"\"\"\n",
    "    if pd.notna(by_id):\n",
    "        _matched_id_to_structure = by_id[\"CID\"] == by_structure[\"CID\"] or get_tanimoto_distance(by_id[\"CanonicalSMILES\"], by_structure[\"CanonicalSMILES\"]) >= minimum_similarity if pd.notna(by_structure) else False\n",
    "        _matched_id_to_name = by_id[\"CID\"] in {i[\"CID\"] for i in by_name if get_tanimoto_distance(by_id[\"CanonicalSMILES\"], i[\"CanonicalSMILES\"]) >= minimum_similarity} if type(by_name) is list and len(by_name) > 0 else False\n",
    "        \n",
    "        if pd.notna(by_structure) and type(by_name) is list:\n",
    "            if _matched_id_to_structure and _matched_id_to_name:\n",
    "                return by_id[\"CID\"], MATCHED_BY_ID_STRUCTURE_AND_NAME\n",
    "        \n",
    "        if pd.notna(by_structure):\n",
    "            if _matched_id_to_structure:\n",
    "                return by_id[\"CID\"], MATCHED_BY_ID_AND_STRUCTURE\n",
    "            else:\n",
    "                return None, CONFLICT_BETWEEN_ID_AND_STRUCTURE        \n",
    "        \n",
    "        elif type(by_name) is list and len(by_name) > 0:\n",
    "            by_name_tanimoto = sorted(\n",
    "                [(\n",
    "                    c_b_n,\n",
    "                    get_tanimoto_distance(by_id[\"CanonicalSMILES\"], c_b_n[\"CanonicalSMILES\"])\n",
    "                ) for c_b_n in by_name],\n",
    "                key=lambda x: x[1],\n",
    "                reverse=True\n",
    "            )\n",
    "            by_name_tanimoto_filtered = [b_n_t for b_n_t in by_name_tanimoto if b_n_t[1] >= minimum_similarity or b_n_t[0][\"CID\"] == by_id[\"CID\"]]\n",
    "            if len(by_name_tanimoto_filtered) == 0:\n",
    "                return None, CONFLICT_BETWEEN_ID_AND_NAME\n",
    "            for b_n_t_f in by_name_tanimoto_filtered:\n",
    "                if b_n_t_f[0][\"CID\"] == by_id[\"CID\"]:\n",
    "                    return b_n_t_f[0][\"CID\"], MATCHED_BY_ID_AND_NAME\n",
    "\n",
    "            return by_name_tanimoto_filtered[0][0][\"CID\"], MATCHED_BY_ID_AND_NAME\n",
    "            \n",
    "        return by_id[\"CID\"], MATCHED_BY_ID\n",
    "    \n",
    "    \n",
    "    if pd.notna(by_structure) and type(by_name) is list and len(by_name) > 0: \n",
    "        with datamol.without_rdkit_log():\n",
    "            by_name_tanimoto = sorted(\n",
    "                [(\n",
    "                    c_b_n,\n",
    "                    get_tanimoto_distance(by_structure[\"CanonicalSMILES\"], c_b_n[\"CanonicalSMILES\"])\n",
    "                ) for c_b_n in by_name],\n",
    "                key=lambda x: x[1],\n",
    "                reverse=True\n",
    "            )\n",
    "            by_name_tanimoto_filtered = [b_n_t for b_n_t in by_name_tanimoto if b_n_t[1] >= minimum_similarity or b_n_t[0][\"CID\"] == by_structure[\"CID\"]]\n",
    "            if len(by_name_tanimoto_filtered) == 0:\n",
    "                ### START parent structure / name match\n",
    "                # There are 231 cases where the name refers to legitimate parent of the structure. E.g. Doxycycline R1:209 where structure matches 54684461 (doxycycline monohydrate) and conflicts with the name, parent points to 54671203. Of 22 cases in similar CID / Name mismatch there are no examples where this happens, therefore this addiitonal check is not included there. Ideally we could have this data in the dataframe, however to avoid circular setting (for some datapoints it is only after this step where we have the structure to extract parent) we do an odd call from within this loop. \n",
    "                # TODO check if parent molecule resolves by name.\n",
    "                smi_parent, _ = chembl_parent_from_smiles(by_structure[\"CanonicalSMILES\"])\n",
    "                if smi_parent:\n",
    "                    by_parent_structure = get_pubchem_compound_by_smiles(smi_parent)\n",
    "                    if by_parent_structure:\n",
    "                        by_name_parent_tanimoto = sorted([\n",
    "                            (c_b_n, get_tanimoto_distance(smi_parent, c_b_n[\"CanonicalSMILES\"])) \n",
    "                             for c_b_n in by_name\n",
    "                        ], key=lambda x: x[1], reverse=True)\n",
    "\n",
    "                        by_name_parent_tanimoto_filtered = [b_n_p_t[0] for b_n_p_t in by_name_parent_tanimoto if b_n_p_t[1] >= minimum_similarity or b_n_p_t[0][\"CID\"] == by_parent_structure[\"CID\"]]\n",
    "                        if len(by_name_parent_tanimoto_filtered) > 0:\n",
    "                            matching_comment = MATCHED_BY_STRUCTURE_AND_NAME if len(by_name_parent_tanimoto_filtered) == 1 else MATCHED_BY_STRUCTURE_AND_NAME_OTHER_MATCHES_AVAILABLE if len(by_name_parent_tanimoto_filtered) > 1 else None\n",
    "                            for b_n_t_p_f in by_name_parent_tanimoto_filtered:\n",
    "                                if b_n_t_p_f[\"CID\"] == by_parent_structure[\"CID\"]:\n",
    "                                    return b_n_t_p_f[\"CID\"], matching_comment\n",
    "                                return by_name_parent_tanimoto_filtered[0][\"CID\"], matching_comment\n",
    "                ### END parent structure / name match     \n",
    "                \n",
    "                return None, CONFLICT_BETWEEN_NAME_AND_STRUCTURE\n",
    "\n",
    "            matching_comment = MATCHED_BY_STRUCTURE_AND_NAME if len(by_name_tanimoto_filtered) == 1 else MATCHED_BY_STRUCTURE_AND_NAME_OTHER_MATCHES_AVAILABLE\n",
    "\n",
    "            for b_n_t_f in by_name_tanimoto_filtered:\n",
    "                if b_n_t_f[0][\"CID\"] == by_structure[\"CID\"]:\n",
    "                    return b_n_t_f[0][\"CID\"], matching_comment\n",
    "\n",
    "            return by_name_tanimoto_filtered[0][0][\"CID\"], matching_comment\n",
    "    elif pd.notna(by_id):\n",
    "        return by_id[\"CID\"], MATCHED_BY_ID\n",
    "    elif pd.notna(by_structure):\n",
    "        return by_structure[\"CID\"], MATCHED_BY_STRUCTURE\n",
    "    elif type(by_name) is list and len(by_name) > 0:\n",
    "        return by_name[0][\"CID\"], MATCHED_BY_NAME\n",
    "    elif pd.notna(original_smiles) and smiles_to_mol(original_smiles) is None:\n",
    "        return None, NO_MATCH_FOUND_INVALID_SMILES\n",
    "    else:\n",
    "        return None, NO_MATCH_FOUND"
   ],
   "metadata": {
    "collapsed": false,
    "ExecuteTime": {
     "end_time": "2024-07-09T08:47:16.565427Z",
     "start_time": "2024-07-09T08:47:16.552717Z"
    }
   },
   "outputs": [],
   "execution_count": 10
  },
  {
   "cell_type": "markdown",
   "source": [
    "### Effect of using different minimum similarity to reconcile between structure and name matches form PubChem"
   ],
   "metadata": {
    "collapsed": false
   }
  },
  {
   "cell_type": "code",
   "source": [
    "percent_step = 5\n",
    "df_ms_comments = pd.DataFrame()\n",
    "for min_sim in range(0, 100+percent_step, percent_step):\n",
    "    _df = df_all.apply(axis=\"columns\", result_type=\"expand\", func=lambda x: resolve_pubchem_id(x.pubchem_compound_by_id, x.pubchem_compound_by_structure, x.pubchem_compounds_by_name, x.smiles, minimum_similarity=min_sim/100))[1].value_counts().to_frame()\n",
    "    _df[\"minimum_similarity\"] = min_sim\n",
    "    df_ms_comments = pd.concat([df_ms_comments, _df])\n",
    "    #print(min_sim)\n",
    "df_ms_comments = df_ms_comments.reset_index().rename(columns={1:\"comment\"})\n",
    "_d_comment_max_count = df_ms_comments.groupby(\"comment\")[\"count\"].agg(\"max\").to_dict()\n",
    "df_ms_comments[\"count_normalised\"] = df_ms_comments.apply(axis=\"columns\", func=lambda x: x[\"count\"] / _d_comment_max_count[x[\"comment\"]])\n",
    "\n",
    "fig, axs = plt.subplots(2, 1, figsize = [6, 8])\n",
    "ax = sns.lineplot(df_ms_comments, x=\"minimum_similarity\", y=\"count\", hue=\"comment\", ax=axs[0])\n",
    "sns.move_legend(axs[0], \"upper left\", bbox_to_anchor=(1, 0.4))\n",
    "ax.set_xlabel(\"\")\n",
    "ax = sns.lineplot(df_ms_comments, x=\"minimum_similarity\", y=\"count_normalised\", hue=\"comment\", ax=axs[1], legend=False)\n",
    "_ = fig.suptitle(\"Effect of minimum similarity for reconciling name and structure matches\", size=14)"
   ],
   "metadata": {
    "collapsed": false,
    "ExecuteTime": {
     "end_time": "2024-07-09T08:47:33.667469Z",
     "start_time": "2024-07-09T08:47:16.568945Z"
    }
   },
   "outputs": [
    {
     "data": {
      "text/plain": [
       "<Figure size 600x800 with 2 Axes>"
      ],
      "image/png": "[encoded data removed]"
     },
     "metadata": {},
     "output_type": "display_data"
    }
   ],
   "execution_count": 11
  },
  {
   "cell_type": "code",
   "source": [
    "df_all[[\"pubchem_cid\", \"pubchem_cid_matching_comment\"]] = df_all.progress_apply(axis=\"columns\", result_type=\"expand\", func=lambda x: resolve_pubchem_id(x.pubchem_compound_by_id, x.pubchem_compound_by_structure, x.pubchem_compounds_by_name, x.smiles, minimum_similarity=0.8))\n",
    "df_all.pubchem_cid_matching_comment.value_counts()"
   ],
   "metadata": {
    "collapsed": false,
    "ExecuteTime": {
     "end_time": "2024-07-09T08:47:34.144183Z",
     "start_time": "2024-07-09T08:47:33.668389Z"
    }
   },
   "outputs": [
    {
     "name": "stderr",
     "output_type": "stream",
     "text": [
      "100%|██████████| 9923/9923 [00:00<00:00, 22061.21it/s]\n"
     ]
    },
    {
     "data": {
      "text/plain": [
       "pubchem_cid_matching_comment\n",
       "Matched by structure and name                                  5714\n",
       "Matched by structure                                           1723\n",
       "Matched by name                                                1373\n",
       "Matched by structure and name, other name matches available     310\n",
       "Matched by ID, structure and name                               281\n",
       "No matches found                                                241\n",
       "Conflict between name and structure                             180\n",
       "Matched by ID and structure                                      73\n",
       "No matches found, SMILES invalid                                 20\n",
       "Conflict between ID and structure                                 4\n",
       "Matched by ID and name                                            4\n",
       "Name: count, dtype: int64"
      ]
     },
     "execution_count": 12,
     "metadata": {},
     "output_type": "execute_result"
    }
   ],
   "execution_count": 12
  },
  {
   "cell_type": "code",
   "source": [
    "assert len(df_all[pd.isna(df_all.smiles_sanitised) & pd.isna(df_all.pubchem_cid) & pd.notna(df_all.CID)]) < 50, \"It should be very uncommon for B3DB to provide CID when this method cannot resolve it due to SMILES sanitisation. Those should be limited to There are 4 cases in R27 (LightBBB) where it seems like are multiple SMILES in the relevant field. Further cases should be related to what seems like manual direct matches (e.g. by adjusting the name of the compound) and CIDs in the CID1<NO> format.\"  # Previous iteration # == 55\n",
    "assert len(df_all[pd.isna(df_all.pubchem_cid)]) <= len(df_all[pd.isna(df_all.CID)]) , \"Given normalisation, the method should able to reconcile at least as many PubChem IDs as B3DB paper\"\n",
    "assert len(df_all[(df_all.pubchem_cid != df_all.CID) & pd.notna(df_all.CID) & (df_all.pubchem_cid_matching_comment == NO_MATCH_FOUND_INVALID_SMILES)]) == 0\n",
    "assert len(df_all[(df_all.pubchem_cid != df_all.CID) & pd.notna(df_all.CID) & (df_all.pubchem_cid_matching_comment == NO_MATCH_FOUND)]) == 1, \"There is a single case (R7:16) where B3DB authors mapped the compound manually. In the previous iteration #=7 - there are 2 cases where we the assignment of the original CID is unclear and 4 cases from R27 where the row data seems to contain multiple formulas.\""
   ],
   "metadata": {
    "collapsed": false,
    "ExecuteTime": {
     "end_time": "2024-07-09T08:47:34.154426Z",
     "start_time": "2024-07-09T08:47:34.145893Z"
    }
   },
   "outputs": [],
   "execution_count": 13
  },
  {
   "cell_type": "markdown",
   "source": [
    "## ChEMBL \"parent\" extraction \n",
    "\n",
    "At this stage we have the initial resolved CIDs from the raw records. \n",
    "In this step, as per the B3DB paper, we leverage the ChEMBL pipeline to extract \"parent\" compounds based on the SMILES from the resolved CIDs (where present) and sanitised_smiles (where CIDs are not available).  \n",
    "\n",
    "### PubChem SMILES canonicalisation\n",
    "PubChem SMILES canonicalisation process is not compatible with ChEMBL. For example, Morphine's (https://pubchem.ncbi.nlm.nih.gov/compound/5288826) SMILES (both canonical and isomeric) do not match the diagram exactly and are modified by ```chembl_structure_pipeline.get_parent_mol```. In ChEMBL, Morphine (CHEMBL70) has no parent. This is remedied by using PubChem's SDF files which preserve the structure. "
   ],
   "metadata": {
    "collapsed": false
   }
  },
  {
   "cell_type": "code",
   "source": [
    "PUBCHEM_SPACIAL_DATA_SHELF_PATH = os.path.join(os.getcwd(), \"caches\", \"pubchem_compound_spacial_data_shelf\")\n",
    "def get_pubchem_compound_spacial_data(cid, shelf_path=PUBCHEM_SPACIAL_DATA_SHELF_PATH):\n",
    "    cid = str(cid)\n",
    "    with shelve.open(shelf_path) as shelf:\n",
    "        if cid not in shelf:        \n",
    "            url = f\"https://pubchem.ncbi.nlm.nih.gov/rest/pug/compound/CID/{cid}/record/SDF\"\n",
    "            res = get_pubchem_session().get(url)\n",
    "            res.raise_for_status()\n",
    "            shelf[cid] = res.content\n",
    "        return shelf[cid]\n",
    "    \n",
    "\n",
    "def smiles_from_pubchem_spacial_data(cid):\n",
    "    if pd.isna(cid):\n",
    "        return None\n",
    "    cid = str(int(cid))\n",
    "    sdf = get_pubchem_compound_spacial_data(cid)\n",
    "    with datamol.without_rdkit_log():\n",
    "        mol = rdkit.Chem.MolFromMolBlock(sdf)\n",
    "    return rdkit.Chem.MolToSmiles(mol)\n",
    "\n",
    "df_all[\"smiles_pubchem\"] = df_all[\"pubchem_cid\"].progress_apply(smiles_from_pubchem_spacial_data)"
   ],
   "metadata": {
    "collapsed": false,
    "ExecuteTime": {
     "end_time": "2024-07-09T08:47:37.628885Z",
     "start_time": "2024-07-09T08:47:34.155435Z"
    }
   },
   "outputs": [
    {
     "name": "stderr",
     "output_type": "stream",
     "text": [
      "100%|██████████| 9923/9923 [00:03<00:00, 2861.85it/s]\n"
     ]
    }
   ],
   "execution_count": 14
  },
  {
   "cell_type": "code",
   "source": [
    "# Deduplicate by name.\n",
    "# In the case of ~60 compound names, some of the hits are mapped to multiple CIDs due to their respective structure matches. In such cases we unify these records to the top name match.\n",
    "_df_name_x_cids = df_all[pd.notna(df_all.pubchem_compounds_by_name) & pd.notna(df_all.pubchem_cid)].groupby(\"compound_name_cleaned\").agg({\n",
    "    \"pubchem_cid\": lambda x: list(dict.fromkeys(x)),\n",
    "    \"pubchem_cid_matching_comment\": lambda x: list(dict.fromkeys(x)),\n",
    "    \"smiles_pubchem\": lambda x: list(dict.fromkeys(x)),\n",
    "    \"pubchem_compounds_by_name\": lambda x: list(x),\n",
    "})\n",
    "_df_name_x_cids = _df_name_x_cids[_df_name_x_cids.pubchem_cid.apply(len) > 1]\n",
    "\n",
    "_df_name_x_cids[\"top_name_hit_smiles\"] = _df_name_x_cids[\"pubchem_compounds_by_name\"].apply(lambda x: smiles_from_pubchem_spacial_data(x[0][0][\"CID\"]))\n",
    "\n",
    "_df_name_x_cids[\"distances\"] = _df_name_x_cids.apply(axis=\"columns\", func=lambda x: [get_tanimoto_distance(x.top_name_hit_smiles, y) for y in x.smiles_pubchem])\n",
    "conflicting_name_to_top_hit_smiles = dict(_df_name_x_cids[_df_name_x_cids.distances.apply(lambda x: all(y >= 1 for y in x))].reset_index()[[\"compound_name_cleaned\", \"top_name_hit_smiles\"]].itertuples(index=False))\n",
    "df_all[\"smiles_pubchem\"] = df_all.apply(axis=\"columns\", func=lambda x: conflicting_name_to_top_hit_smiles.get(x.compound_name_cleaned, x.smiles_pubchem))"
   ],
   "metadata": {
    "collapsed": false,
    "ExecuteTime": {
     "end_time": "2024-07-09T08:47:38.050612Z",
     "start_time": "2024-07-09T08:47:37.630180Z"
    }
   },
   "outputs": [],
   "execution_count": 15
  },
  {
   "cell_type": "code",
   "source": [
    "df_all[[\"smiles_parent\", \"chembl_pipeline_excluded\"]] = df_all.progress_apply(\n",
    "    axis=\"columns\", \n",
    "    result_type=\"expand\",\n",
    "    func=lambda x: chembl_parent_from_smiles(x[\"smiles_pubchem\"] if pd.notna(x[\"smiles_pubchem\"]) else x[\"smiles_sanitised\"] if (pd.notna(x[\"smiles_sanitised\"]) and x[\"pubchem_cid_matching_comment\"] not in {CONFLICT_BETWEEN_ID_AND_STRUCTURE, CONFLICT_BETWEEN_ID_AND_NAME, CONFLICT_BETWEEN_NAME_AND_STRUCTURE}) else None\n",
    "))\n",
    "#df_all[\"pubchem_compound_by_parent_structure\"] = df_all[\"smiles_parent\"].progress_apply(get_pubchem_compound_by_smiles)\n",
    "#df_all[\"pubchem_cid_parent\"] = df_all[\"pubchem_compound_by_parent_structure\"].apply(lambda x: x[\"CID\"] if pd.notna(x) else None)\n",
    "# Multiple smiles_parent may resolve to the same pubchem_compound_by_parent_structure. We therefore obtain the detailed structure of the resulting pubchem_cid_parent. E.g. 'NC(N)=Nc1nc(CSCC/C(N)=N/S(N)(=O)=O)cs1' and 'NC(N)=Nc1nc(CSCCC(N)=NS(N)(=O)=O)cs1' both resolving in Famotidine.\n",
    "#df_all[\"smiles_parent_pubchem\"] = df_all.pubchem_cid_parent.progress_apply(smiles_from_pubchem_spacial_data)"
   ],
   "metadata": {
    "collapsed": false,
    "ExecuteTime": {
     "end_time": "2024-07-09T08:47:48.365396Z",
     "start_time": "2024-07-09T08:47:38.051480Z"
    }
   },
   "outputs": [
    {
     "name": "stderr",
     "output_type": "stream",
     "text": [
      "100%|██████████| 9923/9923 [00:10<00:00, 962.54it/s] \n"
     ]
    }
   ],
   "execution_count": 16
  },
  {
   "cell_type": "markdown",
   "source": [
    "## InChI resolution\n",
    "InChI and InChIKeys are not unique across PubChem compounds.\n",
    "E.g.  ```get_pubchem_compound_information(\"inchikey\", \"KLWGWDOTUDKLKT-VIFPVBQESA-N\")``` will return multiple results. Those will share InChI - hence this is not the case of a hash collision. We have found 3 such cases in this dataset, the other two KLWGWDOTUDKLKT-UHFFFAOYSA-N, JBKPUQTUERUYQE-UHFFFAOYSA-O. PubChem API tends to return a single compound for InChI and multiple entries for InChiKey. \n",
    "In this step, we reconcile multiple records sharing the same InChI. "
   ],
   "metadata": {
    "collapsed": false
   }
  },
  {
   "cell_type": "code",
   "source": [
    "with datamol.without_rdkit_log():\n",
    "    df_all[\"inchi_parent\"] = df_all.smiles_parent.apply(lambda x: rdkit.Chem.MolToInchi(smiles_to_mol(x)) if pd.notna(x) else None)"
   ],
   "metadata": {
    "collapsed": false,
    "ExecuteTime": {
     "end_time": "2024-07-09T08:47:49.908451Z",
     "start_time": "2024-07-09T08:47:48.366232Z"
    }
   },
   "outputs": [],
   "execution_count": 17
  },
  {
   "cell_type": "code",
   "source": [
    "def _resolve_from_inchi_or_smiles(inchi, smi):\n",
    "    if pd.isna(inchi):\n",
    "        return None\n",
    "    res = get_pubchem_compound_information(\"inchi\", inchi)\n",
    "    if (not res) and pd.notna(smi):\n",
    "        return get_pubchem_compound_by_smiles(smi)\n",
    "    if res:\n",
    "        return res[0]\n",
    "\n",
    "df_all[\"pubchem_compound_resolved\"] = df_all.progress_apply(axis=\"columns\", func = lambda x: _resolve_from_inchi_or_smiles(x.inchi_parent, x.smiles_parent))\n",
    "df_all[\"pubchem_compound_resolved\"] = df_all[\"pubchem_compound_resolved\"].progress_apply(lambda x: x | {\"spacial_data_smiles\": smiles_from_pubchem_spacial_data(x[\"CID\"])} if pd.notna(x) else None)"
   ],
   "metadata": {
    "collapsed": false,
    "ExecuteTime": {
     "end_time": "2024-07-09T08:47:54.009186Z",
     "start_time": "2024-07-09T08:47:49.909396Z"
    }
   },
   "outputs": [
    {
     "name": "stderr",
     "output_type": "stream",
     "text": [
      "100%|██████████| 9923/9923 [00:00<00:00, 11692.26it/s]\n",
      "100%|██████████| 9923/9923 [00:03<00:00, 3058.94it/s]\n"
     ]
    }
   ],
   "execution_count": 18
  },
  {
   "cell_type": "code",
   "source": [
    "# There are cases where we cannot resolve parent's PubChem id, but the original records is reconcilable.\n",
    "#assert len(df_all[(pd.notna(df_all.pubchem_cid)) & (pd.isna(df_all.pubchem_compound_by_parent_structure))]) == 20\n",
    "\n",
    "#df_all[\"pubchem_compound_resolved\"] = df_all.apply(axis=\"columns\", func=lambda x: x.pubchem_compound_by_parent_structure if pd.notna(x.pubchem_compound_by_parent_structure) else  get_pubchem_compound_information(\"cid\", str(int(x.pubchem_cid)))[0] if pd.notna(x.pubchem_cid) else None)\n",
    "# Adds spacial-data based SMILES. Uses a different naming convention to distinguish between PubChem-supplied and injected data.\n",
    "#df_all[\"pubchem_compound_resolved\"] = df_all[\"pubchem_compound_resolved\"].apply(lambda x: x | {\"spacial_data_smiles\": smiles_from_pubchem_spacial_data(x[\"CID\"])} if pd.notna(x) else None)\n",
    "\n",
    "assert df_all.pubchem_compound_resolved.apply(lambda x: str(x) if pd.notna(x) else None).nunique() == df_all.pubchem_compound_resolved.apply(lambda x: x[\"CID\"] if pd.notna(x) else None).nunique(), \"Different calls for PubChem compound information should contain exactly the same data\""
   ],
   "metadata": {
    "collapsed": false,
    "ExecuteTime": {
     "end_time": "2024-07-09T08:47:54.068455Z",
     "start_time": "2024-07-09T08:47:54.010041Z"
    }
   },
   "outputs": [],
   "execution_count": 19
  },
  {
   "cell_type": "code",
   "source": [
    "_df_counts = df_all[[\"CID\", \"cid_cleaned\", \"smiles\", \"smiles_sanitised\", \"compound_name\", \"compound_name_cleaned\", \"pubchem_cid\", \"smiles_parent\", \"inchi_parent\", \"pubchem_compound_resolved\"]].copy()\n",
    "#_df_counts[\"pubchem_compound_by_parent_structure\"] = _df_counts.pubchem_compound_by_parent_structure.apply(lambda x: str(x) if pd.notna(x) else None)\n",
    "_df_counts[\"pubchem_compound_resolved\"] = _df_counts.pubchem_compound_resolved.apply(lambda x: str(x) if pd.notna(x) else None)\n",
    "_u = _df_counts.nunique().to_frame().rename(columns={0: \"Unique\"})\n",
    "_t = _df_counts.notna().sum().to_frame().rename(columns={0: \"Total non-empty\"}) \n",
    "print(f\"Fields statistics of {len(_df_counts)} records:\")\n",
    "print(_u.join(_t))\n"
   ],
   "metadata": {
    "collapsed": false,
    "ExecuteTime": {
     "end_time": "2024-07-09T08:47:54.129854Z",
     "start_time": "2024-07-09T08:47:54.069428Z"
    }
   },
   "outputs": [
    {
     "name": "stdout",
     "output_type": "stream",
     "text": [
      "Fields statistics of 9923 records:\n",
      "                           Unique  Total non-empty\n",
      "CID                          3561             8583\n",
      "cid_cleaned                   362              362\n",
      "smiles                       6979             9521\n",
      "smiles_sanitised             4072             8644\n",
      "compound_name                5638             9414\n",
      "compound_name_cleaned        5359             8878\n",
      "pubchem_cid                  3564             9478\n",
      "smiles_parent                3508             9698\n",
      "inchi_parent                 3502             9698\n",
      "pubchem_compound_resolved    3411             9566\n"
     ]
    }
   ],
   "execution_count": 20
  },
  {
   "cell_type": "code",
   "source": [
    "print(\"Initial cid_cleaned / smiles_sanitised / compound_name_cleaned to PubChem resolution statistics - records that differ between this and original work\")\n",
    "print(df_all[(df_all.pubchem_compound_resolved.apply(lambda x: x[\"CID\"] if pd.notna(x) else None) != df_all.CID) & pd.notna(df_all.CID)].pubchem_cid_matching_comment.value_counts())"
   ],
   "metadata": {
    "collapsed": false,
    "ExecuteTime": {
     "end_time": "2024-07-09T08:47:54.151205Z",
     "start_time": "2024-07-09T08:47:54.130819Z"
    }
   },
   "outputs": [
    {
     "name": "stdout",
     "output_type": "stream",
     "text": [
      "Initial cid_cleaned / smiles_sanitised / compound_name_cleaned to PubChem resolution statistics - records that differ between this and original work\n",
      "pubchem_cid_matching_comment\n",
      "Matched by structure and name                                  1045\n",
      "Conflict between name and structure                             142\n",
      "Matched by structure and name, other name matches available     122\n",
      "Matched by ID and structure                                      25\n",
      "Matched by name                                                  19\n",
      "Matched by structure                                             19\n",
      "Matched by ID, structure and name                                 5\n",
      "Conflict between ID and structure                                 4\n",
      "Matched by ID and name                                            3\n",
      "No matches found                                                  1\n",
      "Name: count, dtype: int64\n"
     ]
    }
   ],
   "execution_count": 21
  },
  {
   "cell_type": "code",
   "source": [
    "_, ax = plt.subplots(1, 1)\n",
    "venn2(\n",
    "    [set(df_all.CID.unique()), set(cid for cid in df_all.pubchem_compound_resolved.apply(lambda x: x[\"CID\"] if pd.notna(x) else None) if pd.notna(cid))],\n",
    "    [\"Original B3DB mapping\", \"After remapping\"],\n",
    "    ax=ax\n",
    "    \n",
    ")\n",
    "_ = ax.set_title(\"Unique CIDs of the resolved compounds\")"
   ],
   "metadata": {
    "collapsed": false,
    "ExecuteTime": {
     "end_time": "2024-07-09T09:15:18.601288Z",
     "start_time": "2024-07-09T09:15:18.500352Z"
    }
   },
   "outputs": [
    {
     "data": {
      "text/plain": [
       "<Figure size 640x480 with 1 Axes>"
      ],
      "image/png": "[encoded data removed]"
     },
     "metadata": {},
     "output_type": "display_data"
    }
   ],
   "execution_count": 47
  },
  {
   "cell_type": "code",
   "source": [
    "_z  = df_all[(pd.notna(df_all.pubchem_compound_resolved)) & (pd.notna(df_all.pubchem_compounds_by_name))].groupby(\"compound_name_cleaned\").pubchem_compound_resolved.apply(lambda x: set(y[\"CID\"] for y in x)).to_frame()\n",
    "assert len(_z[_z.pubchem_compound_resolved.apply(len) > 1]) == 4, \"(Almost) all should resolve to a single parent molecule\"\n",
    "assert df_all[df_all.compound_name_cleaned.apply(lambda x: str(x).lower() == \"morphine\" if pd.notna(x) else False)].pubchem_compound_resolved.apply(lambda x: x[\"CID\"] if pd.notna(x) else None).nunique() == 1, \"Morphine should be represented by a single CID\""
   ],
   "metadata": {
    "collapsed": false,
    "ExecuteTime": {
     "end_time": "2024-07-09T08:47:54.316701Z",
     "start_time": "2024-07-09T08:47:54.247180Z"
    }
   },
   "outputs": [],
   "execution_count": 23
  },
  {
   "cell_type": "code",
   "source": [
    "df_records_resolved = df_all[[\"record_id\", \"cid_cleaned\", \"smiles_sanitised\", \"compound_name_cleaned\", \"logBB_cleaned\", \"BBB+/BBB-_cleaned\", \"pubchem_compound_by_id\", \"pubchem_compound_by_structure\", \"pubchem_compounds_by_name\", \"pubchem_cid\", \"pubchem_cid_matching_comment\", \"smiles_pubchem\", \"smiles_parent\", \"inchi_parent\", \"chembl_pipeline_excluded\", \"pubchem_compound_resolved\"]]\n",
    "df_records_resolved.to_csv(\"dataset_intermediaries/01_records_resolved.csv\", index=False)"
   ],
   "metadata": {
    "collapsed": false,
    "ExecuteTime": {
     "end_time": "2024-07-09T08:47:54.670342Z",
     "start_time": "2024-07-09T08:47:54.317877Z"
    }
   },
   "outputs": [],
   "execution_count": 24
  },
  {
   "cell_type": "code",
   "source": [
    "df_records_resolved = pd.read_csv(\"dataset_intermediaries/01_records_resolved.csv\", low_memory=False)[[\"record_id\", \"compound_name_cleaned\", \"logBB_cleaned\", \"BBB+/BBB-_cleaned\", \"smiles_parent\", \"inchi_parent\", \"chembl_pipeline_excluded\", \"pubchem_compound_resolved\"]]\n",
    "#df_records_resolved[\"pubchem_compound_resolved\"] = df_records_resolved[\"pubchem_compound_resolved\"].apply(lambda x: eval(x) if pd.notna(x) else None)\n",
    "\n",
    "assert sum(df_records_resolved.groupby(\"inchi_parent\").pubchem_compound_resolved.apply(lambda x: len(set(x))) > 1) == 0, \"There should always be up to one resolved compound per parent InChI\"\n",
    "\n",
    "print(f\"Loaded {len(df_records_resolved)} resolved records\")"
   ],
   "metadata": {
    "collapsed": false,
    "ExecuteTime": {
     "end_time": "2024-07-09T08:47:54.837381Z",
     "start_time": "2024-07-09T08:47:54.671047Z"
    }
   },
   "outputs": [
    {
     "name": "stdout",
     "output_type": "stream",
     "text": [
      "Loaded 9923 resolved records\n"
     ]
    }
   ],
   "execution_count": 25
  },
  {
   "metadata": {},
   "cell_type": "markdown",
   "source": [
    "## Grouping.\n",
    "In this section we will use the resolved records to generate compound permeability data. "
   ]
  },
  {
   "cell_type": "code",
   "source": [
    "_df_discarded_not_resolved_no_parent = df_records_resolved[pd.isna(df_records_resolved.pubchem_compound_resolved) & pd.isna(df_records_resolved.inchi_parent)]\n",
    "print(f\"{len(_df_discarded_not_resolved_no_parent)} records are discarded as they could not be reliably mapped to a PubChem entry.\")\n",
    "if \"df_all\" in globals():\n",
    "    print(f\"This includes {len(df_all[(pd.isna(df_all.pubchem_compound_resolved)) & pd.isna(df_all.inchi_parent) & (df_all.pubchem_cid_matching_comment == CONFLICT_BETWEEN_NAME_AND_STRUCTURE)])} cases of '{CONFLICT_BETWEEN_NAME_AND_STRUCTURE}' during the initial record resolution\")\n",
    "\n",
    "_s = set(_df_discarded_not_resolved_no_parent.record_id)\n",
    "df_resolved = df_records_resolved[df_records_resolved.record_id.apply(lambda x: x not in _s)]\n",
    "print(f\"{len(df_resolved)} records remaining\")"
   ],
   "metadata": {
    "collapsed": false,
    "ExecuteTime": {
     "end_time": "2024-07-09T08:47:54.847489Z",
     "start_time": "2024-07-09T08:47:54.838752Z"
    }
   },
   "outputs": [
    {
     "name": "stdout",
     "output_type": "stream",
     "text": [
      "225 records are discarded as they could not be reliably mapped to a PubChem entry.\n",
      "This includes 179 cases of 'Conflict between name and structure' during the initial record resolution\n",
      "9698 records remaining\n"
     ]
    }
   ],
   "execution_count": 26
  },
  {
   "cell_type": "code",
   "source": [
    "# Analysis of compounds excluded by ChEMBL pipeline point to vitamin B12 (cobalt) and carboplatin (a chemotherapy medication containing platinum) and Gadodiamine (a gadolinium based contrast agent). As per the original work, these are removed.\n",
    "\n",
    "_df_discarded_excluded_by_chembl_pipeline = df_records_resolved[df_records_resolved.chembl_pipeline_excluded == True]\n",
    "assert len(_df_discarded_excluded_by_chembl_pipeline) == 3, f\"There should be 3 compound excluded by ChEMBL pipeline, found {len(_df_discarded_excluded_by_chembl_pipeline)}\"\n",
    "_s = set(_df_discarded_excluded_by_chembl_pipeline.record_id)\n",
    "\n",
    "print(f\"Removing {len(_s) if _s else 0} records excluded in ChEMBL pipeline\")\n",
    "df_resolved = df_resolved[df_resolved.record_id.apply(lambda x: x not in _s)]\n",
    "\n",
    "print(f\"Removing records with invalid parent_smiles. This should be one record (on the full dataset) where valence sanitisation would result in splitting it.\")\n",
    "with datamol.without_rdkit_log():\n",
    "    df_resolved = df_resolved[df_resolved.smiles_parent.apply(lambda x: True if pd.isna(x) or pd.notna(rdkit.Chem.MolFromSmiles(x)) else False)]\n",
    "print(f\"{len(df_resolved)} records remaining\")"
   ],
   "metadata": {
    "collapsed": false,
    "ExecuteTime": {
     "end_time": "2024-07-09T08:47:55.673369Z",
     "start_time": "2024-07-09T08:47:54.848331Z"
    }
   },
   "outputs": [
    {
     "name": "stdout",
     "output_type": "stream",
     "text": [
      "Removing 3 records excluded in ChEMBL pipeline\n",
      "Removing records with invalid parent_smiles. This should be one record (on the full dataset) where valence sanitisation would result in splitting it.\n",
      "9695 records remaining\n"
     ]
    }
   ],
   "execution_count": 27
  },
  {
   "cell_type": "code",
   "source": [
    "df_grouped = df_resolved.groupby(\"inchi_parent\").agg({\n",
    "    \"record_id\": list,\n",
    "    \"compound_name_cleaned\": lambda x: list(filter(lambda y: pd.notna(y), dict.fromkeys(x))),  # Unique non-null records in the order of appearance.\n",
    "    \"logBB_cleaned\": list,\n",
    "    \"BBB+/BBB-_cleaned\": list,\n",
    "    \"smiles_parent\": lambda x: list(dict.fromkeys(x)),\n",
    "    \"pubchem_compound_resolved\": lambda x: list(filter(lambda y: pd.notna(y), dict.fromkeys(x))),\n",
    "}).reset_index()\n",
    "assert sum(df_grouped.pubchem_compound_resolved.apply(len) > 1) == 0, \"There should be up to one resolved PubChem compound per InChI\"\n",
    "df_grouped[\"pubchem_compound_resolved\"] = df_grouped.pubchem_compound_resolved.apply(lambda x: x[0] if x else None)\n",
    "assert df_grouped.smiles_parent.apply(len).value_counts()[2] == 6, \"There are 6 cases of multiple parent_smiles by InChI, including 1 of 3 different SMILES. In these cases, all SMILES should be equivalent. Previous #=15.\"\n",
    "df_grouped.smiles_parent = df_grouped.smiles_parent.apply(lambda x: x[0]) \n",
    "print(f\"Grouped {len(df_resolved)} resolved records into {len(df_grouped)} molecules by InChI\")"
   ],
   "metadata": {
    "collapsed": false,
    "ExecuteTime": {
     "end_time": "2024-07-09T08:47:55.863072Z",
     "start_time": "2024-07-09T08:47:55.674117Z"
    }
   },
   "outputs": [
    {
     "name": "stdout",
     "output_type": "stream",
     "text": [
      "Grouped 9695 resolved records into 3499 molecules by InChI\n"
     ]
    }
   ],
   "execution_count": 28
  },
  {
   "cell_type": "markdown",
   "source": [
    "#### LogBB values resolution from multiple records\n",
    "We follow the original work including the exclusion criteria and "
   ],
   "metadata": {
    "collapsed": false,
    "ExecuteTime": {
     "end_time": "2023-11-08T11:37:28.393111Z",
     "start_time": "2023-11-08T11:37:28.308059Z"
    }
   }
  },
  {
   "cell_type": "code",
   "source": [
    "LOGBB_MIN_VALUE = -9\n",
    "LOGBB_MAX_RANGE = 1\n",
    "\n",
    "RESOLUTION_NO_LOGBB_VALUES = \"No LogBB values\"\n",
    "RESOLUTION_NO_LOGBB_ABOVE_MIN_VALUE = f\"No LogBB values above minimum threshold ({LOGBB_MIN_VALUE})\"\n",
    "RESOLUTION_LOGBB_RANGE_ABOVE_THRESHOLD = f\"LogBB values range above threshold ({LOGBB_MAX_RANGE})\"\n",
    "RESOLUTION_LOGBB_GROUP_A = \"LogBB group A\"\n",
    "RESOLUTION_LOGBB_GROUP_B = \"LogBB group B\"\n",
    "RESOLUTION_LOGBB_GROUP_B1 = \"LogBB group B1\"\n",
    "RESOLUTION_LOGBB_GROUP_C = \"LogBB group C\"\n",
    "RESOLUTION_LOGBB_GROUP_D = \"LogBB group D\"\n",
    "RESOLUTION_LOGBB_FAILED_TO_CATEGORISE = \"Failed to categorise LogBB values\"\n",
    "\n",
    "def _resolve_log_bb(logbb_vals):\n",
    "    logbb_vals = [v for v in logbb_vals if pd.notna(v)]\n",
    "    if len(logbb_vals) == 0:\n",
    "        return None, RESOLUTION_NO_LOGBB_VALUES\n",
    "    # The original work excludes all logBB values below -9. All those are present in R25, where authors place them on their \"controversial\" list, and excluded from modelling. Note - there are no values present between (-9, -3).\n",
    "    logbb_vals = [round(v, 2) for v in logbb_vals if v > LOGBB_MIN_VALUE]\n",
    "    if len(logbb_vals) == 0:\n",
    "        return None, RESOLUTION_NO_LOGBB_ABOVE_MIN_VALUE\n",
    "    if max(logbb_vals) - min(logbb_vals) > LOGBB_MAX_RANGE:\n",
    "        return None, RESOLUTION_LOGBB_RANGE_ABOVE_THRESHOLD\n",
    "    \n",
    "    # Group A - A single value\n",
    "    if len(logbb_vals) == 1:\n",
    "        return logbb_vals[0], RESOLUTION_LOGBB_GROUP_A\n",
    "    mean = statistics.mean(logbb_vals)\n",
    "    std =  statistics.stdev(logbb_vals)   \n",
    "    # Group B - All values are within 5% of the mean\n",
    "    if all([abs(v - mean) < abs(0.05 * mean) for v in logbb_vals]) or (abs(mean)<=0.05 and all( abs(v) < 0.05 for v in logbb_vals )): # This is an extension for 2 molecules with mean of 0.0\n",
    "        return mean, RESOLUTION_LOGBB_GROUP_B\n",
    "        \n",
    "    # Group B1 - At least 80% of values are within 0.1 + standard deviations from the mean  \n",
    "    if (sum([abs(v - mean) < (0.05 + 0.25*std) for v in logbb_vals]) / len(logbb_vals)) >= 0.8: # This is an extension for 2 molecules with mean of 0.0\n",
    "       return mean, RESOLUTION_LOGBB_GROUP_B1\n",
    "            \n",
    "    # Group C - 2 values.\n",
    "    if len(logbb_vals) == 2:\n",
    "        return mean, RESOLUTION_LOGBB_GROUP_C\n",
    "    \n",
    "    # Group D - a single most common value exists.\n",
    "    most_common = collections.Counter(logbb_vals).most_common()\n",
    "    if len(most_common) == 1 or most_common[0][1] > most_common[1][1]:  # A single mode / most common value.\n",
    "        return most_common[0][0], RESOLUTION_LOGBB_GROUP_D\n",
    "    \n",
    "    return None, RESOLUTION_LOGBB_FAILED_TO_CATEGORISE\n",
    "    \n",
    "df_grouped[[\"logBB_resolved\", \"logBB_resolution_comment\"]] = df_grouped.apply(axis=\"columns\", func=lambda x: _resolve_log_bb(x.logBB_cleaned), result_type=\"expand\")\n",
    "print(f\"Resolved logBB values for {sum(pd.notna(df_grouped.logBB_resolved))} compounds out of {len(df_grouped)}.\")\n",
    "df_grouped.logBB_resolution_comment.value_counts().sort_index()"
   ],
   "metadata": {
    "collapsed": false,
    "ExecuteTime": {
     "end_time": "2024-07-09T08:47:55.958448Z",
     "start_time": "2024-07-09T08:47:55.867568Z"
    }
   },
   "outputs": [
    {
     "name": "stdout",
     "output_type": "stream",
     "text": [
      "Resolved logBB values for 950 compounds out of 3499.\n"
     ]
    },
    {
     "data": {
      "text/plain": [
       "logBB_resolution_comment\n",
       "Failed to categorise LogBB values                  8\n",
       "LogBB group A                                    386\n",
       "LogBB group B                                    402\n",
       "LogBB group B1                                    85\n",
       "LogBB group C                                      8\n",
       "LogBB group D                                     69\n",
       "LogBB values range above threshold (1)            13\n",
       "No LogBB values                                 2516\n",
       "No LogBB values above minimum threshold (-9)      12\n",
       "Name: count, dtype: int64"
      ]
     },
     "execution_count": 29,
     "metadata": {},
     "output_type": "execute_result"
    }
   ],
   "execution_count": 29
  },
  {
   "cell_type": "markdown",
   "source": [],
   "metadata": {
    "collapsed": false
   }
  },
  {
   "cell_type": "code",
   "source": [
    "THRESHOLD_LOGBB = -1\n",
    "BBB_P = \"BBB+\"\n",
    "BBB_N = \"BBB-\"\n",
    "\n",
    "RESOLUTION_BBB_CLASS_GROUP_A = \"BBB+/BBB- group A\"\n",
    "RESOLUTION_BBB_CLASS_GROUP_B = \"BBB+/BBB- group B\"\n",
    "RESOLUTION_BBB_CLASS_GROUP_C = \"BBB+/BBB- group C\"\n",
    "RESOLUTION_BBB_CLASS_GROUP_D = \"BBB+/BBB- group D\"\n",
    "RESOLUTION_BBB_NO_CLASS_ASSIGNED = \"No BBB class assigned\"\n",
    "RESOLUTION_BBB_THRESHOLD_INCONSISTENT_RESULTS = f\"Inconsistent results at {THRESHOLD_LOGBB} logBB threshold\"\n",
    "RESOLUTION_BBB_NO_LABEL_PRESENT = \"No BBB label present\"\n",
    "\n",
    "threshold_dict = {\n",
    "    \"R1\": -1,\n",
    "    \"R2\": (-2,-1),\n",
    "    \"R7\": -1,\n",
    "    \"R8\": 0,\n",
    "    \"R13\": -1,\n",
    "    \"R16\": -1,\n",
    "    \"R18\": 0.1,\n",
    "    \"R19\": -1,\n",
    "    \"R25\": 0,\n",
    "    \"R28\": -1,\n",
    "}\n",
    "\n",
    "\n",
    "#TODO start here\n",
    "def _resolve_bbb_class(record_ids, bbb_values, logbb_resolved):\n",
    "    assert len(bbb_values) > 0, \"There should be at least a single BBB class supplied\"\n",
    "    \n",
    "    # Group A - available logBB value\n",
    "    if pd.notna(logbb_resolved):\n",
    "        return BBB_P if logbb_resolved >= THRESHOLD_LOGBB else BBB_N , RESOLUTION_BBB_CLASS_GROUP_A\n",
    "    \n",
    "    thresholds = [threshold_dict.get(r.split(\":\")[0]) for r in record_ids]\n",
    "    any_threshold_logbb_value = any(thresholds[i] == THRESHOLD_LOGBB for i, _ in enumerate(bbb_values))\n",
    "    # TODO This logic attempts to emulate the original work but perhaps should be adjusted in light of discarding some BBB+/BBB- values when not provided in the datasource. \n",
    "    non_null_vals = list(set(v for v in bbb_values if pd.notna(v))) \n",
    "    if len(non_null_vals) == 1:\n",
    "        return non_null_vals[0], RESOLUTION_BBB_CLASS_GROUP_B if any_threshold_logbb_value else RESOLUTION_BBB_CLASS_GROUP_C\n",
    "    else:\n",
    "        values_at_threshold = [v for i, v in enumerate(bbb_values) if thresholds[i] == THRESHOLD_LOGBB]\n",
    "        if len(set(values_at_threshold)) > 1:\n",
    "            return None, RESOLUTION_BBB_THRESHOLD_INCONSISTENT_RESULTS\n",
    "        \n",
    "        most_common = collections.Counter(v for v in bbb_values if pd.notna(v)).most_common()\n",
    "        if len(most_common) == 0:\n",
    "            return None, RESOLUTION_BBB_NO_LABEL_PRESENT\n",
    "        if len(most_common) == 1 or most_common[0][1] > most_common[1][1]:  # A single mode / most common value.\n",
    "            return most_common[0][0], RESOLUTION_BBB_CLASS_GROUP_D\n",
    "        \n",
    "    return None, RESOLUTION_BBB_NO_CLASS_ASSIGNED \n",
    "    \n",
    "df_grouped[[\"BBB+/BBB-_resolved\", \"BBB+/BBB-_resolution_comment\"]] = df_grouped.apply(axis=\"columns\", func=lambda x: _resolve_bbb_class(x.record_id, x[\"BBB+/BBB-_cleaned\"], x.logBB_resolved), result_type=\"expand\")\n",
    "print(f'Resolved BBB class for {sum(pd.notna(df_grouped[\"BBB+/BBB-_resolved\"]))} compounds out of {len(df_grouped)}.')\n",
    "df_grouped[\"BBB+/BBB-_resolution_comment\"].value_counts().sort_index()"
   ],
   "metadata": {
    "collapsed": false,
    "ExecuteTime": {
     "end_time": "2024-07-09T08:47:56.045328Z",
     "start_time": "2024-07-09T08:47:55.959330Z"
    }
   },
   "outputs": [
    {
     "name": "stdout",
     "output_type": "stream",
     "text": [
      "Resolved BBB class for 3414 compounds out of 3499.\n"
     ]
    },
    {
     "data": {
      "text/plain": [
       "BBB+/BBB-_resolution_comment\n",
       "BBB+/BBB- group A         950\n",
       "BBB+/BBB- group C        2394\n",
       "BBB+/BBB- group D          70\n",
       "No BBB class assigned      57\n",
       "No BBB label present       28\n",
       "Name: count, dtype: int64"
      ]
     },
     "execution_count": 30,
     "metadata": {},
     "output_type": "execute_result"
    }
   ],
   "execution_count": 30
  },
  {
   "cell_type": "code",
   "source": [
    "assert len(df_grouped[df_grouped.logBB_resolved.apply(lambda x: pd.notna(x) and x < -1) & (df_grouped[\"BBB+/BBB-_cleaned\"].apply(lambda x: \"BBB+\" in x))]) <= 27, \"There is a limited number of cases of logBB<1 where some records indicate BBB+, previous #=24\"\n",
    "\n",
    "assert len(df_grouped[df_grouped.logBB_resolved.apply(lambda x: pd.notna(x) and x >= -1) & (df_grouped[\"BBB+/BBB-_cleaned\"].apply(lambda x: \"BBB-\" in x))]) <= 374, \"There is a limited number of cases of logBB>-1 where some records indicate BBB-\"\n",
    "\n",
    "assert len(df_grouped[df_grouped[\"BBB+/BBB-_resolution_comment\"] == RESOLUTION_BBB_NO_LABEL_PRESENT]) <= 28, f\"There are some 17 records from R26 where logBB is not provided while the original work asserts them as BBB+, in addition there are 6 compounds where all provided logBB values are less than {LOGBB_MIN_VALUE}\"\n",
    "# TODO the above should be 27 not 28, verify the difference.\n",
    "\n",
    "\n",
    "assert len(df_grouped[df_grouped[\"BBB+/BBB-_resolution_comment\"] == RESOLUTION_BBB_THRESHOLD_INCONSISTENT_RESULTS]) <= 42, f\"There are 42 compounds with conflicting labels coming from resources that report using threshold of {THRESHOLD_LOGBB}\""
   ],
   "metadata": {
    "collapsed": false,
    "ExecuteTime": {
     "end_time": "2024-07-09T08:47:56.055086Z",
     "start_time": "2024-07-09T08:47:56.046149Z"
    }
   },
   "outputs": [],
   "execution_count": 31
  },
  {
   "cell_type": "code",
   "source": [
    "df_grouped.pubchem_compound_resolved = df_grouped.pubchem_compound_resolved.apply(lambda x: x if type(x) != str else eval(x))\n",
    "df_grouped[\"cid\"] = df_grouped.pubchem_compound_resolved.apply(lambda x: x.get(\"CID\") if pd.notna(x) else None)\n",
    "assert df_grouped.cid.nunique() == len(df_grouped[pd.notna(df_grouped.pubchem_compound_resolved)]), \"CIDs should be unique among all PubChem resolved compound\"\n",
    "\n",
    "\n",
    "conflicting_spacial_smiles = {\n",
    "    \"CC1=C/[C@@H](O)CC(=O)Cc2nc(co2)C(=O)N2CCC=C2C(=O)O[C@@H](C(C)C)[C@@H](C)/C=C\\C(=O)NC/C=C\\\\1\", # There are 2 distinct PubChem compounds: 92043180 and 122362102 that both point to the same 3D structure.\n",
    "}\n",
    "def _resolve_smiles(row):\n",
    "    if pd.notna(row.pubchem_compound_resolved):\n",
    "        if row.pubchem_compound_resolved[\"spacial_data_smiles\"] not in conflicting_spacial_smiles:\n",
    "            return row.pubchem_compound_resolved[\"spacial_data_smiles\"]\n",
    "        else:\n",
    "            return row.pubchem_compound_resolved[\"IsomericSMILES\"]\n",
    "    else:\n",
    "        return row.smiles_parent\n",
    "    \n",
    "df_grouped[\"smiles_resolved\"] = df_grouped.apply(axis=\"columns\", func=_resolve_smiles)\n",
    "assert df_grouped.smiles_resolved.nunique() == len(df_grouped), \"Resolved SMILES should be unique among all compounds\"\n",
    "df_grouped[\"iupac_name\"] = df_grouped.pubchem_compound_resolved.apply(lambda x: x[\"IUPACName\"] if pd.notna(x) and \"IUPACName\" in x else None)\n"
   ],
   "metadata": {
    "collapsed": false,
    "ExecuteTime": {
     "end_time": "2024-07-09T08:47:56.194070Z",
     "start_time": "2024-07-09T08:47:56.055710Z"
    }
   },
   "outputs": [],
   "execution_count": 32
  },
  {
   "cell_type": "code",
   "source": [
    "df_grouped[\"names\"] = df_grouped.apply(axis=\"columns\", func=lambda x: list(dict.fromkeys(x.compound_name_cleaned + ([x.pubchem_compound_resolved[\"Title\"]] if pd.notna(x.pubchem_compound_resolved) and \"Title\" in x.pubchem_compound_resolved else []))) )\n",
    "def _resolve_names(names):\n",
    "    lc_names = {}\n",
    "    for n in names:\n",
    "        if n.lower() not in lc_names:\n",
    "            lc_names[n.lower()] = []\n",
    "        lc_names[n.lower()].append(n)\n",
    "    rv = []\n",
    "    for n, vals in lc_names.items():\n",
    "        rv.append(vals[0].title())\n",
    "    return rv\n",
    "df_grouped[\"names_resolved\"] = df_grouped.names.apply(_resolve_names)             "
   ],
   "metadata": {
    "collapsed": false,
    "ExecuteTime": {
     "end_time": "2024-07-09T08:47:56.256755Z",
     "start_time": "2024-07-09T08:47:56.194829Z"
    }
   },
   "outputs": [],
   "execution_count": 33
  },
  {
   "cell_type": "code",
   "source": [
    "_df = df_grouped[[\"inchi_parent\", \"record_id\", \"smiles_resolved\", \"cid\", \"iupac_name\", \"names_resolved\", \"logBB_resolved\", \"logBB_resolution_comment\", \"BBB+/BBB-_resolved\", \"BBB+/BBB-_resolution_comment\"]].copy()\n",
    "_df[\"record_id\"] = _df.record_id.apply(lambda x: \"|\".join(x))\n",
    "_df[\"names_resolved\"] = _df.names_resolved.apply(lambda x: \"|\".join(x))\n",
    "_df.to_csv(\"dataset_intermediaries/02_grouped.csv\", index=False)"
   ],
   "metadata": {
    "collapsed": false,
    "ExecuteTime": {
     "end_time": "2024-07-09T08:47:56.294853Z",
     "start_time": "2024-07-09T08:47:56.257505Z"
    }
   },
   "outputs": [],
   "execution_count": 34
  },
  {
   "cell_type": "markdown",
   "source": [
    "## Dataset generation\n",
    "In this section, the grouped records are converted to an actionable dataset: the entries where BBB+/BBB- classification could not be produced are removed and the columns are reformatted to adhere to the original B3DB. \n",
    "We produce a single dataset (without splitting to classification and regression) - it contains both BBB+/BBB- labels and logBB value - similar to the original classification dataset. It is possible to generate a regression dataset by filtering for non-null values in the lobBB column. "
   ],
   "metadata": {
    "collapsed": false,
    "ExecuteTime": {
     "end_time": "2023-11-10T12:50:35.003249Z",
     "start_time": "2023-11-10T12:50:34.911073Z"
    }
   }
  },
  {
   "cell_type": "code",
   "source": [
    "df_grouped = pd.read_csv(\"dataset_intermediaries/02_grouped.csv\")\n",
    "print(f\"Loaded {len(df_grouped)} grouped records\")"
   ],
   "metadata": {
    "collapsed": false,
    "ExecuteTime": {
     "end_time": "2024-07-09T08:47:56.321378Z",
     "start_time": "2024-07-09T08:47:56.295708Z"
    }
   },
   "outputs": [
    {
     "name": "stdout",
     "output_type": "stream",
     "text": [
      "Loaded 3499 grouped records\n"
     ]
    }
   ],
   "execution_count": 35
  },
  {
   "cell_type": "code",
   "source": [
    "df_grouped_filtered = df_grouped[pd.notna(df_grouped[\"BBB+/BBB-_resolved\"])].copy()\n",
    "print(f\"Removed {len(df_grouped) - len(df_grouped_filtered)} grouped entries as it was impossible to determine BBB+/BBB- class\")"
   ],
   "metadata": {
    "collapsed": false,
    "ExecuteTime": {
     "end_time": "2024-07-09T08:47:56.325414Z",
     "start_time": "2024-07-09T08:47:56.322193Z"
    }
   },
   "outputs": [
    {
     "name": "stdout",
     "output_type": "stream",
     "text": [
      "Removed 85 grouped entries as it was impossible to determine BBB+/BBB- class\n"
     ]
    }
   ],
   "execution_count": 36
  },
  {
   "cell_type": "code",
   "source": [
    "df_grouped_filtered[\"logBB_group\"] = df_grouped_filtered[\"logBB_resolution_comment\"].apply(lambda x: x.replace(\"LogBB group \", \"\") if \"LogBB group \" in x else None)\n",
    "df_grouped_filtered[\"BBB+/BBB-_group\"] = df_grouped_filtered[\"BBB+/BBB-_resolution_comment\"].apply(lambda x: x.replace(\"BBB+/BBB- group \", \"\"))\n",
    "assert sum(pd.isna(df_grouped_filtered[\"BBB+/BBB-_group\"])) == 0\n",
    "assert pd.notna(\"logBB_group\") == pd.notna(\"logBB\")"
   ],
   "metadata": {
    "collapsed": false,
    "ExecuteTime": {
     "end_time": "2024-07-09T08:47:56.330844Z",
     "start_time": "2024-07-09T08:47:56.326184Z"
    }
   },
   "outputs": [],
   "execution_count": 37
  },
  {
   "cell_type": "code",
   "source": [
    "df_b3db_kc = df_grouped_filtered[[\"inchi_parent\", \"names_resolved\", \"iupac_name\", \"smiles_resolved\", \"cid\", \"record_id\", \"logBB_resolved\", \"logBB_group\", \"BBB+/BBB-_resolved\", \"BBB+/BBB-_group\"]].rename(columns={\n",
    "    \"inchi_parent\": \"inchi\",\n",
    "    \"names_resolved\": \"names\",\n",
    "    \"record_id\": \"record_ids\",\n",
    "    \"smiles_resolved\": \"smiles\",\n",
    "    # \"names_resolved\": \"names\",\n",
    "    # \"record_id\": \"record_ids\",\n",
    "    \"logBB_resolved\": \"logBB\",\n",
    "    \"BBB+/BBB-_resolved\": \"BBB+/BBB-\",\n",
    "})\n",
    "df_b3db_kc.cid = df_b3db_kc.cid.apply(lambda x: str(int(x)) if pd.notna(x) else \"\") # A conversion from nullable float to int-based string. It should automatically be parsed to the \n",
    "df_b3db_kc.to_csv(\n",
    "    \"dataset_intermediaries/03_b3db_kc_raw.tsv\", \n",
    "    index=False, \n",
    "    sep=\"\\t\",\n",
    "    float_format=\"%.2f\" # \"logBB\" ought to be the sole float column. \n",
    ")"
   ],
   "metadata": {
    "collapsed": false,
    "ExecuteTime": {
     "end_time": "2024-07-09T08:47:56.365330Z",
     "start_time": "2024-07-09T08:47:56.331676Z"
    }
   },
   "outputs": [],
   "execution_count": 38
  },
  {
   "metadata": {},
   "cell_type": "markdown",
   "source": "### Reference data statistics"
  },
  {
   "metadata": {
    "ExecuteTime": {
     "end_time": "2024-07-11T13:43:37.912577Z",
     "start_time": "2024-07-11T13:43:37.812843Z"
    }
   },
   "cell_type": "code",
   "source": [
    "records_in_b3db_kc = df_b3db_kc.record_ids.apply(lambda x: {y.split(\"_\")[0] for y in x.split(\"|\")})\n",
    "\n",
    "_d = [{\n",
    "    \"id\": rd,\n",
    "    \"author_year\": references_id_to_first_author_year[rd],\n",
    "    \"# original\": len(get_b3db_r_df(rd)),\n",
    "    \"# in dataset\": len([x for x in records_in_b3db_kc if rd in x]),\n",
    "    \"# only source\": len([x for x in records_in_b3db_kc if rd in x and len(x) == 1]),    \n",
    "} for rd in references_used]\n",
    "\n",
    "pd.DataFrame(_d)"
   ],
   "outputs": [
    {
     "data": {
      "text/plain": [
       "     id            author_year  # original  # in dataset  # only source\n",
       "0    R3           abraham_2006         328           272              3\n",
       "1    R4             mente_2005         189           187             10\n",
       "2    R5            guerra_2008         108           106              0\n",
       "3    R6            adenot_2004        1692          1608           1070\n",
       "4    R7            andres_2006         224           220              3\n",
       "5   R12              garg_2006         182           174              1\n",
       "6   R14             ghose_2012         942           855            186\n",
       "7   R17                fu_2008          55            55              0\n",
       "8   R21       muehlbacher_2011         362           351              4\n",
       "9   R22             clark_1999          27            27              0\n",
       "10  R23             gupta_2019        1090          1034            372\n",
       "11  R25     brito_sanchez_2015         581           549             18\n",
       "12  R26             chico_2009         448           409            101\n",
       "13  R28                li_2005         415           386             92\n",
       "14  R29       subramanian_2003         181           181              3\n",
       "15  R31         carpenter_2014          12            12              0\n",
       "16  R34       broccatelli_2012         153           153              1\n",
       "17  R37              chen_2011         111           108              4\n",
       "18  R39         shayanfar_2011         122           118              0\n",
       "19  R40             vilar_2010         405           398              3\n",
       "20  R41           toropov_2017         296           276              7\n",
       "21  R42             ciura_2020          45            44              4\n",
       "22  R44             bujak_2015          89            81              0\n",
       "23  R45     hemmateenejad_2006           8             8              5\n",
       "24  R46  mendoza_valencia_2017         483           477             53\n",
       "25  R47         radchenko_2020         529           514             77\n",
       "26  R48               hou_2003         115           109             22\n",
       "27  R49          norinder_2002         181           115              0\n",
       "28  R50          sobanska_2019         113           108             10\n",
       "29  R51          doninger_2002         325           297             31\n",
       "30  R52               liu_2001          70            69              3\n",
       "31  R53            friden_2009          42            39              0"
      ],
      "text/html": [
       "<div>\n",
       "<style scoped>\n",
       "    .dataframe tbody tr th:only-of-type {\n",
       "        vertical-align: middle;\n",
       "    }\n",
       "\n",
       "    .dataframe tbody tr th {\n",
       "        vertical-align: top;\n",
       "    }\n",
       "\n",
       "    .dataframe thead th {\n",
       "        text-align: right;\n",
       "    }\n",
       "</style>\n",
       "<table border=\"1\" class=\"dataframe\">\n",
       "  <thead>\n",
       "    <tr style=\"text-align: right;\">\n",
       "      <th></th>\n",
       "      <th>id</th>\n",
       "      <th>author_year</th>\n",
       "      <th># original</th>\n",
       "      <th># in dataset</th>\n",
       "      <th># only source</th>\n",
       "    </tr>\n",
       "  </thead>\n",
       "  <tbody>\n",
       "    <tr>\n",
       "      <th>0</th>\n",
       "      <td>R3</td>\n",
       "      <td>abraham_2006</td>\n",
       "      <td>328</td>\n",
       "      <td>272</td>\n",
       "      <td>3</td>\n",
       "    </tr>\n",
       "    <tr>\n",
       "      <th>1</th>\n",
       "      <td>R4</td>\n",
       "      <td>mente_2005</td>\n",
       "      <td>189</td>\n",
       "      <td>187</td>\n",
       "      <td>10</td>\n",
       "    </tr>\n",
       "    <tr>\n",
       "      <th>2</th>\n",
       "      <td>R5</td>\n",
       "      <td>guerra_2008</td>\n",
       "      <td>108</td>\n",
       "      <td>106</td>\n",
       "      <td>0</td>\n",
       "    </tr>\n",
       "    <tr>\n",
       "      <th>3</th>\n",
       "      <td>R6</td>\n",
       "      <td>adenot_2004</td>\n",
       "      <td>1692</td>\n",
       "      <td>1608</td>\n",
       "      <td>1070</td>\n",
       "    </tr>\n",
       "    <tr>\n",
       "      <th>4</th>\n",
       "      <td>R7</td>\n",
       "      <td>andres_2006</td>\n",
       "      <td>224</td>\n",
       "      <td>220</td>\n",
       "      <td>3</td>\n",
       "    </tr>\n",
       "    <tr>\n",
       "      <th>5</th>\n",
       "      <td>R12</td>\n",
       "      <td>garg_2006</td>\n",
       "      <td>182</td>\n",
       "      <td>174</td>\n",
       "      <td>1</td>\n",
       "    </tr>\n",
       "    <tr>\n",
       "      <th>6</th>\n",
       "      <td>R14</td>\n",
       "      <td>ghose_2012</td>\n",
       "      <td>942</td>\n",
       "      <td>855</td>\n",
       "      <td>186</td>\n",
       "    </tr>\n",
       "    <tr>\n",
       "      <th>7</th>\n",
       "      <td>R17</td>\n",
       "      <td>fu_2008</td>\n",
       "      <td>55</td>\n",
       "      <td>55</td>\n",
       "      <td>0</td>\n",
       "    </tr>\n",
       "    <tr>\n",
       "      <th>8</th>\n",
       "      <td>R21</td>\n",
       "      <td>muehlbacher_2011</td>\n",
       "      <td>362</td>\n",
       "      <td>351</td>\n",
       "      <td>4</td>\n",
       "    </tr>\n",
       "    <tr>\n",
       "      <th>9</th>\n",
       "      <td>R22</td>\n",
       "      <td>clark_1999</td>\n",
       "      <td>27</td>\n",
       "      <td>27</td>\n",
       "      <td>0</td>\n",
       "    </tr>\n",
       "    <tr>\n",
       "      <th>10</th>\n",
       "      <td>R23</td>\n",
       "      <td>gupta_2019</td>\n",
       "      <td>1090</td>\n",
       "      <td>1034</td>\n",
       "      <td>372</td>\n",
       "    </tr>\n",
       "    <tr>\n",
       "      <th>11</th>\n",
       "      <td>R25</td>\n",
       "      <td>brito_sanchez_2015</td>\n",
       "      <td>581</td>\n",
       "      <td>549</td>\n",
       "      <td>18</td>\n",
       "    </tr>\n",
       "    <tr>\n",
       "      <th>12</th>\n",
       "      <td>R26</td>\n",
       "      <td>chico_2009</td>\n",
       "      <td>448</td>\n",
       "      <td>409</td>\n",
       "      <td>101</td>\n",
       "    </tr>\n",
       "    <tr>\n",
       "      <th>13</th>\n",
       "      <td>R28</td>\n",
       "      <td>li_2005</td>\n",
       "      <td>415</td>\n",
       "      <td>386</td>\n",
       "      <td>92</td>\n",
       "    </tr>\n",
       "    <tr>\n",
       "      <th>14</th>\n",
       "      <td>R29</td>\n",
       "      <td>subramanian_2003</td>\n",
       "      <td>181</td>\n",
       "      <td>181</td>\n",
       "      <td>3</td>\n",
       "    </tr>\n",
       "    <tr>\n",
       "      <th>15</th>\n",
       "      <td>R31</td>\n",
       "      <td>carpenter_2014</td>\n",
       "      <td>12</td>\n",
       "      <td>12</td>\n",
       "      <td>0</td>\n",
       "    </tr>\n",
       "    <tr>\n",
       "      <th>16</th>\n",
       "      <td>R34</td>\n",
       "      <td>broccatelli_2012</td>\n",
       "      <td>153</td>\n",
       "      <td>153</td>\n",
       "      <td>1</td>\n",
       "    </tr>\n",
       "    <tr>\n",
       "      <th>17</th>\n",
       "      <td>R37</td>\n",
       "      <td>chen_2011</td>\n",
       "      <td>111</td>\n",
       "      <td>108</td>\n",
       "      <td>4</td>\n",
       "    </tr>\n",
       "    <tr>\n",
       "      <th>18</th>\n",
       "      <td>R39</td>\n",
       "      <td>shayanfar_2011</td>\n",
       "      <td>122</td>\n",
       "      <td>118</td>\n",
       "      <td>0</td>\n",
       "    </tr>\n",
       "    <tr>\n",
       "      <th>19</th>\n",
       "      <td>R40</td>\n",
       "      <td>vilar_2010</td>\n",
       "      <td>405</td>\n",
       "      <td>398</td>\n",
       "      <td>3</td>\n",
       "    </tr>\n",
       "    <tr>\n",
       "      <th>20</th>\n",
       "      <td>R41</td>\n",
       "      <td>toropov_2017</td>\n",
       "      <td>296</td>\n",
       "      <td>276</td>\n",
       "      <td>7</td>\n",
       "    </tr>\n",
       "    <tr>\n",
       "      <th>21</th>\n",
       "      <td>R42</td>\n",
       "      <td>ciura_2020</td>\n",
       "      <td>45</td>\n",
       "      <td>44</td>\n",
       "      <td>4</td>\n",
       "    </tr>\n",
       "    <tr>\n",
       "      <th>22</th>\n",
       "      <td>R44</td>\n",
       "      <td>bujak_2015</td>\n",
       "      <td>89</td>\n",
       "      <td>81</td>\n",
       "      <td>0</td>\n",
       "    </tr>\n",
       "    <tr>\n",
       "      <th>23</th>\n",
       "      <td>R45</td>\n",
       "      <td>hemmateenejad_2006</td>\n",
       "      <td>8</td>\n",
       "      <td>8</td>\n",
       "      <td>5</td>\n",
       "    </tr>\n",
       "    <tr>\n",
       "      <th>24</th>\n",
       "      <td>R46</td>\n",
       "      <td>mendoza_valencia_2017</td>\n",
       "      <td>483</td>\n",
       "      <td>477</td>\n",
       "      <td>53</td>\n",
       "    </tr>\n",
       "    <tr>\n",
       "      <th>25</th>\n",
       "      <td>R47</td>\n",
       "      <td>radchenko_2020</td>\n",
       "      <td>529</td>\n",
       "      <td>514</td>\n",
       "      <td>77</td>\n",
       "    </tr>\n",
       "    <tr>\n",
       "      <th>26</th>\n",
       "      <td>R48</td>\n",
       "      <td>hou_2003</td>\n",
       "      <td>115</td>\n",
       "      <td>109</td>\n",
       "      <td>22</td>\n",
       "    </tr>\n",
       "    <tr>\n",
       "      <th>27</th>\n",
       "      <td>R49</td>\n",
       "      <td>norinder_2002</td>\n",
       "      <td>181</td>\n",
       "      <td>115</td>\n",
       "      <td>0</td>\n",
       "    </tr>\n",
       "    <tr>\n",
       "      <th>28</th>\n",
       "      <td>R50</td>\n",
       "      <td>sobanska_2019</td>\n",
       "      <td>113</td>\n",
       "      <td>108</td>\n",
       "      <td>10</td>\n",
       "    </tr>\n",
       "    <tr>\n",
       "      <th>29</th>\n",
       "      <td>R51</td>\n",
       "      <td>doninger_2002</td>\n",
       "      <td>325</td>\n",
       "      <td>297</td>\n",
       "      <td>31</td>\n",
       "    </tr>\n",
       "    <tr>\n",
       "      <th>30</th>\n",
       "      <td>R52</td>\n",
       "      <td>liu_2001</td>\n",
       "      <td>70</td>\n",
       "      <td>69</td>\n",
       "      <td>3</td>\n",
       "    </tr>\n",
       "    <tr>\n",
       "      <th>31</th>\n",
       "      <td>R53</td>\n",
       "      <td>friden_2009</td>\n",
       "      <td>42</td>\n",
       "      <td>39</td>\n",
       "      <td>0</td>\n",
       "    </tr>\n",
       "  </tbody>\n",
       "</table>\n",
       "</div>"
      ]
     },
     "execution_count": 58,
     "metadata": {},
     "output_type": "execute_result"
    }
   ],
   "execution_count": 58
  },
  {
   "cell_type": "markdown",
   "source": [
    "## Fingerprints conflicts and aggregators\n",
    "\n",
    "During fingerprint analysis, we have noticed that over 63% (72/116) of conflicts in scaffold labels in our resulting dataset is caused by entries coming only from R27. We have further looked into this dataset and realised it is an aggregator, merging 8 datasets, 6 of which are included in B3DB, one is MoleculeNet (which should be equivalent to R1) and Yuan 2018.\n",
    "\n",
    "Gathering further statistics on the contents of R27:\n",
    "Total compounds with BBClass            : 7162\n",
    "Total compounds with logBB values       : 1155\n",
    "Total unique compounds with BBClass     : 4567\n",
    "Total unique compounds with logBB values: 749\n",
    "Multiple BBClass conflicts              : 224  (within the dataset)\n",
    "\n",
    "## R13 and R24\n",
    "Iterating on the conflict we have noticed R13 (Wang 2018) and R24 (Roy 2019) are resposible for the majority of the other fingerprint - based conflicts.\n",
    "\n",
    ">It may be beneficial to remove the aggregators and rely instead on the original publications and datasets. Removal of R13, R24 and R27 should require adding 3 new datasets (Shen 2010, Yuan 2018, Doniger 2002).\n"
   ],
   "metadata": {
    "collapsed": false,
    "ExecuteTime": {
     "start_time": "2023-11-10T12:47:11.292221Z"
    }
   }
  },
  {
   "cell_type": "code",
   "source": [
    "print(\"R27 / LightBBB dataset statistics\")\n",
    "\n",
    "df_r27 = pd.read_csv(\"../data/LightBBB_dataset/y_test_indices.csv\").rename(columns={\"Unnamed: 0\": \"SMILES\"})\n",
    "print(\"Total compounds with BBClass            :\", len(df_r27.BBclass))\n",
    "print(\"Total compounds with logBB values       :\", len(df_r27[pd.notna(df_r27.logBB)]))\n",
    "df_r27[\"mol\"]=df_r27.SMILES.apply(smiles_to_mol)\n",
    "df_r27[\"smiles_normalised\"]=df_r27.mol.apply(rdkit.Chem.MolToSmiles)\n",
    "df_r27_grouped = df_r27.groupby(\"smiles_normalised\").agg({\n",
    "    \"BBclass\": list,\n",
    "    \"logBB\": list,\n",
    "    \"SMILES\": list,\n",
    "})\n",
    "\n",
    "print(\"Total unique compounds with BBClass     :\", len(df_r27_grouped.BBclass))\n",
    "print(\"Total unique compounds with logBB values:\", len(df_r27[pd.notna(df_r27.logBB)].groupby(\"smiles_normalised\")))\n",
    "df_r27_grouped_bbb_conflicts = df_r27_grouped[df_r27_grouped.BBclass.apply(set).apply(len) > 1].copy()\n",
    "print(\"Multiple BBClass conflicts              :\", len(df_r27_grouped_bbb_conflicts))\n",
    "\n",
    "#df_r27_grouped.SMILES.apply(len).value_counts()\n",
    "df_r27_grouped_bbb_conflicts[\"no_records\"] = df_r27_grouped_bbb_conflicts.SMILES.apply(len)\n",
    "df_r27_grouped_bbb_conflicts.sort_values(\"no_records\", ascending=False)"
   ],
   "metadata": {
    "collapsed": false
   },
   "outputs": [],
   "execution_count": null
  },
  {
   "cell_type": "code",
   "source": [
    "_df_kc_o = df_b3db_kc\n",
    "print(\"Fingerprint conflict statistics in the context of aggregators3\")\n",
    "_df_kc_o[\"fingerprint\"] = _df_kc_o.smiles.apply(_to_fingerprint_tuple)\n",
    "df_fp_group = _df_kc_o.groupby(\"fingerprint\").agg({\n",
    "    \"BBB+/BBB-\": list,\n",
    "    \"logBB\": list,\n",
    "    \"names\": list,\n",
    "    \"cid\": list,\n",
    "    \"record_ids\": list,\n",
    "    \"smiles\": list,\n",
    "})\n",
    "df_fp_group[df_fp_group[\"BBB+/BBB-\"].apply(set).apply(len) > 1]\n",
    "print(\"Total fingerprints with BBB+/BBB- conflicts:\", len(df_fp_group[df_fp_group[\"BBB+/BBB-\"].apply(set).apply(len) > 1]))\n",
    "\n",
    "df_fp_group_no_27 = _df_kc[_df_kc.record_ids.apply(lambda x: len(list(y for y in x.split(\"|\") if y[0:3] not in {\"R27\"})) > 0)].groupby(\"fingerprint\").agg({\n",
    "    \"BBB+/BBB-\": list,\n",
    "    \"logBB\": list,\n",
    "    \"names\": list,\n",
    "    \"cid\": list,\n",
    "    \"record_ids\": list,\n",
    "    \"smiles\": list,\n",
    "}) \n",
    "print(\"Total fingerprints with BBB+/BBB- conflicts excluding compounds sourced from a single R27 record:\", len(df_fp_group_no_27[df_fp_group_no_27[\"BBB+/BBB-\"].apply(set).apply(len) > 1]))\n",
    "\n",
    "_s_fp_in_bbb_kc_no_27 = set(df_fp_group_no_27[(df_fp_group_no_27[\"BBB+/BBB-\"].apply(set).apply(len) > 1)].index)\n",
    "\n",
    "df_fp_group_r27_conflicts = df_fp_group[(df_fp_group[\"BBB+/BBB-\"].apply(set).apply(len) > 1) & (df_fp_group.index.map(lambda x: x not in _s_fp_in_bbb_kc_no_27))]\n",
    "\n",
    "df_fp_group_no_27_no_13_no_24 = _df_kc[_df_kc.record_ids.apply(lambda x: len(list(y for y in x.split(\"|\") if y[0:3] not in {\"R13\", \"R24\", \"R27\"})) > 0)].groupby(\"fingerprint\").agg({\n",
    "    \"BBB+/BBB-\": list,\n",
    "    \"logBB\": list,\n",
    "    \"names\": list,\n",
    "    \"cid\": list,\n",
    "    \"record_ids\": list,\n",
    "    \"smiles\": list,\n",
    "}) \n",
    "print(\"Total fingerprints with BBB+/BBB- conflicts excluding compounds sourced from a single R13, R24 and R27 record:\", len(df_fp_group_no_27_no_13_no_24[df_fp_group_no_27_no_13_no_24[\"BBB+/BBB-\"].apply(set).apply(len) > 1]))\n",
    "df_fp_group_no_27_no_13_no_24[df_fp_group_no_27_no_13_no_24[\"BBB+/BBB-\"].apply(set).apply(len) > 1]\n",
    "print(f\"\"\"\n",
    "Effects of excluding entries coming from only R13, R24 and R27:\n",
    " - total compounds        : {len(df_fp_group.smiles.explode())} -> {len(df_fp_group_no_27_no_13_no_24.smiles.explode())}\n",
    " - fingerprints           : {len(df_fp_group)} -> {len(df_fp_group_no_27_no_13_no_24)} \n",
    " - total with logBB       : {sum(pd.notna(df_fp_group.logBB.explode()))} -> {sum(pd.notna(df_fp_group_no_27_no_13_no_24.logBB.explode()))}\n",
    " - fingerprints with logBB: {sum(df_fp_group.logBB.apply(lambda x: len([y for y in x if pd.notna(y)]) > 0))}  -> {sum(df_fp_group_no_27_no_13_no_24.logBB.apply(lambda x: len([y for y in x if pd.notna(y)]) > 0))}\n",
    "\"\"\")\n"
   ],
   "metadata": {
    "collapsed": false
   },
   "outputs": [],
   "execution_count": null
  }
 ],
 "metadata": {
  "kernelspec": {
   "display_name": "Python 3",
   "language": "python",
   "name": "python3"
  },
  "language_info": {
   "codemirror_mode": {
    "name": "ipython",
    "version": 2
   },
   "file_extension": ".py",
   "mimetype": "text/x-python",
   "name": "python",
   "nbconvert_exporter": "python",
   "pygments_lexer": "ipython2",
   "version": "2.7.6"
  }
 },
 "nbformat": 4,
 "nbformat_minor": 0
}
