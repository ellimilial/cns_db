{
 "cells": [
  {
   "cell_type": "code",
   "id": "initial_id",
   "metadata": {
    "collapsed": true,
    "ExecuteTime": {
     "end_time": "2024-08-22T20:04:33.824765Z",
     "start_time": "2024-08-22T20:04:33.820611Z"
    }
   },
   "source": [
    "from sklearn.metrics import precision_recall_curve, auc\n",
    "import pandas as pd\n",
    "import pickle\n",
    "import seaborn as sns\n",
    "\n",
    "def pr_auc_score(y_true, probas_pred):\n",
    "    precision, recall, _ = precision_recall_curve(y_true=y_true, probas_pred=probas_pred)\n",
    "    return auc(recall, precision)"
   ],
   "outputs": [],
   "execution_count": 2
  },
  {
   "cell_type": "code",
   "source": [
    "df_b3db_kc = pd.read_csv(\"b3db_kc_split_descriptors.tsv\", sep=\"\\t\")\n",
    "df_b3db_kc['BBB_numeric'] = df_b3db_kc['BBB+/BBB-'].map({'BBB+': 1, 'BBB-': 0})\n",
    "df_train = df_b3db_kc[df_b3db_kc.split == \"training\"].copy().reset_index(drop=1)\n",
    "df_test = df_b3db_kc[df_b3db_kc.split == \"test\"].copy().reset_index(drop=1)\n",
    "print(f\"Read {len(df_b3db_kc)} records, {len(df_train)} in training, and {len(df_test)} in test splits.\")\n",
    "\n",
    "\n",
    "df_train_features = df_train.drop(columns=[\"inchi\", \"names\", \"iupac_name\", \"smiles\", \"cid\", \"record_ids\", \"logBB\", \"logBB_group\", \"BBB+/BBB-\",  \"BBB+/BBB-_group\", \"BBB_numeric\", \"split\"]) #, \"murcko_scaffold_grouped\"])\n",
    "df_train_features_desc2D_chemaxon = df_train_features[[c for c in list(df_train_features) if c.startswith(\"chemaxon\") or c.startswith(\"desc2D\")]]\n",
    "df_train_features_ecfp_count = df_train_features[[c for c in list(df_train_features) if c.startswith(\"ecfp\")]]\n",
    "df_train_features_maccs = df_train_features[[c for c in list(df_train_features) if c.startswith(\"maccs\")]]\n"
   ],
   "metadata": {
    "collapsed": false,
    "ExecuteTime": {
     "end_time": "2024-08-22T20:04:34.864840Z",
     "start_time": "2024-08-22T20:04:33.861622Z"
    }
   },
   "id": "9d29106420a4b3bc",
   "outputs": [
    {
     "name": "stdout",
     "output_type": "stream",
     "text": [
      "Read 3322 records, 2650 in training, and 672 in test splits.\n"
     ]
    }
   ],
   "execution_count": 3
  },
  {
   "cell_type": "code",
   "source": [
    "from sklearn.linear_model import LogisticRegression\n",
    "from sklearn.ensemble import RandomForestClassifier\n",
    "from sklearn.feature_selection import RFE, SequentialFeatureSelector\n",
    "from xgboost import XGBClassifier\n",
    "\n",
    "from sklearn.feature_selection import mutual_info_classif\n",
    "\n",
    "def get_correlated_features(_df, feature, threshold=0.9):\n",
    "    cor_mtx = _df.corr()\n",
    "    correlated = []\n",
    "    for c in list(cor_mtx.columns):\n",
    "        if c != feature:\n",
    "            c_a = abs(cor_mtx.loc[feature, c])\n",
    "            if c_a > threshold:\n",
    "                # print(c, feature, c_a)\n",
    "                correlated.append(c)\n",
    "    return correlated          \n",
    "\n",
    "def get_feature_rank_mutual_information(X, y):\n",
    "    mutual_info_scores = mutual_info_classif(X, y, random_state=42)\n",
    "    mutual_info_scores_series = pd.Series(mutual_info_scores, index=X.columns)\n",
    "    return mutual_info_scores_series.sort_values(ascending=False)\n",
    "    \n",
    "def get_feature_rank_xgboost_classification(X, y):\n",
    "    model = XGBClassifier(random_state=42)\n",
    "    model.fit(X, y)\n",
    "    return pd.Series(model.feature_importances_, index=X.columns).sort_values(ascending=False)\n",
    "\n",
    "# def get_feature_rank_random_forest_classification(X, y, n_features_to_select=None):\n",
    "#     model = RandomForestClassifier(random_state=42)\n",
    "#     #rfe = RFE(estimator=model, n_features_to_select=n_features_to_select) # None implies half the features get selected\n",
    "#     #rfe.fit(X, y)\n",
    "#     # return pd.Series(rfe.ranking_, index=X.columns)\n",
    "#     sfs = SequentialFeatureSelector(estimator=model, n_jobs=-1, n_features_to_select=n_features_to_select)\n",
    "#     sfs.fit(X, y)\n",
    "#     z = pd.Series(sfs.get_support(), index=X.columns)\n",
    "#     return z[z == True]\n",
    "#     \n",
    "# def get_feature_rank_logistic_regression(X, y, n_features_to_select=None):\n",
    "#     model = LogisticRegression(random_state=42, max_iter=1000)\n",
    "#     #rfe = RFE(estimator=model, n_features_to_select=n_features_to_select) # None implies half the features get selected\n",
    "#     #rfe.fit(X, y)\n",
    "#     # return pd.Series(rfe.ranking_, index=X.columns)\n",
    "#     sfs = SequentialFeatureSelector(estimator=model, n_jobs=-1, n_features_to_select=n_features_to_select)\n",
    "#     sfs.fit(X, y)\n",
    "#     z = pd.Series(sfs.get_support(), index=X.columns)\n",
    "#     return z[z == True]\n",
    "\n",
    "\n",
    "# def get_filtered_ranked_features(X, y):\n",
    "#     \"\"\"\n",
    "#     This method first extracts the features that are both present in top 50% based on both mutual information and top performers under XGBoost classification. It then ranks the remaining features using Recursive Feature Elimination wrapper using Random Forest model.\n",
    "#     \n",
    "#     This method relies on both boosted algorithms that performed well during the train / test split selection.\n",
    "#     \"\"\"\n",
    "#     _n_mut_inf_xgboost_feats = int(len(list(X)) / 2)\n",
    "#     _fs_mut_inf = get_feature_rank_mutual_information(X, y)\n",
    "#     _fs_xgboost = get_feature_rank_xgboost_classification(X, y)\n",
    "#     _s_fs = set(_fs_mut_inf.index[:_n_mut_inf_xgboost_feats]) & set(_fs_xgboost.index[:_n_mut_inf_xgboost_feats])\n",
    "#     fs_ranking = get_feature_rank_random_forest_classification(X[[f for f in list(X) if f in _s_fs]], y, n_features_to_select=1)\n",
    "#     return fs_ranking\n",
    "\n"
   ],
   "metadata": {
    "collapsed": false,
    "ExecuteTime": {
     "end_time": "2024-08-22T20:04:35.045340Z",
     "start_time": "2024-08-22T20:04:34.889995Z"
    }
   },
   "id": "bb0db40137408637",
   "outputs": [],
   "execution_count": 4
  },
  {
   "cell_type": "code",
   "source": [
    "CNS_MPO_FEATURES = [\"desc2D_TPSA\", \"desc2D_MolWt\", \"desc2D_NumHDonors\", \"chemaxon_logp\", \"chemaxon_logd\", \"chemaxon_pka_b\"]\n",
    "CORRELATION_THRESHOLD = 0.8\n",
    "\n",
    "_selected = CNS_MPO_FEATURES + [\"desc2D_NumHAcceptors\", \"desc2D_HeavyAtomCount\"]\n",
    "_correlated = set()\n",
    "for _f in _selected + [c for c in get_feature_rank_mutual_information(df_train_features_desc2D_chemaxon, df_train[\"BBB_numeric\"]).index if c not in _selected]:    \n",
    "    if _f not in _correlated:\n",
    "        if _f not in _selected:\n",
    "            _selected.append(_f)\n",
    "        _correlated = _correlated | set(get_correlated_features(df_train_features_desc2D_chemaxon, _f, threshold=CORRELATION_THRESHOLD))\n",
    "df_train_features_desc2D_chemaxon_filtered = df_train_features_desc2D_chemaxon[_selected]\n",
    "print(f\"Removed {len(list(df_train_features_desc2D_chemaxon)) - len(list(df_train_features_desc2D_chemaxon_filtered))} desc2D+ChemAxon correlated features (threshold: {CORRELATION_THRESHOLD}), {len(list(df_train_features_desc2D_chemaxon_filtered))} remaining\")\n",
    "#mutget_feature_rank_mutual_information(df_train_features_desc2D_chemaxon, df_train[\"BBB_numeric\"])"
   ],
   "metadata": {
    "collapsed": false,
    "ExecuteTime": {
     "end_time": "2024-08-22T20:05:27.354405Z",
     "start_time": "2024-08-22T20:04:35.277453Z"
    }
   },
   "id": "e69d4eab292e2ea9",
   "outputs": [
    {
     "name": "stdout",
     "output_type": "stream",
     "text": [
      "Removed 60 desc2D+ChemAxon correlated features (threshold: 0.8), 151 remaining\n"
     ]
    }
   ],
   "execution_count": 5
  },
  {
   "cell_type": "code",
   "source": [
    "SIMPLE_FILTERED_FEATURES = [\n",
    "    'desc2D_TPSA',\n",
    "    'desc2D_NumHDonors',\n",
    "    'chemaxon_logp',\n",
    "    'chemaxon_logd',\n",
    "    'chemaxon_pka_b',\n",
    "    'desc2D_NumHAcceptors',\n",
    "    'desc2D_HeavyAtomCount',\n",
    "    'desc2D_MinPartialCharge',\n",
    "    'desc2D_MaxPartialCharge',\n",
    "    'desc2D_qed',\n",
    "    'desc2D_MinEStateIndex',\n",
    "    'desc2D_HallKierAlpha',\n",
    "    'desc2D_MaxEStateIndex',\n",
    "    'desc2D_Kappa3',\n",
    "    'desc2D_Ipc',\n",
    "    'desc2D_FractionCSP3',\n",
    "    'desc2D_NumSaturatedHeterocycles',\n",
    "    'desc2D_Chi4v',\n",
    "    'desc2D_MinAbsEStateIndex',\n",
    "    'desc2D_NumRotatableBonds',\n",
    "    'desc2D_BalabanJ',\n",
    "    'desc2D_RingCount',\n",
    "    'desc2D_NumAmideBonds',\n",
    "    'desc2D_NumAromaticHeterocycles',\n",
    "    'desc2D_NumSpiroAtoms',\n",
    "    'desc2D_NumSaturatedRings',\n",
    "    'desc2D_NumAtomStereoCenters',\n",
    "    'desc2D_NumBridgeheadAtoms',\n",
    "    'desc2D_NumUnspecifiedAtomStereoCenters',\n",
    "    'desc2D_NumRadicalElectrons',\n",
    "    'desc2D_NumAromaticRings',\n",
    "]\n",
    "EXTENDED_FILTERED_FEATURES = SIMPLE_FILTERED_FEATURES + [\n",
    "    'desc2D_BCUT2D_MWHI',\n",
    "    'desc2D_SMR_VSA1',\n",
    "    'desc2D_SMR_VSA10',\n",
    "    'desc2D_PEOE_VSA1',\n",
    "    'desc2D_BCUT2D_MRLOW',\n",
    "    'desc2D_SlogP_VSA2',\n",
    "    'desc2D_PEOE_VSA10',\n",
    "    'desc2D_VSA_EState3',\n",
    "    'desc2D_SlogP_VSA3',\n",
    "    'desc2D_SMR_VSA5',\n",
    "    'desc2D_BCUT2D_MWLOW',\n",
    "    'desc2D_EState_VSA4',\n",
    "    'desc2D_SlogP_VSA6',\n",
    "    'desc2D_EState_VSA2',\n",
    "    'desc2D_PEOE_VSA8',\n",
    "    'desc2D_VSA_EState2',\n",
    "    'desc2D_BCUT2D_CHGLO',\n",
    "    'desc2D_EState_VSA9',\n",
    "    'desc2D_PEOE_VSA9',\n",
    "    'desc2D_PEOE_VSA6',\n",
    "    'desc2D_EState_VSA3',\n",
    "    'desc2D_EState_VSA8',\n",
    "    'desc2D_SMR_VSA6',\n",
    "    'desc2D_SlogP_VSA1',\n",
    "    'desc2D_EState_VSA5',\n",
    "    'desc2D_VSA_EState9',\n",
    "    'desc2D_EState_VSA6',\n",
    "    'desc2D_VSA_EState5',\n",
    "    'desc2D_PEOE_VSA7',\n",
    "    'desc2D_fr_COO2',\n",
    "    'desc2D_VSA_EState4',\n",
    "    'desc2D_SMR_VSA3',\n",
    "    'desc2D_VSA_EState1',\n",
    "    'desc2D_VSA_EState7',\n",
    "    'desc2D_PEOE_VSA14',\n",
    "    'desc2D_SMR_VSA4',\n",
    "    'desc2D_PEOE_VSA11',\n",
    "    'desc2D_PEOE_VSA3',\n",
    "    'desc2D_SlogP_VSA10',\n",
    "    'desc2D_fr_halogen',\n",
    "    'desc2D_FpDensityMorgan2',\n",
    "    'desc2D_VSA_EState10',\n",
    "    'desc2D_PEOE_VSA13',\n",
    "    'desc2D_fr_Ar_NH',\n",
    "    'desc2D_Alerts',\n",
    "    'desc2D_EState_VSA7',\n",
    "    'desc2D_PEOE_VSA4',\n",
    "    'desc2D_PEOE_VSA5',\n",
    "    'desc2D_fr_sulfide',\n",
    "    'desc2D_fr_para_hydroxylation',\n",
    "    'desc2D_PEOE_VSA12',\n",
    "    'desc2D_fr_ketone_Topliss',\n",
    "    'desc2D_fr_Ar_OH',\n",
    "    'desc2D_fr_N_O',\n",
    "    'desc2D_fr_allylic_oxid',\n",
    "    'desc2D_fr_lactam',\n",
    "    'desc2D_fr_aldehyde',\n",
    "    'desc2D_VSA_EState8',\n",
    "    'desc2D_SMR_VSA9',\n",
    "    'desc2D_fr_sulfone',\n",
    "    'desc2D_fr_Al_OH_noTert',\n",
    "    'desc2D_fr_epoxide',\n",
    "    'desc2D_fr_thiazole',\n",
    "    'desc2D_SlogP_VSA8',\n",
    "    'desc2D_SlogP_VSA11',\n",
    "    'desc2D_fr_NH1',\n",
    "    'desc2D_EState_VSA11',\n",
    "    'desc2D_fr_NH2',\n",
    "    'desc2D_fr_pyridine',\n",
    "    'desc2D_fr_quatN',\n",
    "    'desc2D_fr_azo',\n",
    "    'desc2D_fr_isothiocyan',\n",
    "    'desc2D_fr_nitro_arom_nonortho',\n",
    "    'desc2D_fr_Ndealkylation2',\n",
    "    'desc2D_fr_barbitur',\n",
    "    'desc2D_fr_sulfonamd',\n",
    "    'desc2D_fr_nitroso',\n",
    "    'desc2D_fr_methoxy',\n",
    "    'desc2D_fr_aniline',\n",
    "    'desc2D_fr_urea',\n",
    "    'desc2D_SMR_VSA2',\n",
    "    'desc2D_fr_diazo',\n",
    "    'desc2D_fr_phos_ester',\n",
    "    'desc2D_fr_ether',\n",
    "    'desc2D_fr_SH',\n",
    "    'desc2D_fr_aryl_methyl',\n",
    "    'desc2D_fr_isocyan',\n",
    "    'desc2D_fr_prisulfonamd',\n",
    "    'desc2D_fr_azide',\n",
    "    'desc2D_SlogP_VSA9',\n",
    "    'desc2D_fr_piperdine',\n",
    "    'desc2D_fr_imidazole',\n",
    "    'desc2D_fr_priamide',\n",
    "    'desc2D_fr_ArN',\n",
    "    'desc2D_fr_amidine',\n",
    "    'desc2D_fr_Ndealkylation1',\n",
    "    'desc2D_fr_oxime',\n",
    "    'desc2D_fr_morpholine',\n",
    "    'desc2D_fr_benzodiazepine',\n",
    "    'desc2D_fr_Imine',\n",
    "    'desc2D_fr_guanido',\n",
    "    'desc2D_fr_alkyl_carbamate',\n",
    "    'desc2D_fr_bicyclic',\n",
    "    'desc2D_fr_tetrazole',\n",
    "    'desc2D_fr_dihydropyridine',\n",
    "    'desc2D_fr_ester',\n",
    "    'desc2D_fr_unbrch_alkane',\n",
    "    'desc2D_SMR_VSA8',\n",
    "    'desc2D_fr_thiophene',\n",
    "    'desc2D_SlogP_VSA7',\n",
    "    'desc2D_fr_thiocyan',\n",
    "    'desc2D_fr_nitro',\n",
    "    'desc2D_fr_term_acetylene',\n",
    "    'desc2D_fr_Ar_COO',\n",
    "    'desc2D_fr_hdrzine',\n",
    "    'desc2D_fr_hdrzone',\n",
    "    'desc2D_fr_piperzine',\n",
    "    'desc2D_fr_NH0',\n",
    "    'desc2D_fr_HOCCN',\n",
    "    'desc2D_fr_lactone',\n",
    "    'desc2D_fr_C_S',\n",
    "    'desc2D_fr_oxazole',\n",
    "    'desc2D_fr_furan'\n",
    "]"
   ],
   "metadata": {
    "collapsed": false,
    "ExecuteTime": {
     "end_time": "2024-08-22T20:05:27.414320Z",
     "start_time": "2024-08-22T20:05:27.408626Z"
    }
   },
   "id": "90c6ff718229734b",
   "outputs": [],
   "execution_count": 6
  },
  {
   "cell_type": "code",
   "source": [
    "# nmax=int(len(list(df_train_features)) / 2)\n",
    "# #nmax = 1000\n",
    "# features_selection_mutual_information = get_feature_rank_mutual_information(df_train_features, df_train[\"BBB_numeric\"])\n",
    "# features_selection_xgboost_classification = get_feature_rank_xgboost_classification(df_train_features, df_train[\"BBB_numeric\"])\n",
    "# _s_features_m_inf_and_xgboost = set(features_selection_mutual_information.index[:nmax]) & set(features_selection_xgboost_classification.index[:nmax])\n",
    "# #print(len(_s_features_m_inf_and_xgboost))\n",
    "# features_rf_ranking = get_feature_rank_random_forest_classification(df_train_features[[f for f in list(df_train_features) if f in _s_features_m_inf_and_xgboost]], df_train[\"BBB_numeric\"], n_features_to_select=1)"
   ],
   "metadata": {
    "collapsed": false,
    "ExecuteTime": {
     "end_time": "2024-08-22T20:05:27.470677Z",
     "start_time": "2024-08-22T20:05:27.468163Z"
    }
   },
   "id": "5abd00c5f32ea942",
   "outputs": [],
   "execution_count": 7
  },
  {
   "cell_type": "code",
   "source": [
    "# get_filtered_ranked_features(df_train_features_ecfp_count, df_train[\"BBB_numeric\"])\n",
    "# get_feature_rank_xgboost_classification(df_train_features_maccs, df_train[\"BBB_numeric\"])\n",
    "#get_feature_rank_xgboost_classification(df_b3db_kc[[c for c in list(df_b3db_kc) if c.startswith(\"maccs\")]], df_b3db_kc[\"BBB_numeric\"])"
   ],
   "metadata": {
    "collapsed": false,
    "ExecuteTime": {
     "end_time": "2024-08-22T20:05:27.527568Z",
     "start_time": "2024-08-22T20:05:27.525261Z"
    }
   },
   "id": "4fb9b2d30e7ba4b7",
   "outputs": [],
   "execution_count": 8
  },
  {
   "cell_type": "code",
   "source": [
    "# from molfeat.trans.fp import FPVecTransformer\n",
    "# from utils import smiles_to_mol\n",
    "# df_b3db_kc[\"mol\"] = df_b3db_kc.smiles.apply(smiles_to_mol)\n",
    "# transformer = FPVecTransformer(kind=\"maccs\", dtype=float, n_jobs=16, verbose=True)  \n",
    "# _df_desc = pd.DataFrame(transformer(df_b3db_kc[\"mol\"]), columns=transformer.columns)\n",
    "# get_feature_rank_xgboost_classification(_df_desc, df_b3db_kc[\"BBB_numeric\"])\n",
    "# df_b3db = pd.read_csv(\"B3DB/B3DB/B3DB_classification.tsv\", sep=\"\\t\")\n",
    "# df_b3db[\"mol\"] = df_b3db.SMILES.apply(smiles_to_mol)\n",
    "# df_b3db['BBB_numeric'] = df_b3db['BBB+/BBB-'].map({'BBB+': 1, 'BBB-': 0})\n",
    "# _df_desc_b3db = pd.DataFrame(transformer(df_b3db[\"mol\"]), columns=transformer.columns)\n",
    "# get_feature_rank_xgboost_classification(_df_desc_b3db, df_b3db[\"BBB_numeric\"])"
   ],
   "metadata": {
    "collapsed": false,
    "ExecuteTime": {
     "end_time": "2024-08-22T20:05:27.584797Z",
     "start_time": "2024-08-22T20:05:27.582465Z"
    }
   },
   "id": "c7791f74f5b8a5c4",
   "outputs": [],
   "execution_count": 9
  },
  {
   "cell_type": "code",
   "source": [
    "from sklearn.metrics import accuracy_score, balanced_accuracy_score, confusion_matrix, \\\n",
    "    classification_report\n",
    "from sklearn.metrics import f1_score\n",
    "from sklearn.metrics import precision_score\n",
    "from sklearn.metrics import recall_score\n",
    "from sklearn.model_selection import cross_validate, StratifiedGroupKFold\n",
    "\n",
    "df_test_features = df_test.drop(columns=[\"inchi\", \"names\", \"iupac_name\", \"smiles\", \"cid\", \"record_ids\", \"logBB\", \"logBB_group\", \"BBB+/BBB-\",  \"BBB+/BBB-_group\", \"BBB_numeric\", \"split\", \"murcko_scaffold_grouped\"])\n",
    "df_test_features_desc2D_chemaxon = df_test_features[[c for c in list(df_test_features) if c.startswith(\"chemaxon\") or c.startswith(\"desc2D\")]]\n",
    "df_test_features_ecfp_count = df_test_features[[c for c in list(df_test_features) if c.startswith(\"ecfp\")]]\n",
    "df_test_features_maccs = df_test_features[[c for c in list(df_test_features) if c.startswith(\"maccs\")]]\n",
    "\n",
    "\n",
    "def evaluate_train(model, X_train, X_groups, y_train):\n",
    "    return cross_validate(\n",
    "        model, X_train, y_train,\n",
    "        groups=X_groups,\n",
    "        scoring=[\"roc_auc\", \"balanced_accuracy\", \"precision\", \"recall\", \"accuracy\", \"f1\"],\n",
    "        cv=StratifiedGroupKFold(5, shuffle=True, random_state=42),\n",
    "        verbose=1,\n",
    "        return_indices=True\n",
    "    )\n",
    "\n",
    "\n",
    "def evaluate_test(_model, X_test, y_test):\n",
    "    y_pred = _model.predict(X_test)\n",
    "    y_prob = _model.predict_proba(X_test)[:, 1]  # Probabilities for the positive class\n",
    "    return {\n",
    "        \"roc_auc\": roc_auc_score(y_test, y_prob),\n",
    "        \"pr_auc\": pr_auc_score(y_test, y_prob),\n",
    "        \"balanced_accuracy\": balanced_accuracy_score(y_test, y_pred),\n",
    "        \"accuracy\": accuracy_score(y_test, y_pred),\n",
    "    }\n",
    "\n",
    "\n",
    "def display_test_evaluation(_model, X_test, y_test):\n",
    "    y_pred = _model.predict(X_test)\n",
    "    y_prob = _model.predict_proba(X_test)[:, 1]  # Probabilities for the positive class\n",
    "\n",
    "    roc_auc = roc_auc_score(y_test, y_prob)\n",
    "    pr_auc = pr_auc_score(y_test, y_prob)\n",
    "    f1 = f1_score(y_test, y_pred)\n",
    "    precision = precision_score(y_test, y_pred)\n",
    "    recall = recall_score(y_test, y_pred)\n",
    "    accuracy = accuracy_score(y_test, y_pred)\n",
    "    balanced_acc = balanced_accuracy_score(y_test, y_pred)\n",
    "\n",
    "    conf_matrix = confusion_matrix(y_test, y_pred)\n",
    "    class_report = classification_report(y_test, y_pred)\n",
    "    \n",
    "    print(_model.__class__.__name__)\n",
    "    print(f\"ROC AUC: {roc_auc:.2f}\")\n",
    "    print(f\"PR AUC: {pr_auc:.2f}\")\n",
    "    print(f\"F1 Score: {f1:.2f}\")\n",
    "    \n",
    "    print(f\"Precision: {precision:.2f}\")\n",
    "    print(f\"Recall: {recall:.2f}\")\n",
    "    \n",
    "    print(f\"Accuracy: {accuracy:.2f}\")\n",
    "    print(f\"Balanced Accuracy: {balanced_acc:.2f}\")\n",
    "    \n",
    "    print(\"Confusion Matrix:\")\n",
    "    print(conf_matrix)\n",
    "    print(\"Classification Report:\")\n",
    "    print(class_report)\n"
   ],
   "metadata": {
    "collapsed": false,
    "ExecuteTime": {
     "end_time": "2024-08-22T20:05:27.652605Z",
     "start_time": "2024-08-22T20:05:27.637288Z"
    }
   },
   "id": "8fef593120f75e54",
   "outputs": [],
   "execution_count": 10
  },
  {
   "cell_type": "code",
   "source": [
    "print(\"Performance of logistic regression predictor (grouped CV on training dataset) based on a single feature\")\n",
    "_one_feature_regression_results = []\n",
    "for f in list(df_train_features_desc2D_chemaxon_filtered):\n",
    "    mod = LogisticRegression(random_state=42, max_iter=1000)\n",
    "    _r = evaluate_train(mod, X_train=df_train[[f]], X_groups=df_train[[\"murcko_scaffold_grouped\"]], y_train=df_train[\"BBB_numeric\"])\n",
    "    _r_m = {k.replace(\"test\", \"train\") + \"_avg\": sum(v) / len(v) for k, v in _r.items() if \"test\" in k}\n",
    "    _one_feature_regression_results.append({\"feature\": f} | _r_m)\n",
    "df_one_feature_regression_results = pd.DataFrame(_one_feature_regression_results).sort_values(\"train_roc_auc_avg\", ascending=False)\n",
    "\n",
    "df_one_feature_regression_results"
   ],
   "metadata": {
    "collapsed": false,
    "ExecuteTime": {
     "end_time": "2024-08-22T20:06:15.326848Z",
     "start_time": "2024-08-22T20:05:27.729796Z"
    }
   },
   "id": "3255324a941359ff",
   "outputs": [
    {
     "name": "stdout",
     "output_type": "stream",
     "text": [
      "Performance of logistic regression predictor (grouped CV on training dataset) based on a single feature\n"
     ]
    },
    {
     "data": {
      "text/plain": [
       "                   feature  train_roc_auc_avg  train_balanced_accuracy_avg  \\\n",
       "0              desc2D_TPSA           0.785472                     0.697856   \n",
       "2        desc2D_NumHDonors           0.740500                     0.652477   \n",
       "10         desc2D_SMR_VSA1           0.728622                     0.630255   \n",
       "16      desc2D_VSA_EState3           0.717833                     0.626836   \n",
       "6     desc2D_NumHAcceptors           0.714793                     0.625559   \n",
       "..                     ...                ...                          ...   \n",
       "21         desc2D_SMR_VSA7           0.492796                     0.500000   \n",
       "73  desc2D_fr_allylic_oxid           0.489508                     0.500000   \n",
       "59     desc2D_FractionCSP3           0.473983                     0.500000   \n",
       "54      desc2D_VSA_EState8           0.469092                     0.500000   \n",
       "44           desc2D_Kappa3           0.372670                     0.500000   \n",
       "\n",
       "    train_precision_avg  train_recall_avg  train_accuracy_avg  train_f1_avg  \n",
       "0              0.756669          0.886716            0.747675      0.816244  \n",
       "2              0.718986          0.930930            0.726123      0.811037  \n",
       "10             0.708685          0.894563            0.699641      0.790081  \n",
       "16             0.705139          0.903808            0.700094      0.791903  \n",
       "6              0.703211          0.920239            0.704018      0.797053  \n",
       "..                  ...               ...                 ...           ...  \n",
       "21             0.632517          1.000000            0.632517      0.774624  \n",
       "73             0.632517          1.000000            0.632517      0.774624  \n",
       "59             0.632517          1.000000            0.632517      0.774624  \n",
       "54             0.632517          1.000000            0.632517      0.774624  \n",
       "44             0.632517          1.000000            0.632517      0.774624  \n",
       "\n",
       "[151 rows x 7 columns]"
      ],
      "text/html": [
       "<div>\n",
       "<style scoped>\n",
       "    .dataframe tbody tr th:only-of-type {\n",
       "        vertical-align: middle;\n",
       "    }\n",
       "\n",
       "    .dataframe tbody tr th {\n",
       "        vertical-align: top;\n",
       "    }\n",
       "\n",
       "    .dataframe thead th {\n",
       "        text-align: right;\n",
       "    }\n",
       "</style>\n",
       "<table border=\"1\" class=\"dataframe\">\n",
       "  <thead>\n",
       "    <tr style=\"text-align: right;\">\n",
       "      <th></th>\n",
       "      <th>feature</th>\n",
       "      <th>train_roc_auc_avg</th>\n",
       "      <th>train_balanced_accuracy_avg</th>\n",
       "      <th>train_precision_avg</th>\n",
       "      <th>train_recall_avg</th>\n",
       "      <th>train_accuracy_avg</th>\n",
       "      <th>train_f1_avg</th>\n",
       "    </tr>\n",
       "  </thead>\n",
       "  <tbody>\n",
       "    <tr>\n",
       "      <th>0</th>\n",
       "      <td>desc2D_TPSA</td>\n",
       "      <td>0.785472</td>\n",
       "      <td>0.697856</td>\n",
       "      <td>0.756669</td>\n",
       "      <td>0.886716</td>\n",
       "      <td>0.747675</td>\n",
       "      <td>0.816244</td>\n",
       "    </tr>\n",
       "    <tr>\n",
       "      <th>2</th>\n",
       "      <td>desc2D_NumHDonors</td>\n",
       "      <td>0.740500</td>\n",
       "      <td>0.652477</td>\n",
       "      <td>0.718986</td>\n",
       "      <td>0.930930</td>\n",
       "      <td>0.726123</td>\n",
       "      <td>0.811037</td>\n",
       "    </tr>\n",
       "    <tr>\n",
       "      <th>10</th>\n",
       "      <td>desc2D_SMR_VSA1</td>\n",
       "      <td>0.728622</td>\n",
       "      <td>0.630255</td>\n",
       "      <td>0.708685</td>\n",
       "      <td>0.894563</td>\n",
       "      <td>0.699641</td>\n",
       "      <td>0.790081</td>\n",
       "    </tr>\n",
       "    <tr>\n",
       "      <th>16</th>\n",
       "      <td>desc2D_VSA_EState3</td>\n",
       "      <td>0.717833</td>\n",
       "      <td>0.626836</td>\n",
       "      <td>0.705139</td>\n",
       "      <td>0.903808</td>\n",
       "      <td>0.700094</td>\n",
       "      <td>0.791903</td>\n",
       "    </tr>\n",
       "    <tr>\n",
       "      <th>6</th>\n",
       "      <td>desc2D_NumHAcceptors</td>\n",
       "      <td>0.714793</td>\n",
       "      <td>0.625559</td>\n",
       "      <td>0.703211</td>\n",
       "      <td>0.920239</td>\n",
       "      <td>0.704018</td>\n",
       "      <td>0.797053</td>\n",
       "    </tr>\n",
       "    <tr>\n",
       "      <th>...</th>\n",
       "      <td>...</td>\n",
       "      <td>...</td>\n",
       "      <td>...</td>\n",
       "      <td>...</td>\n",
       "      <td>...</td>\n",
       "      <td>...</td>\n",
       "      <td>...</td>\n",
       "    </tr>\n",
       "    <tr>\n",
       "      <th>21</th>\n",
       "      <td>desc2D_SMR_VSA7</td>\n",
       "      <td>0.492796</td>\n",
       "      <td>0.500000</td>\n",
       "      <td>0.632517</td>\n",
       "      <td>1.000000</td>\n",
       "      <td>0.632517</td>\n",
       "      <td>0.774624</td>\n",
       "    </tr>\n",
       "    <tr>\n",
       "      <th>73</th>\n",
       "      <td>desc2D_fr_allylic_oxid</td>\n",
       "      <td>0.489508</td>\n",
       "      <td>0.500000</td>\n",
       "      <td>0.632517</td>\n",
       "      <td>1.000000</td>\n",
       "      <td>0.632517</td>\n",
       "      <td>0.774624</td>\n",
       "    </tr>\n",
       "    <tr>\n",
       "      <th>59</th>\n",
       "      <td>desc2D_FractionCSP3</td>\n",
       "      <td>0.473983</td>\n",
       "      <td>0.500000</td>\n",
       "      <td>0.632517</td>\n",
       "      <td>1.000000</td>\n",
       "      <td>0.632517</td>\n",
       "      <td>0.774624</td>\n",
       "    </tr>\n",
       "    <tr>\n",
       "      <th>54</th>\n",
       "      <td>desc2D_VSA_EState8</td>\n",
       "      <td>0.469092</td>\n",
       "      <td>0.500000</td>\n",
       "      <td>0.632517</td>\n",
       "      <td>1.000000</td>\n",
       "      <td>0.632517</td>\n",
       "      <td>0.774624</td>\n",
       "    </tr>\n",
       "    <tr>\n",
       "      <th>44</th>\n",
       "      <td>desc2D_Kappa3</td>\n",
       "      <td>0.372670</td>\n",
       "      <td>0.500000</td>\n",
       "      <td>0.632517</td>\n",
       "      <td>1.000000</td>\n",
       "      <td>0.632517</td>\n",
       "      <td>0.774624</td>\n",
       "    </tr>\n",
       "  </tbody>\n",
       "</table>\n",
       "<p>151 rows × 7 columns</p>\n",
       "</div>"
      ]
     },
     "execution_count": 11,
     "metadata": {},
     "output_type": "execute_result"
    }
   ],
   "execution_count": 11
  },
  {
   "cell_type": "code",
   "source": [
    "from sklearn.metrics import roc_curve, roc_auc_score\n",
    "import matplotlib.pyplot as plt\n",
    "\n",
    "from .utils import calculate_cns_mpo_score_wager_2010, calculate_balanced_permeability_index_weiss_2024\n",
    "# Sample data: `y_true` should be your actual binary labels, `y_scores` should be the scores from your function\n",
    "y_true = df_train[\"BBB_numeric\"] \n",
    "\n",
    "# Plotting the ROC curve\n",
    "plt.figure(figsize=(6, 5))\n",
    "\n",
    "fpr_tpsa, tpr_tpsa, thresholds_tpsa = roc_curve(y_true, -df_train.desc2D_TPSA)\n",
    "plt.plot(fpr_tpsa, tpr_tpsa, color='darkgreen', lw=2, label='↓TPSA (AUC: %.2f)' % roc_auc_score(y_true, -df_train.desc2D_TPSA))\n",
    "\n",
    "y_scores_bpi = df_train.apply(axis=1, func=lambda x: calculate_balanced_permeability_index_weiss_2024(\n",
    "    c_log_d=x[\"chemaxon_logd\"], \n",
    "    psa=x[\"desc2D_TPSA\"] if x[\"desc2D_TPSA\"] >= 3.24  else 3.24,  # 3.24 is the lowest value above 0. \n",
    "    hac=x[\"desc2D_HeavyAtomCount\"]) \n",
    ").apply(lambda x: -5 if x < -5 else 5 if x > 5 else x)\n",
    "fpr_bpi, tpr_bpi, thresholds_bpi = roc_curve(y_true, y_scores_bpi)\n",
    "plt.plot(fpr_bpi, tpr_bpi, color='darkorange', lw=2, label='BPI - (AUC: %.2f)' % roc_auc_score(y_true, y_scores_bpi))\n",
    "\n",
    "fpr_logd, tpr_logd, thresholds_logd = roc_curve(y_true, df_train.chemaxon_logd)\n",
    "plt.plot(fpr_logd, tpr_logd, color='teal', lw=2, label='LogD - (AUC: %.2f)' % roc_auc_score(y_true, df_train.chemaxon_logd))\n",
    "\n",
    "fpr_mw, tpr_mw, thresholds_mw= roc_curve(y_true, -df_train.desc2D_MolWt)\n",
    "plt.plot(fpr_mw, tpr_mw, color='darkred', lw=2, label='↓MW (AUC: %.2f)' % roc_auc_score(y_true, -df_train.desc2D_MolWt))\n",
    "\n",
    "y_scores_cns_mpo = df_train.apply(axis=1, func=lambda x: calculate_cns_mpo_score_wager_2010(\n",
    "    c_log_p=x.chemaxon_logp, \n",
    "    c_log_d=x.chemaxon_logd, \n",
    "    mw=x.desc2D_MolWt, \n",
    "    tpsa=x.desc2D_TPSA, \n",
    "    hbd=x.desc2D_NumHDonors, \n",
    "    pka=x.chemaxon_pka_b))  # Example scores from your function\n",
    "fpr_cns_mpo, tpr_cns_mpo, thresholds_cns_mpo = roc_curve(y_true, y_scores_cns_mpo)\n",
    "plt.plot(fpr_cns_mpo, tpr_cns_mpo, color='grey', lw=2, label='CNS MPO - (AUC: %.2f)' % roc_auc_score(y_true, y_scores_cns_mpo))\n",
    "\n",
    "plt.plot([0, 1], [0, 1], color='navy', lw=2, linestyle='--')\n",
    "plt.ylim([0, 1])\n",
    "plt.xlim([0, 1])\n",
    "plt.xlabel('False Positive Rate')\n",
    "plt.ylabel('True Positive Rate')\n",
    "plt.title('ROC - Training')\n",
    "plt.legend(loc=\"lower right\")\n",
    "plt.show()"
   ],
   "metadata": {
    "collapsed": false,
    "ExecuteTime": {
     "end_time": "2024-08-22T20:06:15.686524Z",
     "start_time": "2024-08-22T20:06:15.433494Z"
    }
   },
   "id": "cc4d182a91b61e4d",
   "outputs": [
    {
     "ename": "ImportError",
     "evalue": "attempted relative import with no known parent package",
     "output_type": "error",
     "traceback": [
      "\u001B[0;31m---------------------------------------------------------------------------\u001B[0m",
      "\u001B[0;31mImportError\u001B[0m                               Traceback (most recent call last)",
      "Cell \u001B[0;32mIn[12], line 4\u001B[0m\n\u001B[1;32m      1\u001B[0m \u001B[38;5;28;01mfrom\u001B[39;00m \u001B[38;5;21;01msklearn\u001B[39;00m\u001B[38;5;21;01m.\u001B[39;00m\u001B[38;5;21;01mmetrics\u001B[39;00m \u001B[38;5;28;01mimport\u001B[39;00m roc_curve, roc_auc_score\n\u001B[1;32m      2\u001B[0m \u001B[38;5;28;01mimport\u001B[39;00m \u001B[38;5;21;01mmatplotlib\u001B[39;00m\u001B[38;5;21;01m.\u001B[39;00m\u001B[38;5;21;01mpyplot\u001B[39;00m \u001B[38;5;28;01mas\u001B[39;00m \u001B[38;5;21;01mplt\u001B[39;00m\n\u001B[0;32m----> 4\u001B[0m \u001B[38;5;28;01mfrom\u001B[39;00m \u001B[38;5;21;01m.\u001B[39;00m\u001B[38;5;21;01mutils\u001B[39;00m \u001B[38;5;28;01mimport\u001B[39;00m calculate_cns_mpo_score_wager_2010, calculate_balanced_permeability_index_weiss_2024\n\u001B[1;32m      5\u001B[0m \u001B[38;5;66;03m# Sample data: `y_true` should be your actual binary labels, `y_scores` should be the scores from your function\u001B[39;00m\n\u001B[1;32m      6\u001B[0m y_true \u001B[38;5;241m=\u001B[39m df_train[\u001B[38;5;124m\"\u001B[39m\u001B[38;5;124mBBB_numeric\u001B[39m\u001B[38;5;124m\"\u001B[39m] \n",
      "\u001B[0;31mImportError\u001B[0m: attempted relative import with no known parent package"
     ]
    }
   ],
   "execution_count": 12
  },
  {
   "cell_type": "code",
   "execution_count": 12,
   "outputs": [
    {
     "name": "stdout",
     "output_type": "stream",
     "text": [
      "Best fit logistic regression based on CNS_MPO score, balanced accuracy: 0.5409279542151006, ROC AUC: 0.6031688609410508\n",
      "Best fit logistic regression based on BPI score, balanced accuracy: 0.6312194398308971, ROC AUC: 0.7463249335833083\n"
     ]
    }
   ],
   "source": [
    "_log_reg_res_cns_mpo = evaluate_train(LogisticRegression(random_state=42), pd.DataFrame([y_scores_cns_mpo]).T, df_train.murcko_scaffold_grouped, df_train[\"BBB_numeric\"]) \n",
    "_r_cns_mpo = {k.replace(\"test\", \"train\"): sum(v)/len(v) for k, v in _log_reg_res_cns_mpo.items() if \"test\" in k}\n",
    "print(f\"Best fit logistic regression based on CNS_MPO score, balanced accuracy: {_r_cns_mpo['train_balanced_accuracy']}, ROC AUC: {_r_cns_mpo['train_roc_auc']}\")\n",
    "\n",
    "_log_reg_res_bpi = evaluate_train(LogisticRegression(random_state=42), pd.DataFrame([y_scores_bpi]).T, df_train.murcko_scaffold_grouped, df_train[\"BBB_numeric\"]) \n",
    "_r_bpi = {k.replace(\"test\", \"train\"): sum(v)/len(v) for k, v in _log_reg_res_bpi.items() if \"test\" in k}\n",
    "print(f\"Best fit logistic regression based on BPI score, balanced accuracy: {_r_bpi['train_balanced_accuracy']}, ROC AUC: {_r_bpi['train_roc_auc']}\")"
   ],
   "metadata": {
    "collapsed": false,
    "ExecuteTime": {
     "end_time": "2024-08-22T20:06:15.700864Z",
     "start_time": "2024-04-29T12:07:07.709535Z"
    }
   },
   "id": "6fe1a0f32f368486"
  },
  {
   "cell_type": "code",
   "execution_count": 13,
   "outputs": [
    {
     "name": "stdout",
     "output_type": "stream",
     "text": [
      "\n",
      "Symbolic regression attempts to find an optimal equation to base the classification on. It utilised genetic programming to search the space of possible equations performing mutations and \"survival of the fittest\" selection at each epoch.\n",
      "\n",
      "    |   Population Average    |             Best Individual              |\n",
      "---- ------------------------- ------------------------------------------ ----------\n",
      " Gen   Length          Fitness   Length          Fitness      OOB Fitness  Time Left\n",
      "   0     9.45          2.91173        5         0.615972              N/A     38.63s\n",
      "   1     2.68          1.22278        5         0.615972              N/A     53.04s\n",
      "   2     3.56          1.06069        8         0.571316              N/A     40.96s\n",
      "   3     5.08         0.847043        9         0.565783              N/A     35.62s\n",
      "   4     5.94         0.829572       12          0.56157              N/A     30.09s\n",
      "   5     6.02         0.770789        6         0.573844              N/A     24.34s\n",
      "   6     5.99         0.776999        6         0.573844              N/A     20.15s\n",
      "   7     5.99         0.770015        6         0.573844              N/A     13.52s\n",
      "   8     6.00          0.76421        6         0.573844              N/A      6.99s\n",
      "   9     6.00         0.769942        6         0.573844              N/A      0.00s\n",
      "Balanced accuracy on train set: 0.6877991945335544\n",
      "Balanced accuracy on test set: 0.7126127689104789\n"
     ]
    },
    {
     "data": {
      "text/plain": "'sub(desc2D_qed, sub(sqrt(desc2D_NumHDonors), desc2D_qed))'"
     },
     "execution_count": 13,
     "metadata": {},
     "output_type": "execute_result"
    }
   ],
   "source": [
    "print(\"\"\"\n",
    "Symbolic regression attempts to find an optimal equation to base the classification on. It utilised genetic programming to search the space of possible equations performing mutations and \"survival of the fittest\" selection at each epoch.\n",
    "\"\"\")\n",
    "import re\n",
    "from gplearn.genetic import SymbolicClassifier, SymbolicRegressor\n",
    "\n",
    "symbolic_regressor = SymbolicClassifier(\n",
    "    n_jobs=-1, \n",
    "    verbose=1, \n",
    "    random_state=0,\n",
    "    population_size=20000,\n",
    "    generations=10,\n",
    "    tournament_size=50,\n",
    "    class_weight=\"balanced\",\n",
    "    function_set=('add', 'sub', 'mul', 'div', \"neg\", \"abs\", \"sqrt\", \"inv\"),\n",
    "    const_range=(-100, 100),\n",
    "    parsimony_coefficient=0.0035,\n",
    "    #stopping_criteria=0.01,\n",
    ")\n",
    "\n",
    "X = df_train_features[SIMPLE_FILTERED_FEATURES]\n",
    "symbolic_regressor.fit(X, df_train[\"BBB_numeric\"])\n",
    "\n",
    "# Predict on the test set\n",
    "y_pred = symbolic_regressor.predict(df_test[list(X)])\n",
    "print(\"Balanced accuracy on train set:\", balanced_accuracy_score(df_train[\"BBB_numeric\"], symbolic_regressor.predict(X)))\n",
    "print(\"Balanced accuracy on test set:\", balanced_accuracy_score(df_test[\"BBB_numeric\"], y_pred))\n",
    "\n",
    "def _program_to_mapped(program, features):\n",
    "    _p = str(program)\n",
    "    _pm = \"\"\n",
    "    prev_end = 0\n",
    "    for v in re.finditer(r\"(X\\w*)\", _p):\n",
    "        _pm += _p[prev_end:v.start()]\n",
    "        _pm += features[int(v.groups()[0].lstrip(\"X\"))]\n",
    "        prev_end = v.end()\n",
    "    _pm += _p[prev_end:]\n",
    "    return _pm\n",
    "        \n",
    "_program_to_mapped(symbolic_regressor._program, list(X))"
   ],
   "metadata": {
    "collapsed": false,
    "ExecuteTime": {
     "end_time": "2024-08-22T20:06:15.701289Z",
     "start_time": "2024-04-29T12:07:08.808590Z"
    }
   },
   "id": "917d0cd950c89343"
  },
  {
   "cell_type": "code",
   "execution_count": 14,
   "outputs": [
    {
     "data": {
      "text/plain": "<Figure size 640x480 with 1 Axes>",
      "image/png": "[encoded data removed]"
     },
     "metadata": {},
     "output_type": "display_data"
    },
    {
     "data": {
      "text/plain": "{'train_roc_auc': 0.7211791320369975,\n 'train_balanced_accuracy': 0.6856686040991151,\n 'train_precision': 0.7905336981358583,\n 'train_recall': 0.7191799955862066,\n 'train_accuracy': 0.6953274458186058,\n 'train_f1': 0.7529229359840005}"
     },
     "execution_count": 14,
     "metadata": {},
     "output_type": "execute_result"
    }
   ],
   "source": [
    "# prg = lambda x: -x.desc2D_TPSA # AUC : 0.77, BA: 0.6764\n",
    "# prg = lambda x: x[\"desc2D_FpDensityMorgan3\"] - x[\"desc2D_NumHDonors\"] # AUC 0.75, BA: 0.655\n",
    "# prg = lambda x: x.desc2D_qed / (x.desc2D_NumHDonors**2 if x.desc2D_NumHDonors else 1) # AUC = 0.76 BA: 0.686\n",
    "# prg = lambda x: x.desc2D_qed # AUC : 0.71, BA: 0.65\n",
    "# prg = lambda x: (x.desc2D_Ipc - x.desc2D_NumHDonors) / (x.desc2D_Ipc if x.desc2D_Ipc else 1) # AUC 0.71, BA 0.62\n",
    "# prg = lambda x: x.chemaxon_logd # AUC: 0.67, BA: 0.624\n",
    "# prg = lambda x: math.sqrt(x.desc2D_BalabanJ) - x.desc2D_NumHDonors # AUC 0.73, BA 0.65\n",
    "# prg = lambda x: x.chemaxon_logd / (x.desc2D_Kappa3 if x.desc2D_Kappa3 else 1) # AUC: 72, BA: 0.61\n",
    "# prg = lambda x: x.desc2D_NumAliphaticHeterocycles / ((x.desc2D_Chi4n if x.desc2D_Chi4n else 1) / (x.chemaxon_logd if x.chemaxon_logd else 1))  # AUC: 0.7, BA: 0.58\n",
    "# prg = lambda x: min( (x.desc2D_NumBridgeheadAtoms/ (x.desc2D_NumHDonors if x.desc2D_NumHDonors else 1)), x.chemaxon_logd )  # AUC: 0.67 BA: 0.61\n",
    "# prg = lambda x: -6.5 / ((x.desc2D_TPSA if x.desc2D_TPSA else 1) / -6.5) # AUC = 0.77, BA: 0.5\n",
    "# prg = lambda x: min(x.chemaxon_logd, -x.desc2D_TPSA, 1/(x.desc2D_NumHDonors**2 if x.desc2D_NumHDonors else 1)) # AUC = 0.75, BA 0.676\n",
    "# prg = lambda x: math.log(abs(x.chemaxon_logd + 7.104)) - x.desc2D_NumHDonors # AUC = 0.75, BA 0.66\n",
    "\n",
    "# prg = lambda x: max(max(x.chemaxon_logd / abs(x.chemaxon_logd if x.chemaxon_logd else 1), 1 / x.desc2D_MolWt), 1 / x.desc2D_MolWt) # AIC = 0.67, BA: 0.652\n",
    "# prg = lambda x: x.chemaxon_logp * math.sqrt( abs(x.chemaxon_pka_b) / (x.desc2D_TPSA if x.desc2D_TPSA else 0.00001)) # AUC = 0.72, BA: 0.58\n",
    "# prg = lambda x: - x.desc2D_NumHDonors, # AUC: 0.74, BA: 0.65\n",
    "# prg = lambda x:  x.chemaxon_logd # AUC = 0.67, BA: 0.62\n",
    "# prg =  lambda x: x.desc2D_BCUT2D_MRLOW - (x.desc2D_BCUT2D_CHGLO + x.desc2D_NumHDonors) # AUC: 0.76, BA: 0.652\n",
    "# prg = lambda x:  (x.desc2D_BCUT2D_CHGLO + x.desc2D_NumHDonors) / x.desc2D_BCUT2D_CHGLO - x.desc2D_MaxPartialCharge # AUC: 0.75, BA: 0.658\n",
    "# prg = lambda x: math.sqrt(abs(x.desc2D_BCUT2D_CHGLO)) - x.desc2D_NumHDonors # AUC: 0.75, BA: 0.654\n",
    "prg = lambda x: 1 / (x.desc2D_NumHDonors if x.desc2D_NumHDonors else 1) # AUC = 0.72, BA: 0.686\n",
    "prg_vals = df_train.apply(axis=1, func=prg)\n",
    "fpr_prg, tpr_prg, thresholds_prg = roc_curve(df_train[\"BBB_numeric\"], prg_vals)\n",
    "\n",
    "plt.plot(fpr_prg, tpr_prg, color='darkorange', lw=2, label='Program - (AUC: %.2f)' % roc_auc_score(df_train[\"BBB_numeric\"], prg_vals))\n",
    "plt.plot([0, 1], [0, 1], color='navy', lw=2, linestyle='--')\n",
    "plt.ylim([0, 1])\n",
    "plt.xlim([0, 1])\n",
    "plt.xlabel('False Positive Rate')\n",
    "plt.ylabel('True Positive Rate')\n",
    "plt.title('ROC - Training')\n",
    "plt.legend(loc=\"lower right\")\n",
    "plt.show()\n",
    "\n",
    "_m = LogisticRegression(random_state=42)\n",
    "_log_reg_res = evaluate_train(_m, pd.DataFrame([prg_vals]).T, df_train.murcko_scaffold_grouped, df_train[\"BBB_numeric\"]) \n",
    "{k.replace(\"test\", \"train\"): sum(v)/len(v) for k, v in _log_reg_res.items() if \"test\" in k}\n",
    "\n",
    "# We have attempted at including the inverted NumHDonors as a feature, but it did not result in a better performance of the models."
   ],
   "metadata": {
    "collapsed": false,
    "ExecuteTime": {
     "end_time": "2024-08-22T20:06:15.701520Z",
     "start_time": "2024-04-29T12:08:11.124901Z"
    }
   },
   "id": "c19b26b8f15e84a5"
  },
  {
   "cell_type": "markdown",
   "source": [
    "# Derive a simple index by transforming the low-parameter logistic regression.\n",
    "We start with CNS_MPO components, then simple and extended set of filtered 2D descriptors. We are interested in an explainable, well-balanced performer, limited overfitting and having a standalone calculated-only index."
   ],
   "metadata": {
    "collapsed": false
   },
   "id": "b7031e5614c100de"
  },
  {
   "cell_type": "code",
   "execution_count": 15,
   "outputs": [],
   "source": [
    "def get_forward_selected_feature_model_performance(model_creator, X_train,  y_train, n_feat=1):\n",
    "    _res = []\n",
    "    for n in range(1, n_feat + 1):\n",
    "        _mod = model_creator()\n",
    "        sfs = SequentialFeatureSelector(estimator=_mod, n_jobs=-1, n_features_to_select=n)\n",
    "        sfs.fit(X_train, y_train)\n",
    "        _z = pd.Series(sfs.get_support(), index=X_train.columns)\n",
    "        _fs = list(_z[_z==True].index)\n",
    "        _mod = model_creator()\n",
    "        _mod.fit(X_train[_fs], y_train)\n",
    "        _res.append({\n",
    "            \"model\": _mod.__class__.__name__,\n",
    "            \"n_feat\": n,\n",
    "            \"bacc_train\": balanced_accuracy_score(y_train, _mod.predict(X_train[_fs])),\n",
    "            # \"bacc_test\": balanced_accuracy_score(y_test, _mod.predict(X_test[_fs])),\n",
    "            \"features\": _fs,\n",
    "        })\n",
    "    return pd.DataFrame(_res)"
   ],
   "metadata": {
    "collapsed": false,
    "ExecuteTime": {
     "end_time": "2024-08-22T20:06:15.701662Z",
     "start_time": "2024-04-29T12:08:11.822140Z"
    }
   },
   "id": "2158d7693e5ea765"
  },
  {
   "cell_type": "code",
   "execution_count": 16,
   "outputs": [
    {
     "data": {
      "text/plain": "                model  n_feat  bacc_train  \\\n0  LogisticRegression       1    0.676734   \n1  LogisticRegression       2    0.696759   \n2  LogisticRegression       3    0.703213   \n3  LogisticRegression       4    0.705180   \n4  LogisticRegression       5    0.703346   \n5  LogisticRegression       6    0.696897   \n\n                                            features  \n0                                      [desc2D_TPSA]  \n1                       [desc2D_TPSA, chemaxon_logd]  \n2        [desc2D_TPSA, chemaxon_logp, chemaxon_logd]  \n3  [desc2D_TPSA, desc2D_NumHDonors, chemaxon_logp...  \n4  [desc2D_TPSA, desc2D_MolWt, desc2D_NumHDonors,...  \n5  [desc2D_TPSA, desc2D_MolWt, desc2D_NumHDonors,...  ",
      "text/html": "<div>\n<style scoped>\n    .dataframe tbody tr th:only-of-type {\n        vertical-align: middle;\n    }\n\n    .dataframe tbody tr th {\n        vertical-align: top;\n    }\n\n    .dataframe thead th {\n        text-align: right;\n    }\n</style>\n<table border=\"1\" class=\"dataframe\">\n  <thead>\n    <tr style=\"text-align: right;\">\n      <th></th>\n      <th>model</th>\n      <th>n_feat</th>\n      <th>bacc_train</th>\n      <th>features</th>\n    </tr>\n  </thead>\n  <tbody>\n    <tr>\n      <th>0</th>\n      <td>LogisticRegression</td>\n      <td>1</td>\n      <td>0.676734</td>\n      <td>[desc2D_TPSA]</td>\n    </tr>\n    <tr>\n      <th>1</th>\n      <td>LogisticRegression</td>\n      <td>2</td>\n      <td>0.696759</td>\n      <td>[desc2D_TPSA, chemaxon_logd]</td>\n    </tr>\n    <tr>\n      <th>2</th>\n      <td>LogisticRegression</td>\n      <td>3</td>\n      <td>0.703213</td>\n      <td>[desc2D_TPSA, chemaxon_logp, chemaxon_logd]</td>\n    </tr>\n    <tr>\n      <th>3</th>\n      <td>LogisticRegression</td>\n      <td>4</td>\n      <td>0.705180</td>\n      <td>[desc2D_TPSA, desc2D_NumHDonors, chemaxon_logp...</td>\n    </tr>\n    <tr>\n      <th>4</th>\n      <td>LogisticRegression</td>\n      <td>5</td>\n      <td>0.703346</td>\n      <td>[desc2D_TPSA, desc2D_MolWt, desc2D_NumHDonors,...</td>\n    </tr>\n    <tr>\n      <th>5</th>\n      <td>LogisticRegression</td>\n      <td>6</td>\n      <td>0.696897</td>\n      <td>[desc2D_TPSA, desc2D_MolWt, desc2D_NumHDonors,...</td>\n    </tr>\n  </tbody>\n</table>\n</div>"
     },
     "execution_count": 16,
     "metadata": {},
     "output_type": "execute_result"
    }
   ],
   "source": [
    "_features = CNS_MPO_FEATURES + [\"chemaxon_pka_b\"]\n",
    "df_feature_ffs_log_reg_cns_mpo = get_forward_selected_feature_model_performance(\n",
    "    model_creator=lambda: LogisticRegression(max_iter=1000, random_state=42), \n",
    "    X_train= df_train[_features], \n",
    "    y_train=df_train[\"BBB_numeric\"], \n",
    "    #X_test=df_test[_features], \n",
    "    #y_test=df_test[\"BBB_numeric\"], \n",
    "    n_feat=6\n",
    ")\n",
    "df_feature_ffs_log_reg_cns_mpo"
   ],
   "metadata": {
    "collapsed": false,
    "ExecuteTime": {
     "end_time": "2024-08-22T20:06:15.701757Z",
     "start_time": "2024-04-29T12:08:11.827856Z"
    }
   },
   "id": "6980e85bb8859308"
  },
  {
   "cell_type": "code",
   "execution_count": 17,
   "outputs": [
    {
     "name": "stdout",
     "output_type": "stream",
     "text": [
      "Best index-like set of fetures based on CNS MPO components\n",
      "Coefficient + intercept: [[-0.0237057   0.12889012]] [2.1165256]\n",
      "Train balanced accuracy: 0.6967592017837456\n",
      "Test balanced accuracy: 0.7268004472202946\n"
     ]
    }
   ],
   "source": [
    "_mod = LogisticRegression(random_state=42, max_iter=1000)\n",
    "_feats = [\"desc2D_TPSA\", \"chemaxon_logd\",]\n",
    "_mod.fit(X=df_train[_feats], y=df_train[\"BBB_numeric\"])\n",
    "print(\"Best index-like set of fetures based on CNS MPO components\")\n",
    "print(\"Coefficient + intercept:\", _mod.coef_, _mod.intercept_)\n",
    "print(\"Train balanced accuracy:\", balanced_accuracy_score( df_train[\"BBB_numeric\"], _mod.predict(df_train[_feats])))\n",
    "print(\"Test balanced accuracy:\", balanced_accuracy_score( df_test[\"BBB_numeric\"], _mod.predict(df_test[_feats])))"
   ],
   "metadata": {
    "collapsed": false,
    "ExecuteTime": {
     "end_time": "2024-08-22T20:06:15.701970Z",
     "start_time": "2024-04-29T12:08:14.822526Z"
    }
   },
   "id": "bb17a2bec6232d28"
  },
  {
   "cell_type": "code",
   "execution_count": 18,
   "outputs": [
    {
     "name": "stdout",
     "output_type": "stream",
     "text": [
      "Derived, simplified index results.\n",
      "Train:\n",
      "  balanced accuracy: 0.7140879656758072\n",
      "  ROC AUC: 0.77968481531876\n",
      "  PR AUC: 0.8255808438992561\n",
      "Test:\n",
      "  balanced accuracy: 0.7334894749016887\n",
      "  ROC AUC: 0.7771898373043411\n",
      "  PR AUC: 0.7763198524256631\n"
     ]
    },
    {
     "data": {
      "text/plain": "<Figure size 640x480 with 1 Axes>",
      "image/png": "[encoded data removed]"
     },
     "metadata": {},
     "output_type": "display_data"
    }
   ],
   "source": [
    "#ind = lambda x: (1.8 - x.desc2D_TPSA / 40 + x.chemaxon_logd / 8)\n",
    "ind = lambda x: x.desc2D_TPSA - 5 * x.chemaxon_logd\n",
    "print(\"Derived, simplified index results.\")\n",
    "print(\"Train:\")\n",
    "print(\"  balanced accuracy:\", balanced_accuracy_score(df_train[\"BBB_numeric\"], df_train.apply(axis=1, func=lambda x: ind(x) < 70)))\n",
    "print(\"  ROC AUC:\", roc_auc_score(df_train[\"BBB_numeric\"], df_train.apply(axis=1, func=lambda x: -ind(x))))\n",
    "print(\"  PR AUC:\", pr_auc_score(df_train[\"BBB_numeric\"], df_train.apply(axis=1, func=lambda x: -ind(x))))\n",
    "print(\"Test:\")\n",
    "print(\"  balanced accuracy:\", balanced_accuracy_score(df_test[\"BBB_numeric\"], df_test.apply(axis=1, func=lambda x: ind(x) < 70)))\n",
    "print(\"  ROC AUC:\", roc_auc_score(df_test[\"BBB_numeric\"], df_test.apply(axis=1, func=lambda x: -ind(x))))\n",
    "print(\"  PR AUC:\", pr_auc_score(df_test[\"BBB_numeric\"], df_test.apply(axis=1, func=lambda x: -ind(x))))\n",
    "\n",
    "_df = df_train.copy()\n",
    "_df[\"ind\"] = _df.apply(axis=1, func=ind)\n",
    "\n",
    "ax = sns.histplot(_df, x=\"ind\", hue=\"BBB+/BBB-\", bins=75)\n",
    "ax.set_xlabel(\"TPSA - 5 * LogD\")\n",
    "_ = ax.vlines(x=70.0, ymin=0, ymax=145, colors='green')"
   ],
   "metadata": {
    "collapsed": false,
    "ExecuteTime": {
     "end_time": "2024-08-22T20:06:15.702045Z",
     "start_time": "2024-04-29T12:08:14.839082Z"
    }
   },
   "id": "f64f90ed36274a71"
  },
  {
   "cell_type": "code",
   "execution_count": 19,
   "outputs": [
    {
     "data": {
      "text/plain": "                 model  n_feat  bacc_train  \\\n0   LogisticRegression       1    0.676734   \n1   LogisticRegression       2    0.696759   \n2   LogisticRegression       3    0.713069   \n3   LogisticRegression       4    0.721145   \n4   LogisticRegression       5    0.724678   \n5   LogisticRegression       6    0.725793   \n6   LogisticRegression       7    0.725793   \n7   LogisticRegression       8    0.725793   \n8   LogisticRegression       9    0.727440   \n9   LogisticRegression      10    0.728211   \n10  LogisticRegression      11    0.727095   \n11  LogisticRegression      12    0.727947   \n\n                                             features  \n0                                       [desc2D_TPSA]  \n1                        [desc2D_TPSA, chemaxon_logd]  \n2   [desc2D_TPSA, chemaxon_logd, desc2D_NumAromati...  \n3   [desc2D_TPSA, desc2D_NumHDonors, chemaxon_logd...  \n4   [desc2D_TPSA, desc2D_NumHDonors, chemaxon_logd...  \n5   [desc2D_TPSA, desc2D_NumHDonors, chemaxon_logd...  \n6   [desc2D_TPSA, desc2D_NumHDonors, chemaxon_logd...  \n7   [desc2D_TPSA, desc2D_NumHDonors, chemaxon_logd...  \n8   [desc2D_TPSA, desc2D_NumHDonors, chemaxon_logd...  \n9   [desc2D_TPSA, desc2D_NumHDonors, chemaxon_logd...  \n10  [desc2D_TPSA, desc2D_NumHDonors, chemaxon_logd...  \n11  [desc2D_TPSA, desc2D_NumHDonors, chemaxon_logd...  ",
      "text/html": "<div>\n<style scoped>\n    .dataframe tbody tr th:only-of-type {\n        vertical-align: middle;\n    }\n\n    .dataframe tbody tr th {\n        vertical-align: top;\n    }\n\n    .dataframe thead th {\n        text-align: right;\n    }\n</style>\n<table border=\"1\" class=\"dataframe\">\n  <thead>\n    <tr style=\"text-align: right;\">\n      <th></th>\n      <th>model</th>\n      <th>n_feat</th>\n      <th>bacc_train</th>\n      <th>features</th>\n    </tr>\n  </thead>\n  <tbody>\n    <tr>\n      <th>0</th>\n      <td>LogisticRegression</td>\n      <td>1</td>\n      <td>0.676734</td>\n      <td>[desc2D_TPSA]</td>\n    </tr>\n    <tr>\n      <th>1</th>\n      <td>LogisticRegression</td>\n      <td>2</td>\n      <td>0.696759</td>\n      <td>[desc2D_TPSA, chemaxon_logd]</td>\n    </tr>\n    <tr>\n      <th>2</th>\n      <td>LogisticRegression</td>\n      <td>3</td>\n      <td>0.713069</td>\n      <td>[desc2D_TPSA, chemaxon_logd, desc2D_NumAromati...</td>\n    </tr>\n    <tr>\n      <th>3</th>\n      <td>LogisticRegression</td>\n      <td>4</td>\n      <td>0.721145</td>\n      <td>[desc2D_TPSA, desc2D_NumHDonors, chemaxon_logd...</td>\n    </tr>\n    <tr>\n      <th>4</th>\n      <td>LogisticRegression</td>\n      <td>5</td>\n      <td>0.724678</td>\n      <td>[desc2D_TPSA, desc2D_NumHDonors, chemaxon_logd...</td>\n    </tr>\n    <tr>\n      <th>5</th>\n      <td>LogisticRegression</td>\n      <td>6</td>\n      <td>0.725793</td>\n      <td>[desc2D_TPSA, desc2D_NumHDonors, chemaxon_logd...</td>\n    </tr>\n    <tr>\n      <th>6</th>\n      <td>LogisticRegression</td>\n      <td>7</td>\n      <td>0.725793</td>\n      <td>[desc2D_TPSA, desc2D_NumHDonors, chemaxon_logd...</td>\n    </tr>\n    <tr>\n      <th>7</th>\n      <td>LogisticRegression</td>\n      <td>8</td>\n      <td>0.725793</td>\n      <td>[desc2D_TPSA, desc2D_NumHDonors, chemaxon_logd...</td>\n    </tr>\n    <tr>\n      <th>8</th>\n      <td>LogisticRegression</td>\n      <td>9</td>\n      <td>0.727440</td>\n      <td>[desc2D_TPSA, desc2D_NumHDonors, chemaxon_logd...</td>\n    </tr>\n    <tr>\n      <th>9</th>\n      <td>LogisticRegression</td>\n      <td>10</td>\n      <td>0.728211</td>\n      <td>[desc2D_TPSA, desc2D_NumHDonors, chemaxon_logd...</td>\n    </tr>\n    <tr>\n      <th>10</th>\n      <td>LogisticRegression</td>\n      <td>11</td>\n      <td>0.727095</td>\n      <td>[desc2D_TPSA, desc2D_NumHDonors, chemaxon_logd...</td>\n    </tr>\n    <tr>\n      <th>11</th>\n      <td>LogisticRegression</td>\n      <td>12</td>\n      <td>0.727947</td>\n      <td>[desc2D_TPSA, desc2D_NumHDonors, chemaxon_logd...</td>\n    </tr>\n  </tbody>\n</table>\n</div>"
     },
     "execution_count": 19,
     "metadata": {},
     "output_type": "execute_result"
    }
   ],
   "source": [
    "_features = SIMPLE_FILTERED_FEATURES\n",
    "df_feature_ffs_log_reg_simple = get_forward_selected_feature_model_performance(\n",
    "    model_creator=lambda: LogisticRegression(max_iter=1000, random_state=42), \n",
    "    X_train= df_train[_features], \n",
    "    y_train=df_train[\"BBB_numeric\"], \n",
    "    n_feat=12\n",
    ")\n",
    "df_feature_ffs_log_reg_simple"
   ],
   "metadata": {
    "collapsed": false,
    "ExecuteTime": {
     "end_time": "2024-08-22T20:06:15.702127Z",
     "start_time": "2024-04-29T12:08:16.179838Z"
    }
   },
   "id": "7b7709c47976b220"
  },
  {
   "cell_type": "code",
   "execution_count": 20,
   "outputs": [
    {
     "name": "stdout",
     "output_type": "stream",
     "text": [
      "Best index-like set of fetures based on CNS MPO components\n",
      "Coefficient + intercept: [[-0.02317525  0.17086702 -0.22108044]] [2.36320326]\n",
      "Train balanced accuracy: 0.7130690282757457\n",
      "Test balanced accuracy: 0.7388676844783715\n"
     ]
    }
   ],
   "source": [
    "_mod = LogisticRegression(random_state=42, max_iter=1000)\n",
    "_feats = [\"desc2D_TPSA\", \"chemaxon_logd\", \"desc2D_NumAromaticRings\"] #, \"desc2D_NumHDonors\"]\n",
    "_mod.fit(X=df_train[_feats], y=df_train[\"BBB_numeric\"])\n",
    "print(\"Best index-like set of fetures based on CNS MPO components\")\n",
    "print(\"Coefficient + intercept:\", _mod.coef_, _mod.intercept_)\n",
    "print(\"Train balanced accuracy:\", balanced_accuracy_score( df_train[\"BBB_numeric\"], _mod.predict(df_train[_feats])))\n",
    "print(\"Test balanced accuracy:\", balanced_accuracy_score( df_test[\"BBB_numeric\"], _mod.predict(df_test[_feats])))"
   ],
   "metadata": {
    "collapsed": false,
    "ExecuteTime": {
     "end_time": "2024-08-22T20:06:15.702288Z",
     "start_time": "2024-04-29T12:09:08.436470Z"
    }
   },
   "id": "ea89d4dfdfb8f89"
  },
  {
   "cell_type": "code",
   "execution_count": 21,
   "outputs": [
    {
     "data": {
      "text/plain": "                 model  n_feat  bacc_train  \\\n0   LogisticRegression       1    0.676734   \n1   LogisticRegression       2    0.713361   \n2   LogisticRegression       3    0.717028   \n3   LogisticRegression       4    0.726008   \n4   LogisticRegression       5    0.733662   \n5   LogisticRegression       6    0.747051   \n6   LogisticRegression       7    0.749176   \n7   LogisticRegression       8    0.749760   \n8   LogisticRegression       9    0.749521   \n9   LogisticRegression      10    0.748750   \n10  LogisticRegression      11    0.749813   \n11  LogisticRegression      12    0.749813   \n\n                                             features  \n0                                       [desc2D_TPSA]  \n1             [desc2D_TPSA, desc2D_fr_ketone_Topliss]  \n2   [desc2D_TPSA, desc2D_VSA_EState3, desc2D_fr_ke...  \n3   [desc2D_TPSA, desc2D_VSA_EState3, desc2D_fr_ke...  \n4   [desc2D_TPSA, desc2D_VSA_EState3, desc2D_fr_CO...  \n5   [desc2D_TPSA, desc2D_NumSaturatedRings, desc2D...  \n6   [desc2D_TPSA, desc2D_NumSaturatedRings, desc2D...  \n7   [desc2D_TPSA, desc2D_NumSaturatedRings, desc2D...  \n8   [desc2D_TPSA, desc2D_NumSaturatedRings, desc2D...  \n9   [desc2D_TPSA, desc2D_NumSaturatedRings, desc2D...  \n10  [desc2D_TPSA, desc2D_NumSaturatedRings, desc2D...  \n11  [desc2D_TPSA, desc2D_NumSaturatedRings, desc2D...  ",
      "text/html": "<div>\n<style scoped>\n    .dataframe tbody tr th:only-of-type {\n        vertical-align: middle;\n    }\n\n    .dataframe tbody tr th {\n        vertical-align: top;\n    }\n\n    .dataframe thead th {\n        text-align: right;\n    }\n</style>\n<table border=\"1\" class=\"dataframe\">\n  <thead>\n    <tr style=\"text-align: right;\">\n      <th></th>\n      <th>model</th>\n      <th>n_feat</th>\n      <th>bacc_train</th>\n      <th>features</th>\n    </tr>\n  </thead>\n  <tbody>\n    <tr>\n      <th>0</th>\n      <td>LogisticRegression</td>\n      <td>1</td>\n      <td>0.676734</td>\n      <td>[desc2D_TPSA]</td>\n    </tr>\n    <tr>\n      <th>1</th>\n      <td>LogisticRegression</td>\n      <td>2</td>\n      <td>0.713361</td>\n      <td>[desc2D_TPSA, desc2D_fr_ketone_Topliss]</td>\n    </tr>\n    <tr>\n      <th>2</th>\n      <td>LogisticRegression</td>\n      <td>3</td>\n      <td>0.717028</td>\n      <td>[desc2D_TPSA, desc2D_VSA_EState3, desc2D_fr_ke...</td>\n    </tr>\n    <tr>\n      <th>3</th>\n      <td>LogisticRegression</td>\n      <td>4</td>\n      <td>0.726008</td>\n      <td>[desc2D_TPSA, desc2D_VSA_EState3, desc2D_fr_ke...</td>\n    </tr>\n    <tr>\n      <th>4</th>\n      <td>LogisticRegression</td>\n      <td>5</td>\n      <td>0.733662</td>\n      <td>[desc2D_TPSA, desc2D_VSA_EState3, desc2D_fr_CO...</td>\n    </tr>\n    <tr>\n      <th>5</th>\n      <td>LogisticRegression</td>\n      <td>6</td>\n      <td>0.747051</td>\n      <td>[desc2D_TPSA, desc2D_NumSaturatedRings, desc2D...</td>\n    </tr>\n    <tr>\n      <th>6</th>\n      <td>LogisticRegression</td>\n      <td>7</td>\n      <td>0.749176</td>\n      <td>[desc2D_TPSA, desc2D_NumSaturatedRings, desc2D...</td>\n    </tr>\n    <tr>\n      <th>7</th>\n      <td>LogisticRegression</td>\n      <td>8</td>\n      <td>0.749760</td>\n      <td>[desc2D_TPSA, desc2D_NumSaturatedRings, desc2D...</td>\n    </tr>\n    <tr>\n      <th>8</th>\n      <td>LogisticRegression</td>\n      <td>9</td>\n      <td>0.749521</td>\n      <td>[desc2D_TPSA, desc2D_NumSaturatedRings, desc2D...</td>\n    </tr>\n    <tr>\n      <th>9</th>\n      <td>LogisticRegression</td>\n      <td>10</td>\n      <td>0.748750</td>\n      <td>[desc2D_TPSA, desc2D_NumSaturatedRings, desc2D...</td>\n    </tr>\n    <tr>\n      <th>10</th>\n      <td>LogisticRegression</td>\n      <td>11</td>\n      <td>0.749813</td>\n      <td>[desc2D_TPSA, desc2D_NumSaturatedRings, desc2D...</td>\n    </tr>\n    <tr>\n      <th>11</th>\n      <td>LogisticRegression</td>\n      <td>12</td>\n      <td>0.749813</td>\n      <td>[desc2D_TPSA, desc2D_NumSaturatedRings, desc2D...</td>\n    </tr>\n  </tbody>\n</table>\n</div>"
     },
     "execution_count": 21,
     "metadata": {},
     "output_type": "execute_result"
    }
   ],
   "source": [
    "_features = EXTENDED_FILTERED_FEATURES\n",
    "df_feature_ffs_log_reg_extended = get_forward_selected_feature_model_performance(\n",
    "    model_creator=lambda: LogisticRegression(max_iter=1000, random_state=42), \n",
    "    X_train= df_train[_features], \n",
    "    y_train=df_train[\"BBB_numeric\"], \n",
    "    n_feat=12\n",
    ")\n",
    "df_feature_ffs_log_reg_extended"
   ],
   "metadata": {
    "collapsed": false,
    "ExecuteTime": {
     "end_time": "2024-08-22T20:06:15.702367Z",
     "start_time": "2024-04-29T12:09:08.471706Z"
    }
   },
   "id": "ebffab59042f7258"
  },
  {
   "cell_type": "code",
   "execution_count": 22,
   "outputs": [
    {
     "name": "stdout",
     "output_type": "stream",
     "text": [
      "Best index-like set of fetures based on CNS MPO components\n",
      "Coefficient + intercept: [[-0.02490566 -0.02612565  1.04688084]] [2.51116918]\n",
      "Train balanced accuracy: 0.7170277692254213\n",
      "Test balanced accuracy: 0.7223667977484771\n"
     ]
    }
   ],
   "source": [
    "_mod = LogisticRegression(random_state=42, max_iter=1000)\n",
    "_feats = [\"desc2D_TPSA\", \"desc2D_VSA_EState3\", \"desc2D_fr_ketone_Topliss\"]\n",
    "_mod.fit(X=df_train[_feats], y=df_train[\"BBB_numeric\"])\n",
    "print(\"Best index-like set of fetures based on CNS MPO components\")\n",
    "print(\"Coefficient + intercept:\", _mod.coef_, _mod.intercept_)\n",
    "print(\"Train balanced accuracy:\", balanced_accuracy_score( df_train[\"BBB_numeric\"], _mod.predict(df_train[_feats])))\n",
    "print(\"Test balanced accuracy:\", balanced_accuracy_score( df_test[\"BBB_numeric\"], _mod.predict(df_test[_feats])))"
   ],
   "metadata": {
    "collapsed": false,
    "ExecuteTime": {
     "end_time": "2024-08-22T20:06:15.702509Z",
     "start_time": "2024-04-29T12:13:13.352362Z"
    }
   },
   "id": "e4f35a3fcba4bea2"
  },
  {
   "cell_type": "code",
   "execution_count": 23,
   "outputs": [
    {
     "name": "stdout",
     "output_type": "stream",
     "text": [
      "Results for the inclusion of MACCS, discarded due to poorer interpretability of the results.\n"
     ]
    },
    {
     "data": {
      "text/plain": "                model  n_feat  bacc_train  \\\n0  LogisticRegression       1    0.676734   \n1  LogisticRegression       2    0.723136   \n2  LogisticRegression       3    0.732198   \n3  LogisticRegression       4    0.737722   \n4  LogisticRegression       5    0.744873   \n\n                                            features  \n0                                      [desc2D_TPSA]  \n1                         [desc2D_TPSA, maccs_fp_26]  \n2        [desc2D_TPSA, desc2D_fr_quatN, maccs_fp_26]  \n3  [desc2D_TPSA, desc2D_fr_quatN, maccs_fp_23, ma...  \n4  [desc2D_TPSA, desc2D_fr_COO2, desc2D_fr_quatN,...  ",
      "text/html": "<div>\n<style scoped>\n    .dataframe tbody tr th:only-of-type {\n        vertical-align: middle;\n    }\n\n    .dataframe tbody tr th {\n        vertical-align: top;\n    }\n\n    .dataframe thead th {\n        text-align: right;\n    }\n</style>\n<table border=\"1\" class=\"dataframe\">\n  <thead>\n    <tr style=\"text-align: right;\">\n      <th></th>\n      <th>model</th>\n      <th>n_feat</th>\n      <th>bacc_train</th>\n      <th>features</th>\n    </tr>\n  </thead>\n  <tbody>\n    <tr>\n      <th>0</th>\n      <td>LogisticRegression</td>\n      <td>1</td>\n      <td>0.676734</td>\n      <td>[desc2D_TPSA]</td>\n    </tr>\n    <tr>\n      <th>1</th>\n      <td>LogisticRegression</td>\n      <td>2</td>\n      <td>0.723136</td>\n      <td>[desc2D_TPSA, maccs_fp_26]</td>\n    </tr>\n    <tr>\n      <th>2</th>\n      <td>LogisticRegression</td>\n      <td>3</td>\n      <td>0.732198</td>\n      <td>[desc2D_TPSA, desc2D_fr_quatN, maccs_fp_26]</td>\n    </tr>\n    <tr>\n      <th>3</th>\n      <td>LogisticRegression</td>\n      <td>4</td>\n      <td>0.737722</td>\n      <td>[desc2D_TPSA, desc2D_fr_quatN, maccs_fp_23, ma...</td>\n    </tr>\n    <tr>\n      <th>4</th>\n      <td>LogisticRegression</td>\n      <td>5</td>\n      <td>0.744873</td>\n      <td>[desc2D_TPSA, desc2D_fr_COO2, desc2D_fr_quatN,...</td>\n    </tr>\n  </tbody>\n</table>\n</div>"
     },
     "execution_count": 23,
     "metadata": {},
     "output_type": "execute_result"
    }
   ],
   "source": [
    "print(\"Results for the inclusion of MACCS, discarded due to poorer interpretability of the results.\")\n",
    "_features = EXTENDED_FILTERED_FEATURES + list(df_train_features_maccs)\n",
    "df_feature_ffs_log_reg_extended_maccs = get_forward_selected_feature_model_performance(\n",
    "    model_creator=lambda: LogisticRegression(max_iter=1000, random_state=42), \n",
    "    X_train= df_train[_features], \n",
    "    y_train=df_train[\"BBB_numeric\"],  \n",
    "    n_feat=5\n",
    ")\n",
    "df_feature_ffs_log_reg_extended_maccs"
   ],
   "metadata": {
    "collapsed": false,
    "ExecuteTime": {
     "end_time": "2024-08-22T20:06:15.702580Z",
     "start_time": "2024-04-29T12:13:13.377654Z"
    }
   },
   "id": "d21f36aa3097fec3"
  },
  {
   "cell_type": "markdown",
   "source": [],
   "metadata": {
    "collapsed": false
   },
   "id": "68caa20e63462165"
  },
  {
   "cell_type": "code",
   "execution_count": 24,
   "outputs": [],
   "source": [
    "# df_feature_ffs_rf = get_forward_selected_feature_model_performance(\n",
    "#     model_creator=lambda: RandomForestClassifier(random_state=42), \n",
    "#     X_train= df_train_features_desc2D_chemaxon_filtered, \n",
    "#     y_train=df_train[\"BBB_numeric\"], \n",
    "#     X_test=df_test, \n",
    "#     y_test=df_test[\"BBB_numeric\"], \n",
    "#     n_feat=25\n",
    "# )\n",
    "# df_feature_ffs_rf"
   ],
   "metadata": {
    "collapsed": false,
    "ExecuteTime": {
     "end_time": "2024-08-22T20:06:15.702705Z",
     "start_time": "2024-04-29T12:14:22.282362Z"
    }
   },
   "id": "aca5a907444d2090"
  },
  {
   "cell_type": "code",
   "execution_count": 25,
   "outputs": [],
   "source": [
    "# We have investigated if removal of potential outliers has an effect on the results and helps with overfitting. We have not identified any improvement in the algorithm - feature space screening. \n",
    "# from sklearn.ensemble import IsolationForest\n",
    "# iso_forest = IsolationForest(contamination=0.01)\n",
    "# iso_forest.fit(df_train_features)\n",
    "# outlier_predictions = iso_forest.predict(df_train_features)\n",
    "# df_train_pruned = df_train.loc[outlier_predictions == 1]\n",
    "# print(f\"Removed {len(df_train) - len(df_train_pruned)} (out of {len(df_train)} ) training samples based on IsolationForest\")"
   ],
   "metadata": {
    "collapsed": false,
    "ExecuteTime": {
     "end_time": "2024-08-22T20:06:15.703250Z",
     "start_time": "2024-04-29T12:14:22.293941Z"
    }
   },
   "id": "e58580a531a7d45e"
  },
  {
   "cell_type": "markdown",
   "source": [
    "# Performance of algorithms"
   ],
   "metadata": {
    "collapsed": false
   },
   "id": "fb22e70317905d06"
  },
  {
   "cell_type": "code",
   "execution_count": 26,
   "outputs": [
    {
     "name": "stderr",
     "output_type": "stream",
     "text": [
      "/opt/homebrew/lib/python3.11/site-packages/sklearn/linear_model/_logistic.py:469: ConvergenceWarning: lbfgs failed to converge (status=1):\n",
      "STOP: TOTAL NO. of ITERATIONS REACHED LIMIT.\n",
      "\n",
      "Increase the number of iterations (max_iter) or scale the data as shown in:\n",
      "    https://scikit-learn.org/stable/modules/preprocessing.html\n",
      "Please also refer to the documentation for alternative solver options:\n",
      "    https://scikit-learn.org/stable/modules/linear_model.html#logistic-regression\n",
      "  n_iter_i = _check_optimize_result(\n",
      "/opt/homebrew/lib/python3.11/site-packages/sklearn/linear_model/_logistic.py:469: ConvergenceWarning: lbfgs failed to converge (status=1):\n",
      "STOP: TOTAL NO. of ITERATIONS REACHED LIMIT.\n",
      "\n",
      "Increase the number of iterations (max_iter) or scale the data as shown in:\n",
      "    https://scikit-learn.org/stable/modules/preprocessing.html\n",
      "Please also refer to the documentation for alternative solver options:\n",
      "    https://scikit-learn.org/stable/modules/linear_model.html#logistic-regression\n",
      "  n_iter_i = _check_optimize_result(\n",
      "/opt/homebrew/lib/python3.11/site-packages/sklearn/linear_model/_logistic.py:469: ConvergenceWarning: lbfgs failed to converge (status=1):\n",
      "STOP: TOTAL NO. of ITERATIONS REACHED LIMIT.\n",
      "\n",
      "Increase the number of iterations (max_iter) or scale the data as shown in:\n",
      "    https://scikit-learn.org/stable/modules/preprocessing.html\n",
      "Please also refer to the documentation for alternative solver options:\n",
      "    https://scikit-learn.org/stable/modules/linear_model.html#logistic-regression\n",
      "  n_iter_i = _check_optimize_result(\n",
      "/opt/homebrew/lib/python3.11/site-packages/sklearn/linear_model/_logistic.py:469: ConvergenceWarning: lbfgs failed to converge (status=1):\n",
      "STOP: TOTAL NO. of ITERATIONS REACHED LIMIT.\n",
      "\n",
      "Increase the number of iterations (max_iter) or scale the data as shown in:\n",
      "    https://scikit-learn.org/stable/modules/preprocessing.html\n",
      "Please also refer to the documentation for alternative solver options:\n",
      "    https://scikit-learn.org/stable/modules/linear_model.html#logistic-regression\n",
      "  n_iter_i = _check_optimize_result(\n",
      "/opt/homebrew/lib/python3.11/site-packages/sklearn/linear_model/_logistic.py:469: ConvergenceWarning: lbfgs failed to converge (status=1):\n",
      "STOP: TOTAL NO. of ITERATIONS REACHED LIMIT.\n",
      "\n",
      "Increase the number of iterations (max_iter) or scale the data as shown in:\n",
      "    https://scikit-learn.org/stable/modules/preprocessing.html\n",
      "Please also refer to the documentation for alternative solver options:\n",
      "    https://scikit-learn.org/stable/modules/linear_model.html#logistic-regression\n",
      "  n_iter_i = _check_optimize_result(\n",
      "/opt/homebrew/lib/python3.11/site-packages/sklearn/linear_model/_logistic.py:469: ConvergenceWarning: lbfgs failed to converge (status=1):\n",
      "STOP: TOTAL NO. of ITERATIONS REACHED LIMIT.\n",
      "\n",
      "Increase the number of iterations (max_iter) or scale the data as shown in:\n",
      "    https://scikit-learn.org/stable/modules/preprocessing.html\n",
      "Please also refer to the documentation for alternative solver options:\n",
      "    https://scikit-learn.org/stable/modules/linear_model.html#logistic-regression\n",
      "  n_iter_i = _check_optimize_result(\n",
      "/opt/homebrew/lib/python3.11/site-packages/sklearn/linear_model/_logistic.py:469: ConvergenceWarning: lbfgs failed to converge (status=1):\n",
      "STOP: TOTAL NO. of ITERATIONS REACHED LIMIT.\n",
      "\n",
      "Increase the number of iterations (max_iter) or scale the data as shown in:\n",
      "    https://scikit-learn.org/stable/modules/preprocessing.html\n",
      "Please also refer to the documentation for alternative solver options:\n",
      "    https://scikit-learn.org/stable/modules/linear_model.html#logistic-regression\n",
      "  n_iter_i = _check_optimize_result(\n",
      "/opt/homebrew/lib/python3.11/site-packages/sklearn/linear_model/_logistic.py:469: ConvergenceWarning: lbfgs failed to converge (status=1):\n",
      "STOP: TOTAL NO. of ITERATIONS REACHED LIMIT.\n",
      "\n",
      "Increase the number of iterations (max_iter) or scale the data as shown in:\n",
      "    https://scikit-learn.org/stable/modules/preprocessing.html\n",
      "Please also refer to the documentation for alternative solver options:\n",
      "    https://scikit-learn.org/stable/modules/linear_model.html#logistic-regression\n",
      "  n_iter_i = _check_optimize_result(\n",
      "/opt/homebrew/lib/python3.11/site-packages/sklearn/linear_model/_logistic.py:469: ConvergenceWarning: lbfgs failed to converge (status=1):\n",
      "STOP: TOTAL NO. of ITERATIONS REACHED LIMIT.\n",
      "\n",
      "Increase the number of iterations (max_iter) or scale the data as shown in:\n",
      "    https://scikit-learn.org/stable/modules/preprocessing.html\n",
      "Please also refer to the documentation for alternative solver options:\n",
      "    https://scikit-learn.org/stable/modules/linear_model.html#logistic-regression\n",
      "  n_iter_i = _check_optimize_result(\n",
      "/opt/homebrew/lib/python3.11/site-packages/sklearn/linear_model/_logistic.py:469: ConvergenceWarning: lbfgs failed to converge (status=1):\n",
      "STOP: TOTAL NO. of ITERATIONS REACHED LIMIT.\n",
      "\n",
      "Increase the number of iterations (max_iter) or scale the data as shown in:\n",
      "    https://scikit-learn.org/stable/modules/preprocessing.html\n",
      "Please also refer to the documentation for alternative solver options:\n",
      "    https://scikit-learn.org/stable/modules/linear_model.html#logistic-regression\n",
      "  n_iter_i = _check_optimize_result(\n",
      "/opt/homebrew/lib/python3.11/site-packages/sklearn/linear_model/_logistic.py:469: ConvergenceWarning: lbfgs failed to converge (status=1):\n",
      "STOP: TOTAL NO. of ITERATIONS REACHED LIMIT.\n",
      "\n",
      "Increase the number of iterations (max_iter) or scale the data as shown in:\n",
      "    https://scikit-learn.org/stable/modules/preprocessing.html\n",
      "Please also refer to the documentation for alternative solver options:\n",
      "    https://scikit-learn.org/stable/modules/linear_model.html#logistic-regression\n",
      "  n_iter_i = _check_optimize_result(\n",
      "/opt/homebrew/lib/python3.11/site-packages/sklearn/linear_model/_logistic.py:469: ConvergenceWarning: lbfgs failed to converge (status=1):\n",
      "STOP: TOTAL NO. of ITERATIONS REACHED LIMIT.\n",
      "\n",
      "Increase the number of iterations (max_iter) or scale the data as shown in:\n",
      "    https://scikit-learn.org/stable/modules/preprocessing.html\n",
      "Please also refer to the documentation for alternative solver options:\n",
      "    https://scikit-learn.org/stable/modules/linear_model.html#logistic-regression\n",
      "  n_iter_i = _check_optimize_result(\n",
      "/opt/homebrew/lib/python3.11/site-packages/sklearn/linear_model/_logistic.py:469: ConvergenceWarning: lbfgs failed to converge (status=1):\n",
      "STOP: TOTAL NO. of ITERATIONS REACHED LIMIT.\n",
      "\n",
      "Increase the number of iterations (max_iter) or scale the data as shown in:\n",
      "    https://scikit-learn.org/stable/modules/preprocessing.html\n",
      "Please also refer to the documentation for alternative solver options:\n",
      "    https://scikit-learn.org/stable/modules/linear_model.html#logistic-regression\n",
      "  n_iter_i = _check_optimize_result(\n",
      "/opt/homebrew/lib/python3.11/site-packages/sklearn/linear_model/_logistic.py:469: ConvergenceWarning: lbfgs failed to converge (status=1):\n",
      "STOP: TOTAL NO. of ITERATIONS REACHED LIMIT.\n",
      "\n",
      "Increase the number of iterations (max_iter) or scale the data as shown in:\n",
      "    https://scikit-learn.org/stable/modules/preprocessing.html\n",
      "Please also refer to the documentation for alternative solver options:\n",
      "    https://scikit-learn.org/stable/modules/linear_model.html#logistic-regression\n",
      "  n_iter_i = _check_optimize_result(\n",
      "/opt/homebrew/lib/python3.11/site-packages/sklearn/linear_model/_logistic.py:469: ConvergenceWarning: lbfgs failed to converge (status=1):\n",
      "STOP: TOTAL NO. of ITERATIONS REACHED LIMIT.\n",
      "\n",
      "Increase the number of iterations (max_iter) or scale the data as shown in:\n",
      "    https://scikit-learn.org/stable/modules/preprocessing.html\n",
      "Please also refer to the documentation for alternative solver options:\n",
      "    https://scikit-learn.org/stable/modules/linear_model.html#logistic-regression\n",
      "  n_iter_i = _check_optimize_result(\n",
      "/opt/homebrew/lib/python3.11/site-packages/sklearn/linear_model/_logistic.py:469: ConvergenceWarning: lbfgs failed to converge (status=1):\n",
      "STOP: TOTAL NO. of ITERATIONS REACHED LIMIT.\n",
      "\n",
      "Increase the number of iterations (max_iter) or scale the data as shown in:\n",
      "    https://scikit-learn.org/stable/modules/preprocessing.html\n",
      "Please also refer to the documentation for alternative solver options:\n",
      "    https://scikit-learn.org/stable/modules/linear_model.html#logistic-regression\n",
      "  n_iter_i = _check_optimize_result(\n",
      "/opt/homebrew/lib/python3.11/site-packages/sklearn/linear_model/_logistic.py:469: ConvergenceWarning: lbfgs failed to converge (status=1):\n",
      "STOP: TOTAL NO. of ITERATIONS REACHED LIMIT.\n",
      "\n",
      "Increase the number of iterations (max_iter) or scale the data as shown in:\n",
      "    https://scikit-learn.org/stable/modules/preprocessing.html\n",
      "Please also refer to the documentation for alternative solver options:\n",
      "    https://scikit-learn.org/stable/modules/linear_model.html#logistic-regression\n",
      "  n_iter_i = _check_optimize_result(\n",
      "/opt/homebrew/lib/python3.11/site-packages/sklearn/linear_model/_logistic.py:469: ConvergenceWarning: lbfgs failed to converge (status=1):\n",
      "STOP: TOTAL NO. of ITERATIONS REACHED LIMIT.\n",
      "\n",
      "Increase the number of iterations (max_iter) or scale the data as shown in:\n",
      "    https://scikit-learn.org/stable/modules/preprocessing.html\n",
      "Please also refer to the documentation for alternative solver options:\n",
      "    https://scikit-learn.org/stable/modules/linear_model.html#logistic-regression\n",
      "  n_iter_i = _check_optimize_result(\n",
      "/opt/homebrew/lib/python3.11/site-packages/sklearn/linear_model/_logistic.py:469: ConvergenceWarning: lbfgs failed to converge (status=1):\n",
      "STOP: TOTAL NO. of ITERATIONS REACHED LIMIT.\n",
      "\n",
      "Increase the number of iterations (max_iter) or scale the data as shown in:\n",
      "    https://scikit-learn.org/stable/modules/preprocessing.html\n",
      "Please also refer to the documentation for alternative solver options:\n",
      "    https://scikit-learn.org/stable/modules/linear_model.html#logistic-regression\n",
      "  n_iter_i = _check_optimize_result(\n",
      "/opt/homebrew/lib/python3.11/site-packages/sklearn/linear_model/_logistic.py:469: ConvergenceWarning: lbfgs failed to converge (status=1):\n",
      "STOP: TOTAL NO. of ITERATIONS REACHED LIMIT.\n",
      "\n",
      "Increase the number of iterations (max_iter) or scale the data as shown in:\n",
      "    https://scikit-learn.org/stable/modules/preprocessing.html\n",
      "Please also refer to the documentation for alternative solver options:\n",
      "    https://scikit-learn.org/stable/modules/linear_model.html#logistic-regression\n",
      "  n_iter_i = _check_optimize_result(\n",
      "/opt/homebrew/lib/python3.11/site-packages/sklearn/linear_model/_logistic.py:469: ConvergenceWarning: lbfgs failed to converge (status=1):\n",
      "STOP: TOTAL NO. of ITERATIONS REACHED LIMIT.\n",
      "\n",
      "Increase the number of iterations (max_iter) or scale the data as shown in:\n",
      "    https://scikit-learn.org/stable/modules/preprocessing.html\n",
      "Please also refer to the documentation for alternative solver options:\n",
      "    https://scikit-learn.org/stable/modules/linear_model.html#logistic-regression\n",
      "  n_iter_i = _check_optimize_result(\n",
      "/opt/homebrew/lib/python3.11/site-packages/sklearn/linear_model/_logistic.py:469: ConvergenceWarning: lbfgs failed to converge (status=1):\n",
      "STOP: TOTAL NO. of ITERATIONS REACHED LIMIT.\n",
      "\n",
      "Increase the number of iterations (max_iter) or scale the data as shown in:\n",
      "    https://scikit-learn.org/stable/modules/preprocessing.html\n",
      "Please also refer to the documentation for alternative solver options:\n",
      "    https://scikit-learn.org/stable/modules/linear_model.html#logistic-regression\n",
      "  n_iter_i = _check_optimize_result(\n",
      "/opt/homebrew/lib/python3.11/site-packages/sklearn/linear_model/_logistic.py:469: ConvergenceWarning: lbfgs failed to converge (status=1):\n",
      "STOP: TOTAL NO. of ITERATIONS REACHED LIMIT.\n",
      "\n",
      "Increase the number of iterations (max_iter) or scale the data as shown in:\n",
      "    https://scikit-learn.org/stable/modules/preprocessing.html\n",
      "Please also refer to the documentation for alternative solver options:\n",
      "    https://scikit-learn.org/stable/modules/linear_model.html#logistic-regression\n",
      "  n_iter_i = _check_optimize_result(\n",
      "/opt/homebrew/lib/python3.11/site-packages/sklearn/linear_model/_logistic.py:469: ConvergenceWarning: lbfgs failed to converge (status=1):\n",
      "STOP: TOTAL NO. of ITERATIONS REACHED LIMIT.\n",
      "\n",
      "Increase the number of iterations (max_iter) or scale the data as shown in:\n",
      "    https://scikit-learn.org/stable/modules/preprocessing.html\n",
      "Please also refer to the documentation for alternative solver options:\n",
      "    https://scikit-learn.org/stable/modules/linear_model.html#logistic-regression\n",
      "  n_iter_i = _check_optimize_result(\n",
      "/opt/homebrew/lib/python3.11/site-packages/sklearn/linear_model/_logistic.py:469: ConvergenceWarning: lbfgs failed to converge (status=1):\n",
      "STOP: TOTAL NO. of ITERATIONS REACHED LIMIT.\n",
      "\n",
      "Increase the number of iterations (max_iter) or scale the data as shown in:\n",
      "    https://scikit-learn.org/stable/modules/preprocessing.html\n",
      "Please also refer to the documentation for alternative solver options:\n",
      "    https://scikit-learn.org/stable/modules/linear_model.html#logistic-regression\n",
      "  n_iter_i = _check_optimize_result(\n",
      "/opt/homebrew/lib/python3.11/site-packages/sklearn/linear_model/_logistic.py:469: ConvergenceWarning: lbfgs failed to converge (status=1):\n",
      "STOP: TOTAL NO. of ITERATIONS REACHED LIMIT.\n",
      "\n",
      "Increase the number of iterations (max_iter) or scale the data as shown in:\n",
      "    https://scikit-learn.org/stable/modules/preprocessing.html\n",
      "Please also refer to the documentation for alternative solver options:\n",
      "    https://scikit-learn.org/stable/modules/linear_model.html#logistic-regression\n",
      "  n_iter_i = _check_optimize_result(\n",
      "/opt/homebrew/lib/python3.11/site-packages/sklearn/linear_model/_logistic.py:469: ConvergenceWarning: lbfgs failed to converge (status=1):\n",
      "STOP: TOTAL NO. of ITERATIONS REACHED LIMIT.\n",
      "\n",
      "Increase the number of iterations (max_iter) or scale the data as shown in:\n",
      "    https://scikit-learn.org/stable/modules/preprocessing.html\n",
      "Please also refer to the documentation for alternative solver options:\n",
      "    https://scikit-learn.org/stable/modules/linear_model.html#logistic-regression\n",
      "  n_iter_i = _check_optimize_result(\n",
      "/opt/homebrew/lib/python3.11/site-packages/sklearn/linear_model/_logistic.py:469: ConvergenceWarning: lbfgs failed to converge (status=1):\n",
      "STOP: TOTAL NO. of ITERATIONS REACHED LIMIT.\n",
      "\n",
      "Increase the number of iterations (max_iter) or scale the data as shown in:\n",
      "    https://scikit-learn.org/stable/modules/preprocessing.html\n",
      "Please also refer to the documentation for alternative solver options:\n",
      "    https://scikit-learn.org/stable/modules/linear_model.html#logistic-regression\n",
      "  n_iter_i = _check_optimize_result(\n",
      "/opt/homebrew/lib/python3.11/site-packages/sklearn/linear_model/_logistic.py:469: ConvergenceWarning: lbfgs failed to converge (status=1):\n",
      "STOP: TOTAL NO. of ITERATIONS REACHED LIMIT.\n",
      "\n",
      "Increase the number of iterations (max_iter) or scale the data as shown in:\n",
      "    https://scikit-learn.org/stable/modules/preprocessing.html\n",
      "Please also refer to the documentation for alternative solver options:\n",
      "    https://scikit-learn.org/stable/modules/linear_model.html#logistic-regression\n",
      "  n_iter_i = _check_optimize_result(\n",
      "/opt/homebrew/lib/python3.11/site-packages/sklearn/linear_model/_logistic.py:469: ConvergenceWarning: lbfgs failed to converge (status=1):\n",
      "STOP: TOTAL NO. of ITERATIONS REACHED LIMIT.\n",
      "\n",
      "Increase the number of iterations (max_iter) or scale the data as shown in:\n",
      "    https://scikit-learn.org/stable/modules/preprocessing.html\n",
      "Please also refer to the documentation for alternative solver options:\n",
      "    https://scikit-learn.org/stable/modules/linear_model.html#logistic-regression\n",
      "  n_iter_i = _check_optimize_result(\n"
     ]
    },
    {
     "data": {
      "text/plain": "                     model                       feature_set  train_roc_auc  \\\n0       LogisticRegression                           CNS MPO       0.795459   \n1       LogisticRegression                         2D Simple       0.840207   \n2       LogisticRegression                       2D Extended       0.874824   \n3       LogisticRegression                             MACCS       0.853860   \n4       LogisticRegression                        ECFP-count       0.886614   \n5       LogisticRegression                 2D Simple + MACCS       0.872623   \n6       LogisticRegression               2D Extended + MACCS       0.880457   \n7       LogisticRegression  2D Extended + MACCS + ECFP-count       0.891790   \n8            XGBClassifier                           CNS MPO       0.860864   \n9            XGBClassifier                         2D Simple       0.906553   \n10           XGBClassifier                       2D Extended       0.921831   \n11           XGBClassifier                             MACCS       0.919260   \n12           XGBClassifier                        ECFP-count       0.904354   \n13           XGBClassifier                 2D Simple + MACCS       0.918230   \n14           XGBClassifier               2D Extended + MACCS       0.922838   \n15           XGBClassifier  2D Extended + MACCS + ECFP-count       0.923184   \n16  RandomForestClassifier                           CNS MPO       0.879618   \n17  RandomForestClassifier                         2D Simple       0.914998   \n18  RandomForestClassifier                       2D Extended       0.923106   \n19  RandomForestClassifier                             MACCS       0.923101   \n20  RandomForestClassifier                        ECFP-count       0.922204   \n21  RandomForestClassifier                 2D Simple + MACCS       0.927180   \n22  RandomForestClassifier               2D Extended + MACCS       0.927186   \n23  RandomForestClassifier  2D Extended + MACCS + ECFP-count       0.929164   \n\n    train_b_acc  \n0      0.698048  \n1      0.750298  \n2      0.782361  \n3      0.769930  \n4      0.799513  \n5      0.784697  \n6      0.791366  \n7      0.802957  \n8      0.774765  \n9      0.817700  \n10     0.821465  \n11     0.832837  \n12     0.806946  \n13     0.825111  \n14     0.827800  \n15     0.829413  \n16     0.791774  \n17     0.819402  \n18     0.822724  \n19     0.818850  \n20     0.804650  \n21     0.831461  \n22     0.828264  \n23     0.817504  ",
      "text/html": "<div>\n<style scoped>\n    .dataframe tbody tr th:only-of-type {\n        vertical-align: middle;\n    }\n\n    .dataframe tbody tr th {\n        vertical-align: top;\n    }\n\n    .dataframe thead th {\n        text-align: right;\n    }\n</style>\n<table border=\"1\" class=\"dataframe\">\n  <thead>\n    <tr style=\"text-align: right;\">\n      <th></th>\n      <th>model</th>\n      <th>feature_set</th>\n      <th>train_roc_auc</th>\n      <th>train_b_acc</th>\n    </tr>\n  </thead>\n  <tbody>\n    <tr>\n      <th>0</th>\n      <td>LogisticRegression</td>\n      <td>CNS MPO</td>\n      <td>0.795459</td>\n      <td>0.698048</td>\n    </tr>\n    <tr>\n      <th>1</th>\n      <td>LogisticRegression</td>\n      <td>2D Simple</td>\n      <td>0.840207</td>\n      <td>0.750298</td>\n    </tr>\n    <tr>\n      <th>2</th>\n      <td>LogisticRegression</td>\n      <td>2D Extended</td>\n      <td>0.874824</td>\n      <td>0.782361</td>\n    </tr>\n    <tr>\n      <th>3</th>\n      <td>LogisticRegression</td>\n      <td>MACCS</td>\n      <td>0.853860</td>\n      <td>0.769930</td>\n    </tr>\n    <tr>\n      <th>4</th>\n      <td>LogisticRegression</td>\n      <td>ECFP-count</td>\n      <td>0.886614</td>\n      <td>0.799513</td>\n    </tr>\n    <tr>\n      <th>5</th>\n      <td>LogisticRegression</td>\n      <td>2D Simple + MACCS</td>\n      <td>0.872623</td>\n      <td>0.784697</td>\n    </tr>\n    <tr>\n      <th>6</th>\n      <td>LogisticRegression</td>\n      <td>2D Extended + MACCS</td>\n      <td>0.880457</td>\n      <td>0.791366</td>\n    </tr>\n    <tr>\n      <th>7</th>\n      <td>LogisticRegression</td>\n      <td>2D Extended + MACCS + ECFP-count</td>\n      <td>0.891790</td>\n      <td>0.802957</td>\n    </tr>\n    <tr>\n      <th>8</th>\n      <td>XGBClassifier</td>\n      <td>CNS MPO</td>\n      <td>0.860864</td>\n      <td>0.774765</td>\n    </tr>\n    <tr>\n      <th>9</th>\n      <td>XGBClassifier</td>\n      <td>2D Simple</td>\n      <td>0.906553</td>\n      <td>0.817700</td>\n    </tr>\n    <tr>\n      <th>10</th>\n      <td>XGBClassifier</td>\n      <td>2D Extended</td>\n      <td>0.921831</td>\n      <td>0.821465</td>\n    </tr>\n    <tr>\n      <th>11</th>\n      <td>XGBClassifier</td>\n      <td>MACCS</td>\n      <td>0.919260</td>\n      <td>0.832837</td>\n    </tr>\n    <tr>\n      <th>12</th>\n      <td>XGBClassifier</td>\n      <td>ECFP-count</td>\n      <td>0.904354</td>\n      <td>0.806946</td>\n    </tr>\n    <tr>\n      <th>13</th>\n      <td>XGBClassifier</td>\n      <td>2D Simple + MACCS</td>\n      <td>0.918230</td>\n      <td>0.825111</td>\n    </tr>\n    <tr>\n      <th>14</th>\n      <td>XGBClassifier</td>\n      <td>2D Extended + MACCS</td>\n      <td>0.922838</td>\n      <td>0.827800</td>\n    </tr>\n    <tr>\n      <th>15</th>\n      <td>XGBClassifier</td>\n      <td>2D Extended + MACCS + ECFP-count</td>\n      <td>0.923184</td>\n      <td>0.829413</td>\n    </tr>\n    <tr>\n      <th>16</th>\n      <td>RandomForestClassifier</td>\n      <td>CNS MPO</td>\n      <td>0.879618</td>\n      <td>0.791774</td>\n    </tr>\n    <tr>\n      <th>17</th>\n      <td>RandomForestClassifier</td>\n      <td>2D Simple</td>\n      <td>0.914998</td>\n      <td>0.819402</td>\n    </tr>\n    <tr>\n      <th>18</th>\n      <td>RandomForestClassifier</td>\n      <td>2D Extended</td>\n      <td>0.923106</td>\n      <td>0.822724</td>\n    </tr>\n    <tr>\n      <th>19</th>\n      <td>RandomForestClassifier</td>\n      <td>MACCS</td>\n      <td>0.923101</td>\n      <td>0.818850</td>\n    </tr>\n    <tr>\n      <th>20</th>\n      <td>RandomForestClassifier</td>\n      <td>ECFP-count</td>\n      <td>0.922204</td>\n      <td>0.804650</td>\n    </tr>\n    <tr>\n      <th>21</th>\n      <td>RandomForestClassifier</td>\n      <td>2D Simple + MACCS</td>\n      <td>0.927180</td>\n      <td>0.831461</td>\n    </tr>\n    <tr>\n      <th>22</th>\n      <td>RandomForestClassifier</td>\n      <td>2D Extended + MACCS</td>\n      <td>0.927186</td>\n      <td>0.828264</td>\n    </tr>\n    <tr>\n      <th>23</th>\n      <td>RandomForestClassifier</td>\n      <td>2D Extended + MACCS + ECFP-count</td>\n      <td>0.929164</td>\n      <td>0.817504</td>\n    </tr>\n  </tbody>\n</table>\n</div>"
     },
     "execution_count": 26,
     "metadata": {},
     "output_type": "execute_result"
    }
   ],
   "source": [
    "import copy\n",
    "_results = []\n",
    "for m in [\n",
    "    LogisticRegression(max_iter=1000, random_state=42),\n",
    "    XGBClassifier(random_state=42),\n",
    "    RandomForestClassifier(random_state=42),\n",
    "]:\n",
    "    for _fsn, _feats in [\n",
    "        (\"CNS MPO\", CNS_MPO_FEATURES),\n",
    "        (\"2D Simple\", SIMPLE_FILTERED_FEATURES),\n",
    "        (\"2D Extended\", EXTENDED_FILTERED_FEATURES),\n",
    "        (\"MACCS\", list(df_train_features_maccs)),\n",
    "        (\"ECFP-count\", list(df_train_features_ecfp_count)),\n",
    "        (\"2D Simple + MACCS\", SIMPLE_FILTERED_FEATURES + list(df_train_features_maccs)),\n",
    "        (\"2D Extended + MACCS\", EXTENDED_FILTERED_FEATURES + list(df_train_features_maccs)),\n",
    "        (\"2D Extended + MACCS + ECFP-count\", EXTENDED_FILTERED_FEATURES + list(df_train_features_maccs) + list(df_train_features_ecfp_count)),\n",
    "    ]:\n",
    "        _r_tr = evaluate_train(copy.deepcopy(m), df_train[_feats], df_train.murcko_scaffold_grouped, df_train[\"BBB_numeric\"])\n",
    "        _r_te = evaluate_test(\n",
    "            copy.deepcopy(m).fit(df_train[_feats], df_train[\"BBB_numeric\"]), \n",
    "            X_test=df_test[_feats],\n",
    "            y_test=df_test[\"BBB_numeric\"]\n",
    "        )\n",
    "        \n",
    "        # _r_trp = evaluate_train(copy.deepcopy(m), df_train_pruned[_feats], df_train_pruned.murcko_scaffold_grouped, df_train_pruned[\"BBB_numeric\"])\n",
    "        # _r_tep = evaluate_test(copy.deepcopy(m).fit(df_train_pruned[_feats], df_train_pruned[\"BBB_numeric\"]), X_test=df_test[_feats], y_test=df_test[\"BBB_numeric\"])\n",
    "        _results.append({\n",
    "            \"model\": m.__class__.__name__,\n",
    "            \"feature_set\": _fsn,\n",
    "            \"train_roc_auc\": sum(_r_tr[\"test_roc_auc\"]) / len(_r_tr[\"test_roc_auc\"]),\n",
    "            \"train_b_acc\": sum(_r_tr[\"test_balanced_accuracy\"]) / len(_r_tr[\"test_balanced_accuracy\"]),\n",
    "            #\"test_roc_auc\": _r_te[\"roc_auc\"],\n",
    "            #\"test_b_acc\": _r_te[\"balanced_accuracy\"],\n",
    "            #\"raw_train_roc_auc\": _r_tr[\"test_roc_auc\"],\n",
    "            #\"raw_train_b_acc\": _r_tr[\"test_balanced_accuracy\"],\n",
    "            # \"pruned_train_roc_auc\": sum(_r_trp[\"test_roc_auc\"]) / len(_r_trp[\"test_roc_auc\"]),\n",
    "            # \"pruned_train_b_acc\": sum(_r_trp[\"test_balanced_accuracy\"]) / len(_r_trp[\"test_balanced_accuracy\"]),\n",
    "            # \"pruned_test_roc_auc\": _r_tep[\"roc_auc\"],\n",
    "            # \"pruned_test_b_acc\": _r_tep[\"balanced_accuracy\"],\n",
    "        })\n",
    "        \n",
    "df_algo_results = pd.DataFrame(_results)\n",
    "df_algo_results\n"
   ],
   "metadata": {
    "collapsed": false,
    "ExecuteTime": {
     "end_time": "2024-08-22T20:06:15.703327Z",
     "start_time": "2024-04-29T12:14:22.304012Z"
    }
   },
   "id": "5e6cf1750ac35d5"
  },
  {
   "cell_type": "code",
   "execution_count": 27,
   "outputs": [],
   "source": [
    "\n",
    "# sm = SVMSMOTE(random_state=42) \n",
    "# df_train_oversampled, y_train_oversampled = X_res, y_res = sm.fit_resample(df_train, df_train[])\n",
    "\n"
   ],
   "metadata": {
    "collapsed": false,
    "ExecuteTime": {
     "end_time": "2024-08-22T20:06:15.703520Z",
     "start_time": "2024-04-29T12:17:00.208610Z"
    }
   },
   "id": "eece3e157e267122"
  },
  {
   "cell_type": "code",
   "execution_count": 28,
   "outputs": [
    {
     "name": "stderr",
     "output_type": "stream",
     "text": [
      "/opt/homebrew/lib/python3.11/site-packages/sklearn/linear_model/_logistic.py:469: ConvergenceWarning: lbfgs failed to converge (status=1):\n",
      "STOP: TOTAL NO. of ITERATIONS REACHED LIMIT.\n",
      "\n",
      "Increase the number of iterations (max_iter) or scale the data as shown in:\n",
      "    https://scikit-learn.org/stable/modules/preprocessing.html\n",
      "Please also refer to the documentation for alternative solver options:\n",
      "    https://scikit-learn.org/stable/modules/linear_model.html#logistic-regression\n",
      "  n_iter_i = _check_optimize_result(\n",
      "/opt/homebrew/lib/python3.11/site-packages/sklearn/linear_model/_logistic.py:469: ConvergenceWarning: lbfgs failed to converge (status=1):\n",
      "STOP: TOTAL NO. of ITERATIONS REACHED LIMIT.\n",
      "\n",
      "Increase the number of iterations (max_iter) or scale the data as shown in:\n",
      "    https://scikit-learn.org/stable/modules/preprocessing.html\n",
      "Please also refer to the documentation for alternative solver options:\n",
      "    https://scikit-learn.org/stable/modules/linear_model.html#logistic-regression\n",
      "  n_iter_i = _check_optimize_result(\n",
      "/opt/homebrew/lib/python3.11/site-packages/sklearn/linear_model/_logistic.py:469: ConvergenceWarning: lbfgs failed to converge (status=1):\n",
      "STOP: TOTAL NO. of ITERATIONS REACHED LIMIT.\n",
      "\n",
      "Increase the number of iterations (max_iter) or scale the data as shown in:\n",
      "    https://scikit-learn.org/stable/modules/preprocessing.html\n",
      "Please also refer to the documentation for alternative solver options:\n",
      "    https://scikit-learn.org/stable/modules/linear_model.html#logistic-regression\n",
      "  n_iter_i = _check_optimize_result(\n",
      "/opt/homebrew/lib/python3.11/site-packages/sklearn/linear_model/_logistic.py:469: ConvergenceWarning: lbfgs failed to converge (status=1):\n",
      "STOP: TOTAL NO. of ITERATIONS REACHED LIMIT.\n",
      "\n",
      "Increase the number of iterations (max_iter) or scale the data as shown in:\n",
      "    https://scikit-learn.org/stable/modules/preprocessing.html\n",
      "Please also refer to the documentation for alternative solver options:\n",
      "    https://scikit-learn.org/stable/modules/linear_model.html#logistic-regression\n",
      "  n_iter_i = _check_optimize_result(\n",
      "/opt/homebrew/lib/python3.11/site-packages/sklearn/linear_model/_logistic.py:469: ConvergenceWarning: lbfgs failed to converge (status=1):\n",
      "STOP: TOTAL NO. of ITERATIONS REACHED LIMIT.\n",
      "\n",
      "Increase the number of iterations (max_iter) or scale the data as shown in:\n",
      "    https://scikit-learn.org/stable/modules/preprocessing.html\n",
      "Please also refer to the documentation for alternative solver options:\n",
      "    https://scikit-learn.org/stable/modules/linear_model.html#logistic-regression\n",
      "  n_iter_i = _check_optimize_result(\n"
     ]
    },
    {
     "data": {
      "text/plain": "                     model                       feature_set  test_roc_auc  \\\n0       LogisticRegression                           CNS MPO      0.804635   \n1       LogisticRegression                         2D Simple      0.833656   \n2       LogisticRegression                       2D Extended      0.855863   \n3       LogisticRegression                             MACCS      0.844336   \n4       LogisticRegression                        ECFP-count      0.868643   \n5       LogisticRegression                 2D Simple + MACCS      0.856480   \n6       LogisticRegression               2D Extended + MACCS      0.838369   \n7       LogisticRegression  2D Extended + MACCS + ECFP-count      0.870668   \n8            XGBClassifier                           CNS MPO      0.852393   \n9            XGBClassifier                         2D Simple      0.892470   \n10           XGBClassifier                       2D Extended      0.901106   \n11           XGBClassifier                             MACCS      0.881357   \n12           XGBClassifier                        ECFP-count      0.880778   \n13           XGBClassifier                 2D Simple + MACCS      0.905173   \n14           XGBClassifier               2D Extended + MACCS      0.890629   \n15           XGBClassifier  2D Extended + MACCS + ECFP-count      0.899665   \n16  RandomForestClassifier                           CNS MPO      0.864383   \n17  RandomForestClassifier                         2D Simple      0.884725   \n18  RandomForestClassifier                       2D Extended      0.899819   \n19  RandomForestClassifier                             MACCS      0.886947   \n20  RandomForestClassifier                        ECFP-count      0.902469   \n21  RandomForestClassifier                 2D Simple + MACCS      0.901939   \n22  RandomForestClassifier               2D Extended + MACCS      0.899857   \n23  RandomForestClassifier  2D Extended + MACCS + ECFP-count      0.904204   \n\n    test_b_acc  \n0     0.742415  \n1     0.750810  \n2     0.759118  \n3     0.771831  \n4     0.788216  \n5     0.780698  \n6     0.768014  \n7     0.801575  \n8     0.778732  \n9     0.806037  \n10    0.828851  \n11    0.772978  \n12    0.800139  \n13    0.818577  \n14    0.801430  \n15    0.798992  \n16    0.777469  \n17    0.794674  \n18    0.806625  \n19    0.788804  \n20    0.821015  \n21    0.804717  \n22    0.804659  \n23    0.810327  ",
      "text/html": "<div>\n<style scoped>\n    .dataframe tbody tr th:only-of-type {\n        vertical-align: middle;\n    }\n\n    .dataframe tbody tr th {\n        vertical-align: top;\n    }\n\n    .dataframe thead th {\n        text-align: right;\n    }\n</style>\n<table border=\"1\" class=\"dataframe\">\n  <thead>\n    <tr style=\"text-align: right;\">\n      <th></th>\n      <th>model</th>\n      <th>feature_set</th>\n      <th>test_roc_auc</th>\n      <th>test_b_acc</th>\n    </tr>\n  </thead>\n  <tbody>\n    <tr>\n      <th>0</th>\n      <td>LogisticRegression</td>\n      <td>CNS MPO</td>\n      <td>0.804635</td>\n      <td>0.742415</td>\n    </tr>\n    <tr>\n      <th>1</th>\n      <td>LogisticRegression</td>\n      <td>2D Simple</td>\n      <td>0.833656</td>\n      <td>0.750810</td>\n    </tr>\n    <tr>\n      <th>2</th>\n      <td>LogisticRegression</td>\n      <td>2D Extended</td>\n      <td>0.855863</td>\n      <td>0.759118</td>\n    </tr>\n    <tr>\n      <th>3</th>\n      <td>LogisticRegression</td>\n      <td>MACCS</td>\n      <td>0.844336</td>\n      <td>0.771831</td>\n    </tr>\n    <tr>\n      <th>4</th>\n      <td>LogisticRegression</td>\n      <td>ECFP-count</td>\n      <td>0.868643</td>\n      <td>0.788216</td>\n    </tr>\n    <tr>\n      <th>5</th>\n      <td>LogisticRegression</td>\n      <td>2D Simple + MACCS</td>\n      <td>0.856480</td>\n      <td>0.780698</td>\n    </tr>\n    <tr>\n      <th>6</th>\n      <td>LogisticRegression</td>\n      <td>2D Extended + MACCS</td>\n      <td>0.838369</td>\n      <td>0.768014</td>\n    </tr>\n    <tr>\n      <th>7</th>\n      <td>LogisticRegression</td>\n      <td>2D Extended + MACCS + ECFP-count</td>\n      <td>0.870668</td>\n      <td>0.801575</td>\n    </tr>\n    <tr>\n      <th>8</th>\n      <td>XGBClassifier</td>\n      <td>CNS MPO</td>\n      <td>0.852393</td>\n      <td>0.778732</td>\n    </tr>\n    <tr>\n      <th>9</th>\n      <td>XGBClassifier</td>\n      <td>2D Simple</td>\n      <td>0.892470</td>\n      <td>0.806037</td>\n    </tr>\n    <tr>\n      <th>10</th>\n      <td>XGBClassifier</td>\n      <td>2D Extended</td>\n      <td>0.901106</td>\n      <td>0.828851</td>\n    </tr>\n    <tr>\n      <th>11</th>\n      <td>XGBClassifier</td>\n      <td>MACCS</td>\n      <td>0.881357</td>\n      <td>0.772978</td>\n    </tr>\n    <tr>\n      <th>12</th>\n      <td>XGBClassifier</td>\n      <td>ECFP-count</td>\n      <td>0.880778</td>\n      <td>0.800139</td>\n    </tr>\n    <tr>\n      <th>13</th>\n      <td>XGBClassifier</td>\n      <td>2D Simple + MACCS</td>\n      <td>0.905173</td>\n      <td>0.818577</td>\n    </tr>\n    <tr>\n      <th>14</th>\n      <td>XGBClassifier</td>\n      <td>2D Extended + MACCS</td>\n      <td>0.890629</td>\n      <td>0.801430</td>\n    </tr>\n    <tr>\n      <th>15</th>\n      <td>XGBClassifier</td>\n      <td>2D Extended + MACCS + ECFP-count</td>\n      <td>0.899665</td>\n      <td>0.798992</td>\n    </tr>\n    <tr>\n      <th>16</th>\n      <td>RandomForestClassifier</td>\n      <td>CNS MPO</td>\n      <td>0.864383</td>\n      <td>0.777469</td>\n    </tr>\n    <tr>\n      <th>17</th>\n      <td>RandomForestClassifier</td>\n      <td>2D Simple</td>\n      <td>0.884725</td>\n      <td>0.794674</td>\n    </tr>\n    <tr>\n      <th>18</th>\n      <td>RandomForestClassifier</td>\n      <td>2D Extended</td>\n      <td>0.899819</td>\n      <td>0.806625</td>\n    </tr>\n    <tr>\n      <th>19</th>\n      <td>RandomForestClassifier</td>\n      <td>MACCS</td>\n      <td>0.886947</td>\n      <td>0.788804</td>\n    </tr>\n    <tr>\n      <th>20</th>\n      <td>RandomForestClassifier</td>\n      <td>ECFP-count</td>\n      <td>0.902469</td>\n      <td>0.821015</td>\n    </tr>\n    <tr>\n      <th>21</th>\n      <td>RandomForestClassifier</td>\n      <td>2D Simple + MACCS</td>\n      <td>0.901939</td>\n      <td>0.804717</td>\n    </tr>\n    <tr>\n      <th>22</th>\n      <td>RandomForestClassifier</td>\n      <td>2D Extended + MACCS</td>\n      <td>0.899857</td>\n      <td>0.804659</td>\n    </tr>\n    <tr>\n      <th>23</th>\n      <td>RandomForestClassifier</td>\n      <td>2D Extended + MACCS + ECFP-count</td>\n      <td>0.904204</td>\n      <td>0.810327</td>\n    </tr>\n  </tbody>\n</table>\n</div>"
     },
     "execution_count": 28,
     "metadata": {},
     "output_type": "execute_result"
    }
   ],
   "source": [
    "import copy\n",
    "from imblearn.over_sampling import SVMSMOTE, SMOTE\n",
    "\n",
    "_results = []\n",
    "for m in [\n",
    "    LogisticRegression(max_iter=1000, random_state=42),\n",
    "    XGBClassifier(random_state=42),\n",
    "    RandomForestClassifier(random_state=42),\n",
    "    #GaussianProcessClassifier(n_jobs=-1, random_state=42)\n",
    "]:\n",
    "    for _fsn, _feats in [\n",
    "        (\"CNS MPO\", CNS_MPO_FEATURES),\n",
    "        (\"2D Simple\", SIMPLE_FILTERED_FEATURES),\n",
    "        (\"2D Extended\", EXTENDED_FILTERED_FEATURES),\n",
    "        (\"MACCS\", list(df_train_features_maccs)),\n",
    "        (\"ECFP-count\", list(df_train_features_ecfp_count)),\n",
    "        (\"2D Simple + MACCS\", SIMPLE_FILTERED_FEATURES + list(df_train_features_maccs)),\n",
    "        (\"2D Extended + MACCS\", EXTENDED_FILTERED_FEATURES + list(df_train_features_maccs)),\n",
    "        (\"2D Extended + MACCS + ECFP-count\", EXTENDED_FILTERED_FEATURES + list(df_train_features_maccs) + list(df_train_features_ecfp_count)),\n",
    "    ]:  \n",
    "        \n",
    "        # _r_tr = evaluate_train(copy.deepcopy(m), df_train[_feats], df_train.murcko_scaffold_grouped, df_train[\"BBB_numeric\"])\n",
    "        \n",
    "        # We are getting somewhat changed but not considerably improved results when using SMOTE or SVMSMOTE for oversampling.\n",
    "        sm = SMOTE(random_state=42)\n",
    "        X_os, y_os = sm.fit_resample(df_train[_feats], df_train[\"BBB_numeric\"])\n",
    "        _r_te = evaluate_test(copy.deepcopy(m).fit(X_os, y_os), X_test=df_test[_feats], y_test=df_test[\"BBB_numeric\"])\n",
    "        \n",
    "        # Using a scaler degrades testing results (easily possible with boosted models, but this issue includes regression).\n",
    "        #scaler = StandardScaler()\n",
    "        #scaler.fit(df_train[_feats])\n",
    "        \n",
    "        \n",
    "        # _r_trp = evaluate_train(copy.deepcopy(m), df_train_pruned[_feats], df_train_pruned.murcko_scaffold_grouped, df_train_pruned[\"BBB_numeric\"])\n",
    "        # _r_tep = evaluate_test(copy.deepcopy(m).fit(df_train_pruned[_feats], df_train_pruned[\"BBB_numeric\"]), X_test=df_test[_feats], y_test=df_test[\"BBB_numeric\"])\n",
    "        _results.append({\n",
    "            \"model\": m.__class__.__name__,\n",
    "            \"feature_set\": _fsn,\n",
    "            #\"train_roc_auc\": sum(_r_tr[\"test_roc_auc\"]) / len(_r_tr[\"test_roc_auc\"]),\n",
    "            #\"train_b_acc\": sum(_r_tr[\"test_balanced_accuracy\"]) / len(_r_tr[\"test_balanced_accuracy\"]),\n",
    "            \"test_roc_auc\": _r_te[\"roc_auc\"],\n",
    "            \"test_b_acc\": _r_te[\"balanced_accuracy\"],\n",
    "            #\"raw_train_roc_auc\": _r_tr[\"test_roc_auc\"],\n",
    "            #\"raw_train_b_acc\": _r_tr[\"test_balanced_accuracy\"],\n",
    "            # \"pruned_train_roc_auc\": sum(_r_trp[\"test_roc_auc\"]) / len(_r_trp[\"test_roc_auc\"]),\n",
    "            # \"pruned_train_b_acc\": sum(_r_trp[\"test_balanced_accuracy\"]) / len(_r_trp[\"test_balanced_accuracy\"]),\n",
    "            # \"pruned_test_roc_auc\": _r_tep[\"roc_auc\"],\n",
    "            # \"pruned_test_b_acc\": _r_tep[\"balanced_accuracy\"],\n",
    "        })\n",
    "        \n",
    "df_algo_results = pd.DataFrame(_results)\n",
    "df_algo_results\n"
   ],
   "metadata": {
    "collapsed": false,
    "ExecuteTime": {
     "end_time": "2024-08-22T20:06:15.703587Z",
     "start_time": "2024-04-29T12:17:00.213678Z"
    }
   },
   "id": "5527c2ddf3120d4f"
  },
  {
   "cell_type": "markdown",
   "source": [
    "## XGBoost classifier - development"
   ],
   "metadata": {
    "collapsed": false
   },
   "id": "99566efe5c2ac1b"
  },
  {
   "cell_type": "code",
   "execution_count": 159,
   "outputs": [
    {
     "data": {
      "text/plain": "{'roc_auc': 0.8916599198087748,\n 'pr_auc': 0.9231928244743046,\n 'balanced_accuracy': 0.8103554630272187,\n 'accuracy': 0.8191489361702128}"
     },
     "execution_count": 159,
     "metadata": {},
     "output_type": "execute_result"
    }
   ],
   "source": [
    "_fs = SIMPLE_FILTERED_FEATURES\n",
    "m_class = XGBClassifier(random_state=42)\n",
    "m_class.fit(df_train[_fs], df_train[\"BBB_numeric\"])\n",
    "evaluate_test(m_class, df_test[_fs], df_test[\"BBB_numeric\"])"
   ],
   "metadata": {
    "collapsed": false,
    "ExecuteTime": {
     "end_time": "2024-08-22T20:06:15.703835Z",
     "start_time": "2024-05-03T07:40:01.557164Z"
    }
   },
   "id": "82ed832a8d00286e"
  },
  {
   "cell_type": "code",
   "execution_count": 272,
   "outputs": [
    {
     "name": "stdout",
     "output_type": "stream",
     "text": [
      "Training 5-cross CV\n",
      "  B.Accuracy: 0.8175037999109973\n",
      "  ROC AUC: 0.92916436076805\n",
      "Test:\n",
      "  B.Acc  : 0.8103554630272187\n",
      "  ROC AUC: 0.8916599198087748\n",
      "  PR AUC: 0.894399522339052\n",
      "Model feature importances: \n"
     ]
    },
    {
     "data": {
      "text/plain": "desc2D_TPSA                        0.139102\ndesc2D_NumSaturatedHeterocycles    0.059442\ndesc2D_NumBridgeheadAtoms          0.050227\ndesc2D_NumAromaticRings            0.048909\nchemaxon_logd                      0.048523\ndesc2D_NumHDonors                  0.042510\ndesc2D_MaxEStateIndex              0.042278\ndesc2D_NumAmideBonds               0.041542\ndesc2D_qed                         0.039753\ndesc2D_Chi4v                       0.037246\nchemaxon_pka_b                     0.036037\nchemaxon_logp                      0.034752\ndesc2D_NumAromaticHeterocycles     0.034550\ndesc2D_MinPartialCharge            0.032668\ndesc2D_MaxPartialCharge            0.030337\ndesc2D_FractionCSP3                0.029498\ndesc2D_NumHAcceptors               0.027767\ndesc2D_BalabanJ                    0.027738\ndesc2D_Kappa3                      0.027615\ndesc2D_NumRotatableBonds           0.026923\ndesc2D_MinEStateIndex              0.025950\ndesc2D_RingCount                   0.025095\ndesc2D_HeavyAtomCount              0.021766\ndesc2D_HallKierAlpha               0.021333\ndesc2D_Ipc                         0.020980\ndesc2D_MinAbsEStateIndex           0.020047\ndesc2D_NumSaturatedRings           0.007414\ndtype: float32"
     },
     "execution_count": 272,
     "metadata": {},
     "output_type": "execute_result"
    }
   ],
   "source": [
    "from sklearn.model_selection import cross_val_score\n",
    "\n",
    "m_class = XGBClassifier(random_state = 42)\n",
    "# Features from SIMPLE_FILTERED_FEATURES and MACCS fingerprings have been iteratively eliminated based on the guided by feature importance.\n",
    "#fs_reg = SIMPLE_FILTERED_FEATURES + list(df_train_features_maccs)\n",
    "\n",
    "\n",
    "fs_class = [f for f in SIMPLE_FILTERED_FEATURES if f not in {\n",
    "    \"desc2D_NumSpiroAtoms\",\n",
    "    \"desc2D_NumAtomStereoCenters\",\n",
    "    \"desc2D_NumUnspecifiedAtomStereoCenters\",\n",
    "    \"desc2D_NumRadicalElectrons\",\n",
    "}]\n",
    "\n",
    "r = evaluate_train(copy.deepcopy(m_class), X_train=df_train[fs_class], X_groups=df_train.murcko_scaffold_grouped, y_train=df_train.BBB_numeric)\n",
    "print(\"Training 5-cross CV\")\n",
    "print(\"  B.Accuracy:\", sum(_r_tr[\"test_balanced_accuracy\"]) / len(_r_tr[\"test_balanced_accuracy\"]))\n",
    "\n",
    "print(\"  ROC AUC:\", sum(_r_tr[\"test_roc_auc\"]) / len(_r_tr[\"test_roc_auc\"]))\n",
    "\n",
    "m_class.fit(\n",
    "    df_train[fs_class], \n",
    "    df_train.BBB_numeric\n",
    ")\n",
    "\n",
    "print(\"Test:\")\n",
    "y_te_p = m_class.predict(df_test[fs_class])\n",
    "y_te_prob = m_class.predict_proba(df_test[fs_class])[:, 1]\n",
    "print(\"  B.Acc  :\", balanced_accuracy_score(df_test[\"BBB_numeric\"], y_te_p))\n",
    "print(\"  ROC AUC:\", roc_auc_score(df_test[\"BBB_numeric\"], y_te_prob))\n",
    "print(\"  PR AUC:\", pr_auc_score(df_test[\"BBB_numeric\"], y_te_p))\n",
    "\n",
    "print(\"Model feature importances: \")\n",
    "pd.Series(m_class.feature_importances_, index=fs_class).sort_values(ascending=False)"
   ],
   "metadata": {
    "collapsed": false,
    "ExecuteTime": {
     "end_time": "2024-08-22T20:06:15.703921Z",
     "start_time": "2024-05-03T09:35:17.844771Z"
    }
   },
   "id": "c431a77690e675fc"
  },
  {
   "cell_type": "code",
   "execution_count": 273,
   "outputs": [
    {
     "name": "stdout",
     "output_type": "stream",
     "text": [
      "328/1638 (grouped) Murcko scaffolds assigned to the validation set.\n",
      "Training set is separated into a dedicated validation (N=529), with the remaining datapoints in training sans validation set (N=2124) \n"
     ]
    }
   ],
   "source": [
    "# Establish a validation dataset for hyperparameter optimisation.\n",
    "from twinning import twinning\n",
    "\n",
    "g_scaffold_desc_for_split_mean = df_train[fs_class + [\"murcko_scaffold_grouped\"]].groupby(\"murcko_scaffold_grouped\").mean()\n",
    "_s_validation_scaffolds = set(g_scaffold_desc_for_split_mean.index[twinning.twin(g_scaffold_desc_for_split_mean.to_numpy(), r=5, u1=42)])\n",
    "print(f\"{len(_s_validation_scaffolds)}/{len(g_scaffold_desc_for_split_mean)} (grouped) Murcko scaffolds assigned to the validation set.\")\n",
    "\n",
    "df_train_validation = df_train[df_train.murcko_scaffold_grouped.apply(lambda x: x in _s_validation_scaffolds)]\n",
    "df_train_sans_validation = df_train[df_train.murcko_scaffold_grouped.apply(lambda x: x not in _s_validation_scaffolds)]\n",
    "print(f\"Training set is separated into a dedicated validation (N={len(df_train_validation)}), with the remaining datapoints in training sans validation set (N={len(df_train_sans_validation)}) \")"
   ],
   "metadata": {
    "collapsed": false,
    "ExecuteTime": {
     "end_time": "2024-08-22T20:06:15.704026Z",
     "start_time": "2024-05-03T09:36:15.474779Z"
    }
   },
   "id": "3927a494d2fc3b90"
  },
  {
   "cell_type": "code",
   "execution_count": 300,
   "outputs": [
    {
     "name": "stdout",
     "output_type": "stream",
     "text": [
      "100%|██████████| 100/100 [00:04<00:00, 21.38trial/s, best loss: 0.7065012664804833]\n",
      "Optimisation - best hyperparameters:\n",
      "{'colsample_bytree': 0.46631681660975055,\n",
      " 'gamma': 1.3218524060563934,\n",
      " 'max_depth': 1.0,\n",
      " 'n_estimators/10': 1.0,\n",
      " 'reg_alpha': 1.0206345608155307,\n",
      " 'reg_lambda': 0.6170701570175221}\n",
      "Post-optimisation validation stats:\n",
      "  B.Acc  : 0.8379635643307137\n",
      "  ROC AUC: 0.9198545171137236\n",
      "  PR AUC: 0.9297503123033052\n",
      "Post-optimisation test stat :\n",
      "  B.Acc  : 0.7869245894055055\n",
      "  ROC AUC: 0.8749903616315831\n",
      "  PR AUC: 0.8813409331721822\n"
     ]
    }
   ],
   "source": [
    "import os\n",
    "from hyperopt import hp, STATUS_OK, Trials, fmin, tpe\n",
    "import pprint\n",
    "\n",
    "# Optimisation.\n",
    "\n",
    "xgb_optimisation_space = {\n",
    "    'max_depth': hp.uniformint(\"max_depth\", 1, 5),\n",
    "    'gamma': hp.uniform ('gamma', 1, 4),\n",
    "    'reg_alpha' : hp.uniform('reg_alpha', 0, 2),\n",
    "    'reg_lambda' : hp.uniform('reg_lambda', 0, 2),\n",
    "    'colsample_bytree' : hp.uniform('colsample_bytree', 0.1, 1),\n",
    "    'n_estimators/10': hp.uniformint(\"n_estimators/10\", 1, 20),\n",
    "    'seed': 42\n",
    "}\n",
    "\n",
    "def objective(space):\n",
    "    _m = XGBClassifier(\n",
    "        random_state = 42,\n",
    "        early_stopping_rounds=10, \n",
    "        eval_metric=\"aucpr\", #\"rmse\",\n",
    "        n_estimators=space['n_estimators/10'] * 10, \n",
    "        max_depth = (space['max_depth']), \n",
    "        gamma = space['gamma'],\n",
    "        reg_alpha = space[\"reg_alpha\"],\n",
    "        reg_lambda = space[\"reg_lambda\"],\n",
    "        colsample_bytree=space['colsample_bytree'],\n",
    "    ).fit(\n",
    "        df_train_sans_validation[fs_class], \n",
    "        df_train_sans_validation.BBB_numeric,\n",
    "        eval_set=[(df_train_sans_validation[fs_class], df_train_sans_validation.BBB_numeric), (df_train_validation[fs_class], df_train_validation.BBB_numeric)], \n",
    "        verbose=False\n",
    "    )    \n",
    "    p_test = _m.predict(df_train_validation[fs_class])\n",
    "    return {'loss': balanced_accuracy_score(df_train_validation.BBB_numeric, p_test), 'status': STATUS_OK}\n",
    "\n",
    "trials = Trials()\n",
    "\n",
    "os.environ[\"HYPEROPT_FMIN_SEED\"] = \"42\" \n",
    "reg_top_hyperparams = fmin(\n",
    "    fn = objective,\n",
    "    space = xgb_optimisation_space,\n",
    "    algo = tpe.suggest,\n",
    "    max_evals = 100,\n",
    "    trials = trials,\n",
    ")\n",
    "print(\"Optimisation - best hyperparameters:\")\n",
    "pprint.pprint(reg_top_hyperparams)\n",
    "\n",
    "m_class_opt = XGBClassifier(\n",
    "    random_state = 42,\n",
    "    #early_stopping_rounds=10, \n",
    "    #eval_metric=\"rmse\",\n",
    "    # n_estimators=int(reg_top_hyperparams[\"n_estimators/10\"]) * 10,\n",
    "    # max_depth=int(reg_top_hyperparams[\"max_depth\"]),\n",
    "    # gamma=reg_top_hyperparams[\"gamma\"],\n",
    "    # reg_alpha = reg_top_hyperparams[\"reg_alpha\"],\n",
    "    # reg_lambda = reg_top_hyperparams[\"reg_lambda\"],\n",
    "    # colsample_bytree=reg_top_hyperparams[\"colsample_bytree\"],\n",
    ").fit(\n",
    "    df_train_sans_validation[fs_class], \n",
    "    df_train_sans_validation.BBB_numeric,\n",
    "    eval_set=[(df_train_sans_validation[fs_class], df_train_sans_validation.BBB_numeric), (df_train_validation[fs_class], df_train_validation.BBB_numeric)], \n",
    "    verbose=False\n",
    ")\n",
    "y_val_p_opt = m_class_opt.predict(df_train_validation[fs_class])\n",
    "y_val_opt_prob = m_class.predict_proba(df_train_validation[fs_class])[:, 1]\n",
    "print(\"Post-optimisation validation stats:\")\n",
    "print(\"  B.Acc  :\", balanced_accuracy_score(df_train_validation[\"BBB_numeric\"], y_val_p_opt))\n",
    "print(\"  ROC AUC:\", roc_auc_score(df_train_validation[\"BBB_numeric\"], y_val_opt_prob))\n",
    "print(\"  PR AUC:\", pr_auc_score(df_train_validation[\"BBB_numeric\"], y_val_p_opt))\n",
    "\n",
    "print(\"Post-optimisation test stat :\")\n",
    "y_te_p = m_class_opt.predict(df_test[fs_class])\n",
    "y_te_prob = m_class_opt.predict_proba(df_test[fs_class])[:, 1]\n",
    "print(\"  B.Acc  :\", balanced_accuracy_score(df_test[\"BBB_numeric\"], y_te_p))\n",
    "print(\"  ROC AUC:\", roc_auc_score(df_test[\"BBB_numeric\"], y_te_prob))\n",
    "print(\"  PR AUC:\", pr_auc_score(df_test[\"BBB_numeric\"], y_te_p))"
   ],
   "metadata": {
    "collapsed": false,
    "ExecuteTime": {
     "end_time": "2024-08-22T20:06:15.704112Z",
     "start_time": "2024-05-03T11:24:39.498481Z"
    }
   },
   "id": "1d11515dfdbfc7db"
  },
  {
   "cell_type": "code",
   "execution_count": 410,
   "outputs": [
    {
     "name": "stdout",
     "output_type": "stream",
     "text": [
      "Final classification model features:\n",
      "['desc2D_TPSA',\n",
      " 'desc2D_NumHDonors',\n",
      " 'chemaxon_logp',\n",
      " 'chemaxon_logd',\n",
      " 'chemaxon_pka_b',\n",
      " 'desc2D_NumHAcceptors',\n",
      " 'desc2D_HeavyAtomCount',\n",
      " 'desc2D_MinPartialCharge',\n",
      " 'desc2D_MaxPartialCharge',\n",
      " 'desc2D_qed',\n",
      " 'desc2D_MinEStateIndex',\n",
      " 'desc2D_HallKierAlpha',\n",
      " 'desc2D_MaxEStateIndex',\n",
      " 'desc2D_Kappa3',\n",
      " 'desc2D_Ipc',\n",
      " 'desc2D_FractionCSP3',\n",
      " 'desc2D_NumSaturatedHeterocycles',\n",
      " 'desc2D_Chi4v',\n",
      " 'desc2D_MinAbsEStateIndex',\n",
      " 'desc2D_NumRotatableBonds',\n",
      " 'desc2D_BalabanJ',\n",
      " 'desc2D_RingCount',\n",
      " 'desc2D_NumAmideBonds',\n",
      " 'desc2D_NumAromaticHeterocycles',\n",
      " 'desc2D_NumSaturatedRings',\n",
      " 'desc2D_NumBridgeheadAtoms',\n",
      " 'desc2D_NumAromaticRings']\n",
      "Saving final model to final_classification_model.pkl\n"
     ]
    }
   ],
   "source": [
    "m_class_final = XGBClassifier(random_state=42).fit(df_train[fs_class], df_train[\"BBB_numeric\"])\n",
    "print(\"Final classification model features:\")\n",
    "pprint.pprint(fs_class)\n",
    "classification_model_file = \"final_classification_model.pkl\"\n",
    "print(f\"Saving final model to {classification_model_file}\")\n",
    "with open(classification_model_file, 'wb') as file:\n",
    "    pickle.dump(m_class_final, file)"
   ],
   "metadata": {
    "collapsed": false,
    "ExecuteTime": {
     "end_time": "2024-08-22T20:06:15.704186Z",
     "start_time": "2024-05-07T11:37:18.817986Z"
    }
   },
   "id": "e2afcd6b531b976c"
  },
  {
   "cell_type": "code",
   "execution_count": 401,
   "outputs": [],
   "source": [
    "## This assumes the regression model is built and pickled.\n",
    "import pickle\n",
    "with open('final_regression_model.pkl', 'rb') as file:\n",
    "    m_reg = pickle.load(file)\n",
    "\n",
    "fs_reg = [\n",
    "    \"chemaxon_logd\",\n",
    "    \"chemaxon_pka_b\",\n",
    "    \"desc2D_TPSA\",\n",
    "    \"desc2D_NumHAcceptors\",\n",
    "    \"desc2D_MinPartialCharge\",\n",
    "    \"desc2D_NumRotatableBonds\",\n",
    "    \"desc2D_MinEStateIndex\",\n",
    "    \"desc2D_MaxEStateIndex\",\n",
    "    \"desc2D_MolWt\",\n",
    "]\n",
    "pr_lbb = \"predicted_logBB\"\n",
    "\n",
    "df_train[pr_lbb] = m_reg.predict(df_train[fs_reg])\n",
    "df_test[pr_lbb] = m_reg.predict(df_test[fs_reg])"
   ],
   "metadata": {
    "collapsed": false,
    "ExecuteTime": {
     "end_time": "2024-08-22T20:06:15.704257Z",
     "start_time": "2024-05-07T10:27:19.908122Z"
    }
   },
   "id": "72189f7a58091b37"
  },
  {
   "cell_type": "code",
   "execution_count": 406,
   "outputs": [
    {
     "name": "stdout",
     "output_type": "stream",
     "text": [
      "Base model performance:\n",
      "{'accuracy': 0.8191489361702128,\n",
      " 'balanced_accuracy': 0.8103554630272187,\n",
      " 'pr_auc': 0.9231928244743046,\n",
      " 'roc_auc': 0.8916599198087748}\n",
      "--------------------------------------------------\n",
      "Model augmented with predicted logBB values:\n",
      "{'accuracy': 0.8069908814589666,\n",
      " 'balanced_accuracy': 0.7989629115583314,\n",
      " 'pr_auc': 0.9066308414943266,\n",
      " 'roc_auc': 0.8814336109183438}\n"
     ]
    }
   ],
   "source": [
    "def _rethreshold(x, threshold = -1):\n",
    "    return x[\"BBB+/BBB-\"] == \"BBB+\" if pd.isna(x.logBB) else x.logBB >= threshold    \n",
    "BBB_num_adj = \"BBB_numeric_adj\" \n",
    "df_train[BBB_num_adj] = df_train.apply(axis=1, func=_rethreshold)\n",
    "df_test[BBB_num_adj] = df_test.apply(axis=1, func=_rethreshold)\n",
    "\n",
    "_m = XGBClassifier(random_state=42)\n",
    "_m.fit(df_train[fs_class], df_train[BBB_num_adj])\n",
    "print(\"Base model performance:\")\n",
    "pprint.pprint(evaluate_test(_m, df_test[fs_class], df_test[BBB_num_adj]))\n",
    "print(\"-\"*50)\n",
    "print(\"Model augmented with predicted logBB values:\")\n",
    "_m = XGBClassifier(random_state=42)\n",
    "_m.fit(df_train[fs_class + [pr_lbb]], df_train[BBB_num_adj])\n",
    "pprint.pprint(evaluate_test(_m, df_test[fs_class + [pr_lbb]], df_test[BBB_num_adj]))\n",
    "# _y_test_class_probs = m_class.predict_proba(df_test[_fs])[:, 1]\n",
    "# print(roc_auc_score(df_test[\"BBB_numeric\"], _y_test_class_probs))\n",
    "# print(bala)"
   ],
   "metadata": {
    "collapsed": false,
    "ExecuteTime": {
     "end_time": "2024-08-22T20:06:15.704325Z",
     "start_time": "2024-05-07T10:28:39.036346Z"
    }
   },
   "id": "14eb12d9984cbf0"
  },
  {
   "cell_type": "code",
   "execution_count": null,
   "outputs": [],
   "source": [],
   "metadata": {
    "collapsed": false
   },
   "id": "6969fea5c1e3ce60"
  },
  {
   "cell_type": "code",
   "execution_count": 407,
   "outputs": [
    {
     "data": {
      "text/plain": "<Figure size 600x500 with 1 Axes>",
      "image/png": "[encoded data removed]"
     },
     "metadata": {},
     "output_type": "display_data"
    }
   ],
   "source": [
    "from sklearn.metrics import roc_curve, roc_auc_score\n",
    "import matplotlib.pyplot as plt\n",
    "\n",
    "from azure_stallion.utils import calculate_cns_mpo_score_wager_2010, calculate_balanced_permeability_index_weiss_2024\n",
    "# Sample data: `y_true` should be your actual binary labels, `y_scores` should be the scores from your function\n",
    "y_true = df_train[\"BBB_numeric\"] \n",
    "\n",
    "# Plotting the ROC curve\n",
    "plt.figure(figsize=(6, 5))\n",
    "\n",
    "# fpr_tpsa, tpr_tpsa, thresholds_tpsa = roc_curve(y_true, -df_train.desc2D_TPSA)\n",
    "# plt.plot(fpr_tpsa, tpr_tpsa, color='darkgreen', lw=2, label='↓TPSA (AUC: %.2f)' % roc_auc_score(y_true, -df_train.desc2D_TPSA))\n",
    "\n",
    "fpr_xgb, tpr_xgb, thresholds_xgd = roc_curve(df_test[\"BBB_numeric\"], _y_test_class_probs)\n",
    "plt.plot(fpr_xgb, tpr_xgb, color=\"red\", lw=2, label=\"XGB classifier (test) - (AUC: %.2f)\" % roc_auc_score(df_test[\"BBB_numeric\"], _y_test_class_probs))\n",
    "\n",
    "\n",
    "\n",
    "y_scores_nind = df_train.apply(axis=1, func=lambda x: x.desc2D_TPSA - 6 * x.chemaxon_logd)\n",
    "fpr_nind, tpr_nind, thresholds_nind = roc_curve(y_true, -y_scores_nind)\n",
    "plt.plot(fpr_nind, tpr_nind, color=\"orange\", lw=2, label=\"NIND (our index) - (AUC: %.2f)\" % roc_auc_score(y_true, -y_scores_nind))\n",
    "\n",
    "y_scores_bpi = df_train.apply(axis=1, func=lambda x: calculate_balanced_permeability_index_weiss_2024(\n",
    "    c_log_d=x[\"chemaxon_logd\"], \n",
    "    psa=x[\"desc2D_TPSA\"] if x[\"desc2D_TPSA\"] >= 3.24  else 3.24,  # 3.24 is the lowest value above 0. \n",
    "    hac=x[\"desc2D_HeavyAtomCount\"]) \n",
    ").apply(lambda x: -5 if x < -5 else 5 if x > 5 else x)\n",
    "\n",
    "\n",
    "fpr_bpi, tpr_bpi, thresholds_bpi = roc_curve(y_true, y_scores_bpi)\n",
    "plt.plot(fpr_bpi, tpr_bpi, color='violet', lw=2, label='BPI - (AUC: %.2f)' % roc_auc_score(y_true, y_scores_bpi))\n",
    "\n",
    "\n",
    "# fpr_logd, tpr_logd, thresholds_logd = roc_curve(y_true, df_train.chemaxon_logd)\n",
    "# plt.plot(fpr_logd, tpr_logd, color='teal', lw=2, label='LogD - (AUC: %.2f)' % roc_auc_score(y_true, df_train.chemaxon_logd))\n",
    "\n",
    "# fpr_mw, tpr_mw, thresholds_mw= roc_curve(y_true, -df_train.desc2D_MolWt)\n",
    "# plt.plot(fpr_mw, tpr_mw, color='darkred', lw=2, label='↓MW (AUC: %.2f)' % roc_auc_score(y_true, -df_train.desc2D_MolWt))\n",
    "\n",
    "y_scores_cns_mpo = df_train.apply(axis=1, func=lambda x: calculate_cns_mpo_score_wager_2010(\n",
    "    c_log_p=x.chemaxon_logp, \n",
    "    c_log_d=x.chemaxon_logd, \n",
    "    mw=x.desc2D_MolWt, \n",
    "    tpsa=x.desc2D_TPSA, \n",
    "    hbd=x.desc2D_NumHDonors, \n",
    "    pka=x.chemaxon_pka_b))  # Example scores from your function\n",
    "fpr_cns_mpo, tpr_cns_mpo, thresholds_cns_mpo = roc_curve(y_true, y_scores_cns_mpo)\n",
    "plt.plot(fpr_cns_mpo, tpr_cns_mpo, color='grey', lw=2, label='CNS MPO - (AUC: %.2f)' % roc_auc_score(y_true, y_scores_cns_mpo))\n",
    "\n",
    "plt.plot([0, 1], [0, 1], color='navy', lw=2, linestyle='--')\n",
    "plt.ylim([0, 1])\n",
    "plt.xlim([0, 1])\n",
    "plt.xlabel('False Positive Rate')\n",
    "plt.ylabel('True Positive Rate')\n",
    "plt.title('ROC')\n",
    "plt.legend(loc=\"lower right\")\n",
    "plt.show()"
   ],
   "metadata": {
    "collapsed": false,
    "ExecuteTime": {
     "end_time": "2024-08-22T20:06:15.704452Z",
     "start_time": "2024-05-07T10:29:59.977972Z"
    }
   },
   "id": "36ecf8a361d959f2"
  }
 ],
 "metadata": {
  "kernelspec": {
   "display_name": "Python 3",
   "language": "python",
   "name": "python3"
  },
  "language_info": {
   "codemirror_mode": {
    "name": "ipython",
    "version": 2
   },
   "file_extension": ".py",
   "mimetype": "text/x-python",
   "name": "python",
   "nbconvert_exporter": "python",
   "pygments_lexer": "ipython2",
   "version": "2.7.6"
  }
 },
 "nbformat": 4,
 "nbformat_minor": 5
}
