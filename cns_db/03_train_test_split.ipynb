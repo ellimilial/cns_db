{
 "cells": [
  {
   "metadata": {},
   "cell_type": "markdown",
   "source": [
    "# Train / Test split\n",
    "We split **CNS-DB** into train and test subset. We rely on Murcko scaffold to bucket the molecules to limit the leak of information from the test set into the training data. We rely on `Twinning` algorithm to maintain distribution similarity between the splits and avoid randomness.\n",
    "\n",
    "This setting is still far from a realistic application where out-of-distribution molecules are expected."
   ],
   "id": "83781899f8ebeaca"
  },
  {
   "metadata": {},
   "cell_type": "code",
   "outputs": [],
   "execution_count": 25,
   "source": [
    "import functools\n",
    "import os\n",
    "import shelve\n",
    "import itertools\n",
    "import twinning\n",
    "from typing import List, Iterable, Dict\n",
    "\n",
    "import pandas as pd\n",
    "import numpy as np\n",
    "import requests_cache\n",
    "\n",
    "from rdkit.DataStructs.cDataStructs import TanimotoSimilarity\n",
    "from rdkit import DataStructs\n",
    "import rdkit.Chem\n",
    "\n",
    "import datamol as dm\n",
    "from molfeat.trans.fp import FPVecTransformer\n",
    "\n",
    "from matplotlib import pyplot as plt\n",
    "import seaborn as sns\n",
    "import plotly.express as px\n",
    "\n",
    "from sklearn.utils.multiclass import type_of_target\n",
    "from sklearn.model_selection import GroupKFold\n",
    "from sklearn.dummy import DummyClassifier\n",
    "from sklearn.linear_model import LogisticRegression\n",
    "from sklearn.manifold import TSNE\n",
    "from xgboost import XGBClassifier, XGBRegressor\n",
    "\n",
    "from scipy.stats import wasserstein_distance, ks_2samp, wilcoxon\n",
    "\n",
    "from utils import get_ecfp4_count_fingerprint\n",
    "\n",
    "from tqdm.contrib.concurrent import process_map\n",
    "from tqdm import tqdm\n",
    "tqdm.pandas()\n",
    "\n",
    "\n",
    "def get_equivalence_ranks_weighted(results: List[Iterable[float]], results_weights: List[float], pval: float=0.01) -> List:\n",
    "    \"\"\"\n",
    "    Assigns an equivalence rank to each list of results based on Wilcoxon signed-rank test.\n",
    "    :param results: a list of iterables of results, if results_weights is supplied, all iterables are assumed to be of the same length.\n",
    "    :param results_weights: a list of weights, applied to all iterables in results list.\n",
    "    :param pval: threshold p-value of the t-test result\n",
    "    :return: a list of ranks, in the order of the original list of results iterables.\n",
    "    \"\"\"\n",
    "    results = [(i, r) for i, r in enumerate(results)]\n",
    "    tot_w = sum(results_weights)\n",
    "    results_weights = [w/tot_w for w in results_weights]\n",
    "    results = sorted(\n",
    "        results,\n",
    "        key=lambda x: sum(r*w for r, w in zip(x[-1], results_weights)),\n",
    "        reverse=True\n",
    "    ) # Sort descending by weighted results average.\n",
    "\n",
    "    _eq_rank = 1\n",
    "    _eq_res = results[0][-1]\n",
    "    for i, r in enumerate(results):   # At each step, if the next set of results is statistically smaller than the top one in the current eq rank - increase the rank.\n",
    "        _, is_less_p_value = wilcoxon(r[-1], _eq_res, alternative=\"less\", correction=True)\n",
    "        if is_less_p_value <= pval:\n",
    "            _eq_rank += 1\n",
    "            _eq_res = r[-1]\n",
    "\n",
    "        results[i] = (r[0], _eq_rank)\n",
    "    results = sorted(results, key=lambda x: x[0]) # Sort in the original order.\n",
    "    return [r[-1] for r in results]\n"
   ],
   "id": "initial_id"
  },
  {
   "cell_type": "code",
   "source": [
    "df_cns_db = pd.read_csv(\"dataset_intermediaries/03_cns_db_raw.tsv\", sep=\"\\t\")\n",
    "print(f\"Read dataset: {len(df_cns_db)} molecules\")\n",
    "\n",
    "_n_pre_removal = len(df_cns_db)\n",
    "df_cns_db = df_cns_db[df_cns_db[\"BBB+/BBB-_group\"] != \"D\"]\n",
    "print(f\"Excluded {_n_pre_removal - len(df_cns_db) } molecules assigned to BBB+/BBB- group D (both BBB+ and BBB- reported, assigned the most frequent): {_n_pre_removal} -> {len(df_cns_db)}\")\n",
    "\n",
    "_n_pre_removal = len(df_cns_db)\n",
    "df_cns_db = df_cns_db[df_cns_db.smiles.apply(lambda x: rdkit.Chem.Descriptors.ExactMolWt(rdkit.Chem.MolFromSmiles(x)) <= 1000)]\n",
    "print(f\"Excluded {_n_pre_removal - len(df_cns_db) } molecules with molecular weight > 1000 Da: {_n_pre_removal} -> {len(df_cns_db)}\")\n",
    "\n",
    "INCHI_TO_DROP = {\n",
    "    \"InChI=1S/C25H32ClN3O3S/c26-20-3-1-5-23(17-20)32-22-10-15-28(16-11-22)14-9-21-4-2-13-29(21)33(30,31)24-7-6-19-8-12-27-25(19)18-24/h1,3,5-8,12,17-18,21-22,27,33H,2,4,9-11,13-16H2,(H,30,31)\", # Pointer exception when generating conformers, looks similar to https://github.com/rdkit/rdkit/issues/200\n",
    "}\n",
    "_n_pre_removal = len(df_cns_db)\n",
    "df_cns_db = df_cns_db[df_cns_db.inchi.apply(lambda x: x not in INCHI_TO_DROP)].reset_index(drop=True)\n",
    "print(f\"Removed {_n_pre_removal-len(df_cns_db)} blacklisted molecules: {_n_pre_removal} -> {len(df_cns_db)}\")\n",
    "\n",
    "# Conformers generation and exclusion of cases that could not be handled\n",
    "\n",
    "N_CONFORMERS = 25\n",
    "f_gen = functools.partial(dm.conformers.generate, n_confs=N_CONFORMERS, ignore_failure=True, enforce_chirality=False)\n",
    "# Not enforcing chirality was necessary for some of the larger molecules - otherwise conformers could not be generated locally.\n",
    "with dm.without_rdkit_log():  # This hides UFFTYPER: Unrecognised atom type: Ar3+4, RuntimeWarning: invalid value encountered in scalar divide 'if E - minE <= ewindow and (E - minE) / rotatable_bonds <= eratio',  UFFTYPER: Unrecognized charge state for atom: 1 , similar one for atom: 17\n",
    "   df_cns_db[\"mol\"] = df_cns_db.smiles.apply(rdkit.Chem.MolFromSmiles)\n",
    "   df_cns_db[\"mol_conformers\"] = process_map(f_gen, df_cns_db.mol)\n",
    "\n",
    "_n_pre_removal = len(df_cns_db)\n",
    "df_cns_db = df_cns_db[df_cns_db.mol_conformers.apply(lambda x: pd.notna(x) and len(x.GetConformers()) > 0)].reset_index(drop=True)\n",
    "print(f\"Removed {_n_pre_removal - len(df_cns_db)} molecules for which we could not generate conformers: {_n_pre_removal} -> {len(df_cns_db)}\")\n",
    "\n",
    "# Useable logBB values\n",
    "print(f\"Molecules logBB values remaining: {sum(pd.notna(df_cns_db.logBB_group))}\")\n",
    "print(f\"Molecules with logBB values - {sum(df_cns_db.logBB_group == 'D')} group D (multiple discrepant values reported - taking the most common) molecules {sum(pd.notna(df_cns_db.logBB_group))} (all available) -> {sum(df_cns_db.logBB_group.apply(lambda x: pd.notna(x) and x != 'D'))} (filtered)\")"
   ],
   "metadata": {
    "collapsed": false,
    "ExecuteTime": {
     "end_time": "2025-07-15T18:34:26.603189Z",
     "start_time": "2025-07-15T18:30:54.031513Z"
    }
   },
   "id": "5c7a13d78b5f7057",
   "outputs": [
    {
     "name": "stdout",
     "output_type": "stream",
     "text": [
      "Read dataset: 3414 molecules\n",
      "Excluded 70 molecules assigned to BBB+/BBB- group D (both BBB+ and BBB- reported, assigned the most frequent): 3414 -> 3344\n",
      "Excluded 21 molecules with molecular weight > 1000 Da: 3344 -> 3323\n",
      "Removed 1 blacklisted molecules: 3323 -> 3322\n"
     ]
    },
    {
     "name": "stderr",
     "output_type": "stream",
     "text": [
      "/var/folders/h8/664cd3cn5s52nmms0vspxkj80000gn/T/ipykernel_65565/668902460.py:26: TqdmWarning: Iterable length 3322 > 1000 but `chunksize` is not set. This may seriously degrade multiprocess performance. Set `chunksize=1` or more.\n",
      "  df_b3db_kc[\"mol_conformers\"] = process_map(f_gen, df_b3db_kc.mol )\n",
      "  0%|          | 0/3322 [00:00<?, ?it/s][19:30:57] UFFTYPER: Unrecognized atom type: Ar3+4 (0)\n",
      "[19:30:57] UFFTYPER: Unrecognized atom type: Ar3+4 (0)\n",
      "[19:30:57] UFFTYPER: Unrecognized atom type: Ar3+4 (0)\n",
      "[19:30:57] UFFTYPER: Unrecognized atom type: Ar3+4 (0)\n",
      "[19:30:57] UFFTYPER: Unrecognized atom type: Ar3+4 (0)\n",
      "[19:30:57] UFFTYPER: Unrecognized atom type: Ar3+4 (0)\n",
      "  3%|▎         | 93/3322 [00:03<00:43, 74.47it/s] [19:30:58] UFFTYPER: Unrecognized atom type: Ca1+2 (0)\n",
      "[19:30:58] UFFTYPER: Unrecognized atom type: Ca1+2 (20)\n",
      "[19:30:58] UFFTYPER: Unrecognized atom type: Ca1+2 (20)\n",
      "[19:30:58] UFFTYPER: Unrecognized atom type: Ca1+2 (20)\n",
      "[19:30:58] UFFTYPER: Unrecognized atom type: Ca1+2 (20)\n",
      "[19:30:58] UFFTYPER: Unrecognized atom type: Ca1+2 (20)\n",
      " 21%|██        | 702/3322 [00:12<00:54, 48.12it/s] [19:31:07] UFFTYPER: Unrecognized charge state for atom: 1\n",
      " 21%|██▏       | 709/3322 [00:12<00:53, 49.01it/s][19:31:08] UFFTYPER: Unrecognized charge state for atom: 1\n",
      "[19:31:08] UFFTYPER: Unrecognized charge state for atom: 1\n",
      "[19:31:08] UFFTYPER: Unrecognized charge state for atom: 1\n",
      "[19:31:08] UFFTYPER: Unrecognized charge state for atom: 1\n",
      "[19:31:08] UFFTYPER: Unrecognized charge state for atom: 1\n",
      " 27%|██▋       | 905/3322 [00:17<00:49, 48.98it/s][19:31:12] UFFTYPER: Unrecognized charge state for atom: 17\n",
      " 27%|██▋       | 911/3322 [00:17<01:02, 38.31it/s][19:31:12] UFFTYPER: Unrecognized charge state for atom: 17\n",
      "[19:31:12] UFFTYPER: Unrecognized charge state for atom: 17\n",
      "[19:31:12] UFFTYPER: Unrecognized charge state for atom: 17\n",
      "[19:31:12] UFFTYPER: Unrecognized charge state for atom: 17\n",
      "[19:31:12] UFFTYPER: Unrecognized charge state for atom: 17\n",
      " 61%|██████    | 2014/3322 [01:09<01:08, 19.11it/s][19:32:04] UFFTYPER: Unrecognized charge state for atom: 12\n",
      " 61%|██████    | 2023/3322 [01:10<01:44, 12.44it/s][19:32:05] UFFTYPER: Unrecognized charge state for atom: 12\n",
      "[19:32:05] UFFTYPER: Unrecognized charge state for atom: 12\n",
      "[19:32:05] UFFTYPER: Unrecognized charge state for atom: 12\n",
      "[19:32:05] UFFTYPER: Unrecognized charge state for atom: 12\n",
      "[19:32:05] UFFTYPER: Unrecognized charge state for atom: 12\n",
      " 88%|████████▊ | 2930/3322 [03:27<06:45,  1.03s/it][19:34:23] UFFTYPER: Unrecognized atom type: S_6+6 (1)\n",
      "[19:34:23] UFFTYPER: Unrecognized atom type: S_6+6 (1)\n",
      "[19:34:23] UFFTYPER: Unrecognized atom type: S_6+6 (1)\n",
      "[19:34:23] UFFTYPER: Unrecognized atom type: S_6+6 (1)\n",
      "[19:34:23] UFFTYPER: Unrecognized atom type: S_6+6 (1)\n",
      "[19:34:23] UFFTYPER: Unrecognized atom type: S_6+6 (1)\n",
      "[19:34:23] UFFTYPER: Unrecognized atom type: Kr3+4 (0)\n",
      "[19:34:23] UFFTYPER: Unrecognized atom type: Kr3+4 (0)\n",
      "[19:34:23] UFFTYPER: Unrecognized atom type: Kr3+4 (0)\n",
      "[19:34:23] UFFTYPER: Unrecognized atom type: Kr3+4 (0)\n",
      "[19:34:23] UFFTYPER: Unrecognized atom type: Kr3+4 (0)\n",
      "[19:34:23] UFFTYPER: Unrecognized atom type: Kr3+4 (0)\n",
      "[19:34:23] UFFTYPER: Unrecognized atom type: Ne3 (0)\n",
      "[19:34:23] UFFTYPER: Unrecognized atom type: Ne3 (0)\n",
      "[19:34:23] UFFTYPER: Unrecognized atom type: Ne3 (0)\n",
      "[19:34:23] UFFTYPER: Unrecognized atom type: Ne3 (0)\n",
      "[19:34:23] UFFTYPER: Unrecognized atom type: Ne3 (0)\n",
      "[19:34:23] UFFTYPER: Unrecognized atom type: Ne3 (0)\n",
      "[19:34:23] UFFTYPER: Unrecognized atom type: Rn3 (0)[19:34:23] UFFTYPER: Unrecognized atom type: Xe3+4 (0)\n",
      "[19:34:23] UFFTYPER: Unrecognized atom type: Xe3+4 (0)\n",
      "[19:34:23] UFFTYPER: Unrecognized atom type: Xe3+4 (0)\n",
      "[19:34:23] UFFTYPER: Unrecognized atom type: Xe3+4 (0)\n",
      "[19:34:23] UFFTYPER: Unrecognized atom type: Xe3+4 (0)\n",
      "[19:34:23] UFFTYPER: Unrecognized atom type: Xe3+4 (0)\n",
      "\n",
      "[19:34:23] UFFTYPER: Unrecognized atom type: Rn3 (0)\n",
      "[19:34:23] UFFTYPER: Unrecognized atom type: Rn3 (0)\n",
      "[19:34:23] UFFTYPER: Unrecognized atom type: Rn3 (0)\n",
      "[19:34:23] UFFTYPER: Unrecognized atom type: Rn3 (0)\n",
      "[19:34:23] UFFTYPER: Unrecognized atom type: Rn3 (0)\n",
      "100%|██████████| 3322/3322 [03:31<00:00, 15.73it/s]\n"
     ]
    },
    {
     "name": "stdout",
     "output_type": "stream",
     "text": [
      "Removed 0 molecules for which we could not generate conformers: 3322 -> 3322\n",
      "Molecules logBB values remaining: 947\n",
      "Molecules with logBB values - 69 group D (multiple discrepant values reported - taking the most common) molecules 947 (all available) -> 878 (filtered)\n"
     ]
    }
   ],
   "execution_count": 6
  },
  {
   "cell_type": "markdown",
   "source": [
    "## Murcko scaffolds generation\n",
    "\n",
    "Upon generating Murcko scaffolds, we identify those with disproportionately large number of molecules and further split those based on their similarity (measured by ECFP4-count Tanimoto similarity, using outlier-specific thersholds).  "
   ],
   "metadata": {
    "collapsed": false
   },
   "id": "36baff5999621f5b"
  },
  {
   "cell_type": "code",
   "source": [
    "df_cns_db[\"murcko_scaffold\"] = df_cns_db.smiles.apply(rdkit.Chem.Scaffolds.MurckoScaffold.MurckoScaffoldSmiles)\n",
    "_reg = df_cns_db[df_cns_db.logBB_group.apply(lambda x: pd.notna(x) and x != 'D')]\n",
    "print(f\"Found a total of {df_cns_db.murcko_scaffold.nunique()} Murcko scaffolds across {len(df_cns_db)} molecules ({_reg.murcko_scaffold.nunique()} / {len(_reg)} in filtered regression setting)\")\n",
    "scaffold_outliers = df_cns_db.murcko_scaffold.value_counts()[:3].to_dict()\n",
    "print(f\"Identified the following scaffold outliers: \" + \", \".join(list(f\"'{k}' (n={v})\" for k, v in scaffold_outliers.items())))\n",
    "\n",
    "df_cns_db[\"ecfp4_count_fingerprint\"] = df_cns_db.smiles.apply(get_ecfp4_count_fingerprint)\n",
    "\n",
    "fig, axs = plt.subplots(1, 3, figsize=(12, 3))\n",
    "\n",
    "for ax_i, o in enumerate(scaffold_outliers):\n",
    "    fingerprints = list(df_cns_db[df_cns_db.murcko_scaffold == o].ecfp4_count_fingerprint)\n",
    "    similarities = []\n",
    "    \n",
    "    for i in range(len(fingerprints)):\n",
    "        for j in range(i+1, len(fingerprints)):  # Avoid repeating comparisons\n",
    "            sim = TanimotoSimilarity(fingerprints[i], fingerprints[j])\n",
    "            similarities.append(sim)    \n",
    "    _ax = axs[ax_i]    \n",
    "    _ax.set_title(o)\n",
    "    sns.histplot(np.array(similarities), ax=_ax)\n",
    "fig.suptitle(\"Intra - outlier scaffold Tanimoto similarity ECFP4 counts fingerprints\")\n",
    "fig.tight_layout()    "
   ],
   "metadata": {
    "collapsed": false,
    "ExecuteTime": {
     "end_time": "2025-07-15T18:53:12.030043Z",
     "start_time": "2025-07-15T18:53:10.846830Z"
    }
   },
   "id": "ba736074040e3366",
   "outputs": [
    {
     "name": "stdout",
     "output_type": "stream",
     "text": [
      "Found a total of 1665 Murcko scaffolds across 3322 molecules (446 / 878 in filtered regression setting)\n",
      "Identified the following scaffold outliers: '' (n=222), 'c1ccccc1' (n=221), 'O=C1C=CC2C(=C1)CCC1C3CCCC3CCC21' (n=77)\n"
     ]
    },
    {
     "data": {
      "text/plain": [
       "<Figure size 1200x300 with 3 Axes>"
      ],
      "image/png": "[encoded data removed]"
     },
     "metadata": {},
     "output_type": "display_data"
    }
   ],
   "execution_count": 7
  },
  {
   "cell_type": "code",
   "source": [
    "# Introduce a new column, containing Murcko scaffolds with the outliers (disproportionately large number of molecules) being further split into groups.\n",
    "SCAFFOLD_GROUP_SIMILARITY_THRESHOLD = 0.5\n",
    "\n",
    "df_cns_db['murcko_scaffold_grouped'] = df_cns_db.murcko_scaffold\n",
    "for outlier in scaffold_outliers:\n",
    "    # Filter molecules belonging to the current outlier scaffold\n",
    "    outlier_mols = df_cns_db[df_cns_db.murcko_scaffold == outlier]\n",
    "    # Initialize group IDs\n",
    "    group_id = 0\n",
    "    \n",
    "    while not outlier_mols.empty:\n",
    "        # Find molecules similar to the reference molecule\n",
    "        ref_fp = outlier_mols.iloc[0].ecfp4_count_fingerprint\n",
    "        group = outlier_mols[outlier_mols.ecfp4_count_fingerprint.apply(lambda x: DataStructs.TanimotoSimilarity(ref_fp, x) >= SCAFFOLD_GROUP_SIMILARITY_THRESHOLD)]\n",
    "        \n",
    "        # Assign a new scaffold identifier for these molecules\n",
    "        new_scaffold = f\"{outlier}_group_{group_id}\"\n",
    "        df_cns_db.loc[group.index, 'murcko_scaffold_grouped'] = new_scaffold\n",
    "        \n",
    "        # Remove these molecules from the outlier_mols DataFrame\n",
    "        outlier_mols = outlier_mols.drop(group.index)\n",
    "        group_id += 1\n",
    "\n",
    "print(f\"Split the scaffolds into {df_cns_db.murcko_scaffold_grouped.nunique()} scaffold-groups to account for outliers.\")\n",
    "\n",
    "_ = df_cns_db.murcko_scaffold_grouped.value_counts().plot(kind=\"hist\", bins=31, log=True, ylabel='Murcko scaffolds grouped frequency', figsize=(5, 3))"
   ],
   "metadata": {
    "collapsed": false,
    "ExecuteTime": {
     "end_time": "2025-07-15T18:53:15.242977Z",
     "start_time": "2025-07-15T18:53:14.982840Z"
    }
   },
   "id": "79e404c927d74706",
   "outputs": [
    {
     "name": "stdout",
     "output_type": "stream",
     "text": [
      "Split the scaffolds into 1964 scaffold-groups to account for outliers.\n"
     ]
    },
    {
     "data": {
      "text/plain": [
       "<Figure size 500x300 with 1 Axes>"
      ],
      "image/png": "[encoded data removed]"
     },
     "metadata": {},
     "output_type": "display_data"
    }
   ],
   "execution_count": 8
  },
  {
   "cell_type": "markdown",
   "source": [
    "## Pre-split baseline\n",
    "Here we iterate over non-optimised, default models and featurisers providing unfiltered sets of descriptors to:\n",
    "  - learn which featurisers and models might be a good start for investigating feature selection\n",
    "  - establish a baseline for improved models"
   ],
   "metadata": {
    "collapsed": false
   },
   "id": "2f1c1c5f1899bbba"
  },
  {
   "metadata": {},
   "cell_type": "code",
   "source": [
    "featurisers = [\n",
    "    (\"ecfp\", False),\n",
    "    (\"ecfp-count\", False),\n",
    "    (\"avalon\", False),\n",
    "    (\"maccs\", False),\n",
    "    (\"desc3D\", True),\n",
    "    (\"desc2D\", False),\n",
    "    (\"mordred\", False),  # During the last run, this got unworkingly slow.\n",
    "    (\"cats2D\", False),\n",
    "    (\"cats3D\", True),\n",
    "    (\"pharm2D\", False),\n",
    "    (\"pharm3D\", True),\n",
    "    (\"skeys\", False),\n",
    "    (\"electroshape\", True)\n",
    "    #(\"usr\", True), #errors processing molecules\n",
    "    #(\"usrcat\", False), #errors processing molecules\n",
    "]\n",
    "\n",
    "df_cns_db_shuffled = df_cns_db.sample(frac=1, random_state=42)\n",
    "cns_db_shuffled_descriptors_cache = {}\n",
    "for f, uses_3d in featurisers:\n",
    "    print(f\"Generating descriptors for featuriser '{f}'\")\n",
    "    transformer = FPVecTransformer(kind=f, dtype=float, n_jobs=16, verbose=True)  \n",
    "    _df_desc = pd.DataFrame(transformer(df_cns_db_shuffled[\"mol_conformers\" if uses_3d else \"mol\"]), columns=transformer.columns)\n",
    "    # Some descriptors are empty, with failures to calculate - Avalon is a good example of this happening due to outdated dependencies.\n",
    "    _n_desc_before_nan_removal = len(list(_df_desc))\n",
    "    _df_desc = _df_desc.dropna(axis=1)\n",
    "    if len(list(_df_desc)) != _n_desc_before_nan_removal:\n",
    "        print(f\" removed { _n_desc_before_nan_removal-len(list(_df_desc)) } empty descriptors: {_n_desc_before_nan_removal} -> {len(list(_df_desc))}\"  )\n",
    "\n",
    "    # For desc2D, there are duplicate descriptors coming out of the transformer, these break XGBoost.\n",
    "    _n_desc_before_duplicate_columns = len(list(_df_desc))\n",
    "    _df_desc = _df_desc.loc[:,~_df_desc.columns.duplicated()].copy()\n",
    "    if len(list(_df_desc)) != _n_desc_before_duplicate_columns:\n",
    "        print(f\" removed { _n_desc_before_nan_removal-len(list(_df_desc)) } duplicate descriptors: {_n_desc_before_nan_removal} -> {len(list(_df_desc))}\"  )\n",
    "    cns_db_shuffled_descriptors_cache[f] = _df_desc\n"
   ],
   "id": "910c726399dc5774",
   "outputs": [],
   "execution_count": null
  },
  {
   "metadata": {},
   "cell_type": "markdown",
   "source": [
    "#### ChemAxon descriptors\n",
    "\n",
    "The descriptors are obtained: \n",
    "    - first by extracting precalculated values extracte from ChEMBL database\n",
    "    - for the molecules not present in ChEMBL, we utilise Chemaxon's property calculator available via [Amazon AWS Marketplace](https://aws.amazon.com/marketplace/seller-profile?id=464bcc5a-31fc-41d9-b9dc-9a43fa5f3634).\n",
    "    - we rely on CNS MPO endpoint as it provides prediction for lipophilicity - relevant descriptors, which uses 7 \"units\" of calculation. At the moment of writing, this corresponds to 0.07 USD per structure for standard user. \n",
    "\n",
    "The code below requires **AWS_MARKETPLACE_CHEMAXON_API_KEY** environment variable. \n",
    "\n",
    "TO VERIFY: The initial finding is that pKa does not distinguish between acidic or basic and the returned values are nowhere near the values ChEMBL or MOE. E.g. for **O=C1N[C@H](CCCl)Oc2ccccc21**, it returns 0.16. MOE has acidic ~13, basic ~16, ChEMBL (Chemaxon) only has acidic at ~13. CNS MPO terminology suggests it should be the pKa of the most basic group of the compound."
   ],
   "id": "6b1ff9e03b215087"
  },
  {
   "metadata": {
    "ExecuteTime": {
     "end_time": "2025-07-15T19:01:32.297908Z",
     "start_time": "2025-07-15T19:01:14.692515Z"
    }
   },
   "cell_type": "code",
   "source": [
    "df_chembl_molecule_properties = pd.read_csv(\"../data/ChEMBL/chembl_molecule_properties.csv.gz\", low_memory=False)\n",
    "\n",
    "\"\"\"\n",
    "ChEMBL has 8 more standard_inchi_key than standard_inchi (i.e. the inchi<->inchi_key relationship within the database is not 1-1).\n",
    "We could rely on InChI in optimising the coverage (it captures about 3.5% more CNS-DB compounds). However, this introduces additional complexity for a limited gain.\n",
    "\"\"\"\n",
    "_smiles_to_properties = {\n",
    "    r[\"canonical_smiles\"]: {\n",
    "        \"logd\": r[\"cx_logd\"],\n",
    "        \"logp\": r[\"cx_logp\"],\n",
    "        \"pka_b\": r[\"cx_most_bpka\"],\n",
    "        \"source\": \"ChEMBL\",\n",
    "    } \n",
    "    for r in df_chembl_molecule_properties.to_dict(\"records\") if \"canonical_smiles\" in r\n",
    "}\n",
    "print(f\"Extracted {len(_smiles_to_properties)} unique SMILES -> property records from {len(df_chembl_molecule_properties)} ChEMBL molecules\")"
   ],
   "id": "cf05779d7f2bcc4c",
   "outputs": [
    {
     "name": "stdout",
     "output_type": "stream",
     "text": [
      "Extracted 2409118 unique SMILES -> property records from 2431025 ChEMBL molecules\n"
     ]
    }
   ],
   "execution_count": 11
  },
  {
   "metadata": {
    "ExecuteTime": {
     "end_time": "2025-07-15T19:01:32.438815Z",
     "start_time": "2025-07-15T19:01:32.410427Z"
    }
   },
   "cell_type": "code",
   "source": [
    "chemaxon_aws_shelf_path = \"caches/chemaxon_aws_shelf\"\n",
    "chemaxon_aws_session=requests_cache.CachedSession(\"caches/chemaxon_aws_session.sqlite\", allowable_codes=[200], allowable_methods=[\"GET\", \"POST\"])\n",
    "CHEMAXON_CNS_MPO_ENDPOINT = \"https://api.calculators.cxn.io/rest-v1/calculator/calculate/cns-mpo\"\n",
    "\n",
    "with shelve.open(chemaxon_aws_shelf_path) as s:\n",
    "    print(\"Current shelf size:\", len(s))\n",
    "\n",
    "def _ca_res_to_props(d):\n",
    "    _ps = {p[\"name\"]:p[\"value\"] for p in  d[\"properties\"]}\n",
    "\n",
    "    return {\n",
    "        \"logd\": _ps[\"logd\"],\n",
    "        \"logp\": _ps[\"logd\"],\n",
    "        \"pka_b\": _ps[\"pka\"],\n",
    "        \"source\": \"Chemaxon API\",\n",
    "    }\n",
    "\n",
    "with (shelve.open(chemaxon_aws_shelf_path) as chemaxon_shelf):  # We use a two-level cache as a defensive mechanism in case of a single backup issues. Streamlining the shelf access is not deemed a priority given the usage pattern.\n",
    "\n",
    "    for k, v in chemaxon_shelf.items():\n",
    "        _smiles_to_properties[k] = _ca_res_to_props(v)\n",
    "\n",
    "    def get_chemaxon_properties(smiles, allow_api_calls=False):\n",
    "        assert len(_smiles_to_properties) > 3400\n",
    "        if smiles not in _smiles_to_properties or pd.isna(_smiles_to_properties[smiles][\"logp\"]) or pd.isna(_smiles_to_properties[smiles][\"logd\"]):\n",
    "            if allow_api_calls:\n",
    "                print(f\"Querying Chemaxon endpoint for: {smiles}\")\n",
    "\n",
    "                res = chemaxon_aws_session.post(\n",
    "                    url=CHEMAXON_CNS_MPO_ENDPOINT,\n",
    "                    headers={\"x-api-key\": os.environ[\"AWS_MARKETPLACE_CHEMAXON_API_KEY\"]},\n",
    "                    json={\"structure\": smiles}\n",
    "                )\n",
    "                res.raise_for_status()\n",
    "                d = res.json()\n",
    "                \n",
    "                chemaxon_shelf[smiles] = d\n",
    "                _smiles_to_properties[smiles]=_ca_res_to_props(chemaxon_shelf[smiles])\n",
    "        return _smiles_to_properties[smiles]\n",
    "    \n",
    "    # NOTE: allow_api_calls needs to be enabled to generate descriptors\n",
    "    df_chemaxon_descriptors = pd.DataFrame([\n",
    "        {\"smiles\": smi} | get_chemaxon_properties(smi, allow_api_calls=False) for smi in df_cns_db_shuffled.smiles])\n",
    "\n",
    "print(f\"Calculated logP, logD and most basic pKa for {len(df_chemaxon_descriptors)} molecules: {df_chemaxon_descriptors.source.value_counts()['ChEMBL']} using ChEMBL, {df_chemaxon_descriptors.source.value_counts()['Chemaxon API']} using Chemaxon API.\")\n",
    "print(f\"Imputing {sum(pd.isna(df_chemaxon_descriptors.pka_b))} missing most basic group pKa with 0. Used here to allow data exploration as some of the algorithms cannot work on missing values.\")\n",
    "df_chemaxon_descriptors=df_chemaxon_descriptors.fillna(0)\n",
    "# df_chemaxon_descriptors.describe()\n",
    "featurisers.append((\"desc2D+chemaxon\", False))\n",
    "cns_db_shuffled_descriptors_cache[\"desc2D+chemaxon\"] = pd.concat([cns_db_shuffled_descriptors_cache[\"desc2D\"], df_chemaxon_descriptors[[\"logp\", \"logd\", \"pka_b\"]]], axis=1)"
   ],
   "id": "bb09f21ceda242e3",
   "outputs": [
    {
     "name": "stdout",
     "output_type": "stream",
     "text": [
      "Current shelf size: 602\n",
      "Calculated logP, logD and most basic pKa for 3322 molecules: 2779 using ChEMBL, 543 using Chemaxon API.\n",
      "Imputing 989 missing most basic group pKa with 0. Used here to allow data exploration as some of the algorithms cannot work on missing values.\n"
     ]
    }
   ],
   "execution_count": 12
  },
  {
   "cell_type": "code",
   "source": [
    "from typing import Tuple\n",
    "from sklearn.dummy import DummyRegressor\n",
    "from sklearn.linear_model import LinearRegression, Ridge # , Lasso, BayesianRidge, SGDRegressor, SGDClassifier\n",
    "from sklearn.base import BaseEstimator\n",
    "from sklearn.model_selection import cross_validate, StratifiedGroupKFold\n",
    "from sklearn.svm import SVC, SVR\n",
    "from sklearn.ensemble import RandomForestClassifier, AdaBoostClassifier, RandomForestRegressor, ExtraTreesRegressor, \\\n",
    "    ExtraTreesClassifier, AdaBoostRegressor\n",
    "from sklearn.tree import DecisionTreeClassifier, DecisionTreeRegressor\n",
    "from sklearn.naive_bayes import GaussianNB\n",
    "\n",
    "def get_classification_models():\n",
    "    return [\n",
    "        DummyClassifier(random_state=42),\n",
    "        LogisticRegression(random_state=42, max_iter=1000, solver=\"liblinear\"),  # Adding scaler does not change the results considerably.\n",
    "        SVC(random_state=42),\n",
    "        #SGDClassifier(random_state=42),\n",
    "        GaussianNB(),\n",
    "        DecisionTreeClassifier(random_state=42),\n",
    "        RandomForestClassifier(random_state=42),\n",
    "        ExtraTreesClassifier(random_state=42),\n",
    "        AdaBoostClassifier(random_state=42),\n",
    "        XGBClassifier(random_state=42),\n",
    "]\n",
    "\n",
    "def get_regression_models():\n",
    "    return [\n",
    "        DummyRegressor(),\n",
    "        LinearRegression(),\n",
    "        #Lasso(random_state=42),\n",
    "        Ridge(random_state=42),\n",
    "        SVR(),\n",
    "        # SGDRegressor(random_state=42),\n",
    "        # BayesianRidge(), # Dataset is imbalanced.\n",
    "        DecisionTreeRegressor(random_state=42),\n",
    "        ExtraTreesRegressor(random_state=42),\n",
    "        RandomForestRegressor(random_state=42),\n",
    "        AdaBoostRegressor(random_state=42),\n",
    "        XGBRegressor(random_state=42)\n",
    "    ]\n",
    "\n",
    "classification_metrics = [\"roc_auc\", \"f1\", \"precision\", \"recall\", \"accuracy\", \"balanced_accuracy\"]\n",
    "classification_main_metric = \"test_balanced_accuracy\"\n",
    "cns_db_classification_target = lambda x: 1 if x[\"BBB+/BBB-\"] == \"BBB+\" else 0\n",
    "regression_metrics = [\"neg_mean_squared_error\", \"r2\", \"explained_variance\"]\n",
    "regression_main_metric = \"test_r2\"\n",
    "cns_db_regression_target = lambda x: x.logBB\n",
    "groups_murcko_scaffold_group = lambda x: x.murcko_scaffold_grouped\n",
    "\n",
    "cns_db_shuffled_idx_all = [True] * len(df_cns_db_shuffled)\n",
    "cns_db_shuffled_idx_regression = list(df_cns_db_shuffled.logBB_group.apply(lambda x: pd.notna(x) and x != 'D'))\n",
    "\n",
    "def evaluate_setting(\n",
    "    data: pd.DataFrame, \n",
    "    feature_cache: Dict[str, pd.DataFrame], \n",
    "    featurisers: List[str], \n",
    "    models: List[BaseEstimator], \n",
    "    data_idx, \n",
    "    metrics, \n",
    "    target_func, \n",
    "    groups_func\n",
    ") -> pd.DataFrame:\n",
    "    \"\"\"\n",
    "    Evaluates different feature sets and algorithms from the specified lists using grouped 5-fold CV on the given datasets.\n",
    "    Returns test metrics.  \n",
    "    \"\"\"\n",
    "    results = {}\n",
    "    print(f\"Started evaluation using {sum(data_idx)} compounds\") \n",
    "    for _f in featurisers:\n",
    "        print(f\"Evaluating {_f}\")\n",
    "        results[_f] = {}\n",
    "        for _m in models:\n",
    "            _mn = _m.__class__.__name__\n",
    "            print(f\" - model: {_mn}\")\n",
    "            _y = data[data_idx].apply(axis=1, func=target_func)\n",
    "              \n",
    "            results[_f][_mn] = cross_validate(\n",
    "                _m,\n",
    "                X=feature_cache[_f][data_idx],\n",
    "                y=_y,\n",
    "                groups=data[data_idx].apply(axis=1, func=groups_func),\n",
    "                scoring=metrics,\n",
    "                cv=GroupKFold(5) if type_of_target(_y) == \"continuous\" else StratifiedGroupKFold(5, shuffle=True, random_state=42),  # This further shuffles each class's samples before splitting but doesn't provide global shuffle.\n",
    "                verbose=1,\n",
    "                return_indices=True\n",
    "            )\n",
    "    _df_res_test = pd.DataFrame(\n",
    "        {\n",
    "            \"featuriser\": _f,\n",
    "            \"model\": _m,\n",
    "            \"metric\": _met,\n",
    "            \"results\": _cvr[_met],\n",
    "            \"results_weights\": [\n",
    "                (len(_cvr[\"indices\"][\"test\"][i]) / (len(_cvr[\"indices\"][\"test\"][i]) + len(_cvr[\"indices\"][\"train\"][i])))\n",
    "                for i in range(len(_cvr[\"indices\"][\"train\"]))\n",
    "            ],\n",
    "        }\n",
    "        for _f, _v in results.items()\n",
    "        for _m, _cvr in _v.items()\n",
    "        for _met in _cvr\n",
    "        if _met.startswith(\"test\")\n",
    "    )\n",
    "    _df_res_test[\"results_w_avg\"] = _df_res_test.apply(axis=1, func=lambda x: sum(r * w for r, w in zip(x.results, x.results_weights)))\n",
    "    \n",
    "    return _df_res_test, results\n",
    "\n",
    "\n",
    "def plot_test_results_by_metric(df_evaluation_results: pd.DataFrame, metric: str, exclude_models_from_featuriser_evaluation: set, ylim:Tuple[float, float] | None = None, top_n=8):\n",
    "    assert metric in set(df_evaluation_results.metric), f\"{metric} not found in result set, available: {', '.join(set(df_evaluation_results.metric))}\"\n",
    "    assert len(df_evaluation_results.results_weights.value_counts()) == 1, \"There should be only one weight set - based on the CV split.\"\n",
    "    assert len(df_evaluation_results.groupby(\"featuriser\")[\"model\"].apply(len).value_counts()) == 1, \"All featurisers and models should be evaluated uniform number of times.\"\n",
    "    assert len(df_evaluation_results.groupby(\"model\")[\"featuriser\"].apply(len).value_counts()) == 1, \"All featurisers and models should be evaluated uniform number of times.\"\n",
    "    weights = df_evaluation_results.results_weights.value_counts().index[0]\n",
    "    \n",
    "    df_mod_eval = df_evaluation_results[(df_evaluation_results.metric == metric)]\n",
    "    df_feat_eval = df_evaluation_results[(df_evaluation_results.model.apply(lambda x: x not in exclude_models_from_featuriser_evaluation)) & (df_evaluation_results.metric == metric)]\n",
    "    \n",
    "    n_models = df_mod_eval.model.nunique()\n",
    "    n_featurisers = df_feat_eval.featuriser.nunique()\n",
    "    \n",
    "    df_model_stat = df_mod_eval.groupby(\"model\").aggregate({\n",
    "        \"results\": lambda x: list(itertools.chain(*x))\n",
    "    })\n",
    "    m_weights = weights * int(len(df_mod_eval) / n_models)\n",
    "    \n",
    "    df_model_stat[\"w_avg\"] = df_model_stat[\"results\"].apply(lambda x: sum(r*w for r, w in zip(x, m_weights))/n_featurisers)\n",
    "    #df_model_stat[\"w_median_p\"] = df_model_stat[\"results\"].apply(lambda x: median(max(r*w, 0) for r, w in zip(x, m_weights)))\n",
    "    df_model_stat[\"eq_rank\"] = get_equivalence_ranks_weighted(df_model_stat.results, m_weights)  \n",
    "    df_featuriser_stat = df_feat_eval.groupby(\"featuriser\").aggregate({\n",
    "        \"results\": lambda x: list(itertools.chain(*x))\n",
    "    })\n",
    "    f_weights = weights * int(len(df_feat_eval) / n_models)\n",
    "    df_featuriser_stat[\"w_avg\"] = df_featuriser_stat[\"results\"].apply(lambda x: sum(r*w for r, w in zip(x, f_weights))/(n_models-len(exclude_models_from_featuriser_evaluation)))\n",
    "    df_featuriser_stat[\"eq_rank\"] = get_equivalence_ranks_weighted(df_featuriser_stat.results, f_weights)\n",
    "    \n",
    "    fig, axs = plt.subplots(2, 1, figsize=(min(max(4, max(n_featurisers, n_models)*2), 12), 10), constrained_layout=True, gridspec_kw={'wspace': 0.1, 'hspace': 0.1})\n",
    "\n",
    "    model_order = list(df_model_stat.sort_values([\"eq_rank\", \"w_avg\"], ascending=[True, False]).index)\n",
    "    if top_n:\n",
    "        model_order = model_order[:top_n]\n",
    "        df_mod_eval = df_mod_eval[df_mod_eval[\"model\"].isin(model_order)]\n",
    "    _ = sns.boxplot(\n",
    "        df_mod_eval.explode(\"results\"),\n",
    "        ax=axs[0],\n",
    "        y=\"results\",\n",
    "        x=\"model\",  \n",
    "        hue=\"model\",\n",
    "        order=model_order\n",
    "    )\n",
    "    y_line_pos = axs[0].get_ylim()[0] - 0.1  # Position slightly below the bottom of the plot\n",
    "    current_rank = None\n",
    "    start_idx = 0\n",
    "\n",
    "    # Add equivalence rank lines and descriptions\n",
    "    def _print_eq_rank(ax, start_pos,  mid_pos, rank_n):\n",
    "        ax.axvline(x=start_pos-0.5, color='blue', linestyle='--', alpha=0.7, linewidth=1)\n",
    "\n",
    "        ax.text(mid_pos, 0.53, f'Eq-rank {rank_n}',\n",
    "                   ha='center', va='top', fontsize=10, fontweight='semibold',\n",
    "                   bbox=dict(boxstyle='round,pad=0.3', facecolor='lightblue', alpha=0.7))\n",
    "\n",
    "\n",
    "    current_rank = None\n",
    "    rank_start_pos = 0\n",
    "    for i, model in enumerate(model_order):\n",
    "        rank = df_model_stat.loc[model, 'eq_rank']\n",
    "        if current_rank is not None and rank != current_rank:\n",
    "            _print_eq_rank(axs[0], rank_start_pos, (rank_start_pos + i - 1) / 2, current_rank)\n",
    "            rank_start_pos = i\n",
    "        current_rank = rank\n",
    "    if current_rank:\n",
    "        _print_eq_rank(axs[0], rank_start_pos, (rank_start_pos + len(model_order) - 1) / 2, current_rank)\n",
    "\n",
    "    _ = axs[0].set_ylabel(\"balanced accuracy (test)\" if metric == \"test_balanced_accuracy\" else metric, fontsize=12, fontweight=\"normal\")\n",
    "    if ylim:\n",
    "        axs[0].set_ylim(*ylim)\n",
    "    _ = axs[0].set_xlabel(\"\")\n",
    "    axs[0].set_xticks(axs[0].get_xticks()) # This is to avoid https://stackoverflow.com/questions/63723514/userwarning-fixedformatter-should-only-be-used-together-with-fixedlocator\n",
    "    # axs[0].set_xticklabels([f\"{m.get_text()}\\nw.avg: {df_model_stat.loc[m.get_text()].w_avg:.03}\\neq-rank: {df_model_stat.loc[m.get_text()].eq_rank}\" for m in axs[0].get_xticklabels()], rotation=35, fontsize=12)\n",
    "    axs[0].set_xticklabels([f\"{m.get_text().replace(\"Classifier\", \"\").replace(\"Regressor\", \"\")}\" for m in axs[0].get_xticklabels()], rotation=0, fontsize=12)\n",
    "    # axs[0].set_title(f\"{metric.title().replace('_', ' ')} using {n_featurisers} descriptor classes, results from test set of 5-fold CV (stratified, grouped by scaffold).\")\n",
    "    axs[0].set_title(\"Algorithms\", fontsize=16, fontweight=\"semibold\", pad=12)\n",
    "\n",
    "    descriptor_order = list(df_featuriser_stat.sort_values([\"eq_rank\", \"w_avg\"], ascending=[True, False]).index)\n",
    "\n",
    "    if top_n:\n",
    "        descriptor_order = descriptor_order[:top_n]\n",
    "        df_feat_eval = df_feat_eval[df_feat_eval[\"featuriser\"].isin(descriptor_order)]\n",
    "    _ = sns.boxplot(\n",
    "        df_feat_eval.explode(\"results\"), \n",
    "        ax=axs[1],\n",
    "        y=\"results\",\n",
    "        x=\"featuriser\",\n",
    "        hue=\"featuriser\",\n",
    "        order=descriptor_order\n",
    "    )\n",
    "    axs[1].grid(False)\n",
    "\n",
    "\n",
    "    _ = axs[1].set_ylabel(\"balanced accuracy (test)\" if metric == \"test_balanced_accuracy\" else metric, fontsize=14, fontweight=\"semibold\")\n",
    "    if ylim:\n",
    "        axs[1].set_ylim(*ylim)\n",
    "    # _ = axs[1].set_title(f\"{metric.title().replace('_', ' ')} using {n_models - len(exclude_models_from_featuriser_evaluation)} models, results from test set of 5-fold CV (stratified, grouped by scaffold).\")\n",
    "    axs[1].set_title(\"Descriptor sets\", fontsize=16, fontweight=\"semibold\", pad=12)\n",
    "\n",
    "    current_rank = None\n",
    "    rank_start_pos = 0\n",
    "    for i, descriptor in enumerate(descriptor_order):\n",
    "        rank = df_featuriser_stat.loc[descriptor, 'eq_rank']\n",
    "        if current_rank is not None and rank != current_rank:\n",
    "            _print_eq_rank(axs[1], rank_start_pos, (rank_start_pos + i - 1) / 2, current_rank)\n",
    "            rank_start_pos = i\n",
    "        current_rank = rank\n",
    "    if current_rank:\n",
    "        _print_eq_rank(axs[1], rank_start_pos, (rank_start_pos + len(descriptor_order) - 1) / 2, current_rank)\n",
    "\n",
    "    _ = axs[1].set_xlabel(\"\")\n",
    "    axs[1].set_xticks(axs[1].get_xticks())\n",
    "    # _ = axs[1].set_xticklabels([f\"{f.get_text()}\\nw.avg: {df_featuriser_stat.loc[f.get_text()].w_avg:.03}\\neq-rank: {df_featuriser_stat.loc[f.get_text()].eq_rank}\" for f in axs[1].get_xticklabels()], rotation=35, fontsize=12)\n",
    "    _ = axs[1].set_xticklabels([f\"{f.get_text()}\" for f in axs[1].get_xticklabels()], rotation=0, fontsize=12)\n",
    "    axs[1].grid(False)\n",
    "\n",
    "    \n",
    "\n",
    "def get_best_models_featurisers_by_metric(evaluation_results, metric):\n",
    "    _df_mod_feat_metric = evaluation_results[evaluation_results.metric==metric].copy()\n",
    "    _df_mod_feat_metric[\"eq_rank\"] = get_equivalence_ranks_weighted(list(_df_mod_feat_metric.results), _df_mod_feat_metric.results_weights.iloc[0])\n",
    "    return _df_mod_feat_metric.sort_values(\"results_w_avg\", ascending=False)[[\"eq_rank\", \"results_w_avg\", \"featuriser\", \"model\"]]\n",
    "\n",
    "#return get_best_models_featurisers_by_metric(\"test_balanced_accuracy\")\n",
    "    "
   ],
   "metadata": {
    "collapsed": false,
    "ExecuteTime": {
     "end_time": "2025-07-16T09:09:07.834416Z",
     "start_time": "2025-07-16T09:09:07.819575Z"
    }
   },
   "id": "153dd7309210289e",
   "outputs": [],
   "execution_count": 140
  },
  {
   "cell_type": "markdown",
   "source": [
    "### Pre-split baseline - classification"
   ],
   "metadata": {
    "collapsed": false
   },
   "id": "d60ab024309c38e4"
  },
  {
   "cell_type": "code",
   "source": [
    "pre_split_results_classification, _raw_pre_split_results_classification = evaluate_setting(\n",
    "    data=df_cns_db_shuffled,\n",
    "    feature_cache=cns_db_shuffled_descriptors_cache,\n",
    "    featurisers=[f[0] for f in featurisers], \n",
    "    models=get_classification_models(),\n",
    "    data_idx=cns_db_shuffled_idx_all,\n",
    "    metrics=classification_metrics, \n",
    "    target_func=cns_db_classification_target,\n",
    "    groups_func=groups_murcko_scaffold_group\n",
    ")\n",
    "#print(\"Top performing featuriser / model combinations in the pre-split classification setting:\")\n",
    "#get_best_models_featurisers_by_metric(pre_split_results_classification, metric).head(100)"
   ],
   "metadata": {
    "collapsed": false
   },
   "id": "e569e0203391dee9",
   "outputs": [],
   "execution_count": null
  },
  {
   "metadata": {
    "ExecuteTime": {
     "end_time": "2025-07-16T09:09:11.888717Z",
     "start_time": "2025-07-16T09:09:11.342016Z"
    }
   },
   "cell_type": "code",
   "source": [
    "plot_test_results_by_metric(pre_split_results_classification, classification_main_metric, exclude_models_from_featuriser_evaluation=[\"DummyClassifier\"], ylim=[0.5, 0.85])\n",
    "\n",
    "plt.savefig(\"figures/figure_2.png\", dpi=300, bbox_inches='tight', transparent=True)\n",
    "plt.show()"
   ],
   "id": "715a406e89551a00",
   "outputs": [
    {
     "name": "stderr",
     "output_type": "stream",
     "text": [
      "/Library/Frameworks/Python.framework/Versions/3.13/lib/python3.13/site-packages/scipy/stats/_wilcoxon.py:172: RuntimeWarning: invalid value encountered in scalar divide\n",
      "  z = (r_plus - mn) / se\n",
      "/Library/Frameworks/Python.framework/Versions/3.13/lib/python3.13/site-packages/scipy/stats/_wilcoxon.py:227: RuntimeWarning: divide by zero encountered in scalar divide\n",
      "  z -= sign * 0.5 / se\n",
      "/Library/Frameworks/Python.framework/Versions/3.13/lib/python3.13/site-packages/scipy/stats/_wilcoxon.py:172: RuntimeWarning: invalid value encountered in scalar divide\n",
      "  z = (r_plus - mn) / se\n",
      "/Library/Frameworks/Python.framework/Versions/3.13/lib/python3.13/site-packages/scipy/stats/_wilcoxon.py:227: RuntimeWarning: divide by zero encountered in scalar divide\n",
      "  z -= sign * 0.5 / se\n"
     ]
    },
    {
     "data": {
      "text/plain": [
       "<Figure size 1200x1000 with 2 Axes>"
      ],
      "image/png": "[encoded data removed]"
     },
     "metadata": {},
     "output_type": "display_data"
    }
   ],
   "execution_count": 141
  },
  {
   "cell_type": "code",
   "source": [
    "print(\"Top performing featuriser / model combinations in the pre-split classification setting:\")\n",
    "get_best_models_featurisers_by_metric(pre_split_results_classification, classification_main_metric)"
   ],
   "metadata": {
    "collapsed": false,
    "ExecuteTime": {
     "end_time": "2025-07-16T08:58:46.190184Z",
     "start_time": "2025-07-16T08:58:46.114292Z"
    }
   },
   "id": "6736b5dc28d5f4e5",
   "outputs": [
    {
     "name": "stdout",
     "output_type": "stream",
     "text": [
      "Top performing featuriser / model combinations in the pre-split classification setting:\n"
     ]
    },
    {
     "name": "stderr",
     "output_type": "stream",
     "text": [
      "/Library/Frameworks/Python.framework/Versions/3.13/lib/python3.13/site-packages/scipy/stats/_wilcoxon.py:172: RuntimeWarning: invalid value encountered in scalar divide\n",
      "  z = (r_plus - mn) / se\n"
     ]
    },
    {
     "data": {
      "text/plain": [
       "     eq_rank  results_w_avg       featuriser                 model\n",
       "311        1       0.813441           desc2D  ExtraTreesClassifier\n",
       "743        1       0.811069  desc2D+chemaxon  ExtraTreesClassifier\n",
       "755        1       0.810675  desc2D+chemaxon         XGBClassifier\n",
       "323        1       0.808452           desc2D         XGBClassifier\n",
       "377        1       0.806413          mordred         XGBClassifier\n",
       "..       ...            ...              ...                   ...\n",
       "167        1       0.500000            maccs       DummyClassifier\n",
       "113        1       0.500000           avalon       DummyClassifier\n",
       "59         1       0.500000       ecfp-count       DummyClassifier\n",
       "383        1       0.500000           cats2D       DummyClassifier\n",
       "341        1       0.499769          mordred                   SVC\n",
       "\n",
       "[126 rows x 4 columns]"
      ],
      "text/html": [
       "<div>\n",
       "<style scoped>\n",
       "    .dataframe tbody tr th:only-of-type {\n",
       "        vertical-align: middle;\n",
       "    }\n",
       "\n",
       "    .dataframe tbody tr th {\n",
       "        vertical-align: top;\n",
       "    }\n",
       "\n",
       "    .dataframe thead th {\n",
       "        text-align: right;\n",
       "    }\n",
       "</style>\n",
       "<table border=\"1\" class=\"dataframe\">\n",
       "  <thead>\n",
       "    <tr style=\"text-align: right;\">\n",
       "      <th></th>\n",
       "      <th>eq_rank</th>\n",
       "      <th>results_w_avg</th>\n",
       "      <th>featuriser</th>\n",
       "      <th>model</th>\n",
       "    </tr>\n",
       "  </thead>\n",
       "  <tbody>\n",
       "    <tr>\n",
       "      <th>311</th>\n",
       "      <td>1</td>\n",
       "      <td>0.813441</td>\n",
       "      <td>desc2D</td>\n",
       "      <td>ExtraTreesClassifier</td>\n",
       "    </tr>\n",
       "    <tr>\n",
       "      <th>743</th>\n",
       "      <td>1</td>\n",
       "      <td>0.811069</td>\n",
       "      <td>desc2D+chemaxon</td>\n",
       "      <td>ExtraTreesClassifier</td>\n",
       "    </tr>\n",
       "    <tr>\n",
       "      <th>755</th>\n",
       "      <td>1</td>\n",
       "      <td>0.810675</td>\n",
       "      <td>desc2D+chemaxon</td>\n",
       "      <td>XGBClassifier</td>\n",
       "    </tr>\n",
       "    <tr>\n",
       "      <th>323</th>\n",
       "      <td>1</td>\n",
       "      <td>0.808452</td>\n",
       "      <td>desc2D</td>\n",
       "      <td>XGBClassifier</td>\n",
       "    </tr>\n",
       "    <tr>\n",
       "      <th>377</th>\n",
       "      <td>1</td>\n",
       "      <td>0.806413</td>\n",
       "      <td>mordred</td>\n",
       "      <td>XGBClassifier</td>\n",
       "    </tr>\n",
       "    <tr>\n",
       "      <th>...</th>\n",
       "      <td>...</td>\n",
       "      <td>...</td>\n",
       "      <td>...</td>\n",
       "      <td>...</td>\n",
       "    </tr>\n",
       "    <tr>\n",
       "      <th>167</th>\n",
       "      <td>1</td>\n",
       "      <td>0.500000</td>\n",
       "      <td>maccs</td>\n",
       "      <td>DummyClassifier</td>\n",
       "    </tr>\n",
       "    <tr>\n",
       "      <th>113</th>\n",
       "      <td>1</td>\n",
       "      <td>0.500000</td>\n",
       "      <td>avalon</td>\n",
       "      <td>DummyClassifier</td>\n",
       "    </tr>\n",
       "    <tr>\n",
       "      <th>59</th>\n",
       "      <td>1</td>\n",
       "      <td>0.500000</td>\n",
       "      <td>ecfp-count</td>\n",
       "      <td>DummyClassifier</td>\n",
       "    </tr>\n",
       "    <tr>\n",
       "      <th>383</th>\n",
       "      <td>1</td>\n",
       "      <td>0.500000</td>\n",
       "      <td>cats2D</td>\n",
       "      <td>DummyClassifier</td>\n",
       "    </tr>\n",
       "    <tr>\n",
       "      <th>341</th>\n",
       "      <td>1</td>\n",
       "      <td>0.499769</td>\n",
       "      <td>mordred</td>\n",
       "      <td>SVC</td>\n",
       "    </tr>\n",
       "  </tbody>\n",
       "</table>\n",
       "<p>126 rows × 4 columns</p>\n",
       "</div>"
      ]
     },
     "execution_count": 131,
     "metadata": {},
     "output_type": "execute_result"
    }
   ],
   "execution_count": 131
  },
  {
   "cell_type": "markdown",
   "source": [
    "### Pre-split baseline - regression"
   ],
   "metadata": {
    "collapsed": false
   },
   "id": "a3e3e74ab037f03"
  },
  {
   "cell_type": "code",
   "source": [
    "pre_split_results_regression, _raw_pre_split_results_regression = evaluate_setting(\n",
    "    data=df_cns_db_shuffled,\n",
    "    feature_cache=cns_db_shuffled_descriptors_cache,\n",
    "    featurisers=[f[0] for f in featurisers], \n",
    "    models=get_regression_models(),\n",
    "    data_idx=cns_db_shuffled_idx_regression,\n",
    "    metrics=regression_metrics, \n",
    "    target_func=cns_db_regression_target,\n",
    "    groups_func=groups_murcko_scaffold_group\n",
    ")\n",
    "\n",
    "#plot_test_results_by_metric(pre_split_results_regression[pre_split_results_regression.model != \"desc3d\"], metric, exclude_models_from_featuriser_evaluation=[\"DummyRegressor\"])\n",
    "plot_test_results_by_metric(pre_split_results_regression, regression_main_metric, exclude_models_from_featuriser_evaluation=[\"DummyRegressor\"], ylim=(0, 0.7))"
   ],
   "metadata": {
    "collapsed": false,
    "ExecuteTime": {
     "end_time": "2025-07-16T09:07:03.813025Z",
     "start_time": "2025-07-16T08:58:49.899448Z"
    }
   },
   "id": "b977c23f867124df",
   "outputs": [
    {
     "name": "stdout",
     "output_type": "stream",
     "text": [
      "Started evaluation using 878 compounds\n",
      "Evaluating ecfp\n",
      " - model: DummyRegressor\n",
      " - model: LinearRegression\n",
      " - model: Ridge\n",
      " - model: SVR\n",
      " - model: DecisionTreeRegressor\n",
      " - model: ExtraTreesRegressor\n",
      " - model: RandomForestRegressor\n",
      " - model: AdaBoostRegressor\n",
      " - model: XGBRegressor\n",
      "Evaluating ecfp-count\n",
      " - model: DummyRegressor\n",
      " - model: LinearRegression\n",
      " - model: Ridge\n",
      " - model: SVR\n",
      " - model: DecisionTreeRegressor\n",
      " - model: ExtraTreesRegressor\n",
      " - model: RandomForestRegressor\n",
      " - model: AdaBoostRegressor\n",
      " - model: XGBRegressor\n",
      "Evaluating avalon\n",
      " - model: DummyRegressor\n",
      " - model: LinearRegression\n",
      " - model: Ridge\n",
      " - model: SVR\n",
      " - model: DecisionTreeRegressor\n",
      " - model: ExtraTreesRegressor\n",
      " - model: RandomForestRegressor\n",
      " - model: AdaBoostRegressor\n",
      " - model: XGBRegressor\n",
      "Evaluating maccs\n",
      " - model: DummyRegressor\n",
      " - model: LinearRegression\n",
      " - model: Ridge\n",
      " - model: SVR\n",
      " - model: DecisionTreeRegressor\n",
      " - model: ExtraTreesRegressor\n",
      " - model: RandomForestRegressor\n",
      " - model: AdaBoostRegressor\n",
      " - model: XGBRegressor\n",
      "Evaluating desc3D\n",
      " - model: DummyRegressor\n",
      " - model: LinearRegression\n",
      " - model: Ridge\n",
      " - model: SVR\n",
      " - model: DecisionTreeRegressor\n",
      " - model: ExtraTreesRegressor\n",
      " - model: RandomForestRegressor\n",
      " - model: AdaBoostRegressor\n",
      " - model: XGBRegressor\n",
      "Evaluating desc2D\n",
      " - model: DummyRegressor\n",
      " - model: LinearRegression\n",
      " - model: Ridge\n",
      " - model: SVR\n",
      " - model: DecisionTreeRegressor\n",
      " - model: ExtraTreesRegressor\n",
      " - model: RandomForestRegressor\n",
      " - model: AdaBoostRegressor\n",
      " - model: XGBRegressor\n",
      "Evaluating mordred\n",
      " - model: DummyRegressor\n",
      " - model: LinearRegression\n",
      " - model: Ridge\n",
      " - model: SVR\n",
      " - model: DecisionTreeRegressor\n",
      " - model: ExtraTreesRegressor\n",
      " - model: RandomForestRegressor\n",
      " - model: AdaBoostRegressor\n",
      " - model: XGBRegressor\n",
      "Evaluating cats2D\n",
      " - model: DummyRegressor\n",
      " - model: LinearRegression\n",
      " - model: Ridge\n",
      " - model: SVR\n",
      " - model: DecisionTreeRegressor\n",
      " - model: ExtraTreesRegressor\n",
      " - model: RandomForestRegressor\n",
      " - model: AdaBoostRegressor\n",
      " - model: XGBRegressor\n",
      "Evaluating cats3D\n",
      " - model: DummyRegressor\n",
      " - model: LinearRegression\n",
      " - model: Ridge\n",
      " - model: SVR\n",
      " - model: DecisionTreeRegressor\n",
      " - model: ExtraTreesRegressor\n",
      " - model: RandomForestRegressor\n",
      " - model: AdaBoostRegressor\n",
      " - model: XGBRegressor\n",
      "Evaluating pharm2D\n",
      " - model: DummyRegressor\n",
      " - model: LinearRegression\n",
      " - model: Ridge\n",
      " - model: SVR\n",
      " - model: DecisionTreeRegressor\n",
      " - model: ExtraTreesRegressor\n",
      " - model: RandomForestRegressor\n",
      " - model: AdaBoostRegressor\n",
      " - model: XGBRegressor\n",
      "Evaluating pharm3D\n",
      " - model: DummyRegressor\n",
      " - model: LinearRegression\n",
      " - model: Ridge\n",
      " - model: SVR\n",
      " - model: DecisionTreeRegressor\n",
      " - model: ExtraTreesRegressor\n",
      " - model: RandomForestRegressor\n",
      " - model: AdaBoostRegressor\n",
      " - model: XGBRegressor\n",
      "Evaluating skeys\n",
      " - model: DummyRegressor\n",
      " - model: LinearRegression\n",
      " - model: Ridge\n",
      " - model: SVR\n",
      " - model: DecisionTreeRegressor\n",
      " - model: ExtraTreesRegressor\n",
      " - model: RandomForestRegressor\n",
      " - model: AdaBoostRegressor\n",
      " - model: XGBRegressor\n",
      "Evaluating electroshape\n",
      " - model: DummyRegressor\n",
      " - model: LinearRegression\n",
      " - model: Ridge\n",
      " - model: SVR\n",
      " - model: DecisionTreeRegressor\n",
      " - model: ExtraTreesRegressor\n",
      " - model: RandomForestRegressor\n",
      " - model: AdaBoostRegressor\n",
      " - model: XGBRegressor\n",
      "Evaluating desc2D+chemaxon\n",
      " - model: DummyRegressor\n",
      " - model: LinearRegression\n",
      " - model: Ridge\n",
      " - model: SVR\n",
      " - model: DecisionTreeRegressor\n",
      " - model: ExtraTreesRegressor\n",
      " - model: RandomForestRegressor\n",
      " - model: AdaBoostRegressor\n",
      " - model: XGBRegressor\n"
     ]
    },
    {
     "name": "stderr",
     "output_type": "stream",
     "text": [
      "/Library/Frameworks/Python.framework/Versions/3.13/lib/python3.13/site-packages/scipy/stats/_wilcoxon.py:172: RuntimeWarning: invalid value encountered in scalar divide\n",
      "  z = (r_plus - mn) / se\n",
      "/Library/Frameworks/Python.framework/Versions/3.13/lib/python3.13/site-packages/scipy/stats/_wilcoxon.py:227: RuntimeWarning: divide by zero encountered in scalar divide\n",
      "  z -= sign * 0.5 / se\n",
      "/Library/Frameworks/Python.framework/Versions/3.13/lib/python3.13/site-packages/scipy/stats/_wilcoxon.py:172: RuntimeWarning: invalid value encountered in scalar divide\n",
      "  z = (r_plus - mn) / se\n",
      "/Library/Frameworks/Python.framework/Versions/3.13/lib/python3.13/site-packages/scipy/stats/_wilcoxon.py:227: RuntimeWarning: divide by zero encountered in scalar divide\n",
      "  z -= sign * 0.5 / se\n"
     ]
    },
    {
     "data": {
      "text/plain": [
       "<Figure size 1200x1000 with 2 Axes>"
      ],
      "image/png": "[encoded data removed]"
     },
     "metadata": {},
     "output_type": "display_data"
    }
   ],
   "execution_count": 132
  },
  {
   "cell_type": "code",
   "source": [
    "print(\"Top performing featuriser / model combinations in the pre-split regression setting:\") \n",
    "get_best_models_featurisers_by_metric(pre_split_results_regression, regression_main_metric)"
   ],
   "metadata": {
    "collapsed": false,
    "ExecuteTime": {
     "end_time": "2025-07-16T09:07:04.031623Z",
     "start_time": "2025-07-16T09:07:03.961182Z"
    }
   },
   "id": "1ec1f27d89a725c1",
   "outputs": [
    {
     "name": "stdout",
     "output_type": "stream",
     "text": [
      "Top performing featuriser / model combinations in the pre-split regression setting:\n"
     ]
    },
    {
     "name": "stderr",
     "output_type": "stream",
     "text": [
      "/Library/Frameworks/Python.framework/Versions/3.13/lib/python3.13/site-packages/scipy/stats/_wilcoxon.py:172: RuntimeWarning: invalid value encountered in scalar divide\n",
      "  z = (r_plus - mn) / se\n"
     ]
    },
    {
     "data": {
      "text/plain": [
       "     eq_rank  results_w_avg       featuriser                  model\n",
       "178        1   4.889418e-01          mordred    ExtraTreesRegressor\n",
       "367        1   4.733419e-01  desc2D+chemaxon    ExtraTreesRegressor\n",
       "151        1   4.702667e-01           desc2D    ExtraTreesRegressor\n",
       "370        1   4.685038e-01  desc2D+chemaxon  RandomForestRegressor\n",
       "181        1   4.674471e-01          mordred  RandomForestRegressor\n",
       "..       ...            ...              ...                    ...\n",
       "58         1  -4.117158e+00           avalon       LinearRegression\n",
       "169        1  -5.400916e+01          mordred                  Ridge\n",
       "166        1  -7.271151e+09          mordred       LinearRegression\n",
       "112        1  -1.487953e+11           desc3D       LinearRegression\n",
       "115        1  -2.326496e+29           desc3D                  Ridge\n",
       "\n",
       "[126 rows x 4 columns]"
      ],
      "text/html": [
       "<div>\n",
       "<style scoped>\n",
       "    .dataframe tbody tr th:only-of-type {\n",
       "        vertical-align: middle;\n",
       "    }\n",
       "\n",
       "    .dataframe tbody tr th {\n",
       "        vertical-align: top;\n",
       "    }\n",
       "\n",
       "    .dataframe thead th {\n",
       "        text-align: right;\n",
       "    }\n",
       "</style>\n",
       "<table border=\"1\" class=\"dataframe\">\n",
       "  <thead>\n",
       "    <tr style=\"text-align: right;\">\n",
       "      <th></th>\n",
       "      <th>eq_rank</th>\n",
       "      <th>results_w_avg</th>\n",
       "      <th>featuriser</th>\n",
       "      <th>model</th>\n",
       "    </tr>\n",
       "  </thead>\n",
       "  <tbody>\n",
       "    <tr>\n",
       "      <th>178</th>\n",
       "      <td>1</td>\n",
       "      <td>4.889418e-01</td>\n",
       "      <td>mordred</td>\n",
       "      <td>ExtraTreesRegressor</td>\n",
       "    </tr>\n",
       "    <tr>\n",
       "      <th>367</th>\n",
       "      <td>1</td>\n",
       "      <td>4.733419e-01</td>\n",
       "      <td>desc2D+chemaxon</td>\n",
       "      <td>ExtraTreesRegressor</td>\n",
       "    </tr>\n",
       "    <tr>\n",
       "      <th>151</th>\n",
       "      <td>1</td>\n",
       "      <td>4.702667e-01</td>\n",
       "      <td>desc2D</td>\n",
       "      <td>ExtraTreesRegressor</td>\n",
       "    </tr>\n",
       "    <tr>\n",
       "      <th>370</th>\n",
       "      <td>1</td>\n",
       "      <td>4.685038e-01</td>\n",
       "      <td>desc2D+chemaxon</td>\n",
       "      <td>RandomForestRegressor</td>\n",
       "    </tr>\n",
       "    <tr>\n",
       "      <th>181</th>\n",
       "      <td>1</td>\n",
       "      <td>4.674471e-01</td>\n",
       "      <td>mordred</td>\n",
       "      <td>RandomForestRegressor</td>\n",
       "    </tr>\n",
       "    <tr>\n",
       "      <th>...</th>\n",
       "      <td>...</td>\n",
       "      <td>...</td>\n",
       "      <td>...</td>\n",
       "      <td>...</td>\n",
       "    </tr>\n",
       "    <tr>\n",
       "      <th>58</th>\n",
       "      <td>1</td>\n",
       "      <td>-4.117158e+00</td>\n",
       "      <td>avalon</td>\n",
       "      <td>LinearRegression</td>\n",
       "    </tr>\n",
       "    <tr>\n",
       "      <th>169</th>\n",
       "      <td>1</td>\n",
       "      <td>-5.400916e+01</td>\n",
       "      <td>mordred</td>\n",
       "      <td>Ridge</td>\n",
       "    </tr>\n",
       "    <tr>\n",
       "      <th>166</th>\n",
       "      <td>1</td>\n",
       "      <td>-7.271151e+09</td>\n",
       "      <td>mordred</td>\n",
       "      <td>LinearRegression</td>\n",
       "    </tr>\n",
       "    <tr>\n",
       "      <th>112</th>\n",
       "      <td>1</td>\n",
       "      <td>-1.487953e+11</td>\n",
       "      <td>desc3D</td>\n",
       "      <td>LinearRegression</td>\n",
       "    </tr>\n",
       "    <tr>\n",
       "      <th>115</th>\n",
       "      <td>1</td>\n",
       "      <td>-2.326496e+29</td>\n",
       "      <td>desc3D</td>\n",
       "      <td>Ridge</td>\n",
       "    </tr>\n",
       "  </tbody>\n",
       "</table>\n",
       "<p>126 rows × 4 columns</p>\n",
       "</div>"
      ]
     },
     "execution_count": 133,
     "metadata": {},
     "output_type": "execute_result"
    }
   ],
   "execution_count": 133
  },
  {
   "cell_type": "markdown",
   "source": [
    "## Training / Test split\n",
    "We split using Twinning algorithm https://doi.org/10.1002/sam.11574. \n",
    "We considered 2 strategies to limit the structural information leakage form the test to the training set (i.e. maintain scaffold split): \n",
    " - Perform Twinning with a smaller partitioning ratio (i.e. r=10 in place of r=5 given the scaffold / record ratio of ~1/2) and subsequently move all examples from the training set that share the scaffold with any molecules in the test set to the test set. \n",
    " - Aggregate scaffold values utilising means or medians. This is feasible since the descriptors include since all the descriptors are continuous and non-empty. Perform the split of aggregated scaffolds. \n",
    " "
   ],
   "metadata": {
    "collapsed": false
   },
   "id": "b0a6cb6c66aa1232"
  },
  {
   "cell_type": "code",
   "source": [
    "featurisers_for_tt_split = [\n",
    "    \"desc2D+chemaxon\", # classification eq-rank 1 / reg eq-rank 1  \n",
    "    \"maccs\",           # classification eq-rank 1 \n",
    "    \"ecfp-count\",      # classification eq-rank 1\n",
    "    \"skeys\",           # regression eq-rank 1 /t classification eq-rank 2\n",
    "    \"cats3D\",          # regression eq-rank 2 / classification eq-rank 2\n",
    "    \"cats2D\",          # classification eq-rank 2 - included to complement with cats3D\n",
    "] \n",
    "df_desc_for_split = pd.concat([cns_db_shuffled_descriptors_cache[f].add_prefix(f\"{f}_\") for f in featurisers_for_tt_split], axis=1).join(df_cns_db_shuffled[\"murcko_scaffold_grouped\"])\n"
   ],
   "metadata": {
    "collapsed": false,
    "ExecuteTime": {
     "end_time": "2025-06-11T08:07:03.552322Z",
     "start_time": "2024-08-25T08:34:47.471386Z"
    }
   },
   "id": "f6e42cd2345accf",
   "outputs": [],
   "execution_count": 13
  },
  {
   "cell_type": "code",
   "source": [
    "\n",
    "\n",
    "_classification_total =  len(df_cns_db_shuffled)\n",
    "_regression_total = sum(cns_db_shuffled_idx_regression)\n",
    "def analyse_test_scaffolds(test_scaffolds, name, visualise=False):\n",
    "    _idx_test = list(df_cns_db_shuffled.murcko_scaffold_grouped.apply(lambda x: x in test_scaffolds))\n",
    "    _idx_train = list(not i for i in _idx_test)\n",
    "    _idx_test_reg = list(df_cns_db_shuffled.apply(axis=1, func=lambda x: x.murcko_scaffold_grouped in test_scaffolds and (pd.notna(x.logBB_group) and x.logBB_group != \"D\")))\n",
    "    _n_classification = sum(_idx_test)\n",
    "    _positives_ratio = round((sum(df_cns_db_shuffled[_idx_test][\"BBB+/BBB-\"] == \"BBB+\") / sum(_idx_test)) / (sum(df_cns_db_shuffled[_idx_train][\"BBB+/BBB-\"] == \"BBB+\") / sum(_idx_train)), 3)\n",
    "    _n_regression = sum(_idx_test_reg)\n",
    "    _pc_classification = _n_classification / _classification_total\n",
    "    _pc_regression = _n_regression / _regression_total\n",
    "    _ks_logBB_stat, _ks_logBB_pval = ks_2samp(df_cns_db_shuffled[_idx_test].logBB, df_cns_db_shuffled[_idx_train].logBB)\n",
    "    _ks_logBB_stat = round(_ks_logBB_stat, 3)\n",
    "    _ks_logBB_pval = round(_ks_logBB_pval, 3)\n",
    "    \n",
    "    if visualise:\n",
    "        print(f\"Test set grouped Murcko scaffold using {name} :\")\n",
    "        print(f\" - classification {_n_classification} / {_classification_total} ({_n_classification / _classification_total:.02%})\")\n",
    "        print(f\"     positives ratio (vs training):\", _positives_ratio)\n",
    "        print(f\" - regression     {_n_regression} / {_regression_total} ({_n_regression / _regression_total:.02%})\")\n",
    "        print(f\"     logBB KS stat (vs training): {_ks_logBB_stat} pval: {_ks_logBB_pval}\")\n",
    "         \n",
    "        _df = df_cns_db_shuffled[[\"logBB\", \"murcko_scaffold_grouped\"]].copy()\n",
    "        _df[\"Set\"] = _df.murcko_scaffold_grouped.apply(lambda x: \"Test\" if x in test_scaffolds else \"Training\")\n",
    "        sns.ecdfplot(data=_df, x='logBB', hue=\"Set\", stat='proportion')\n",
    "    \n",
    "    tsne = TSNE(n_components=2, random_state=42)\n",
    "    tsne_results = tsne.fit_transform(df_desc_for_split.drop(columns=[\"murcko_scaffold_grouped\"]))\n",
    "    \n",
    "        \n",
    "    _train = tsne_results[~df_cns_db_shuffled.murcko_scaffold_grouped.apply(lambda x: x in test_scaffolds)]\n",
    "    _test = tsne_results[df_cns_db_shuffled.murcko_scaffold_grouped.apply(lambda x: x in test_scaffolds)]\n",
    "    wass_dist_dim1 = round(wasserstein_distance(_train[:, 0], _test[:, 0]), 3)\n",
    "    wass_dist_dim2 = round(wasserstein_distance(_train[:, 1], _test[:, 1]), 3)\n",
    "    if visualise:\n",
    "        print(f\"Wasserstein Distance (t-SNE Dim 1): {wass_dist_dim1}\")\n",
    "        print(f\"Wasserstein Distance (t-SNE Dim 2): {wass_dist_dim2}\")\n",
    "        \n",
    "        _df = pd.DataFrame({\n",
    "            't-SNE 1': tsne_results[:, 0],\n",
    "            't-SNE 2': tsne_results[:, 1],\n",
    "            'Label': df_cns_db_shuffled.murcko_scaffold_grouped.apply(lambda x: x in test_scaffolds),\n",
    "            'SMILES': list(df_cns_db.smiles),\n",
    "            'names': list(df_cns_db.names),\n",
    "        })\n",
    "        \n",
    "        fig = px.scatter(\n",
    "            _df, x='t-SNE 1', y='t-SNE 2', color='Label', hover_data=['names'], \n",
    "            size_max=2, opacity=0.5\n",
    "        )\n",
    "        fig.update_layout(\n",
    "            title='Interactive t-SNE Projection of Molecular Descriptors',\n",
    "            xaxis_title='t-SNE 1',\n",
    "            yaxis_title='t-SNE 2',\n",
    "            width=1000,  # Adjust the figure width\n",
    "            height=800,  # Adjust the figure height\n",
    "            template=\"plotly_dark\"  # Use dark theme\n",
    "        )\n",
    "        fig.show()\n",
    "    return {\n",
    "        \"name\": name,\n",
    "        \"n_classification\": _n_classification,\n",
    "        \"positives_ratio\": _positives_ratio,\n",
    "        \"n_regression\": _n_regression,\n",
    "        \"ks_logBB_stat\": _ks_logBB_stat,\n",
    "        \"ks_logBB_pval\": _ks_logBB_pval,\n",
    "        \"wasserstein_distance_tsne_dim_1\": wass_dist_dim1,\n",
    "        \"wasserstein_distance_tsne_dim_2\": wass_dist_dim2\n",
    "    }\n",
    "\n",
    "# Random strategy     \n",
    "#analyse_test_scaffolds(list(df_desc_for_split.murcko_scaffold_grouped.sample(230)), \"randomisation\", visualise=True)\n",
    "\n",
    "# Molecule properties for twinning - extend to scaffold\n",
    "#_by_mol = list(df_desc_for_split.iloc[twinning.twin(df_desc_for_split.drop(columns=[\"murcko_scaffold_grouped\"]).to_numpy(), r=14, u1=5)].murcko_scaffold_grouped)\n",
    "#analyse_test_scaffolds(_by_mol, \"by molecule properties\", visualise=True)\n",
    "\n",
    "# Median\n",
    "# g_scaffold_desc_for_split_median = df_desc_for_split.groupby(\"murcko_scaffold_grouped\").median()\n",
    "# test_scaffolds_twinning_scaffold_median = set(g_scaffold_desc_for_split_median.index[twinning.twin(g_scaffold_desc_for_split_median.to_numpy(), r=5, u1=48)])\n",
    "#analyse_test_scaffolds(test_scaffolds_twinning_scaffold_median, name=\"scaffold medians\", visualise=True)\n",
    "\n",
    "g_scaffold_desc_for_split_mean = df_desc_for_split.groupby(\"murcko_scaffold_grouped\").mean()\n",
    "# u1 was set empirically based on the proportion of the molecule records in the regression and classification sets, positive cases ration between training and testing, Wasserstein (Earth mover) distance across TSNE dim 1 and dim 2 and Kolmogorov–Smirnov test for logBB distribution.\n",
    "test_scaffolds_twinning_scaffold_mean = set(g_scaffold_desc_for_split_mean.index[twinning.twin(g_scaffold_desc_for_split_mean.to_numpy(), r=5, u1=2)])  # alternative is u1=36 ui=43 u1=23, u1=4\n",
    "analyse_test_scaffolds(test_scaffolds_twinning_scaffold_mean, name=\"scaffold means\", visualise=True)\n",
    "\n"
   ],
   "metadata": {
    "collapsed": false,
    "ExecuteTime": {
     "end_time": "2025-06-11T08:07:03.552812Z",
     "start_time": "2024-08-25T16:50:12.799119Z"
    }
   },
   "id": "cbe3f6709a63c2c0",
   "outputs": [
    {
     "name": "stdout",
     "output_type": "stream",
     "text": [
      "Test set grouped Murcko scaffold using scaffold means :\n",
      " - classification 645 / 3322 (19.42%)\n",
      "     positives ratio (vs training): 1.022\n",
      " - regression     198 / 878 (22.55%)\n",
      "     logBB KS stat (vs training): 0.064 pval: 0.027\n",
      "Wasserstein Distance (t-SNE Dim 1): 3.34\n",
      "Wasserstein Distance (t-SNE Dim 2): 0.955\n"
     ]
    },
    {
     "data": {
      "application/vnd.plotly.v1+json": {
       "data": [
        {
         "customdata": [
          [
           "Argon"
          ],
          [
           "Brofoxine"
          ],
          [
           "Fenmetozole"
          ],
          [
           "Chlorthenoxazine"
          ],
          [
           "Edaravone"
          ],
          [
           "Paraxazone"
          ],
          [
           "Caroxazone"
          ],
          [
           "Guanidinothiazol Analogue 17 Ac1Lbibi -- Pubmed|Benzene-1,2-Diol, 4-(2-Guanidinothiazol-4-Yl)-"
          ],
          [
           "Skb19|Bbcpd15|2507-81-5|N-(4-Phenylthiazol-2-Yl)-Guanidine|B-052|16|10|1-(4-Phenyl-1,3-Thiazol-2-Yl)Guanidine"
          ],
          [
           "Brallobarbital"
          ],
          [
           "210821-63-9|Chebi: 568657|Org12962|B-103, Org12962|Org-12962|Org12692|1-(6-Chloro-5-(Trifluoromethyl)Pyridin-2-Yl)Piperazine"
          ],
          [
           "Clofarabine"
          ],
          [
           "Clofibric Acid"
          ],
          [
           "Mecoprop"
          ],
          [
           "Propyliodone"
          ],
          [
           "Skb20|Bbcpd57|72801-60-6|Chebi: 338063|B-053|17|11|1-(4-(3-Aminophenyl)Thiazol-2-Yl)Guanidine"
          ],
          [
           "Stepronin"
          ],
          [
           "4201-22-3|Tz-13|Tolonidine"
          ],
          [
           "Quinethazone"
          ],
          [
           "Cladribine"
          ],
          [
           "Beclamide"
          ],
          [
           "Baclofen"
          ],
          [
           "Chlorphenesin-Carbamate|Chlorphenesin Carbamate"
          ],
          [
           "1-Methyl-5-(3-Pyridinyl)-2-Pyrrolidinone"
          ],
          [
           "Cotinine|486-56-6"
          ],
          [
           "Allobarbital"
          ],
          [
           "1-[5-(Hydroxymethyl)-2,5-Dihydrofuran-2-Yl]-5-Methylpyrimidine-2,4-Dione"
          ],
          [
           "Stavudine"
          ],
          [
           "Ritipenem"
          ],
          [
           "Carbazochrome"
          ],
          [
           "Didanosine|69655-05-6"
          ],
          [
           "9-[(2S,5R)-5-(Hydroxymethyl)Oxolan-2-Yl]-3H-Purin-6-One"
          ],
          [
           "Tazobactam"
          ],
          [
           "1-(3-Chlorophenyl)Piperazine"
          ],
          [
           "Chlorpropamide"
          ],
          [
           "Alovudine Ok|3'-Fluorothymidine"
          ],
          [
           "Clevudine|2'-Fluorothymidine"
          ],
          [
           "Debrisoquin|Debrisoquine"
          ],
          [
           "Nifurtimox|(Z)-N-(3-Methyl-1,1-Dioxo-1,4-Thiazinan-4-Yl)-1-(5-Nitrofuran-2-Yl)Methanimine"
          ],
          [
           "1-[2,3-Dideoxy-3-(Triaza-1,2-Dien-2-Ium-1-Yl)Pentofuranosyl]-4-Hydroxy-5-Methylpyrimidin-2(1H)-One"
          ],
          [
           "1-[(2R,4S,5S)-4-Azido-5-(Hydroxymethyl)Oxolan-2-Yl]-5-Methyl-Pyrimidine-2,4-Dione"
          ],
          [
           "Zidovudine|30516-87-1"
          ],
          [
           "1-[(2S,4S,5R)-4-Azido-5-(Hydroxymethyl)Oxolan-2-Yl]-5-Methylpyrimidine-2,4-Dione"
          ],
          [
           "Phenprobamate"
          ],
          [
           "Buramate"
          ],
          [
           "T-Butylbenzene|Tert-Butylbenzene"
          ],
          [
           "Nicotine|54-11-5|Nicotrol"
          ],
          [
           "Nikethamide"
          ],
          [
           "Alpha-(4-Pyridyl-1-Oxide)-N-Tert-Butylnitrone|Cid 92375"
          ],
          [
           "Alpha-(4-Pyridyl-1-Oxide)-N-Tert-Butylnitrone"
          ],
          [
           "Aprobarbital"
          ],
          [
           "Proxibarbal"
          ],
          [
           "Proxyphylline"
          ],
          [
           "Dyphylline"
          ],
          [
           null
          ],
          [
           "Adenosine Monophosphate|Adenosine Phosphate"
          ],
          [
           "Phentermine"
          ],
          [
           "Pervertin|Dl-Methamphetamine"
          ],
          [
           "Methamphetamine|Metamphetamine"
          ],
          [
           "Bethanidine Sulfate|Bethanidine"
          ],
          [
           "Modaline"
          ],
          [
           "Sabcomeline|(3E,3R)-N-Methoxy-1-Azabicyclo[2.2.2]Octane-3-Carboximidoyl Cyanide"
          ],
          [
           "Guanoxyfen"
          ],
          [
           "2',3'-Dideoxy-3'-Hydroxymethylcytidine|4-Amino-1-[4,5-Bis(Hydroxymethyl)Oxolan-2-Yl]Pyrimidin-2-One"
          ],
          [
           "132235-73-5|2',3'-Dideoxy-3'-Hydroxymethyl Cytidine"
          ],
          [
           "Benserazide"
          ],
          [
           "Talipexole"
          ],
          [
           "Trapidil"
          ],
          [
           "Phenformin"
          ],
          [
           "Edrophonium"
          ],
          [
           "Etilefrine"
          ],
          [
           "Hexapropymate"
          ],
          [
           "Cp24|4(1H)-Pyridinone, 1-Butyl-3-Hydroxy-2-Methyl-"
          ],
          [
           "Ethypicone"
          ],
          [
           "Pipobroman"
          ],
          [
           "Rilmenidine"
          ],
          [
           "Biotin"
          ],
          [
           "Dorzolamide"
          ],
          [
           "Edetate Calcium Disodium|Cid 9842726"
          ],
          [
           "Edetic Acid"
          ],
          [
           "Adenosine Triphosphate|Adenosine-5'-Triphosphate"
          ],
          [
           "51481-61-9|Cimetidine|1"
          ],
          [
           "Tiotidine|69014-14-8|5-6|10"
          ],
          [
           "Camphor"
          ],
          [
           "Compound-9|3-[[1-(Aminomethyl)Cyclohexyl]Methyl]-1,2,4-Oxadiazol-5(2H)-One"
          ],
          [
           "Glutathione"
          ],
          [
           "Pramipexole"
          ],
          [
           "Methyprylon"
          ],
          [
           "Cevimeline|2-Methylspiro[1,3-Oxathiolane-5,3'-1-Azabicyclo[2.2.2]Octane]"
          ],
          [
           "Pentosan Polysulfate|[2-Hydroxy-5-(5-Hydroxy-3,4-Disulfooxyoxan-2-Yl)Oxy-3-Sulfooxyoxan-4-Yl] Hydrogen Sulfate"
          ],
          [
           "Guanadrel"
          ],
          [
           "Hopantenic-Acid|Hopantenic Acid"
          ],
          [
           "T-Butylcyclohexane|Tert-Butylcyclohexane"
          ],
          [
           "1-Decene"
          ],
          [
           "Menthol"
          ],
          [
           "Cimepanol"
          ],
          [
           "Promoxolane"
          ],
          [
           "101-40-6|Propylhexedrine"
          ],
          [
           "Propylhexedrine, (+)-"
          ],
          [
           "Miglustat"
          ],
          [
           "Voglibose"
          ],
          [
           "Decane"
          ],
          [
           "2-Methylnonane|2-Methyl Nonane"
          ],
          [
           "Guanethidine|Guanethidine Sulfate"
          ],
          [
           "Ethambutol"
          ],
          [
           "Spermine"
          ],
          [
           "Chromocarb"
          ],
          [
           "Thiabendazole"
          ],
          [
           "Kynurenic Acid"
          ],
          [
           "Rufinamide"
          ],
          [
           "Pemirolast"
          ],
          [
           "Hymecromone"
          ],
          [
           "Amrinone"
          ],
          [
           "Carfimate"
          ],
          [
           "Metoprine"
          ],
          [
           "Amphenidone"
          ],
          [
           "Uk-240,455|Unii-9Qu5W0O2Dx"
          ],
          [
           "Fenobam|3-(3-Chlorophenyl)-1-(1-Methyl-4-Oxo-5H-Imidazol-2-Yl)Urea"
          ],
          [
           "Flutamide"
          ],
          [
           "4-Fluoro-1,5-Dimethyl-2-Phenyl-1,2-Dihydro-3H-Pyrazol-3-One"
          ],
          [
           "Amezinium"
          ],
          [
           "Phenazopyridine"
          ],
          [
           "Phensuximide"
          ],
          [
           "Cinromide"
          ],
          [
           "Lofexidine"
          ],
          [
           "5-Chloro-N-(2,2-Difluoroethyl)-4-Methyl-1,4-Dihydroquinazolin-2-Amine"
          ],
          [
           "Iopanoic Acid"
          ],
          [
           "Antipyrine Ok|Phenazone|Antipyrine"
          ],
          [
           "Fenozolone"
          ],
          [
           "Ethotoin"
          ],
          [
           "L-Tryptophan|Tryptophan"
          ],
          [
           "Zileuton"
          ],
          [
           "61887-92-1|Y-G19|Zinc 04226975|Yg19|5-62|2-(4-Phenyl-1,3-Thiazol-2-Yl)Ethanamine"
          ],
          [
           "Sulfamerazine"
          ],
          [
           "Sulfametopyrazine|Sulfalene"
          ],
          [
           "Sulfameter"
          ],
          [
           null
          ],
          [
           "207390-15-6|Bromocytisine|3-Br-Cytisine"
          ],
          [
           "Brivudine"
          ],
          [
           "Polythiazide"
          ],
          [
           "Pargyline"
          ],
          [
           "Deximafen|Imafen"
          ],
          [
           "Sulfamoxole"
          ],
          [
           "Azidamfenicol"
          ],
          [
           "Tifemoxone"
          ],
          [
           "Toloxatone"
          ],
          [
           "Moxadolen"
          ],
          [
           "Mephenoxalone"
          ],
          [
           "Fenaclon"
          ],
          [
           "Citizin"
          ],
          [
           "485-35-8|Cytisine"
          ],
          [
           "Ethyl-2-Phenylmalonamide|N'-Ethyl-2-Phenylpropanediamide"
          ],
          [
           "Pheneturide"
          ],
          [
           "Felbamate"
          ],
          [
           "Pyrantel"
          ],
          [
           "Bromamid|Bromamide"
          ],
          [
           "Iproclozide"
          ],
          [
           "Metaglycodol"
          ],
          [
           "Sodiumamidotrizoate|3,5-Diacetamido-2,4,6-Triiodocyclohexane-1-Carboxylic Acid"
          ],
          [
           "Alfetamine|Aletamine"
          ],
          [
           "Cypenamine"
          ],
          [
           "4794-83-6|Tz-14|N-(2,4-Dimethylphenyl)-4,5-Dihydro-1H-Imidazol-2-Amine"
          ],
          [
           "Nelarabine"
          ],
          [
           "Phenyl-N-Tert-Butylnitrone|N-Tert-Butyl-Alpha-Phenylnitrone"
          ],
          [
           "Metamfepramone"
          ],
          [
           "Phenmetrazine"
          ],
          [
           "Butyl 4-Aminobenzoate|Butamben"
          ],
          [
           "Methoxyphedrine"
          ],
          [
           "Oxyfenamate|Hydroxyphenamate"
          ],
          [
           "Methocarbamol"
          ],
          [
           "Butizide|Buthiazide"
          ],
          [
           "Proguanil|(1E)-1-[Amino-(4-Chloroanilino)Methylidene]-2-Propan-2-Ylguanidine"
          ],
          [
           "Tocainide|Tocainide Hydrochloride"
          ],
          [
           "Pilocarpine"
          ],
          [
           "Carbenzide"
          ],
          [
           "Aloracetam"
          ],
          [
           "Butalbital"
          ],
          [
           "Talbutal"
          ],
          [
           "Vinylbital"
          ],
          [
           "1-Butyl-3-Phenylthiourea"
          ],
          [
           "Lidamidine Hydrochloride|Lidamidine"
          ],
          [
           "Dexrazoxane"
          ],
          [
           "Dimethamphetamine|Dimetamfetamine"
          ],
          [
           "Carbubarb"
          ],
          [
           "Dimethazan"
          ],
          [
           "Mexiletine"
          ],
          [
           "Cp25|Cp29|4(1H)-Pyridinone, 3-Hydroxy-2-Methyl-1-Pentyl-"
          ],
          [
           "Cp107|4(1H)-Pyridinone, 2-Ethyl-3-Hydroxy-1-(4-Hydroxybutyl)-"
          ],
          [
           "Methoxamine"
          ],
          [
           "Isoproterenol Hydrochloride|Isoproterenol"
          ],
          [
           "Mezilamine"
          ],
          [
           "1-(8-Fluorooctyl)-2-Nitroimidazole|Moli001285"
          ],
          [
           "Thiopental|76-75-5"
          ],
          [
           "5-Pentyl-5-Ethyl Barbituric Acid|5-Ethyl-5-Pentylbarbituric Acid"
          ],
          [
           "Amobarbital"
          ],
          [
           "(+)-Pentobarbital"
          ],
          [
           "Tamitinol"
          ],
          [
           "Mecamylamine"
          ],
          [
           "Ciproximide|Cyproximide"
          ],
          [
           "Norharman|9H-Pyrido[3,4-B]Indole"
          ],
          [
           "Menadione"
          ],
          [
           "Diatrizoic Acid"
          ],
          [
           "Nitrafudam"
          ],
          [
           "Zoniclezole"
          ],
          [
           "Nilutamide"
          ],
          [
           "Harman"
          ],
          [
           "Furosemide"
          ],
          [
           "Losigamone|(+)-Losigamone"
          ],
          [
           "Mefenidil"
          ],
          [
           "Triamterene"
          ],
          [
           "Pirfenidone"
          ],
          [
           "Etoprine"
          ],
          [
           "Harmalol"
          ],
          [
           "Tetrantoin"
          ],
          [
           "Cyclazodone"
          ],
          [
           "Enoximone"
          ],
          [
           "Phenobarbital"
          ],
          [
           "Nalidixic Acid|Nalidixic-Acid|Nalidixicacid"
          ],
          [
           "Supidimide"
          ],
          [
           "Benznidazole"
          ],
          [
           "Skb15|Bbcpd12|112598-28-4|Chebi: 339093|13|N-(2-{[(3-Bromopyridin-2-Yl)Methyl]Sulfanyl}Ethyl)-3-Nitro-1H-Pyrrol-2-Amine"
          ],
          [
           "B-049"
          ],
          [
           "Pyrimethamine"
          ],
          [
           "Fluzinamide"
          ],
          [
           "Ipodate"
          ],
          [
           "Iocetamic Acid"
          ],
          [
           "Isocarboxazid"
          ],
          [
           "Mesuximide|Methsuximide"
          ],
          [
           "Florfenicol"
          ],
          [
           "Efetozole"
          ],
          [
           "Azepindole"
          ],
          [
           "Detomidine"
          ],
          [
           "Primidone"
          ],
          [
           "Sulfamethazine"
          ],
          [
           "Skb16|Bbcpd13|112598-30-8|Chebi: 339092|B-050|14|3-Nitro-N-(2-{[(Pyridin-2-Yl)Methyl]Sulfanyl}Ethyl)-1H-Pyrrol-2-Amine"
          ],
          [
           "Sulfacytine"
          ],
          [
           "Sulfadoxine"
          ],
          [
           "Sulfadimethoxine"
          ],
          [
           "Carumonam|(3S,4S)-3-[(Z)-2-(2-Amino-4-Thiazolyl)-2-[(Carboxymethoxy)Imino]Acetamido]-4-Carbamoyloxymethyl-2-Oxo-1-Azetidinesulphonic Acid"
          ],
          [
           "Mptp|1-Methyl-4-Phenyl-1,2,3,6-Tetrahydropyridine"
          ],
          [
           "Entecavir"
          ],
          [
           "Tigemonam|Sq30836 (Tigemonam Dicholate)"
          ],
          [
           "Metaxalone"
          ],
          [
           "Cintramide|Cintriamide"
          ],
          [
           "Faropenem"
          ],
          [
           "Sulopenem"
          ],
          [
           "52378-66-2|Chebi: 338620|Bbcpd11|B-048|12|Y-G13|Comp13|30|N-Cyano-N'-[2-((3-Bromo-2-Pyridyl)Methylthio)-Ethyl]-N\"-Ethylguanidine"
          ],
          [
           "Meclofenoxate"
          ],
          [
           "Fenfluramine"
          ],
          [
           "Etryptamine"
          ],
          [
           "Azaquinzole"
          ],
          [
           "Bufotenine"
          ],
          [
           "Nebracetam"
          ],
          [
           "Eltoprazine"
          ],
          [
           "Hexobarbital|56-29-1"
          ],
          [
           "Cyclobarbital"
          ],
          [
           "Cericlamine"
          ],
          [
           "Fenpentadiol"
          ],
          [
           "Psilocybine"
          ],
          [
           "Imipenem"
          ],
          [
           "Trebenzomine"
          ],
          [
           "Cerulenin"
          ],
          [
           "Tiletamine"
          ],
          [
           "Clenbuterol"
          ],
          [
           "Thiamylal"
          ],
          [
           "76-73-3|Secobarbital|Quinalbarbitone"
          ],
          [
           "(+)-Secobarbital"
          ],
          [
           "Nealbarbital"
          ],
          [
           "Tolbutamide"
          ],
          [
           "Epervudine"
          ],
          [
           "Dupracetam"
          ],
          [
           "Propofol|Propofol, Diprivan"
          ],
          [
           "Terbutaline"
          ],
          [
           "Amiflamine|4-(Dimethylamino)-Alpha,2-Dimethylphenethylamine"
          ],
          [
           "Methitural"
          ],
          [
           "Pirbuterol"
          ],
          [
           "5-Hexyl-5-Ethyl Barbituric Acid|Ortal"
          ],
          [
           "Tetrabarbital"
          ],
          [
           "3930-20-9|Sotalol Hydrochloride|Sotalol"
          ],
          [
           "U 88703|3-Pyridinamine, N-(1-Methylethyl)-2-(1-Piperazinyl)-"
          ],
          [
           null
          ],
          [
           "Zanamivir"
          ],
          [
           "Brinzolamide"
          ],
          [
           "Nizatidine|Nizax"
          ],
          [
           "Cadralazine"
          ],
          [
           "Topiramate|Topiramate, Topamax"
          ],
          [
           "Crotetamide"
          ],
          [
           "Lactulose|4-O-Hexopyranosylhex-2-Ulofuranose"
          ],
          [
           "Carisoprodol"
          ],
          [
           "Butoctamide|Butoctamidehydrogensuccinate"
          ],
          [
           "Bithionol"
          ],
          [
           "Triclosan"
          ],
          [
           "Ica-27243|N-(6-Chloropyridin-3-Yl)-3,4-Difluorobenzamide"
          ],
          [
           "Methoxsalen"
          ],
          [
           "Milrinone"
          ],
          [
           "Centazolone"
          ],
          [
           "Nifuroxazide|Akabar"
          ],
          [
           "Nitazoxanide"
          ],
          [
           "Miloxacin"
          ],
          [
           "Thalidomide"
          ],
          [
           "Phenyl-Salicylate|Phenyl Salicylate"
          ],
          [
           "Clonixin"
          ],
          [
           "Proflavine"
          ],
          [
           "Tenoxicam"
          ],
          [
           "Phenyl Aminosalicylate"
          ],
          [
           "Ethacrynic Acid|Etacrynicacid"
          ],
          [
           "Fluconazole"
          ],
          [
           "Ozagrel"
          ],
          [
           "Nimesulide"
          ],
          [
           "Ceftezole"
          ],
          [
           "Ralitoline"
          ],
          [
           "Cefazaflur"
          ],
          [
           "Varenicline|6,10-Methano-6H-Pyrazino[2,3-H][3]Benzazepine, 7,8,9,10-Tetrahydro-"
          ],
          [
           "Cefacetrile"
          ],
          [
           "Ceftizoxime|7-[2-(2-Amino-Thiazol-4-Yl)-2-Methoxyimino-Acetylamino]-8-Oxo-5-Thia-1-Aza-Bicyclo[4.2.0]Oct-2-Ene-2-Carboxylic Acid"
          ],
          [
           "Ciprofibrate"
          ],
          [
           "Tacrine|Tacrine, Cognex"
          ],
          [
           "Velnacrine"
          ],
          [
           "Rofelodine"
          ],
          [
           "Naprodoxime|N-Hydroxy-2-[(Naphthalen-1-Yl)Oxy]Propanimidamide"
          ],
          [
           "Methylphenobarbital|Mephobarbital"
          ],
          [
           "Pidolacetamol"
          ],
          [
           "Skb23|Bbcpd58|72801-63-9|Chebi: 145922|B-054|19|13|Guanidinenmethylncyanon32Nguanidylthiazol4Ylphen"
          ],
          [
           "Clorgiline"
          ],
          [
           "Cetofenicol|Cetophenicol"
          ],
          [
           "Glycodiazine|Glymidine"
          ],
          [
           "Fasiplon"
          ],
          [
           "Methastyridone"
          ],
          [
           "Glutethimide"
          ],
          [
           "Fenimide"
          ],
          [
           "Petrichloral"
          ],
          [
           "Ketamine"
          ],
          [
           "Dexmedetomidine"
          ],
          [
           "Profexalone"
          ],
          [
           "Cycotiamine"
          ],
          [
           "Selegiline"
          ],
          [
           "Aminopyrine Ok|Aminopyrine|Aminophenazone|Amidazophen"
          ],
          [
           "Dipyrone|Metamizole"
          ],
          [
           "Aztreonam|Aztreonam E-Isomer"
          ],
          [
           "19"
          ],
          [
           "Crotamiton|2-Butenamide, N-Ethyl-N-(2-Methylphenyl)-"
          ],
          [
           "Encyprate"
          ],
          [
           "Ambroxol"
          ],
          [
           "Sarcolysin"
          ],
          [
           "Melphalan"
          ],
          [
           "Imidoline"
          ],
          [
           "Dicarbine"
          ],
          [
           "Fenoxazoline"
          ],
          [
           "Heptabarb|Heptabarbital"
          ],
          [
           "Pentoxifylline"
          ],
          [
           "Ibuprofen|15687-27-1|Lbuprofen"
          ],
          [
           "(R)-(-)-Ibuprofen"
          ],
          [
           "Salicin"
          ],
          [
           "Pinacidil"
          ],
          [
           "Butamoxane"
          ],
          [
           "Ifoxetine"
          ],
          [
           "Probenecid"
          ],
          [
           "Declopramide"
          ],
          [
           "Procaine"
          ],
          [
           "Etozolin|Ethyl 2-(3-Methyl-4-Oxo-5-Piperidin-1-Yl-1,3-Thiazolidin-2-Ylidene)Acetate"
          ],
          [
           "Etozoline|Etozolin"
          ],
          [
           "Quinpirole"
          ],
          [
           "Carbuterol"
          ],
          [
           "Salbutamol|Albuterol|Salbutamol, Albuterol|Albuterol Sulfate"
          ],
          [
           "66357-35-5|Ranitidine|9|Zantac"
          ],
          [
           "Cropropamide"
          ],
          [
           "Cyprodenate"
          ],
          [
           "Tybamate"
          ],
          [
           "Nisobamate"
          ],
          [
           "Niclosamide"
          ],
          [
           "Ticrynafen|Tienilic Acid"
          ],
          [
           "Niflumic|Niflumic Acid"
          ],
          [
           "Cid 10451635|2-(3'-Iodo-4'-Aminophenyl)-6-Hydroxybenzothiazole"
          ],
          [
           "Pyridarone"
          ],
          [
           "Bromazepam"
          ],
          [
           "Mitotane"
          ],
          [
           "Olsalazine"
          ],
          [
           "Dantrolene"
          ],
          [
           "Benzoyl Peroxide"
          ],
          [
           "Meclofenamate Sodium|Meclofenamate|Meclofenamic Acid"
          ],
          [
           "Fenquizone"
          ],
          [
           "Cicletanine"
          ],
          [
           "Levosimendan"
          ],
          [
           "Benzyl Benzoate"
          ],
          [
           "Felbinac"
          ],
          [
           "Trioxsalen"
          ],
          [
           "Tiaprofenic|Tiaprofenic Acid"
          ],
          [
           "Meloxicam"
          ],
          [
           "Isoxicam"
          ],
          [
           "Alonimid"
          ],
          [
           "Ticlopidine Hydrochloride|Ticlopidine"
          ],
          [
           "Naphazoline"
          ],
          [
           "Razobazam"
          ],
          [
           "Cefazolin"
          ],
          [
           "Naproxen"
          ],
          [
           "Zometapine"
          ],
          [
           "Flutomidate"
          ],
          [
           "Fosenazide"
          ],
          [
           "Taniplon"
          ],
          [
           "Cefetamet|(6R,7R)-7-[[(2E)-2-(2-Amino-1,3-Thiazol-4-Yl)-2-Methoxyiminoacetyl]Amino]-3-Methyl-8-Oxo-5-Thia-1-Azabicyclo[4.2.0]Oct-2-Ene-2-Carboxylic Acid"
          ],
          [
           "Cefdaloxime"
          ],
          [
           "Bipenamol"
          ],
          [
           "Brofaromine"
          ],
          [
           "Toloxychlorinol"
          ],
          [
           "Cyclothiazide"
          ],
          [
           "Flucindol|Flucindole"
          ],
          [
           "Napactadine"
          ],
          [
           "Napamezole"
          ],
          [
           "Phetharbital"
          ],
          [
           "Biglumide|Taglutimida"
          ],
          [
           "Imiquimod"
          ],
          [
           "Pipemidic|Pipemidic Acid"
          ],
          [
           "Indeloxazine"
          ],
          [
           "Benzoclidine"
          ],
          [
           "Oxaflozane"
          ],
          [
           "Ciclindole|Cyclindole"
          ],
          [
           "Propyphenazone"
          ],
          [
           "Nefiracetam"
          ],
          [
           "Methohexital|151-83-7|Methohexitone"
          ],
          [
           "D-Phenylalanine-L-Proline"
          ],
          [
           "Aspartame"
          ],
          [
           "Abacavir"
          ],
          [
           "Abacavir, Trans-"
          ],
          [
           "Stiripentol"
          ],
          [
           "Chlorambucil"
          ],
          [
           "Fluprazine"
          ],
          [
           "Faha|6-[(2-Fluoroacetyl)Amino]-N-Phenylhexanamide"
          ],
          [
           "Etazolate"
          ],
          [
           "Phacetoperane|Levophacetoperane"
          ],
          [
           "Methylphenidate"
          ],
          [
           "Dexmethylphenidate"
          ],
          [
           "Trimetozine"
          ],
          [
           "Sanfetrinem"
          ],
          [
           "Diclometide"
          ],
          [
           "Norcisapride"
          ],
          [
           "Ticalopride"
          ],
          [
           "Tymazoline"
          ],
          [
           "Pindolol"
          ],
          [
           "Azabon"
          ],
          [
           "Propacetamol"
          ],
          [
           "Skb24|74188-86-6|Bbcpd17|B-056|20|2-[2-(5-Dimethylaminomethyl-2-Furylmethylthio)Ethylamino]-3-Nitropyrrole"
          ],
          [
           "Clovoxamine"
          ],
          [
           "Clofexamide"
          ],
          [
           "1-Isobutyl-4-(4-Iodophenyl)Piperazine"
          ],
          [
           "1-Butan-2-Yl-4-(4-Iodophenyl)Piperazine"
          ],
          [
           "Eticyclidine"
          ],
          [
           "Sumatriptan"
          ],
          [
           "Tolazamide"
          ],
          [
           "Sulmepride"
          ],
          [
           "Adicillin"
          ],
          [
           "Zylofuramine"
          ],
          [
           "Pentamoxane"
          ],
          [
           "Carmantadine"
          ],
          [
           "Pivenfrine"
          ],
          [
           "Metoclopramide"
          ],
          [
           "Clobutinol"
          ],
          [
           "123441-03-2|Rivastigmine"
          ],
          [
           "Practolol"
          ],
          [
           "(S)-Practolol"
          ],
          [
           "4-Iodo-N,N'-Isopropyl-M-Xylenediamine"
          ],
          [
           "Sematilide"
          ],
          [
           "Xanomeline"
          ],
          [
           "Tazomeline"
          ],
          [
           "Tapentadol"
          ],
          [
           "Crilvastatin"
          ],
          [
           "5-Octyl-5-Ethyl Barbituric Acid|5-Ethyl-5-Octylbarbituric Acid"
          ],
          [
           "Ro 64-0802|Oseltamivir Acid"
          ],
          [
           "Valproate-Pivoxil|Valproate Pivoxil"
          ],
          [
           "Pramiracetam"
          ],
          [
           "Succinylcholine"
          ],
          [
           "Sodium Tetradecyl Sulfate|Myristyl Sulfate"
          ],
          [
           "Tafamidis"
          ],
          [
           "21"
          ],
          [
           "Lopirazepam"
          ],
          [
           "Triclabendazole"
          ],
          [
           "Efavirenz"
          ],
          [
           "Alrestatin"
          ],
          [
           "Brotizolam"
          ],
          [
           "Clonazepam"
          ],
          [
           "Phenindione"
          ],
          [
           "Daidzein Ok|Daidzein"
          ],
          [
           "Quercetin"
          ],
          [
           "Mecloqualone"
          ],
          [
           "6-Chloro-5-Phenyl-1,3-Dihydro-1,4-Benzodiazepin-2-One"
          ],
          [
           "Oxazepam|604-75-1"
          ],
          [
           "Desmethylclobazam|22316-55-8|N-Desmethylclobazam|Norclobazam"
          ],
          [
           "Demoxepam"
          ],
          [
           "Nitrazepam"
          ],
          [
           "20"
          ],
          [
           "Bromfenac"
          ],
          [
           "Liothyronine"
          ],
          [
           "Carbamazepine|Carbamazepine; Tegretol|31"
          ],
          [
           "Nafimidone"
          ],
          [
           "Carbamazepine-10,11-Epoxide|Carbamazepine Epoxide|B-096|32"
          ],
          [
           "Carbamazepineepoxide|(2R,4R)-3-Oxa-11-Azatetracyclo[10.4.0.02,4.05,10]Hexadeca-1(16),5,7,9,12,14-Hexaene-11-Carboxamide"
          ],
          [
           "Oxcarbazepine|Rivastigmine, Exelon"
          ],
          [
           "Ffmz"
          ],
          [
           "Piroxicam"
          ],
          [
           "Epalrestat"
          ],
          [
           "Acetaminosalol"
          ],
          [
           "Dazadrol"
          ],
          [
           "Cefaclor"
          ],
          [
           "Benzthiazide"
          ],
          [
           "Zomepirac"
          ],
          [
           "Bendroflumethiazide"
          ],
          [
           "Flumazenil|78755-81-4"
          ],
          [
           "Doxenitoin"
          ],
          [
           "S-Licarbizine|Licarbazepine"
          ],
          [
           "Fepitrizol"
          ],
          [
           "Nevirapine|129618-40-2"
          ],
          [
           "Sulfaphenazole"
          ],
          [
           "Ceftibuten|Ceftibuten Dihydrate"
          ],
          [
           "Endixaprine"
          ],
          [
           "Nortetrazepam"
          ],
          [
           "2095-17-2|Nor-2-Chlorpromazine|Didemethylchlorpromazine|Cid 74981"
          ],
          [
           "Zolazepam"
          ],
          [
           "Premazepam"
          ],
          [
           "Ci-994|Tacedinaline"
          ],
          [
           "Cefivitril"
          ],
          [
           "Modafinil"
          ],
          [
           "Sipatrigine"
          ],
          [
           "Lodaxaprine"
          ],
          [
           "Ameltolide"
          ],
          [
           "Benmoxin"
          ],
          [
           "156154-71-1|Dm44|Methyl 6-Methyl-4-(3-Nitroanilino)-2-Oxocyclohex-3-Ene-1-Carboxylate"
          ],
          [
           "Tienocarbine"
          ],
          [
           "Zomebazam"
          ],
          [
           "5|2-Methyl-5-Nitro-4-(1,2,4,5-Tetrahydro-3-Benzazepin-3-Yl)-1H-Pyrimidin-6-One"
          ],
          [
           "Lortalamine|Cid 6917700"
          ],
          [
           "2-[(2-Amino-4-Fluorophenyl)Thio]-N,N-Dimethylbenzenemethanamine|2-[[2-[(Dimethylamino)Methyl]Phenyl]Thio]-5-Fluoroaniline"
          ],
          [
           "Flupirtine"
          ],
          [
           "Metralindole"
          ],
          [
           "99632-94-7|Ro 19-4603|Ro19-4603|Tert-Butyl 5-Methyl-6-Oxo-5,6-Dihydro-4H-Imidazo[1,5-A]Thieno[2,3-F][1,4]Diazepine-3-Carboxylate"
          ],
          [
           "Cefpodoxime|(6R,7R)-7-[[(2E)-2-(2-Amino-1,3-Thiazol-4-Yl)-2-Methoxyiminoacetyl]Amino]-3-(Methoxymethyl)-8-Oxo-5-Thia-1-Azabicyclo[4.2.0]Oct-2-Ene-2-Carboxylic Acid"
          ],
          [
           "Cefmetazole"
          ],
          [
           "Flomoxef"
          ],
          [
           "Befloxatone"
          ],
          [
           "Tyropanoate Sodium|Tyropanic Acid"
          ],
          [
           "Pirlindole"
          ],
          [
           "Propoxate"
          ],
          [
           "Biapenem"
          ],
          [
           "Mitomycin"
          ],
          [
           "Regadenoson"
          ],
          [
           "Arglabin"
          ],
          [
           "Rizatriptan"
          ],
          [
           "Furfenorex"
          ],
          [
           "Raclopride"
          ],
          [
           "Indalpine"
          ],
          [
           "Sumacetamol"
          ],
          [
           "Acetohexamide"
          ],
          [
           "Acaprazine"
          ],
          [
           "Lesopitron"
          ],
          [
           "54739-18-3|Fluvoxamine|Fluvoxamine, (Z)-"
          ],
          [
           "1,3A,8-Trimethyl-1,2,3,3A,8,8A-Hexahydropyrrolo[2,3-B]Indol-5-Yl Methylcarbamate"
          ],
          [
           "Physostigmine"
          ],
          [
           "Tocris-0622"
          ],
          [
           "Panipenem|(5R,6S)-3-[(3R)-1-Ethanimidoylpyrrolidin-3-Yl]Sulfanyl-6-[(1R)-1-Hydroxyethyl]-7-Oxo-1-Azabicyclo[3.2.0]Hept-2-Ene-2-Carboxylic Acid"
          ],
          [
           "Metazocine"
          ],
          [
           "Eptazocine"
          ],
          [
           "(+)-4-Propyl-3,4,4A,5,6,10B-Hexahydro-2H-Naphtho[1,2-B][1,4]Oxazin-9-Ol|4-Propyl-3,4,4A,5,6,10B-Hexahydro-2H-Naphtho[1,2-B][1,4]Oxazin-9-Ol"
          ],
          [
           "Ketobemidone"
          ],
          [
           "Pethidine|Meperidine|Meperidine, Demerol|Demerol"
          ],
          [
           "Hydroxypethidine"
          ],
          [
           "Milnacipran"
          ],
          [
           "Dabelotine"
          ],
          [
           "Troxipide"
          ],
          [
           "Cartazolate"
          ],
          [
           "Adenosyl-Methionine|Ademetionine"
          ],
          [
           "Gemfibrozil"
          ],
          [
           "Prolintane"
          ],
          [
           "Acecainide"
          ],
          [
           "Mecillinam|Amdinocillin"
          ],
          [
           "Cyclacillin"
          ],
          [
           "Sulpiride"
          ],
          [
           "Skb34|Bbcpd22|87078-26-0|Chebi: 338140|B-062|26|18|1-Propanol, 3-[3-(1-Piperidinylmethyl)Phenoxy]-"
          ],
          [
           "Ethomoxane"
          ],
          [
           "Oxprenolol"
          ],
          [
           "Mefexamide"
          ],
          [
           "Tiapride"
          ],
          [
           "Nonapyrimine"
          ],
          [
           "Thioperamide|5-69"
          ],
          [
           "Recainam"
          ],
          [
           "Lisdexamfetamine"
          ],
          [
           "Caproxamine|5-[(Z)-N-(2-Aminoethoxy)-C-Pentylcarbonimidoyl]-2-Methylaniline"
          ],
          [
           "Rociclovir"
          ],
          [
           "51384-51-1|Metoprolol"
          ],
          [
           "Dioxamate"
          ],
          [
           "Pentolinium"
          ],
          [
           "Pyrene"
          ],
          [
           "Bms-204352|Flindokalner"
          ],
          [
           "Indigotindisulfonate|Indigotindisulfonic Acid"
          ],
          [
           "Chlorazepate|Clorazepate|Clorazepic Acid"
          ],
          [
           "Estazolam"
          ],
          [
           "Lormetazepam"
          ],
          [
           "Fludiazepam"
          ],
          [
           "Flutemazepam"
          ],
          [
           "Meclonazepam"
          ],
          [
           "Anisindione"
          ],
          [
           "Aceclofenac"
          ],
          [
           "Tioconazole|Tz-3"
          ],
          [
           "Mazindol"
          ],
          [
           "Temazepam"
          ],
          [
           "Sulazepam"
          ],
          [
           "Vorozole|(+)-Vorozole"
          ],
          [
           "Nimetazepam"
          ],
          [
           "Mebendazole"
          ],
          [
           "Citenamide"
          ],
          [
           null
          ],
          [
           "Chlordiazepoxide"
          ],
          [
           "Org30526|(2R,6S)-9-Chloro-13-Oxa-4-Azatetracyclo[12.4.0.02,6.07,12]Octadeca-1(18),7(12),8,10,14,16-Hexaene"
          ],
          [
           "128915-56-0|N-Desmethyl Asenapine"
          ],
          [
           "Lansoprazole"
          ],
          [
           "Voriconazole"
          ],
          [
           "Methaqualone"
          ],
          [
           "Cbz-Epo"
          ],
          [
           "Doliracetam"
          ],
          [
           "Amlexanox"
          ],
          [
           "Fenbufen"
          ],
          [
           "Hesperetin"
          ],
          [
           null
          ],
          [
           "Indatraline"
          ],
          [
           "Medazepam"
          ],
          [
           "Clotiazepam"
          ],
          [
           "Fluoroethylfumazrnil|Fluoroethylflumazenil|Cid 6426759"
          ],
          [
           "Pantoprazole"
          ],
          [
           "Sitagliptin"
          ],
          [
           "Neurogard"
          ],
          [
           "Fosphenytoin"
          ],
          [
           "Trizoxime"
          ],
          [
           "Cefixime|Cefixime Anhydrous, (E)-"
          ],
          [
           "17 Zm0241385|4-(2-((7-Amino-2-(Furan-2-Yl)-[1,2,4]Triazolo[1,5-A][1,3,5]Triazin-5-Yl)Amino)Ethyl)Phenol"
          ],
          [
           "Cefuzonam|Cefuzonam Sodium"
          ],
          [
           "Cyheptamide"
          ],
          [
           "Indapamide"
          ],
          [
           "Metolazone"
          ],
          [
           "Loracarbef"
          ],
          [
           "Clopidogrel Bisulfate|Clopidogrel"
          ],
          [
           "Fenoldopam"
          ],
          [
           "156154-42-6|Dm49|Methyl 6-Methyl-2-Oxo-4-[3-(Trifluoromethoxy)Anilino]Cyclohex-3-Ene-1-Carboxylate"
          ],
          [
           "Febuxostat"
          ],
          [
           "Cefalotin|Cephalotin|Cephalothin"
          ],
          [
           "Dacemazine"
          ],
          [
           "Bbcpd18"
          ],
          [
           "Cefuroxime|Cefuroxim|(6R,7R)-3-(Carbamoyloxymethyl)-7-[[(2E)-2-(Furan-2-Yl)-2-Methoxyiminoacetyl]Amino]-8-Oxo-5-Thia-1-Azabicyclo[4.2.0]Oct-2-Ene-2-Carboxylic Acid"
          ],
          [
           "Zimeldine|Zimelidine"
          ],
          [
           "1225-64-5|Norchlorpromazine|Nor-1-Chlorpromazine|Nor-2-Chlorpromazine"
          ],
          [
           "Tiflucarbine"
          ],
          [
           "Cefoxitin"
          ],
          [
           "Azidocillin"
          ],
          [
           "Ceftioxide|Ceftioxid"
          ],
          [
           "Cefteram|Cefteramum"
          ],
          [
           "Cefmenoxime|(6R,7R)-7-[[(2E)-2-(2-Amino-1,3-Thiazol-4-Yl)-2-Methoxyiminoacetyl]Amino]-3-[(1-Methyltetrazol-5-Yl)Sulfanylmethyl]-8-Oxo-5-Thia-1-Azabicyclo[4.2.0]Oct-2-Ene-2-Carboxylic Acid"
          ],
          [
           "Cebaracetam"
          ],
          [
           "Retigabine|Ezogabine"
          ],
          [
           "Norfloxacin"
          ],
          [
           "Metapramine"
          ],
          [
           "Nomifensine"
          ],
          [
           "Tifencillin"
          ],
          [
           "Sulbenicillin|Cid 5317"
          ],
          [
           "Desmonomethylpromazine|2095-20-7|Methyl[3-(10H-Phenothiazin-10-Yl)Propyl]Amine"
          ],
          [
           "Piribedil"
          ],
          [
           "Nialamide"
          ],
          [
           "Chlorpheniramine"
          ],
          [
           "Tepirindole"
          ],
          [
           null
          ],
          [
           "I-4"
          ],
          [
           "Chebi: 167165|I-4|4-[1-((E)-3-Iodo-Allyl)-Piperidin-4-Ylmethoxy]-Benzonitrile"
          ],
          [
           "Aptazapine"
          ],
          [
           "23|N-(2-Aminophenyl)-4-[(Dimethylamino)Methyl]Benzamide"
          ],
          [
           "Cefradine|Cephradine"
          ],
          [
           "Amoxicillin"
          ],
          [
           "Pipofezine"
          ],
          [
           "Medifoxamine"
          ],
          [
           "Teniloxazine"
          ],
          [
           "12-Methoxy-7-Methyl-16-Oxa-7-Azatetracyclo[11.2.1.05,15.09,14]Hexadeca-4,9(14),10,12-Tetraen-3-Ol"
          ],
          [
           "Norgalanthamine"
          ],
          [
           "Roletamide"
          ],
          [
           "9-Chloro-5-Methyl-6-(3-Methylbut-2-En-1-Yl)-4,5,6,7-Tetrahydroimidazo(4,5,1-Jk)(1,4)Benzodiazepine-2(1H)-Thione"
          ],
          [
           "R82913|4-Chloro-8-Methyl-7-(3-Methyl-But-2-Enyl)-6,7,8,9-Tetrahydro-2H-2,7,9A-Triaza-Benzo[Cd]Azulene-1-Thione"
          ],
          [
           "Pheniramine"
          ],
          [
           "Morsuximide"
          ],
          [
           "Pyritinol"
          ],
          [
           "Torsemide|Torasemide"
          ],
          [
           "Enpiprazole"
          ],
          [
           "Mepenzolatebromide|4-(3,9-Diazaspiro[5.5]Undecan-3-Yl)Benzonitrile"
          ],
          [
           "Zolmitriptane|2-Oxazolidinone, 4-[[3-[2-(Dimethylamino)Ethyl]-1H-Indol-5-Yl]Methyl]-"
          ],
          [
           "Zolmitriptan"
          ],
          [
           "Epicillin"
          ],
          [
           "Cephalosporin-C|Cephalosporin C"
          ],
          [
           "Cefminox"
          ],
          [
           "Norlevorphanol"
          ],
          [
           "Ramelteon"
          ],
          [
           "Rolipram"
          ],
          [
           "Befunolol"
          ],
          [
           "Compound 5|(2S)-2-[[(2Z,4E)-Hexa-2,4-Dienoyl]Amino]-4-[(2Z,4E)-Hexa-2,4-Dienoyl]Sulfanylbutanoic Acid"
          ],
          [
           "Eclanamine"
          ],
          [
           "Zetidoline"
          ],
          [
           "Bmsp|1-(3,7-Diazabicyclo[3.3.1]Nonan-3-Yl)-2-(4-(Methylsulfonyl)Phenyl)Ethanone"
          ],
          [
           "151581-23-6|Apaxifylline"
          ],
          [
           "Acetiamine"
          ],
          [
           "Inaperisone"
          ],
          [
           "Tolquinzole"
          ],
          [
           "Pyrovalerone"
          ],
          [
           "Etoxadrol"
          ],
          [
           "Alphaprodine|Nisintil"
          ],
          [
           "Bufuralol"
          ],
          [
           "Xylometazoline"
          ],
          [
           "Oxymetazoline"
          ],
          [
           "Ropinirole|91374-21-9|Skf-101468|Skf101468|Skf-101468, Ropinirole|Ropinirole Hydrochloride|Skf 101468"
          ],
          [
           "Molindone"
          ],
          [
           null
          ],
          [
           "Skf 89124|104535-64-0|Skf89124|7-Hydroxy Ropinirole|Skf-89124|4-(2-Di-N-Propylaminoethyl)-7-Hydroxy-2-(3H)Indolone"
          ],
          [
           "Tricetamide"
          ],
          [
           "Pirisudanol"
          ],
          [
           "Tracazolate"
          ],
          [
           "Denbufylline"
          ],
          [
           "1-Hexyl-4-(4-Iodophenyl)Piperazine|Chebi: 287982"
          ],
          [
           "Prosulpride"
          ],
          [
           "Picenadol"
          ],
          [
           "Desvenlafaxine"
          ],
          [
           "Esmolol"
          ],
          [
           "Suplatast|3-Dimethylsulfonio-N-[4-(3-Ethoxy-2-Oxoniopropoxy)Phenyl]Propanimidate"
          ],
          [
           "12"
          ],
          [
           "Cilastatin"
          ],
          [
           "Artemether"
          ],
          [
           "Valperinol"
          ],
          [
           "Oseltamivir Phosphate|Oseltamivir"
          ],
          [
           "22"
          ],
          [
           "Cetyl Alcohol"
          ],
          [
           "Decamethonium"
          ],
          [
           "Quazepam"
          ],
          [
           "Selinexor"
          ],
          [
           "Letrozole"
          ],
          [
           "Ocinaplon"
          ],
          [
           "Benzbromarone"
          ],
          [
           "Compound-4Fi|7-(2,4-Dichlorophenyl)-2-Methyl-4-[3-(Trifluoromethyl)Pyrazol-1-Yl]-5,6-Dihydropyrrolo[2,3-D]Pyrimidine"
          ],
          [
           "Triazolam|28911-01-5"
          ],
          [
           "Halazepam"
          ],
          [
           "Pirazolac"
          ],
          [
           "Fletazepam"
          ],
          [
           "Liarozole"
          ],
          [
           "4-Hydroxyalprazolam"
          ],
          [
           "Alpha-Hydroxyalprazolam|Α-Hydroxyalprazolam"
          ],
          [
           "Triflubazam"
          ],
          [
           "49|N-(5-Methyl-1,2,4-Oxadiazol-3-Yl)-9H-Xanthene-9-Carboxamide"
          ],
          [
           "Haloxazolam"
          ],
          [
           "Roflumilast"
          ],
          [
           "N-Methylthiazolium-Dcka"
          ],
          [
           "Doxefazepam"
          ],
          [
           "Rosoxacin"
          ],
          [
           "Iguratimod"
          ],
          [
           "48|7-(2-Methyl-Pyridin-4-Yl)-2-Pyridin-2-Yl-[1,2,4]Triazolo[1,5-A]Pyridin-5-Ylamine"
          ],
          [
           "Rofecoxib|Rofecoxib, Vioxx"
          ],
          [
           "Triclodazol"
          ],
          [
           "Ciclazindol"
          ],
          [
           "Etizolam"
          ],
          [
           "Gyki-52466|4-(8-Methyl-9H-1,3-Dioxolo(4,5-H)(2,3)Benzodiazepin-5-Yl)Benzenamine"
          ],
          [
           "Balsalazide"
          ],
          [
           "51|N-(2-Ethyltetrazol-5-Yl)-9H-Xanthene-9-Carboxamide"
          ],
          [
           "Tuclazepam"
          ],
          [
           "Amoxapine"
          ],
          [
           "Carburazepam"
          ],
          [
           "L-663,581|122384-14-9|Chebi 218555|L663581|L-663581|33|7-Chloro-5-Methyl-3-(5-Propan-2-Yl-1,2,4-Oxadiazol-3-Yl)-4H-Imidazo[1,5-A][1,4]Benzodiazepin-6-One"
          ],
          [
           "M1L-663,581|128246-10-6|Monohydroxy L-663,581 Metabolite|Chebi: 338585|Mono-Hydroxylated-L-663581|L-663,581 Mono-Hydroxylated Metabolite|34|7-Chloro-3-[5-(2-Hydroxypropan-2-Yl)-1,2,4-Oxadiazol-3-Yl]-5-Methyl-4H-Imidazo[1,5-A][1,4]Benzodiazepin-6-One"
          ],
          [
           "M2L-663,581|130073-36-8|Lin_Test_35|Chebi: 338584|M2L-663581|Bis-Hydroxylated L-663,581|L-663,581 Bis-Hydrolated|35|7-Chloro-3-[5-(1,2-Dihydroxypropan-2-Yl)-1,2,4-Oxadiazol-3-Yl]-5-Methyl-4H-Imidazo[1,5-A][1,4]Benzodiazepin-6-One"
          ],
          [
           "35"
          ],
          [
           "B-106, Org30526"
          ],
          [
           "Mefloquine"
          ],
          [
           "Fluradoline"
          ],
          [
           "Cid 9861160|B-109, Org34167|1-[2-(1,2-Benzoxazol-3-Yl)Phenyl]But-3-En-1-Amine"
          ],
          [
           "Etaqualone"
          ],
          [
           "Bentazepam"
          ],
          [
           "Tenilapine"
          ],
          [
           "4-(3,4-Dichlorophenyl)-N-Methyl-1,2,3,4-Tetrahydronaphthalen-1-Amine"
          ],
          [
           "79559-97-0|Sertraline"
          ],
          [
           "Fengabine"
          ],
          [
           "Etifoxine"
          ],
          [
           "Eszopiclone|Eszopiclone, Lunesta"
          ],
          [
           "Griseofulvin"
          ],
          [
           "Divaplon"
          ],
          [
           "Cefapirin|Cephapirin"
          ],
          [
           "Cefuracetime|Cefuracetima"
          ],
          [
           "Cefotetan|Yamatetan"
          ],
          [
           "Org-30526"
          ],
          [
           "Apomorphine_R|(6As)-6-Methyl-5,6,6A,7-Tetrahydro-4H-Dibenzo[De,G]Quinoline-10,11-Diol"
          ],
          [
           "Apomorphine"
          ],
          [
           "Damotepine"
          ],
          [
           "Sb 357134|N-(2,5-Dibromo-3-Fluorophenyl)-4-Methoxy-3-Piperazin-1-Ylbenzenesulfonamide"
          ],
          [
           "Clometocillin"
          ],
          [
           "Sch-23390|(R)-2,3,4,5-Tetrahydro-8-Chloro-3-Methyl-5-Phenyl-1H-3-Benzazepin-7-Ol"
          ],
          [
           "Fluoxetine|54910-89-3"
          ],
          [
           "Ciprofloxacin"
          ],
          [
           "Rufloxacin"
          ],
          [
           "Timelotem"
          ],
          [
           "Dazepinil"
          ],
          [
           "Amfetaminil"
          ],
          [
           "Diphoxazide"
          ],
          [
           "Ruxolitinib"
          ],
          [
           "Chlorpromazine|50-53-3"
          ],
          [
           "Lorcinadol"
          ],
          [
           "Lomefloxacin"
          ],
          [
           "Tametraline"
          ],
          [
           "Phentolamine"
          ],
          [
           "Piberaline"
          ],
          [
           "73590-58-6|Omeprazole"
          ],
          [
           "Esomeprazole"
          ],
          [
           "Metampicillin"
          ],
          [
           "Anastrozole"
          ],
          [
           "Bazinaprine"
          ],
          [
           "Nsc 350386|Ethyl N-(5-Amino-2-Methyl-3-Phenyl-1,2-Dihydropyrido[3,4-B]Pyrazin-7-Yl)Carbamate"
          ],
          [
           "Piritrexim"
          ],
          [
           "Cefcapene"
          ],
          [
           "Nefopam"
          ],
          [
           "Hydromorphone"
          ],
          [
           "Morphinan-3,6Alpha-Diol, 7,8-Didehydro-4,5Alpha-Epoxy-17-Methyl-"
          ],
          [
           "Morphine|52-26-6"
          ],
          [
           "Norcodeine"
          ],
          [
           "Oxymorphone"
          ],
          [
           "Bromazine|Bromodiphenhydramine"
          ],
          [
           "Clemeprol|1-(3-Chlorophenyl)-3-(Dimethylamino)-1-Phenyl-2-Propanol"
          ],
          [
           "Flecainide Acetate|Flecainide"
          ],
          [
           "Pefloxacin"
          ],
          [
           "Tropisetron"
          ],
          [
           "Tropicamide"
          ],
          [
           "Bumetanide"
          ],
          [
           "Pheneticillin"
          ],
          [
           "Meticillin|Methicillin"
          ],
          [
           "146-21-4|Phenothiazine|Promazine-Sulfoxide|Promazine 5-Sulfoxide"
          ],
          [
           "Tienopramine"
          ],
          [
           "Promazine|53-60-1"
          ],
          [
           "Propizepine"
          ],
          [
           "44|3-Ethyl-2-Methyl-5-Nitro-6-(1,2,4,5-Tetrahydro-3-Benzazepin-3-Yl)Pyrimidin-4-One"
          ],
          [
           "Riboflavin"
          ],
          [
           "Cefsumide"
          ],
          [
           "Benzfetamine|Benzphetamine"
          ],
          [
           "Theodrenaline"
          ],
          [
           "Compound 4B|Pyrido(3',2':4,5)Thieno(3,2-D)Pyrimidin-4(3H)-One, 9-(Dimethylamino)-3-(Hexahydro-1H-Azepin-1-Yl)-"
          ],
          [
           "Tofenacin"
          ],
          [
           "Atomoxetine"
          ],
          [
           "Diphenhydramine"
          ],
          [
           "Nisoxetine"
          ],
          [
           "Desomorphine"
          ],
          [
           "Ritodrine Hydrochloride|Ritodrine"
          ],
          [
           "Dihydromorphine"
          ],
          [
           "Epigalanthamin"
          ],
          [
           "357-70-0|Galantamine|Galanthamine"
          ],
          [
           "Etodolac"
          ],
          [
           "S-Etodolac|(S)-(+)-Etodolac"
          ],
          [
           "R-Etodolac|(R)-Etodolac"
          ],
          [
           "Fenoterol"
          ],
          [
           "Methyl 3-(Benzoyloxy)-8-Methyl-8-Azabicyclo[3.2.1]Octane-2-Carboxylate"
          ],
          [
           "Cocaine"
          ],
          [
           "Scopolamine|(-)-Scopolamine"
          ],
          [
           "51-34-3|Scopolamine"
          ],
          [
           "(9-Methyl-3-Oxa-9-Azatricyclo[3.3.1.02,4]Nonan-7-Yl) (2R)-3-Hydroxy-2-Phenylpropanoate"
          ],
          [
           "Hydromorphinol"
          ],
          [
           "Doxylamine, (S)-"
          ],
          [
           "Neticonazole Hydrochloride|Neticonazole"
          ],
          [
           "Minaprine"
          ],
          [
           "Cilobamine"
          ],
          [
           "Azabuperone"
          ],
          [
           "Pyrilamine|Mepyramine|Mepiramine|7"
          ],
          [
           "Sunepitron"
          ],
          [
           "Taltirelin"
          ],
          [
           "Pirandamine"
          ],
          [
           "Racemorphan"
          ],
          [
           "Levorphanol|Racemorphan"
          ],
          [
           "Dextrorphan"
          ],
          [
           "Tilidine|Dextilidine"
          ],
          [
           "Atropine Sulfate"
          ],
          [
           "Atropine"
          ],
          [
           "Atropine-Oxide"
          ],
          [
           "Tolpiprazole"
          ],
          [
           "Bms-387032|Bms-387032, Sns-032|N-(5-(((5-(1,1-Dimethylethyl)-2-Oxazolyl)Methyl)Thio)-2-Thiazolyl)-4-Piperidinecarboxamide"
          ],
          [
           "Homatropine Methylbromide|8,8-Dimethyl-8Lambda(5)-Azabicyclo[3.2.1]Oct-3-Yl Hydroxy(Phenyl)Acetate"
          ],
          [
           "Cyclandelate"
          ],
          [
           "Phencyclidine"
          ],
          [
           "Almotriptan"
          ],
          [
           "Veralipride"
          ],
          [
           "Alphameprodine"
          ],
          [
           "Betameprodine"
          ],
          [
           "Trocimine"
          ],
          [
           "Sibutramine"
          ],
          [
           "Zafuleptine"
          ],
          [
           "1-48"
          ],
          [
           "Skb30|Bbcpd20|78273-74-2|Chebi: 338581|B-060|24|16|Acetamide, N-[3-[3-(1-Piperidinylmethyl)Phenoxy]Propyl]-"
          ],
          [
           "S118"
          ],
          [
           "Sultopride"
          ],
          [
           "N-(3,4-Dihydro-2H-Chromen-2-Ylmethyl)-N'-(1,4,5,6-Tetrahydropyrimidin-2-Yl)Propane-1,3-Diamine"
          ],
          [
           "Alniditan Dihydrochloride|Alniditan"
          ],
          [
           "Fursultiamine"
          ],
          [
           "Alpiropride"
          ],
          [
           "Amixetrine"
          ],
          [
           "Venlafaxine"
          ],
          [
           "Embutramide"
          ],
          [
           "Solgol"
          ],
          [
           "Nadolol"
          ],
          [
           "Oxybuprocaine"
          ],
          [
           null
          ],
          [
           "Perindoprilat"
          ],
          [
           "Trospectomycin"
          ],
          [
           "Anisotropine|8,8-Dimethyl-3-[(2-Propylpentanoyl)Oxy]-8-Azoniabicyclo[3.2.1]Octane"
          ],
          [
           "Astromicin"
          ],
          [
           "Diclazuril"
          ],
          [
           "Xantocillin"
          ],
          [
           "Climazolam"
          ],
          [
           "Reclazepam"
          ],
          [
           "Oxiconazole|1-(2,4-Dichlorophenyl)-N-[(2,4-Dichlorophenyl)Methoxy]-2-(1-Imidazolyl)Ethanimine"
          ],
          [
           "Midazolam|59467-70-8|Midazolam Maleate"
          ],
          [
           "(4R)-8-Chloro-6-(2-Fluorophenyl)-1-Methyl-4H-Imidazo[1,5-A][1,4]Benzodiazepin-4-Ol"
          ],
          [
           "1-Hydroxymidazolam|59468-90-5"
          ],
          [
           "Cinolazepam"
          ],
          [
           "Pinazepam"
          ],
          [
           "Bicalutamide"
          ],
          [
           "Sulfasalazine|Sulphasalazine"
          ],
          [
           "Uldazepam"
          ],
          [
           "Cefazedone"
          ],
          [
           "Econazole"
          ],
          [
           "Sulconazole Nitrate|Sulconazole"
          ],
          [
           "Sitaxentan"
          ],
          [
           "Mexazolam"
          ],
          [
           "Proflazepam"
          ],
          [
           "Elliptinium Acetate|Elliptinium"
          ],
          [
           "11|N-[3-(Aminomethyl)Phenyl]Naphthalene-2-Carboxamide"
          ],
          [
           "Amfonelic-Acid|Amfonelic Acid"
          ],
          [
           "Quinacillin"
          ],
          [
           "Ipriflavone"
          ],
          [
           "Phenprocoumon"
          ],
          [
           "Compound-12|5-Chloro-1-(3-Chlorophenyl)Sulfonyl-4-Piperazin-1-Ylindole"
          ],
          [
           "Clazolam"
          ],
          [
           "Girisopam"
          ],
          [
           "Oxazolam"
          ],
          [
           "Arfendazam"
          ],
          [
           "Ridogrel|5-[[Pyridin-3-Yl-[3-(Trifluoromethyl)Phenyl]Methylidene]Amino]Oxypentanoic Acid"
          ],
          [
           "Ridogrel"
          ],
          [
           "47|2-Methyl-6-Oxo-4-(1,2,4,5-Tetrahydro-3-Benzazepin-3-Yl)-1-(2,2,2-Trifluoroethyl)Pyrimidine-5-Carbonitrile"
          ],
          [
           "35|9H-Xanthene-9-Carboxamide, N-[2-(1-Methylethyl)-2H-Tetrazol-5-Yl]-"
          ],
          [
           "Loxapine"
          ],
          [
           "Bishydroxy L-663,581 Metabolite|Bis-Hydroxylated-L-663581"
          ],
          [
           "7-K06"
          ],
          [
           "B-102, Asenapine, Org5222"
          ],
          [
           "Zotepine"
          ],
          [
           "Chlorprothixine|(3E)-3-(2-Chloro-9H-Thioxanthen-9-Ylidene)-N,N-Dimethylpropan-1-Amine"
          ],
          [
           "Chlorprothixene"
          ],
          [
           "9B|(2R)-2-[1-[(4-Fluorophenyl)Methyl]Benzimidazol-2-Yl]Morpholine"
          ],
          [
           "10E|(2R)-2-[1-[(4-Fluorophenyl)Methyl]Benzimidazol-2-Yl]Thiomorpholine"
          ],
          [
           "Klp-440|4-(4-((Dimethylamino)Methyl)Phenyl)-5-Hydroxyisoquinolin-1(2H)-One"
          ],
          [
           "25 Test|2-[[2-(4-Methoxyphenyl)Quinolin-4-Yl]Amino]Ethanol"
          ],
          [
           "Cefamandole"
          ],
          [
           "Cefatrizine"
          ],
          [
           "Ceftriaxone|Ceftriaxone Sodium|(E)-Ceftriaxone"
          ],
          [
           "Dienestrol"
          ],
          [
           "Felodipine"
          ],
          [
           "Almoxatone"
          ],
          [
           "Clozapine"
          ],
          [
           "3-[4-(4-Chloro-Phenyl)-Piperazin-1-Ylmethyl]-Pyrazolo[1,5-A]Pyridine|Pyrazolo[1,5-A]Pyridine, 3-[[4-(4-Chlorophenyl)-1-Piperazinyl]Methyl]-"
          ],
          [
           "Triflupromazine|Trifluopromazine"
          ],
          [
           "Benzoctamine"
          ],
          [
           "Ondansetron"
          ],
          [
           "Cefprozil"
          ],
          [
           "Cefaloglycin|Cephaloglycin"
          ],
          [
           "Skb29|Bbcpd19|112598-49-9|B-059|23|N-[3-[4-[(Dimethylamino)Methyl]Pyridin-2-Yl]Phenyl]-3-Nitro-1H-Pyrrol-2-Amine"
          ],
          [
           "Bis-Hydroxylated-L-663581"
          ],
          [
           "Org32104|129234-06-6|Cid 22154175|B-105, Org32104|Org-32104"
          ],
          [
           "Org32104"
          ],
          [
           "Duloxetine"
          ],
          [
           "Prothixene"
          ],
          [
           "Ofloxacin"
          ],
          [
           "Levofloxacin"
          ],
          [
           "Mianserin|24219-97-4"
          ],
          [
           "Ciclopramine"
          ],
          [
           "Methdilazine"
          ],
          [
           "Equilin"
          ],
          [
           "Diethylstilbestrol"
          ],
          [
           "Sb204484|2-(3,4-Dichlorophenyl)-1-[(8R)-8-(Pyrrolidin-1-Ylmethyl)-6,8-Dihydro-5H-[1,2,4]Triazolo[1,5-A]Pyrazin-7-Yl]Ethanone"
          ],
          [
           "Clomacran"
          ],
          [
           "S-1-Fluorocarazolol|(S)-Flurocarazolol"
          ],
          [
           "Rabeprazole"
          ],
          [
           "Alogliptin"
          ],
          [
           "Bbcpd19"
          ],
          [
           "Revospirone"
          ],
          [
           "Azacyclonol"
          ],
          [
           "Pipradrol"
          ],
          [
           "Naranol"
          ],
          [
           "Hydrocodone"
          ],
          [
           "Isocodeine"
          ],
          [
           "Codeine|76-57-3"
          ],
          [
           "Oxycodone"
          ],
          [
           "Protokylol Hydrochloride|Protokylol"
          ],
          [
           "Phenoxybenzamine Hydrochloride|Phenoxybenzamine"
          ],
          [
           "Chlorphenoxamine"
          ],
          [
           "Delfaprazine"
          ],
          [
           "Sifaprazine"
          ],
          [
           "Mezepine"
          ],
          [
           "Cyclizine"
          ],
          [
           "Desipramine|50-47-5"
          ],
          [
           "9-C17|N,N'-Bis(3-Ethylphenyl)Acetamidine"
          ],
          [
           "1977-15-7|2-Hydroxydesipramine|Zinc 05140934|2-Oh Desm. Imipramine|Zinc-05140934"
          ],
          [
           "Oxomemazine"
          ],
          [
           "Propicillin"
          ],
          [
           "Methopromazine"
          ],
          [
           "Alimemazine|Trimeprazine|Trimeprazine, Alimemazine, Alimezine"
          ],
          [
           "Liv-21|Benzyl 4-[(Pyrimidin-4-Ylamino)Methyl]Piperidine-1-Carboxylate"
          ],
          [
           "Estrone"
          ],
          [
           "Conjugated Estrogens|Sulfuric Acid [(13S)-13-Methyl-17-Oxo-7,8,9,11,12,14,15,16-Octahydro-6H-Cyclopenta[A]Phenanthren-3-Yl] Ester"
          ],
          [
           "Ioflupane"
          ],
          [
           "Robalzotan"
          ],
          [
           "16Alpha-Fluoroestradiol|16Alpha-Fluoro-17Beta-Estradiol"
          ],
          [
           "Atolide"
          ],
          [
           "Fenetylline|Fenethylline"
          ],
          [
           "Cafedrine"
          ],
          [
           "Cefotiam"
          ],
          [
           "Methyldihydromorphine"
          ],
          [
           "Beta-Oxycodol"
          ],
          [
           "Denopamine"
          ],
          [
           "7-K08"
          ],
          [
           "Nonaperone"
          ],
          [
           "Ioversol"
          ],
          [
           "Enalaprilat"
          ],
          [
           "Granisetron"
          ],
          [
           "Estriol"
          ],
          [
           "Sankyo|2-(3,4-Dichlorophenyl)-1-[(2R)-4-Methyl-2-(Pyrrolidin-1-Ylmethyl)Piperazin-1-Yl]Ethanone"
          ],
          [
           "Org13011|142494-12-0|Chebi: 568728|B-104, Org13011|Org-13011|2-Pyrrolidinone, 1-(4-(4-(4-(Trifluoromethyl)-2-Pyridinyl)-1-Piperazinyl)Butyl)-"
          ],
          [
           "Dimemorfan"
          ],
          [
           "Saxagliptin|2-[2-Amino-2-(3-Hydroxy-1-Adamantyl)Acetyl]-2-Azabicyclo[3.1.0]Hexane-3-Carbonitrile"
          ],
          [
           "Azaloxan"
          ],
          [
           "Skb37|Bbcpd24|104076-45-1|Chebi: 338961|B-064, Skb-37|28|20|2-[3-[3-(Piperidinomethyl)Phenoxy]Propylamino]Thiazole"
          ],
          [
           "Gloximonam"
          ],
          [
           "Cyclazocine"
          ],
          [
           "Levomethorphan|Racemethorphan"
          ],
          [
           "Dextromethorphan"
          ],
          [
           "(1R,9R,10S)-4-Methoxy-17-Methyl-17-Azatetracyclo[7.5.3.01,10.02,7]Heptadeca-2(7),3,5-Triene"
          ],
          [
           "Atromepine"
          ],
          [
           "Ici197067|1-[(2S)-2-[Methyl[(3,4-Dichlorophenyl)Acetyl]Amino]-3-Methylbutyl]Pyrrolidine"
          ],
          [
           "Hydroxychloroquine"
          ],
          [
           "Prucalopride"
          ],
          [
           "Proglumide"
          ],
          [
           "Tandamine"
          ],
          [
           "Nandrolone"
          ],
          [
           "Tertbutylchlorambucil|Chlorambucil-Tertiary Butyl Ester|Chlorambucil-T-Butylester"
          ],
          [
           "4-Iodo-Alpha,Alpha'-Dipiperidino-M-Xylene|Chebi: 385616|1-[[2-Iodo-5-(Piperidin-1-Ylmethyl)Phenyl]Methyl]Piperidine"
          ],
          [
           "Dyclonine"
          ],
          [
           "Propanidid"
          ],
          [
           "Clofenciclan"
          ],
          [
           "Bambuterol"
          ],
          [
           "Lenapenem"
          ],
          [
           "63659-18-7|Betaxolol|Betaxolol Hydrochloride"
          ],
          [
           "Clindamycin"
          ],
          [
           "Clindamycin Phosphate|[6-[2-Chloro-1-[(1-Methyl-4-Propylpyrrolidine-2-Carbonyl)Amino]Propyl]-4,5-Dihydroxy-2-Methylsulfanyloxan-3-Yl] Dihydrogen Phosphate"
          ],
          [
           "Lincomycin|Lincomycin Hydrochloride"
          ],
          [
           "Ethanolamine Oleate"
          ],
          [
           "Kanamycin|Kanamycin Sulfate"
          ],
          [
           "Dibekacin"
          ],
          [
           "Tobramycin"
          ],
          [
           "Dicumarol"
          ],
          [
           "Diacerein"
          ],
          [
           "Talazoparib"
          ],
          [
           "Rebamipide"
          ],
          [
           "Tosufloxacin"
          ],
          [
           "Flutoprazepam"
          ],
          [
           "Indomethacin|Indometacin"
          ],
          [
           "Benzobarbital"
          ],
          [
           "S-Warfarin|(S)-Warfarin"
          ],
          [
           "Dicloxacillin|Dicloxacillin Sodium"
          ],
          [
           "Butoconazole"
          ],
          [
           "Flucloxacillin|Floxacillin"
          ],
          [
           "Prazepam"
          ],
          [
           "Cefaloridine|Cephaloridine"
          ],
          [
           "Ceftiofur"
          ],
          [
           "Cefozopran"
          ],
          [
           "Nedocromil"
          ],
          [
           "Ciprazafone"
          ],
          [
           "Prazocillin"
          ],
          [
           "Flutazolam"
          ],
          [
           "Cyprazepam"
          ],
          [
           "Camazepam"
          ],
          [
           "Cloxacillin|Cloxacillin Sodium"
          ],
          [
           "Rivaroxaban"
          ],
          [
           "Clopipazan"
          ],
          [
           "2-[(2S,3R)-1-(4-Chlorobenzoyl)-5-Methoxy-2-Methyl-2,3-Dihydroindol-3-Yl]Acetic Acid"
          ],
          [
           "Cimoxatone"
          ],
          [
           "21-Methyl-3,13-Diaza-21-Azoniapentacyclo[11.8.0.02,10.04,9.015,20]Henicosa-1(21),4,6,8,15,17,19-Heptaen-14-One"
          ],
          [
           "Ilaprazole"
          ],
          [
           "Cefcanel"
          ],
          [
           "Cefamandole Nafate|O-Formylcefamandole"
          ],
          [
           "Berupipam"
          ],
          [
           "Phenindamine"
          ],
          [
           "Perafensine"
          ],
          [
           "Oxacillin|Oxacillin Sodium"
          ],
          [
           "Cefaparole"
          ],
          [
           "Maroxepin"
          ],
          [
           "Ketotifen"
          ],
          [
           "Pimethixene"
          ],
          [
           "84379-13-5|Bretazenil"
          ],
          [
           "Tert-Butyl 15-Bromo-12-Oxo-2,4,11-Triazatetracyclo[11.4.0.02,6.07,11]Heptadeca-1(17),3,5,13,15-Pentaene-5-Carboxylate"
          ],
          [
           "Losindole"
          ],
          [
           "Saripidem"
          ],
          [
           "Bezafibrate"
          ],
          [
           "Morniflumate"
          ],
          [
           "Benfluorex"
          ],
          [
           "Fluperlapine"
          ],
          [
           "Gevotroline"
          ],
          [
           "1-[(4-Fluorophenyl)Methyl]-2-[(3R)-Piperidin-3-Yl]Benzimidazole"
          ],
          [
           "Paroxetine"
          ],
          [
           "Paroxetine, Paxil|(4R)-3-(1,3-Benzodioxol-5-Yloxymethyl)-4-(4-Fluorophenyl)Piperidine"
          ],
          [
           "Phenylbutazone"
          ],
          [
           "Dmxba, Gts-21|(3E)-3-[(2,4-Dimethoxyphenyl)Methylidene]-5,6-Dihydro-4H-2,3'-Bipyridine"
          ],
          [
           "Oxyphenbutazone"
          ],
          [
           "Pioglitazone"
          ],
          [
           "Minozac, Mw01-2-151Srm|Minozac Free Base"
          ],
          [
           "Besifloxacin"
          ],
          [
           "Trifluomeprazine"
          ],
          [
           "Nadifloxacin"
          ],
          [
           "Pridefine"
          ],
          [
           "Indriline"
          ],
          [
           "Protriptyline"
          ],
          [
           "Nortriptyline"
          ],
          [
           "82626-48-0|Zolpidem"
          ],
          [
           "Cyamemazine"
          ],
          [
           "Prazosin"
          ],
          [
           "Doxepine|Doxepin|Sinequan"
          ],
          [
           "Cidoxepin|Doxepin"
          ],
          [
           "B-101, Beloxepin|2,10-Dimethyl-1,3,4,13B-Tetrahydrodibenzo[2,3:6,7]Oxepino[4,5-C]Pyridin-4A(2H)-Ol"
          ],
          [
           "Beloxepin|135928-30-2|Org4428"
          ],
          [
           "Dimeprozan"
          ],
          [
           "Oxitriptyline"
          ],
          [
           "Nalorphine"
          ],
          [
           "Spiroxepin"
          ],
          [
           "Thebaine"
          ],
          [
           "Naloxone"
          ],
          [
           "Pizotifen"
          ],
          [
           "Brl52974|2-(3,4-Dichlorophenyl)-1-[(4R)-4-(Pyrrolidin-1-Ylmethyl)-1,4,6,7-Tetrahydroimidazo[4,5-C]Pyridin-5-Yl]Ethanone"
          ],
          [
           "Sb201708|2-(3,4-Dichlorophenyl)-1-[(8R)-8-(Pyrrolidin-1-Ylmethyl)-6,8-Dihydro-5H-Imidazo[1,2-A]Pyrazin-7-Yl]Ethanone"
          ],
          [
           "Sb205605"
          ],
          [
           "Sb204459|2-(3,4-Dichlorophenyl)-1-[(8R)-8-[[(3R)-3-Hydroxypyrrolidin-1-Yl]Methyl]-6,8-Dihydro-5H-Imidazo[1,2-A]Pyrazin-7-Yl]Ethanone"
          ],
          [
           "Trazodone"
          ],
          [
           "Sparfloxacin"
          ],
          [
           "Alpelisib"
          ],
          [
           "Azaperone"
          ],
          [
           "Gatifloxacin"
          ],
          [
           "Triprolidine"
          ],
          [
           "Depramine"
          ],
          [
           "Amedalin"
          ],
          [
           "Ketimipramine"
          ],
          [
           "Hydroxindasol"
          ],
          [
           "Penamecillin"
          ],
          [
           "Aceprometazine"
          ],
          [
           "Acepromazine"
          ],
          [
           "Tiazesim"
          ],
          [
           "Dimelazine"
          ],
          [
           "Pecazine"
          ],
          [
           "Cefoselis|(6R,7R)-3-[[3-Amino-2-(2-Hydroxyethyl)Pyrazol-1-Ium-1-Yl]Methyl]-7-[[(2E)-2-(2-Amino-1,3-Thiazol-4-Yl)-2-Methoxyiminoacetyl]Amino]-8-Oxo-5-Thia-1-Azabicyclo[4.2.0]Oct-2-Ene-2-Carboxylate"
          ],
          [
           "Clomipramine"
          ],
          [
           "Homochlorcyclizine"
          ],
          [
           "Roxoperone"
          ],
          [
           "37|6-[4-(4-Fluorophenyl)Piperidin-1-Yl]-3-(2-Methoxyethyl)-2-Methyl-5-Nitropyrimidin-4-One"
          ],
          [
           "Binedaline"
          ],
          [
           null
          ],
          [
           "Liv-13|N-[(1-Cbz-4-Piperidyl)Methyl]Pyridin-4-Amine"
          ],
          [
           "Hetacillin"
          ],
          [
           "Oxetacillin"
          ],
          [
           "Benfotiamine|S-Benzoylthiamine O-Monophosphate"
          ],
          [
           "Ipsapirone"
          ],
          [
           "Tetrahydrofolic Acid"
          ],
          [
           "Diphenylpyraline"
          ],
          [
           "Trimopam"
          ],
          [
           "Meprotixol"
          ],
          [
           "Reboxetine"
          ],
          [
           "Mecloxamine"
          ],
          [
           "Daledalin"
          ],
          [
           "Monometacrine"
          ],
          [
           "Prazepine"
          ],
          [
           "Imipramine|113-52-0|8"
          ],
          [
           "Pfizer Compound 5|Cp 100263 Dihydrochloride Hydrate"
          ],
          [
           "145148-39-6|(2S,3S)-3-(2-Methoxybenzylamino)-2-Phenylpiperidine"
          ],
          [
           "Palonosetron"
          ],
          [
           "Labetalol"
          ],
          [
           "Formoterol"
          ],
          [
           "Tolamolol"
          ],
          [
           "Furbucillin"
          ],
          [
           "Levomepromazine|Methotrimeprazine"
          ],
          [
           "Profenamine|Ethopropazine"
          ],
          [
           "Cefepime|Cefepime, E-"
          ],
          [
           "Testolactone"
          ],
          [
           "Gr85571|1-[(2S)-4-Acetyl-2-(Pyrrolidin-1-Ylmethyl)Piperazin-1-Yl]-2-(3,4-Dichlorophenyl)Ethanone"
          ],
          [
           "Gr94839|4-Acetyl-1-((3,4-Dichlorophenyl)Acetyl)-2-((3-Hydroxy-1-Pyrrolidinyl)Methyl)Piperazine"
          ],
          [
           "Gr89696|Methyl 4-[2-(3,4-Dichlorophenyl)Acetyl]-3-(Pyrrolidin-1-Ylmethyl)Piperazine-1-Carboxylate"
          ],
          [
           "Gr94839_C|1-[(2S)-4-Acetyl-2-[[(3R)-3-Hydroxypyrrolidin-1-Yl]Methyl]Piperazin-1-Yl]-2-(3,5-Difluorophenyl)Ethanone"
          ],
          [
           "Brl52656|1-(2-Pyrrolidin-1-Ylmethyl-Piperidin-1-Yl)-2-(4-Trifluoromethyl-Phenyl)-Ethanone"
          ],
          [
           "Toprilidine"
          ],
          [
           "Aminopromazine"
          ],
          [
           "Terazosin"
          ],
          [
           "Levallorphan"
          ],
          [
           "Hexapradol"
          ],
          [
           "Alentemol"
          ],
          [
           "Nylidrin"
          ],
          [
           "Proxorphan"
          ],
          [
           "Dopamantine"
          ],
          [
           "Mitiglinide"
          ],
          [
           "Rotigotine"
          ],
          [
           "U-50488|U50488|U50,488|Trans-3,4-Dichloro-N-Methyl-N-[2-(1-Pyrrolidinyl)Cyclohexyl]-Benzeneacetamide"
          ],
          [
           "Iohexol"
          ],
          [
           "Pergolide"
          ],
          [
           null
          ],
          [
           "Gr94839_G|1-[(2S)-4-Acetyl-2-[[(3S)-3-Hydroxypyrrolidin-1-Yl]Methyl]Piperazin-1-Yl]-2-(3-Nitrophenyl)Ethanone"
          ],
          [
           "Gr94839_E|1-[(2S)-4-Acetyl-2-[[(3S)-3-Hydroxypyrrolidin-1-Yl]Methyl]Piperazin-1-Yl]-2-(4-Nitrophenyl)Ethanone"
          ],
          [
           "Ricasetron"
          ],
          [
           "Amantocillin"
          ],
          [
           "Dofetilide"
          ],
          [
           "Dapiprazole"
          ],
          [
           "Irie-13B|2-Cyano-4-(2-Hydroxyethoxy)-N-Methyl-6-(Spiro[3.5]Nonan-7-Ylmethylamino)Pyrimidine-5-Carboxamide"
          ],
          [
           "Alfuzosin"
          ],
          [
           "Nifekalant Hydrochloride|Nifekalant"
          ],
          [
           "Talwin"
          ],
          [
           "Pentazocine"
          ],
          [
           "Tetrabenazine|Tetrabenzine"
          ],
          [
           "Nateglinide"
          ],
          [
           "Drotebanol"
          ],
          [
           "Cinoctramide"
          ],
          [
           "Etoperidone"
          ],
          [
           "Iprindole"
          ],
          [
           "Roxatidine Acetate"
          ],
          [
           "15"
          ],
          [
           "Etisulergine"
          ],
          [
           "Glycopyrrolate|Glycopyrronium Bromide"
          ],
          [
           "17-Hydroxyandrost-4-En-3-One"
          ],
          [
           "Testosterone"
          ],
          [
           "Iophendylate|Ethyl 10-(2-Iodophenyl)Undecanoate"
          ],
          [
           "Gepirone"
          ],
          [
           "Procyclidine Hydrochloride|Procyclidine"
          ],
          [
           "Dipivefrine|Dipivefrin"
          ],
          [
           "Tisocromide"
          ],
          [
           "Idebenone"
          ],
          [
           "Decimemide"
          ],
          [
           "Mirincamycin"
          ],
          [
           "Dicyclomine Hydrochloride|Dicyclomine"
          ],
          [
           "Phenolphthalein"
          ],
          [
           "Etravirine"
          ],
          [
           "Sertaconazole"
          ],
          [
           "210879-61-1|2-(2-Oxopropyl)-6-(2-Phenylpyrazolo[1,5-A]Pyridin-3-Yl)Pyridazin-3-One"
          ],
          [
           "Ketazolam"
          ],
          [
           "Floctafenine"
          ],
          [
           "8"
          ],
          [
           "Cefalonium"
          ],
          [
           "Ceftiolene|Cefatiolene"
          ],
          [
           "Pivoxazepam"
          ],
          [
           "Satigrel"
          ],
          [
           "Benzaprinoxide"
          ],
          [
           "Prasugrel"
          ],
          [
           "Befuraline"
          ],
          [
           "Cefodizime"
          ],
          [
           "Dinazafone"
          ],
          [
           "Fipexide"
          ],
          [
           "Mchr Antagonist 19|Compound-19|N-(1-(Benzo[D][1,3]Dioxol-5-Ylmethyl)Piperidin-4-Yl)-5-Chloro-1H-Indazol-3-Amine"
          ],
          [
           "Fenofibrate"
          ],
          [
           "Fluacizine"
          ],
          [
           "Citalopram|Citalopram/Escitalopram"
          ],
          [
           "Escitalopram"
          ],
          [
           "Sb 239063|Cyclohexanol, 4-(4-(4-Fluorophenyl)-5-(2-Methoxy-4-Pyrimidinyl)-1H-Imidazol-1-Yl)-, Trans-"
          ],
          [
           "Cyclobenzaprine|Cyclobenzaprine, Mk 130"
          ],
          [
           "Octriptyline"
          ],
          [
           "Imidafenacin"
          ],
          [
           "28"
          ],
          [
           "Pemetrexed"
          ],
          [
           "Ceforanide"
          ],
          [
           "Cotriptyline"
          ],
          [
           "Danitracen"
          ],
          [
           "Papaverine"
          ],
          [
           "Gr88377|2-(3,4-Dichlorophenyl)-1-[(4S)-4-(Pyrrolidin-1-Ylmethyl)-6,7-Dihydro-4H-Furo[3,2-C]Pyridin-5-Yl]Ethanone"
          ],
          [
           "Gr91272|2-(3,4-Dichloro-Phenyl)-1-[(S)-4-((R)-3-Hydroxy-Pyrrolidin-1-Ylmethyl)-6,7-Dihydro-4H-Furo[3,2-C]Pyridin-5-Yl]-Ethanone"
          ],
          [
           "Dulozafone"
          ],
          [
           "Brl52871|2-(3,4-Dichlorophenyl)-1-[(4S)-4-(Pyrrolidin-1-Ylmethyl)-6,7-Dihydro-4H-Thieno[3,2-C]Pyridin-5-Yl]Ethanone"
          ],
          [
           "Amodiaquine"
          ],
          [
           "Sb-271406|5-Chloro-N-(4-Methoxy-3-(Piperazin-1-Yl)Phenyl)-3-Methylbenzo[B]Thiophene-2-Sulfonamide"
          ],
          [
           "Cmpd 31|4-[[1-(2-(2,4-Difluorophenyl)Ethyl)-4-Piperidinyl]Sulfonyl]Benzamide"
          ],
          [
           "2|(R)-1-(4-Fluorobenzyl)-2-(1-Methylpiperidin-3-Yl)-1H-Benzo[D]Imidazole"
          ],
          [
           "Erizepine"
          ],
          [
           "Azatadine"
          ],
          [
           "Metoxepin"
          ],
          [
           "Cefuroxime-Axetil|Cefuroxime Axetil"
          ],
          [
           "Cefuroxime Axetil|Cefuroxime Axetil, (E)-"
          ],
          [
           "Cefrotil"
          ],
          [
           "145877-52-7|Cp-122721|(2S,3S)-N-(2-Methoxy-5-(Trifluoromethoxy)Benzyl)-2-Phenylpiperidin-3-Amine"
          ],
          [
           "Litracen"
          ],
          [
           "Maprotiline"
          ],
          [
           "Cianopramine"
          ],
          [
           "Fezolamine"
          ],
          [
           "Phenserine"
          ],
          [
           "Oxiperomide"
          ],
          [
           "Ro65-7674|10-(Benzenesulfonyl)-11-Methylsulfanyl-2-Piperazin-1-Yl-1,8,12-Triazatricyclo[7.3.0.03,7]Dodeca-2,7,9,11-Tetraene"
          ],
          [
           "Azlocillin"
          ],
          [
           "Nafenodone"
          ],
          [
           "Amitriptylinoxide"
          ],
          [
           "Levoprotiline"
          ],
          [
           "Dexoxadrol|Dioxadrol"
          ],
          [
           "Levoxadrol"
          ],
          [
           "Thebacon|Acetyldihydrocodeinone"
          ],
          [
           "Metixene"
          ],
          [
           "Sb204454"
          ],
          [
           "Sb204457"
          ],
          [
           "Prochlorperazine"
          ],
          [
           "Flutizenol"
          ],
          [
           "Flubepride"
          ],
          [
           "Diphemanil Methylsulfate|Diphemanil"
          ],
          [
           "Dimethindene"
          ],
          [
           "Enprazepine"
          ],
          [
           "Indecainide Hydrochloride|Indecainide"
          ],
          [
           "Cinchonan-9-Ol, 6'-Methoxy-, (8Alpha,9R)-"
          ],
          [
           "Lucanthone"
          ],
          [
           "Propiomazine"
          ],
          [
           "Methiothepin"
          ],
          [
           "Northioridazine|2-(Methylsulfanyl)-10-[2-(Piperidin-3-Yl)Ethyl]-10H-Phenothiazine"
          ],
          [
           "10538-32-6|Northioridazine"
          ],
          [
           "28|2-[5-[3-[(Dimethylamino)Methyl]Phenyl]-3-(4-Methoxyphenyl)-1,2,4-Triazol-1-Yl]Ethanol"
          ],
          [
           "Bbcpd60"
          ],
          [
           "Exemestane"
          ],
          [
           "Ethinyl Estradiol|Ethinylestradiol"
          ],
          [
           "Mefeclorazine"
          ],
          [
           "Niaprazine"
          ],
          [
           "Methylergonovine"
          ],
          [
           "Perazine"
          ],
          [
           "Cefetamet Pivoxil|Cefetametpivoxil|Cefetamet Pivoxyl"
          ],
          [
           "Pf-4447943|6-((3S,4S)-4-Methyl-1-(Pyrimidin-2-Ylmethyl)Pyrrolidin-3-Yl)-1-(Tetrahydro-2H-Pyran-4-Yl)-1,5-Dihydro-4H-Pyrazolo(3,4-D)Pyrimidin-4-One"
          ],
          [
           "22|N-Hexyl-2,2-Diphenylacetamide"
          ],
          [
           "Normethadone"
          ],
          [
           "Dienogest"
          ],
          [
           "(3-Ethyl-2-Methylquinolin-6-Yl)-(4-Methoxycyclohexyl)Methanone"
          ],
          [
           "Ketorfanol"
          ],
          [
           "Tiagabine|Tigabine"
          ],
          [
           "Benactyzine"
          ],
          [
           "Talsupram"
          ],
          [
           "Adafenoxate"
          ],
          [
           "Gr94839_A|1-[(2S)-4-Acetyl-2-[[(3R)-3-Hydroxypyrrolidin-1-Yl]Methyl]Piperazin-1-Yl]-2-[4-(Trifluoromethyl)Phenyl]Ethanone"
          ],
          [
           "Trimipramine"
          ],
          [
           "Ivoqualine"
          ],
          [
           "Ajmaline"
          ],
          [
           "145741-95-3|Pfizer Compound 12|N-[(2-Methoxy-5-Methylsulfonylphenyl)Methyl]-2-Phenylpiperidin-3-Amine"
          ],
          [
           "Binospirone"
          ],
          [
           "Etymemazine"
          ],
          [
           "Lisuride|Lysuride"
          ],
          [
           "Glisolamide"
          ],
          [
           "Norethindrone"
          ],
          [
           "Skb36|Bbcpd23|104076-40-6|Chebi: 338033|B-063|27|19|2-Pyridinamine, N-[3-[3-(1-Piperidinylmethyl)Phenoxy]Propyl]-"
          ],
          [
           "Imidapril Hydrochloride|Imidapril"
          ],
          [
           "Cilostazol"
          ],
          [
           "Glisoxepide"
          ],
          [
           "Oxilorphan"
          ],
          [
           "Trilostane"
          ],
          [
           "Bevantolol"
          ],
          [
           "Brl53087|2-(3,4-Dichlorophenyl)-1-[(2R)-4,4-Dimethyl-2-(Pyrrolidin-1-Ylmethyl)Piperidin-1-Yl]Ethanone"
          ],
          [
           "Enalapril"
          ],
          [
           "Terguride"
          ],
          [
           "3,7-Dimethyl-9-(2,6,6-Trimethylcyclohex-1-En-1-Yl)Nona-2,4,6,8-Tetraenoic Acid"
          ],
          [
           "Tretinoin"
          ],
          [
           "Isotretinoin"
          ],
          [
           "Ecabet"
          ],
          [
           "Piperazinederivatives 6|N-[4-[2-[4-(2,3-Dichlorophenyl)Piperazin-1-Yl]Ethyl]Cyclohexyl]Acetamide"
          ],
          [
           "Brifentanil"
          ],
          [
           "Fluoxymesterone"
          ],
          [
           "Dibucaine"
          ],
          [
           "Gr94839_B|1-[(2S)-4-Acetyl-2-[[(3R)-3-Hydroxypyrrolidin-1-Yl]Methyl]Piperazin-1-Yl]-2-(4-Methylsulfanylphenyl)Ethanone"
          ],
          [
           "Gr94839_D|1-[(2S)-4-Acetyl-2-[[(3R)-3-Hydroxypyrrolidin-1-Yl]Methyl]Piperazin-1-Yl]-2-(3-Methoxyphenyl)Ethanone"
          ],
          [
           "Gr94839_F|1-[(2S)-4-Acetyl-2-[[(3R)-3-Hydroxypyrrolidin-1-Yl]Methyl]Piperazin-1-Yl]-2-(4-Methoxyphenyl)Ethanone"
          ],
          [
           "Gr94839_I"
          ],
          [
           "Urapidil"
          ],
          [
           "Bremazocine|6-Ethyl-1,2,3,4,5,6-Hexahydro-3-[(1-Hydroxycyclopropyl)Methyl]-11,11-Dimethyl-2,6-Methano-3-Benzazocin-8-Ol"
          ],
          [
           "Sultroponium"
          ],
          [
           "Ipratropiumbromide|Atrovent"
          ],
          [
           "Methyltestosterone|Androsan"
          ],
          [
           "Bacmecillinam"
          ],
          [
           "Benzhexol|Trihexyphenidyl"
          ],
          [
           "Lubiprostone"
          ],
          [
           "Adefovir Dipivoxil"
          ],
          [
           "Ethylestrenol"
          ],
          [
           "Drostanolone"
          ],
          [
           "Hexocyclium Methylsulfate|Hexocyclium"
          ],
          [
           "Talinolol"
          ],
          [
           "Quinagolide"
          ],
          [
           "Celiprolol"
          ],
          [
           "Stacofylline"
          ],
          [
           "Alprostadil"
          ],
          [
           "25|4-[7-(2-Fluoro-Phenyl)-4-Oxo-4,5-Dihydro-3H-Benzo[B][1,4]Diazepin-2-Yl]-Pyridine-2-Carbonitrile"
          ],
          [
           "L-701,324|7-Chloro-4-Hydroxy-3-(3-Phenoxyphenyl)Quinolin-2(1H)-One"
          ],
          [
           "Regorafenib"
          ],
          [
           "Deferasirox"
          ],
          [
           "Cefoxazole"
          ],
          [
           "Acemetacin"
          ],
          [
           "Temafloxacin"
          ],
          [
           "Difloxacin"
          ],
          [
           "Intriptyline"
          ],
          [
           "Amsacrine"
          ],
          [
           "Gw406381|2-(4-Ethoxyphenyl)-3-[4-(Methylsulfonyl)Phenyl]Pyrazolo[1,5-B]Pyridazine"
          ],
          [
           "210880-09-4|Compound 17|N,N-Dimethyl-2-[6-Oxo-3-(2-Phenylpyrazolo[1,5-A]Pyridin-3-Yl)Pyridazin-1-Yl]Acetamide"
          ],
          [
           "Cyprolidol|Cyclopropanemethanol, Alpha,Alpha-Diphenyl-2-(4-Pyridyl)-, Hydrochloride"
          ],
          [
           "Rilmazafone"
          ],
          [
           "Permethrin"
          ],
          [
           "Nuclotixene"
          ],
          [
           "Ms-275|Entinostat"
          ],
          [
           "Afe|Afzelin"
          ],
          [
           "Cyanidin 3-O-Glucoside|Kuromanin"
          ],
          [
           "Isoquercitrin|Isoquercetin"
          ],
          [
           "Alozafone"
          ],
          [
           "Pk-11195|Pk 11195|1-(2-Chlorophenyl)-N-Methyl-N-(1-Methylpropyl)-3-Isoquinolinecarboxamide"
          ],
          [
           "Iclazepam"
          ],
          [
           "Demeclocycline|Demeclocycline Hydrochloride"
          ],
          [
           "Nizofenone"
          ],
          [
           "Ziprasidone"
          ],
          [
           "Cyproheptadine"
          ],
          [
           "Fumoxicillin"
          ],
          [
           "Nitrocycline"
          ],
          [
           "Tiomergine"
          ],
          [
           "Tazarotene"
          ],
          [
           "Crizotinib"
          ],
          [
           "Halopemide"
          ],
          [
           "Axamozide"
          ],
          [
           "Bms-279700|Imidazo(1,5-A)Pyrido(3,2-E)Pyrazin-6-Amine, N-(2-Chloro-6-Methylphenyl)-2-((3S)-3-Methyl-1-Piperazinyl)-"
          ],
          [
           "Ftormetazine"
          ],
          [
           "Demecycline"
          ],
          [
           "Raltitrexed"
          ],
          [
           "Clevidipine"
          ],
          [
           "52-86-8|Haloperidol"
          ],
          [
           "Cloperidone"
          ],
          [
           "Gr 205171, Vofopitant|N-[[2-Methoxy-5-[5-(Trifluoromethyl)Tetrazol-1-Yl]Phenyl]Methyl]-2-Phenylpiperidin-3-Amine"
          ],
          [
           "Amicycline"
          ],
          [
           "Lenampicillin|Lenampicillin Hydrochloride"
          ],
          [
           "Periciazine|Pericyazine"
          ],
          [
           "Dapoxetine"
          ],
          [
           "Ecadotril"
          ],
          [
           "Diacetylmorphine|Diamorphine|Heroin"
          ],
          [
           "Ici199441|2-(3,4-Dichlorophenyl)-N-Methyl-N-[(1S)-1-Phenyl-2-Pyrrolidin-1-Ylethyl]Acetamide"
          ],
          [
           "Sya013|4-[4-(4-Chlorophenyl)-1,4-Diazepan-1-Yl]-1-(4-Fluorophenyl)Butan-1-One"
          ],
          [
           "Fominoben"
          ],
          [
           "Fluotracen|Fluotracene"
          ],
          [
           "Trifluroperazine"
          ],
          [
           "Setoperone"
          ],
          [
           "Moxifloxacin Hydrochloride|Moxifloxacin"
          ],
          [
           "Quinupramine"
          ],
          [
           "Rauwolfia Serpentina|Lamuran"
          ],
          [
           "Mirabegron"
          ],
          [
           "Acefurtiamine"
          ],
          [
           "Gestrinone"
          ],
          [
           "Halopredone"
          ],
          [
           "Bepotastine"
          ],
          [
           "83881-51-0|Cetirizine"
          ],
          [
           "Levocetirizine"
          ],
          [
           "Chloroprednisone"
          ],
          [
           "Cloprednol"
          ],
          [
           "Melitracen"
          ],
          [
           "Terbinafine|91161-71-6"
          ],
          [
           "190275-53-7|Pfizer Compound 19|N-[(6-Methoxy-2-Methyl-1,3-Benzoxazol-5-Yl)Methyl]-2-Phenylpiperidin-3-Amine"
          ],
          [
           "Quetiapine"
          ],
          [
           "163257-80-5|Pfizer Compound 17|N-[(6-Methoxy-2-Methyl-1,3-Benzothiazol-5-Yl)Methyl]-2-Phenylpiperidin-3-Amine"
          ],
          [
           "71351-79-6|Icotidine|B-039, Icotidine|Skf 93319|3"
          ],
          [
           "Mezlocillin"
          ],
          [
           "Hepzidine"
          ],
          [
           "Benzatropine|Benztropine"
          ],
          [
           "Nalmefene"
          ],
          [
           "Pipethanate|Piperilate"
          ],
          [
           "Nalmexone"
          ],
          [
           "Methylnaltrexone Bromide|Methylnaltrexone"
          ],
          [
           "Tetrahydropalmatine"
          ],
          [
           "(+)-Tetrahydropalmatine|D-Tetrahydropalmatine"
          ],
          [
           "Dichlorisone"
          ],
          [
           "Nemonapride|(2S,3S)-Nemonapride"
          ],
          [
           "Nemonapride"
          ],
          [
           "Perphenazine"
          ],
          [
           "Clemastine"
          ],
          [
           "Fluocinolone"
          ],
          [
           "Lorpiprazole"
          ],
          [
           null
          ],
          [
           "Sulforidazine|14759-06-9"
          ],
          [
           "Yohimbine"
          ],
          [
           "Vincamine"
          ],
          [
           "Nimodipine"
          ],
          [
           "Oxyridazine"
          ],
          [
           "32672-69-8|Mesoridazine"
          ],
          [
           "Thioridazine|50-52-2"
          ],
          [
           "Skb25|112598-43-3|Bbcpd60|Chebi: 338035|21|4-Benzyl-N-[2-[[5-[(Dimethylamino)Methyl]Furan-2-Yl]Methylsulfanyl]Ethyl]-3-Nitro-1H-Pyrrol-2-Amine"
          ],
          [
           "Cefclidin"
          ],
          [
           "Mepenzolate Bromide|Mepenzolate"
          ],
          [
           "Methantheline Bromide|Methantheline"
          ],
          [
           "Gestodene"
          ],
          [
           "Mestranol"
          ],
          [
           "Prednisone"
          ],
          [
           "Hydroxyzine|68-88-2"
          ],
          [
           "(S)-Hydroxyzine"
          ],
          [
           "Loteprednol"
          ],
          [
           "Anisopirol"
          ],
          [
           "Descinolone"
          ],
          [
           "Isoflupredone"
          ],
          [
           "Butriptyline"
          ],
          [
           "Budipine"
          ],
          [
           "Rimcazole"
          ],
          [
           "Emd60400"
          ],
          [
           "Methysergide"
          ],
          [
           "Sarmoxicillin"
          ],
          [
           "Bacampicillin Hydrochloride|Bacampicillin"
          ],
          [
           "B-057"
          ],
          [
           "Lupitidine|Lupitidinum|2-[2-[[5-(2-Aminopropan-2-Yl)Furan-2-Yl]Methylsulfanyl]Ethylamino]-5-[(6-Methylpyridin-3-Yl)Methyl]-1H-Pyrimidin-6-One"
          ],
          [
           "Lupitidine|83903-06-4|B-041, Lupitidine"
          ],
          [
           "Glipizide"
          ],
          [
           "Aspoxicillin"
          ],
          [
           "Methadone"
          ],
          [
           "Ifenprodil"
          ],
          [
           "Propafenone"
          ],
          [
           "Nalbuphine"
          ],
          [
           "Dydrogesterone"
          ],
          [
           "Norgestrel|Ovrette"
          ],
          [
           "Levonorgestrel|Norgestrel"
          ],
          [
           "Tibolon|17-Hydroxy-7Alpha-Methyl-19-Nor-17Alpha-Pregn-5(10)-En-20-Yn-3-One"
          ],
          [
           "Tibolone|5630-53-5"
          ],
          [
           "Prednisolone"
          ],
          [
           "Aldosterone"
          ],
          [
           "Gr89696_Pr|Propyl (3S)-4-[2-(3,4-Dichlorophenyl)Acetyl]-3-(Pyrrolidin-1-Ylmethyl)Piperazine-1-Carboxylate"
          ],
          [
           "Fluciprazine"
          ],
          [
           "Fenaperone"
          ],
          [
           "Fludrocortisone"
          ],
          [
           "Disopyramide"
          ],
          [
           "5"
          ],
          [
           "8-5"
          ],
          [
           "Bufenadrine"
          ],
          [
           "Betamethadol"
          ],
          [
           "Alphamethadol"
          ],
          [
           "Biperiden|Biperidine"
          ],
          [
           "Norelgestromin|E-17-Deacetylnorgestimate"
          ],
          [
           "Butorphanol"
          ],
          [
           "Captodiame"
          ],
          [
           "Pipamperone"
          ],
          [
           "Docarpamine"
          ],
          [
           "Cannabidiol"
          ],
          [
           "Algestone"
          ],
          [
           "Cortodoxone Cortifen|Cortodoxone"
          ],
          [
           "Epicorticosterone"
          ],
          [
           "Corticosterone"
          ],
          [
           null
          ],
          [
           "Piperazinederivatives 7|N-[4-[2-[4-(2,3-Dichlorophenyl)Piperazin-1-Yl]Ethyl]Cyclohexyl]Propanamide"
          ],
          [
           "Lisinopril"
          ],
          [
           "Adatanserin"
          ],
          [
           "Buspirone"
          ],
          [
           "Stanozolol"
          ],
          [
           "77-Lh-28-1|1-[3-(4-Butylpiperidin-1-Yl)Propyl]-3,4-Dihydroquinolin-2-One"
          ],
          [
           "Alfentanil|Alfentanil Hydrochloride"
          ],
          [
           "Allylestrenol"
          ],
          [
           "Cyclopregnol"
          ],
          [
           "Pregnenolone"
          ],
          [
           "Alfaxalone"
          ],
          [
           "Renanolone"
          ],
          [
           "Alfadolone"
          ],
          [
           "Eptastigmine"
          ],
          [
           "Ramciclane"
          ],
          [
           "Sameridine"
          ],
          [
           "Oxyphenonium Bromide|Oxyphenonium"
          ],
          [
           "Pregnanolone"
          ],
          [
           "Tridihexethyl Chloride|Tridihexethyl"
          ],
          [
           "Apramycin"
          ],
          [
           "Dihydrostreptomycin"
          ],
          [
           "Propikacin"
          ],
          [
           "Gentamicin"
          ],
          [
           "Miltefosine"
          ],
          [
           "N-Hexadecylphosphonocholine"
          ],
          [
           "19|N-[[3,5-Bis(Trifluoromethyl)Phenyl]Methyl]-4-(2-Chlorophenyl)-N-Methylpyridine-3-Carboxamide"
          ],
          [
           "Flutrimazole"
          ],
          [
           "Piriqualone|4(3H)-Quinazolinone, 2-[2-(2-Pyridyl)Vinyl]-3-O-Tolyl-"
          ],
          [
           "Bifonazole"
          ],
          [
           "Axitinib"
          ],
          [
           "Rilpivirine"
          ],
          [
           "Atovaquone"
          ],
          [
           "Tadalafil"
          ],
          [
           "Fr 260010|N-(3-(4-Methyl-1H-Imidazol-1-Yl)Phenyl)-5,6-Dihydrobenzo(H)Quinazolin-4-Amine"
          ],
          [
           "Bisacodyl"
          ],
          [
           "Rilapine"
          ],
          [
           "Lufuradom"
          ],
          [
           "Tifluadom"
          ],
          [
           "Benzindopyrine"
          ],
          [
           "Cefsulodin|Sdccgsbi-0050247.P002"
          ],
          [
           "Rimonabant"
          ],
          [
           "Meclocycline"
          ],
          [
           "Cefempidone"
          ],
          [
           "Cetocycline"
          ],
          [
           "Clofluperol"
          ],
          [
           "Suproclone"
          ],
          [
           "Balaperidone|Belaperidone"
          ],
          [
           "Droperidol"
          ],
          [
           "Fenbenicillin"
          ],
          [
           "Cefpirome|1-[[(6R,7R)-7-[[(2Z)-(2-Amino-4-Thiazolyl)(Methoxyimino)Acetyl]Amino]-2-Carboxy-8-Oxo-5-Thia-1-Azabicyclo[4.2.0]Oct-2-En-3-Yl]Methyl]-6,7-Dihydro-5H-Cyclopenta[B]Pyrindinium Inner Salt"
          ],
          [
           "Ceftazidime|2-[(E)-[1-(2-Amino-1,3-Thiazol-4-Yl)-2-[[(6R,7R)-2-Carboxy-8-Oxo-3-(Pyridin-1-Ium-1-Ylmethyl)-5-Thia-1-Azabicyclo[4.2.0]Oct-2-En-7-Yl]Amino]-2-Oxoethylidene]Amino]Oxy-2-Methylpropanoate"
          ],
          [
           "Bisantrene Hydrochloride|N-[(Z)-[10-[(Z)-(4,5-Dihydro-1H-Imidazol-2-Ylhydrazinylidene)Methyl]Anthracen-9-Yl]Methylideneamino]-4,5-Dihydro-1H-Imidazol-2-Amine"
          ],
          [
           "Podofilox"
          ],
          [
           "Milenperone"
          ],
          [
           "Cloroperone"
          ],
          [
           "Trifluperidol"
          ],
          [
           "Ai-9|Mp 005-942-485|Revaprazan"
          ],
          [
           "Neflumozide"
          ],
          [
           "26|N-(2-Amino-5-Phenylphenyl)-4-[(Dimethylamino)Methyl]Benzamide"
          ],
          [
           "Noscapine"
          ],
          [
           "Gefitinib|Iressa, Gefitinib"
          ],
          [
           "Compound-5D|8-Chloro-2-(3-(4-Phenylpiperidin-1-Yl)Propyl)Quinazolin-4(3H)-One"
          ],
          [
           "Tefludazine"
          ],
          [
           "Declenperone"
          ],
          [
           "Zoloperone"
          ],
          [
           "Timiperone"
          ],
          [
           "Pipequaline"
          ],
          [
           "Angell-Br|N~3~-Cyclopropyl-N~4~'-(Cyclopropylmethyl)-6-Methylbiphenyl-3,4'-Dicarboxamide"
          ],
          [
           "Acrivastine"
          ],
          [
           "Tetracycline|Tetracycline Hydrochloride"
          ],
          [
           "Oxytetracycline"
          ],
          [
           "Mirfentanil"
          ],
          [
           "Arbidol"
          ],
          [
           "Ertugliflozin"
          ],
          [
           "Nebivolol"
          ],
          [
           "10-[3-(4-Methylpiperidin-1-Yl)Propyl]-2-(Trifluoromethyl)Phenothiazine"
          ],
          [
           "Trimethaphan"
          ],
          [
           "Vesnarinone"
          ],
          [
           "Moricizine Hydrochloride|Moricizine"
          ],
          [
           "161499-49-6|Pfizer Compound 15|N-[[2-Methoxy-5-(1,3-Thiazol-2-Yl)Phenyl]Methyl]-2-Phenylpiperidin-3-Amine"
          ],
          [
           "Napitane"
          ],
          [
           "Tamibarotene"
          ],
          [
           "N-(1,2,3,10-Tetramethoxy-9-Oxo-5,6,7,9-Tetrahydrobenzo[A]Heptalen-7-Yl)Acetamide"
          ],
          [
           "Colchicine"
          ],
          [
           "Clobetasone"
          ],
          [
           "Dasatinib"
          ],
          [
           "Spiramide"
          ],
          [
           "Sabeluzole"
          ],
          [
           "Cid 9844747"
          ],
          [
           "Moperone"
          ],
          [
           "I-1"
          ],
          [
           "Vinpocetine"
          ],
          [
           "Eletriptan"
          ],
          [
           "Tofisoline"
          ],
          [
           "Dilacor Xr"
          ],
          [
           "Diltiazem"
          ],
          [
           "Tameridone"
          ],
          [
           "Clidinium Bromide|Clidiniumbromide|Clidinium"
          ],
          [
           "Halocortolone"
          ],
          [
           "Cloticasone"
          ],
          [
           "Halometasone"
          ],
          [
           "Avizafone"
          ],
          [
           "145742-21-8|Pfizer Compound 11|2-Phenyl-N-[[2-Propan-2-Yloxy-5-(Trifluoromethoxy)Phenyl]Methyl]Piperidin-3-Amine"
          ],
          [
           "Fluticasone"
          ],
          [
           "Cormetasone|Cormethasone"
          ],
          [
           "Ocfentanil"
          ],
          [
           "Skb42|Bbcpd26|104076-32-6|Chebi: 339055|B-066, Skb-42|30|22|N-(3-{3-[(Piperidin-1-Yl)Methyl]Phenoxy}Propyl)-1,3-Benzoxazol-2-Amine"
          ],
          [
           "Metopimazine"
          ],
          [
           "Phenazocine"
          ],
          [
           "Lobeline|Inflatine"
          ],
          [
           "Amineptine"
          ],
          [
           "Meclorisone"
          ],
          [
           "Clocortolone"
          ],
          [
           "Clobetasol"
          ],
          [
           "Diflucortolone"
          ],
          [
           "Ticabesone"
          ],
          [
           "Diflorasone"
          ],
          [
           "Prifinium"
          ],
          [
           "Fentanyl"
          ],
          [
           "Anileridine"
          ],
          [
           "Skb31|Bbcpd21|112598-52-4|B-061|25|17|Benzamide, N-[3-[3-(1-Piperidinylmethyl)Phenoxy]Propyl]-"
          ],
          [
           "Perimetazine"
          ],
          [
           "Mitoxantrone"
          ],
          [
           "Delavirdine Mesylate|Delavirdine"
          ],
          [
           "Ceftizoxime Alapivoxil|2,2-Dimethylpropanoyloxymethyl (6R,7R)-7-[[(2Z)-2-[2-[[(2S)-2-Aminopropanoyl]Amino]-1,3-Thiazol-4-Yl]-2-Methoxyiminoacetyl]Amino]-8-Oxo-5-Thia-1-Azabicyclo[4.2.0]Oct-2-Ene-2-Carboxylate"
          ],
          [
           "Bevonium"
          ],
          [
           "Etonogestrel"
          ],
          [
           "Isoprednidene"
          ],
          [
           "Prednylidene"
          ],
          [
           "Beclometasone|Beclomethasone"
          ],
          [
           "Sofosbuvir"
          ],
          [
           "Desoximetasone"
          ],
          [
           "Fluorometholone"
          ],
          [
           "Timobesone"
          ],
          [
           "Paramethasone"
          ],
          [
           "Fluperolone"
          ],
          [
           "Dexamethasone"
          ],
          [
           "Lafutidine"
          ],
          [
           "Pivampicillin"
          ],
          [
           "Thiethylperazine"
          ],
          [
           "Levopropoxyphene"
          ],
          [
           "Dextropropoxyphene|Propoxyphene"
          ],
          [
           "Chlorhexidine|Nolvasan"
          ],
          [
           "Spiradoline"
          ],
          [
           "145742-16-1|Pfizer Compound 8|N-[(2-Methoxy-5-Propan-2-Ylphenyl)Methyl]-2-Phenylpiperidin-3-Amine"
          ],
          [
           "Pirmenol"
          ],
          [
           "Sufentanil"
          ],
          [
           "Spirapril"
          ],
          [
           "Thioproperazine"
          ],
          [
           "2-[[2-[[1-(2-Azanylethyl)Piperidin-4-Yl]Amino]-4-Methyl-Benzimidazol-1-Yl]Methyl]-6-Methyl-Pyridin-3-Ol"
          ],
          [
           "Endrisone"
          ],
          [
           "Valtrate"
          ],
          [
           "Tipredane"
          ],
          [
           "Gadobenate Dimeglumine|2-[2-[2-[Bis(Carboxymethyl)Amino]Ethyl-(Carboxymethyl)Amino]Ethyl-(Carboxymethyl)Amino]-3-Phenylmethoxypropanoic Acid"
          ],
          [
           "Cilazapril"
          ],
          [
           "Benzquinamide"
          ],
          [
           "Distigmine"
          ],
          [
           "3-(6-(Dimethylamino)-4-Methylpyridin-3-Yl)-2,5-Dimethyl-N,N-Dipropylpyrazolo[1,5-A]Pyrimidin-7-Amine"
          ],
          [
           "Medrysone"
          ],
          [
           "Resocortol"
          ],
          [
           "Didrovaltrate"
          ],
          [
           "Sobuzoxane"
          ],
          [
           "Alfentanil, Rapifen|N-Despropionaldehyde Alfentanil-N-Butyraldehyde"
          ],
          [
           "Icosapent Ethyl"
          ],
          [
           "Tirofiban"
          ],
          [
           "Ganaxolone"
          ],
          [
           "Misoprostol"
          ],
          [
           "Isepamycin"
          ],
          [
           "Arbekacin"
          ],
          [
           "Butikacin"
          ],
          [
           "Docosanol"
          ],
          [
           "Cromoglicicacid|Cromolyn"
          ],
          [
           "Vemurafenib"
          ],
          [
           "Pfizer Compound 1|(R)-2H [Pmid:19625189]"
          ],
          [
           "42|N-(3,5-Bis(Trifluoromethyl)Benzyl)-N-Methyl-4-O-Tolylnicotinamide"
          ],
          [
           "Sibopirdine"
          ],
          [
           "3"
          ],
          [
           "24|9-(3,5-Bis-Trifluoromethyl-Benzoyl)-5-Phenyl-1-Oxa-3,9-Diaza-Spiro[5.5]Undecan-2-One"
          ],
          [
           "Sulfinpyrazone"
          ],
          [
           "Loprazolam"
          ],
          [
           "Chlorotrianisene"
          ],
          [
           "Aprepitant"
          ],
          [
           "Minokine, Mw01-2-069Srm|3-Phenyl-4-(Pyridin-4-Yl)-6-[4-(Pyrimidin-2-Yl)Piperazin-1-Yl]Pyridazine"
          ],
          [
           "Pagoclone"
          ],
          [
           "Carfecillin"
          ],
          [
           "Mchr Antagonist 8|6-Chloro-4-[1-(2,3-Dihydro-Benzofuran-5-Ylmethyl)-Piperidin-4-Ylamino]-Chromen-2-One"
          ],
          [
           "5D|(E)-N-(2-(2-(Trifluoromethyl)-1H-Indol-1-Yl)Ethyl)-3-(3,4,5-Trimethoxyphenyl)Acrylamide"
          ],
          [
           "Topotecan"
          ],
          [
           "202646-80-8|Fr194921|Compound 32|3(2H)-Pyridazinone, 2-(1-Methyl-4-Piperidinyl)-6-(2-Phenylpyrazolo(1,5-A)Pyridin-3-Yl)-"
          ],
          [
           "Pralatrexate"
          ],
          [
           "Cinuperone"
          ],
          [
           "Prideperone"
          ],
          [
           "1|Antihistamine-1"
          ],
          [
           "Cefquinome|1-[[(6R,7R)-7-[[(2Z)-(2-Amino-4-Thiazolyl)(Methoxyimino)Acetyl]Amino]-2-Carboxy-8-Oxo-5-Thia-1-Azabicyclo[4.2.0]Oct-2-En-3-Yl]Methyl]-5,6,7,8-Tetrahydro-Quinolinium Inner Salt"
          ],
          [
           "Cyclofenil"
          ],
          [
           "Bsp|P-Bromospiperone|4-Bromospiperone"
          ],
          [
           "Clomocycline"
          ],
          [
           "Fluspiperone"
          ],
          [
           "Flupenthixol"
          ],
          [
           "Flupentixol"
          ],
          [
           "Diacetylnalorphine"
          ],
          [
           "Piperidinederivatives 1|4-Bromo-N-[4-[4-[3-(Trifluoromethyl)Phenoxy]Piperidin-1-Yl]Butyl]Benzamide"
          ],
          [
           "Avanafil"
          ],
          [
           "Ciclofenazine|Cyclophenazine"
          ],
          [
           "Spiperone"
          ],
          [
           "Fostamatinib"
          ],
          [
           "Roxindole"
          ],
          [
           "Solifenacin"
          ],
          [
           "5A|(E)-N-(2-(2-Methyl-1H-Indol-1-Yl)Ethyl)-3-(3,4,5-Trimethoxyphenyl)Acrylamide"
          ],
          [
           "Panamesine"
          ],
          [
           "Pinoxepin"
          ],
          [
           "Chloroprednisone-Acetate|Chloroprednisone Acetate"
          ],
          [
           "Flupimazine"
          ],
          [
           "Risperidone"
          ],
          [
           "9-Oh Risperidone|9-Hydroxy Risperidone|Paliperidone"
          ],
          [
           "9-Oh-Risperidone|(R)-Paliperidone"
          ],
          [
           "9-Hydroxyrisperidone|9-Hydroxy-Risperidone"
          ],
          [
           "Quilostigmine"
          ],
          [
           "Minocycline"
          ],
          [
           "163257-85-0|Pfizer Compound 24|N-[(2-Cyclopropyl-6-Methoxy-1,3-Benzothiazol-5-Yl)Methyl]-2-Phenylpiperidin-3-Amine"
          ],
          [
           "Piperacillin"
          ],
          [
           "Micinicate|Nicotinoyl Cyclandelate"
          ],
          [
           "Morphine-3-Glucuronide"
          ],
          [
           "Dichlorisone-Acetate|Dichlorisone Acetate"
          ],
          [
           "Thiopropazate"
          ],
          [
           "Glibenclamide|Glyburide"
          ],
          [
           "Homofenazine|Homophenazine"
          ],
          [
           "Bopindolol"
          ],
          [
           "Tropapride"
          ],
          [
           "Temocapril"
          ],
          [
           "Cefuroxime-Pivoxetil|1-(2-Methoxy-2-Methylpropanoyl)Oxyethyl (6R,7R)-3-(Carbamoyloxymethyl)-7-[[(2Z)-2-(Furan-2-Yl)-2-Methoxyiminoacetyl]Amino]-8-Oxo-5-Thia-1-Azabicyclo[4.2.0]Oct-2-Ene-2-Carboxylate"
          ],
          [
           "Pac-1"
          ],
          [
           "Forasartan"
          ],
          [
           "Xanthiol"
          ],
          [
           "Amperozide"
          ],
          [
           "145742-01-4|Pfizer Compound 9|N-[[5-Tert-Butyl-2-(Trifluoromethoxy)Phenyl]Methyl]-2-Phenylpiperidin-3-Amine"
          ],
          [
           "Isoflupredone-Acetate|Isoflupredone Acetate"
          ],
          [
           "Opipramol"
          ],
          [
           "Oxypertine"
          ],
          [
           "163257-90-7|Pfizer Compound 16|1-[4-Methoxy-3-[[(2-Phenylpiperidin-3-Yl)Amino]Methyl]Phenyl]Pyrrolidin-2-One"
          ],
          [
           "Acetophenazine"
          ],
          [
           "Tiotixene|Thiothixene"
          ],
          [
           "Rp60180|N-Propyl-10-[(2S)-1-Pyrrolidin-1-Ylpropan-2-Yl]Phenothiazine-2-Carboxamide"
          ],
          [
           "Spac-1|N-[(E)-(2-Hydroxy-3-Prop-2-Enylphenyl)Methylideneamino]-2-[4-[(4-Sulfamoylphenyl)Methyl]Piperazin-1-Yl]Acetamide"
          ],
          [
           "Phenoperidine"
          ],
          [
           "Conorfone"
          ],
          [
           "Propiverine"
          ],
          [
           "Fenbutrazate"
          ],
          [
           "Quinacrine"
          ],
          [
           "Piminodine"
          ],
          [
           "Perospirone"
          ],
          [
           "Compound 6H"
          ],
          [
           "Propantheline"
          ],
          [
           "Etodroxizine"
          ],
          [
           "Dimesone"
          ],
          [
           "160502-85-2|Pfizer Compound 14|N-[(5-Methoxy-2-Methyl-1-Methylsulfonyl-2,3-Dihydroindol-6-Yl)Methyl]-2-Phenylpiperidin-3-Amine"
          ],
          [
           "Acetylmethadol|Levomethadyl|Methadyl Acetate"
          ],
          [
           "Betacetylmethadol"
          ],
          [
           "Levacetylmethadol|Levomethadyl Acetate"
          ],
          [
           "Alphacetylmethadol"
          ],
          [
           "Norgestimate|Syn-Norgestimate"
          ],
          [
           "Mycophenolate Mofetil"
          ],
          [
           "Compound-7B|1-(4-(4-(2-Tert-Butyl-6-(Trifluoromethyl)Pyrimidin-4-Yl)Piperazin-1-Yl)Butyl)-4-Methylpyridin-2(1H)-One"
          ],
          [
           "Isopropamide Iodide|Isopropamide"
          ],
          [
           "Enciprazine"
          ],
          [
           "Estradiol Valerate"
          ],
          [
           "Hydrocortisone-Acetate|Hydrocortisone Acetate"
          ],
          [
           "Propyperone"
          ],
          [
           "Tameticillin"
          ],
          [
           "Irie-15|2-Cyano-N-Methyl-4-(Piperidin-4-Ylmethoxy)-6-(Spiro[3.5]Nonan-7-Ylmethylamino)Pyrimidine-5-Carboxamide"
          ],
          [
           "Treprostinil"
          ],
          [
           "Mevastatin"
          ],
          [
           "Tonazocine|1-[(1R,9S)-4-Hydroxy-1,10,13-Trimethyl-10-Azatricyclo[7.3.1.02,7]Trideca-2(7),3,5-Trien-13-Yl]Octan-3-One"
          ],
          [
           "Argatroban"
          ],
          [
           "Paromomycin Sulfate|Paromomycin"
          ],
          [
           "Framycetin"
          ],
          [
           "Tolufazepam"
          ],
          [
           "Fenticonazole Nitrate|Fenticonazole"
          ],
          [
           "Xaliproden"
          ],
          [
           "Talampicillin"
          ],
          [
           "Compound-S16D|8-Chloro-2-[3-(4-Phenylpiperidin-1-Yl)Cyclopenten-1-Yl]-3H-Quinazolin-4-One"
          ],
          [
           "Abecarnil"
          ],
          [
           "Piflutixol|Piflutixolum"
          ],
          [
           "Piflutixol"
          ],
          [
           "Ocaperidone"
          ],
          [
           "Mizolastine"
          ],
          [
           "Panuramine"
          ],
          [
           "141060-39-1|Compound 28|6-(2-Phenylpyrazolo[1,5-A]Pyridin-3-Yl)-2-(2-Piperidin-1-Ylethyl)Pyridazin-3-One"
          ],
          [
           "Flavoxate"
          ],
          [
           "Tixadil"
          ],
          [
           "Nicergoline"
          ],
          [
           "Sertindole"
          ],
          [
           "Biriperone"
          ],
          [
           "Nicodicodine"
          ],
          [
           "Carvedilol"
          ],
          [
           "Ropizine|Ropazine"
          ],
          [
           "Olmesartan"
          ],
          [
           "Pirbenicillin"
          ],
          [
           "Cube-10"
          ],
          [
           null
          ],
          [
           "Furomazine"
          ],
          [
           "Octocrylene"
          ],
          [
           "Levophenacylmorphan"
          ],
          [
           "Tralonide"
          ],
          [
           "Triclonide"
          ],
          [
           "Amiperone"
          ],
          [
           "Clotixamide|3-[4-[(3Z)-3-(2-Chlorothioxanthen-9-Ylidene)Propyl]Piperazin-1-Yl]-N-Methylpropanamide"
          ],
          [
           "Spirilene"
          ],
          [
           "Msp|N-Methylspiroperidol|3-N-Methylspiperone"
          ],
          [
           "Risperidone-9-Oh"
          ],
          [
           "Indacaterol"
          ],
          [
           "Benazepril"
          ],
          [
           "Bexarotene"
          ],
          [
           "Fluclorolone-Acetonide|(4R,8S,9S,11S,12R,13S,19S)-11,12-Dichloro-19-Fluoro-8-(2-Hydroxyacetyl)-6,6,9,13-Tetramethyl-5,7-Dioxapentacyclo[10.8.0.02,9.04,8.013,18]Icosa-14,17-Dien-16-One"
          ],
          [
           "Jhw 007"
          ],
          [
           "Cormetasone-Acetate|[2-Oxo-2-[(9R,10S,11S,13S,14S,16R,17R)-6,6,9-Trifluoro-11,17-Dihydroxy-10,13,16-Trimethyl-3-Oxo-8,11,12,14,15,16-Hexahydro-7H-Cyclopenta[A]Phenanthren-17-Yl]Ethyl] Acetate"
          ],
          [
           "Aceperone"
          ],
          [
           "Acrocinonide"
          ],
          [
           "Sarecycline"
          ],
          [
           "Zalospirone"
          ],
          [
           "Valsartan"
          ],
          [
           "Dexclamol"
          ],
          [
           "Phenomorphan"
          ],
          [
           "120014-06-4|Donepezil|Donepezil, Aricept"
          ],
          [
           "Clocortolone-Acetate|Clocortolone Acetate"
          ],
          [
           "Edoxaban"
          ],
          [
           "Compound A|N-[1-[(6-Aminopyridin-2-Yl)Methyl]Piperidin-4-Yl]-2-(3,3-Difluorocyclopentyl)-2-Hydroxy-2-Phenylacetamide"
          ],
          [
           "Fluocinolone-Acetonide|Fluocinolone Acetonide"
          ],
          [
           "Doxapram"
          ],
          [
           "Piperacetazine"
          ],
          [
           "163257-64-5|Pfizer Compound 20|N-[[5-(3,5-Dimethylpyrazol-1-Yl)-2-Methoxyphenyl]Methyl]-2-Phenylpiperidin-3-Amine"
          ],
          [
           "Cube-6"
          ],
          [
           "Descinolone-Acetonide|Descinolone Acetonide"
          ],
          [
           "Fluorometholone-Acetate|Fluorometholone Acetate"
          ],
          [
           "Fluperolone-Acetate|Fluperolone Acetate"
          ],
          [
           "Dexamethasone-Acetate|Dexamethasone Acetate"
          ],
          [
           "Triamcinolone-Acetonide|Triamcinolone Acetonide"
          ],
          [
           "Flunisolide"
          ],
          [
           "Homopipramol"
          ],
          [
           "Mirisetron"
          ],
          [
           "Carfenazine|Carphenazine"
          ],
          [
           "Milipertine"
          ],
          [
           "Drotaverine"
          ],
          [
           "Sarpogrelate"
          ],
          [
           "Halcinonide"
          ],
          [
           "Tiospirone"
          ],
          [
           "Acevaltrate"
          ],
          [
           "Desonide"
          ],
          [
           "Fludroxycortide|Flurandrenolide"
          ],
          [
           "Dixyrazine"
          ],
          [
           "Pipotiazine|Pipothiazine"
          ],
          [
           "Bepridil"
          ],
          [
           "Trandolapril"
          ],
          [
           "Glimepiride"
          ],
          [
           "Rimexolone"
          ],
          [
           "Algestone-Acetonide|Algestone Acetonide"
          ],
          [
           "Dehydrocholic|3,7,12-Trioxocholan-24-Oic Acid"
          ],
          [
           "Dehydrocholic Acid"
          ],
          [
           "Drocinonide"
          ],
          [
           "Ximelagatran|Ethyl 2-[[(1R)-1-Cyclohexyl-2-[(2S)-2-[[4-(N'-Hydroxycarbamimidoyl)Phenyl]Methylcarbamoyl]Azetidin-1-Yl]-2-Oxoethyl]Amino]Acetate"
          ],
          [
           "Irie-10B|2-Cyano-N-Methyl-4-((1-Methylpiperidin-4-Yl)Methoxy)-6-(Spiro[3.5]Nonan-7-Ylmethylamino)Pyrimidine-5-Carboxamide"
          ],
          [
           "Nabilone"
          ],
          [
           "Lovastatin"
          ],
          [
           "Dipyridamole"
          ],
          [
           "Pf-02545920|Mardepodect"
          ],
          [
           "Saprisartan"
          ],
          [
           "Telotristat"
          ],
          [
           "Skb_A|Talnetant"
          ],
          [
           "Eltrombopag"
          ],
          [
           "Pazinaclone"
          ],
          [
           "5-(4-Ethylphenyl)-13-[Methyl(2-Pyridin-2-Ylethyl)Amino]-8-Thia-3,5,10-Triazatricyclo[7.4.0.02,7]Trideca-1(13),2(7),3,9,11-Pentaen-6-One"
          ],
          [
           "Mchr Antagonist 7C|Thieno[3,2-D]Pyrimidin-4(3H)-One, 6-(4-Chlorophenyl)-3-[3-Methoxy-4-[2-(1-Pyrrolidinyl)Ethoxy]Phenyl]-"
          ],
          [
           "Cefpiramide"
          ],
          [
           "Apixaban"
          ],
          [
           "Savoxepin"
          ],
          [
           "Tipr-Dcka"
          ],
          [
           "Mppf|4-Fluoro-N-[2-[4-(2-Methoxyphenyl)Piperazin-1-Yl]Ethyl]-N-Pyridin-2-Ylbenzamide"
          ],
          [
           "Cefoperazone"
          ],
          [
           "Cinfenine"
          ],
          [
           "Cinperene"
          ],
          [
           "16"
          ],
          [
           "145459-26-3|Skf93319|B-040, Skf-93619|4|Skf-93619|24|2-[2-[[5-[(Dimethylamino)Methyl]Furan-2-Yl]Methylsulfanyl]Ethylamino]-5-(Naphthalen-2-Ylmethyl)-1H-Pyrimidin-6-One"
          ],
          [
           "Irbesartan"
          ],
          [
           "Linagliptin"
          ],
          [
           "Halopredone-Acetate|Halopredone Acetate"
          ],
          [
           "Besp|1-(4-Bromophenyl)-3-Ethyl-8-[4-(4-Fluorophenyl)-4-Oxobutyl]-1,3,8-Triazaspiro[4.5]Decan-4-One"
          ],
          [
           "Proc-22I|(R)-4-(2,4-Difluorobenzoyl)-1-(4-(3-(2-Methylpyrrolidin-1-Yl)Propoxy)Phenyl)Piperazin-2-One Formic Acid"
          ],
          [
           "Amiodarone|Amiodarone Hydrochloride"
          ],
          [
           "Sb-656104-A|6-[(2R)-2-[2-[4-(4-Chlorophenoxy)Piperidin-1-Yl]Ethyl]Pyrrolidin-1-Yl]Sulfonyl-1H-Indole"
          ],
          [
           "Proc-19D|4-(4-Fluorobenzoyl)-1-[4-(3-Piperidin-1-Ylpropoxy)Phenyl]Piperazin-2-One"
          ],
          [
           "Fluazacort"
          ],
          [
           "Quinapril"
          ],
          [
           "Gentian Violet|Gentian Violet Cation"
          ],
          [
           "Sultamicillin"
          ],
          [
           "Erdafitinib"
          ],
          [
           "Trospium"
          ],
          [
           "Compound-4H|N-[1-[[5-Chloro-2-(2-Methylpropoxy)Phenyl]Methyl]-5-Methylpyrazol-3-Yl]-4-(Ethylaminomethyl)Benzamide"
          ],
          [
           "Fluticasone-Propionate|Fluticasone Propionate"
          ],
          [
           "Trefentanil"
          ],
          [
           "Butaclamol"
          ],
          [
           "Deflazacort"
          ],
          [
           "Clobetasol-Propionate|Clobetasol Propionate"
          ],
          [
           "Nefazodone"
          ],
          [
           "Imiclopazine"
          ],
          [
           "Ticabesone-Propionate|Ticabesone Propionate"
          ],
          [
           "Silodosin"
          ],
          [
           "142852-50-4|Zanapezil|Tak-147"
          ],
          [
           "Racemoramide"
          ],
          [
           "Lofentanil"
          ],
          [
           "Tioperidone"
          ],
          [
           "164352-88-9|Pfizer Compound 18|N-(4,5-Dimethyl-1,3-Thiazol-2-Yl)-N-[4-Methoxy-3-[[(2-Phenylpiperidin-3-Yl)Amino]Methyl]Phenyl]Methanesulfonamide"
          ],
          [
           "Quinestrol"
          ],
          [
           "Prednisolone-Hemisuccinate|Prednisolone Hemisuccinate"
          ],
          [
           "5|5-Allyl-2-(Cyclopropylmethyl)-8-[(4-Methylpiperidin-1-Yl)Carbonyl]-2,3,4,5-Tetrahydro-1H-Pyrido[4,3-B]Indole"
          ],
          [
           "Etorphine"
          ],
          [
           "Tafluprost"
          ],
          [
           "Rofleponide"
          ],
          [
           "Ingenol Mebutate"
          ],
          [
           "Hydrocortisone-Hemisuccinate|Hydrocortisone Hemisuccinate"
          ],
          [
           "Amesergide"
          ],
          [
           "29|Unii-4L8Eg56Vda"
          ],
          [
           "[(3R)-Oxolan-3-Yl] N-[(2S,3R)-4-[(4-Aminophenyl)Sulfonyl-(2-Methylpropyl)Amino]-3-Hydroxy-1-Phenylbutan-2-Yl]Carbamate"
          ],
          [
           "161814-49-9|Amprenavir"
          ],
          [
           "Mebeverine"
          ],
          [
           "Fosamprenavir"
          ],
          [
           "Irie-16C|4-((1-Acetylpiperidin-4-Yl)Methoxy)-2-Cyano-N-Methyl-6-(Spiro[3.5]Nonan-7-Ylmethylamino)Pyrimidine-5-Carboxamide"
          ],
          [
           "Udenafil"
          ],
          [
           "Pregnenolone-Succinate"
          ],
          [
           "Hydrocortisone-Butyrate|Hydrocortisone Butyrate"
          ],
          [
           "Salmeterol"
          ],
          [
           "Simvastatin"
          ],
          [
           "Simvastatin Acid"
          ],
          [
           "Acarbose|Glucobay"
          ],
          [
           "Minaxolone"
          ],
          [
           "Deferoxamine"
          ],
          [
           "Linopirdine"
          ],
          [
           "Trametinib"
          ],
          [
           "Acalabrutinib"
          ],
          [
           "18|N-(4-Amino-2'-Methyl-Biphenyl-2-Yl)-2-(3,5-Bis-Trifluoromethyl-Phenyl)-N-Methyl-Isobutyramide"
          ],
          [
           "3-Methyl-2-Phenyl-N-(1-Phenylpropyl)-Quinoline-4- Carboxamide|3-Methyl-2-Phenyl-N-(1-Phenylpropyl)Quinoline-4-Carboxamide"
          ],
          [
           "Sb222200|Sb-222200|Sb 222200|3-Methyl-2-Phenyl-N-[(1S)-1-Phenylpropyl]Quinoline-4-Carboxamide"
          ],
          [
           "Tolvaptan"
          ],
          [
           "Lirequinil"
          ],
          [
           "Flunarizine"
          ],
          [
           "Azipramine"
          ],
          [
           "Carindacillin|Carbenicillin Indanyl Sodium|Carbenicillin Indanyl"
          ],
          [
           "Bentiamine"
          ],
          [
           "Lofepramine"
          ],
          [
           "163257-84-9|Pfizer Compound 23|N-[(6-Methoxy-2-Phenyl-1,3-Benzothiazol-5-Yl)Methyl]-2-Phenylpiperidin-3-Amine"
          ],
          [
           "Vilazodone"
          ],
          [
           "Medorubicin"
          ],
          [
           "Carubicin"
          ],
          [
           "Idarubicin|Dm5"
          ],
          [
           "Ketoconazole|(+)-Ketoconazole"
          ],
          [
           "Ketoconazole|1-[4-[4-[[(2S)-2-(2,4-Dichlorophenyl)-2-(Imidazol-1-Ylmethyl)-1,3-Dioxolan-4-Yl]Methoxy]Phenyl]Piperazin-1-Yl]Ethanone"
          ],
          [
           "Fibracillin"
          ],
          [
           "Toremifene"
          ],
          [
           "Clomifene|Enclomiphene"
          ],
          [
           "Piperidinederivatives 3|N-[4-[4-[3-(Trifluoromethyl)Phenoxy]Piperidin-1-Yl]Butyl]Quinoline-4-Carboxamide"
          ],
          [
           "Cinnarizine"
          ],
          [
           "Pyrvinium|2-[2-(2,5-Dimethyl-1-Phenylpyrrol-3-Yl)Ethenyl]-N,N,1-Trimethylquinolin-1-Ium-6-Amine"
          ],
          [
           "Bosutinib"
          ],
          [
           "Almitrine"
          ],
          [
           "Cabastine"
          ],
          [
           "Levocabastine Hydrochloride|Levocabastine"
          ],
          [
           "Sb-649915|6-[[1-[2-(2-Methylquinolin-5-Yl)Oxyethyl]Piperidin-4-Yl]Methyl]-4H-1,4-Benzoxazin-3-One"
          ],
          [
           "Compound 14B|N-(2,6-Dimethylphenyl)-5-[4-(2-Pyrrolidin-1-Ylethoxy)Phenyl]Imidazo[1,5-A]Pyrazin-8-Amine"
          ],
          [
           "Compound-14E|N-(2,6-Dimethylphenyl)-5-[3-(2-Pyrrolidin-1-Ylethoxy)Phenyl]Imidazo[1,5-A]Pyrazin-8-Amine Hydrochloride"
          ],
          [
           "2-[4-(1,2-Diphenylbut-1-Enyl)Phenoxy]-N,N-Dimethylethanamine"
          ],
          [
           "Tamoxifen|Tamoxifen, Nolvadex"
          ],
          [
           "Halofantrine Hydrochloride|Halofantrine"
          ],
          [
           "Proc-37C|4-(4-Chlorobenzoyl)-1-[4-(1-Cyclobutylpiperidin-4-Yl)Oxyphenyl]Piperazin-2-One"
          ],
          [
           "Bpsp|1-(4-Bromophenyl)-8-[4-(4-Fluorophenyl)-4-Oxobutyl]-3-Propyl-1,3,8-Triazaspiro[4.5]Decan-4-One"
          ],
          [
           "Terconazole"
          ],
          [
           "Piperazinederivatives 12|2-Naphthalenecarboxamide, N-(4-(4-(2-Methoxyphenyl)-1-Piperazinyl)Butyl)-"
          ],
          [
           "Clobetasone-Butyrate|Clobetasone Butyrate"
          ],
          [
           "Fluocinonide"
          ],
          [
           "Diflorasone-Diacetate"
          ],
          [
           "Oxaflumazine"
          ],
          [
           "Anseculin|Ensaculin"
          ],
          [
           "Selexipag"
          ],
          [
           "Flunisolide-Acetate|Flunisolide Acetate"
          ],
          [
           "Cyprenorphine"
          ],
          [
           "Lacidipine"
          ],
          [
           "Flumoxonide"
          ],
          [
           "Cerivastatin"
          ],
          [
           "Napsagatran"
          ],
          [
           "Cube-8"
          ],
          [
           "Travoprost"
          ],
          [
           "Fluocortin-Butyl|Fluocortin Butyl"
          ],
          [
           "Fluprednisolone-Valerate|Fluprednisolone Valerate"
          ],
          [
           "Amcinafal"
          ],
          [
           "Amelometasone"
          ],
          [
           "Mazapertine"
          ],
          [
           "Norverapamil"
          ],
          [
           "Domoprednate"
          ],
          [
           "Fesoterodine"
          ],
          [
           "Mazipredone"
          ],
          [
           "Alnespirone"
          ],
          [
           "Hydrocortisone-Valerate|Hydrocortisone Valerate"
          ],
          [
           "Irie-16A|2-Cyano-4-((1-Isopropylpiperidin-4-Yl)Methoxy)-N-Methyl-6-(Spiro[3.5]Nonan-7-Ylmethylamino)Pyrimidine-5-Carboxamide"
          ],
          [
           "Irie-13A|2-Cyano-N-Methyl-4-(Spiro[3.5]Nonan-7-Ylmethylamino)-6-(2,2,6,6-Tetramethylpiperidin-4-Yloxy)Pyrimidine-5-Carboxamide"
          ],
          [
           "Mupirocin"
          ],
          [
           "Clofazimine"
          ],
          [
           "Pranlukast"
          ],
          [
           "Sb 235375|Skb-D|(-)-(S)-N-(Alpha-Ethylbenzyl)-3-(Carboxymethoxy)-2-Phenylquinoline-4-Carboxamide"
          ],
          [
           "Ritanserin"
          ],
          [
           "Compound-10B|1-[(5-Chloro-2-Phenylmethoxyphenyl)Methyl]-5-Methyl-N-[4-(Methylaminomethyl)Phenyl]Pyrazole-3-Carboxamide"
          ],
          [
           "Cefcanel-Daloxate|Cefcanel Daloxate"
          ],
          [
           "Bosentan"
          ],
          [
           "Daunorubicin"
          ],
          [
           "Esorubicin"
          ],
          [
           "Doxorubicin"
          ],
          [
           "Mometasone-Furoate|Mometasone Furoate"
          ],
          [
           "Dutasteride"
          ],
          [
           "Asimadoline"
          ],
          [
           "Proc-37E|4-(1-(4-(1-Cyclobutylpiperidin-4-Yloxy)Phenyl)-2-Oxopiperazine-4-Carbonyl)Benzonitrile Formic Acid"
          ],
          [
           "Compound-1|4-Methyl-6-[[1-[2-(2-Methylquinolin-5-Yl)Oxyethyl]Piperidin-4-Yl]Methyl]-1,4-Benzoxazin-3-One"
          ],
          [
           "20"
          ],
          [
           "4|Mn7Rr3Vql7"
          ],
          [
           "Compound-4J|N-[1-[[5-Chloro-2-(2-Methylpropoxy)Phenyl]Methyl]-5-Methylpyrazol-3-Yl]-4-(Pyrrolidin-1-Ylmethyl)Benzamide"
          ],
          [
           "Difluprednate"
          ],
          [
           "Procinonide"
          ],
          [
           "Moexipril Hydrochloride|Moexipril"
          ],
          [
           "Piritramide"
          ],
          [
           "Nandrolone Phenpropionate"
          ],
          [
           "167782-15-2|Bms-184111 Hcl|1-[4-(1,3-Benzodioxol-5-Yl)-4-Methoxycyclohexyl]-4-[(3-Methoxyphenyl)Methyl]Piperidine"
          ],
          [
           "Alletorphine|Alletorphinum"
          ],
          [
           "Acetorphine"
          ],
          [
           "Clocortolone-Pivalate|Clocortolone Pivalate"
          ],
          [
           "Diflucortolone-Pivalate|Diflucortolone Pivalate"
          ],
          [
           "Flumetasone-Pivalate|Flumethazone Pivalate"
          ],
          [
           "Mchr Antagonist 1|1-(6-((Diethylamino)Methyl)-1,2,3,4-Tetrahydronaphthalen-2-Yl)-4-(4-Fluorophenethyl)Piperazin-2-One"
          ],
          [
           "Repaglinide"
          ],
          [
           "Methylprednisolone-Aceponate|Methylprednisolone Aceponate"
          ],
          [
           "Prednicarbate"
          ],
          [
           "Darunavir"
          ],
          [
           "Verapamil"
          ],
          [
           "Dexverapamil"
          ],
          [
           "Am-36|1-Piperazineethanol, 4-((3,5-Bis(1,1-Dimethylethyl)-4-Hydroxyphenyl)Methyl)-Alpha-(4-Chlorophenyl)-"
          ],
          [
           "Prednisolamate"
          ],
          [
           "Calcipotriol|Calcipotriene"
          ],
          [
           "Hydrocortamate"
          ],
          [
           "Chloramphenicol Palmitate"
          ],
          [
           "Ixabepilone"
          ],
          [
           "Cholecalciferol"
          ],
          [
           "Alfacalcidol"
          ],
          [
           "Calcidiol|Calcifediol"
          ],
          [
           "Boceprevir"
          ],
          [
           "Edelfosine"
          ],
          [
           "3-Octadecyloxy-2-Methoxypropylphosphonocholine"
          ],
          [
           "Nilotinib"
          ],
          [
           "Duoperone"
          ],
          [
           "Cefpimizole"
          ],
          [
           "Penfluridol"
          ],
          [
           "Raloxifene Hydrochloride|Raloxifene"
          ],
          [
           "Pimozide"
          ],
          [
           "Takle-1; Sb-590885"
          ],
          [
           "2-(1-(2-(2,3-Dihydrobenzofuran-5-Yl)Ethyl)Pyrrolidin-3-Yl)-2,2-Diphenylacetamide"
          ],
          [
           "133099-04-4|Darifenacin"
          ],
          [
           "Sb-277011A|N-[4-[2-(6-Cyano-3,4-Dihydro-1H-Isoquinolin-2-Yl)Ethyl]Cyclohexyl]Quinoline-4-Carboxamide"
          ],
          [
           "Indole-Based Mchr1 Antagonist(7A)|2-[4-(Benzyloxy)Phenyl]-N-[1-(2-Pyrrolidin-1-Ylethyl)-1H-Indazol-6-Yl]Acetamide"
          ],
          [
           "Nivacortol"
          ],
          [
           "Astemizole|Astemizol"
          ],
          [
           "Bervastatin"
          ],
          [
           "Rotamicillin"
          ],
          [
           "Pfizer Compound 4|(2S,3S)-2-(Diphenylmethyl)-N-[(2-Methoxyphenyl)Methyl]-1-Azabicyclo[2.2.2]Octan-3-Amine"
          ],
          [
           "135095-42-0|(2R,3R)-2-Benzhydryl-N-[(2-Methoxyphenyl)Methyl]-1-Azabicyclo[2.2.2]Octan-3-Amine"
          ],
          [
           "Buclizine"
          ],
          [
           "Difluanazine"
          ],
          [
           "Ciprocinonide"
          ],
          [
           "Compound-10"
          ],
          [
           "Mosapramine"
          ],
          [
           "Virginiamycin-Factor-M1|(10R,11R,21S)-21-Hydroxy-11,19-Dimethyl-10-Propan-2-Yl-9,26-Dioxa-3,15,28-Triazatricyclo[23.2.1.03,7]Octacosa-1(27),6,12,17,19,25(28)-Hexaene-2,8,14,23-Tetrone"
          ],
          [
           "Clinofibrate"
          ],
          [
           "Clocapramine"
          ],
          [
           "Alclometasone-Dipropionate"
          ],
          [
           "Icometasone-Enbutate|Icometasone Enbutate"
          ],
          [
           "Betamethasone-Acibutate|Betamethasone Acibutate"
          ],
          [
           "Dexamethasone-Dipropionate|Dexamethasone Dipropionate"
          ],
          [
           "Bilastine"
          ],
          [
           "Fluocortolone-Caproate|Fluocortolone Caproate"
          ],
          [
           "Umespirone"
          ],
          [
           "Hydrocortisone-Buteprate|[2-[(8S,9S,10R,11S,13S,14S,17R)-11-Hydroxy-10,13-Dimethyl-3-Oxo-17-Propanoyloxy-2,6,7,8,9,11,12,14,15,16-Decahydro-1H-Cyclopenta[A]Phenanthren-17-Yl]-2-Oxoethyl] Butanoate"
          ],
          [
           "Amebucort"
          ],
          [
           "Difebarbamate"
          ],
          [
           "Ergocalciferol"
          ],
          [
           "Doxercalciferol"
          ],
          [
           "Nandrolone Decanoate"
          ],
          [
           "Dihydrotachysterol"
          ],
          [
           "Nicomorphine"
          ],
          [
           "Lapatinib|Lapatinib, Gw 572016, Tykerb"
          ],
          [
           "Skb-I"
          ],
          [
           "6-(3,4-Difluorophenyl)-5-(4-(2-(Piperidin-1-Yl)Ethoxy)Phenoxy)Naphthalen-2-Ol"
          ],
          [
           "Ponatinib"
          ],
          [
           "Letermovir"
          ],
          [
           "6-(4-Fluorophenyl)-5-{4-[2-(Piperidin-1-Yl)Ethoxy]Phenoxy}Naphthalen-2-Ol"
          ],
          [
           "6-(3-Hydroxyphenyl)-5-(4-(2-(Piperidin-1-Yl)Ethoxy)Phenoxy)Naphthalen-2-Ol"
          ],
          [
           "6-(4-Hydroxyphenyl)-5-(4-(2-(Piperidin-1-Yl)Ethoxy)Phenoxy)Naphthalen-2-Ol"
          ],
          [
           "Olmesartan Medoxomil"
          ],
          [
           "Fluspirilene"
          ],
          [
           "Indole-Based Mchr1 Antagonist(2)|2-(4-Phenylmethoxyphenyl)-N-[1-(2-Pyrrolidin-1-Ylethyl)Indol-6-Yl]Acetamide"
          ],
          [
           "Imatinib|Gleevec, Imatinib, Sti 571"
          ],
          [
           "Etoposide"
          ],
          [
           "Naflocort|Naflocortum"
          ],
          [
           "Betamethasone-Benzoate|Betamethasone Benzoate"
          ],
          [
           "Amcinafide"
          ],
          [
           "Dexamethasone-Acefurate|Dexamethasone Acefurate"
          ],
          [
           "19"
          ],
          [
           "Pecocycline"
          ],
          [
           "Mifepristone"
          ],
          [
           "Cicortonide"
          ],
          [
           "Formocortal"
          ],
          [
           "Itrocinonide"
          ],
          [
           "Mibefradil"
          ],
          [
           "Lymecycline"
          ],
          [
           "Pipacycline"
          ],
          [
           "Guamecycline"
          ],
          [
           "Proc-19M"
          ],
          [
           "Tigecycline"
          ],
          [
           "Emetine"
          ],
          [
           "Omadacycline"
          ],
          [
           "Maraviroc"
          ],
          [
           "Buprenorphine"
          ],
          [
           "Candoxatril"
          ],
          [
           "Otilonium"
          ],
          [
           "Ouabain"
          ],
          [
           "Acebrochol"
          ],
          [
           "Alpha-Tocopherol"
          ],
          [
           "Orlistat"
          ],
          [
           "Tetrachloroethylene|Perchloroethylene"
          ],
          [
           "Trans 1,2-Dichloroethene|Cis 1,2-Dichloroethene|1,2-Dichloroethylene"
          ],
          [
           "Dioform|Trans 1,2-Dichloroethene|Trans-1,2-Dichloroethene|Trans-1,2-Dichloroethylene"
          ],
          [
           "1,1,1,2-Tetrachloroethane"
          ],
          [
           "1-Chloro-2,2,2-Trifluroethane|2-Chloro-1,1,1-Trifluoroethane|1,1,1-Trifluoro-2-Chloroethane|Cf3Ch2Cl|Chlorotrifluoroethane|111-Trifluoro-2-Chloroethane"
          ],
          [
           "Norflurane|1,1,1,2-Tetrafluoroethane"
          ],
          [
           "Tribromoethanol|2,2,2-Tribromoethanol"
          ],
          [
           "1,1,1-Trichloroethane|1,1,1-Trichloroethan|Methylchloroform|111-Trichloroethane"
          ],
          [
           "1,1,2-Trichloroethane|Vinyltrichloride"
          ],
          [
           "Chloralhydrate|Chloral Hydrate"
          ],
          [
           "Ethylene"
          ],
          [
           "1,1-Dichloroethane|Ethylidene Chloride"
          ],
          [
           "1,2-Dichloroethane"
          ],
          [
           "Ethylene Oxide|Oxirane"
          ],
          [
           "Ethyl-Chloride|Chloroethane"
          ],
          [
           "Acetohydroxamic Acid"
          ],
          [
           "S-Methylisothiourea|S-Methyl-Isothiourea|Carbamimidothioic Acid, Methyl Ester"
          ],
          [
           "Ethanol"
          ],
          [
           "Mesna|2-Mercaptoethanesulfonic Acid"
          ],
          [
           "Etidronate|Etidronic Acid"
          ],
          [
           "R-Halothane|(R)-Halothane"
          ],
          [
           "Teflurane|Tefluranum|R-Teflurane"
          ],
          [
           "(2R)-2-Bromo-1,1,1,2-Tetrafluoroethane"
          ],
          [
           "1-Chloro-2,2-Difluroethylene|1,1-Difluorochloroethylene|1-Chloro-2,2-Difluoroethylene|2-Chloro-1,1-Difluoroethylene"
          ],
          [
           "Skb_C|3-[3-(Dimethylamino)Propoxy]-2-Phenyl-N-[(1S)-1-Phenylpropyl]Quinoline-4-Carboxamide"
          ],
          [
           "Bazedoxifene"
          ],
          [
           "Lidoflazine"
          ],
          [
           "Casopitant"
          ],
          [
           "160502-69-2|Pfizer Compound 13"
          ],
          [
           "Morpholinyl Oxaunomycin|Antibiotic Mx 2"
          ],
          [
           "Proc-37J|4-[4-(Azetidine-1-Carbonyl)Benzoyl]-1-[4-(1-Cyclobutylpiperidin-4-Yl)Oxyphenyl]Piperazin-2-One"
          ],
          [
           "Apicycline"
          ],
          [
           "Dpdpe"
          ],
          [
           null
          ],
          [
           "Meclorisone-Dibutyrate|Meclorisone Dibutyrate"
          ],
          [
           "Mchr Antagonist 23C"
          ],
          [
           "Triamcinolone-Hexacetonide|Triamcinolone Hexacetonide"
          ],
          [
           "Proscillaridin"
          ],
          [
           "Fosinopril Sodium|(2S,4S)-4-Cyclohexyl-1-[2-[(2-Methyl-1-Propanoyloxypropoxy)-(4-Phenylbutyl)Phosphoryl]Acetyl]Pyrrolidine-2-Carboxylic Acid"
          ],
          [
           "Glycyrrhetinic Acid|Enoxolone|Glycyrrhetin"
          ],
          [
           "Glycyrrhetinic Acid|Enoxolone"
          ],
          [
           "Retapamulin"
          ],
          [
           "Eldecalcitol"
          ],
          [
           "Gallamine Triethiodide|Flaxedil"
          ],
          [
           "Tipranavir"
          ],
          [
           "Zafirlukast"
          ],
          [
           "6-(4-Ethanesulfonyl-Phenyl)-5-[4-(2-Piperidin-1-Yl-Ethoxy)-Phenoxy]-Naphthalen-2-Ol"
          ],
          [
           "4-(6-Hydroxy-1-(4-(2-(Piperidin-1-Yl)Ethoxy)Phenoxy)Naphthalen-2-Yl)-N,N-Dimethylbenzenesulfonamide"
          ],
          [
           "Metofenazate"
          ],
          [
           "Novobiocin|Novobiocin Sodium"
          ],
          [
           "Menatetrenone"
          ],
          [
           "Bromperidol-Decanoate|Bromperidol Decanoate"
          ],
          [
           "Haloperidol-Decanoate|Haloperidol Decanoate"
          ],
          [
           "Dronedarone"
          ],
          [
           "Phytonadione"
          ],
          [
           "Probucol"
          ],
          [
           "Fusidic|2-[2-(Acetyloxy)-7,10-Dihydroxy-3A,3B,6,9A-Tetramethyl-Dodecahydro-2H-Cyclopenta[A]Phenanthren-1-Ylidene]-6-Methylhept-5-Enoic Acid"
          ],
          [
           "Fusidic-Acid|Fusidic Acid"
          ],
          [
           "Rosaramicin"
          ],
          [
           "Conivaptan"
          ],
          [
           "Teniposide|Epipodophyllotoxin, 4'-Demethyl-, 9-(4,6-O-2-Thenylidene-Beta-D-Glucopyranoside)"
          ],
          [
           "Skb-H"
          ],
          [
           "Chloroserpidine"
          ],
          [
           "Pirarubicin|(7S,9S)-7-[(2R,4S,5S,6S)-4-Amino-6-Methyl-5-[(2S)-Oxan-2-Yl]Oxyoxan-2-Yl]Oxy-6,9,11-Trihydroxy-9-(2-Hydroxyacetyl)-4-Methoxy-8,10-Dihydro-7H-Tetracene-5,12-Dione"
          ],
          [
           "Carebastine"
          ],
          [
           "Cortivazol"
          ],
          [
           "Ebastine"
          ],
          [
           "153439-40-8|Fexofenadine"
          ],
          [
           "Bromocriptine"
          ],
          [
           "Pfizer Compound 2|N-[(5-Tert-Butyl-2-Methoxyphenyl)Methyl]-2-(Diphenylmethyl)-1-Azabicyclo[2.2.2]Octan-3-Amine"
          ],
          [
           "147116-67-4|Maropitant"
          ],
          [
           "50679-08-8|Terfenadine"
          ],
          [
           "Ergoloidmesylate|Dihydroergokryptine"
          ],
          [
           "Ciclesonide"
          ],
          [
           "159989-64-7|Nelfinavir|Nelfinavir Mesylate"
          ],
          [
           "Fulvestrant"
          ],
          [
           "17-Dmag|Alvespimycin"
          ],
          [
           "Thonzonium Bromide|Thonzonium"
          ],
          [
           "Candesartan Cilexetil"
          ],
          [
           "Atorvastatin|Atorvastatin Calcium"
          ],
          [
           "Ergotamine"
          ],
          [
           "Glycerol Phenylbutyrate"
          ],
          [
           "Leurubicin"
          ],
          [
           "Reserpine"
          ],
          [
           "Natamycin"
          ],
          [
           "Remikiren"
          ],
          [
           "Skb-G|(S)-N-(A-Ethylbenzyl)-3-[2-(2-Pyridylacetyl)Aminoethoxy]-2-Phenylquinoline-4-Carboxamide"
          ],
          [
           "Elacridar"
          ],
          [
           null
          ],
          [
           "Dabigatran Etexilate"
          ],
          [
           "Dalfopristin|(12Z,17Z,19Z)-6-[2-(Diethylamino)Ethylsulfonyl]-21-Hydroxy-11,19-Dimethyl-10-Propan-2-Yl-9,26-Dioxa-3,15,28-Triazatricyclo[23.2.1.03,7]Octacosa-1(27),12,17,19,25(28)-Pentaene-2,8,14,23-Tetrone"
          ],
          [
           "Carbenoxolone"
          ],
          [
           "Vecuronium|Norcuron"
          ],
          [
           "Clindamycin Palmitate"
          ],
          [
           "Itraconazole|Canditral"
          ],
          [
           "Itraconazole"
          ],
          [
           "Nabazenil"
          ],
          [
           "Kitasamycin"
          ],
          [
           "Oleandomycin"
          ],
          [
           "Pipecuronium"
          ],
          [
           "Skb-F|2-[2-Oxo-2-[2-[2-Phenyl-4-[[(1S)-1-Phenylpropyl]Carbamoyl]Quinolin-3-Yl]Oxyethylamino]Ethyl]Benzoic Acid"
          ],
          [
           "Mitratapid|Mitratapide"
          ],
          [
           "Hexafluronium"
          ],
          [
           "1-[2-Hydroxy-4-[(2-Hydroxy-2,3-Dihydro-1H-Inden-1-Yl)Carbamoyl]-5-Phenyl-Pentyl]-4-(Pyridin-3-Ylmethyl)-N-Tert-Butyl-Piperazine-2-Carboxamide"
          ],
          [
           "Indinavir|150378-17-9|Indinavir Sulfate"
          ],
          [
           "Tubocurarine"
          ],
          [
           "Cortisuzol"
          ],
          [
           "Sr 140333|Nolpitantium"
          ],
          [
           "Rifamycin"
          ],
          [
           "Ritonavir"
          ],
          [
           "Pentagastrin"
          ],
          [
           "Flurithromycin"
          ],
          [
           "Erythromycin"
          ],
          [
           "Bisbentiamine"
          ],
          [
           "Saquinavir|127779-20-8"
          ],
          [
           "Myrophine"
          ],
          [
           "Atazanavir"
          ],
          [
           "Clarithromycin|Clathromycin"
          ],
          [
           "Lexithromycin"
          ],
          [
           "Azithromycin|Azithromycin Dihydrate"
          ],
          [
           "Penimocycline"
          ],
          [
           "Perflutren"
          ],
          [
           "Pamidronate|Pamidronic Acid"
          ],
          [
           "Isoflurane|R-Isoflurane"
          ],
          [
           "(2R)-2-Chloro-2-(Difluoromethoxy)-1,1,1-Trifluoroethane"
          ],
          [
           "Enflurane|R-Enflurane"
          ],
          [
           "(R)-Enflurane"
          ],
          [
           "Desflurane|Suprane"
          ],
          [
           "Lin_Train_45|Mp 001-772-915|3-Bromo-3-Chloro-1,1,1-Trifluoropropane"
          ],
          [
           "Lin_Train_55|Cid 23235109|Tetrafluoropropyl Bromide"
          ],
          [
           "Acrylonitrile"
          ],
          [
           "Roflurane"
          ],
          [
           "Methoxyflurane"
          ],
          [
           "Propargyl Alcohol|2-Propyn-1-Ol"
          ],
          [
           "Nitroglycerin"
          ],
          [
           "Cyclopropane|Trimethylene"
          ],
          [
           "Cycloserine"
          ],
          [
           "Acetone|Propanone|Propan-2-One"
          ],
          [
           "Methyl Acetate|Methylacetate"
          ],
          [
           "Lactic Acid"
          ],
          [
           "1-Bromopropane|N-Propylbromide"
          ],
          [
           "2-Bromopropane"
          ],
          [
           "S-2Fluoroethylisothiourea|2-(2-Fluoro-Ethyl)-Isothiourea|S-2-Fluoroethylisothiourea|S-(2-Fluoroethyl)Isothiourea"
          ],
          [
           "Alanine|Dl-Alanine"
          ],
          [
           "Urethane"
          ],
          [
           "1-Propanol|Propan-1-Ol|Propanol"
          ],
          [
           "2-Propanol|Propan-2-Ol|Isopropanol|Isopropyl Alcohol"
          ],
          [
           "Glycerin|Glycerol"
          ],
          [
           "Dimercaprol"
          ],
          [
           "Tramiprosate, Alzhemed|Tramiprosate"
          ],
          [
           "Metocurine"
          ],
          [
           "Cobicistat"
          ],
          [
           "Beta-Carotene"
          ],
          [
           "Xanthophyll|Lutein"
          ],
          [
           "Carfilzomib"
          ],
          [
           "Eribulin"
          ],
          [
           "Pipotiazine-Palmitate|Pipotiazine Palmitate"
          ],
          [
           "Verteporfin|3-[14-Ethenyl-22,23-Bis(Methoxycarbonyl)-9-(3-Methoxy-3-Oxopropyl)-4,10,15,24-Tetramethyl-25,26,27,28-Tetrazahexacyclo[16.6.1.13,6.18,11.113,16.019,24]Octacosa-1,3,5,7,9,11(27),12,14,16,18(25),19,21-Dodecaen-5-Yl]Propanoic Acid"
          ],
          [
           "Digitoxin"
          ],
          [
           "Digoxin"
          ],
          [
           "Prednisolone-Steaglate|Prednisolone Steaglate"
          ],
          [
           "Troleandomycin"
          ],
          [
           "Roxithromycin|(Z)-Roxithromycin"
          ],
          [
           "Aclarubicin"
          ],
          [
           "Rifamexil"
          ],
          [
           "Josamycin"
          ],
          [
           "Dirithromycin"
          ],
          [
           "Virginiamycin-Factor-S1|Staphylomycin S"
          ],
          [
           "Rifaximin"
          ],
          [
           "Voacamine|Voacanginine"
          ],
          [
           "Docetaxel"
          ],
          [
           "Vindesine"
          ],
          [
           "Rifamide"
          ],
          [
           "Rifampin|[2,15,17,27,29-Pentahydroxy-11-Methoxy-3,7,12,14,16,18,22-Heptamethyl-26-[(4-Methylpiperazin-1-Yl)Iminomethyl]-6,23-Dioxo-8,30-Dioxa-24-Azatetracyclo[23.3.1.14,7.05,28]Triaconta-1(29),2,4,9,19,21,25,27-Octaen-13-Yl] Acetate"
          ],
          [
           "Rifampicin|Rifampin|[(7S,9E,11S,12R,13S,14R,15R,16R,17S,18S,19E,21Z)-2,15,17,27,29-Pentahydroxy-11-Methoxy-3,7,12,14,16,18,22-Heptamethyl-26-[(Z)-(4-Methylpiperazin-1-Yl)Iminomethyl]-6,23-Dioxo-8,30-Dioxa-24-Azatetracyclo[23.3.1.14,7.05,28]Triaconta-1(29),2,4,9,19,21,25,27-Octaen-13-Yl] Acetate"
          ],
          [
           "Telithromycin"
          ],
          [
           "Acetyldigitoxin"
          ],
          [
           "Spiramycin"
          ],
          [
           "Erythromycin-Ethylsuccinate|Erythromycin Ethylsuccinate"
          ],
          [
           "Temoporfin"
          ],
          [
           "Pristinamycin-Ic|Pristinamycin Ic"
          ],
          [
           "Rifametane|[(7S,9E,11S,12R,13S,14R,15R,16R,17S,18S,19E,21Z)-26-[(Z)-[(Z)-1-(Diethylamino)Ethylidenehydrazinylidene]Methyl]-2,15,17,27,29-Pentahydroxy-11-Methoxy-3,7,12,14,16,18,22-Heptamethyl-6,23-Dioxo-8,30-Dioxa-24-Azatetracyclo[23.3.1.14,7.05,28]Triaconta-1(29),2,4,9,19,21,25,27-Octaen-13-Yl] Acetate"
          ],
          [
           "Tacrolimus|Fujimycin"
          ],
          [
           "Vinorelbine"
          ],
          [
           "Pristinamycin-Ia|Pristinamycin Ia"
          ],
          [
           "Vincristine"
          ],
          [
           "Proglumetacin"
          ],
          [
           "Rifabutin"
          ],
          [
           "Rifapentine|[(7S,9E,11S,12R,13S,14R,15R,16R,17S,18S,19E,21Z)-26-[(Z)-(4-Cyclopentylpiperazin-1-Yl)Iminomethyl]-2,15,17,27,29-Pentahydroxy-11-Methoxy-3,7,12,14,16,18,22-Heptamethyl-6,23-Dioxo-8,30-Dioxa-24-Azatetracyclo[23.3.1.14,7.05,28]Triaconta-1(29),2,4,9,19,21,25,27-Octaen-13-Yl] Acetate"
          ],
          [
           "Ivermectin-Ii|(1R,4S,5'S,6R,6'R,8R,12S,13S,20R,21R,24S)-21,24-Dihydroxy-12-[(2R,4S,5S,6S)-5-[(2S,4S,5S,6S)-5-Hydroxy-4-Methoxy-6-Methyloxan-2-Yl]Oxy-4-Methoxy-6-Methyloxan-2-Yl]Oxy-5',11,13,22-Tetramethyl-6'-Propan-2-Ylspiro[3,7,19-Trioxatetracyclo[15.6.1.14,8.020,24]Pentacosa-10,14,16,22-Tetraene-6,2'-Oxane]-2-One"
          ],
          [
           "Amphotericin-B|Amphotericin B"
          ],
          [
           "Rodorubicin"
          ],
          [
           "Ivermectin|6'-Butan-2-Yl-21,24-Dihydroxy-12-[5-(5-Hydroxy-4-Methoxy-6-Methyloxan-2-Yl)Oxy-4-Methoxy-6-Methyloxan-2-Yl]Oxy-5',11,13,22-Tetramethylspiro[3,7,19-Trioxatetracyclo[15.6.1.14,8.020,24]Pentacosa-10,14,16,22-Tetraene-6,2'-Oxane]-2-One"
          ],
          [
           "Ivermectin B1A"
          ],
          [
           "Piperazine"
          ],
          [
           "1-Butanol"
          ],
          [
           "Diethyl Ether|Ether|Ethyl Ether|Diethylether|Diethyl-Ether"
          ],
          [
           "2-Methyl-1-Propanol|2-Methylpropanol|Isobutanol|2-Methylpropan-1-Ol"
          ],
          [
           "T-Butanol|Tert-Butylalcohol|Tert-Butanol"
          ],
          [
           "Trometamol|Tromethamine"
          ],
          [
           "Aliflurane"
          ],
          [
           "Sevoflurane"
          ],
          [
           null
          ],
          [
           "Pyridazinone|3(2H)-Pyridazinone"
          ],
          [
           "4-Bromo-4-Chloro-1,1,1-Trifluoro-Butane"
          ],
          [
           "Fluroxene|Cf3Ch2Och=Ch2|Fluoromar|Fluoroxene"
          ],
          [
           "Fomepizole"
          ],
          [
           "Methimazole"
          ],
          [
           "Erythrityl|Cardilate"
          ],
          [
           "Erythrityl Tetranitrate"
          ],
          [
           "Divinyl Ether|Vinyl-Ether|Divinylether|Vinyl Ether"
          ],
          [
           "Succimer"
          ],
          [
           "Mecloralurea"
          ],
          [
           "2-Butanone|Butanone|Methyl Ethyl Ketone"
          ],
          [
           "Ethyl Acetate"
          ],
          [
           "Gamma Hydroxybutyric Acid|4-Hydroxybutanoic Acid"
          ],
          [
           "Zoledronate|Zoledronic Acid"
          ],
          [
           "2-Pentanone"
          ],
          [
           "Propyl Acetate"
          ],
          [
           "Isopropyl Acetate"
          ],
          [
           "Mechlorethamine"
          ],
          [
           "Amyl Nitrite|Pentyl Nitrite"
          ],
          [
           "Acamprosate"
          ],
          [
           "1-Pentanol"
          ],
          [
           "Sec-Butylcarbinol|2-Methyl-1-Butanol"
          ],
          [
           "Amylene-Hydrate|Amylene Hydrate|2-Methyl-2-Butanol"
          ],
          [
           "3-Methyl-1-Butanol|Isoamyl Alcohol"
          ],
          [
           "Choline"
          ],
          [
           "Amifostine"
          ],
          [
           "Mercaptopurine|6-Mercaptopurine"
          ],
          [
           "Adenine"
          ],
          [
           "Thioguanine"
          ],
          [
           "Pyrithione"
          ],
          [
           "Dalfampridine"
          ],
          [
           "Dimethadione"
          ],
          [
           "Y-G 16|18453-07-1|Y-G16|Thiazole-22-Aminoethyl|Zinc 11886332|Yg16|5-68|2-(2-Aminoethyl)Thiazole"
          ],
          [
           "Skb2|Ici17148|7120-01-6|Cds1 000170|B-038, Ici17148|2|N-(4-Methyl-1,3-Thiazol-2-Yl)Guanidine"
          ],
          [
           "Ici 17148|Ici17148|2-(5-Methyl-1,3-Thiazol-2-Yl)Guanidine"
          ],
          [
           "Carmustine|Bcnu|Bis(Chloroethyl)Nitrosourea"
          ],
          [
           "Betazole"
          ],
          [
           "Tiopronin"
          ],
          [
           "Acetylcysteine"
          ],
          [
           "Carbocysteine"
          ],
          [
           "Piracetam"
          ],
          [
           "Pentylenetetrazole|Pentetrazol|Pentylenetetrazol"
          ],
          [
           "Gluconolactone"
          ],
          [
           "Aminocyclopentanecarboxylic Acid|Cycloleucine"
          ],
          [
           "Methyl Aminolevulinate"
          ],
          [
           "Cyclohexane"
          ],
          [
           "Methylcyclopentane"
          ],
          [
           "Mitolactol"
          ],
          [
           "L-Cystine|Cystine"
          ],
          [
           "Cgp-37849|(E)-2-Amino-4-Methyl-5-Phosphonopent-3-Enoic Acid"
          ],
          [
           "Butyl Acetate"
          ],
          [
           "Isobutyl Acetate"
          ],
          [
           "Paraldehyde"
          ],
          [
           "Leucine"
          ],
          [
           "Hexane|N-Hexane"
          ],
          [
           "2-Methylpentane|Isohexane"
          ],
          [
           "2,2-Dimethylbutane|Hexane|22-Dimethylbutane"
          ],
          [
           "Isoflurophate"
          ],
          [
           "Carbachol|Carbamoylcholine"
          ],
          [
           "Tertiary-Amyl Methyl Ether|Tert-Amylmethylether|Tert-Amyl Methyl Ether"
          ],
          [
           "Ethyl T-Butyl Ether|Tert-Butylethylether|Tert-Butyl Ethyl Ether"
          ],
          [
           "Hexitol"
          ],
          [
           "Mannitol|D-Mannitol"
          ],
          [
           "Treosulfan"
          ],
          [
           "Trientine Hydrochloride|Trientine"
          ],
          [
           "Niacin|Nicotinic Acid"
          ],
          [
           "Benzene"
          ],
          [
           "Dichlorphenamide"
          ],
          [
           "Lindane|Hexachlorocyclohexane"
          ],
          [
           "Nicotinamide|Niacinamide"
          ],
          [
           "Temozolomide"
          ],
          [
           "Phenol"
          ],
          [
           "Nicotinyl Alcohol|3-Pyridinemethanol"
          ],
          [
           "Clomethiazole|Chlomethiazole"
          ],
          [
           "Cetohexazine"
          ],
          [
           "Dimiracetam"
          ],
          [
           "Gaboxadol"
          ],
          [
           "Sulfanilamide"
          ],
          [
           "Isosorbide Dinitrate"
          ],
          [
           "Ascorbic|D-Erythro-Hex-2-Enonic Acid, Gamma-Lactone"
          ],
          [
           "Ampyzine"
          ],
          [
           "Trimethadione"
          ],
          [
           "Isosorbide Mononitrate"
          ],
          [
           "Misonidazole,Fluoro"
          ],
          [
           "Carbimazole"
          ],
          [
           "5-Methyl-5-Ethyl Barbituric Acid|Nsc 30403|5-Ethyl-5-Methyl-1H,3H,5H-Pyrimidin-2,4,6-Trione"
          ],
          [
           "Propylthiouracil"
          ],
          [
           "Penthrichloral"
          ],
          [
           "Ethosuximide"
          ],
          [
           "Paramethadione"
          ],
          [
           "Aceglutamide"
          ],
          [
           "Carbromal"
          ],
          [
           "Methylcyclohexane|Cyclohexylmethane"
          ],
          [
           "Ibrotamide"
          ],
          [
           "Cgs-19755|Selfotel"
          ],
          [
           "Pentyl Acetate"
          ],
          [
           "Isopentylacetate|Isopentyl Acetate|Isoamyl Acetate"
          ],
          [
           "Ifosfamide"
          ],
          [
           "Cyclophosphamide"
          ],
          [
           "Emylcamate"
          ],
          [
           "Heptane|N-Heptane"
          ],
          [
           "3-Methylhexane|2-Ethylpentane"
          ],
          [
           "(-)-3-Methylhexane"
          ],
          [
           "Cimemoxin"
          ],
          [
           "Milacemide"
          ],
          [
           "Bethanechol Chloride|Bethanechol"
          ],
          [
           "Taurolidine"
          ],
          [
           "Sulfonmethane"
          ],
          [
           "Midaflur"
          ],
          [
           "Chlorzoxazone"
          ],
          [
           "Chlorothiazide"
          ],
          [
           "Salicylic Acid|69-72-7|Salicylate"
          ],
          [
           "P-Aminobenzoic Acid|4-Aminobenzoic Acid"
          ],
          [
           "Aminosalicylic Acid|Aminosalicylicacid|4-Aminosalicylic Acid"
          ],
          [
           "Mesalamine"
          ],
          [
           "Carzenide"
          ],
          [
           "Toluene"
          ],
          [
           "Hydrochlorothiazide"
          ],
          [
           "Pralidoxime Chloride|Pralidoxime|Duodote"
          ],
          [
           "Paraxanthine"
          ],
          [
           "Theobromine|83-67-0"
          ],
          [
           "Theophylline|58-55-9|Theophyline|9-C1|Aminophylline"
          ],
          [
           "Benzyl-Alcohol|Benzyl Alcohol"
          ],
          [
           "Mequinol"
          ],
          [
           "Ethchlorvynol"
          ],
          [
           "Allomethadione"
          ],
          [
           "Taurosteine"
          ],
          [
           "Perflubron"
          ],
          [
           "Ethylbenzene"
          ],
          [
           "M-Xylene"
          ],
          [
           "O-Xylene"
          ],
          [
           "Pyridostigminebromide|2-Ethoxy-6-Fluorophenylboronic Acid"
          ],
          [
           "Sulfacetamide"
          ],
          [
           "Mimosine|2-Amino-3-(3-Hydroxy-4-Oxopyridin-1-Yl)Propanoic Acid"
          ],
          [
           "Tenilsetam"
          ],
          [
           "Caffeine|58-08-2"
          ],
          [
           "Enprofylline"
          ],
          [
           "Penicillic Acid"
          ],
          [
           "Lamivudine"
          ],
          [
           "Desciclovir"
          ],
          [
           "Aciclovir|Acyclovir"
          ],
          [
           "Cp21|1-Ethyl-3-Hydroxy-2-Methylpyridin-4(1H)-One"
          ],
          [
           "Norfenefrine"
          ],
          [
           "Pyridoxine"
          ],
          [
           "Norepinephrine"
          ],
          [
           "2,3,5,6-Tetramethylpyrazine"
          ],
          [
           "Mebanazine"
          ],
          [
           "Betahistine|5638-76-6|Y-G14|5-66"
          ],
          [
           "Phenelzine|Phenelzinesulfate"
          ],
          [
           "Barbital"
          ],
          [
           "Etrabamine"
          ],
          [
           "1-(2-Pyrimidinyl)-Piperazine|2-(1-Piperazinyl)Pyrimidine"
          ],
          [
           "Decitabine"
          ],
          [
           "1-[3,4-Dihydroxy-5-(Hydroxymethyl)Oxolan-2-Yl]-1H-1,2,4-Triazole-3-Carboxamide"
          ],
          [
           "Adefovir"
          ],
          [
           "Tinidazole"
          ],
          [
           "Bemegride"
          ],
          [
           "Arecoline"
          ],
          [
           "Milameline|N-Methoxy-1-(1-Methyl-5,6-Dihydro-2H-Pyridin-3-Yl)Methanimine"
          ],
          [
           "Etiracetam"
          ],
          [
           "Levetiracetam|Memantine, Namenda"
          ],
          [
           "Cidofovir"
          ],
          [
           "1,4-Divinyloxybutane|Butane, 1,4-Bis(Ethenyloxy)-"
          ],
          [
           "Chloralodol"
          ],
          [
           "Streptozocin"
          ],
          [
           "Oxanamide"
          ],
          [
           "Tranexamic Acid"
          ],
          [
           "1-Octene"
          ],
          [
           "1,2-Dimethylcyclohexane|Hexahydro-O-Xylene"
          ],
          [
           "Pentabamate"
          ],
          [
           "Cgp-39551|(E)-(4-Amino-5-Ethoxy-2-Methyl-5-Oxopent-2-En-1-Yl)Phosphonic Acid"
          ],
          [
           "Valproic Acid|99-66-1|Sodium Valproate|Valproic-Acid|Valproicacid"
          ],
          [
           "Valpromide"
          ],
          [
           "Valnoctamide"
          ],
          [
           "Pregabalin|3-(Aminomethyl)-5-Methylhexanoic Acid"
          ],
          [
           "Miglitol"
          ],
          [
           "Octane"
          ],
          [
           "2-Methylheptane|2-Methyl Heptane"
          ],
          [
           "Methacholine"
          ],
          [
           "Sulfonethylmethane"
          ],
          [
           "Licostinel"
          ],
          [
           "Riluzole"
          ],
          [
           "Triclacetamol"
          ],
          [
           "Diazoxide"
          ],
          [
           "Furazolidone|Furazolidona"
          ],
          [
           "Styrene|Vinylbenzene"
          ],
          [
           "Brosotamide"
          ],
          [
           "Guanabenz|2-[(Z)-(2,6-Dichlorophenyl)Methylideneamino]Guanidine"
          ],
          [
           "Hydroflumethiazide"
          ],
          [
           "Zonisamide"
          ],
          [
           "Hydralazine Hydrochloride|Hydralazine"
          ],
          [
           "Sr-4688|4-(2-Thienyl)But-3-En-2-One"
          ],
          [
           "Fluoresone"
          ],
          [
           "Nicorandil"
          ],
          [
           "Paracetamol|103-90-2|Acetaminophen|Acetaminophen/Paracetamol|P-Acetamidophenol"
          ],
          [
           "Metacetamol"
          ],
          [
           "Pyridoxal"
          ],
          [
           "( + )-4-Fluorotranylcypromine|(1S,2R)-2-(4-Fluorophenyl)Cyclopropanamine"
          ],
          [
           "Phenacemide"
          ],
          [
           "Aminohippurate|Aminohippuric Acid"
          ],
          [
           "Sulfamethizole"
          ],
          [
           "Salicylicacid|1-Chloro-4-Propylbenzene"
          ],
          [
           "Methyclothiazide"
          ],
          [
           "Chlorphenesin"
          ],
          [
           "Gemcitabine"
          ],
          [
           null
          ],
          [
           "Floxuridine"
          ],
          [
           "Idoxuridine"
          ],
          [
           "Nsc 15312|1,2,3,4-Tetrahydroisoquinoline"
          ],
          [
           "1,2,3,4-Tetrahydroquinoline|Kusol"
          ],
          [
           "Tranylcypromine|Parnate"
          ],
          [
           "Tranylcypromine"
          ],
          [
           "138474-57-4|Tz-15|Imidazolidine, 2-(Phenylimino)-"
          ],
          [
           "43170-96-3|Y-G20|Yg20|1-47|2-(Imidazo[1,2-A]Pyridin-2-Yl)Ethanamine"
          ],
          [
           "Cathinone"
          ],
          [
           "4-Oh-Tiq|1,2,3,4-Tetrahydroisoquinolin-4-Ol"
          ],
          [
           "Ethenzamide"
          ],
          [
           "Parapropamol"
          ],
          [
           "Dl-Dopa"
          ],
          [
           "Levodopa"
          ],
          [
           "Droxidopa"
          ],
          [
           "Saclofen"
          ],
          [
           "Nornicotine|Nor-Nicotine"
          ],
          [
           "494-97-3|3-[(2S)-Pyrrolidin-2-Yl]Pyridine"
          ],
          [
           "Uridine"
          ],
          [
           "Bbcpd10|112598-26-2|Chebi: 163710|B-047|Y-G12|28|11|4-(3-Amino-1H-1,2,4-Triazol-5-Yl)-N,N-Dimethylpyridin-2-Amine"
          ],
          [
           "Amfetamine|Amphetamine"
          ],
          [
           "Dexamphetamine|Dextroamphetamine, Dexedrine|Dexamfetamine|Dextroamphetamine"
          ],
          [
           "Levamphetamine|Levamfetamine"
          ],
          [
           "Iproniazid"
          ],
          [
           "7481-89-2|Zalcitabine|2',3'-Dideoxycytidine"
          ],
          [
           "4-Amino-1-[(2S,5S)-5-(Hydroxymethyl)Tetrahydrofuran-2-Yl]Pyrimidin-2-One"
          ],
          [
           "Cytarabine"
          ],
          [
           "Mizoribine"
          ],
          [
           "Buciclovir"
          ],
          [
           "Hydroxyamphetamine|4-(2-Aminopropyl)Phenol"
          ],
          [
           "Pyrithyldione"
          ],
          [
           "Metaraminol"
          ],
          [
           "Cp102|4(1H)-Pyridinone, 2-Ethyl-3-Hydroxy-1-(2-Hydroxyethyl)-"
          ],
          [
           "Cp41|4(1H)-Pyridinone, 3-Hydroxy-1-(3-Hydroxypropyl)-2-Methyl-"
          ],
          [
           "Y-G 15|6304-27-4|Y-G15|N,N-Dimethylpyridine-2-Ethylamine|Yg15|5-67|2-(2-Dimethylaminoethyl)Pyridine"
          ],
          [
           "Pheniprazine"
          ],
          [
           "Fenoxypropazine|Phenoxypropazine"
          ],
          [
           "Alaptide"
          ],
          [
           "5-Propyl-5-Ethyl Barbituric Acid|5-Ethyl-5-Propyl-1,3-Diazinane-2,4,6-Trione|5-Ethyl-5-Propylpyrimidine-2,4,6(1H,3H,5H)-Trione"
          ],
          [
           "Metharbital"
          ],
          [
           "Tenofovir"
          ],
          [
           "Broxaterol"
          ],
          [
           "Acecarbromal"
          ],
          [
           "Sapropterin"
          ],
          [
           "Captopril"
          ],
          [
           "Lomustine"
          ],
          [
           "Bisorcic"
          ],
          [
           "Azelaicacid|Azelaic Acid"
          ],
          [
           "Valdetamide"
          ],
          [
           "Pivagabine"
          ],
          [
           "Pantothenic|Dl-Pantothenic Acid"
          ],
          [
           "1-Nonene"
          ],
          [
           "1,2,4-Trimethylcyclohexane|Tripropylphosphine"
          ],
          [
           "Trofosfamide"
          ],
          [
           "Meprobamate"
          ],
          [
           "Altretamine"
          ],
          [
           "Isometheptene"
          ],
          [
           "Dexpanthenol"
          ],
          [
           "Nonane|N-Nonane"
          ],
          [
           "2-Methyl Octane|2-Methyl Nonane|Isononane|2-Methyloctane"
          ],
          [
           "Echothiophate"
          ],
          [
           "Ibandronate|Ibandronic Acid"
          ],
          [
           "Haloprogin"
          ],
          [
           "Chloroxine"
          ],
          [
           "Clioquinol"
          ],
          [
           "Iodoquinol"
          ],
          [
           "Nitroxoline"
          ],
          [
           "Coumarin"
          ],
          [
           "Lamotrigine"
          ],
          [
           "Azathioprine"
          ],
          [
           "38941-33-2|Tz-19|2-(2,4,6-Tribromophenylimino)Imidazolidine"
          ],
          [
           "40065-09-6|Tz-21|2-(4-Bromo-2,6-Dichlorophenylimino)Imidazoline"
          ],
          [
           "Clidafidine"
          ],
          [
           "21571-08-4|Tz-18|1H-Imidazol-2-Amine, 4,5-Dihydro-N-(2,4,6-Trichlorophenyl)-"
          ],
          [
           "Tizanidine"
          ],
          [
           "Pemoline|Pemolina [Italian]"
          ],
          [
           "50-78-2|Aspirin|Acetylsalicylic Acid|Acetyl Salicilic Acid|Acetylsalicylic Acid, Aspirin|Acetylsalicylate"
          ],
          [
           "4205-93-0|Tz-2|N-(2,6-Dibromophenyl)-4,5-Dihydro-1H-Imidazol-2-Amine"
          ],
          [
           "Romifidine"
          ],
          [
           "59465-39-3|Tz-11|N-(2,5-Dichlorophenyl)-4,5-Dihydro-1H-Imidazol-2-Amine"
          ],
          [
           "23830-88-8|St 363|Tz-10|2-(2,4-Dichlorophenylimino)-Imidazolidine"
          ],
          [
           "Clonidine|4205-90-7|Tz-1"
          ],
          [
           null
          ],
          [
           "9-C7|S114|2-(5,6-Dichloroindazol-1-Yl)Ethanamine"
          ],
          [
           "Diloxanide"
          ],
          [
           "59465-54-2|2-(2,6-Difl Ph Imino)Imidazolidine"
          ],
          [
           "Sulfathiazole"
          ],
          [
           "Salicyluric Acid|Salicylurate|Salicyluricacid"
          ],
          [
           "Dichloromethane|Methylene-Chloride|Methylenechloride|Methylene Chloride"
          ],
          [
           "Methane"
          ],
          [
           "Methanol"
          ],
          [
           "Guanidine"
          ],
          [
           "Bromoform"
          ],
          [
           "Carbon Disulfide|Carbon Disulphide|Carbon Bisulfide"
          ],
          [
           "Sulphur Hexafluoride|Sulfur Hexafluoride|Elegas"
          ],
          [
           "Hydrazine"
          ],
          [
           "Krypton"
          ],
          [
           "Lithium"
          ],
          [
           "Nitrogen"
          ],
          [
           "Nitrous Oxide|Nitrous-Oxide"
          ],
          [
           "Neon"
          ],
          [
           "Radon|Thoron"
          ],
          [
           "Xenon"
          ]
         ],
         "hovertemplate": "Label=False<br>t-SNE 1=%{x}<br>t-SNE 2=%{y}<br>names=%{customdata[0]}<extra></extra>",
         "legendgroup": "False",
         "marker": {
          "color": "#636efa",
          "opacity": 0.5,
          "symbol": "circle"
         },
         "mode": "markers",
         "name": "False",
         "showlegend": true,
         "x": [
          -2.1188304,
          1.9063655,
          -65.813,
          9.330662,
          -60.35667,
          55.457283,
          -9.694589,
          81.62922,
          -8.982632,
          84.58658,
          11.919258,
          -23.757345,
          31.065199,
          -72.79642,
          -31.495646,
          -2.0424972,
          -34.184464,
          -12.964308,
          0.46272278,
          -48.71923,
          13.293894,
          -15.46776,
          30.025898,
          -55.325527,
          -66.98439,
          -50.031895,
          36.84711,
          -8.191408,
          7.265447,
          -25.443462,
          -68.23919,
          -50.44385,
          -35.543983,
          37.48361,
          -65.248795,
          -25.449856,
          30.622385,
          44.819,
          -28.647396,
          -20.908287,
          -17.435696,
          27.5423,
          54.96995,
          -63.296707,
          36.80296,
          -33.020557,
          24.06049,
          -35.061417,
          -7.164536,
          25.670692,
          75.96221,
          -25.759485,
          28.408472,
          -18.917524,
          -53.29561,
          -57.64488,
          -26.93004,
          21.570786,
          11.51687,
          -52.813763,
          68.016304,
          -9.900014,
          -30.374868,
          11.916462,
          -33.69044,
          15.862008,
          38.64859,
          10.379782,
          -50.238052,
          21.41339,
          33.033863,
          13.410303,
          43.12194,
          -49.62497,
          -30.205753,
          -34.817757,
          -10.946104,
          14.753162,
          60.197536,
          34.752823,
          1.8470874,
          17.197498,
          34.755966,
          50.583546,
          57.915466,
          -65.91347,
          75.89635,
          -50.25058,
          -61.000336,
          -9.658013,
          13.69973,
          10.99364,
          3.773287,
          36.371647,
          -0.52912146,
          -7.0016117,
          -10.98991,
          44.332672,
          60.803722,
          -46.672607,
          -22.4853,
          0.7922513,
          16.409084,
          -36.023193,
          16.025805,
          -26.446333,
          -71.33427,
          29.848969,
          30.248125,
          -0.3536646,
          86.7486,
          22.249737,
          -8.375327,
          -24.142595,
          4.1478095,
          -53.479286,
          27.579428,
          43.298183,
          35.040672,
          -30.738447,
          27.96238,
          -62.516483,
          60.353973,
          30.291008,
          84.660965,
          -11.793394,
          7.8575125,
          -3.8561144,
          -21.142242,
          -50.424026,
          45.010006,
          -3.4153976,
          24.782188,
          -22.89254,
          -50.83021,
          33.241302,
          24.249954,
          36.247074,
          -30.357328,
          -57.914692,
          -24.680391,
          8.654235,
          -21.406631,
          -39.559868,
          -12.389929,
          -64.7947,
          -26.390814,
          -36.257046,
          -2.5435712,
          -40.1777,
          26.209494,
          -23.376896,
          -5.8545904,
          12.601416,
          -26.54013,
          41.909977,
          -48.43479,
          45.502792,
          -71.70849,
          43.113888,
          70.254425,
          40.23953,
          -18.713057,
          22.097599,
          23.999765,
          87.167595,
          -14.899664,
          -49.450985,
          -49.525005,
          -31.884455,
          -23.417736,
          -35.247982,
          -7.845237,
          0.16692361,
          -43.19046,
          70.24143,
          50.670284,
          -6.4635,
          -63.55849,
          -29.26026,
          36.980034,
          67.48771,
          69.95014,
          85.60827,
          -47.291252,
          -44.138123,
          -16.94165,
          2.7194173,
          -6.8692255,
          38.94477,
          81.622116,
          79.80487,
          55.370655,
          -51.07693,
          15.860437,
          -64.385826,
          -22.35915,
          46.925533,
          51.595406,
          16.991764,
          47.37947,
          1.1090358,
          -36.34377,
          -5.7957687,
          -62.070995,
          0.7727171,
          55.65127,
          -39.98372,
          -65.17469,
          45.86336,
          -16.988598,
          -65.21914,
          18.653734,
          -17.226755,
          65.13207,
          -25.069675,
          43.55424,
          22.511482,
          34.802525,
          76.95577,
          -63.26443,
          -2.4085712,
          -64.73624,
          -19.079828,
          -4.311089,
          12.922274,
          -52.11531,
          -34.411106,
          -20.9566,
          -14.961336,
          -66.06516,
          16.055523,
          59.467354,
          13.937661,
          41.67925,
          -7.6596804,
          83.39329,
          26.496527,
          47.011887,
          13.528817,
          58.56511,
          -55.77298,
          -52.08258,
          24.25372,
          57.93001,
          33.72211,
          -30.196915,
          26.284002,
          75.46459,
          -0.30993947,
          3.8292315,
          -43.74198,
          27.130352,
          85.426796,
          59.75463,
          61.251385,
          -55.4215,
          -56.498158,
          46.275528,
          82.01049,
          -11.492322,
          58.840557,
          9.560243,
          -29.432749,
          -63.88427,
          14.299422,
          39.954533,
          -31.619114,
          -19.702213,
          -50.037823,
          -59.2339,
          -4.437544,
          -3.2882233,
          90.68269,
          34.173595,
          48.719364,
          -31.073925,
          -34.166832,
          -40.576874,
          21.978334,
          -36.935013,
          51.674465,
          26.40495,
          -12.953041,
          67.87608,
          -17.696985,
          18.992224,
          6.1030188,
          22.656086,
          -19.999344,
          -21.570847,
          85.963425,
          15.543038,
          -18.584557,
          28.407652,
          32.53807,
          -56.01652,
          9.419443,
          -9.955754,
          -57.695858,
          -33.48033,
          -5.926439,
          68.00099,
          -13.33011,
          6.811195,
          -54.99459,
          28.108526,
          17.616207,
          -52.500755,
          -19.603138,
          -30.4308,
          28.895212,
          -65.94796,
          16.711811,
          -11.436153,
          -28.590837,
          -34.213886,
          -8.272906,
          4.633672,
          17.352741,
          -1.0881734,
          49.148376,
          31.809332,
          34.9866,
          24.619589,
          -54.88529,
          39.326805,
          -21.248383,
          -19.495104,
          82.93699,
          19.212994,
          62.176426,
          42.829563,
          1.7874217,
          -14.322588,
          -27.04284,
          -65.89738,
          32.52223,
          27.761763,
          -35.880207,
          39.863453,
          -19.934227,
          -30.830328,
          61.47883,
          50.57767,
          -62.283855,
          -22.723436,
          -6.6942854,
          -0.9334729,
          -14.608949,
          -58.8874,
          16.409948,
          -27.935324,
          -2.94153,
          15.259108,
          -25.277733,
          -49.63891,
          -21.88122,
          0.1796908,
          27.159918,
          62.33418,
          59.518597,
          -19.939749,
          -22.16724,
          -20.792948,
          0.06395736,
          44.558067,
          26.922873,
          -29.019577,
          32.83784,
          -55.776844,
          -11.0977,
          7.1657696,
          57.56815,
          38.387035,
          2.5090218,
          63.767464,
          -7.333087,
          -49.515873,
          45.03829,
          29.434391,
          86.9742,
          48.140423,
          -66.042915,
          -41.242535,
          -35.980026,
          46.619366,
          24.21986,
          -63.305008,
          50.03011,
          48.768623,
          17.810274,
          76.20169,
          14.746436,
          50.42325,
          -18.457373,
          21.711044,
          74.41958,
          25.471512,
          28.493818,
          -21.079414,
          15.365711,
          -64.12882,
          28.252918,
          42.96688,
          -44.406055,
          -0.56487656,
          21.978472,
          -36.412262,
          83.19588,
          -0.48481095,
          29.625797,
          -59.2085,
          -30.206207,
          -12.298618,
          -2.8097224,
          16.48369,
          85.0251,
          -21.424923,
          -28.738033,
          36.508812,
          15.559597,
          -38.308636,
          34.887524,
          -13.679375,
          -54.12922,
          -48.34053,
          33.35828,
          -15.932872,
          -51.52727,
          -11.709289,
          64.76971,
          -9.988964,
          -64.58169,
          -38.32647,
          -57.51599,
          11.550081,
          -3.5576594,
          -35.436012,
          84.551765,
          -41.23019,
          -49.17804,
          -41.622154,
          -61.009502,
          -33.384464,
          -9.943569,
          40.639893,
          -58.594105,
          -26.071684,
          -57.34284,
          13.495433,
          -56.489902,
          -64.65734,
          -38.394012,
          50.806335,
          32.96017,
          8.168658,
          15.488751,
          16.568949,
          -1.2973621,
          -35.437725,
          54.0108,
          16.181566,
          24.922342,
          -40.795357,
          -33.61369,
          57.354073,
          46.6496,
          -56.420288,
          -17.73663,
          69.25441,
          13.351998,
          -12.2011795,
          7.8025393,
          -64.04143,
          -51.496227,
          -21.797886,
          61.84241,
          -1.9868246,
          -10.8944025,
          -10.930802,
          -18.76632,
          -39.310604,
          -14.408493,
          84.41425,
          27.087366,
          16.763683,
          -38.239685,
          -29.795273,
          -42.68672,
          71.86983,
          -39.755653,
          -47.68142,
          -32.21808,
          -19.693827,
          17.254833,
          89.82599,
          -25.968815,
          -28.8627,
          1.5378896,
          -57.771984,
          39.656174,
          -15.493736,
          -19.196985,
          -57.659885,
          46.778664,
          24.94654,
          43.263412,
          -20.873632,
          -56.652637,
          -50.03968,
          -65.838974,
          32.62961,
          41.145176,
          -10.638,
          -12.58102,
          -65.3845,
          6.744033,
          -23.619314,
          -61.592007,
          36.833767,
          24.703304,
          -48.84006,
          -28.282253,
          -30.432127,
          -1.4791652,
          80.62637,
          -50.3662,
          18.674225,
          -18.534317,
          -25.755613,
          -12.02692,
          -11.102548,
          -32.57899,
          -8.615029,
          -0.31739202,
          32.71286,
          -44.610416,
          20.65719,
          -46.820084,
          -4.6664677,
          26.939064,
          34.76291,
          45.16162,
          -18.008604,
          42.988087,
          3.6817718,
          -29.115004,
          82.81661,
          -38.05487,
          63.172897,
          -8.657537,
          -33.31341,
          25.580446,
          -37.62697,
          -25.532719,
          64.15764,
          -25.03385,
          -43.05925,
          9.135219,
          60.886906,
          26.439142,
          -42.805756,
          83.32369,
          7.444705,
          16.208975,
          -47.42898,
          -10.619753,
          22.564835,
          -60.091454,
          0.83399373,
          -18.049742,
          36.78131,
          71.800224,
          70.773735,
          13.054147,
          -28.209835,
          90.828285,
          15.639206,
          75.6376,
          -1.4268203,
          66.87183,
          14.908814,
          -5.8603334,
          11.029741,
          9.458375,
          27.96807,
          61.977192,
          -12.436724,
          -0.9778576,
          -13.248823,
          35.50197,
          5.713302,
          -1.826856,
          -35.375584,
          -48.734062,
          77.49727,
          -2.6285346,
          90.078804,
          30.293293,
          -60.806812,
          -9.496225,
          14.142151,
          59.50654,
          24.970911,
          76.857216,
          17.184952,
          -10.8363285,
          -24.529264,
          -41.38613,
          -65.26485,
          66.90904,
          -38.18814,
          91.80125,
          -34.77443,
          40.06624,
          20.116005,
          -36.660526,
          -29.397524,
          28.29286,
          -21.842607,
          5.796876,
          -58.28948,
          -25.008022,
          -63.37903,
          20.345516,
          -41.198032,
          -56.960693,
          23.564983,
          28.75285,
          24.062805,
          -10.793926,
          1.183125,
          8.070137,
          54.439934,
          -9.884168,
          -5.4322715,
          -28.037388,
          88.595116,
          9.4995365,
          -32.419807,
          -68.937775,
          -32.789017,
          68.552826,
          83.19588,
          2.0743768,
          -41.495354,
          15.850802,
          -11.523935,
          23.781609,
          13.524621,
          84.47726,
          -55.64561,
          -36.584564,
          59.09592,
          36.78038,
          -54.84147,
          -40.86539,
          48.944622,
          -13.605084,
          -38.374252,
          -14.500646,
          20.527517,
          73.28315,
          -35.164345,
          -34.68349,
          -35.12398,
          66.384224,
          -38.260643,
          46.87382,
          53.31914,
          20.973778,
          -59.883442,
          50.745586,
          -1.9181393,
          5.2021255,
          -66.03345,
          -55.1438,
          -29.097921,
          -31.88162,
          -65.770454,
          -39.59405,
          40.738514,
          74.68182,
          -16.850203,
          -26.566093,
          -2.6065993,
          63.959705,
          7.8010893,
          64.15276,
          3.5257673,
          -36.217243,
          -36.06378,
          -15.574841,
          0.90324855,
          8.738451,
          24.726068,
          -33.78176,
          16.947138,
          -8.413128,
          -28.53348,
          60.442722,
          70.478424,
          35.70524,
          71.300186,
          -55.482296,
          24.598925,
          35.995365,
          3.6328616,
          26.633297,
          -31.356478,
          -34.457954,
          22.867462,
          87.987236,
          -12.472525,
          50.46783,
          8.393861,
          39.48641,
          -29.872313,
          18.84804,
          -33.859547,
          7.850199,
          17.69334,
          -42.17455,
          -50.57974,
          13.293694,
          -33.22039,
          -34.741245,
          -73.76381,
          70.773735,
          -9.507814,
          -32.845417,
          66.34807,
          -43.759293,
          63.21212,
          -41.77427,
          -29.810568,
          -15.800979,
          -28.247583,
          14.166394,
          63.222668,
          30.915611,
          44.17307,
          7.494186,
          -34.186497,
          -14.6008,
          -31.124523,
          -24.875547,
          -18.755684,
          -28.486666,
          2.790191,
          -51.903355,
          -12.575907,
          -24.456799,
          24.663134,
          -4.1885138,
          48.014378,
          63.997242,
          -41.362152,
          -73.66449,
          23.50361,
          81.73134,
          -31.30597,
          11.925197,
          55.457764,
          78.55838,
          26.932098,
          66.56444,
          -9.505455,
          16.402681,
          -45.254154,
          71.47456,
          20.29139,
          40.302223,
          -71.54107,
          22.991816,
          -28.423992,
          27.864908,
          57.433865,
          -25.53951,
          -73.8342,
          -28.006401,
          66.75201,
          90.83247,
          5.802523,
          -65.7283,
          -51.416916,
          21.36816,
          74.77309,
          -42.43246,
          35.113888,
          45.93209,
          -65.575325,
          64.513565,
          17.806044,
          -15.821542,
          -31.669245,
          -25.835337,
          22.886099,
          90.31823,
          -18.430923,
          68.91105,
          -2.5576804,
          84.307396,
          -40.982056,
          77.801384,
          50.94483,
          65.008896,
          -19.619986,
          64.930305,
          -8.388234,
          34.223305,
          -14.970528,
          -16.100992,
          65.82252,
          -40.576286,
          7.9186425,
          -56.30974,
          -9.028151,
          65.13801,
          -42.091824,
          -55.485188,
          15.132034,
          -24.931585,
          -34.17005,
          -60.377914,
          22.544989,
          8.052344,
          -1.0112997,
          -41.225735,
          18.864592,
          -62.786236,
          10.760597,
          -20.212694,
          -42.93248,
          -6.069387,
          -30.884901,
          -3.8950195,
          28.528254,
          -32.069675,
          47.243458,
          -47.764988,
          -55.033455,
          24.730083,
          20.650518,
          -14.875456,
          11.248098,
          -53.2004,
          -22.67807,
          -54.160484,
          -20.90939,
          48.644424,
          -34.469017,
          -21.283316,
          39.48615,
          3.2017956,
          22.046618,
          -57.276688,
          -37.132412,
          10.895371,
          -40.738937,
          -54.23065,
          -24.37857,
          80.64577,
          -7.2585177,
          -34.702423,
          -3.8640683,
          38.594032,
          38.229767,
          81.8796,
          -13.781174,
          77.79029,
          39.17749,
          -16.802938,
          25.798311,
          -2.457894,
          13.653124,
          29.426674,
          -42.727383,
          -68.70213,
          5.4502788,
          44.060677,
          -4.6600523,
          -26.140053,
          -1.3526675,
          70.936714,
          85.78558,
          5.255446,
          19.41684,
          -64.19259,
          -30.186823,
          -24.555946,
          -29.35618,
          38.332333,
          22.35756,
          37.439507,
          -41.309372,
          -19.209661,
          -32.839737,
          68.71495,
          63.126,
          11.141916,
          -21.415525,
          17.161253,
          -19.784533,
          -34.694416,
          23.05024,
          6.047261,
          89.22713,
          -13.963661,
          -1.7351713,
          74.69833,
          40.055733,
          39.46036,
          21.711056,
          21.453512,
          51.487514,
          -41.090546,
          19.273924,
          6.0782948,
          -57.143642,
          80.45875,
          16.07204,
          11.414315,
          -13.669935,
          17.563932,
          5.8513536,
          58.08888,
          7.9125175,
          -66.86169,
          -36.129433,
          15.272161,
          11.821347,
          33.366596,
          -41.33623,
          15.812053,
          -4.4483905,
          8.434588,
          -55.76045,
          -40.06881,
          -5.587949,
          -30.694075,
          83.77171,
          -55.242805,
          -62.35766,
          -19.685875,
          -9.168871,
          -26.159071,
          -26.203724,
          43.491985,
          -5.6772637,
          -29.02411,
          -18.467342,
          -5.673747,
          -30.073223,
          -68.05634,
          45.17911,
          -41.771255,
          29.984373,
          -7.042606,
          -18.301325,
          12.197435,
          76.857216,
          9.427317,
          -18.917015,
          13.359307,
          -57.945717,
          -33.022717,
          12.6683445,
          -7.6586595,
          -33.266098,
          -0.30336657,
          -20.30205,
          4.709302,
          55.418877,
          62.38674,
          -52.00238,
          -21.125797,
          28.767168,
          39.072678,
          -47.864857,
          -11.664717,
          57.53595,
          -34.762722,
          -30.057894,
          -33.157112,
          -27.848707,
          7.6759186,
          -16.762306,
          83.0605,
          -67.14419,
          -17.744625,
          25.176056,
          -49.410698,
          4.4695196,
          -64.09447,
          -38.873005,
          38.776623,
          -60.189075,
          -12.380878,
          15.148315,
          -31.643736,
          -20.34948,
          12.694994,
          -8.160227,
          11.057499,
          -7.115705,
          -20.937939,
          -27.66096,
          21.447998,
          7.261085,
          -22.857508,
          -39.787666,
          32.155643,
          33.508602,
          7.4054866,
          -47.426395,
          -36.95727,
          -8.831186,
          -58.91348,
          -8.685984,
          -41.79752,
          -17.68898,
          -36.80569,
          -30.399714,
          -42.459766,
          64.84554,
          -60.61629,
          -11.095246,
          5.6113563,
          -39.14485,
          9.148734,
          18.061224,
          24.341599,
          -10.226768,
          -19.423368,
          -18.50083,
          -32.143185,
          -12.142241,
          -19.98482,
          -55.68952,
          -62.52377,
          -20.961481,
          -29.130323,
          -7.446986,
          10.928334,
          80.01833,
          -7.044891,
          29.619287,
          7.7405963,
          43.130184,
          10.522848,
          -49.124233,
          12.065959,
          34.12285,
          -19.126514,
          8.766663,
          -27.881927,
          -6.9776125,
          83.30516,
          -56.49448,
          -55.637207,
          -43.64517,
          -30.667887,
          15.447854,
          7.4124,
          42.338024,
          -28.431412,
          72.80736,
          13.327483,
          1.4401827,
          -59.339706,
          -11.720209,
          18.993244,
          -21.058645,
          -18.671785,
          34.991287,
          77.83729,
          -46.877644,
          5.7145314,
          61.088985,
          -13.856186,
          -27.500961,
          1.787853,
          -25.480476,
          -55.21627,
          39.284996,
          58.59753,
          -29.903095,
          -10.792503,
          -53.642315,
          24.781439,
          -36.885273,
          48.28954,
          -10.081769,
          -57.306973,
          41.346786,
          -46.24317,
          -58.113018,
          -50.337486,
          -51.756905,
          13.227714,
          -42.2112,
          35.868423,
          24.93599,
          -4.8173714,
          -6.5556107,
          -47.217827,
          14.838021,
          -21.555864,
          -47.26364,
          -1.3226857,
          39.440247,
          -21.11495,
          -56.678047,
          -10.850828,
          -49.002506,
          29.927673,
          -47.758724,
          -8.354209,
          23.780798,
          1.1802356,
          -7.210059,
          13.917741,
          -19.76446,
          -4.028395,
          -38.529522,
          10.883594,
          -64.99283,
          -22.623634,
          53.905376,
          11.075984,
          -2.8187022,
          -40.796738,
          38.537216,
          21.636316,
          7.2445073,
          4.950369,
          57.755726,
          -6.9677515,
          -2.8975253,
          -35.61012,
          -41.267834,
          3.4198005,
          19.309044,
          -63.733253,
          4.133683,
          -43.968945,
          -18.083673,
          -26.611662,
          31.211351,
          -23.869091,
          -12.597823,
          -0.45668542,
          37.637222,
          -41.200382,
          -50.36515,
          84.545334,
          14.610414,
          32.30334,
          16.43756,
          -30.513752,
          26.602438,
          -7.390838,
          -28.137293,
          -39.277493,
          43.183895,
          37.871998,
          36.550117,
          54.578197,
          -14.368976,
          -8.164704,
          -63.05344,
          -33.266163,
          -35.093395,
          -35.49731,
          54.63398,
          12.167572,
          43.988403,
          -34.528255,
          1.6672913,
          20.870382,
          -67.244316,
          -10.649303,
          -61.436443,
          -22.476576,
          62.660076,
          -43.91121,
          40.99162,
          -59.454266,
          1.3455967,
          14.194228,
          -37.16803,
          9.312441,
          51.797047,
          32.149963,
          -61.895077,
          24.042616,
          48.28137,
          -11.838074,
          3.938303,
          -42.01071,
          -25.424994,
          -40.8224,
          -64.238174,
          34.424084,
          24.175066,
          -73.33812,
          -24.863388,
          26.859756,
          51.903168,
          6.0644693,
          25.670692,
          82.86195,
          21.999216,
          -26.306887,
          13.085496,
          28.37527,
          34.246914,
          -8.301315,
          14.30267,
          -38.234516,
          37.192204,
          75.755,
          67.44612,
          78.29153,
          -9.544085,
          88.03419,
          -31.887733,
          66.05546,
          14.531435,
          -7.664411,
          78.565285,
          -40.801888,
          16.505884,
          -32.744465,
          20.049747,
          -0.2903917,
          -0.47167784,
          58.563286,
          -10.931025,
          -59.64291,
          -26.546858,
          -24.485268,
          61.57,
          -11.810522,
          -53.488693,
          75.921196,
          -4.819947,
          -8.183519,
          60.36334,
          37.73131,
          -13.121268,
          12.431533,
          10.019914,
          16.290081,
          15.513694,
          -9.60659,
          -29.35686,
          23.971254,
          49.622147,
          -68.20382,
          44.251984,
          77.04589,
          -28.083214,
          25.403255,
          -31.536295,
          -10.633328,
          43.997044,
          12.171781,
          -43.30154,
          -63.49359,
          39.306587,
          23.785828,
          -7.288748,
          -42.862717,
          2.6062005,
          72.02768,
          -10.742965,
          -34.237385,
          46.35028,
          13.675245,
          -51.496574,
          -61.275364,
          -6.872273,
          -38.68596,
          -22.937899,
          48.16659,
          -10.537417,
          -18.44707,
          -61.716972,
          28.733181,
          -66.10051,
          -12.234865,
          -62.80253,
          -21.344545,
          2.2822933,
          9.280675,
          16.177286,
          52.277416,
          -35.163036,
          -65.25831,
          48.42364,
          9.4587345,
          4.6922097,
          0.6950894,
          -29.421743,
          -42.224552,
          -50.531967,
          -52.194836,
          84.31137,
          60.032143,
          -43.899204,
          66.62009,
          -0.21532294,
          28.935495,
          35.583714,
          -6.383318,
          -56.71482,
          -43.833485,
          -36.606403,
          -64.427925,
          -2.6210551,
          7.3394136,
          -49.93377,
          -63.493507,
          -34.06451,
          59.127968,
          39.788383,
          -63.48534,
          -8.676055,
          10.316258,
          -65.53239,
          -8.49995,
          -27.48503,
          -6.486782,
          -47.560062,
          35.350246,
          -24.257317,
          -9.958897,
          -67.51934,
          -6.9681535,
          -74.325874,
          42.227196,
          3.044102,
          -22.542673,
          -27.246458,
          21.420889,
          -69.505066,
          6.162881,
          -0.27143705,
          27.0895,
          83.416435,
          38.879665,
          -21.684586,
          3.3238792,
          -41.172134,
          13.119022,
          -21.279354,
          -0.6934009,
          -8.48528,
          -19.446314,
          25.174763,
          59.49848,
          92.263794,
          11.133047,
          -0.07413256,
          -8.77439,
          15.46897,
          10.433285,
          -31.389517,
          -33.95326,
          -34.201595,
          -6.99675,
          -49.819496,
          70.15165,
          -6.333048,
          1.6706841,
          44.80305,
          -2.6246088,
          30.303139,
          -46.999332,
          -44.606747,
          -46.946312,
          -43.45572,
          -55.87891,
          14.591777,
          -32.56896,
          -54.416862,
          -40.58924,
          -10.029866,
          12.580806,
          34.50716,
          -52.23435,
          61.2669,
          -30.36629,
          -47.906796,
          74.269936,
          38.55873,
          5.677112,
          40.952164,
          15.422639,
          -4.2716885,
          -40.371277,
          13.497031,
          -29.172943,
          -8.794407,
          39.292156,
          -27.909645,
          20.560492,
          46.978874,
          61.993145,
          -28.408499,
          -62.575623,
          -26.813654,
          -21.115364,
          2.8264983,
          -13.521738,
          83.20627,
          10.63773,
          61.38741,
          0.5908208,
          -1.0261902,
          5.3632956,
          -42.259377,
          -7.7776227,
          34.135235,
          42.363747,
          9.458734,
          -64.10051,
          47.660152,
          33.353973,
          -6.418891,
          5.27121,
          -38.504986,
          23.13269,
          -0.4693122,
          65.718895,
          -27.436968,
          14.319438,
          -37.919186,
          11.300489,
          -1.7184615,
          -11.730229,
          34.339355,
          64.49208,
          7.362157,
          -62.312637,
          -22.24628,
          3.731852,
          -73.322754,
          69.81873,
          -15.799027,
          -34.693226,
          -43.37263,
          22.408028,
          -20.39792,
          39.603786,
          -10.329477,
          -17.29701,
          -21.373499,
          46.453568,
          29.643946,
          -24.87221,
          -33.592045,
          56.481297,
          -3.8367898,
          -63.313293,
          39.885494,
          -48.255676,
          -40.475613,
          15.084531,
          -42.557617,
          -33.979282,
          -57.526882,
          7.2697196,
          60.542213,
          79.457726,
          -42.263165,
          47.750484,
          -34.621384,
          -5.121926,
          -47.270714,
          -23.170868,
          -49.153862,
          89.84378,
          -30.57579,
          -11.365201,
          -22.937057,
          6.7635803,
          -65.231766,
          -15.762607,
          -32.057503,
          -1.7972823,
          -26.701427,
          -4.6339493,
          73.1213,
          43.83901,
          -15.2563305,
          63.133263,
          2.4917035,
          26.21477,
          -0.4364386,
          -28.942696,
          41.678772,
          18.791811,
          -47.391895,
          -9.420725,
          -70.39994,
          -62.52121,
          -56.25364,
          66.03808,
          -7.120966,
          -54.128906,
          30.179607,
          -34.287582,
          -32.683323,
          41.33066,
          36.84935,
          50.336178,
          56.608627,
          -23.764738,
          -27.776312,
          3.9739017,
          40.47113,
          -10.432031,
          46.632412,
          -54.447666,
          50.100445,
          65.09058,
          -7.429817,
          36.777283,
          -29.105562,
          -50.219673,
          35.76177,
          41.64827,
          45.826748,
          40.881668,
          4.1706486,
          -57.66705,
          -10.461755,
          -29.515987,
          -22.8253,
          56.749557,
          -68.96837,
          76.96047,
          -25.077215,
          -10.175739,
          -39.0079,
          39.385567,
          35.019222,
          -24.809046,
          14.596376,
          -31.540571,
          31.87846,
          41.250507,
          46.662735,
          -26.658644,
          -2.3560746,
          14.753183,
          -60.99538,
          7.4606705,
          -49.06197,
          -8.51842,
          9.22902,
          -39.0308,
          36.526794,
          5.395396,
          7.9666214,
          -30.611607,
          -10.101904,
          -26.0625,
          -47.27355,
          -6.7960753,
          28.756786,
          -33.18492,
          51.935513,
          -6.3569245,
          -15.873188,
          -16.417164,
          -34.42283,
          -34.525604,
          -26.980955,
          -4.7151756,
          -20.46434,
          -3.4422512,
          -23.04445,
          4.620169,
          74.99336,
          -62.26856,
          0.912176,
          -32.17718,
          -10.141994,
          -19.095201,
          36.349937,
          -5.2731137,
          51.45348,
          -71.70916,
          79.59188,
          -39.412754,
          -23.076788,
          75.46817,
          27.339334,
          -23.559618,
          -41.70883,
          -62.403656,
          84.37387,
          -56.98055,
          6.4526987,
          43.705624,
          -46.43595,
          -6.6141624,
          -31.454315,
          15.25202,
          -10.936188,
          42.44793,
          -1.7044827,
          8.471712,
          -61.256813,
          -6.772283,
          -45.71891,
          85.59253,
          36.46604,
          59.201866,
          -64.815544,
          -55.21667,
          38.19297,
          -58.415653,
          -23.348127,
          -42.717228,
          40.30978,
          -2.4461846,
          33.82267,
          74.25681,
          -26.256458,
          89.08757,
          -41.565636,
          -25.286964,
          -24.901142,
          -26.597221,
          -32.57282,
          22.451231,
          -4.288452,
          19.486015,
          -19.784767,
          -49.856583,
          -62.260807,
          74.47069,
          29.282446,
          -4.4106903,
          -34.18735,
          9.5271635,
          -42.92363,
          82.96343,
          -57.72978,
          -21.03417,
          -40.063366,
          16.66015,
          57.62812,
          -15.469451,
          71.357086,
          7.647446,
          8.390152,
          65.44443,
          -20.565773,
          14.908825,
          9.459077,
          48.829018,
          -30.70478,
          26.450434,
          45.15219,
          34.77576,
          -64.254555,
          85.43649,
          78.116455,
          30.43898,
          -22.37972,
          -1.8636135,
          -48.556255,
          -53.0081,
          -33.942463,
          -4.8786783,
          -62.086807,
          -7.2021666,
          76.71666,
          4.3785515,
          30.108883,
          -31.123251,
          68.07183,
          42.21545,
          15.239151,
          -50.673347,
          36.887,
          8.299392,
          -19.284544,
          -62.56333,
          66.56836,
          19.93481,
          -26.45116,
          -45.279503,
          -68.31528,
          39.3155,
          -51.44125,
          83.19294,
          90.99914,
          33.650463,
          -18.81122,
          0.9343639,
          -51.34517,
          -22.079588,
          34.76963,
          24.77679,
          -65.74047,
          32.633236,
          48.138954,
          -62.43278,
          -57.007427,
          -24.475924,
          0.75564945,
          32.340218,
          -41.137367,
          36.201298,
          5.813973,
          -9.91646,
          -66.02294,
          0.99921024,
          47.83481,
          -28.016113,
          -29.193174,
          -34.218307,
          21.16908,
          -22.839033,
          -64.07003,
          40.732914,
          -31.427977,
          0.85760355,
          17.1019,
          3.7261665,
          88.98556,
          3.827866,
          -53.16328,
          74.73765,
          -28.453722,
          -66.67224,
          -26.370182,
          -4.6036816,
          -72.72545,
          55.249012,
          -15.762285,
          40.91388,
          -41.195705,
          -23.381016,
          64.15274,
          0.1361899,
          43.49418,
          8.386995,
          4.2736745,
          15.826523,
          -36.607147,
          -25.390928,
          42.994297,
          -52.2323,
          83.64675,
          -39.679302,
          -23.94122,
          -25.848097,
          -49.634357,
          85.23982,
          -10.921356,
          32.63881,
          -40.17758,
          -33.542877,
          57.867874,
          61.44945,
          -12.596266,
          -6.84375,
          -56.57465,
          71.36747,
          41.899345,
          26.613493,
          36.588917,
          -64.353165,
          -69.47522,
          -24.63184,
          -22.855986,
          56.94776,
          11.511241,
          3.2321317,
          -58.47098,
          7.2028427,
          -40.162773,
          14.268415,
          -35.265038,
          7.2851686,
          -0.58614355,
          -63.551582,
          62.392265,
          -23.09753,
          -37.679802,
          -24.248718,
          -32.662,
          20.62883,
          36.573086,
          -36.935165,
          30.488018,
          32.707684,
          -54.341385,
          20.271736,
          -43.356403,
          -43.715183,
          -35.071693,
          63.65562,
          79.608154,
          64.004974,
          -0.5587466,
          5.2825046,
          -25.147593,
          -33.626503,
          -2.8103166,
          -1.1954957,
          -4.6233654,
          1.0502336,
          10.591224,
          -21.037905,
          -9.086817,
          10.060138,
          -61.22376,
          27.419388,
          43.19913,
          34.957058,
          -5.751757,
          17.50552,
          -25.855309,
          -32.11048,
          -32.05501,
          66.77199,
          -40.8462,
          24.317705,
          74.65221,
          -43.075806,
          -52.085213,
          -45.50042,
          44.128742,
          2.5087564,
          -14.5283575,
          -49.174446,
          -59.72157,
          -11.502684,
          -36.89856,
          -6.9013777,
          21.741423,
          62.481155,
          7.4879837,
          58.460903,
          8.002872,
          59.87815,
          67.1154,
          61.423054,
          -26.553837,
          34.038357,
          12.42299,
          -26.493467,
          -54.75096,
          -23.601929,
          -48.033844,
          22.478746,
          -40.851818,
          -6.0719104,
          54.430035,
          -64.86156,
          -35.19322,
          63.197235,
          6.6805887,
          -32.04618,
          76.10301,
          -52.15759,
          44.552082,
          -56.934685,
          -5.456249,
          9.869143,
          -67.218895,
          -49.532402,
          -29.891119,
          -24.14224,
          38.983356,
          15.364748,
          11.868146,
          -30.091726,
          50.104675,
          -12.909617,
          14.031901,
          65.636505,
          28.427639,
          -62.895744,
          63.319157,
          40.76506,
          51.29721,
          42.169395,
          -62.025032,
          -20.520065,
          -9.168148,
          -29.963232,
          -2.9962735,
          16.873234,
          74.91514,
          48.73242,
          4.900873,
          -51.958508,
          -47.782,
          40.77287,
          -23.198622,
          46.08084,
          69.25441,
          -20.060087,
          23.407993,
          51.476643,
          0.7327205,
          42.0625,
          24.889832,
          46.840816,
          -35.07779,
          -22.600458,
          -56.41678,
          63.837322,
          37.45778,
          -33.4459,
          -70.20618,
          -53.43334,
          -3.567578,
          -6.4741054,
          -63.529945,
          24.326624,
          9.823282,
          3.8966827,
          -4.7711744,
          52.00761,
          -62.059174,
          -42.019127,
          -43.11988,
          76.71364,
          57.204628,
          12.597746,
          70.5433,
          26.256853,
          76.9541,
          -27.980896,
          16.686644,
          -27.25966,
          -33.310207,
          76.71392,
          -42.95637,
          -13.504745,
          -15.960836,
          -31.783161,
          82.03371,
          -30.079138,
          -66.16753,
          -40.587257,
          -33.61215,
          42.179005,
          4.1883388,
          7.1126,
          21.601292,
          34.23247,
          -12.408588,
          -66.048805,
          11.564489,
          -11.694028,
          57.62859,
          49.814423,
          -6.7729926,
          37.896893,
          58.95902,
          -45.864307,
          21.246315,
          -62.75787,
          10.0610285,
          -72.56227,
          25.267506,
          -5.3396597,
          -45.40755,
          17.792093,
          51.381413,
          51.71048,
          65.5851,
          -48.54623,
          16.404814,
          -62.398327,
          -23.97452,
          -39.308285,
          12.214092,
          -53.411613,
          10.878337,
          -64.71683,
          17.344454,
          -43.644966,
          61.112247,
          26.375448,
          -45.329895,
          -10.840838,
          -56.790127,
          -1.4279314,
          16.201345,
          -29.666285,
          61.108208,
          67.92527,
          8.640539,
          61.993168,
          -0.40389583,
          -43.2064,
          19.127453,
          -4.2947836,
          10.889088,
          30.904217,
          -11.429366,
          -65.59504,
          -27.892971,
          -54.304714,
          -60.29298,
          24.278532,
          -37.994164,
          42.770107,
          13.979217,
          -8.055661,
          -11.073954,
          -33.238056,
          -27.438278,
          38.63515,
          -20.361807,
          -0.08338799,
          32.914764,
          49.679726,
          -10.990615,
          -47.284733,
          -10.456107,
          -53.638176,
          -28.348454,
          11.460516,
          -34.16491,
          49.187668,
          -31.638058,
          36.39491,
          -37.944443,
          -18.33674,
          53.563744,
          -65.698326,
          -52.78243,
          -16.110115,
          -53.376705,
          32.730587,
          14.421652,
          -39.988285,
          -18.279165,
          -57.216263,
          71.306595,
          50.585155,
          -64.18595,
          -60.12285,
          -37.901634,
          4.1486063,
          -47.72316,
          -37.83242,
          31.83821,
          36.601456,
          7.398838,
          11.40284,
          -48.48692,
          -15.475444,
          -36.136627,
          42.394024,
          20.219723,
          -63.046616,
          13.908138,
          75.32867,
          -38.79836,
          55.65609,
          21.298897,
          60.873188,
          -58.11536,
          10.128223,
          37.076714,
          -33.63269,
          19.55224,
          89.08698,
          -64.353134,
          73.424545,
          33.18847,
          -32.55824,
          7.2206817,
          -12.476743,
          33.15923,
          -25.139101,
          18.601444,
          -56.257465,
          -9.494181,
          -66.85099,
          -34.978516,
          -68.59539,
          5.450279,
          -23.551355,
          37.122814,
          30.901588,
          -2.54468,
          -63.247517,
          -31.523756,
          3.3070214,
          20.926882,
          -4.7304153,
          -52.234722,
          -48.553062,
          0.94023734,
          53.16368,
          -72.40896,
          20.513796,
          20.343824,
          47.22105,
          -1.4868655,
          71.44626,
          34.76352,
          -53.15588,
          -12.018079,
          -4.6395297,
          -23.500872,
          -70.750244,
          -16.49516,
          47.362232,
          -39.14123,
          -46.269432,
          14.417203,
          5.698655,
          -22.587076,
          23.008644,
          -49.083897,
          -14.525131,
          -14.318615,
          -33.632366,
          30.992846,
          -8.472217,
          38.337902,
          -25.680183,
          2.566877,
          -57.56572,
          -59.133278,
          -62.60246,
          9.594783,
          51.59046,
          23.133036,
          62.621937,
          -0.8700249,
          62.30342,
          -54.60186,
          -28.32493,
          76.18635,
          -8.940951,
          -46.146,
          10.767133,
          61.67424,
          9.452102,
          15.596593,
          -21.64207,
          -37.69517,
          -11.521215,
          6.3764076,
          -65.71993,
          59.309612,
          15.634913,
          -33.2016,
          -42.425194,
          -48.733,
          -47.42425,
          2.313073,
          -23.519558,
          9.8232155,
          -11.358314,
          -4.5201955,
          -34.33812,
          -18.134594,
          82.73007,
          38.823902,
          34.252216,
          85.332695,
          -60.769573,
          70.588875,
          -24.262955,
          26.459482,
          24.895533,
          -50.257675,
          -25.70298,
          -36.997314,
          23.066822,
          53.764126,
          68.755325,
          -53.356674,
          37.184837,
          61.530003,
          -39.9836,
          -32.23368,
          -70.206154,
          -15.713626,
          39.281765,
          38.82866,
          -11.015976,
          -32.194836,
          47.945057,
          -35.556347,
          -5.4319763,
          -12.960366,
          -16.343853,
          -24.609219,
          23.135115,
          78.9885,
          -63.69182,
          -60.612602,
          -27.581356,
          -41.7757,
          15.537448,
          -15.902164,
          28.304052,
          16.456734,
          -10.227827,
          21.93647,
          -6.897211,
          58.95262,
          43.907673,
          -57.745663,
          -2.4661634,
          55.404606,
          -1.3839236,
          -5.245776,
          -64.24974,
          10.638808,
          -11.514484,
          31.1599,
          24.964954,
          5.794461,
          4.301436,
          43.596416,
          74.65783,
          -60.909138,
          68.912186,
          -51.096176,
          -27.819304,
          -72.07417,
          5.9611144,
          27.139275,
          30.995424,
          21.365553,
          -33.58861,
          47.048843,
          18.511719,
          -41.79537,
          -39.490677,
          74.28213,
          -63.289734,
          -52.11182,
          -53.070477,
          -1.9683081,
          24.942492,
          72.82793,
          -0.8713638,
          -8.48786,
          -63.04729,
          -54.69183,
          1.1140457,
          -49.191814,
          82.0511,
          -21.094904,
          47.902843,
          -37.04715,
          1.5335909,
          -38.908257,
          -7.23414,
          50.77615,
          -67.11206,
          24.572422,
          29.973898,
          19.83703,
          6.4870067,
          36.417274,
          29.475767,
          -20.930502,
          -34.484035,
          76.18572,
          6.6266594,
          -29.118128,
          -2.8671517,
          -41.15973,
          -60.593075,
          17.475431,
          58.329487,
          -63.56135,
          32.85303,
          -61.85573,
          1.5216402,
          -48.683235,
          -19.724545,
          79.63459,
          -33.52552,
          67.657074,
          84.57489,
          69.32666,
          36.86017,
          30.67266,
          85.427216,
          88.29476,
          52.31378,
          -2.2440226,
          26.690271,
          25.317436,
          -1.9016765,
          -2.2552836,
          35.75445,
          -49.03051,
          -25.839727,
          35.637554,
          -48.62299,
          15.152427,
          11.396632,
          -32.53002,
          1.0716602,
          -49.154423,
          -56.647892,
          -41.307816,
          53.358883,
          15.866869,
          7.8148127,
          -67.596855,
          8.732155,
          25.161486,
          -40.513332,
          -2.61996,
          1.3454401,
          85.426796,
          -19.807941,
          -44.85351,
          0.03910805,
          39.10362,
          23.444887,
          30.317074,
          69.82303,
          78.59636,
          -17.481846,
          -61.66907,
          12.891573,
          -8.859992,
          15.50358,
          26.584707,
          -57.910667,
          -4.202516,
          68.59557,
          45.809692,
          22.055485,
          -25.250761,
          -71.97488,
          -4.654793,
          -50.23558,
          -25.932894,
          -0.01724994,
          68.137856,
          -20.97857,
          -43.363075,
          -14.0144,
          42.070942,
          42.707413,
          7.4637356,
          41.647335,
          51.34137,
          -0.6963047,
          14.90839,
          -8.808246,
          32.53952,
          -61.113518,
          83.31287,
          -40.23158,
          35.894257,
          -49.74615,
          4.5479584,
          -28.962854,
          25.444729,
          14.412783,
          53.004917,
          -13.974177,
          66.33933,
          83.30129,
          14.284597,
          -73.02879,
          -32.84639,
          47.11898,
          6.5496464,
          -33.118614,
          38.713642,
          -52.23555,
          8.1502285,
          -68.33232,
          20.367458,
          42.70425,
          -60.904083,
          2.594515,
          78.59206,
          -51.835968,
          -26.655403,
          -29.413267,
          32.689648,
          25.616495,
          89.15424,
          -64.33283,
          -21.184944,
          -5.0552444,
          -22.676594,
          70.77301,
          84.13623,
          51.01847,
          62.67336,
          -38.833702,
          50.531834,
          -40.318462,
          3.7820115,
          16.223343,
          -36.403255,
          12.950729,
          -3.852038,
          -11.018122,
          38.28276,
          -30.054056,
          76.34006,
          2.5673685,
          -14.168294,
          65.63129,
          49.038433,
          -38.614307,
          28.327198,
          74.49061,
          -34.04251,
          16.395298,
          61.382233,
          -5.415803,
          -54.129326,
          78.29322,
          -4.300815,
          -9.062711,
          -48.823147,
          -64.447586,
          -45.95243,
          91.05741,
          -65.30472,
          -1.7065507,
          70.62323,
          -11.690452,
          84.65897,
          6.59781,
          -24.556297,
          -39.62601,
          -71.33571,
          9.445838,
          -29.389137,
          -56.33819,
          -42.729115,
          15.199955,
          -45.890656,
          -32.087875,
          63.245968,
          -39.833454,
          -20.961246,
          -37.507782,
          -63.075756,
          0.06395736,
          70.48956,
          46.349823,
          -63.45768,
          7.718093,
          0.79535425,
          5.7199874,
          76.42759,
          52.6286,
          19.042482,
          -46.45879,
          -36.04483,
          -13.084234,
          62.4028,
          -28.01622,
          -42.430748,
          -61.862415,
          7.76139,
          -41.166637,
          -23.687963,
          -16.593826,
          39.03247,
          -47.836163,
          20.70682,
          69.671326,
          9.833117,
          -0.87118804,
          56.752842,
          -58.522984,
          5.6423388,
          -4.637705,
          22.16591,
          10.638349,
          -12.049569,
          28.617046,
          20.515741,
          21.169903,
          -22.54549,
          -21.219942,
          17.6057,
          24.415653,
          -53.923454,
          -38.407623,
          24.78002,
          -41.33741,
          -41.442623,
          -5.1993446,
          -49.526802,
          9.278632,
          -32.84665,
          -54.296986,
          67.79944,
          73.10008,
          19.179705,
          18.30592,
          -10.391753,
          -34.428955,
          -3.5682197,
          -65.97543,
          -61.405556,
          -21.646196,
          -37.76438,
          -13.769223,
          -42.992016,
          -51.067066,
          36.97799,
          5.668357,
          17.071033,
          -16.5922,
          -24.73065,
          -14.636607,
          61.578903,
          1.5665455,
          47.64706,
          -61.403233,
          14.006788,
          -1.2378118,
          86.799126,
          -33.651974,
          -1.8439628,
          48.26353,
          -16.808367,
          -56.789967,
          33.2713,
          -39.889576,
          39.775337,
          -1.503376,
          -64.1905,
          -34.121735,
          -26.601965,
          -32.251606,
          -63.735817,
          -32.51991,
          7.616081,
          -25.219852,
          39.5173,
          73.289894,
          85.494095,
          6.7671037,
          -34.366127,
          67.4497,
          -48.702953,
          66.588196,
          -51.36032,
          -47.35494,
          15.873909,
          -24.197426,
          43.431446,
          3.9690108,
          29.673561,
          -34.203167,
          -7.9507775,
          -41.91972,
          71.855675,
          -5.352581,
          -38.634926,
          -31.516764,
          -14.684912,
          -18.28582,
          -56.787025,
          -18.581596,
          -32.185577,
          74.30451,
          9.286728,
          -5.157112,
          -21.41678,
          -11.410975,
          -44.292763,
          15.138981,
          51.215015,
          -57.60744,
          -23.37612,
          -12.862563,
          10.066076,
          23.25365,
          -22.232801,
          -28.28519,
          14.702171,
          -53.80902,
          39.84473,
          -53.148537,
          -54.57779,
          -6.7105203,
          -29.549173,
          -9.003283,
          -61.156597,
          12.591215,
          59.454044,
          -24.975733,
          -11.666413,
          60.922173,
          -0.304353,
          -39.760468,
          15.312817,
          81.45665,
          -23.29299,
          -14.438905,
          -29.79176,
          -56.585648,
          -31.16537,
          -50.801533,
          47.36738,
          -20.793749,
          -19.44182,
          -14.52926,
          10.214601,
          -22.866058,
          -59.446453,
          -23.414188,
          -7.117586,
          28.45088,
          -37.227413,
          85.00137,
          16.858868,
          5.2834725,
          10.453047,
          -13.296915,
          -58.526497,
          69.39485,
          18.567762,
          -12.897193,
          -23.620264,
          -27.26074,
          -9.553962,
          -33.541237,
          1.7227184,
          49.760483,
          -59.242344,
          -26.457878,
          -52.536907,
          48.42826,
          -27.158947,
          -29.48135,
          -38.390873,
          -20.30565,
          -19.294495,
          -7.0726027,
          -65.33979,
          -27.350445,
          -71.78932,
          -11.999595,
          -11.099747,
          12.294798,
          -2.6685436,
          -54.29214,
          -24.247686,
          64.12311,
          25.670692,
          42.494785,
          -5.1419477,
          27.611496,
          51.22085
         ],
         "xaxis": "x",
         "y": [
          4.3299103,
          -6.0525427,
          9.649294,
          -33.376984,
          22.375107,
          -2.3167176,
          30.444706,
          12.956925,
          -31.425995,
          11.924135,
          -9.760746,
          30.69895,
          -19.695837,
          32.2761,
          11.096891,
          -32.046192,
          -3.1902003,
          -13.507938,
          -3.7926977,
          19.405575,
          -32.2369,
          -19.810814,
          14.24706,
          23.49609,
          26.305878,
          26.05074,
          -2.4786093,
          -39.0864,
          -2.962105,
          -25.779097,
          30.106215,
          2.827852,
          34.253807,
          -15.692853,
          8.965432,
          -0.3180497,
          -12.958198,
          -6.5085487,
          -6.8141365,
          34.836464,
          -40.223465,
          -12.629722,
          -7.8390117,
          26.100822,
          -5.8335457,
          29.822353,
          21.511072,
          -26.59987,
          15.514697,
          5.1967697,
          15.44781,
          -12.183791,
          -10.926431,
          -25.241713,
          1.2845719,
          -3.3769593,
          -23.933813,
          -24.60838,
          -35.07661,
          -6.408618,
          15.122559,
          -45.939445,
          28.47489,
          -16.218407,
          15.7820635,
          -9.67078,
          -24.127962,
          29.874966,
          -12.035629,
          22.48737,
          8.24463,
          -45.01402,
          -4.7580733,
          24.635885,
          -21.389288,
          -1.4211618,
          29.61336,
          -39.366386,
          -1.7870404,
          -6.3884354,
          -5.4415445,
          -41.097744,
          -5.844253,
          -0.28934476,
          27.50175,
          8.564678,
          16.330502,
          -5.3820043,
          36.80444,
          17.460907,
          -21.135271,
          3.7632294,
          26.077618,
          5.2684917,
          -20.755344,
          49.614033,
          43.03976,
          -10.143781,
          22.27201,
          25.930882,
          -12.402944,
          -40.783092,
          7.49892,
          17.986168,
          -30.99962,
          -27.635174,
          33.40445,
          6.9333014,
          -4.653387,
          -31.683084,
          16.160007,
          16.790928,
          -45.849136,
          -9.278094,
          27.59828,
          0.9546424,
          -3.2006135,
          16.520992,
          -13.706747,
          -27.031406,
          -9.632872,
          25.326233,
          -3.8684368,
          10.36745,
          15.998565,
          19.408184,
          9.259839,
          -41.644283,
          -8.645702,
          -1.9828562,
          -14.487289,
          36.18324,
          9.718362,
          -13.541278,
          11.227795,
          13.986616,
          -13.015368,
          -23.249006,
          -4.876025,
          37.446426,
          -41.164246,
          29.480179,
          -36.80231,
          -13.978405,
          45.479347,
          30.18717,
          -42.27449,
          -0.50849915,
          -29.612087,
          -24.341991,
          -32.05465,
          13.668878,
          -20.08703,
          -15.55395,
          -46.350964,
          16.497952,
          19.017788,
          -7.215606,
          34.211277,
          -10.059424,
          0.5364241,
          -0.8463476,
          14.19616,
          21.99248,
          -17.136415,
          19.540243,
          -47.339497,
          -6.620074,
          10.9003525,
          -32.191483,
          -45.50962,
          -26.47444,
          -49.772587,
          6.3467555,
          -15.08585,
          0.6024235,
          24.0033,
          19.011835,
          28.394356,
          -36.814266,
          -22.7151,
          17.071043,
          -3.6799846,
          15.685501,
          17.957191,
          2.3906589,
          -4.6214,
          25.413576,
          -4.0885963,
          -17.79686,
          12.306395,
          16.288729,
          -3.0595164,
          -8.161665,
          -9.672361,
          -2.0729012,
          -17.990671,
          0.4592633,
          -5.1256423,
          -27.662598,
          4.8412886,
          14.906961,
          -5.2560806,
          17.989975,
          6.457363,
          -40.77914,
          -6.45747,
          -4.2257338,
          18.700005,
          4.141228,
          -4.8158317,
          28.15931,
          -32.356327,
          -38.546894,
          12.315608,
          2.036115,
          -15.923108,
          14.853462,
          20.114637,
          13.110265,
          6.4710374,
          2.868492,
          -3.6047156,
          -8.114572,
          -42.535503,
          -40.773132,
          24.878836,
          35.229263,
          -35.633102,
          -20.242958,
          25.980333,
          -25.70652,
          20.910406,
          -36.83963,
          24.4737,
          10.179588,
          22.825556,
          7.3677278,
          -8.194048,
          -40.884777,
          -3.0150173,
          23.86993,
          -12.050864,
          -16.983768,
          27.402552,
          -7.5077386,
          -4.020365,
          13.8863945,
          30.624052,
          -22.19938,
          -39.93222,
          -36.848656,
          -8.829433,
          21.863585,
          -5.428131,
          -8.474785,
          -7.764413,
          -7.4327784,
          10.979778,
          12.170848,
          -20.986885,
          22.85854,
          27.954662,
          -15.301264,
          17.141474,
          -21.916098,
          3.3826492,
          -29.726334,
          -2.7716997,
          15.922003,
          35.96504,
          15.022872,
          33.771378,
          18.799395,
          16.047386,
          -7.4960675,
          35.175625,
          4.9792795,
          -23.988785,
          21.465452,
          -1.9158535,
          -6.7175503,
          -8.80596,
          -47.990288,
          15.549892,
          -13.255302,
          24.246735,
          0.6000782,
          -4.543858,
          -38.145782,
          -8.578539,
          18.368464,
          -38.29069,
          -28.19676,
          -10.930163,
          4.6654134,
          -4.771947,
          -2.3963933,
          -24.316818,
          0.7458476,
          -3.3170154,
          33.817135,
          -5.6744065,
          17.557644,
          -41.46533,
          23.159906,
          -8.924993,
          8.321637,
          -17.266817,
          -2.831594,
          -42.396233,
          -5.477542,
          8.778786,
          -15.655272,
          -34.14152,
          15.813807,
          10.233589,
          -26.201145,
          15.033556,
          -29.465616,
          -22.246544,
          5.0397344,
          -4.3857923,
          13.620839,
          17.596481,
          -9.617701,
          3.8557546,
          -6.8315196,
          -7.4084024,
          18.101109,
          -16.250439,
          -2.318101,
          10.651564,
          -39.97235,
          46.50763,
          -45.26578,
          10.59952,
          -6.162683,
          12.619168,
          17.395899,
          -12.426126,
          35.09326,
          27.593994,
          -3.7104263,
          -5.7354813,
          10.072452,
          13.445772,
          -17.719334,
          -36.18001,
          -47.335636,
          37.587967,
          7.4986415,
          -43.564922,
          33.430084,
          9.514495,
          31.9481,
          26.826221,
          -38.912796,
          13.982581,
          -3.4064243,
          23.516039,
          25.499496,
          -40.71597,
          -9.259941,
          -11.041249,
          29.654716,
          -15.507381,
          21.482334,
          -30.999094,
          -5.3980236,
          23.87052,
          -46.62552,
          1.289431,
          -0.07379313,
          -20.602867,
          11.653439,
          14.216321,
          -46.31177,
          0.8623603,
          -9.522647,
          10.83005,
          17.995667,
          23.511293,
          18.430128,
          21.256804,
          -16.865482,
          8.359045,
          -5.483676,
          37.444324,
          22.392635,
          -0.99623835,
          4.9468436,
          17.068508,
          -28.967789,
          -9.229561,
          -42.999504,
          17.783005,
          0.23341824,
          -28.40604,
          5.665999,
          30.768,
          -32.87813,
          -5.64706,
          -9.244513,
          -4.8467937,
          -1.0997343,
          -23.041725,
          21.46575,
          33.486214,
          12.831749,
          7.9554143,
          -9.184153,
          37.788784,
          8.0876875,
          30.882818,
          29.822618,
          9.031468,
          17.485754,
          -43.589363,
          -25.249632,
          5.32424,
          -15.478332,
          -36.21766,
          -13.835088,
          -23.28863,
          6.098003,
          20.29989,
          10.153684,
          47.013306,
          25.641432,
          44.694107,
          21.736618,
          -30.689127,
          -4.5740066,
          -8.908979,
          8.888386,
          -43.906933,
          40.733364,
          -32.804688,
          13.334774,
          21.257605,
          -10.187075,
          -23.19987,
          37.032932,
          16.772812,
          -34.51322,
          5.097816,
          26.16483,
          -5.83326,
          8.132684,
          12.236659,
          26.01193,
          19.363115,
          -39.693684,
          22.126085,
          4.2198753,
          -0.57536715,
          -11.553124,
          -38.156147,
          -29.000338,
          17.158703,
          1.0827837,
          15.15254,
          4.099685,
          15.3765545,
          -7.448347,
          20.176636,
          5.6491656,
          9.908062,
          -10.541564,
          0.5630363,
          -9.465427,
          -32.66634,
          3.7971272,
          36.528957,
          3.1883996,
          -9.654228,
          15.175962,
          5.7894793,
          -17.46722,
          -32.78274,
          -39.692345,
          16.19398,
          19.689507,
          23.068958,
          13.969934,
          -23.923553,
          -17.975166,
          -25.947979,
          -35.419216,
          18.34055,
          -17.565624,
          24.929823,
          -0.58969265,
          15.55914,
          -35.306046,
          16.611992,
          -30.517195,
          -30.48062,
          14.649779,
          27.124908,
          -7.115253,
          47.162815,
          30.75878,
          24.784721,
          -4.7741437,
          -33.89168,
          5.054782,
          31.462763,
          35.716946,
          -18.659855,
          -2.2266467,
          -23.165369,
          -18.013136,
          30.68524,
          -26.281013,
          9.502194,
          -41.28212,
          -47.142292,
          -1.3209635,
          9.414579,
          -29.846663,
          20.056583,
          17.299967,
          -1.4642696,
          8.446855,
          11.948771,
          24.761402,
          6.7794523,
          14.156287,
          -11.090562,
          -16.969257,
          40.924194,
          28.509592,
          -46.31413,
          -22.193205,
          17.394482,
          12.360215,
          9.187499,
          23.757915,
          46.35504,
          -29.193113,
          15.409544,
          -6.6341696,
          -36.342175,
          -8.103814,
          26.95845,
          31.347197,
          21.299883,
          -36.487396,
          15.356173,
          -29.079714,
          -34.039364,
          -24.04625,
          -38.390125,
          -6.601161,
          22.25803,
          33.290787,
          -6.315075,
          2.0136385,
          26.436308,
          -33.877983,
          9.94066,
          15.434062,
          -37.681854,
          -17.665474,
          3.235205,
          4.811249,
          -5.0186977,
          26.106207,
          -1.9683478,
          29.316359,
          26.03949,
          16.991772,
          -0.55711854,
          -10.231084,
          -4.264463,
          15.919157,
          -29.974825,
          30.490412,
          5.43859,
          18.717577,
          0.33100334,
          46.491585,
          13.309898,
          4.699991,
          -9.626336,
          -5.887659,
          30.575636,
          -28.588232,
          -34.609028,
          12.884195,
          8.421524,
          30.07745,
          17.341312,
          25.670166,
          16.10399,
          36.014133,
          16.726889,
          10.369902,
          8.965841,
          -3.246883,
          -43.3122,
          25.17972,
          -26.45951,
          27.668552,
          -33.280876,
          9.576778,
          -26.380516,
          -17.142338,
          -6.8263736,
          -5.1626315,
          -9.051533,
          17.384048,
          33.0975,
          -1.2182719,
          15.248029,
          17.808207,
          16.223526,
          -23.87856,
          -4.818148,
          -38.122063,
          -7.690081,
          1.765494,
          36.3908,
          -27.787352,
          20.6629,
          -4.562031,
          -17.324604,
          -23.434345,
          -5.1817956,
          -12.274355,
          12.565738,
          -42.038204,
          -2.6002216,
          5.0877733,
          -28.505495,
          -19.579124,
          18.016386,
          -2.335348,
          27.105326,
          26.272873,
          -37.495136,
          16.671083,
          12.831749,
          -39.388077,
          -32.89008,
          -25.05676,
          -15.492016,
          -13.098351,
          19.768888,
          13.349104,
          6.910527,
          -12.94909,
          -5.5487337,
          26.040535,
          4.1113997,
          29.798107,
          19.52136,
          -23.350069,
          -39.077797,
          -19.064253,
          -20.157042,
          -1.96212,
          -13.585651,
          -28.363514,
          -2.9655762,
          -0.29184937,
          16.577015,
          -5.912065,
          21.415352,
          -19.787252,
          37.78968,
          14.085517,
          -40.84931,
          -43.00105,
          16.997412,
          -10.755869,
          34.00455,
          -32.200447,
          8.851297,
          -14.210399,
          -8.254912,
          1.037094,
          -41.946102,
          -44.955544,
          6.9223795,
          -2.5349557,
          28.677586,
          -8.341846,
          0.8208178,
          -8.951845,
          -15.984254,
          -38.977566,
          9.266356,
          -0.85703987,
          -17.214989,
          -39.040714,
          16.770334,
          -29.654589,
          1.2235191,
          20.672386,
          21.085283,
          18.99195,
          16.582006,
          6.7839923,
          -35.28277,
          0.9120763,
          -2.4983065,
          8.940777,
          36.163013,
          -4.427336,
          22.157688,
          17.513784,
          -39.21521,
          -1.2216334,
          -37.86624,
          26.021534,
          -27.522186,
          12.200609,
          -10.043281,
          -40.486683,
          -38.91618,
          -31.801138,
          -5.2244124,
          8.477067,
          -2.7438433,
          -21.530695,
          32.046722,
          -0.55711854,
          -45.447533,
          5.2919784,
          -7.6187677,
          -1.1093032,
          -6.2969203,
          15.376144,
          36.42481,
          46.99545,
          32.94857,
          -11.82444,
          -5.3275833,
          8.262986,
          -15.751719,
          14.426275,
          -3.1890216,
          46.577015,
          5.4319396,
          -1.2606132,
          -36.762318,
          34.54555,
          10.677217,
          -17.31706,
          -26.296535,
          -13.597338,
          -26.201788,
          -44.3654,
          23.92821,
          15.789924,
          15.014827,
          33.89975,
          -20.402487,
          11.534848,
          -30.195574,
          17.732368,
          -8.817217,
          16.688221,
          -28.714499,
          20.05334,
          -30.749788,
          11.834383,
          21.477026,
          1.0843178,
          17.134108,
          24.559229,
          32.431282,
          14.633864,
          14.899392,
          -10.7450905,
          20.129566,
          30.720297,
          32.92198,
          32.75272,
          -2.9161673,
          15.707303,
          -43.19002,
          8.631795,
          5.0119543,
          -32.74365,
          17.067204,
          -1.275346,
          14.325355,
          4.1296,
          16.341768,
          24.587975,
          -35.91494,
          33.29067,
          -25.7474,
          -44.101513,
          -37.86607,
          17.468752,
          -40.643295,
          13.09675,
          -36.57401,
          12.761618,
          -7.5375776,
          29.614891,
          -13.501113,
          18.207554,
          31.11377,
          -0.41716805,
          9.910098,
          15.053686,
          46.63347,
          47.536236,
          -4.876506,
          -23.988588,
          13.068716,
          4.3416324,
          -25.623297,
          18.223188,
          3.7514808,
          6.7753963,
          -27.02342,
          -39.272736,
          6.206463,
          11.615451,
          -4.1522865,
          -0.37880546,
          29.637024,
          -36.931698,
          -39.414497,
          -6.323956,
          -37.283894,
          -8.827497,
          -0.3828969,
          22.48341,
          -19.514786,
          -34.678165,
          14.558646,
          10.994948,
          -1.3078446,
          -10.693391,
          5.499182,
          9.519218,
          -14.825765,
          -27.741915,
          -20.66393,
          3.3174865,
          -23.165873,
          12.57726,
          34.838684,
          18.983091,
          1.723175,
          -37.30046,
          26.021246,
          -31.45662,
          -40.29079,
          37.962135,
          3.4792626,
          -25.625387,
          20.086712,
          -9.910941,
          -9.296203,
          11.370774,
          22.134771,
          33.108032,
          -44.250504,
          20.61674,
          -0.6892815,
          16.606308,
          -31.55802,
          27.070215,
          9.445408,
          32.54605,
          -22.616137,
          -38.0084,
          16.54636,
          12.927895,
          11.425025,
          24.864386,
          29.919373,
          -1.5398045,
          -41.35289,
          33.42112,
          36.4283,
          1.1990612,
          17.288649,
          13.092211,
          -16.257734,
          27.680208,
          5.1296687,
          -19.547682,
          -37.27588,
          -6.744742,
          -0.6444539,
          8.730184,
          -33.978626,
          13.165652,
          -39.072845,
          -0.9135801,
          -5.463716,
          11.726799,
          35.347115,
          -41.377277,
          -41.025154,
          1.7858217,
          22.511122,
          14.730147,
          17.782932,
          -29.96438,
          36.523766,
          -1.3758465,
          -25.52139,
          7.4572535,
          -20.350061,
          9.212445,
          2.163758,
          17.023357,
          -32.417324,
          -45.42912,
          11.983441,
          12.252988,
          -24.73847,
          21.22213,
          -32.97035,
          -18.187502,
          -36.29457,
          22.057697,
          2.3563356,
          15.048742,
          -6.9997444,
          1.7764187,
          -41.845806,
          5.8662577,
          -16.74029,
          -9.719506,
          14.615777,
          -36.961227,
          1.8915328,
          -6.980462,
          -16.580381,
          -1.3884771,
          18.584013,
          12.794525,
          9.848181,
          -10.995774,
          33.45352,
          -39.099472,
          -16.999746,
          -9.645337,
          15.923922,
          -29.977823,
          15.225192,
          17.130804,
          34.8136,
          24.451513,
          -1.8908688,
          -18.635664,
          -24.76698,
          -36.121452,
          -40.8676,
          -35.12822,
          27.668552,
          0.021347303,
          -25.239838,
          -20.77744,
          6.003421,
          29.822563,
          -44.52991,
          -48.583015,
          15.288224,
          -22.1813,
          12.07495,
          -40.706097,
          -8.833385,
          18.936502,
          -8.607501,
          -40.419754,
          -21.506653,
          -26.162086,
          -19.738209,
          15.175713,
          -8.475704,
          -28.1627,
          35.40326,
          35.403168,
          2.3322284,
          -39.59658,
          -42.272423,
          17.761566,
          25.439272,
          -34.078148,
          -30.099398,
          -2.421346,
          30.376747,
          24.205517,
          -8.370121,
          -17.715704,
          38.28041,
          -35.64836,
          -43.145878,
          -35.43023,
          -8.984615,
          -15.454417,
          16.955807,
          -44.04541,
          -45.12826,
          -13.508987,
          -20.939846,
          9.210954,
          -25.491152,
          33.681908,
          -24.287638,
          -18.30109,
          -21.79079,
          -35.789135,
          23.347366,
          16.761812,
          29.477032,
          -0.14945838,
          -3.9869564,
          15.298654,
          -18.573067,
          8.28093,
          -42.365337,
          30.16574,
          12.2763,
          23.3416,
          41.803303,
          -36.010693,
          -34.17616,
          14.239381,
          11.993951,
          -1.2488302,
          6.3790007,
          -3.5024173,
          -35.838886,
          -3.3986754,
          45.235992,
          -33.571423,
          -10.4637,
          -2.5751717,
          13.905767,
          -42.66371,
          -41.844727,
          -26.166405,
          11.286545,
          -36.12045,
          6.835132,
          10.08814,
          1.0618231,
          29.412357,
          20.84574,
          -7.403719,
          -21.744661,
          -9.369373,
          12.9183235,
          0.25311276,
          -21.17602,
          24.14714,
          25.651634,
          2.78377,
          20.60229,
          -31.107645,
          16.907663,
          -42.16985,
          -10.9842415,
          -31.204517,
          17.656897,
          -43.441414,
          -44.989227,
          13.855965,
          44.488876,
          24.248226,
          36.153187,
          33.22868,
          -13.700208,
          12.762506,
          -12.241927,
          8.42149,
          -6.3577147,
          18.265966,
          34.722576,
          -39.972084,
          -6.619538,
          23.46054,
          -25.595772,
          20.288101,
          36.778713,
          -12.273866,
          9.325002,
          5.197042,
          8.370134,
          4.260326,
          -19.700573,
          18.451338,
          4.81322,
          0.6013839,
          28.836037,
          3.62782,
          24.73086,
          6.9455094,
          -33.85702,
          -21.212341,
          -24.942871,
          47.119484,
          13.209849,
          27.608496,
          -37.695786,
          32.875626,
          -9.931563,
          34.150738,
          9.520272,
          -12.610171,
          17.12628,
          29.607882,
          26.33338,
          -22.322218,
          19.140034,
          -32.831516,
          -33.116997,
          -20.176056,
          -49.01908,
          -29.865503,
          34.482265,
          34.295944,
          -36.190308,
          12.452497,
          5.538719,
          -23.133192,
          -6.45971,
          -25.287035,
          6.546158,
          -6.7555785,
          8.610786,
          -36.078823,
          -28.28988,
          -22.247889,
          -4.6311603,
          -4.02694,
          11.570712,
          -17.001772,
          -23.56464,
          15.954583,
          12.434785,
          16.728811,
          16.887465,
          -8.347645,
          -36.21835,
          -1.9708292,
          2.0980878,
          21.921293,
          -27.807377,
          29.247255,
          11.809103,
          20.670221,
          -11.950793,
          12.515866,
          -11.484624,
          -19.422665,
          5.818618,
          -4.5246625,
          8.953736,
          19.76217,
          -44.710114,
          3.3726826,
          16.582048,
          -7.379493,
          21.027304,
          -9.5115595,
          -13.426836,
          8.877252,
          -2.0018804,
          -7.441161,
          -1.0923934,
          18.725912,
          -3.9803278,
          11.540498,
          4.1746984,
          34.66805,
          -20.418095,
          -21.156294,
          30.443478,
          31.018587,
          26.823471,
          -32.638206,
          -2.1604254,
          2.4111571,
          -5.960228,
          21.178537,
          -39.962452,
          -11.670563,
          19.451303,
          -33.285015,
          -12.159484,
          -23.679323,
          6.5537734,
          -4.449361,
          -15.024004,
          45.212906,
          -43.455563,
          4.420713,
          27.455666,
          2.243267,
          -5.364081,
          -21.613438,
          -15.938357,
          33.856144,
          -40.60135,
          -3.511643,
          -11.908378,
          28.363634,
          5.1967697,
          18.040216,
          -14.664523,
          -17.175573,
          16.559772,
          16.309351,
          14.912136,
          -15.838931,
          13.057146,
          -34.078445,
          -21.713043,
          13.377169,
          16.023565,
          13.779695,
          -35.044224,
          16.652485,
          -0.5935533,
          19.748112,
          19.627733,
          31.80279,
          12.854859,
          -17.812326,
          -25.577406,
          -3.2497146,
          12.080237,
          -29.391739,
          -20.789864,
          -3.013652,
          -35.740734,
          12.103537,
          -2.5061057,
          26.749578,
          18.463959,
          22.059063,
          -13.67912,
          29.159534,
          16.82063,
          -16.216116,
          19.20032,
          -24.546463,
          9.05626,
          17.670048,
          -25.9124,
          3.3281906,
          -31.057245,
          -4.572077,
          7.4213367,
          -8.86373,
          21.448006,
          25.88508,
          2.1825585,
          1.1635507,
          29.406948,
          -34.804646,
          -15.677132,
          30.68754,
          4.2508,
          -6.53462,
          -11.736198,
          36.42859,
          -22.235268,
          3.5592558,
          -49.049534,
          -35.43461,
          27.073877,
          20.090284,
          -16.63925,
          -28.685568,
          -12.590959,
          -37.72174,
          12.6537285,
          13.848348,
          49.444996,
          33.210888,
          26.179733,
          0.44009265,
          -47.071007,
          -13.363066,
          -7.0425944,
          -8.316293,
          19.173069,
          -32.8519,
          -4.8407173,
          35.53372,
          26.75221,
          2.1149957,
          -38.452732,
          3.9012413,
          -13.583052,
          -6.8253813,
          -7.045506,
          4.6997576,
          -40.706005,
          -19.254808,
          -15.606446,
          -22.59532,
          22.837202,
          -3.0500355,
          23.890684,
          27.100765,
          12.260132,
          -5.417212,
          -30.266174,
          9.869508,
          -20.40423,
          7.743706,
          -13.391258,
          2.8314886,
          30.876808,
          -7.924435,
          36.208923,
          1.1988837,
          -1.0170498,
          36.429123,
          -2.603393,
          -0.81895286,
          -0.40399903,
          28.41186,
          -32.54016,
          11.505546,
          16.934423,
          33.258907,
          -28.076729,
          19.0817,
          -1.6692904,
          9.338697,
          -11.554057,
          8.553851,
          31.437546,
          49.565434,
          31.576628,
          2.140983,
          13.478235,
          -32.630936,
          -38.363926,
          16.88991,
          27.140663,
          27.388216,
          -19.910082,
          9.786811,
          17.719662,
          -11.748691,
          14.232017,
          -3.7634597,
          -15.490202,
          7.0703387,
          -6.762488,
          -43.97767,
          17.134401,
          -15.602654,
          22.831175,
          18.763916,
          16.011679,
          -20.686832,
          -45.323006,
          -2.6605942,
          6.456506,
          -6.810216,
          34.675198,
          35.00407,
          34.01736,
          -17.166006,
          15.771752,
          18.667007,
          22.414658,
          -4.153536,
          -15.381676,
          10.479642,
          14.011263,
          -17.128305,
          21.98117,
          16.774115,
          -35.89125,
          2.308054,
          -35.587677,
          36.080826,
          -11.264933,
          2.0702844,
          -30.98479,
          -8.817116,
          7.3649206,
          -18.892227,
          23.246698,
          25.891108,
          19.200718,
          -1.4962424,
          7.4860225,
          27.808767,
          23.500937,
          10.302009,
          -20.351156,
          -38.51282,
          12.238399,
          30.443195,
          -5.111179,
          -25.606304,
          14.503952,
          7.0223885,
          20.019842,
          -5.8731437,
          -7.0681148,
          24.335487,
          -45.065926,
          -12.607582,
          -2.8200116,
          30.954073,
          11.860081,
          -24.506857,
          -0.436528,
          13.699123,
          36.417496,
          12.409838,
          -14.486531,
          -18.759499,
          -6.252105,
          22.599474,
          4.6997647,
          23.813835,
          4.3557677,
          10.144842,
          -18.133966,
          3.1545687,
          -7.1511965,
          -12.910956,
          -38.410294,
          21.63325,
          -8.711508,
          -22.104563,
          -8.19114,
          -10.038698,
          -15.670797,
          18.377958,
          -18.746595,
          24.663107,
          3.4244053,
          -6.279576,
          -17.920124,
          -24.872103,
          34.776695,
          20.769289,
          -17.448887,
          1.7840253,
          20.115206,
          16.061056,
          -18.009058,
          9.766317,
          -39.133335,
          -38.420036,
          34.799896,
          -9.292325,
          -10.007634,
          -1.2629877,
          0.6501657,
          -5.611995,
          -34.749084,
          1.3211184,
          22.64422,
          18.643745,
          -18.510729,
          -23.181068,
          30.181065,
          -1.4565938,
          9.204285,
          -2.9660568,
          -5.4268665,
          26.703062,
          16.634718,
          -14.52809,
          16.172058,
          -39.857613,
          3.1806023,
          -34.816532,
          -7.79717,
          15.581119,
          28.524044,
          -20.868505,
          26.179792,
          -36.590794,
          22.034689,
          32.91214,
          -34.785667,
          31.325571,
          -38.472584,
          -42.950466,
          14.477254,
          -3.67052,
          -34.575966,
          17.787367,
          25.53756,
          -32.05238,
          31.773878,
          -6.60384,
          24.47516,
          -32.590015,
          -12.653392,
          -16.17096,
          33.376812,
          24.382492,
          10.568592,
          -2.8358867,
          9.606015,
          -13.9458275,
          5.713593,
          18.045147,
          -22.262268,
          -8.5945835,
          -21.929117,
          -2.6414576,
          21.41368,
          32.828224,
          -27.52461,
          -30.90784,
          2.9489195,
          -2.522425,
          11.529811,
          2.479987,
          0.4501962,
          23.492126,
          -45.2594,
          -26.588686,
          32.123787,
          -8.889888,
          -21.842356,
          2.1930776,
          -2.154777,
          -5.685605,
          -28.294939,
          11.783399,
          9.563512,
          5.5269575,
          -11.373313,
          2.1532316,
          25.65981,
          13.9175625,
          -25.933088,
          -16.49521,
          3.2095103,
          -18.832834,
          11.838646,
          -40.71357,
          -46.46181,
          5.431728,
          12.194126,
          -4.9494405,
          0.4627626,
          -9.912219,
          6.1285334,
          -39.365547,
          38.016033,
          -32.92568,
          5.8497105,
          29.898302,
          28.766035,
          33.13599,
          13.989598,
          -31.415749,
          9.258496,
          -11.072271,
          -24.077599,
          -39.475643,
          -1.776811,
          -16.695965,
          13.457804,
          -14.175118,
          -6.2345705,
          48.932514,
          -14.760403,
          -33.76628,
          -38.456852,
          34.14478,
          33.93394,
          -41.354023,
          15.211859,
          -42.72678,
          -27.953999,
          -27.46893,
          17.427107,
          6.799235,
          11.176167,
          2.4486187,
          8.068239,
          31.128756,
          -22.7864,
          -44.44333,
          -0.75130504,
          31.007498,
          18.991367,
          16.393566,
          34.50127,
          -1.1288018,
          6.07426,
          -34.641865,
          -1.9864886,
          11.301478,
          22.976652,
          -10.704382,
          28.550135,
          6.5987887,
          3.6652496,
          13.171338,
          -39.767876,
          -38.918087,
          -14.895273,
          1.8417507,
          36.400593,
          -21.719946,
          -1.7399427,
          6.3983364,
          -6.48364,
          15.2263775,
          15.060242,
          -2.5471096,
          -1.3219615,
          7.975144,
          -1.3314031,
          11.905864,
          -16.140844,
          -6.23803,
          24.492374,
          37.57302,
          -17.73338,
          12.701534,
          36.41281,
          14.909183,
          -2.2055373,
          27.173237,
          22.204685,
          35.290104,
          -15.376198,
          -36.175564,
          -25.612135,
          -29.082972,
          33.084198,
          15.778954,
          29.991589,
          26.599173,
          -23.071829,
          -38.89883,
          -3.2052445,
          14.751701,
          -0.6651296,
          12.413654,
          26.060127,
          33.59886,
          -14.499056,
          2.4791067,
          -6.3000655,
          47.157455,
          -3.7116787,
          14.05301,
          -39.62949,
          -5.541631,
          -9.130072,
          0.3311292,
          4.6998816,
          4.177436,
          -3.66723,
          -23.39777,
          -9.237201,
          11.539998,
          6.1849923,
          13.185706,
          15.998714,
          13.905432,
          -33.9076,
          -16.156181,
          -2.846062,
          24.560705,
          10.204485,
          -18.95472,
          27.268509,
          32.17877,
          27.256588,
          29.521357,
          -4.663896,
          16.684572,
          1.2542971,
          -16.056526,
          18.586184,
          13.432626,
          21.031092,
          -22.153072,
          32.144573,
          6.305098,
          -5.6913633,
          7.6197777,
          27.330004,
          -23.520086,
          25.394087,
          -23.997885,
          3.059588,
          21.137615,
          17.101467,
          8.469963,
          -36.409725,
          26.47369,
          12.10029,
          13.178878,
          -5.839985,
          5.211707,
          27.208256,
          11.88756,
          0.6562617,
          10.052215,
          -4.6819882,
          -26.524529,
          10.992416,
          4.769799,
          -5.8548074,
          2.1871657,
          -24.080019,
          5.107821,
          18.713114,
          -2.6741755,
          5.968924,
          -24.53616,
          7.2067833,
          18.0692,
          -35.42704,
          -38.79094,
          20.91465,
          1.7921437,
          -0.37721404,
          -41.659744,
          -27.590601,
          1.7248279,
          16.927908,
          15.591277,
          -8.014242,
          0.81511235,
          -42.245472,
          14.624778,
          -39.20019,
          46.940453,
          34.29693,
          -2.6409063,
          32.91178,
          9.411453,
          -37.07089,
          13.690456,
          -8.347373,
          25.404497,
          16.588419,
          -39.935383,
          1.6766586,
          -27.722263,
          -26.620144,
          33.447334,
          11.292906,
          -17.435144,
          24.310251,
          -13.879881,
          -34.45439,
          32.820343,
          4.970864,
          26.351526,
          -29.795385,
          -18.134165,
          17.302235,
          9.923086,
          -0.23718047,
          -7.5669184,
          -12.741376,
          -18.779222,
          -0.32198173,
          -3.9002702,
          0.89723134,
          21.860968,
          -27.031515,
          5.8170524,
          31.109207,
          -12.163549,
          -27.903248,
          -8.31221,
          20.780272,
          16.127861,
          26.495508,
          -42.047142,
          -12.722612,
          -38.450577,
          34.71909,
          -36.64456,
          29.701836,
          0.33044443,
          20.854439,
          -12.605527,
          -37.82228,
          3.3360767,
          -19.159063,
          17.777376,
          -2.4420235,
          -1.9163338,
          -13.3639965,
          9.759717,
          22.55602,
          -14.28561,
          -13.879395,
          -15.335832,
          -26.564974,
          13.303507,
          11.797002,
          -5.6305003,
          31.538862,
          27.950476,
          34.495525,
          30.109503,
          29.824207,
          34.08109,
          -19.068731,
          8.097708,
          22.25657,
          -11.478507,
          -19.787443,
          0.57757926,
          -7.940091,
          8.455469,
          -10.63624,
          19.989347,
          32.00744,
          -18.083996,
          -16.600775,
          8.106465,
          2.412474,
          -1.9689854,
          16.956553,
          -29.733006,
          15.930779,
          -38.30183,
          -14.252104,
          22.18039,
          2.357937,
          -3.77107,
          -13.228514,
          -11.180581,
          36.586487,
          10.831695,
          8.349858,
          -39.62231,
          20.167288,
          -8.795913,
          29.604715,
          21.958454,
          -43.716286,
          20.887089,
          22.215475,
          13.723132,
          -2.4853091,
          10.802581,
          -35.920296,
          -5.5052686,
          3.514421,
          28.744886,
          23.822521,
          23.27906,
          1.8095281,
          18.388758,
          -2.8797438,
          19.845266,
          -34.669262,
          -7.7701893,
          29.116041,
          8.12435,
          15.497616,
          -14.796744,
          -15.135314,
          -4.727804,
          -29.25968,
          29.865765,
          21.550764,
          -15.713316,
          36.561848,
          -9.279779,
          5.7106547,
          -32.867508,
          -40.536617,
          -26.181948,
          1.6605607,
          -39.761192,
          19.734102,
          16.513662,
          -26.50135,
          21.311695,
          12.897962,
          -18.471554,
          -1.8474773,
          9.354977,
          27.613544,
          -9.328356,
          33.45228,
          34.968647,
          36.278877,
          -33.258465,
          -2.1428158,
          15.53703,
          -22.283588,
          -11.98857,
          18.491646,
          21.973347,
          -47.557564,
          0.16751257,
          0.5630363,
          -47.5197,
          17.467113,
          -9.268365,
          -43.743805,
          11.1296425,
          -32.796444,
          -5.4842625,
          1.7176293,
          -23.00694,
          37.4519,
          0.021423416,
          -15.593201,
          33.559925,
          29.408787,
          -8.666009,
          41.13943,
          32.066635,
          -6.4993157,
          5.069012,
          29.162447,
          -28.513618,
          16.999916,
          3.785128,
          -5.370306,
          -1.716633,
          15.587062,
          28.557165,
          0.06707342,
          -10.201399,
          18.169693,
          -1.4964098,
          13.109884,
          0.2725258,
          -29.652292,
          31.202042,
          -34.552864,
          28.557022,
          -0.55449736,
          30.265934,
          -43.7065,
          -35.42364,
          17.978643,
          7.878258,
          20.531347,
          15.563495,
          27.164461,
          10.874888,
          -41.453262,
          -25.676558,
          -37.72319,
          9.201353,
          45.490894,
          -6.2203064,
          17.156239,
          15.182887,
          -6.304118,
          22.519314,
          -48.52637,
          12.869497,
          -0.8883609,
          -6.1949167,
          -3.8946276,
          30.401413,
          0.57725316,
          34.138317,
          -24.142593,
          -19.20053,
          -23.40646,
          -35.9179,
          16.248722,
          -7.8518395,
          12.489125,
          -3.4719255,
          7.491378,
          7.6042714,
          -1.5080881,
          -34.73718,
          14.647543,
          -6.8520412,
          -38.796757,
          -2.5744905,
          7.8551598,
          -37.446476,
          27.068943,
          -3.7194653,
          24.993784,
          -27.371204,
          17.325193,
          2.3321643,
          -35.297955,
          32.531197,
          -4.4009323,
          3.0341535,
          -3.1466422,
          -5.8731246,
          -45.988186,
          -11.852553,
          -20.942638,
          14.503743,
          18.529558,
          8.26738,
          17.634726,
          14.157525,
          -42.08278,
          -8.476917,
          37.872524,
          -1.2310488,
          2.7597861,
          5.9723554,
          -28.50528,
          -46.27732,
          31.323755,
          6.7587395,
          -8.704723,
          -24.289143,
          13.826212,
          29.231956,
          17.266504,
          19.28494,
          43.04159,
          -10.340641,
          -45.608253,
          9.33252,
          -25.900015,
          21.104118,
          -11.109561,
          1.8016967,
          17.862474,
          11.137381,
          -18.145056,
          -13.442014,
          2.373173,
          31.071386,
          25.53097,
          -41.499622,
          16.029991,
          17.384987,
          -17.555552,
          -16.35576,
          -33.191833,
          37.44752,
          -3.7049634,
          -0.28194648,
          27.67372,
          36.768444,
          3.672638,
          27.595758,
          3.2676756,
          -37.96389,
          -5.8427634,
          -8.394741,
          -21.675545,
          -39.872772,
          19.912556,
          -41.973232,
          -25.610153,
          -12.052419,
          -19.63876,
          -1.0601094,
          -29.86988,
          15.488351,
          -27.294273,
          -6.451305,
          -32.383415,
          -8.7309885,
          28.839108,
          -35.31839,
          1.0040779,
          -1.0856748,
          -18.892378,
          21.325384,
          35.624763,
          17.35433,
          -19.030838,
          -15.376872,
          28.81014,
          -27.515778,
          8.70685,
          -27.555157,
          9.664756,
          2.9724944,
          -25.4938,
          13.998079,
          -33.573692,
          30.26035,
          29.919373,
          -28.071596,
          0.85814255,
          7.0521793,
          -29.612701,
          -6.487944,
          -25.585407,
          -3.4616036,
          -27.950336,
          -42.207066,
          -17.43322,
          24.21536,
          -3.680924,
          21.444954,
          33.57977,
          11.67372,
          -37.37912,
          23.607462,
          -14.694374,
          16.857607,
          -5.8488617,
          -10.987249,
          9.888029,
          -24.147463,
          -9.256516,
          33.101894,
          -17.035473,
          22.347916,
          -34.711872,
          -5.059184,
          -17.68227,
          2.5087647,
          -41.210823,
          21.958702,
          -15.749062,
          -13.23559,
          46.26684,
          -7.443122,
          10.199356,
          10.897175,
          -6.7399254,
          34.658157,
          -35.72386,
          37.52098,
          30.42875,
          28.21546,
          -33.039627,
          -5.127312,
          -12.913267,
          20.659735,
          -28.371218,
          20.921583,
          26.321272,
          29.19089,
          28.192612,
          -16.349426,
          -5.3772516,
          11.922689,
          -1.2530476,
          -9.6873045,
          -37.30266,
          13.011159,
          32.88884,
          -33.184483,
          13.00542,
          16.00852,
          22.350767,
          9.444026,
          -36.98137,
          5.042708,
          26.977686,
          3.2451758,
          -18.791306,
          -45.751675,
          29.162342,
          42.629677,
          -17.525372,
          32.970848,
          -30.933064,
          21.601969,
          20.371984,
          11.735562,
          26.75099,
          -8.660887,
          18.165802,
          35.09175,
          -34.49512,
          -32.78696,
          -5.380719,
          -45.380795,
          32.522934,
          -36.386837,
          1.316082,
          13.279649,
          9.286677,
          -25.899727,
          -2.0209224,
          -4.2257533,
          16.349884,
          29.409044,
          -14.759113,
          -25.59793,
          -19.926857,
          -33.963192,
          26.838161,
          21.447435,
          12.662134,
          -28.502295,
          -13.5117,
          15.611968,
          1.2782102,
          -12.910305,
          26.73164,
          15.006233,
          23.344242,
          -45.190754,
          16.703156,
          -30.912746,
          -38.883373,
          8.13633,
          15.057599,
          -30.395111,
          -38.847916,
          -39.61877,
          18.814922,
          -10.724163,
          2.9237041,
          37.42371,
          -7.9798145,
          -20.597397,
          -39.20029,
          8.495308,
          -41.72217,
          20.215908,
          2.1759093,
          -31.498056,
          -38.119637,
          -22.57311,
          -4.221445,
          -0.22180228,
          27.501217,
          15.815078,
          -1.9898075,
          35.843746,
          34.266293,
          -36.638954,
          -31.758558,
          10.202482,
          -20.54033,
          -3.8593032,
          -11.086025,
          -26.74466,
          15.306971,
          -24.52971,
          1.0068581,
          -1.3149441,
          23.230597,
          15.078981,
          -19.784065,
          -0.7026379,
          16.033073,
          12.213714,
          -4.222612,
          19.190771,
          22.993826,
          15.087435,
          -18.295734,
          16.70532,
          -37.38769,
          25.128304,
          -35.824272,
          11.997698,
          4.2585034,
          16.64326,
          14.080794,
          30.002844,
          -34.94148,
          5.713604,
          -40.129303,
          -28.708416,
          11.102418,
          11.778417,
          13.083179,
          -28.529028,
          28.894888,
          -35.615696,
          -41.19,
          30.640327,
          -34.01693,
          23.37055,
          20.673376,
          20.34934,
          14.511805,
          -5.412086,
          -2.7744207,
          -2.6609132,
          -17.846004,
          15.141219,
          12.088164,
          16.253532,
          19.91331,
          18.97998,
          -0.9518351,
          26.020967,
          0.6328499,
          21.863537,
          16.543377,
          -6.9324136,
          -41.31698,
          6.6700835,
          -22.797691,
          -40.848568,
          13.407422,
          -24.636179,
          24.543385,
          -11.326232,
          -6.854109,
          0.042503614,
          6.777207,
          -33.943096,
          17.396719,
          29.468449,
          -9.511791,
          1.7402773,
          -33.99521,
          1.6869465,
          -9.668044,
          -2.9896612,
          20.71546,
          -25.501955,
          6.854812,
          -38.632,
          29.653872,
          -39.95967,
          21.863598,
          12.756869,
          25.99476,
          -23.133837,
          17.049402,
          -40.613163,
          -8.823539,
          2.523428,
          18.156475,
          0.2469292,
          15.138675,
          17.967777,
          -4.9927645,
          -31.044167,
          -1.7637125,
          29.481976,
          13.318713,
          0.95917034,
          -2.1631122,
          -40.29129,
          22.310255,
          33.034657,
          -46.538944,
          3.740148,
          -30.853456,
          -33.513783,
          -1.9837987,
          -19.389563,
          -14.960598,
          32.447647,
          24.70488,
          2.1400478,
          -32.93398,
          2.2062736,
          -2.4410658,
          -43.975304,
          0.32923988,
          -38.9389,
          4.6633897,
          9.458977,
          12.75171,
          -26.404213,
          -0.6907279,
          -5.6873717,
          -2.712886,
          -5.965146,
          -30.36944,
          -9.14763,
          -9.029113,
          -15.528867,
          -7.6046724,
          15.493953,
          -22.257412,
          33.44371,
          5.285232,
          -5.8791523,
          -45.43074,
          -14.592012,
          -22.683083,
          -3.0377283,
          -22.077799,
          25.18593,
          17.252325,
          2.1462717,
          11.985607,
          -29.03177,
          14.806038,
          -17.638742,
          -39.454094,
          -11.203748,
          -6.2360697,
          4.6379895,
          14.831353,
          29.981081,
          -8.705948,
          11.817763,
          -41.319294,
          -0.59256136,
          17.10031,
          20.48895,
          -8.566074,
          31.585777,
          3.6066751,
          22.440166,
          -40.39797,
          -39.40186,
          -34.021084,
          9.074385,
          -44.239574,
          -5.509449,
          -20.856215,
          -26.825941,
          27.86632,
          -35.72185,
          30.556805,
          16.515305,
          3.4284077,
          3.0102427,
          15.343899,
          27.605959,
          -20.24541,
          11.9809675,
          -4.655313,
          47.959484,
          22.304365,
          15.810905,
          -46.421005,
          -4.096635,
          -18.271544,
          -6.2232585,
          -5.9594054,
          16.443695,
          -6.8385963,
          36.26295,
          -1.2379274,
          44.25102,
          15.666509,
          -28.683867,
          -19.55165,
          19.757736,
          33.39173,
          12.7011,
          -3.6356502,
          -13.616012,
          11.4279785,
          -11.513363,
          -10.296565,
          35.540314,
          -1.3545985,
          -35.1897,
          -37.17573,
          -5.624914,
          24.916574,
          29.654716,
          21.089003,
          -12.590842,
          37.420074,
          10.150874,
          -40.783398,
          8.440024,
          13.234033,
          -4.1860094,
          -32.368683,
          -11.9908085,
          7.674114,
          17.558182,
          -7.511378,
          -38.91605,
          10.383512,
          13.444765,
          -2.916239,
          -29.392889,
          21.87578,
          -38.98061,
          5.797455,
          -11.938191,
          15.64944,
          19.004591,
          -38.509968,
          9.285859,
          20.077446,
          -7.545028,
          2.4154675,
          -24.153849,
          15.804684,
          -41.726837,
          -16.839937,
          -21.305136,
          -37.294178,
          18.366922,
          13.193388,
          -6.7617946,
          -37.39415,
          -33.537285,
          2.9099977,
          33.487053,
          5.1993895,
          -23.54461,
          -14.613816,
          15.0252495,
          -15.714362,
          2.1140993,
          -22.086891,
          25.833128,
          -2.2270525,
          15.091735,
          -38.404102,
          -35.80382,
          9.446927,
          4.6572065,
          41.13535,
          10.111558,
          28.342808,
          32.520557,
          -8.892385,
          -15.025427,
          11.975317,
          -19.042946,
          6.951328,
          14.1547,
          -15.505007,
          -8.1628685,
          -24.31235,
          19.364996,
          15.126876,
          -37.829586,
          6.5086803,
          24.609076,
          6.8183646,
          -15.000582,
          16.471338,
          -21.572113,
          16.352695,
          0.4213212,
          -41.80845,
          37.58577,
          -21.453543,
          32.72225,
          -8.93256,
          -15.03946,
          21.567614,
          -38.72235,
          -37.729855,
          30.350973,
          6.194369,
          -37.75913,
          -44.65991,
          22.25303,
          -25.231516,
          -2.5742035,
          15.761298,
          -32.183567,
          -9.9589205,
          -3.7966838,
          26.730787,
          15.913552,
          -13.075828,
          18.112118,
          -14.645538,
          -12.615903,
          -10.606006,
          1.5608727,
          -22.491787,
          34.018425,
          29.280848,
          -34.54791,
          -1.0099851,
          17.518871,
          34.411785,
          6.6253185,
          -35.00387,
          -33.53253,
          19.825638,
          34.512836,
          -27.680113,
          1.0228024,
          -10.502558,
          -17.999897,
          -40.158993,
          32.4284,
          21.52249,
          6.7807856,
          3.361508,
          19.241787,
          34.002277,
          -31.699429,
          0.5749566,
          -0.932705,
          14.017293,
          -19.080399,
          -41.49324,
          25.498755,
          3.5452936,
          26.583916,
          6.1934,
          10.002372,
          -11.188026,
          5.589292,
          7.5644145,
          -24.916975,
          25.510675,
          -6.9057,
          43.14057,
          25.387913,
          -22.185488,
          30.9573,
          -38.547626,
          16.246675,
          -6.042227,
          46.24718,
          4.0101748,
          -0.6782306,
          28.851524,
          11.285311,
          -1.3431642,
          33.08075,
          -26.938686,
          -13.2318325,
          0.51582825,
          -14.078902,
          35.908997,
          -16.070839,
          -42.859528,
          -7.655979,
          -7.946368,
          25.5905,
          -35.818542,
          27.949415,
          -6.798196,
          -47.08006,
          20.766047,
          20.585419,
          -7.699785,
          -24.49498,
          -47.14282,
          31.202509,
          -17.54656,
          -12.764796,
          -2.476674,
          22.508099,
          38.37967,
          -42.31718,
          -9.548558,
          -7.0491805,
          -26.121496,
          -1.3577592,
          -34.78348,
          13.830475,
          -18.083847,
          15.513708,
          27.41892,
          -45.640984,
          33.468544,
          -46.35085,
          19.655897,
          -14.770646,
          -36.701828,
          -11.5497465,
          3.3366663,
          -8.341126,
          5.1967697,
          10.528884,
          11.497367,
          -26.95519,
          -13.201639
         ],
         "yaxis": "y",
         "type": "scattergl"
        },
        {
         "customdata": [
          [
           "Suritozole"
          ],
          [
           "Azanidazole"
          ],
          [
           "Trifluridine"
          ],
          [
           "4201-26-7|Tz-12|2-(2-Methyl-4-Chlorophenylamino)-2-Imidazoline"
          ],
          [
           "Nicopholine"
          ],
          [
           "S18986|(3As)-2,3,3A,4-Tetrahydro-1H-Pyrrolo[2,1-C][1,2,4]Benzothiadiazine 5,5-Dioxide"
          ],
          [
           "9-[5-(Hydroxymethyl)Tetrahydrofuran-2-Yl]-9H-Purin-6-Ol"
          ],
          [
           "Thiacetazone|N-(4-((2-Carbamothioylhydrazono)Methyl)Phenyl)Acetamide"
          ],
          [
           "Alovudine"
          ],
          [
           "36318-56-6|Tz-17|Imidazolidine, 2-(2-Methylphenylimino)-"
          ],
          [
           "Propyl-4-Aminobenzoate|Risocaine"
          ],
          [
           "Methyldopa"
          ],
          [
           "3-(1-Methylpyrrolidin-2-Yl)Pyridine"
          ],
          [
           "Alpha-(4-Pyridyl N-Oxide)-N-Tert-Butylnitrone"
          ],
          [
           "Sultiame|Sulthiame"
          ],
          [
           "Telbivudine"
          ],
          [
           "2´,3´-Dideoxy-3´-Hydroxymethylcytidine"
          ],
          [
           "Oxilofrine|Suprifen"
          ],
          [
           "Hydroxyephedrine|Oxilofrine"
          ],
          [
           "Fasoracetam"
          ],
          [
           "Butethal|Butobarbitone"
          ],
          [
           "Secbutabarbital|Butabarbital"
          ],
          [
           "Albutoin"
          ],
          [
           "Amantadine"
          ],
          [
           "Procymate"
          ],
          [
           "Malathion"
          ],
          [
           "Mebutamate"
          ],
          [
           "Loreclezole"
          ],
          [
           "Anagrelide Hydrochloride|Anagrelide"
          ],
          [
           "Brosuximide"
          ],
          [
           "Menadiol"
          ],
          [
           "Dichlormezanone"
          ],
          [
           "Alclofenac"
          ],
          [
           "Dezinamide"
          ],
          [
           "4-Fluoroantipyrine"
          ],
          [
           "4-Iodoantipyrine Ok|Iodophenazone|4-Iodoantipyrine|Iodoantipyrine"
          ],
          [
           "Sulfapyridine"
          ],
          [
           "Chlormezanone"
          ],
          [
           "Tozalinone|Thozalinone"
          ],
          [
           "Oxitriptan"
          ],
          [
           "Dexamisole"
          ],
          [
           "Levamisole Hydrochloride|Levamisole"
          ],
          [
           "Sulfamethoxypyridazine"
          ],
          [
           "3-Bromocytisine"
          ],
          [
           "Sorivudine"
          ],
          [
           "Mofegiline"
          ],
          [
           "Fenmetramide"
          ],
          [
           "65936-23-4|Tz-28|(4-Bromo-2,6-Dimethyl-Phenyl)-Imidazolidin-2-Ylidene-Amine"
          ],
          [
           "Doxofylline"
          ],
          [
           "Phenaglycodol"
          ],
          [
           "Cid 10313352|Phenyl-N-Tert-Butylnitrone, (E)-"
          ],
          [
           "Beta-Ethyl-Beta-Hydroxybenzenepropanamide|3-Hydroxy-3-Phenylpentamide|3-Hydroxy-3-Phenylpentanamide"
          ],
          [
           "Vinbarbital"
          ],
          [
           "Bretyliumtosilate|Bretylium"
          ],
          [
           "Mescaline"
          ],
          [
           "Metaproterenol|Orciprenaline"
          ],
          [
           "Pentobarbital"
          ],
          [
           "Valdipromide"
          ],
          [
           "Sorbinil"
          ],
          [
           "Tiacrilast"
          ],
          [
           "Cinoxacin"
          ],
          [
           "Rasagiline"
          ],
          [
           "Skb22|Bbcpd16|B-057; Compound34|18|12|N-[3-[2-(Diaminomethylideneamino)-1,3-Thiazol-4-Yl]Phenyl]Acetamide"
          ],
          [
           "72801-74-2|N-(3-{2-[(Hydrazinylmethylidene)Amino]-1,3-Thiazol-4-Yl}Phenyl)Acetamide"
          ],
          [
           "Aniracetam"
          ],
          [
           "Iminophenimide"
          ],
          [
           "Metetoin|Methetoin"
          ],
          [
           "Mephenytoin"
          ],
          [
           "Racefenicol"
          ],
          [
           "Clofibrate"
          ],
          [
           "Oximonam|Oximonamum"
          ],
          [
           "Xylazine"
          ],
          [
           "Phendimetrazine"
          ],
          [
           "Butacetin"
          ],
          [
           "Ciclopirox"
          ],
          [
           "Flerobuterol"
          ],
          [
           "Midodrine Hydrochloride|Midodrine"
          ],
          [
           "Thiotetrabarbital"
          ],
          [
           "Memantine"
          ],
          [
           "Sucrose"
          ],
          [
           "Lactitol"
          ],
          [
           "Leflunomide"
          ],
          [
           "P-Phenylbenzoic Acid|4-Carboxybiphenyl|4-Biphenylcarboxylic Acid"
          ],
          [
           "Oxolinic|Oxolinic Acid"
          ],
          [
           "1,3-Diphenylguanidine"
          ],
          [
           null
          ],
          [
           "Metomidate"
          ],
          [
           "Soretolide"
          ],
          [
           "Quipazine"
          ],
          [
           "Sulfisoxazole Acetyl"
          ],
          [
           "Thialbarbital"
          ],
          [
           "Taltrimide"
          ],
          [
           "Moclobemide"
          ],
          [
           "Lometraline"
          ],
          [
           "34911-55-2|Bupropion|Buproprion, Wellbutrin"
          ],
          [
           "Alaproclate"
          ],
          [
           "Almecillin"
          ],
          [
           "Bbcpd17"
          ],
          [
           "Viloxazine"
          ],
          [
           "Levodropropizine"
          ],
          [
           "Procainamide Hydrochloride|Procainamide"
          ],
          [
           "Etamiphyllin|Etamiphylline"
          ],
          [
           "Toliprolol"
          ],
          [
           "Iprozilamine"
          ],
          [
           "5-Heptyl-5-Ethyl Barbituric Acid|5-Ethyl-5-Heptyl-1,3-Diazinane-2,4,6-Trione|5-Ethyl-5-N-Heptylbarbituric Acid"
          ],
          [
           "Timolol"
          ],
          [
           "Flufenamic|Flufenamic Acid"
          ],
          [
           "Nitisinone"
          ],
          [
           "Diclofenac"
          ],
          [
           "Flumequine"
          ],
          [
           "Cefdinir|E-Cefdinir"
          ],
          [
           "Metyrapone"
          ],
          [
           "Entacapone"
          ],
          [
           "Etomidate|Ethyl 1-(1-Phenylethyl)-1H-Imidazole-5-Carboxylate"
          ],
          [
           "Sulfoxone"
          ],
          [
           "Azaribine|Azauridine Triacetate"
          ],
          [
           "Ibudilast"
          ],
          [
           "Eprobemide"
          ],
          [
           "Flubanilate"
          ],
          [
           "Methapyrilene"
          ],
          [
           "Bromhexine"
          ],
          [
           "Bunitrolol"
          ],
          [
           "Tolboxane"
          ],
          [
           "Oxamniquine"
          ],
          [
           "Bromopride"
          ],
          [
           "Lidocaine"
          ],
          [
           "Spectinomycin"
          ],
          [
           "Ns1738|Urea, N-(5-Chloro-2-Hydroxyphenyl)-N'-(2-Chloro-5-(Trifluoromethyl)Phenyl)-"
          ],
          [
           "Delorazepam"
          ],
          [
           "Lorazepam"
          ],
          [
           "Nordazepam|1088-11-5|Desmethyldiazepam|Nordiazepam|Desmethyldiazepam, Nordazepam"
          ],
          [
           "S-Oxazepam"
          ],
          [
           "Dextrothyroxine Sodium|Dextrothyroxine"
          ],
          [
           "Phenytoin"
          ],
          [
           "Lofendazam"
          ],
          [
           "Flurbiprofen"
          ],
          [
           "Iomazenil"
          ],
          [
           "Nomelidine"
          ],
          [
           "Bemetizide"
          ],
          [
           "156154-42-6|Methyl 4-((4-Chlorophenyl)Amino)-6-Methyl-2-Oxo-3-Cyclohexene-1-Carboxylate"
          ],
          [
           null
          ],
          [
           "Ripazepam"
          ],
          [
           "Bisphenol A"
          ],
          [
           "Pentiapine"
          ],
          [
           "Ilepcimide"
          ],
          [
           "Enilospirone|Enilospirona"
          ],
          [
           "Piquindone"
          ],
          [
           "Cube-2"
          ],
          [
           "Meptazinol"
          ],
          [
           "Marimastat"
          ],
          [
           "Benoxaprofen"
          ],
          [
           "Flunitrazepam|1622-62-4|Flunitrazepam, Rohypnol"
          ],
          [
           "Diazepam|439-14-5"
          ],
          [
           "Clobazam|22316-47-8"
          ],
          [
           "Suclofenide"
          ],
          [
           "Org30526|Org-30526|9-Chloro-13-Oxa-4-Azatetracyclo[12.4.0.02,6.07,12]Octadeca-1(18),7(12),8,10,14,16-Hexaene"
          ],
          [
           "Etasuline"
          ],
          [
           "77086-21-6|Dizocilpine|Mk-801"
          ],
          [
           "Epinastine"
          ],
          [
           "Cefetrizole"
          ],
          [
           "Cefedrolor"
          ],
          [
           "Seproxetine"
          ],
          [
           "Tetrazepam"
          ],
          [
           "Nor-1-Chlorpromazine|3-(1-Chlorophenothiazin-10-Yl)-N-Methylpropan-1-Amine"
          ],
          [
           "Besipirdine"
          ],
          [
           "Menitrazepam"
          ],
          [
           "Cefalexin|Cephalexin"
          ],
          [
           "Cefadroxil"
          ],
          [
           "Cefotaxime|Claforan"
          ],
          [
           "Normorphine"
          ],
          [
           "Benzylpenicillin|Penicillin G"
          ],
          [
           "Penicillin V|Phenoxymethylpenicillin"
          ],
          [
           "Temocillin"
          ],
          [
           "Brompheniramine"
          ],
          [
           "Prazitone"
          ],
          [
           "Ampicillin|Ampicilline"
          ],
          [
           "Suncillin"
          ],
          [
           "Prothipendyl"
          ],
          [
           "Litoxetine"
          ],
          [
           "Benzoylecgonine"
          ],
          [
           "Perisoxal"
          ],
          [
           "Eterobarb"
          ],
          [
           "Mepiprazole"
          ],
          [
           "Tripelennamine"
          ],
          [
           "Propranolol|525-66-6|1-Propanolol"
          ],
          [
           "Melperone"
          ],
          [
           "Procaterol"
          ],
          [
           "Remoxipride"
          ],
          [
           "Tegaserod|Sdz Htf 919"
          ],
          [
           "Dezocine"
          ],
          [
           "Betaprodine"
          ],
          [
           "5-[2-(Dipropylamino)Ethyl]-1,3-Dihydroindol-2-One"
          ],
          [
           "Carteolol|Carteolol Hydrochloride"
          ],
          [
           "Ultram"
          ],
          [
           "Tramadol"
          ],
          [
           "Thymoxamine|Moxisylyte"
          ],
          [
           "Gacyclidine"
          ],
          [
           "Alprazolam|28981-97-7"
          ],
          [
           "Cloxazolam"
          ],
          [
           "Celecoxib|Celecoxib, Celebrex"
          ],
          [
           "Motrazepam"
          ],
          [
           "Zaleplon"
          ],
          [
           "Org 5222|Asenapine|5-Chloro-2-Methyl-2,3,3A,12B-Tetrahydrodibenzo[2,3:6,7]Oxepino[4,5-C]Pyrrole"
          ],
          [
           "Org5222|Asenapine"
          ],
          [
           "7-K10"
          ],
          [
           "Mefloquine|Lariam"
          ],
          [
           "Org34167|198968-25-1|Org-34167|Um4N969Cjq"
          ],
          [
           "Diclofensine"
          ],
          [
           "Etazepine"
          ],
          [
           null
          ],
          [
           "Fleroxacin|Fleroxacine"
          ],
          [
           "Atibeprone"
          ],
          [
           "Alosetron"
          ],
          [
           "46|1-(2-Hydroxyethyl)-6-Oxo-4-(1,2,4,5-Tetrahydro-3-Benzazepin-3-Yl)Pyrimidine-5-Carbonitrile"
          ],
          [
           "Skb26|Bbcpd18|112598-45-5|B-058|22|Pyrrole3Nitro235Dimethylaminomethylfuran2Ylpheny"
          ],
          [
           "Flumezapine"
          ],
          [
           "Mirtazapine|85650-52-8|Mirtazepine"
          ],
          [
           "Delergotrile"
          ],
          [
           "Didesipramine|2095-95-6|Desmethyldesipramine|Desmethydesipramine"
          ],
          [
           "Remacemide"
          ],
          [
           "Isopromethazine"
          ],
          [
           "Promethazine"
          ],
          [
           "Olanzapine"
          ],
          [
           "Mycophenolate|Mycophenolic Acid"
          ],
          [
           "Tomoxetine"
          ],
          [
           "Oxifentorex"
          ],
          [
           null
          ],
          [
           "Iopamidol"
          ],
          [
           "Doxylamine|Doxylamine Succinate"
          ],
          [
           "Moxiraprine"
          ],
          [
           "Etacepride"
          ],
          [
           "Vildagliptin"
          ],
          [
           "Naratriptan"
          ],
          [
           "Meropenem"
          ],
          [
           "Ar 1D9859|Ar-1D9859|2-Butyl-6,7-Dimethoxy-3,3A,4,8B-Tetrahydro-1H-Indeno[1,2-C]Pyrrole"
          ],
          [
           "Ropivacaine"
          ],
          [
           "Gamfexine"
          ],
          [
           "Amisulpride"
          ],
          [
           "Endomide"
          ],
          [
           "4-Hydroxymidazolam|59468-85-8"
          ],
          [
           "Eberconazole"
          ],
          [
           "Ethyl-Loflazepate|Ethyl Loflazepate"
          ],
          [
           null
          ],
          [
           "Etoricoxib"
          ],
          [
           "Lorzafone"
          ],
          [
           "Panadiplon"
          ],
          [
           "Metaclazepam"
          ],
          [
           "Fosazepam"
          ],
          [
           "Clotiapine|Clothiapine"
          ],
          [
           "Carvotroline"
          ],
          [
           "Proquazone"
          ],
          [
           "Demexiptiline"
          ],
          [
           "Cefaloram"
          ],
          [
           "Mesocarb|Mesocarb (1 Mg/Ml In Methanol)"
          ],
          [
           "Cefonicid"
          ],
          [
           "Nerisopam"
          ],
          [
           "Glaziovine"
          ],
          [
           "Clodazon"
          ],
          [
           "Gemifloxacin|7-[(4E)-3-(Aminomethyl)-4-Methoxyiminopyrrolidin-1-Yl]-1-Cyclopropyl-6-Fluoro-4-Oxo-1,8-Naphthyridine-3-Carboxylic Acid"
          ],
          [
           "Fantridone"
          ],
          [
           "Chlorcyclizine"
          ],
          [
           "Dibenzepin|Noveril"
          ],
          [
           "Methyldesorphine"
          ],
          [
           "Metopon"
          ],
          [
           "Metrizamide|3-Acetamido-5-[Acetyl(Methyl)Amino]-2,4,6-Triiodo-N-[2,4,5-Trihydroxy-6-(Hydroxymethyl)Oxan-3-Yl]Benzamide"
          ],
          [
           "Isopropicillin"
          ],
          [
           "Diethazine"
          ],
          [
           "Liv-20A|Benzyl 4-[(2-Pyrimidinylamino)Methyl]-1-Piperidinecarboxylate"
          ],
          [
           "16A-Fluoroestradiol|16-Fluoro-13-Methyl-6,7,8,9,11,12,14,15,16,17-Decahydrocyclopenta[A]Phenanthrene-3,17-Diol"
          ],
          [
           "16A-Fluoroestradiol|16Beta-Fluoroestradiol"
          ],
          [
           "Bifemelane"
          ],
          [
           "Ketazocine"
          ],
          [
           "Isoxsuprine|Duvadilan"
          ],
          [
           "Dihydrocodeine"
          ],
          [
           "Brl52537|2-(3,4-Dichlorophenyl)-1-[(2S)-2-(Pyrrolidin-1-Ylmethyl)Piperidin-1-Yl]Ethanone"
          ],
          [
           "Pancopride"
          ],
          [
           "Granisetronum"
          ],
          [
           "Mesulergine"
          ],
          [
           "Cetotiamine"
          ],
          [
           "Sb 269970A|(R)-3-((2-(2-(4-Methylpiperidin-1-Yl)Ethyl)Pyrrolidin-1-Yl)Sulfonyl)Phenol"
          ],
          [
           "37517-30-9|Acebutolol"
          ],
          [
           "Bisoprolol Fumarate|Bisoprolol"
          ],
          [
           "Clindamycin-Phosphate|Clindamycin Phosphate"
          ],
          [
           "23"
          ],
          [
           "Bekanamycin"
          ],
          [
           "Elfazepam"
          ],
          [
           "Adinazolam"
          ],
          [
           "4-Dimethylamino-7-(4-Ethyl-Phenyl)-7H-9-Thia-1,5,7-Triaza-Fluoren-8-One"
          ],
          [
           "Cefditoren|Spectracef (Cefditoren Pivoxil)"
          ],
          [
           "L-838417|7-(Tert-Butyl)-3-(2,5-Difluorophenyl)-6-((1-Methyl-1H-1,2,4-Triazol-5-Yl)Methoxy)-[1,2,4]Triazolo[4,3-B]Pyridazine"
          ],
          [
           "Setiptiline"
          ],
          [
           "Odapipam"
          ],
          [
           "Denzimol"
          ],
          [
           "Dolasetron"
          ],
          [
           "Skb17|Bbcpd14|112598-32-0|Chebi: 337303|B-051|15|4-Benzyl-3-Nitro-N-[2-(Pyridin-2-Ylmethylsulfanyl)Ethyl]-1H-Pyrrol-2-Amine"
          ],
          [
           "Clorotepine"
          ],
          [
           "Perlapine"
          ],
          [
           "9A|(2R)-2-[1-[(4-Methylphenyl)Methyl]Benzimidazol-2-Yl]Morpholine"
          ],
          [
           "Ml|4-(Dimethylamino)-2-[[[2-(Hydroxymethyl)Quinolin-8-Yl]Amino]Methyl]Phenol"
          ],
          [
           "Metiapine"
          ],
          [
           "Dosulepin"
          ],
          [
           "Difencloxazine"
          ],
          [
           "Grepafloxacin"
          ],
          [
           "Noxiptiline|Noxiptilin"
          ],
          [
           "27|1-[3-[5-(4-Methoxyphenyl)-2-Methyl-1,2,4-Triazol-3-Yl]Phenyl]-N,N-Dimethylmethanamine"
          ],
          [
           "Liv-16|Benzyl 4-[(Pyridin-2-Ylamino)Methyl]Piperidine-1-Carboxylate"
          ],
          [
           "Semorphone"
          ],
          [
           "Imipraminoxide"
          ],
          [
           "Levometiomeprazine|Methiomeprazine"
          ],
          [
           "8-[(Methylsulfanyl)Methyl]-6-Propylergoline"
          ],
          [
           "Roscovitine|Seliciclib"
          ],
          [
           "Formestane"
          ],
          [
           "Sb205563|2-(3,4-Dichlorophenyl)-1-[(2R)-4-(2-Hydroxyethyl)-2-[[(3R)-3-Hydroxypyrrolidin-1-Yl]Methyl]Piperazin-1-Yl]Ethanone"
          ],
          [
           "Carperone"
          ],
          [
           "Gr94839_H|1-[(2S)-4-Acetyl-2-[[(3R)-3-Hydroxypyrrolidin-1-Yl]Methyl]Piperazin-1-Yl]-2-Phenylethanone"
          ],
          [
           "Bunazosin"
          ],
          [
           "Piperazinederivatives 8|N-[4-[2-[4-(2,3-Dichlorophenyl)Piperazin-1-Yl]Ethyl]Cyclohexyl]Methanesulfonamide"
          ],
          [
           "Pentapiperium"
          ],
          [
           "Oxandrolone"
          ],
          [
           "Perindopril Erbumine|Perindopril"
          ],
          [
           "Perhexiline"
          ],
          [
           "Sisomicin"
          ],
          [
           "Fluorescein"
          ],
          [
           "Takle-2; L-779,450|2-Chloro-5-(2-Phenyl-5-(Pyridin-4-Yl)-1H-Imidazol-4-Yl)Phenol"
          ],
          [
           "Ptk-787, Vatalanib|Vatalanib"
          ],
          [
           "Camptothecin"
          ],
          [
           "Ciclotizolam"
          ],
          [
           "Citatepine"
          ],
          [
           "Suriclone"
          ],
          [
           "Latamoxef|Moxalactam"
          ],
          [
           "145742-22-9|Pfizer Compound 10|N-[[2-(Difluoromethoxy)-5-(Trifluoromethoxy)Phenyl]Methyl]-2-Phenylpiperidin-3-Amine"
          ],
          [
           "Brl53080|2-(3,4-Dichlorophenyl)-1-[(7R)-7-(Pyrrolidin-1-Ylmethyl)-5,7-Dihydro-4H-Thieno[2,3-C]Pyridin-6-Yl]Ethanone"
          ],
          [
           "Romergoline"
          ],
          [
           "Methotrexate|Methotrexate Sodium"
          ],
          [
           "Pfizer Compound 7|N-[[2-Methoxy-5-(Trifluoromethoxy)Phenyl]Methyl]-2-Phenylpiperidin-3-Amine"
          ],
          [
           "Triptanol|50-48-6|Amitriptyline|Amitriptyline, Triptanol, Elavil|Amitryptiline|36"
          ],
          [
           "Dexnafenodone"
          ],
          [
           "Oxaprotiline"
          ],
          [
           "Naltrexone"
          ],
          [
           "Compound-4Ag|N-(Cyclopropylmethyl)-7-(2,4-Dichlorophenyl)-2-Methyl-N-Propyl-5,6-Dihydropyrrolo[2,3-D]Pyrimidin-4-Amine"
          ],
          [
           "29|1-[3-[2-(Methoxymethyl)-5-(4-Methoxyphenyl)-1,2,4-Triazol-3-Yl]Phenyl]-N,N-Dimethylmethanamine"
          ],
          [
           "Spiclamine"
          ],
          [
           "Cloxypendyl"
          ],
          [
           "Cefluprenam"
          ],
          [
           "Cefetamet Pivoxil"
          ],
          [
           "Talopram"
          ],
          [
           "Femoxetine"
          ],
          [
           "Dimetacrine"
          ],
          [
           "Viqualine"
          ],
          [
           "Gr89696_Et|Ethyl (3S)-4-[2-(3,4-Dichlorophenyl)Acetyl]-3-(Pyrrolidin-1-Ylmethyl)Piperazine-1-Carboxylate"
          ],
          [
           "364079-69-6|Lu-201640|Abt-925 Anhydrous Free Base"
          ],
          [
           "Febarbamate"
          ],
          [
           "Emepronium Carragheenate|Emepronium"
          ],
          [
           "Oxyphencyclimine Hydrochloride|Oxyphencyclimine"
          ],
          [
           "Remifentanil"
          ],
          [
           "Tamsulosin Hydrochloride|Tamsulosin"
          ],
          [
           "Alitretinoin"
          ],
          [
           "Gr94839_L|1-[(2S)-4-Acetyl-2-[[(3S)-3-Hydroxypyrrolidin-1-Yl]Methyl]Piperazin-1-Yl]-2-(4-Methylsulfonylphenyl)Ethanone"
          ],
          [
           "Gemazocine"
          ],
          [
           "Carbetapentane"
          ],
          [
           "Vernakalant"
          ],
          [
           "S113 Amitryptalline"
          ],
          [
           "Prulifloxacin"
          ],
          [
           "222722-65-8|2-(2-Hydroxy-2-Methylpropyl)-6-(2-Phenylpyrazolo[1,5-A]Pyridin-3-Yl)Pyridazin-3-One"
          ],
          [
           "Adriamycinol-Aglycone|Doxorubicinolone, 90%(Mixture Of Diastereomers)"
          ],
          [
           "25"
          ],
          [
           "Nafcillin"
          ],
          [
           "10457-90-6|Bromperidol"
          ],
          [
           "Alpidem"
          ],
          [
           "Sprycel, Dasatinib|N-(2,6-Dichlorophenyl)-2-[[6-[4-(2-Hydroxyethyl)Piperazin-1-Yl]-2-Methylpyrimidin-4-Yl]Amino]-1,3-Thiazole-5-Carboxamide"
          ],
          [
           "Flurazepam"
          ],
          [
           "Besonprodil 9|Besonprodil"
          ],
          [
           "Taclamine"
          ],
          [
           "86181-42-2|Temelastine"
          ],
          [
           "117-89-5|Trifluoroperazine|Trifluoperazine|Trifluroperazine"
          ],
          [
           "Cyclarbamate"
          ],
          [
           "Repinotan"
          ],
          [
           "Mchr Antagonist 28|N-(1-(Benzo[D][1,3]Dioxol-5-Ylmethyl)Piperidin-4-Yl)-5-Methoxy-1H-Indazol-3-Amine"
          ],
          [
           "Tianeptine"
          ],
          [
           "Dapagliflozin"
          ],
          [
           "Fluanisone"
          ],
          [
           "Atevirdine, U87201|Atevirdine"
          ],
          [
           "(5-Ethenyl-2-Bicyclo[2.2.2]Octanyl)-(6-Methoxyquinolin-4-Yl)Methanol"
          ],
          [
           "9-C15"
          ],
          [
           "Ciladopa"
          ],
          [
           "10-{2-[(2R)-1-Methylpiperidin-2-Yl]Ethyl}-2-(Methylsulfanyl)-10H-Phenothiazine"
          ],
          [
           "Acitretin"
          ],
          [
           "Sarpicillin"
          ],
          [
           "Levomethadone"
          ],
          [
           "Isomethadone"
          ],
          [
           "Trimethobenzamide"
          ],
          [
           "Pd 117302|Pd117302|(+)-2-(Benzothiophen-4-Yl)-N-Methyl-N-((1R,2R)-2-Pyrrolidin-1-Ylcyclohexyl)Acetamide"
          ],
          [
           "Deprodone"
          ],
          [
           "(8S,9S,10R,13S,14S,17R)-11,17-Dihydroxy-17-(2-Hydroxyacetyl)-10,13-Dimethyl-7,8,9,11,12,14,15,16-Octahydro-6H-Cyclopenta[A]Phenanthren-3-One"
          ],
          [
           "Oxisopred|(1S,2R,10S,11S,14R,15S,17S)-14,17-Dihydroxy-14-(2-Hydroxyacetyl)-2,15-Dimethyltetracyclo[8.7.0.02,6.011,15]Heptadec-3-Ene-5,7-Dione"
          ],
          [
           "Progesterone"
          ],
          [
           "Dronabinol|1 Del Tercero|Thc"
          ],
          [
           "Tixocortol"
          ],
          [
           "Hydrocortisone|Cortisol"
          ],
          [
           "Cogazocine"
          ],
          [
           "Calusterone"
          ],
          [
           "Pivmecillinam"
          ],
          [
           "Laninamivir Octanoate"
          ],
          [
           "Streptomycin"
          ],
          [
           "Netilmicin"
          ],
          [
           "Neodicoumarol|Ethyl Biscoumacetate"
          ],
          [
           "Clotrimazole"
          ],
          [
           "Metacycline|Methacycline Hydrochloride|Methacycline"
          ],
          [
           "Ceftazidime"
          ],
          [
           "Loratadine"
          ],
          [
           "Chlortetracycline|Auxeomycin"
          ],
          [
           "Losartan|Losartan Potassium"
          ],
          [
           "Lenperone"
          ],
          [
           "Brl52580|2-(3,4-Dichlorophenyl)-1-[(1S)-1-(Pyrrolidin-1-Ylmethyl)-3,4-Dihydro-1H-Isoquinolin-2-Yl]Ethanone"
          ],
          [
           "Spiclomazine"
          ],
          [
           "Ftorpropazine"
          ],
          [
           "Benperidol"
          ],
          [
           "Clopenthixol|Sordinol"
          ],
          [
           "Zuclopenthixol"
          ],
          [
           "Lubeluzole"
          ],
          [
           "Spiroxatrine"
          ],
          [
           "146-56-5|Fluphenazine|Triflumethazine"
          ],
          [
           "Flesinoxan|Cid 9909776"
          ],
          [
           "Fluocortin"
          ],
          [
           "Fluprednidene"
          ],
          [
           "Zolantidine|104076-38-2|B-065, Zolantidine|29"
          ],
          [
           "Danazol"
          ],
          [
           "Mometasone"
          ],
          [
           "Flumetasone|Flumethasone"
          ],
          [
           "Meprednisone"
          ],
          [
           "Doxibetasol"
          ],
          [
           "Puromycin"
          ],
          [
           "Sildenafil|Sildenafil, Viagra"
          ],
          [
           "Desogestrel"
          ],
          [
           "Hexoprenaline"
          ],
          [
           "Medroxyprogesterone"
          ],
          [
           "Brequinar"
          ],
          [
           "Bentiromide"
          ],
          [
           "Gedocarnil"
          ],
          [
           "Elopiprazole"
          ],
          [
           "Mchr Antagonist 2'|6-Chloro-4-[1-(3-Phenyl-Allyl)-Piperidin-4-Ylamino]-Chromen-2-One"
          ],
          [
           "Eprosartan Mesylate|Eprosartan"
          ],
          [
           "Tampramine"
          ],
          [
           "Flupenthixol|Trans-Flupentixol"
          ],
          [
           "Doxazosin Mesylate|Doxazosin"
          ],
          [
           "Ici-204448|2-[3-[1-[[2-(3,4-Dichlorophenyl)Acetyl]-Methylamino]-2-Pyrrolidin-1-Ylethyl]Phenoxy]Acetic Acid"
          ],
          [
           "Teflutixol"
          ],
          [
           "Piperidinederivatives 2|4-Bromo-N-[4-[4-[3-(Trifluoromethyl)Anilino]Piperidin-1-Yl]Butyl]Benzamide"
          ],
          [
           "Aripiprazole|Aripiprazole, Abilify"
          ],
          [
           "Morphine-6-Glucuronide"
          ],
          [
           "Ticagrelor"
          ],
          [
           "Cinalukast"
          ],
          [
           "163257-88-3|Pfizer Compound 22"
          ],
          [
           "Apadoline"
          ],
          [
           "Blonanserin"
          ],
          [
           "Dibudipine"
          ],
          [
           "Etretinate"
          ],
          [
           "Prednisolone-Acetate|Prednisolone Acetate"
          ],
          [
           "Estramustine"
          ],
          [
           "Xorphanol"
          ],
          [
           "145741-90-8|Pfizer Compound 6"
          ],
          [
           "Ramipril"
          ],
          [
           "Vardenafil|Vardenafil Hydrochloride Hydrate"
          ],
          [
           "Finasteride"
          ],
          [
           "43|3-(4-Oxo-7-Phenylethynyl-4,5-Dihydro-3H-Benzo[B][1,4]Diazepin-2-Yl)-Benzonitrile"
          ],
          [
           "Ezetimibe"
          ],
          [
           "Carmoxirol|Carmoxirole"
          ],
          [
           "Iloperidone"
          ],
          [
           "Tafenoquine"
          ],
          [
           "Ivacaftor"
          ],
          [
           "203321-88-4|Unii-I98T8Bs72C"
          ],
          [
           "Carfentanil"
          ],
          [
           "Drospirenone"
          ],
          [
           "Loteprednol-Etabonate|Loteprednol Etabonate"
          ],
          [
           "Timobesone-Acetate|Timobesone Acetate"
          ],
          [
           "Betamethasone-Acetate|Betamethasone Acetate"
          ],
          [
           "163257-86-1|Pfizer Compound 21|N-[(2-Tert-Butyl-6-Methoxy-1,3-Benzothiazol-5-Yl)Methyl]-2-Phenylpiperidin-3-Amine"
          ],
          [
           "1063-55-4|Butaperazine|Tyrylen|Butaperazine-Maleate"
          ],
          [
           "Dipipanone"
          ],
          [
           "Metoserpate"
          ],
          [
           "Ethynodiol Diacetate"
          ],
          [
           "Methylprednisolone-Acetate|Methylprednisolone Acetate"
          ],
          [
           "Ursodiol"
          ],
          [
           "Apalcillin"
          ],
          [
           "Amrubicin"
          ],
          [
           "Meclizine/Meclozine|Meclizine"
          ],
          [
           "Cefditoren Pivoxil|Cefditorin Pivoxil"
          ],
          [
           "Mindoperone"
          ],
          [
           null
          ],
          [
           "Sb 656104A|6-[2-[2-[4-(4-Chlorophenoxy)Piperidin-1-Yl]Ethyl]Pyrrolidin-1-Yl]Sulfonyl-1H-Indole"
          ],
          [
           "Cloticasone-Propionate|Cloticasone Propionate"
          ],
          [
           "Alpertine"
          ],
          [
           "Levomoramide"
          ],
          [
           "Dextromoramide"
          ],
          [
           "Delapril"
          ],
          [
           "Methylprednisolone-Hemisuccinate|Methylprednisolone Hemisuccinate"
          ],
          [
           "Diprenorphine"
          ],
          [
           "Zatebradine"
          ],
          [
           "Prednival"
          ],
          [
           "Hydrocortisone-Aceponate|Hydrocortisone Aceponate"
          ],
          [
           "Cabergoline"
          ],
          [
           "Pinaverium"
          ],
          [
           "Tauroursodeoxycholic Acid"
          ],
          [
           "Omiloxetine"
          ],
          [
           "Flutroline"
          ],
          [
           "Piroxicillin"
          ],
          [
           "Mozavaptan"
          ],
          [
           "Epirubicin"
          ],
          [
           "Tobicillin"
          ],
          [
           "Fimasartan"
          ],
          [
           "Tamolarizine"
          ],
          [
           "Isosulfan Blue|Isosulfan Blue Inner Salt"
          ],
          [
           "Gliquidone"
          ],
          [
           "Rolitetracycline"
          ],
          [
           "Sedecamycin|Lankacidin A"
          ],
          [
           "Betamethasone-Valerate|Betamethasone Valerate"
          ],
          [
           "Prednisolone-Tebutate"
          ],
          [
           "Calcitriol"
          ],
          [
           "Paricalcitol"
          ],
          [
           "Clopimozide"
          ],
          [
           "Difenoxin"
          ],
          [
           "Adapalene"
          ],
          [
           "Diosmin"
          ],
          [
           "Amcinonide"
          ],
          [
           "Beclometasone-Dipropionate|Beclomethasone Dipropionate"
          ],
          [
           "Betamethasone-Dipropionate|Betamethasone Dipropionate"
          ],
          [
           "Enkephalin|Leucine Enkephalin"
          ],
          [
           "Homprenorphine|2-[5-(Cyclopropylmethyl)-11,15-Dimethoxy-13-Oxa-5-Azahexacyclo[13.2.2.12,8.01,6.02,14.012,20]Icosa-8(20),9,11,18-Tetraen-16-Yl]Butan-2-Ol"
          ],
          [
           "Carpipramine"
          ],
          [
           "Plerixafor"
          ],
          [
           "6-(3-Fluorophenyl)-5-(4-(2-(Piperidin-1-Yl)Ethoxy)Phenoxy)Naphthalen-2-Ol"
          ],
          [
           "Skb-E|4-[2-Phenyl-4-[[(1S)-1-Phenylpropyl]Carbamoyl]Quinolin-3-Yl]Oxybutanoic Acid"
          ],
          [
           "Fluphenazine-Enanthate|Fluphenazine Enanthate"
          ],
          [
           "Zipr-Dopa(P)2"
          ],
          [
           "Cryofluorane|Dichlorotetrafluoroethane"
          ],
          [
           "Cis-Dichloroethylene|Cis-1,2-Dichloroethene|Cis 1,2-Dichloroethene|Cis-1,2-Dichloroethylene"
          ],
          [
           "Cysteamine"
          ],
          [
           "Halothane"
          ],
          [
           "Trichloroethene|Trichloroethylene"
          ],
          [
           "Antrafenine"
          ],
          [
           "3-(6-Hydroxy-1-(4-(2-(Piperidin-1-Yl)Ethoxy)Phenoxy)Naphthalen-2-Yl)Benzonitrile"
          ],
          [
           "6-(4-(Methanesulfonyl)Phenyl)-5-(4-(2-(Piperidin-1-Yl)Ethoxy)Phenoxy)Naphthalen-2-Ol"
          ],
          [
           "Fosinopril|4-Cyclohexyl-1-[2-[(2-Methyl-1-Propanoyloxypropoxy)-(4-Phenylbutyl)Phosphoryl]Acetyl]Pyrrolidine-2-Carboxylic Acid"
          ],
          [
           "Aliskiren"
          ],
          [
           "Benzonatate"
          ],
          [
           "Nintedanib"
          ],
          [
           "Nicocortonide"
          ],
          [
           "187281-31-8|2-(Diphenylmethyl)-N-{[2-Methoxy-5-(Propan-2-Yl)Phenyl]Methyl}-1-Azabicyclo[2.2.2]Octan-3-Amine"
          ],
          [
           "161105-56-2|Pfizer Compound 3|Ezlopitant, Hydroxy-"
          ],
          [
           "Vitamin K|2-Methyl-3-(3,7,11,15-Tetramethylhexadec-2-Enyl)-1,4-Naphthoquinone"
          ],
          [
           "Teniposide"
          ],
          [
           "Piridicillin"
          ],
          [
           "Jnj-5207787|Trans-N-(1-Acetyl-2,3-Dihydro-1H-Indol-6-Yl)-3-(3-Cyanophenyl)-N-(1-(2-Cyclopentylethyl)Piperidin-4-Yl)Acrylamide"
          ],
          [
           "Rocuronium"
          ],
          [
           "Triamcinolone-Furetonide|Triamcinolone Furetonide"
          ],
          [
           "Detorubicin"
          ],
          [
           "Zorubicin|Daunomycin Benzoylhydrazone"
          ],
          [
           "Valrubicin"
          ],
          [
           "Triamcinolone-Benetonide|Triamcinolone Benetonide"
          ],
          [
           "Pancuronium"
          ],
          [
           "Lercanidipine"
          ],
          [
           "Telaprevir"
          ],
          [
           "Vitamin A Palmitate"
          ],
          [
           "Posaconazole"
          ],
          [
           "Lopinavir"
          ],
          [
           "Berythromycin|Erythromycin B"
          ],
          [
           "N-[4-[3-[(Tert-Butylamino)-Oxomethyl]-3,4,4A,5,6,7,8,8A-Octahydro-1H-Isoquinolin-2-Yl]-3-Hydroxy-1-Phenylbutan-2-Yl]-2-[[Oxo(2-Quinolinyl)Methyl]Amino]Butanediamide"
          ],
          [
           "Propene|Propylene"
          ],
          [
           "Erythromycin-Propionate|Erythromycin Propionate"
          ],
          [
           "Erythromycin-Ethylcarbonate|Erythromycin Ethyl Carbonate"
          ],
          [
           "Midecamycin|[(4R,5S,6S,7R,9R,10R,16R)-6-[(2S,3R,4R,5S,6R)-4-(Dimethylamino)-3-Hydroxy-5-[(2S,4R,5S,6S)-4-Hydroxy-4,6-Dimethyl-5-Propanoyloxyoxan-2-Yl]Oxy-6-Methyloxan-2-Yl]Oxy-10-Hydroxy-5-Methoxy-9,16-Dimethyl-2-Oxo-7-(2-Oxoethyl)-1-Oxacyclohexadeca-11,13-Dien-4-Yl] Propanoate"
          ],
          [
           "Diproleandomycin"
          ],
          [
           "Spinosad|Spinosyn D;Spinosyn-D"
          ],
          [
           "Vinblastine"
          ],
          [
           "4-Fluoropaclitaxel"
          ],
          [
           "Paclitaxel"
          ],
          [
           "Nystatin|Mycostatin"
          ],
          [
           "Deanol"
          ],
          [
           "Di-(2-Fluroethene) Ether|S111|(E)-1-Fluoro-2-[(E)-2-Fluoroethenoxy]Ethene"
          ],
          [
           "1,3-Butadiene|Divinyl"
          ],
          [
           "Acetazolamide"
          ],
          [
           "Chlorobutanol"
          ],
          [
           "Sirolimus|Rapamycin (Sirolimus)"
          ],
          [
           "Xylose|D-Xylose"
          ],
          [
           "Penicillamine"
          ],
          [
           "Pentane|N-Pentane"
          ],
          [
           "Methyl T-Butyl Ether|Tert-Butylmethylether|Methyl Tert-Butyl Ether"
          ],
          [
           "Cloretate|Clorethate"
          ],
          [
           "Pyrazinamide"
          ],
          [
           "Carbocloral"
          ],
          [
           "Methazolamide"
          ],
          [
           "Glutamic Acid"
          ],
          [
           "Oxiracetam"
          ],
          [
           "Methylpentynol|3-Methyl-1-Pentyn-3-Ol"
          ],
          [
           "Isosorbide"
          ],
          [
           "Bromisoval"
          ],
          [
           "Vigabatrin"
          ],
          [
           "Aminocaproic Acid"
          ],
          [
           "Glucosamine|D-Glucosamine"
          ],
          [
           "3-Methylpentane"
          ],
          [
           "Nitrofurazone|(E)-2-((5-Nitrofuran-2-Yl)Methylene)Hydrazinecarboxamide"
          ],
          [
           "Amiloride"
          ],
          [
           "1-(3-Fluoropropyl)-2-Nitroimidazole|Moli001288"
          ],
          [
           "Fluoromisonidazole"
          ],
          [
           "Mafenide Acetate|Mafenide"
          ],
          [
           "Telmesteine"
          ],
          [
           "Risedronate|Risedronic Acid"
          ],
          [
           "Ectylurea"
          ],
          [
           "2-Methyl Heptane|2-Methylhexane"
          ],
          [
           "4-Chlorobenzotrifluoride"
          ],
          [
           "Tirapazamine"
          ],
          [
           "Sesamol|3,4-Methylenedioxyphenol"
          ],
          [
           "Gentisic Acid|2,5-Dihydroxybenzoic Acid"
          ],
          [
           "P-Xylene"
          ],
          [
           "Emtricitabine|Ftc; Emtricitabine"
          ],
          [
           "Zaltidine"
          ],
          [
           "Uracil Mustard"
          ],
          [
           "Chloralose"
          ],
          [
           "3-Mosa|2-(Aminomethyl)-6-Methoxyphenol"
          ],
          [
           "Ribavirin"
          ],
          [
           "Azacitidine"
          ],
          [
           "Streptozotocin|Streptozotocin;U 9889"
          ],
          [
           "Octamoxin"
          ],
          [
           "Fenadiazole"
          ],
          [
           "Nitrofurantoin|Hydantoin, 1-(5-Nitro-Furfurylideneamino)-"
          ],
          [
           "Trichlormethiazide"
          ],
          [
           "Mgs0028|Bicyclo(3.1.0)Hexane-2,6-Dicarboxylic Acid, 2-Amino-6-Fluoro-4-Oxo-, (1R,2S,5S,6S)-"
          ],
          [
           "Tegafur"
          ],
          [
           "5-Chloro-4-Methyl-1,4-Dihydroquinazolin-2-Amine"
          ],
          [
           "Timirdine"
          ],
          [
           "Ethyl 4-Aminobenzoate|Benzocaine"
          ],
          [
           "1,2,4-Trimethylbenzene|Pseudocumene"
          ],
          [
           "Phaclofen"
          ],
          [
           "Cp94|1,2-Diethyl-3-Hydroxypyridin-4-One"
          ],
          [
           "Epinephrine"
          ],
          [
           "Minoxidil"
          ],
          [
           "Tetrahydrobiopterin"
          ],
          [
           "Gabapentin"
          ],
          [
           "Capuride"
          ],
          [
           "6|N-(2,6-Dichlorophenyl)-2,5-Dihydro-1H-Imidazol-2-Amine"
          ],
          [
           "Bz3|5-Methoxyindole"
          ],
          [
           "Clodronate|Clodronic Acid"
          ],
          [
           "Urea"
          ],
          [
           "Chloroform|Trichloromethane"
          ],
          [
           "Water"
          ]
         ],
         "hovertemplate": "Label=True<br>t-SNE 1=%{x}<br>t-SNE 2=%{y}<br>names=%{customdata[0]}<extra></extra>",
         "legendgroup": "True",
         "marker": {
          "color": "#EF553B",
          "opacity": 0.5,
          "symbol": "circle"
         },
         "mode": "markers",
         "name": "True",
         "showlegend": true,
         "x": [
          -5.334742,
          47.811302,
          -36.25951,
          42.71228,
          13.277313,
          28.012243,
          75.336975,
          -64.64941,
          -48.152237,
          -38.021862,
          1.3386356,
          -29.098309,
          -23.032,
          39.915325,
          38.497902,
          25.725212,
          16.802107,
          -11.871622,
          65.17118,
          81.443695,
          30.394962,
          73.149315,
          3.8204153,
          -10.532016,
          25.273802,
          -10.585314,
          -15.833076,
          -29.685719,
          27.264536,
          9.736042,
          59.124287,
          -43.81469,
          -5.328228,
          14.657536,
          31.154753,
          75.324036,
          47.12721,
          -66.23004,
          -2.7748961,
          -14.199665,
          51.09419,
          -31.058449,
          -15.918143,
          -24.807121,
          -35.630253,
          -4.359233,
          -8.820526,
          -27.92828,
          -19.794188,
          -25.437307,
          -19.541353,
          23.75264,
          -56.368347,
          -63.58201,
          15.60761,
          12.809523,
          23.114344,
          50.75594,
          4.413337,
          -14.757384,
          7.478992,
          -31.1556,
          53.421448,
          -1.1458215,
          75.17762,
          -24.549189,
          19.403767,
          11.395331,
          39.367924,
          10.3490715,
          39.314777,
          66.09262,
          51.540703,
          28.97401,
          -33.036507,
          19.073101,
          22.458681,
          -12.587213,
          -59.455475,
          11.74124,
          39.979797,
          -3.2771735,
          -49.92901,
          -11.926467,
          50.393368,
          -14.142554,
          75.476135,
          -53.51346,
          65.50483,
          4.978764,
          -1.247896,
          -35.38907,
          -27.130175,
          16.391386,
          -10.220955,
          -43.13117,
          14.64628,
          -29.315668,
          -6.4302244,
          75.396545,
          -60.140366,
          90.11325,
          -13.44052,
          30.30867,
          -58.497906,
          -59.240215,
          -23.611843,
          -11.820963,
          -16.832172,
          -10.7865505,
          -11.292608,
          71.106674,
          -70.148384,
          52.36887,
          49.625675,
          7.6431203,
          36.84444,
          22.09744,
          30.673546,
          15.727876,
          -42.821426,
          37.838646,
          23.430038,
          26.973167,
          -6.7659135,
          -31.440422,
          -12.88612,
          0.61481404,
          42.065887,
          -65.631516,
          -39.263947,
          72.70836,
          -25.656872,
          57.589153,
          -41.14042,
          -45.920223,
          2.3257494,
          63.47546,
          -38.80789,
          -38.117573,
          41.34497,
          49.767616,
          25.477125,
          -39.938526,
          79.95427,
          -72.011894,
          1.7466321,
          5.130654,
          58.805492,
          36.452847,
          -25.030746,
          27.523966,
          -65.10089,
          -31.894989,
          -20.829678,
          1.089208,
          -63.796112,
          -7.0358686,
          -52.749477,
          -0.21159077,
          -52.95041,
          -50.28103,
          4.3548555,
          62.330463,
          45.04908,
          -30.289803,
          61.46311,
          -25.978336,
          -31.366266,
          -15.914385,
          45.917225,
          -43.64262,
          -14.380739,
          -61.201588,
          12.263963,
          5.883081,
          15.239231,
          -34.187603,
          -22.737453,
          27.403362,
          -8.137812,
          -9.3078575,
          -46.91749,
          -1.1514013,
          48.60843,
          69.64192,
          50.250538,
          53.254097,
          -70.5459,
          -68.593315,
          84.252785,
          -31.90295,
          -21.757456,
          -49.683403,
          61.623295,
          19.074583,
          -67.47645,
          34.13421,
          -47.28069,
          -73.26405,
          75.337006,
          10.682488,
          -36.16084,
          79.53551,
          5.3456903,
          62.133133,
          49.382473,
          -19.550291,
          53.23739,
          -56.04273,
          75.37973,
          23.929747,
          11.557498,
          6.473392,
          -59.18654,
          -61.417324,
          16.106277,
          65.5001,
          54.141384,
          38.490578,
          51.540592,
          21.597878,
          13.466347,
          -7.680769,
          56.60405,
          -30.926273,
          20.498468,
          -47.899303,
          -8.0778,
          -56.738186,
          -9.165368,
          -6.90371,
          3.811118,
          7.9870286,
          27.064405,
          -15.76044,
          62.841785,
          -28.438814,
          35.5266,
          26.691343,
          91.454666,
          -12.418415,
          7.6900163,
          79.84078,
          -61.276882,
          -12.886308,
          -1.1591786,
          13.82212,
          -15.497819,
          -20.08572,
          14.112854,
          39.406788,
          18.235344,
          55.62337,
          -7.647985,
          9.3380995,
          -14.597533,
          78.84825,
          50.854507,
          -8.091028,
          -33.997826,
          -8.843728,
          -30.310257,
          50.039875,
          30.465174,
          -22.653526,
          -44.556484,
          -34.217667,
          -11.796642,
          28.625282,
          67.457344,
          5.005225,
          -12.094018,
          56.46214,
          22.458885,
          75.40107,
          54.37023,
          -62.191925,
          -39.84952,
          48.919674,
          -64.95655,
          -37.514282,
          32.2804,
          31.163239,
          66.04981,
          89.27336,
          -10.407008,
          -0.30872813,
          -65.076546,
          19.192375,
          -15.007433,
          2.021082,
          3.8267834,
          42.71374,
          -40.110313,
          50.902584,
          51.110466,
          -33.140156,
          -46.887463,
          -47.538784,
          -2.7413554,
          -25.247738,
          -9.016671,
          76.39837,
          -33.99533,
          -44.821224,
          -8.13747,
          45.94172,
          -52.287544,
          -16.216677,
          -10.532122,
          -49.384636,
          77.28511,
          -15.502034,
          -41.259808,
          -11.8718,
          -51.88692,
          -0.5675732,
          65.95214,
          -46.575226,
          -27.837118,
          15.359632,
          49.296474,
          -10.639829,
          49.714832,
          -65.01412,
          -26.453672,
          -1.511286,
          -41.726826,
          -61.611977,
          36.514843,
          -18.551489,
          53.84498,
          48.26639,
          40.032974,
          26.806067,
          26.186161,
          -11.9921665,
          -45.435406,
          15.182299,
          -18.942537,
          61.805614,
          91.87715,
          3.8099341,
          -55.866486,
          7.702487,
          50.156933,
          51.814327,
          -11.150171,
          -14.899681,
          67.68476,
          -12.094832,
          48.740013,
          -12.277401,
          -10.212325,
          -2.529353,
          -12.457463,
          11.190867,
          -22.532202,
          11.061347,
          42.06621,
          48.737446,
          67.286064,
          40.710537,
          -3.5057745,
          84.41182,
          73.32177,
          8.815642,
          12.386108,
          -19.02901,
          -30.288969,
          -44.31796,
          -67.50744,
          -62.17357,
          -24.393795,
          4.948879,
          2.7504466,
          -10.939249,
          -61.03291,
          68.70413,
          12.449993,
          -1.9138144,
          41.56881,
          5.9511085,
          22.180254,
          69.40042,
          50.615562,
          -35.71616,
          -4.3607707,
          -2.7090657,
          -46.45489,
          -26.478378,
          -17.353436,
          -17.3967,
          36.518745,
          -10.914312,
          -52.172047,
          4.883382,
          22.301224,
          -70.318146,
          17.66181,
          51.86125,
          -12.049896,
          32.07421,
          -18.360563,
          -27.741236,
          -35.45635,
          -13.953982,
          22.392145,
          11.327928,
          -22.240803,
          34.936676,
          22.03126,
          84.35385,
          -21.561357,
          -13.643409,
          -14.949732,
          -54.685295,
          67.73431,
          -52.488056,
          49.45026,
          -46.968582,
          -52.66366,
          -32.081993,
          -58.035015,
          -70.44494,
          -4.1818805,
          86.17245,
          52.871494,
          -13.927675,
          -15.317587,
          5.7205315,
          39.376957,
          -50.499165,
          73.31011,
          -34.924004,
          -72.85195,
          54.046467,
          -16.625092,
          24.612705,
          -4.3908744,
          85.18724,
          -48.8122,
          26.05371,
          12.128205,
          59.766064,
          86.44501,
          -32.14014,
          86.99649,
          50.04211,
          18.630848,
          16.10331,
          27.942692,
          -40.144802,
          -31.996988,
          75.39246,
          -30.463474,
          25.30458,
          -39.144627,
          -52.9255,
          50.490402,
          -7.890702,
          -3.3655753,
          -41.087933,
          66.841156,
          -46.447052,
          -42.815678,
          9.991027,
          -51.771954,
          81.83483,
          32.069332,
          -32.95805,
          45.139946,
          19.363262,
          -51.50497,
          28.388456,
          15.314492,
          86.14242,
          -15.655834,
          -4.8681173,
          27.430958,
          25.417894,
          -64.65588,
          -11.465911,
          10.36694,
          -9.699445,
          51.1899,
          -61.348766,
          -29.367077,
          -57.293552,
          -33.673615,
          -35.76486,
          -1.871085,
          -37.15121,
          -52.749912,
          -11.744493,
          -39.791515,
          -40.388218,
          0.19708489,
          80.35082,
          35.92832,
          -64.962685,
          67.65964,
          -25.024775,
          11.9646225,
          -3.4048338,
          -10.8586445,
          -3.6090794,
          52.011044,
          -64.02424,
          12.160454,
          -59.52142,
          -39.606037,
          36.11207,
          -36.51093,
          29.202875,
          -52.456768,
          -12.292567,
          -67.55533,
          66.40627,
          -14.407969,
          16.698835,
          11.317877,
          50.438385,
          -6.7682714,
          -13.361411,
          88.85015,
          2.7500348,
          -0.018567586,
          21.16093,
          -6.744341,
          -60.638676,
          62.6764,
          -33.88993,
          -13.785441,
          -33.27139,
          -12.146667,
          -59.78322,
          5.085238,
          -0.2117932,
          53.822987,
          58.506752,
          -2.3083928,
          67.65802,
          -28.311842,
          62.525467,
          -0.3807397,
          -7.0315723,
          -29.378208,
          -29.899101,
          32.284126,
          -60.479347,
          40.039165,
          -54.40792,
          -38.106113,
          -28.957733,
          67.064865,
          -67.56336,
          45.913002,
          -24.74705,
          -34.078762,
          86.13559,
          -37.758175,
          36.008305,
          41.807934,
          23.382532,
          10.848084,
          16.407864,
          -25.129606,
          -57.929222,
          -51.163067,
          -42.49205,
          -28.066841,
          19.936357,
          36.046703,
          -1.1523591,
          -11.901497,
          -34.16285,
          11.486784,
          16.028963,
          38.534756,
          -21.801514,
          27.059565,
          -37.531155,
          4.489273,
          -14.541714,
          -19.473715,
          -9.784339,
          -9.000136,
          -48.127274,
          72.25022,
          42.273327,
          81.14348,
          26.139908,
          3.1310735,
          -29.368322,
          -57.77925,
          -11.943414,
          -57.791794,
          -6.056595,
          -36.87049,
          -57.80513,
          -22.611538,
          -43.26832,
          47.770103,
          69.38403,
          -63.28394,
          15.198346,
          -19.712528,
          26.101227,
          -15.242968,
          36.58684,
          -8.729625,
          69.64192,
          -4.9495087,
          36.89114,
          -25.686548,
          -18.942127,
          -15.051204,
          60.696533,
          5.942163,
          -24.388945,
          0.6147951,
          -35.859768,
          -32.14162,
          -8.199812,
          -52.186493,
          40.056892,
          49.229393,
          -35.205875,
          52.32438,
          -15.590284,
          8.258254,
          40.34991,
          -64.9232,
          27.811293,
          -16.633272,
          81.83486,
          -18.06968,
          36.45286,
          74.50811,
          -23.417135,
          65.162605,
          12.12809,
          44.136723
         ],
         "xaxis": "x",
         "y": [
          7.1491103,
          24.535904,
          32.14169,
          -10.461693,
          18.889208,
          -4.0178504,
          27.318184,
          29.295174,
          -11.216151,
          18.72088,
          -29.763367,
          -42.04324,
          -14.512295,
          -12.359033,
          12.8580675,
          -0.08941267,
          9.300428,
          30.854807,
          -5.727038,
          21.162361,
          -20.915392,
          18.278585,
          -4.157059,
          22.408827,
          22.820778,
          29.467388,
          -8.033758,
          -15.241574,
          -21.772184,
          -9.597082,
          17.394653,
          -32.478413,
          -15.849312,
          -16.354239,
          -21.962828,
          17.059933,
          22.820816,
          19.868908,
          32.846992,
          -39.33523,
          17.349564,
          -21.327887,
          -18.879951,
          13.794816,
          -13.259809,
          29.442614,
          10.2312565,
          -44.76681,
          15.942812,
          11.193848,
          -38.39916,
          -2.4819267,
          37.715282,
          0.34974983,
          -15.469162,
          -37.156322,
          -33.36513,
          19.45591,
          26.773144,
          -34.577076,
          2.6692312,
          -5.2944674,
          -4.3206506,
          -31.321106,
          -1.8491955,
          13.740071,
          15.175785,
          -39.416267,
          22.825668,
          -35.65659,
          20.382935,
          19.175703,
          18.49685,
          5.79174,
          -2.6554544,
          8.709785,
          11.398795,
          -18.510326,
          38.41374,
          -25.16395,
          8.807698,
          -23.45199,
          17.533468,
          21.898811,
          -14.550115,
          -33.430923,
          -0.45132884,
          -1.2658169,
          -0.27457097,
          -22.212109,
          28.824474,
          -21.100412,
          -26.999033,
          -15.698701,
          -36.45146,
          -12.813705,
          -34.336475,
          15.377146,
          31.154854,
          27.4933,
          7.3391137,
          17.305292,
          31.74735,
          -12.93051,
          26.317385,
          31.584253,
          -25.738358,
          4.458354,
          -18.074308,
          10.9457855,
          -30.81344,
          -1.040597,
          33.211334,
          16.836592,
          17.44318,
          -33.001854,
          -6.5671,
          14.767385,
          -23.427956,
          -15.398975,
          -38.39553,
          -22.502905,
          17.034487,
          -22.591759,
          -22.615404,
          -14.465112,
          -29.664629,
          -33.72354,
          -4.88134,
          11.937071,
          -32.746033,
          -2.2377865,
          -15.971371,
          -7.9235373,
          30.036747,
          27.50269,
          26.094763,
          15.282483,
          -37.834595,
          14.237595,
          -5.068814,
          20.080942,
          -4.125583,
          -15.780727,
          16.60167,
          31.937452,
          -18.973125,
          28.398512,
          -5.990681,
          18.824148,
          -11.379007,
          -22.597765,
          3.5000684,
          32.549877,
          34.77344,
          -5.1024003,
          -5.2050447,
          49.677814,
          25.564835,
          -4.7928367,
          -11.673866,
          -1.2749454,
          -3.9634774,
          16.504652,
          -9.180892,
          31.15862,
          24.429728,
          -27.16954,
          8.991182,
          -18.877472,
          7.357556,
          12.309688,
          -9.647148,
          13.587564,
          12.294579,
          -24.460543,
          -36.6969,
          -10.103855,
          33.38623,
          -21.416733,
          5.749434,
          9.941245,
          -10.816344,
          -31.332275,
          -2.6712189,
          -0.32872397,
          17.103798,
          18.364164,
          30.407526,
          31.638788,
          13.545125,
          -13.778867,
          -15.992003,
          4.8068385,
          23.321724,
          8.707072,
          25.44888,
          5.0867505,
          -0.71004915,
          32.8986,
          27.314447,
          -37.15565,
          -32.76013,
          26.619658,
          15.048662,
          19.165417,
          -2.2112067,
          34.100384,
          -9.170831,
          8.29685,
          26.804607,
          -8.936043,
          -11.905488,
          14.805951,
          11.972631,
          6.718088,
          3.6431248,
          -0.2759645,
          -10.832028,
          21.256636,
          18.49688,
          -24.67788,
          18.325346,
          -19.499083,
          -0.54581946,
          -14.721284,
          -31.68513,
          -17.517632,
          -19.656666,
          24.420887,
          30.73886,
          -40.32505,
          -34.870144,
          -30.540571,
          12.924335,
          -19.100542,
          16.466837,
          -18.451588,
          7.2287173,
          13.010673,
          17.123596,
          29.625034,
          -44.062813,
          16.043938,
          -4.2152557,
          -29.66455,
          -31.345547,
          16.798107,
          -7.933816,
          -47.460197,
          -43.133812,
          -7.38905,
          -39.475357,
          -9.476164,
          -30.31115,
          29.316036,
          29.61082,
          26.849178,
          -14.160786,
          20.153248,
          -21.207586,
          -34.111362,
          -20.040413,
          17.858635,
          -24.29657,
          -28.813442,
          26.718267,
          -35.15289,
          19.199514,
          15.899465,
          -6.443631,
          -3.9349122,
          3.673019,
          21.102743,
          11.399449,
          0.63469106,
          17.990997,
          5.1699114,
          23.75981,
          -3.575109,
          -2.9092894,
          33.35045,
          -7.083478,
          -21.489166,
          -4.600344,
          20.992119,
          10.238718,
          -38.465157,
          10.578522,
          -27.899078,
          -43.17225,
          13.604004,
          -4.146694,
          -10.49803,
          -2.2166765,
          16.725107,
          17.446648,
          34.985596,
          26.956701,
          -1.1350884,
          4.4759507,
          -6.92248,
          -15.01719,
          -0.37948138,
          -35.760742,
          28.207436,
          -39.695114,
          7.4127154,
          -8.630949,
          -32.893333,
          22.401548,
          29.14248,
          18.781946,
          -19.535042,
          -16.852312,
          4.229429,
          -10.053738,
          32.13096,
          -2.1050117,
          3.5652387,
          -19.74478,
          -33.871704,
          20.397898,
          -15.131658,
          15.597575,
          -3.091307,
          -40.154526,
          2.9063475,
          1.3217868,
          -1.4688479,
          12.753342,
          12.269416,
          17.747879,
          19.435577,
          -19.456758,
          -22.360512,
          -23.876902,
          -31.758604,
          25.19229,
          -40.708218,
          -23.225122,
          24.205738,
          16.504097,
          -34.869637,
          36.887814,
          -37.141937,
          5.2346234,
          -14.114968,
          -46.63027,
          -43.22584,
          -1.0614008,
          41.881313,
          3.044415,
          31.637655,
          10.892117,
          2.8613415,
          -15.075004,
          3.8350177,
          -22.879492,
          -25.176374,
          -4.8809924,
          -14.844265,
          22.355133,
          -8.191463,
          -23.53551,
          16.153406,
          18.381367,
          -43.0269,
          -41.344994,
          -13.608836,
          31.159338,
          0.8509549,
          19.290554,
          -7.1599417,
          -43.722366,
          -32.058018,
          -4.3855095,
          -31.715559,
          -2.844262,
          15.111703,
          -27.564352,
          16.208544,
          6.9156594,
          -41.023216,
          23.33793,
          1.2837588,
          -2.04656,
          -3.4321682,
          29.441969,
          11.294819,
          25.126535,
          -25.484001,
          -35.277863,
          12.743294,
          12.759242,
          -33.67495,
          0.6360351,
          -22.326262,
          18.090445,
          29.562773,
          20.018736,
          18.445961,
          -45.6132,
          10.721626,
          14.931008,
          -8.003052,
          -21.010096,
          -28.270458,
          7.316951,
          18.961016,
          34.175568,
          15.215797,
          -38.414936,
          24.691734,
          -6.0252805,
          -42.730698,
          -27.647148,
          -7.6249733,
          14.84637,
          15.250976,
          2.6456523,
          -10.7919855,
          15.332875,
          0.2861477,
          37.852726,
          29.756416,
          34.518604,
          21.659452,
          18.11495,
          29.379597,
          31.650671,
          -43.897484,
          7.3603992,
          -15.323408,
          16.26423,
          -33.619408,
          32.658966,
          -10.747595,
          -44.202484,
          22.949575,
          46.7298,
          18.477936,
          -15.9819,
          14.5137415,
          -29.685408,
          -1.2677773,
          21.087963,
          -30.903671,
          16.931814,
          17.856747,
          -35.315815,
          3.645418,
          -26.88024,
          -36.533115,
          7.989646,
          27.498842,
          -39.763687,
          22.802975,
          -13.030568,
          -8.291019,
          18.941093,
          10.774618,
          -38.54718,
          30.045565,
          14.984812,
          25.67234,
          21.737265,
          -37.211285,
          -8.562499,
          20.556389,
          -5.3897624,
          -21.65041,
          1.1890981,
          -18.711868,
          4.7631593,
          14.415443,
          -39.649292,
          21.549963,
          -7.999237,
          47.2331,
          5.146521,
          8.307988,
          29.287256,
          10.047402,
          -40.091434,
          29.292456,
          17.318947,
          19.770758,
          -11.245433,
          3.1475382,
          -25.441147,
          -12.845582,
          -22.661768,
          3.472947,
          25.56456,
          30.628092,
          -9.139658,
          -36.159306,
          -45.03044,
          25.623388,
          -21.804224,
          4.3703575,
          0.15254603,
          32.639294,
          -11.612417,
          -44.21518,
          -46.668926,
          -44.774822,
          18.98113,
          -3.84354,
          -39.076614,
          37.442326,
          17.704464,
          12.248798,
          -8.651653,
          -9.284639,
          -18.97307,
          29.667498,
          20.98338,
          20.65079,
          -9.628879,
          3.3034048,
          -12.074253,
          4.7913046,
          -22.612106,
          30.081676,
          16.652988,
          -4.389175,
          28.249702,
          -27.921314,
          -42.33177,
          24.800299,
          15.029261,
          -20.291279,
          30.707512,
          -37.426243,
          -32.208035,
          -5.589156,
          26.992233,
          6.539992,
          -6.693687,
          19.667175,
          29.009014,
          0.15990125,
          -18.42989,
          22.81781,
          7.712196,
          -17.092579,
          35.41512,
          -32.271595,
          -7.082523,
          37.58908,
          17.8952,
          7.867621,
          14.233624,
          -20.184649,
          14.729704,
          29.350384,
          7.3651686,
          33.76045,
          -36.31973,
          16.595665,
          32.271866,
          -24.242987,
          7.031827,
          3.106398,
          20.293636,
          -17.690666,
          35.72406,
          0.29748806,
          -1.9919322,
          -5.738338,
          34.112988,
          -38.339638,
          -24.290594,
          10.316777,
          4.603978,
          -36.057293,
          19.641733,
          -15.845456,
          -4.3717194,
          -14.304428,
          -33.807655,
          -38.319862,
          -31.038942,
          29.61183,
          -14.511148,
          10.4732275,
          -36.006046,
          24.295183,
          19.848736,
          5.811282,
          18.215975,
          7.5873036,
          27.98433,
          15.474697,
          0.9269871,
          31.655804,
          0.84395677,
          31.874302,
          -16.068811,
          0.83917785,
          32.80875,
          -11.155712,
          -15.636773,
          3.5582004,
          25.132305,
          -26.348457,
          -18.666924,
          12.456166,
          -27.855528,
          -18.233017,
          -16.33516,
          -0.32872397,
          47.267483,
          8.529611,
          -25.436392,
          -23.228064,
          -36.662125,
          25.4908,
          -41.666584,
          26.567709,
          -33.723526,
          -37.75794,
          25.857681,
          -4.1020164,
          0.61226785,
          -19.583384,
          -2.8516502,
          3.7580311,
          17.206474,
          -42.614292,
          -5.444698,
          -1.5103121,
          17.777536,
          -3.50799,
          -44.226227,
          20.556423,
          32.834858,
          18.82418,
          27.421331,
          -14.813353,
          20.372593,
          -29.685673,
          -1.5180562
         ],
         "yaxis": "y",
         "type": "scattergl"
        }
       ],
       "layout": {
        "template": {
         "data": {
          "histogram2dcontour": [
           {
            "type": "histogram2dcontour",
            "colorbar": {
             "outlinewidth": 0,
             "ticks": ""
            },
            "colorscale": [
             [
              0.0,
              "#0d0887"
             ],
             [
              0.1111111111111111,
              "#46039f"
             ],
             [
              0.2222222222222222,
              "#7201a8"
             ],
             [
              0.3333333333333333,
              "#9c179e"
             ],
             [
              0.4444444444444444,
              "#bd3786"
             ],
             [
              0.5555555555555556,
              "#d8576b"
             ],
             [
              0.6666666666666666,
              "#ed7953"
             ],
             [
              0.7777777777777778,
              "#fb9f3a"
             ],
             [
              0.8888888888888888,
              "#fdca26"
             ],
             [
              1.0,
              "#f0f921"
             ]
            ]
           }
          ],
          "choropleth": [
           {
            "type": "choropleth",
            "colorbar": {
             "outlinewidth": 0,
             "ticks": ""
            }
           }
          ],
          "histogram2d": [
           {
            "type": "histogram2d",
            "colorbar": {
             "outlinewidth": 0,
             "ticks": ""
            },
            "colorscale": [
             [
              0.0,
              "#0d0887"
             ],
             [
              0.1111111111111111,
              "#46039f"
             ],
             [
              0.2222222222222222,
              "#7201a8"
             ],
             [
              0.3333333333333333,
              "#9c179e"
             ],
             [
              0.4444444444444444,
              "#bd3786"
             ],
             [
              0.5555555555555556,
              "#d8576b"
             ],
             [
              0.6666666666666666,
              "#ed7953"
             ],
             [
              0.7777777777777778,
              "#fb9f3a"
             ],
             [
              0.8888888888888888,
              "#fdca26"
             ],
             [
              1.0,
              "#f0f921"
             ]
            ]
           }
          ],
          "heatmap": [
           {
            "type": "heatmap",
            "colorbar": {
             "outlinewidth": 0,
             "ticks": ""
            },
            "colorscale": [
             [
              0.0,
              "#0d0887"
             ],
             [
              0.1111111111111111,
              "#46039f"
             ],
             [
              0.2222222222222222,
              "#7201a8"
             ],
             [
              0.3333333333333333,
              "#9c179e"
             ],
             [
              0.4444444444444444,
              "#bd3786"
             ],
             [
              0.5555555555555556,
              "#d8576b"
             ],
             [
              0.6666666666666666,
              "#ed7953"
             ],
             [
              0.7777777777777778,
              "#fb9f3a"
             ],
             [
              0.8888888888888888,
              "#fdca26"
             ],
             [
              1.0,
              "#f0f921"
             ]
            ]
           }
          ],
          "heatmapgl": [
           {
            "type": "heatmapgl",
            "colorbar": {
             "outlinewidth": 0,
             "ticks": ""
            },
            "colorscale": [
             [
              0.0,
              "#0d0887"
             ],
             [
              0.1111111111111111,
              "#46039f"
             ],
             [
              0.2222222222222222,
              "#7201a8"
             ],
             [
              0.3333333333333333,
              "#9c179e"
             ],
             [
              0.4444444444444444,
              "#bd3786"
             ],
             [
              0.5555555555555556,
              "#d8576b"
             ],
             [
              0.6666666666666666,
              "#ed7953"
             ],
             [
              0.7777777777777778,
              "#fb9f3a"
             ],
             [
              0.8888888888888888,
              "#fdca26"
             ],
             [
              1.0,
              "#f0f921"
             ]
            ]
           }
          ],
          "contourcarpet": [
           {
            "type": "contourcarpet",
            "colorbar": {
             "outlinewidth": 0,
             "ticks": ""
            }
           }
          ],
          "contour": [
           {
            "type": "contour",
            "colorbar": {
             "outlinewidth": 0,
             "ticks": ""
            },
            "colorscale": [
             [
              0.0,
              "#0d0887"
             ],
             [
              0.1111111111111111,
              "#46039f"
             ],
             [
              0.2222222222222222,
              "#7201a8"
             ],
             [
              0.3333333333333333,
              "#9c179e"
             ],
             [
              0.4444444444444444,
              "#bd3786"
             ],
             [
              0.5555555555555556,
              "#d8576b"
             ],
             [
              0.6666666666666666,
              "#ed7953"
             ],
             [
              0.7777777777777778,
              "#fb9f3a"
             ],
             [
              0.8888888888888888,
              "#fdca26"
             ],
             [
              1.0,
              "#f0f921"
             ]
            ]
           }
          ],
          "surface": [
           {
            "type": "surface",
            "colorbar": {
             "outlinewidth": 0,
             "ticks": ""
            },
            "colorscale": [
             [
              0.0,
              "#0d0887"
             ],
             [
              0.1111111111111111,
              "#46039f"
             ],
             [
              0.2222222222222222,
              "#7201a8"
             ],
             [
              0.3333333333333333,
              "#9c179e"
             ],
             [
              0.4444444444444444,
              "#bd3786"
             ],
             [
              0.5555555555555556,
              "#d8576b"
             ],
             [
              0.6666666666666666,
              "#ed7953"
             ],
             [
              0.7777777777777778,
              "#fb9f3a"
             ],
             [
              0.8888888888888888,
              "#fdca26"
             ],
             [
              1.0,
              "#f0f921"
             ]
            ]
           }
          ],
          "mesh3d": [
           {
            "type": "mesh3d",
            "colorbar": {
             "outlinewidth": 0,
             "ticks": ""
            }
           }
          ],
          "scatter": [
           {
            "marker": {
             "line": {
              "color": "#283442"
             }
            },
            "type": "scatter"
           }
          ],
          "parcoords": [
           {
            "type": "parcoords",
            "line": {
             "colorbar": {
              "outlinewidth": 0,
              "ticks": ""
             }
            }
           }
          ],
          "scatterpolargl": [
           {
            "type": "scatterpolargl",
            "marker": {
             "colorbar": {
              "outlinewidth": 0,
              "ticks": ""
             }
            }
           }
          ],
          "bar": [
           {
            "error_x": {
             "color": "#f2f5fa"
            },
            "error_y": {
             "color": "#f2f5fa"
            },
            "marker": {
             "line": {
              "color": "rgb(17,17,17)",
              "width": 0.5
             },
             "pattern": {
              "fillmode": "overlay",
              "size": 10,
              "solidity": 0.2
             }
            },
            "type": "bar"
           }
          ],
          "scattergeo": [
           {
            "type": "scattergeo",
            "marker": {
             "colorbar": {
              "outlinewidth": 0,
              "ticks": ""
             }
            }
           }
          ],
          "scatterpolar": [
           {
            "type": "scatterpolar",
            "marker": {
             "colorbar": {
              "outlinewidth": 0,
              "ticks": ""
             }
            }
           }
          ],
          "histogram": [
           {
            "marker": {
             "pattern": {
              "fillmode": "overlay",
              "size": 10,
              "solidity": 0.2
             }
            },
            "type": "histogram"
           }
          ],
          "scattergl": [
           {
            "marker": {
             "line": {
              "color": "#283442"
             }
            },
            "type": "scattergl"
           }
          ],
          "scatter3d": [
           {
            "type": "scatter3d",
            "line": {
             "colorbar": {
              "outlinewidth": 0,
              "ticks": ""
             }
            },
            "marker": {
             "colorbar": {
              "outlinewidth": 0,
              "ticks": ""
             }
            }
           }
          ],
          "scattermapbox": [
           {
            "type": "scattermapbox",
            "marker": {
             "colorbar": {
              "outlinewidth": 0,
              "ticks": ""
             }
            }
           }
          ],
          "scatterternary": [
           {
            "type": "scatterternary",
            "marker": {
             "colorbar": {
              "outlinewidth": 0,
              "ticks": ""
             }
            }
           }
          ],
          "scattercarpet": [
           {
            "type": "scattercarpet",
            "marker": {
             "colorbar": {
              "outlinewidth": 0,
              "ticks": ""
             }
            }
           }
          ],
          "carpet": [
           {
            "aaxis": {
             "endlinecolor": "#A2B1C6",
             "gridcolor": "#506784",
             "linecolor": "#506784",
             "minorgridcolor": "#506784",
             "startlinecolor": "#A2B1C6"
            },
            "baxis": {
             "endlinecolor": "#A2B1C6",
             "gridcolor": "#506784",
             "linecolor": "#506784",
             "minorgridcolor": "#506784",
             "startlinecolor": "#A2B1C6"
            },
            "type": "carpet"
           }
          ],
          "table": [
           {
            "cells": {
             "fill": {
              "color": "#506784"
             },
             "line": {
              "color": "rgb(17,17,17)"
             }
            },
            "header": {
             "fill": {
              "color": "#2a3f5f"
             },
             "line": {
              "color": "rgb(17,17,17)"
             }
            },
            "type": "table"
           }
          ],
          "barpolar": [
           {
            "marker": {
             "line": {
              "color": "rgb(17,17,17)",
              "width": 0.5
             },
             "pattern": {
              "fillmode": "overlay",
              "size": 10,
              "solidity": 0.2
             }
            },
            "type": "barpolar"
           }
          ],
          "pie": [
           {
            "automargin": true,
            "type": "pie"
           }
          ]
         },
         "layout": {
          "autotypenumbers": "strict",
          "colorway": [
           "#636efa",
           "#EF553B",
           "#00cc96",
           "#ab63fa",
           "#FFA15A",
           "#19d3f3",
           "#FF6692",
           "#B6E880",
           "#FF97FF",
           "#FECB52"
          ],
          "font": {
           "color": "#f2f5fa"
          },
          "hovermode": "closest",
          "hoverlabel": {
           "align": "left"
          },
          "paper_bgcolor": "rgb(17,17,17)",
          "plot_bgcolor": "rgb(17,17,17)",
          "polar": {
           "bgcolor": "rgb(17,17,17)",
           "angularaxis": {
            "gridcolor": "#506784",
            "linecolor": "#506784",
            "ticks": ""
           },
           "radialaxis": {
            "gridcolor": "#506784",
            "linecolor": "#506784",
            "ticks": ""
           }
          },
          "ternary": {
           "bgcolor": "rgb(17,17,17)",
           "aaxis": {
            "gridcolor": "#506784",
            "linecolor": "#506784",
            "ticks": ""
           },
           "baxis": {
            "gridcolor": "#506784",
            "linecolor": "#506784",
            "ticks": ""
           },
           "caxis": {
            "gridcolor": "#506784",
            "linecolor": "#506784",
            "ticks": ""
           }
          },
          "coloraxis": {
           "colorbar": {
            "outlinewidth": 0,
            "ticks": ""
           }
          },
          "colorscale": {
           "sequential": [
            [
             0.0,
             "#0d0887"
            ],
            [
             0.1111111111111111,
             "#46039f"
            ],
            [
             0.2222222222222222,
             "#7201a8"
            ],
            [
             0.3333333333333333,
             "#9c179e"
            ],
            [
             0.4444444444444444,
             "#bd3786"
            ],
            [
             0.5555555555555556,
             "#d8576b"
            ],
            [
             0.6666666666666666,
             "#ed7953"
            ],
            [
             0.7777777777777778,
             "#fb9f3a"
            ],
            [
             0.8888888888888888,
             "#fdca26"
            ],
            [
             1.0,
             "#f0f921"
            ]
           ],
           "sequentialminus": [
            [
             0.0,
             "#0d0887"
            ],
            [
             0.1111111111111111,
             "#46039f"
            ],
            [
             0.2222222222222222,
             "#7201a8"
            ],
            [
             0.3333333333333333,
             "#9c179e"
            ],
            [
             0.4444444444444444,
             "#bd3786"
            ],
            [
             0.5555555555555556,
             "#d8576b"
            ],
            [
             0.6666666666666666,
             "#ed7953"
            ],
            [
             0.7777777777777778,
             "#fb9f3a"
            ],
            [
             0.8888888888888888,
             "#fdca26"
            ],
            [
             1.0,
             "#f0f921"
            ]
           ],
           "diverging": [
            [
             0,
             "#8e0152"
            ],
            [
             0.1,
             "#c51b7d"
            ],
            [
             0.2,
             "#de77ae"
            ],
            [
             0.3,
             "#f1b6da"
            ],
            [
             0.4,
             "#fde0ef"
            ],
            [
             0.5,
             "#f7f7f7"
            ],
            [
             0.6,
             "#e6f5d0"
            ],
            [
             0.7,
             "#b8e186"
            ],
            [
             0.8,
             "#7fbc41"
            ],
            [
             0.9,
             "#4d9221"
            ],
            [
             1,
             "#276419"
            ]
           ]
          },
          "xaxis": {
           "gridcolor": "#283442",
           "linecolor": "#506784",
           "ticks": "",
           "title": {
            "standoff": 15
           },
           "zerolinecolor": "#283442",
           "automargin": true,
           "zerolinewidth": 2
          },
          "yaxis": {
           "gridcolor": "#283442",
           "linecolor": "#506784",
           "ticks": "",
           "title": {
            "standoff": 15
           },
           "zerolinecolor": "#283442",
           "automargin": true,
           "zerolinewidth": 2
          },
          "scene": {
           "xaxis": {
            "backgroundcolor": "rgb(17,17,17)",
            "gridcolor": "#506784",
            "linecolor": "#506784",
            "showbackground": true,
            "ticks": "",
            "zerolinecolor": "#C8D4E3",
            "gridwidth": 2
           },
           "yaxis": {
            "backgroundcolor": "rgb(17,17,17)",
            "gridcolor": "#506784",
            "linecolor": "#506784",
            "showbackground": true,
            "ticks": "",
            "zerolinecolor": "#C8D4E3",
            "gridwidth": 2
           },
           "zaxis": {
            "backgroundcolor": "rgb(17,17,17)",
            "gridcolor": "#506784",
            "linecolor": "#506784",
            "showbackground": true,
            "ticks": "",
            "zerolinecolor": "#C8D4E3",
            "gridwidth": 2
           }
          },
          "shapedefaults": {
           "line": {
            "color": "#f2f5fa"
           }
          },
          "annotationdefaults": {
           "arrowcolor": "#f2f5fa",
           "arrowhead": 0,
           "arrowwidth": 1
          },
          "geo": {
           "bgcolor": "rgb(17,17,17)",
           "landcolor": "rgb(17,17,17)",
           "subunitcolor": "#506784",
           "showland": true,
           "showlakes": true,
           "lakecolor": "rgb(17,17,17)"
          },
          "title": {
           "x": 0.05
          },
          "updatemenudefaults": {
           "bgcolor": "#506784",
           "borderwidth": 0
          },
          "sliderdefaults": {
           "bgcolor": "#C8D4E3",
           "borderwidth": 1,
           "bordercolor": "rgb(17,17,17)",
           "tickwidth": 0
          },
          "mapbox": {
           "style": "dark"
          }
         }
        },
        "xaxis": {
         "anchor": "y",
         "domain": [
          0.0,
          1.0
         ],
         "title": {
          "text": "t-SNE 1"
         }
        },
        "yaxis": {
         "anchor": "x",
         "domain": [
          0.0,
          1.0
         ],
         "title": {
          "text": "t-SNE 2"
         }
        },
        "legend": {
         "title": {
          "text": "Label"
         },
         "tracegroupgap": 0
        },
        "margin": {
         "t": 60
        },
        "title": {
         "text": "Interactive t-SNE Projection of Molecular Descriptors"
        },
        "width": 1000,
        "height": 800
       },
       "config": {
        "plotlyServerURL": "https://plot.ly"
       }
      },
      "text/html": [
       "<div>                            <div id=\"34876f2f-8727-49d1-9986-b88424b6cddc\" class=\"plotly-graph-div\" style=\"height:800px; width:1000px;\"></div>            <script type=\"text/javascript\">                require([\"plotly\"], function(Plotly) {                    window.PLOTLYENV=window.PLOTLYENV || {};                                    if (document.getElementById(\"34876f2f-8727-49d1-9986-b88424b6cddc\")) {                    Plotly.newPlot(                        \"34876f2f-8727-49d1-9986-b88424b6cddc\",                        [{\"customdata\":[[\"Argon\"],[\"Brofoxine\"],[\"Fenmetozole\"],[\"Chlorthenoxazine\"],[\"Edaravone\"],[\"Paraxazone\"],[\"Caroxazone\"],[\"Guanidinothiazol Analogue 17 Ac1Lbibi -- Pubmed|Benzene-1,2-Diol, 4-(2-Guanidinothiazol-4-Yl)-\"],[\"Skb19|Bbcpd15|2507-81-5|N-(4-Phenylthiazol-2-Yl)-Guanidine|B-052|16|10|1-(4-Phenyl-1,3-Thiazol-2-Yl)Guanidine\"],[\"Brallobarbital\"],[\"210821-63-9|Chebi: 568657|Org12962|B-103, Org12962|Org-12962|Org12692|1-(6-Chloro-5-(Trifluoromethyl)Pyridin-2-Yl)Piperazine\"],[\"Clofarabine\"],[\"Clofibric Acid\"],[\"Mecoprop\"],[\"Propyliodone\"],[\"Skb20|Bbcpd57|72801-60-6|Chebi: 338063|B-053|17|11|1-(4-(3-Aminophenyl)Thiazol-2-Yl)Guanidine\"],[\"Stepronin\"],[\"4201-22-3|Tz-13|Tolonidine\"],[\"Quinethazone\"],[\"Cladribine\"],[\"Beclamide\"],[\"Baclofen\"],[\"Chlorphenesin-Carbamate|Chlorphenesin Carbamate\"],[\"1-Methyl-5-(3-Pyridinyl)-2-Pyrrolidinone\"],[\"Cotinine|486-56-6\"],[\"Allobarbital\"],[\"1-[5-(Hydroxymethyl)-2,5-Dihydrofuran-2-Yl]-5-Methylpyrimidine-2,4-Dione\"],[\"Stavudine\"],[\"Ritipenem\"],[\"Carbazochrome\"],[\"Didanosine|69655-05-6\"],[\"9-[(2S,5R)-5-(Hydroxymethyl)Oxolan-2-Yl]-3H-Purin-6-One\"],[\"Tazobactam\"],[\"1-(3-Chlorophenyl)Piperazine\"],[\"Chlorpropamide\"],[\"Alovudine Ok|3'-Fluorothymidine\"],[\"Clevudine|2'-Fluorothymidine\"],[\"Debrisoquin|Debrisoquine\"],[\"Nifurtimox|(Z)-N-(3-Methyl-1,1-Dioxo-1,4-Thiazinan-4-Yl)-1-(5-Nitrofuran-2-Yl)Methanimine\"],[\"1-[2,3-Dideoxy-3-(Triaza-1,2-Dien-2-Ium-1-Yl)Pentofuranosyl]-4-Hydroxy-5-Methylpyrimidin-2(1H)-One\"],[\"1-[(2R,4S,5S)-4-Azido-5-(Hydroxymethyl)Oxolan-2-Yl]-5-Methyl-Pyrimidine-2,4-Dione\"],[\"Zidovudine|30516-87-1\"],[\"1-[(2S,4S,5R)-4-Azido-5-(Hydroxymethyl)Oxolan-2-Yl]-5-Methylpyrimidine-2,4-Dione\"],[\"Phenprobamate\"],[\"Buramate\"],[\"T-Butylbenzene|Tert-Butylbenzene\"],[\"Nicotine|54-11-5|Nicotrol\"],[\"Nikethamide\"],[\"Alpha-(4-Pyridyl-1-Oxide)-N-Tert-Butylnitrone|Cid 92375\"],[\"Alpha-(4-Pyridyl-1-Oxide)-N-Tert-Butylnitrone\"],[\"Aprobarbital\"],[\"Proxibarbal\"],[\"Proxyphylline\"],[\"Dyphylline\"],[null],[\"Adenosine Monophosphate|Adenosine Phosphate\"],[\"Phentermine\"],[\"Pervertin|Dl-Methamphetamine\"],[\"Methamphetamine|Metamphetamine\"],[\"Bethanidine Sulfate|Bethanidine\"],[\"Modaline\"],[\"Sabcomeline|(3E,3R)-N-Methoxy-1-Azabicyclo[2.2.2]Octane-3-Carboximidoyl Cyanide\"],[\"Guanoxyfen\"],[\"2',3'-Dideoxy-3'-Hydroxymethylcytidine|4-Amino-1-[4,5-Bis(Hydroxymethyl)Oxolan-2-Yl]Pyrimidin-2-One\"],[\"132235-73-5|2',3'-Dideoxy-3'-Hydroxymethyl Cytidine\"],[\"Benserazide\"],[\"Talipexole\"],[\"Trapidil\"],[\"Phenformin\"],[\"Edrophonium\"],[\"Etilefrine\"],[\"Hexapropymate\"],[\"Cp24|4(1H)-Pyridinone, 1-Butyl-3-Hydroxy-2-Methyl-\"],[\"Ethypicone\"],[\"Pipobroman\"],[\"Rilmenidine\"],[\"Biotin\"],[\"Dorzolamide\"],[\"Edetate Calcium Disodium|Cid 9842726\"],[\"Edetic Acid\"],[\"Adenosine Triphosphate|Adenosine-5'-Triphosphate\"],[\"51481-61-9|Cimetidine|1\"],[\"Tiotidine|69014-14-8|5-6|10\"],[\"Camphor\"],[\"Compound-9|3-[[1-(Aminomethyl)Cyclohexyl]Methyl]-1,2,4-Oxadiazol-5(2H)-One\"],[\"Glutathione\"],[\"Pramipexole\"],[\"Methyprylon\"],[\"Cevimeline|2-Methylspiro[1,3-Oxathiolane-5,3'-1-Azabicyclo[2.2.2]Octane]\"],[\"Pentosan Polysulfate|[2-Hydroxy-5-(5-Hydroxy-3,4-Disulfooxyoxan-2-Yl)Oxy-3-Sulfooxyoxan-4-Yl] Hydrogen Sulfate\"],[\"Guanadrel\"],[\"Hopantenic-Acid|Hopantenic Acid\"],[\"T-Butylcyclohexane|Tert-Butylcyclohexane\"],[\"1-Decene\"],[\"Menthol\"],[\"Cimepanol\"],[\"Promoxolane\"],[\"101-40-6|Propylhexedrine\"],[\"Propylhexedrine, (+)-\"],[\"Miglustat\"],[\"Voglibose\"],[\"Decane\"],[\"2-Methylnonane|2-Methyl Nonane\"],[\"Guanethidine|Guanethidine Sulfate\"],[\"Ethambutol\"],[\"Spermine\"],[\"Chromocarb\"],[\"Thiabendazole\"],[\"Kynurenic Acid\"],[\"Rufinamide\"],[\"Pemirolast\"],[\"Hymecromone\"],[\"Amrinone\"],[\"Carfimate\"],[\"Metoprine\"],[\"Amphenidone\"],[\"Uk-240,455|Unii-9Qu5W0O2Dx\"],[\"Fenobam|3-(3-Chlorophenyl)-1-(1-Methyl-4-Oxo-5H-Imidazol-2-Yl)Urea\"],[\"Flutamide\"],[\"4-Fluoro-1,5-Dimethyl-2-Phenyl-1,2-Dihydro-3H-Pyrazol-3-One\"],[\"Amezinium\"],[\"Phenazopyridine\"],[\"Phensuximide\"],[\"Cinromide\"],[\"Lofexidine\"],[\"5-Chloro-N-(2,2-Difluoroethyl)-4-Methyl-1,4-Dihydroquinazolin-2-Amine\"],[\"Iopanoic Acid\"],[\"Antipyrine Ok|Phenazone|Antipyrine\"],[\"Fenozolone\"],[\"Ethotoin\"],[\"L-Tryptophan|Tryptophan\"],[\"Zileuton\"],[\"61887-92-1|Y-G19|Zinc 04226975|Yg19|5-62|2-(4-Phenyl-1,3-Thiazol-2-Yl)Ethanamine\"],[\"Sulfamerazine\"],[\"Sulfametopyrazine|Sulfalene\"],[\"Sulfameter\"],[null],[\"207390-15-6|Bromocytisine|3-Br-Cytisine\"],[\"Brivudine\"],[\"Polythiazide\"],[\"Pargyline\"],[\"Deximafen|Imafen\"],[\"Sulfamoxole\"],[\"Azidamfenicol\"],[\"Tifemoxone\"],[\"Toloxatone\"],[\"Moxadolen\"],[\"Mephenoxalone\"],[\"Fenaclon\"],[\"Citizin\"],[\"485-35-8|Cytisine\"],[\"Ethyl-2-Phenylmalonamide|N'-Ethyl-2-Phenylpropanediamide\"],[\"Pheneturide\"],[\"Felbamate\"],[\"Pyrantel\"],[\"Bromamid|Bromamide\"],[\"Iproclozide\"],[\"Metaglycodol\"],[\"Sodiumamidotrizoate|3,5-Diacetamido-2,4,6-Triiodocyclohexane-1-Carboxylic Acid\"],[\"Alfetamine|Aletamine\"],[\"Cypenamine\"],[\"4794-83-6|Tz-14|N-(2,4-Dimethylphenyl)-4,5-Dihydro-1H-Imidazol-2-Amine\"],[\"Nelarabine\"],[\"Phenyl-N-Tert-Butylnitrone|N-Tert-Butyl-Alpha-Phenylnitrone\"],[\"Metamfepramone\"],[\"Phenmetrazine\"],[\"Butyl 4-Aminobenzoate|Butamben\"],[\"Methoxyphedrine\"],[\"Oxyfenamate|Hydroxyphenamate\"],[\"Methocarbamol\"],[\"Butizide|Buthiazide\"],[\"Proguanil|(1E)-1-[Amino-(4-Chloroanilino)Methylidene]-2-Propan-2-Ylguanidine\"],[\"Tocainide|Tocainide Hydrochloride\"],[\"Pilocarpine\"],[\"Carbenzide\"],[\"Aloracetam\"],[\"Butalbital\"],[\"Talbutal\"],[\"Vinylbital\"],[\"1-Butyl-3-Phenylthiourea\"],[\"Lidamidine Hydrochloride|Lidamidine\"],[\"Dexrazoxane\"],[\"Dimethamphetamine|Dimetamfetamine\"],[\"Carbubarb\"],[\"Dimethazan\"],[\"Mexiletine\"],[\"Cp25|Cp29|4(1H)-Pyridinone, 3-Hydroxy-2-Methyl-1-Pentyl-\"],[\"Cp107|4(1H)-Pyridinone, 2-Ethyl-3-Hydroxy-1-(4-Hydroxybutyl)-\"],[\"Methoxamine\"],[\"Isoproterenol Hydrochloride|Isoproterenol\"],[\"Mezilamine\"],[\"1-(8-Fluorooctyl)-2-Nitroimidazole|Moli001285\"],[\"Thiopental|76-75-5\"],[\"5-Pentyl-5-Ethyl Barbituric Acid|5-Ethyl-5-Pentylbarbituric Acid\"],[\"Amobarbital\"],[\"(+)-Pentobarbital\"],[\"Tamitinol\"],[\"Mecamylamine\"],[\"Ciproximide|Cyproximide\"],[\"Norharman|9H-Pyrido[3,4-B]Indole\"],[\"Menadione\"],[\"Diatrizoic Acid\"],[\"Nitrafudam\"],[\"Zoniclezole\"],[\"Nilutamide\"],[\"Harman\"],[\"Furosemide\"],[\"Losigamone|(+)-Losigamone\"],[\"Mefenidil\"],[\"Triamterene\"],[\"Pirfenidone\"],[\"Etoprine\"],[\"Harmalol\"],[\"Tetrantoin\"],[\"Cyclazodone\"],[\"Enoximone\"],[\"Phenobarbital\"],[\"Nalidixic Acid|Nalidixic-Acid|Nalidixicacid\"],[\"Supidimide\"],[\"Benznidazole\"],[\"Skb15|Bbcpd12|112598-28-4|Chebi: 339093|13|N-(2-{[(3-Bromopyridin-2-Yl)Methyl]Sulfanyl}Ethyl)-3-Nitro-1H-Pyrrol-2-Amine\"],[\"B-049\"],[\"Pyrimethamine\"],[\"Fluzinamide\"],[\"Ipodate\"],[\"Iocetamic Acid\"],[\"Isocarboxazid\"],[\"Mesuximide|Methsuximide\"],[\"Florfenicol\"],[\"Efetozole\"],[\"Azepindole\"],[\"Detomidine\"],[\"Primidone\"],[\"Sulfamethazine\"],[\"Skb16|Bbcpd13|112598-30-8|Chebi: 339092|B-050|14|3-Nitro-N-(2-{[(Pyridin-2-Yl)Methyl]Sulfanyl}Ethyl)-1H-Pyrrol-2-Amine\"],[\"Sulfacytine\"],[\"Sulfadoxine\"],[\"Sulfadimethoxine\"],[\"Carumonam|(3S,4S)-3-[(Z)-2-(2-Amino-4-Thiazolyl)-2-[(Carboxymethoxy)Imino]Acetamido]-4-Carbamoyloxymethyl-2-Oxo-1-Azetidinesulphonic Acid\"],[\"Mptp|1-Methyl-4-Phenyl-1,2,3,6-Tetrahydropyridine\"],[\"Entecavir\"],[\"Tigemonam|Sq30836 (Tigemonam Dicholate)\"],[\"Metaxalone\"],[\"Cintramide|Cintriamide\"],[\"Faropenem\"],[\"Sulopenem\"],[\"52378-66-2|Chebi: 338620|Bbcpd11|B-048|12|Y-G13|Comp13|30|N-Cyano-N'-[2-((3-Bromo-2-Pyridyl)Methylthio)-Ethyl]-N\\\"-Ethylguanidine\"],[\"Meclofenoxate\"],[\"Fenfluramine\"],[\"Etryptamine\"],[\"Azaquinzole\"],[\"Bufotenine\"],[\"Nebracetam\"],[\"Eltoprazine\"],[\"Hexobarbital|56-29-1\"],[\"Cyclobarbital\"],[\"Cericlamine\"],[\"Fenpentadiol\"],[\"Psilocybine\"],[\"Imipenem\"],[\"Trebenzomine\"],[\"Cerulenin\"],[\"Tiletamine\"],[\"Clenbuterol\"],[\"Thiamylal\"],[\"76-73-3|Secobarbital|Quinalbarbitone\"],[\"(+)-Secobarbital\"],[\"Nealbarbital\"],[\"Tolbutamide\"],[\"Epervudine\"],[\"Dupracetam\"],[\"Propofol|Propofol, Diprivan\"],[\"Terbutaline\"],[\"Amiflamine|4-(Dimethylamino)-Alpha,2-Dimethylphenethylamine\"],[\"Methitural\"],[\"Pirbuterol\"],[\"5-Hexyl-5-Ethyl Barbituric Acid|Ortal\"],[\"Tetrabarbital\"],[\"3930-20-9|Sotalol Hydrochloride|Sotalol\"],[\"U 88703|3-Pyridinamine, N-(1-Methylethyl)-2-(1-Piperazinyl)-\"],[null],[\"Zanamivir\"],[\"Brinzolamide\"],[\"Nizatidine|Nizax\"],[\"Cadralazine\"],[\"Topiramate|Topiramate, Topamax\"],[\"Crotetamide\"],[\"Lactulose|4-O-Hexopyranosylhex-2-Ulofuranose\"],[\"Carisoprodol\"],[\"Butoctamide|Butoctamidehydrogensuccinate\"],[\"Bithionol\"],[\"Triclosan\"],[\"Ica-27243|N-(6-Chloropyridin-3-Yl)-3,4-Difluorobenzamide\"],[\"Methoxsalen\"],[\"Milrinone\"],[\"Centazolone\"],[\"Nifuroxazide|Akabar\"],[\"Nitazoxanide\"],[\"Miloxacin\"],[\"Thalidomide\"],[\"Phenyl-Salicylate|Phenyl Salicylate\"],[\"Clonixin\"],[\"Proflavine\"],[\"Tenoxicam\"],[\"Phenyl Aminosalicylate\"],[\"Ethacrynic Acid|Etacrynicacid\"],[\"Fluconazole\"],[\"Ozagrel\"],[\"Nimesulide\"],[\"Ceftezole\"],[\"Ralitoline\"],[\"Cefazaflur\"],[\"Varenicline|6,10-Methano-6H-Pyrazino[2,3-H][3]Benzazepine, 7,8,9,10-Tetrahydro-\"],[\"Cefacetrile\"],[\"Ceftizoxime|7-[2-(2-Amino-Thiazol-4-Yl)-2-Methoxyimino-Acetylamino]-8-Oxo-5-Thia-1-Aza-Bicyclo[4.2.0]Oct-2-Ene-2-Carboxylic Acid\"],[\"Ciprofibrate\"],[\"Tacrine|Tacrine, Cognex\"],[\"Velnacrine\"],[\"Rofelodine\"],[\"Naprodoxime|N-Hydroxy-2-[(Naphthalen-1-Yl)Oxy]Propanimidamide\"],[\"Methylphenobarbital|Mephobarbital\"],[\"Pidolacetamol\"],[\"Skb23|Bbcpd58|72801-63-9|Chebi: 145922|B-054|19|13|Guanidinenmethylncyanon32Nguanidylthiazol4Ylphen\"],[\"Clorgiline\"],[\"Cetofenicol|Cetophenicol\"],[\"Glycodiazine|Glymidine\"],[\"Fasiplon\"],[\"Methastyridone\"],[\"Glutethimide\"],[\"Fenimide\"],[\"Petrichloral\"],[\"Ketamine\"],[\"Dexmedetomidine\"],[\"Profexalone\"],[\"Cycotiamine\"],[\"Selegiline\"],[\"Aminopyrine Ok|Aminopyrine|Aminophenazone|Amidazophen\"],[\"Dipyrone|Metamizole\"],[\"Aztreonam|Aztreonam E-Isomer\"],[\"19\"],[\"Crotamiton|2-Butenamide, N-Ethyl-N-(2-Methylphenyl)-\"],[\"Encyprate\"],[\"Ambroxol\"],[\"Sarcolysin\"],[\"Melphalan\"],[\"Imidoline\"],[\"Dicarbine\"],[\"Fenoxazoline\"],[\"Heptabarb|Heptabarbital\"],[\"Pentoxifylline\"],[\"Ibuprofen|15687-27-1|Lbuprofen\"],[\"(R)-(-)-Ibuprofen\"],[\"Salicin\"],[\"Pinacidil\"],[\"Butamoxane\"],[\"Ifoxetine\"],[\"Probenecid\"],[\"Declopramide\"],[\"Procaine\"],[\"Etozolin|Ethyl 2-(3-Methyl-4-Oxo-5-Piperidin-1-Yl-1,3-Thiazolidin-2-Ylidene)Acetate\"],[\"Etozoline|Etozolin\"],[\"Quinpirole\"],[\"Carbuterol\"],[\"Salbutamol|Albuterol|Salbutamol, Albuterol|Albuterol Sulfate\"],[\"66357-35-5|Ranitidine|9|Zantac\"],[\"Cropropamide\"],[\"Cyprodenate\"],[\"Tybamate\"],[\"Nisobamate\"],[\"Niclosamide\"],[\"Ticrynafen|Tienilic Acid\"],[\"Niflumic|Niflumic Acid\"],[\"Cid 10451635|2-(3'-Iodo-4'-Aminophenyl)-6-Hydroxybenzothiazole\"],[\"Pyridarone\"],[\"Bromazepam\"],[\"Mitotane\"],[\"Olsalazine\"],[\"Dantrolene\"],[\"Benzoyl Peroxide\"],[\"Meclofenamate Sodium|Meclofenamate|Meclofenamic Acid\"],[\"Fenquizone\"],[\"Cicletanine\"],[\"Levosimendan\"],[\"Benzyl Benzoate\"],[\"Felbinac\"],[\"Trioxsalen\"],[\"Tiaprofenic|Tiaprofenic Acid\"],[\"Meloxicam\"],[\"Isoxicam\"],[\"Alonimid\"],[\"Ticlopidine Hydrochloride|Ticlopidine\"],[\"Naphazoline\"],[\"Razobazam\"],[\"Cefazolin\"],[\"Naproxen\"],[\"Zometapine\"],[\"Flutomidate\"],[\"Fosenazide\"],[\"Taniplon\"],[\"Cefetamet|(6R,7R)-7-[[(2E)-2-(2-Amino-1,3-Thiazol-4-Yl)-2-Methoxyiminoacetyl]Amino]-3-Methyl-8-Oxo-5-Thia-1-Azabicyclo[4.2.0]Oct-2-Ene-2-Carboxylic Acid\"],[\"Cefdaloxime\"],[\"Bipenamol\"],[\"Brofaromine\"],[\"Toloxychlorinol\"],[\"Cyclothiazide\"],[\"Flucindol|Flucindole\"],[\"Napactadine\"],[\"Napamezole\"],[\"Phetharbital\"],[\"Biglumide|Taglutimida\"],[\"Imiquimod\"],[\"Pipemidic|Pipemidic Acid\"],[\"Indeloxazine\"],[\"Benzoclidine\"],[\"Oxaflozane\"],[\"Ciclindole|Cyclindole\"],[\"Propyphenazone\"],[\"Nefiracetam\"],[\"Methohexital|151-83-7|Methohexitone\"],[\"D-Phenylalanine-L-Proline\"],[\"Aspartame\"],[\"Abacavir\"],[\"Abacavir, Trans-\"],[\"Stiripentol\"],[\"Chlorambucil\"],[\"Fluprazine\"],[\"Faha|6-[(2-Fluoroacetyl)Amino]-N-Phenylhexanamide\"],[\"Etazolate\"],[\"Phacetoperane|Levophacetoperane\"],[\"Methylphenidate\"],[\"Dexmethylphenidate\"],[\"Trimetozine\"],[\"Sanfetrinem\"],[\"Diclometide\"],[\"Norcisapride\"],[\"Ticalopride\"],[\"Tymazoline\"],[\"Pindolol\"],[\"Azabon\"],[\"Propacetamol\"],[\"Skb24|74188-86-6|Bbcpd17|B-056|20|2-[2-(5-Dimethylaminomethyl-2-Furylmethylthio)Ethylamino]-3-Nitropyrrole\"],[\"Clovoxamine\"],[\"Clofexamide\"],[\"1-Isobutyl-4-(4-Iodophenyl)Piperazine\"],[\"1-Butan-2-Yl-4-(4-Iodophenyl)Piperazine\"],[\"Eticyclidine\"],[\"Sumatriptan\"],[\"Tolazamide\"],[\"Sulmepride\"],[\"Adicillin\"],[\"Zylofuramine\"],[\"Pentamoxane\"],[\"Carmantadine\"],[\"Pivenfrine\"],[\"Metoclopramide\"],[\"Clobutinol\"],[\"123441-03-2|Rivastigmine\"],[\"Practolol\"],[\"(S)-Practolol\"],[\"4-Iodo-N,N'-Isopropyl-M-Xylenediamine\"],[\"Sematilide\"],[\"Xanomeline\"],[\"Tazomeline\"],[\"Tapentadol\"],[\"Crilvastatin\"],[\"5-Octyl-5-Ethyl Barbituric Acid|5-Ethyl-5-Octylbarbituric Acid\"],[\"Ro 64-0802|Oseltamivir Acid\"],[\"Valproate-Pivoxil|Valproate Pivoxil\"],[\"Pramiracetam\"],[\"Succinylcholine\"],[\"Sodium Tetradecyl Sulfate|Myristyl Sulfate\"],[\"Tafamidis\"],[\"21\"],[\"Lopirazepam\"],[\"Triclabendazole\"],[\"Efavirenz\"],[\"Alrestatin\"],[\"Brotizolam\"],[\"Clonazepam\"],[\"Phenindione\"],[\"Daidzein Ok|Daidzein\"],[\"Quercetin\"],[\"Mecloqualone\"],[\"6-Chloro-5-Phenyl-1,3-Dihydro-1,4-Benzodiazepin-2-One\"],[\"Oxazepam|604-75-1\"],[\"Desmethylclobazam|22316-55-8|N-Desmethylclobazam|Norclobazam\"],[\"Demoxepam\"],[\"Nitrazepam\"],[\"20\"],[\"Bromfenac\"],[\"Liothyronine\"],[\"Carbamazepine|Carbamazepine; Tegretol|31\"],[\"Nafimidone\"],[\"Carbamazepine-10,11-Epoxide|Carbamazepine Epoxide|B-096|32\"],[\"Carbamazepineepoxide|(2R,4R)-3-Oxa-11-Azatetracyclo[10.4.0.02,4.05,10]Hexadeca-1(16),5,7,9,12,14-Hexaene-11-Carboxamide\"],[\"Oxcarbazepine|Rivastigmine, Exelon\"],[\"Ffmz\"],[\"Piroxicam\"],[\"Epalrestat\"],[\"Acetaminosalol\"],[\"Dazadrol\"],[\"Cefaclor\"],[\"Benzthiazide\"],[\"Zomepirac\"],[\"Bendroflumethiazide\"],[\"Flumazenil|78755-81-4\"],[\"Doxenitoin\"],[\"S-Licarbizine|Licarbazepine\"],[\"Fepitrizol\"],[\"Nevirapine|129618-40-2\"],[\"Sulfaphenazole\"],[\"Ceftibuten|Ceftibuten Dihydrate\"],[\"Endixaprine\"],[\"Nortetrazepam\"],[\"2095-17-2|Nor-2-Chlorpromazine|Didemethylchlorpromazine|Cid 74981\"],[\"Zolazepam\"],[\"Premazepam\"],[\"Ci-994|Tacedinaline\"],[\"Cefivitril\"],[\"Modafinil\"],[\"Sipatrigine\"],[\"Lodaxaprine\"],[\"Ameltolide\"],[\"Benmoxin\"],[\"156154-71-1|Dm44|Methyl 6-Methyl-4-(3-Nitroanilino)-2-Oxocyclohex-3-Ene-1-Carboxylate\"],[\"Tienocarbine\"],[\"Zomebazam\"],[\"5|2-Methyl-5-Nitro-4-(1,2,4,5-Tetrahydro-3-Benzazepin-3-Yl)-1H-Pyrimidin-6-One\"],[\"Lortalamine|Cid 6917700\"],[\"2-[(2-Amino-4-Fluorophenyl)Thio]-N,N-Dimethylbenzenemethanamine|2-[[2-[(Dimethylamino)Methyl]Phenyl]Thio]-5-Fluoroaniline\"],[\"Flupirtine\"],[\"Metralindole\"],[\"99632-94-7|Ro 19-4603|Ro19-4603|Tert-Butyl 5-Methyl-6-Oxo-5,6-Dihydro-4H-Imidazo[1,5-A]Thieno[2,3-F][1,4]Diazepine-3-Carboxylate\"],[\"Cefpodoxime|(6R,7R)-7-[[(2E)-2-(2-Amino-1,3-Thiazol-4-Yl)-2-Methoxyiminoacetyl]Amino]-3-(Methoxymethyl)-8-Oxo-5-Thia-1-Azabicyclo[4.2.0]Oct-2-Ene-2-Carboxylic Acid\"],[\"Cefmetazole\"],[\"Flomoxef\"],[\"Befloxatone\"],[\"Tyropanoate Sodium|Tyropanic Acid\"],[\"Pirlindole\"],[\"Propoxate\"],[\"Biapenem\"],[\"Mitomycin\"],[\"Regadenoson\"],[\"Arglabin\"],[\"Rizatriptan\"],[\"Furfenorex\"],[\"Raclopride\"],[\"Indalpine\"],[\"Sumacetamol\"],[\"Acetohexamide\"],[\"Acaprazine\"],[\"Lesopitron\"],[\"54739-18-3|Fluvoxamine|Fluvoxamine, (Z)-\"],[\"1,3A,8-Trimethyl-1,2,3,3A,8,8A-Hexahydropyrrolo[2,3-B]Indol-5-Yl Methylcarbamate\"],[\"Physostigmine\"],[\"Tocris-0622\"],[\"Panipenem|(5R,6S)-3-[(3R)-1-Ethanimidoylpyrrolidin-3-Yl]Sulfanyl-6-[(1R)-1-Hydroxyethyl]-7-Oxo-1-Azabicyclo[3.2.0]Hept-2-Ene-2-Carboxylic Acid\"],[\"Metazocine\"],[\"Eptazocine\"],[\"(+)-4-Propyl-3,4,4A,5,6,10B-Hexahydro-2H-Naphtho[1,2-B][1,4]Oxazin-9-Ol|4-Propyl-3,4,4A,5,6,10B-Hexahydro-2H-Naphtho[1,2-B][1,4]Oxazin-9-Ol\"],[\"Ketobemidone\"],[\"Pethidine|Meperidine|Meperidine, Demerol|Demerol\"],[\"Hydroxypethidine\"],[\"Milnacipran\"],[\"Dabelotine\"],[\"Troxipide\"],[\"Cartazolate\"],[\"Adenosyl-Methionine|Ademetionine\"],[\"Gemfibrozil\"],[\"Prolintane\"],[\"Acecainide\"],[\"Mecillinam|Amdinocillin\"],[\"Cyclacillin\"],[\"Sulpiride\"],[\"Skb34|Bbcpd22|87078-26-0|Chebi: 338140|B-062|26|18|1-Propanol, 3-[3-(1-Piperidinylmethyl)Phenoxy]-\"],[\"Ethomoxane\"],[\"Oxprenolol\"],[\"Mefexamide\"],[\"Tiapride\"],[\"Nonapyrimine\"],[\"Thioperamide|5-69\"],[\"Recainam\"],[\"Lisdexamfetamine\"],[\"Caproxamine|5-[(Z)-N-(2-Aminoethoxy)-C-Pentylcarbonimidoyl]-2-Methylaniline\"],[\"Rociclovir\"],[\"51384-51-1|Metoprolol\"],[\"Dioxamate\"],[\"Pentolinium\"],[\"Pyrene\"],[\"Bms-204352|Flindokalner\"],[\"Indigotindisulfonate|Indigotindisulfonic Acid\"],[\"Chlorazepate|Clorazepate|Clorazepic Acid\"],[\"Estazolam\"],[\"Lormetazepam\"],[\"Fludiazepam\"],[\"Flutemazepam\"],[\"Meclonazepam\"],[\"Anisindione\"],[\"Aceclofenac\"],[\"Tioconazole|Tz-3\"],[\"Mazindol\"],[\"Temazepam\"],[\"Sulazepam\"],[\"Vorozole|(+)-Vorozole\"],[\"Nimetazepam\"],[\"Mebendazole\"],[\"Citenamide\"],[null],[\"Chlordiazepoxide\"],[\"Org30526|(2R,6S)-9-Chloro-13-Oxa-4-Azatetracyclo[12.4.0.02,6.07,12]Octadeca-1(18),7(12),8,10,14,16-Hexaene\"],[\"128915-56-0|N-Desmethyl Asenapine\"],[\"Lansoprazole\"],[\"Voriconazole\"],[\"Methaqualone\"],[\"Cbz-Epo\"],[\"Doliracetam\"],[\"Amlexanox\"],[\"Fenbufen\"],[\"Hesperetin\"],[null],[\"Indatraline\"],[\"Medazepam\"],[\"Clotiazepam\"],[\"Fluoroethylfumazrnil|Fluoroethylflumazenil|Cid 6426759\"],[\"Pantoprazole\"],[\"Sitagliptin\"],[\"Neurogard\"],[\"Fosphenytoin\"],[\"Trizoxime\"],[\"Cefixime|Cefixime Anhydrous, (E)-\"],[\"17 Zm0241385|4-(2-((7-Amino-2-(Furan-2-Yl)-[1,2,4]Triazolo[1,5-A][1,3,5]Triazin-5-Yl)Amino)Ethyl)Phenol\"],[\"Cefuzonam|Cefuzonam Sodium\"],[\"Cyheptamide\"],[\"Indapamide\"],[\"Metolazone\"],[\"Loracarbef\"],[\"Clopidogrel Bisulfate|Clopidogrel\"],[\"Fenoldopam\"],[\"156154-42-6|Dm49|Methyl 6-Methyl-2-Oxo-4-[3-(Trifluoromethoxy)Anilino]Cyclohex-3-Ene-1-Carboxylate\"],[\"Febuxostat\"],[\"Cefalotin|Cephalotin|Cephalothin\"],[\"Dacemazine\"],[\"Bbcpd18\"],[\"Cefuroxime|Cefuroxim|(6R,7R)-3-(Carbamoyloxymethyl)-7-[[(2E)-2-(Furan-2-Yl)-2-Methoxyiminoacetyl]Amino]-8-Oxo-5-Thia-1-Azabicyclo[4.2.0]Oct-2-Ene-2-Carboxylic Acid\"],[\"Zimeldine|Zimelidine\"],[\"1225-64-5|Norchlorpromazine|Nor-1-Chlorpromazine|Nor-2-Chlorpromazine\"],[\"Tiflucarbine\"],[\"Cefoxitin\"],[\"Azidocillin\"],[\"Ceftioxide|Ceftioxid\"],[\"Cefteram|Cefteramum\"],[\"Cefmenoxime|(6R,7R)-7-[[(2E)-2-(2-Amino-1,3-Thiazol-4-Yl)-2-Methoxyiminoacetyl]Amino]-3-[(1-Methyltetrazol-5-Yl)Sulfanylmethyl]-8-Oxo-5-Thia-1-Azabicyclo[4.2.0]Oct-2-Ene-2-Carboxylic Acid\"],[\"Cebaracetam\"],[\"Retigabine|Ezogabine\"],[\"Norfloxacin\"],[\"Metapramine\"],[\"Nomifensine\"],[\"Tifencillin\"],[\"Sulbenicillin|Cid 5317\"],[\"Desmonomethylpromazine|2095-20-7|Methyl[3-(10H-Phenothiazin-10-Yl)Propyl]Amine\"],[\"Piribedil\"],[\"Nialamide\"],[\"Chlorpheniramine\"],[\"Tepirindole\"],[null],[\"I-4\"],[\"Chebi: 167165|I-4|4-[1-((E)-3-Iodo-Allyl)-Piperidin-4-Ylmethoxy]-Benzonitrile\"],[\"Aptazapine\"],[\"23|N-(2-Aminophenyl)-4-[(Dimethylamino)Methyl]Benzamide\"],[\"Cefradine|Cephradine\"],[\"Amoxicillin\"],[\"Pipofezine\"],[\"Medifoxamine\"],[\"Teniloxazine\"],[\"12-Methoxy-7-Methyl-16-Oxa-7-Azatetracyclo[11.2.1.05,15.09,14]Hexadeca-4,9(14),10,12-Tetraen-3-Ol\"],[\"Norgalanthamine\"],[\"Roletamide\"],[\"9-Chloro-5-Methyl-6-(3-Methylbut-2-En-1-Yl)-4,5,6,7-Tetrahydroimidazo(4,5,1-Jk)(1,4)Benzodiazepine-2(1H)-Thione\"],[\"R82913|4-Chloro-8-Methyl-7-(3-Methyl-But-2-Enyl)-6,7,8,9-Tetrahydro-2H-2,7,9A-Triaza-Benzo[Cd]Azulene-1-Thione\"],[\"Pheniramine\"],[\"Morsuximide\"],[\"Pyritinol\"],[\"Torsemide|Torasemide\"],[\"Enpiprazole\"],[\"Mepenzolatebromide|4-(3,9-Diazaspiro[5.5]Undecan-3-Yl)Benzonitrile\"],[\"Zolmitriptane|2-Oxazolidinone, 4-[[3-[2-(Dimethylamino)Ethyl]-1H-Indol-5-Yl]Methyl]-\"],[\"Zolmitriptan\"],[\"Epicillin\"],[\"Cephalosporin-C|Cephalosporin C\"],[\"Cefminox\"],[\"Norlevorphanol\"],[\"Ramelteon\"],[\"Rolipram\"],[\"Befunolol\"],[\"Compound 5|(2S)-2-[[(2Z,4E)-Hexa-2,4-Dienoyl]Amino]-4-[(2Z,4E)-Hexa-2,4-Dienoyl]Sulfanylbutanoic Acid\"],[\"Eclanamine\"],[\"Zetidoline\"],[\"Bmsp|1-(3,7-Diazabicyclo[3.3.1]Nonan-3-Yl)-2-(4-(Methylsulfonyl)Phenyl)Ethanone\"],[\"151581-23-6|Apaxifylline\"],[\"Acetiamine\"],[\"Inaperisone\"],[\"Tolquinzole\"],[\"Pyrovalerone\"],[\"Etoxadrol\"],[\"Alphaprodine|Nisintil\"],[\"Bufuralol\"],[\"Xylometazoline\"],[\"Oxymetazoline\"],[\"Ropinirole|91374-21-9|Skf-101468|Skf101468|Skf-101468, Ropinirole|Ropinirole Hydrochloride|Skf 101468\"],[\"Molindone\"],[null],[\"Skf 89124|104535-64-0|Skf89124|7-Hydroxy Ropinirole|Skf-89124|4-(2-Di-N-Propylaminoethyl)-7-Hydroxy-2-(3H)Indolone\"],[\"Tricetamide\"],[\"Pirisudanol\"],[\"Tracazolate\"],[\"Denbufylline\"],[\"1-Hexyl-4-(4-Iodophenyl)Piperazine|Chebi: 287982\"],[\"Prosulpride\"],[\"Picenadol\"],[\"Desvenlafaxine\"],[\"Esmolol\"],[\"Suplatast|3-Dimethylsulfonio-N-[4-(3-Ethoxy-2-Oxoniopropoxy)Phenyl]Propanimidate\"],[\"12\"],[\"Cilastatin\"],[\"Artemether\"],[\"Valperinol\"],[\"Oseltamivir Phosphate|Oseltamivir\"],[\"22\"],[\"Cetyl Alcohol\"],[\"Decamethonium\"],[\"Quazepam\"],[\"Selinexor\"],[\"Letrozole\"],[\"Ocinaplon\"],[\"Benzbromarone\"],[\"Compound-4Fi|7-(2,4-Dichlorophenyl)-2-Methyl-4-[3-(Trifluoromethyl)Pyrazol-1-Yl]-5,6-Dihydropyrrolo[2,3-D]Pyrimidine\"],[\"Triazolam|28911-01-5\"],[\"Halazepam\"],[\"Pirazolac\"],[\"Fletazepam\"],[\"Liarozole\"],[\"4-Hydroxyalprazolam\"],[\"Alpha-Hydroxyalprazolam|Α-Hydroxyalprazolam\"],[\"Triflubazam\"],[\"49|N-(5-Methyl-1,2,4-Oxadiazol-3-Yl)-9H-Xanthene-9-Carboxamide\"],[\"Haloxazolam\"],[\"Roflumilast\"],[\"N-Methylthiazolium-Dcka\"],[\"Doxefazepam\"],[\"Rosoxacin\"],[\"Iguratimod\"],[\"48|7-(2-Methyl-Pyridin-4-Yl)-2-Pyridin-2-Yl-[1,2,4]Triazolo[1,5-A]Pyridin-5-Ylamine\"],[\"Rofecoxib|Rofecoxib, Vioxx\"],[\"Triclodazol\"],[\"Ciclazindol\"],[\"Etizolam\"],[\"Gyki-52466|4-(8-Methyl-9H-1,3-Dioxolo(4,5-H)(2,3)Benzodiazepin-5-Yl)Benzenamine\"],[\"Balsalazide\"],[\"51|N-(2-Ethyltetrazol-5-Yl)-9H-Xanthene-9-Carboxamide\"],[\"Tuclazepam\"],[\"Amoxapine\"],[\"Carburazepam\"],[\"L-663,581|122384-14-9|Chebi 218555|L663581|L-663581|33|7-Chloro-5-Methyl-3-(5-Propan-2-Yl-1,2,4-Oxadiazol-3-Yl)-4H-Imidazo[1,5-A][1,4]Benzodiazepin-6-One\"],[\"M1L-663,581|128246-10-6|Monohydroxy L-663,581 Metabolite|Chebi: 338585|Mono-Hydroxylated-L-663581|L-663,581 Mono-Hydroxylated Metabolite|34|7-Chloro-3-[5-(2-Hydroxypropan-2-Yl)-1,2,4-Oxadiazol-3-Yl]-5-Methyl-4H-Imidazo[1,5-A][1,4]Benzodiazepin-6-One\"],[\"M2L-663,581|130073-36-8|Lin_Test_35|Chebi: 338584|M2L-663581|Bis-Hydroxylated L-663,581|L-663,581 Bis-Hydrolated|35|7-Chloro-3-[5-(1,2-Dihydroxypropan-2-Yl)-1,2,4-Oxadiazol-3-Yl]-5-Methyl-4H-Imidazo[1,5-A][1,4]Benzodiazepin-6-One\"],[\"35\"],[\"B-106, Org30526\"],[\"Mefloquine\"],[\"Fluradoline\"],[\"Cid 9861160|B-109, Org34167|1-[2-(1,2-Benzoxazol-3-Yl)Phenyl]But-3-En-1-Amine\"],[\"Etaqualone\"],[\"Bentazepam\"],[\"Tenilapine\"],[\"4-(3,4-Dichlorophenyl)-N-Methyl-1,2,3,4-Tetrahydronaphthalen-1-Amine\"],[\"79559-97-0|Sertraline\"],[\"Fengabine\"],[\"Etifoxine\"],[\"Eszopiclone|Eszopiclone, Lunesta\"],[\"Griseofulvin\"],[\"Divaplon\"],[\"Cefapirin|Cephapirin\"],[\"Cefuracetime|Cefuracetima\"],[\"Cefotetan|Yamatetan\"],[\"Org-30526\"],[\"Apomorphine_R|(6As)-6-Methyl-5,6,6A,7-Tetrahydro-4H-Dibenzo[De,G]Quinoline-10,11-Diol\"],[\"Apomorphine\"],[\"Damotepine\"],[\"Sb 357134|N-(2,5-Dibromo-3-Fluorophenyl)-4-Methoxy-3-Piperazin-1-Ylbenzenesulfonamide\"],[\"Clometocillin\"],[\"Sch-23390|(R)-2,3,4,5-Tetrahydro-8-Chloro-3-Methyl-5-Phenyl-1H-3-Benzazepin-7-Ol\"],[\"Fluoxetine|54910-89-3\"],[\"Ciprofloxacin\"],[\"Rufloxacin\"],[\"Timelotem\"],[\"Dazepinil\"],[\"Amfetaminil\"],[\"Diphoxazide\"],[\"Ruxolitinib\"],[\"Chlorpromazine|50-53-3\"],[\"Lorcinadol\"],[\"Lomefloxacin\"],[\"Tametraline\"],[\"Phentolamine\"],[\"Piberaline\"],[\"73590-58-6|Omeprazole\"],[\"Esomeprazole\"],[\"Metampicillin\"],[\"Anastrozole\"],[\"Bazinaprine\"],[\"Nsc 350386|Ethyl N-(5-Amino-2-Methyl-3-Phenyl-1,2-Dihydropyrido[3,4-B]Pyrazin-7-Yl)Carbamate\"],[\"Piritrexim\"],[\"Cefcapene\"],[\"Nefopam\"],[\"Hydromorphone\"],[\"Morphinan-3,6Alpha-Diol, 7,8-Didehydro-4,5Alpha-Epoxy-17-Methyl-\"],[\"Morphine|52-26-6\"],[\"Norcodeine\"],[\"Oxymorphone\"],[\"Bromazine|Bromodiphenhydramine\"],[\"Clemeprol|1-(3-Chlorophenyl)-3-(Dimethylamino)-1-Phenyl-2-Propanol\"],[\"Flecainide Acetate|Flecainide\"],[\"Pefloxacin\"],[\"Tropisetron\"],[\"Tropicamide\"],[\"Bumetanide\"],[\"Pheneticillin\"],[\"Meticillin|Methicillin\"],[\"146-21-4|Phenothiazine|Promazine-Sulfoxide|Promazine 5-Sulfoxide\"],[\"Tienopramine\"],[\"Promazine|53-60-1\"],[\"Propizepine\"],[\"44|3-Ethyl-2-Methyl-5-Nitro-6-(1,2,4,5-Tetrahydro-3-Benzazepin-3-Yl)Pyrimidin-4-One\"],[\"Riboflavin\"],[\"Cefsumide\"],[\"Benzfetamine|Benzphetamine\"],[\"Theodrenaline\"],[\"Compound 4B|Pyrido(3',2':4,5)Thieno(3,2-D)Pyrimidin-4(3H)-One, 9-(Dimethylamino)-3-(Hexahydro-1H-Azepin-1-Yl)-\"],[\"Tofenacin\"],[\"Atomoxetine\"],[\"Diphenhydramine\"],[\"Nisoxetine\"],[\"Desomorphine\"],[\"Ritodrine Hydrochloride|Ritodrine\"],[\"Dihydromorphine\"],[\"Epigalanthamin\"],[\"357-70-0|Galantamine|Galanthamine\"],[\"Etodolac\"],[\"S-Etodolac|(S)-(+)-Etodolac\"],[\"R-Etodolac|(R)-Etodolac\"],[\"Fenoterol\"],[\"Methyl 3-(Benzoyloxy)-8-Methyl-8-Azabicyclo[3.2.1]Octane-2-Carboxylate\"],[\"Cocaine\"],[\"Scopolamine|(-)-Scopolamine\"],[\"51-34-3|Scopolamine\"],[\"(9-Methyl-3-Oxa-9-Azatricyclo[3.3.1.02,4]Nonan-7-Yl) (2R)-3-Hydroxy-2-Phenylpropanoate\"],[\"Hydromorphinol\"],[\"Doxylamine, (S)-\"],[\"Neticonazole Hydrochloride|Neticonazole\"],[\"Minaprine\"],[\"Cilobamine\"],[\"Azabuperone\"],[\"Pyrilamine|Mepyramine|Mepiramine|7\"],[\"Sunepitron\"],[\"Taltirelin\"],[\"Pirandamine\"],[\"Racemorphan\"],[\"Levorphanol|Racemorphan\"],[\"Dextrorphan\"],[\"Tilidine|Dextilidine\"],[\"Atropine Sulfate\"],[\"Atropine\"],[\"Atropine-Oxide\"],[\"Tolpiprazole\"],[\"Bms-387032|Bms-387032, Sns-032|N-(5-(((5-(1,1-Dimethylethyl)-2-Oxazolyl)Methyl)Thio)-2-Thiazolyl)-4-Piperidinecarboxamide\"],[\"Homatropine Methylbromide|8,8-Dimethyl-8Lambda(5)-Azabicyclo[3.2.1]Oct-3-Yl Hydroxy(Phenyl)Acetate\"],[\"Cyclandelate\"],[\"Phencyclidine\"],[\"Almotriptan\"],[\"Veralipride\"],[\"Alphameprodine\"],[\"Betameprodine\"],[\"Trocimine\"],[\"Sibutramine\"],[\"Zafuleptine\"],[\"1-48\"],[\"Skb30|Bbcpd20|78273-74-2|Chebi: 338581|B-060|24|16|Acetamide, N-[3-[3-(1-Piperidinylmethyl)Phenoxy]Propyl]-\"],[\"S118\"],[\"Sultopride\"],[\"N-(3,4-Dihydro-2H-Chromen-2-Ylmethyl)-N'-(1,4,5,6-Tetrahydropyrimidin-2-Yl)Propane-1,3-Diamine\"],[\"Alniditan Dihydrochloride|Alniditan\"],[\"Fursultiamine\"],[\"Alpiropride\"],[\"Amixetrine\"],[\"Venlafaxine\"],[\"Embutramide\"],[\"Solgol\"],[\"Nadolol\"],[\"Oxybuprocaine\"],[null],[\"Perindoprilat\"],[\"Trospectomycin\"],[\"Anisotropine|8,8-Dimethyl-3-[(2-Propylpentanoyl)Oxy]-8-Azoniabicyclo[3.2.1]Octane\"],[\"Astromicin\"],[\"Diclazuril\"],[\"Xantocillin\"],[\"Climazolam\"],[\"Reclazepam\"],[\"Oxiconazole|1-(2,4-Dichlorophenyl)-N-[(2,4-Dichlorophenyl)Methoxy]-2-(1-Imidazolyl)Ethanimine\"],[\"Midazolam|59467-70-8|Midazolam Maleate\"],[\"(4R)-8-Chloro-6-(2-Fluorophenyl)-1-Methyl-4H-Imidazo[1,5-A][1,4]Benzodiazepin-4-Ol\"],[\"1-Hydroxymidazolam|59468-90-5\"],[\"Cinolazepam\"],[\"Pinazepam\"],[\"Bicalutamide\"],[\"Sulfasalazine|Sulphasalazine\"],[\"Uldazepam\"],[\"Cefazedone\"],[\"Econazole\"],[\"Sulconazole Nitrate|Sulconazole\"],[\"Sitaxentan\"],[\"Mexazolam\"],[\"Proflazepam\"],[\"Elliptinium Acetate|Elliptinium\"],[\"11|N-[3-(Aminomethyl)Phenyl]Naphthalene-2-Carboxamide\"],[\"Amfonelic-Acid|Amfonelic Acid\"],[\"Quinacillin\"],[\"Ipriflavone\"],[\"Phenprocoumon\"],[\"Compound-12|5-Chloro-1-(3-Chlorophenyl)Sulfonyl-4-Piperazin-1-Ylindole\"],[\"Clazolam\"],[\"Girisopam\"],[\"Oxazolam\"],[\"Arfendazam\"],[\"Ridogrel|5-[[Pyridin-3-Yl-[3-(Trifluoromethyl)Phenyl]Methylidene]Amino]Oxypentanoic Acid\"],[\"Ridogrel\"],[\"47|2-Methyl-6-Oxo-4-(1,2,4,5-Tetrahydro-3-Benzazepin-3-Yl)-1-(2,2,2-Trifluoroethyl)Pyrimidine-5-Carbonitrile\"],[\"35|9H-Xanthene-9-Carboxamide, N-[2-(1-Methylethyl)-2H-Tetrazol-5-Yl]-\"],[\"Loxapine\"],[\"Bishydroxy L-663,581 Metabolite|Bis-Hydroxylated-L-663581\"],[\"7-K06\"],[\"B-102, Asenapine, Org5222\"],[\"Zotepine\"],[\"Chlorprothixine|(3E)-3-(2-Chloro-9H-Thioxanthen-9-Ylidene)-N,N-Dimethylpropan-1-Amine\"],[\"Chlorprothixene\"],[\"9B|(2R)-2-[1-[(4-Fluorophenyl)Methyl]Benzimidazol-2-Yl]Morpholine\"],[\"10E|(2R)-2-[1-[(4-Fluorophenyl)Methyl]Benzimidazol-2-Yl]Thiomorpholine\"],[\"Klp-440|4-(4-((Dimethylamino)Methyl)Phenyl)-5-Hydroxyisoquinolin-1(2H)-One\"],[\"25 Test|2-[[2-(4-Methoxyphenyl)Quinolin-4-Yl]Amino]Ethanol\"],[\"Cefamandole\"],[\"Cefatrizine\"],[\"Ceftriaxone|Ceftriaxone Sodium|(E)-Ceftriaxone\"],[\"Dienestrol\"],[\"Felodipine\"],[\"Almoxatone\"],[\"Clozapine\"],[\"3-[4-(4-Chloro-Phenyl)-Piperazin-1-Ylmethyl]-Pyrazolo[1,5-A]Pyridine|Pyrazolo[1,5-A]Pyridine, 3-[[4-(4-Chlorophenyl)-1-Piperazinyl]Methyl]-\"],[\"Triflupromazine|Trifluopromazine\"],[\"Benzoctamine\"],[\"Ondansetron\"],[\"Cefprozil\"],[\"Cefaloglycin|Cephaloglycin\"],[\"Skb29|Bbcpd19|112598-49-9|B-059|23|N-[3-[4-[(Dimethylamino)Methyl]Pyridin-2-Yl]Phenyl]-3-Nitro-1H-Pyrrol-2-Amine\"],[\"Bis-Hydroxylated-L-663581\"],[\"Org32104|129234-06-6|Cid 22154175|B-105, Org32104|Org-32104\"],[\"Org32104\"],[\"Duloxetine\"],[\"Prothixene\"],[\"Ofloxacin\"],[\"Levofloxacin\"],[\"Mianserin|24219-97-4\"],[\"Ciclopramine\"],[\"Methdilazine\"],[\"Equilin\"],[\"Diethylstilbestrol\"],[\"Sb204484|2-(3,4-Dichlorophenyl)-1-[(8R)-8-(Pyrrolidin-1-Ylmethyl)-6,8-Dihydro-5H-[1,2,4]Triazolo[1,5-A]Pyrazin-7-Yl]Ethanone\"],[\"Clomacran\"],[\"S-1-Fluorocarazolol|(S)-Flurocarazolol\"],[\"Rabeprazole\"],[\"Alogliptin\"],[\"Bbcpd19\"],[\"Revospirone\"],[\"Azacyclonol\"],[\"Pipradrol\"],[\"Naranol\"],[\"Hydrocodone\"],[\"Isocodeine\"],[\"Codeine|76-57-3\"],[\"Oxycodone\"],[\"Protokylol Hydrochloride|Protokylol\"],[\"Phenoxybenzamine Hydrochloride|Phenoxybenzamine\"],[\"Chlorphenoxamine\"],[\"Delfaprazine\"],[\"Sifaprazine\"],[\"Mezepine\"],[\"Cyclizine\"],[\"Desipramine|50-47-5\"],[\"9-C17|N,N'-Bis(3-Ethylphenyl)Acetamidine\"],[\"1977-15-7|2-Hydroxydesipramine|Zinc 05140934|2-Oh Desm. Imipramine|Zinc-05140934\"],[\"Oxomemazine\"],[\"Propicillin\"],[\"Methopromazine\"],[\"Alimemazine|Trimeprazine|Trimeprazine, Alimemazine, Alimezine\"],[\"Liv-21|Benzyl 4-[(Pyrimidin-4-Ylamino)Methyl]Piperidine-1-Carboxylate\"],[\"Estrone\"],[\"Conjugated Estrogens|Sulfuric Acid [(13S)-13-Methyl-17-Oxo-7,8,9,11,12,14,15,16-Octahydro-6H-Cyclopenta[A]Phenanthren-3-Yl] Ester\"],[\"Ioflupane\"],[\"Robalzotan\"],[\"16Alpha-Fluoroestradiol|16Alpha-Fluoro-17Beta-Estradiol\"],[\"Atolide\"],[\"Fenetylline|Fenethylline\"],[\"Cafedrine\"],[\"Cefotiam\"],[\"Methyldihydromorphine\"],[\"Beta-Oxycodol\"],[\"Denopamine\"],[\"7-K08\"],[\"Nonaperone\"],[\"Ioversol\"],[\"Enalaprilat\"],[\"Granisetron\"],[\"Estriol\"],[\"Sankyo|2-(3,4-Dichlorophenyl)-1-[(2R)-4-Methyl-2-(Pyrrolidin-1-Ylmethyl)Piperazin-1-Yl]Ethanone\"],[\"Org13011|142494-12-0|Chebi: 568728|B-104, Org13011|Org-13011|2-Pyrrolidinone, 1-(4-(4-(4-(Trifluoromethyl)-2-Pyridinyl)-1-Piperazinyl)Butyl)-\"],[\"Dimemorfan\"],[\"Saxagliptin|2-[2-Amino-2-(3-Hydroxy-1-Adamantyl)Acetyl]-2-Azabicyclo[3.1.0]Hexane-3-Carbonitrile\"],[\"Azaloxan\"],[\"Skb37|Bbcpd24|104076-45-1|Chebi: 338961|B-064, Skb-37|28|20|2-[3-[3-(Piperidinomethyl)Phenoxy]Propylamino]Thiazole\"],[\"Gloximonam\"],[\"Cyclazocine\"],[\"Levomethorphan|Racemethorphan\"],[\"Dextromethorphan\"],[\"(1R,9R,10S)-4-Methoxy-17-Methyl-17-Azatetracyclo[7.5.3.01,10.02,7]Heptadeca-2(7),3,5-Triene\"],[\"Atromepine\"],[\"Ici197067|1-[(2S)-2-[Methyl[(3,4-Dichlorophenyl)Acetyl]Amino]-3-Methylbutyl]Pyrrolidine\"],[\"Hydroxychloroquine\"],[\"Prucalopride\"],[\"Proglumide\"],[\"Tandamine\"],[\"Nandrolone\"],[\"Tertbutylchlorambucil|Chlorambucil-Tertiary Butyl Ester|Chlorambucil-T-Butylester\"],[\"4-Iodo-Alpha,Alpha'-Dipiperidino-M-Xylene|Chebi: 385616|1-[[2-Iodo-5-(Piperidin-1-Ylmethyl)Phenyl]Methyl]Piperidine\"],[\"Dyclonine\"],[\"Propanidid\"],[\"Clofenciclan\"],[\"Bambuterol\"],[\"Lenapenem\"],[\"63659-18-7|Betaxolol|Betaxolol Hydrochloride\"],[\"Clindamycin\"],[\"Clindamycin Phosphate|[6-[2-Chloro-1-[(1-Methyl-4-Propylpyrrolidine-2-Carbonyl)Amino]Propyl]-4,5-Dihydroxy-2-Methylsulfanyloxan-3-Yl] Dihydrogen Phosphate\"],[\"Lincomycin|Lincomycin Hydrochloride\"],[\"Ethanolamine Oleate\"],[\"Kanamycin|Kanamycin Sulfate\"],[\"Dibekacin\"],[\"Tobramycin\"],[\"Dicumarol\"],[\"Diacerein\"],[\"Talazoparib\"],[\"Rebamipide\"],[\"Tosufloxacin\"],[\"Flutoprazepam\"],[\"Indomethacin|Indometacin\"],[\"Benzobarbital\"],[\"S-Warfarin|(S)-Warfarin\"],[\"Dicloxacillin|Dicloxacillin Sodium\"],[\"Butoconazole\"],[\"Flucloxacillin|Floxacillin\"],[\"Prazepam\"],[\"Cefaloridine|Cephaloridine\"],[\"Ceftiofur\"],[\"Cefozopran\"],[\"Nedocromil\"],[\"Ciprazafone\"],[\"Prazocillin\"],[\"Flutazolam\"],[\"Cyprazepam\"],[\"Camazepam\"],[\"Cloxacillin|Cloxacillin Sodium\"],[\"Rivaroxaban\"],[\"Clopipazan\"],[\"2-[(2S,3R)-1-(4-Chlorobenzoyl)-5-Methoxy-2-Methyl-2,3-Dihydroindol-3-Yl]Acetic Acid\"],[\"Cimoxatone\"],[\"21-Methyl-3,13-Diaza-21-Azoniapentacyclo[11.8.0.02,10.04,9.015,20]Henicosa-1(21),4,6,8,15,17,19-Heptaen-14-One\"],[\"Ilaprazole\"],[\"Cefcanel\"],[\"Cefamandole Nafate|O-Formylcefamandole\"],[\"Berupipam\"],[\"Phenindamine\"],[\"Perafensine\"],[\"Oxacillin|Oxacillin Sodium\"],[\"Cefaparole\"],[\"Maroxepin\"],[\"Ketotifen\"],[\"Pimethixene\"],[\"84379-13-5|Bretazenil\"],[\"Tert-Butyl 15-Bromo-12-Oxo-2,4,11-Triazatetracyclo[11.4.0.02,6.07,11]Heptadeca-1(17),3,5,13,15-Pentaene-5-Carboxylate\"],[\"Losindole\"],[\"Saripidem\"],[\"Bezafibrate\"],[\"Morniflumate\"],[\"Benfluorex\"],[\"Fluperlapine\"],[\"Gevotroline\"],[\"1-[(4-Fluorophenyl)Methyl]-2-[(3R)-Piperidin-3-Yl]Benzimidazole\"],[\"Paroxetine\"],[\"Paroxetine, Paxil|(4R)-3-(1,3-Benzodioxol-5-Yloxymethyl)-4-(4-Fluorophenyl)Piperidine\"],[\"Phenylbutazone\"],[\"Dmxba, Gts-21|(3E)-3-[(2,4-Dimethoxyphenyl)Methylidene]-5,6-Dihydro-4H-2,3'-Bipyridine\"],[\"Oxyphenbutazone\"],[\"Pioglitazone\"],[\"Minozac, Mw01-2-151Srm|Minozac Free Base\"],[\"Besifloxacin\"],[\"Trifluomeprazine\"],[\"Nadifloxacin\"],[\"Pridefine\"],[\"Indriline\"],[\"Protriptyline\"],[\"Nortriptyline\"],[\"82626-48-0|Zolpidem\"],[\"Cyamemazine\"],[\"Prazosin\"],[\"Doxepine|Doxepin|Sinequan\"],[\"Cidoxepin|Doxepin\"],[\"B-101, Beloxepin|2,10-Dimethyl-1,3,4,13B-Tetrahydrodibenzo[2,3:6,7]Oxepino[4,5-C]Pyridin-4A(2H)-Ol\"],[\"Beloxepin|135928-30-2|Org4428\"],[\"Dimeprozan\"],[\"Oxitriptyline\"],[\"Nalorphine\"],[\"Spiroxepin\"],[\"Thebaine\"],[\"Naloxone\"],[\"Pizotifen\"],[\"Brl52974|2-(3,4-Dichlorophenyl)-1-[(4R)-4-(Pyrrolidin-1-Ylmethyl)-1,4,6,7-Tetrahydroimidazo[4,5-C]Pyridin-5-Yl]Ethanone\"],[\"Sb201708|2-(3,4-Dichlorophenyl)-1-[(8R)-8-(Pyrrolidin-1-Ylmethyl)-6,8-Dihydro-5H-Imidazo[1,2-A]Pyrazin-7-Yl]Ethanone\"],[\"Sb205605\"],[\"Sb204459|2-(3,4-Dichlorophenyl)-1-[(8R)-8-[[(3R)-3-Hydroxypyrrolidin-1-Yl]Methyl]-6,8-Dihydro-5H-Imidazo[1,2-A]Pyrazin-7-Yl]Ethanone\"],[\"Trazodone\"],[\"Sparfloxacin\"],[\"Alpelisib\"],[\"Azaperone\"],[\"Gatifloxacin\"],[\"Triprolidine\"],[\"Depramine\"],[\"Amedalin\"],[\"Ketimipramine\"],[\"Hydroxindasol\"],[\"Penamecillin\"],[\"Aceprometazine\"],[\"Acepromazine\"],[\"Tiazesim\"],[\"Dimelazine\"],[\"Pecazine\"],[\"Cefoselis|(6R,7R)-3-[[3-Amino-2-(2-Hydroxyethyl)Pyrazol-1-Ium-1-Yl]Methyl]-7-[[(2E)-2-(2-Amino-1,3-Thiazol-4-Yl)-2-Methoxyiminoacetyl]Amino]-8-Oxo-5-Thia-1-Azabicyclo[4.2.0]Oct-2-Ene-2-Carboxylate\"],[\"Clomipramine\"],[\"Homochlorcyclizine\"],[\"Roxoperone\"],[\"37|6-[4-(4-Fluorophenyl)Piperidin-1-Yl]-3-(2-Methoxyethyl)-2-Methyl-5-Nitropyrimidin-4-One\"],[\"Binedaline\"],[null],[\"Liv-13|N-[(1-Cbz-4-Piperidyl)Methyl]Pyridin-4-Amine\"],[\"Hetacillin\"],[\"Oxetacillin\"],[\"Benfotiamine|S-Benzoylthiamine O-Monophosphate\"],[\"Ipsapirone\"],[\"Tetrahydrofolic Acid\"],[\"Diphenylpyraline\"],[\"Trimopam\"],[\"Meprotixol\"],[\"Reboxetine\"],[\"Mecloxamine\"],[\"Daledalin\"],[\"Monometacrine\"],[\"Prazepine\"],[\"Imipramine|113-52-0|8\"],[\"Pfizer Compound 5|Cp 100263 Dihydrochloride Hydrate\"],[\"145148-39-6|(2S,3S)-3-(2-Methoxybenzylamino)-2-Phenylpiperidine\"],[\"Palonosetron\"],[\"Labetalol\"],[\"Formoterol\"],[\"Tolamolol\"],[\"Furbucillin\"],[\"Levomepromazine|Methotrimeprazine\"],[\"Profenamine|Ethopropazine\"],[\"Cefepime|Cefepime, E-\"],[\"Testolactone\"],[\"Gr85571|1-[(2S)-4-Acetyl-2-(Pyrrolidin-1-Ylmethyl)Piperazin-1-Yl]-2-(3,4-Dichlorophenyl)Ethanone\"],[\"Gr94839|4-Acetyl-1-((3,4-Dichlorophenyl)Acetyl)-2-((3-Hydroxy-1-Pyrrolidinyl)Methyl)Piperazine\"],[\"Gr89696|Methyl 4-[2-(3,4-Dichlorophenyl)Acetyl]-3-(Pyrrolidin-1-Ylmethyl)Piperazine-1-Carboxylate\"],[\"Gr94839_C|1-[(2S)-4-Acetyl-2-[[(3R)-3-Hydroxypyrrolidin-1-Yl]Methyl]Piperazin-1-Yl]-2-(3,5-Difluorophenyl)Ethanone\"],[\"Brl52656|1-(2-Pyrrolidin-1-Ylmethyl-Piperidin-1-Yl)-2-(4-Trifluoromethyl-Phenyl)-Ethanone\"],[\"Toprilidine\"],[\"Aminopromazine\"],[\"Terazosin\"],[\"Levallorphan\"],[\"Hexapradol\"],[\"Alentemol\"],[\"Nylidrin\"],[\"Proxorphan\"],[\"Dopamantine\"],[\"Mitiglinide\"],[\"Rotigotine\"],[\"U-50488|U50488|U50,488|Trans-3,4-Dichloro-N-Methyl-N-[2-(1-Pyrrolidinyl)Cyclohexyl]-Benzeneacetamide\"],[\"Iohexol\"],[\"Pergolide\"],[null],[\"Gr94839_G|1-[(2S)-4-Acetyl-2-[[(3S)-3-Hydroxypyrrolidin-1-Yl]Methyl]Piperazin-1-Yl]-2-(3-Nitrophenyl)Ethanone\"],[\"Gr94839_E|1-[(2S)-4-Acetyl-2-[[(3S)-3-Hydroxypyrrolidin-1-Yl]Methyl]Piperazin-1-Yl]-2-(4-Nitrophenyl)Ethanone\"],[\"Ricasetron\"],[\"Amantocillin\"],[\"Dofetilide\"],[\"Dapiprazole\"],[\"Irie-13B|2-Cyano-4-(2-Hydroxyethoxy)-N-Methyl-6-(Spiro[3.5]Nonan-7-Ylmethylamino)Pyrimidine-5-Carboxamide\"],[\"Alfuzosin\"],[\"Nifekalant Hydrochloride|Nifekalant\"],[\"Talwin\"],[\"Pentazocine\"],[\"Tetrabenazine|Tetrabenzine\"],[\"Nateglinide\"],[\"Drotebanol\"],[\"Cinoctramide\"],[\"Etoperidone\"],[\"Iprindole\"],[\"Roxatidine Acetate\"],[\"15\"],[\"Etisulergine\"],[\"Glycopyrrolate|Glycopyrronium Bromide\"],[\"17-Hydroxyandrost-4-En-3-One\"],[\"Testosterone\"],[\"Iophendylate|Ethyl 10-(2-Iodophenyl)Undecanoate\"],[\"Gepirone\"],[\"Procyclidine Hydrochloride|Procyclidine\"],[\"Dipivefrine|Dipivefrin\"],[\"Tisocromide\"],[\"Idebenone\"],[\"Decimemide\"],[\"Mirincamycin\"],[\"Dicyclomine Hydrochloride|Dicyclomine\"],[\"Phenolphthalein\"],[\"Etravirine\"],[\"Sertaconazole\"],[\"210879-61-1|2-(2-Oxopropyl)-6-(2-Phenylpyrazolo[1,5-A]Pyridin-3-Yl)Pyridazin-3-One\"],[\"Ketazolam\"],[\"Floctafenine\"],[\"8\"],[\"Cefalonium\"],[\"Ceftiolene|Cefatiolene\"],[\"Pivoxazepam\"],[\"Satigrel\"],[\"Benzaprinoxide\"],[\"Prasugrel\"],[\"Befuraline\"],[\"Cefodizime\"],[\"Dinazafone\"],[\"Fipexide\"],[\"Mchr Antagonist 19|Compound-19|N-(1-(Benzo[D][1,3]Dioxol-5-Ylmethyl)Piperidin-4-Yl)-5-Chloro-1H-Indazol-3-Amine\"],[\"Fenofibrate\"],[\"Fluacizine\"],[\"Citalopram|Citalopram\\u002fEscitalopram\"],[\"Escitalopram\"],[\"Sb 239063|Cyclohexanol, 4-(4-(4-Fluorophenyl)-5-(2-Methoxy-4-Pyrimidinyl)-1H-Imidazol-1-Yl)-, Trans-\"],[\"Cyclobenzaprine|Cyclobenzaprine, Mk 130\"],[\"Octriptyline\"],[\"Imidafenacin\"],[\"28\"],[\"Pemetrexed\"],[\"Ceforanide\"],[\"Cotriptyline\"],[\"Danitracen\"],[\"Papaverine\"],[\"Gr88377|2-(3,4-Dichlorophenyl)-1-[(4S)-4-(Pyrrolidin-1-Ylmethyl)-6,7-Dihydro-4H-Furo[3,2-C]Pyridin-5-Yl]Ethanone\"],[\"Gr91272|2-(3,4-Dichloro-Phenyl)-1-[(S)-4-((R)-3-Hydroxy-Pyrrolidin-1-Ylmethyl)-6,7-Dihydro-4H-Furo[3,2-C]Pyridin-5-Yl]-Ethanone\"],[\"Dulozafone\"],[\"Brl52871|2-(3,4-Dichlorophenyl)-1-[(4S)-4-(Pyrrolidin-1-Ylmethyl)-6,7-Dihydro-4H-Thieno[3,2-C]Pyridin-5-Yl]Ethanone\"],[\"Amodiaquine\"],[\"Sb-271406|5-Chloro-N-(4-Methoxy-3-(Piperazin-1-Yl)Phenyl)-3-Methylbenzo[B]Thiophene-2-Sulfonamide\"],[\"Cmpd 31|4-[[1-(2-(2,4-Difluorophenyl)Ethyl)-4-Piperidinyl]Sulfonyl]Benzamide\"],[\"2|(R)-1-(4-Fluorobenzyl)-2-(1-Methylpiperidin-3-Yl)-1H-Benzo[D]Imidazole\"],[\"Erizepine\"],[\"Azatadine\"],[\"Metoxepin\"],[\"Cefuroxime-Axetil|Cefuroxime Axetil\"],[\"Cefuroxime Axetil|Cefuroxime Axetil, (E)-\"],[\"Cefrotil\"],[\"145877-52-7|Cp-122721|(2S,3S)-N-(2-Methoxy-5-(Trifluoromethoxy)Benzyl)-2-Phenylpiperidin-3-Amine\"],[\"Litracen\"],[\"Maprotiline\"],[\"Cianopramine\"],[\"Fezolamine\"],[\"Phenserine\"],[\"Oxiperomide\"],[\"Ro65-7674|10-(Benzenesulfonyl)-11-Methylsulfanyl-2-Piperazin-1-Yl-1,8,12-Triazatricyclo[7.3.0.03,7]Dodeca-2,7,9,11-Tetraene\"],[\"Azlocillin\"],[\"Nafenodone\"],[\"Amitriptylinoxide\"],[\"Levoprotiline\"],[\"Dexoxadrol|Dioxadrol\"],[\"Levoxadrol\"],[\"Thebacon|Acetyldihydrocodeinone\"],[\"Metixene\"],[\"Sb204454\"],[\"Sb204457\"],[\"Prochlorperazine\"],[\"Flutizenol\"],[\"Flubepride\"],[\"Diphemanil Methylsulfate|Diphemanil\"],[\"Dimethindene\"],[\"Enprazepine\"],[\"Indecainide Hydrochloride|Indecainide\"],[\"Cinchonan-9-Ol, 6'-Methoxy-, (8Alpha,9R)-\"],[\"Lucanthone\"],[\"Propiomazine\"],[\"Methiothepin\"],[\"Northioridazine|2-(Methylsulfanyl)-10-[2-(Piperidin-3-Yl)Ethyl]-10H-Phenothiazine\"],[\"10538-32-6|Northioridazine\"],[\"28|2-[5-[3-[(Dimethylamino)Methyl]Phenyl]-3-(4-Methoxyphenyl)-1,2,4-Triazol-1-Yl]Ethanol\"],[\"Bbcpd60\"],[\"Exemestane\"],[\"Ethinyl Estradiol|Ethinylestradiol\"],[\"Mefeclorazine\"],[\"Niaprazine\"],[\"Methylergonovine\"],[\"Perazine\"],[\"Cefetamet Pivoxil|Cefetametpivoxil|Cefetamet Pivoxyl\"],[\"Pf-4447943|6-((3S,4S)-4-Methyl-1-(Pyrimidin-2-Ylmethyl)Pyrrolidin-3-Yl)-1-(Tetrahydro-2H-Pyran-4-Yl)-1,5-Dihydro-4H-Pyrazolo(3,4-D)Pyrimidin-4-One\"],[\"22|N-Hexyl-2,2-Diphenylacetamide\"],[\"Normethadone\"],[\"Dienogest\"],[\"(3-Ethyl-2-Methylquinolin-6-Yl)-(4-Methoxycyclohexyl)Methanone\"],[\"Ketorfanol\"],[\"Tiagabine|Tigabine\"],[\"Benactyzine\"],[\"Talsupram\"],[\"Adafenoxate\"],[\"Gr94839_A|1-[(2S)-4-Acetyl-2-[[(3R)-3-Hydroxypyrrolidin-1-Yl]Methyl]Piperazin-1-Yl]-2-[4-(Trifluoromethyl)Phenyl]Ethanone\"],[\"Trimipramine\"],[\"Ivoqualine\"],[\"Ajmaline\"],[\"145741-95-3|Pfizer Compound 12|N-[(2-Methoxy-5-Methylsulfonylphenyl)Methyl]-2-Phenylpiperidin-3-Amine\"],[\"Binospirone\"],[\"Etymemazine\"],[\"Lisuride|Lysuride\"],[\"Glisolamide\"],[\"Norethindrone\"],[\"Skb36|Bbcpd23|104076-40-6|Chebi: 338033|B-063|27|19|2-Pyridinamine, N-[3-[3-(1-Piperidinylmethyl)Phenoxy]Propyl]-\"],[\"Imidapril Hydrochloride|Imidapril\"],[\"Cilostazol\"],[\"Glisoxepide\"],[\"Oxilorphan\"],[\"Trilostane\"],[\"Bevantolol\"],[\"Brl53087|2-(3,4-Dichlorophenyl)-1-[(2R)-4,4-Dimethyl-2-(Pyrrolidin-1-Ylmethyl)Piperidin-1-Yl]Ethanone\"],[\"Enalapril\"],[\"Terguride\"],[\"3,7-Dimethyl-9-(2,6,6-Trimethylcyclohex-1-En-1-Yl)Nona-2,4,6,8-Tetraenoic Acid\"],[\"Tretinoin\"],[\"Isotretinoin\"],[\"Ecabet\"],[\"Piperazinederivatives 6|N-[4-[2-[4-(2,3-Dichlorophenyl)Piperazin-1-Yl]Ethyl]Cyclohexyl]Acetamide\"],[\"Brifentanil\"],[\"Fluoxymesterone\"],[\"Dibucaine\"],[\"Gr94839_B|1-[(2S)-4-Acetyl-2-[[(3R)-3-Hydroxypyrrolidin-1-Yl]Methyl]Piperazin-1-Yl]-2-(4-Methylsulfanylphenyl)Ethanone\"],[\"Gr94839_D|1-[(2S)-4-Acetyl-2-[[(3R)-3-Hydroxypyrrolidin-1-Yl]Methyl]Piperazin-1-Yl]-2-(3-Methoxyphenyl)Ethanone\"],[\"Gr94839_F|1-[(2S)-4-Acetyl-2-[[(3R)-3-Hydroxypyrrolidin-1-Yl]Methyl]Piperazin-1-Yl]-2-(4-Methoxyphenyl)Ethanone\"],[\"Gr94839_I\"],[\"Urapidil\"],[\"Bremazocine|6-Ethyl-1,2,3,4,5,6-Hexahydro-3-[(1-Hydroxycyclopropyl)Methyl]-11,11-Dimethyl-2,6-Methano-3-Benzazocin-8-Ol\"],[\"Sultroponium\"],[\"Ipratropiumbromide|Atrovent\"],[\"Methyltestosterone|Androsan\"],[\"Bacmecillinam\"],[\"Benzhexol|Trihexyphenidyl\"],[\"Lubiprostone\"],[\"Adefovir Dipivoxil\"],[\"Ethylestrenol\"],[\"Drostanolone\"],[\"Hexocyclium Methylsulfate|Hexocyclium\"],[\"Talinolol\"],[\"Quinagolide\"],[\"Celiprolol\"],[\"Stacofylline\"],[\"Alprostadil\"],[\"25|4-[7-(2-Fluoro-Phenyl)-4-Oxo-4,5-Dihydro-3H-Benzo[B][1,4]Diazepin-2-Yl]-Pyridine-2-Carbonitrile\"],[\"L-701,324|7-Chloro-4-Hydroxy-3-(3-Phenoxyphenyl)Quinolin-2(1H)-One\"],[\"Regorafenib\"],[\"Deferasirox\"],[\"Cefoxazole\"],[\"Acemetacin\"],[\"Temafloxacin\"],[\"Difloxacin\"],[\"Intriptyline\"],[\"Amsacrine\"],[\"Gw406381|2-(4-Ethoxyphenyl)-3-[4-(Methylsulfonyl)Phenyl]Pyrazolo[1,5-B]Pyridazine\"],[\"210880-09-4|Compound 17|N,N-Dimethyl-2-[6-Oxo-3-(2-Phenylpyrazolo[1,5-A]Pyridin-3-Yl)Pyridazin-1-Yl]Acetamide\"],[\"Cyprolidol|Cyclopropanemethanol, Alpha,Alpha-Diphenyl-2-(4-Pyridyl)-, Hydrochloride\"],[\"Rilmazafone\"],[\"Permethrin\"],[\"Nuclotixene\"],[\"Ms-275|Entinostat\"],[\"Afe|Afzelin\"],[\"Cyanidin 3-O-Glucoside|Kuromanin\"],[\"Isoquercitrin|Isoquercetin\"],[\"Alozafone\"],[\"Pk-11195|Pk 11195|1-(2-Chlorophenyl)-N-Methyl-N-(1-Methylpropyl)-3-Isoquinolinecarboxamide\"],[\"Iclazepam\"],[\"Demeclocycline|Demeclocycline Hydrochloride\"],[\"Nizofenone\"],[\"Ziprasidone\"],[\"Cyproheptadine\"],[\"Fumoxicillin\"],[\"Nitrocycline\"],[\"Tiomergine\"],[\"Tazarotene\"],[\"Crizotinib\"],[\"Halopemide\"],[\"Axamozide\"],[\"Bms-279700|Imidazo(1,5-A)Pyrido(3,2-E)Pyrazin-6-Amine, N-(2-Chloro-6-Methylphenyl)-2-((3S)-3-Methyl-1-Piperazinyl)-\"],[\"Ftormetazine\"],[\"Demecycline\"],[\"Raltitrexed\"],[\"Clevidipine\"],[\"52-86-8|Haloperidol\"],[\"Cloperidone\"],[\"Gr 205171, Vofopitant|N-[[2-Methoxy-5-[5-(Trifluoromethyl)Tetrazol-1-Yl]Phenyl]Methyl]-2-Phenylpiperidin-3-Amine\"],[\"Amicycline\"],[\"Lenampicillin|Lenampicillin Hydrochloride\"],[\"Periciazine|Pericyazine\"],[\"Dapoxetine\"],[\"Ecadotril\"],[\"Diacetylmorphine|Diamorphine|Heroin\"],[\"Ici199441|2-(3,4-Dichlorophenyl)-N-Methyl-N-[(1S)-1-Phenyl-2-Pyrrolidin-1-Ylethyl]Acetamide\"],[\"Sya013|4-[4-(4-Chlorophenyl)-1,4-Diazepan-1-Yl]-1-(4-Fluorophenyl)Butan-1-One\"],[\"Fominoben\"],[\"Fluotracen|Fluotracene\"],[\"Trifluroperazine\"],[\"Setoperone\"],[\"Moxifloxacin Hydrochloride|Moxifloxacin\"],[\"Quinupramine\"],[\"Rauwolfia Serpentina|Lamuran\"],[\"Mirabegron\"],[\"Acefurtiamine\"],[\"Gestrinone\"],[\"Halopredone\"],[\"Bepotastine\"],[\"83881-51-0|Cetirizine\"],[\"Levocetirizine\"],[\"Chloroprednisone\"],[\"Cloprednol\"],[\"Melitracen\"],[\"Terbinafine|91161-71-6\"],[\"190275-53-7|Pfizer Compound 19|N-[(6-Methoxy-2-Methyl-1,3-Benzoxazol-5-Yl)Methyl]-2-Phenylpiperidin-3-Amine\"],[\"Quetiapine\"],[\"163257-80-5|Pfizer Compound 17|N-[(6-Methoxy-2-Methyl-1,3-Benzothiazol-5-Yl)Methyl]-2-Phenylpiperidin-3-Amine\"],[\"71351-79-6|Icotidine|B-039, Icotidine|Skf 93319|3\"],[\"Mezlocillin\"],[\"Hepzidine\"],[\"Benzatropine|Benztropine\"],[\"Nalmefene\"],[\"Pipethanate|Piperilate\"],[\"Nalmexone\"],[\"Methylnaltrexone Bromide|Methylnaltrexone\"],[\"Tetrahydropalmatine\"],[\"(+)-Tetrahydropalmatine|D-Tetrahydropalmatine\"],[\"Dichlorisone\"],[\"Nemonapride|(2S,3S)-Nemonapride\"],[\"Nemonapride\"],[\"Perphenazine\"],[\"Clemastine\"],[\"Fluocinolone\"],[\"Lorpiprazole\"],[null],[\"Sulforidazine|14759-06-9\"],[\"Yohimbine\"],[\"Vincamine\"],[\"Nimodipine\"],[\"Oxyridazine\"],[\"32672-69-8|Mesoridazine\"],[\"Thioridazine|50-52-2\"],[\"Skb25|112598-43-3|Bbcpd60|Chebi: 338035|21|4-Benzyl-N-[2-[[5-[(Dimethylamino)Methyl]Furan-2-Yl]Methylsulfanyl]Ethyl]-3-Nitro-1H-Pyrrol-2-Amine\"],[\"Cefclidin\"],[\"Mepenzolate Bromide|Mepenzolate\"],[\"Methantheline Bromide|Methantheline\"],[\"Gestodene\"],[\"Mestranol\"],[\"Prednisone\"],[\"Hydroxyzine|68-88-2\"],[\"(S)-Hydroxyzine\"],[\"Loteprednol\"],[\"Anisopirol\"],[\"Descinolone\"],[\"Isoflupredone\"],[\"Butriptyline\"],[\"Budipine\"],[\"Rimcazole\"],[\"Emd60400\"],[\"Methysergide\"],[\"Sarmoxicillin\"],[\"Bacampicillin Hydrochloride|Bacampicillin\"],[\"B-057\"],[\"Lupitidine|Lupitidinum|2-[2-[[5-(2-Aminopropan-2-Yl)Furan-2-Yl]Methylsulfanyl]Ethylamino]-5-[(6-Methylpyridin-3-Yl)Methyl]-1H-Pyrimidin-6-One\"],[\"Lupitidine|83903-06-4|B-041, Lupitidine\"],[\"Glipizide\"],[\"Aspoxicillin\"],[\"Methadone\"],[\"Ifenprodil\"],[\"Propafenone\"],[\"Nalbuphine\"],[\"Dydrogesterone\"],[\"Norgestrel|Ovrette\"],[\"Levonorgestrel|Norgestrel\"],[\"Tibolon|17-Hydroxy-7Alpha-Methyl-19-Nor-17Alpha-Pregn-5(10)-En-20-Yn-3-One\"],[\"Tibolone|5630-53-5\"],[\"Prednisolone\"],[\"Aldosterone\"],[\"Gr89696_Pr|Propyl (3S)-4-[2-(3,4-Dichlorophenyl)Acetyl]-3-(Pyrrolidin-1-Ylmethyl)Piperazine-1-Carboxylate\"],[\"Fluciprazine\"],[\"Fenaperone\"],[\"Fludrocortisone\"],[\"Disopyramide\"],[\"5\"],[\"8-5\"],[\"Bufenadrine\"],[\"Betamethadol\"],[\"Alphamethadol\"],[\"Biperiden|Biperidine\"],[\"Norelgestromin|E-17-Deacetylnorgestimate\"],[\"Butorphanol\"],[\"Captodiame\"],[\"Pipamperone\"],[\"Docarpamine\"],[\"Cannabidiol\"],[\"Algestone\"],[\"Cortodoxone Cortifen|Cortodoxone\"],[\"Epicorticosterone\"],[\"Corticosterone\"],[null],[\"Piperazinederivatives 7|N-[4-[2-[4-(2,3-Dichlorophenyl)Piperazin-1-Yl]Ethyl]Cyclohexyl]Propanamide\"],[\"Lisinopril\"],[\"Adatanserin\"],[\"Buspirone\"],[\"Stanozolol\"],[\"77-Lh-28-1|1-[3-(4-Butylpiperidin-1-Yl)Propyl]-3,4-Dihydroquinolin-2-One\"],[\"Alfentanil|Alfentanil Hydrochloride\"],[\"Allylestrenol\"],[\"Cyclopregnol\"],[\"Pregnenolone\"],[\"Alfaxalone\"],[\"Renanolone\"],[\"Alfadolone\"],[\"Eptastigmine\"],[\"Ramciclane\"],[\"Sameridine\"],[\"Oxyphenonium Bromide|Oxyphenonium\"],[\"Pregnanolone\"],[\"Tridihexethyl Chloride|Tridihexethyl\"],[\"Apramycin\"],[\"Dihydrostreptomycin\"],[\"Propikacin\"],[\"Gentamicin\"],[\"Miltefosine\"],[\"N-Hexadecylphosphonocholine\"],[\"19|N-[[3,5-Bis(Trifluoromethyl)Phenyl]Methyl]-4-(2-Chlorophenyl)-N-Methylpyridine-3-Carboxamide\"],[\"Flutrimazole\"],[\"Piriqualone|4(3H)-Quinazolinone, 2-[2-(2-Pyridyl)Vinyl]-3-O-Tolyl-\"],[\"Bifonazole\"],[\"Axitinib\"],[\"Rilpivirine\"],[\"Atovaquone\"],[\"Tadalafil\"],[\"Fr 260010|N-(3-(4-Methyl-1H-Imidazol-1-Yl)Phenyl)-5,6-Dihydrobenzo(H)Quinazolin-4-Amine\"],[\"Bisacodyl\"],[\"Rilapine\"],[\"Lufuradom\"],[\"Tifluadom\"],[\"Benzindopyrine\"],[\"Cefsulodin|Sdccgsbi-0050247.P002\"],[\"Rimonabant\"],[\"Meclocycline\"],[\"Cefempidone\"],[\"Cetocycline\"],[\"Clofluperol\"],[\"Suproclone\"],[\"Balaperidone|Belaperidone\"],[\"Droperidol\"],[\"Fenbenicillin\"],[\"Cefpirome|1-[[(6R,7R)-7-[[(2Z)-(2-Amino-4-Thiazolyl)(Methoxyimino)Acetyl]Amino]-2-Carboxy-8-Oxo-5-Thia-1-Azabicyclo[4.2.0]Oct-2-En-3-Yl]Methyl]-6,7-Dihydro-5H-Cyclopenta[B]Pyrindinium Inner Salt\"],[\"Ceftazidime|2-[(E)-[1-(2-Amino-1,3-Thiazol-4-Yl)-2-[[(6R,7R)-2-Carboxy-8-Oxo-3-(Pyridin-1-Ium-1-Ylmethyl)-5-Thia-1-Azabicyclo[4.2.0]Oct-2-En-7-Yl]Amino]-2-Oxoethylidene]Amino]Oxy-2-Methylpropanoate\"],[\"Bisantrene Hydrochloride|N-[(Z)-[10-[(Z)-(4,5-Dihydro-1H-Imidazol-2-Ylhydrazinylidene)Methyl]Anthracen-9-Yl]Methylideneamino]-4,5-Dihydro-1H-Imidazol-2-Amine\"],[\"Podofilox\"],[\"Milenperone\"],[\"Cloroperone\"],[\"Trifluperidol\"],[\"Ai-9|Mp 005-942-485|Revaprazan\"],[\"Neflumozide\"],[\"26|N-(2-Amino-5-Phenylphenyl)-4-[(Dimethylamino)Methyl]Benzamide\"],[\"Noscapine\"],[\"Gefitinib|Iressa, Gefitinib\"],[\"Compound-5D|8-Chloro-2-(3-(4-Phenylpiperidin-1-Yl)Propyl)Quinazolin-4(3H)-One\"],[\"Tefludazine\"],[\"Declenperone\"],[\"Zoloperone\"],[\"Timiperone\"],[\"Pipequaline\"],[\"Angell-Br|N~3~-Cyclopropyl-N~4~'-(Cyclopropylmethyl)-6-Methylbiphenyl-3,4'-Dicarboxamide\"],[\"Acrivastine\"],[\"Tetracycline|Tetracycline Hydrochloride\"],[\"Oxytetracycline\"],[\"Mirfentanil\"],[\"Arbidol\"],[\"Ertugliflozin\"],[\"Nebivolol\"],[\"10-[3-(4-Methylpiperidin-1-Yl)Propyl]-2-(Trifluoromethyl)Phenothiazine\"],[\"Trimethaphan\"],[\"Vesnarinone\"],[\"Moricizine Hydrochloride|Moricizine\"],[\"161499-49-6|Pfizer Compound 15|N-[[2-Methoxy-5-(1,3-Thiazol-2-Yl)Phenyl]Methyl]-2-Phenylpiperidin-3-Amine\"],[\"Napitane\"],[\"Tamibarotene\"],[\"N-(1,2,3,10-Tetramethoxy-9-Oxo-5,6,7,9-Tetrahydrobenzo[A]Heptalen-7-Yl)Acetamide\"],[\"Colchicine\"],[\"Clobetasone\"],[\"Dasatinib\"],[\"Spiramide\"],[\"Sabeluzole\"],[\"Cid 9844747\"],[\"Moperone\"],[\"I-1\"],[\"Vinpocetine\"],[\"Eletriptan\"],[\"Tofisoline\"],[\"Dilacor Xr\"],[\"Diltiazem\"],[\"Tameridone\"],[\"Clidinium Bromide|Clidiniumbromide|Clidinium\"],[\"Halocortolone\"],[\"Cloticasone\"],[\"Halometasone\"],[\"Avizafone\"],[\"145742-21-8|Pfizer Compound 11|2-Phenyl-N-[[2-Propan-2-Yloxy-5-(Trifluoromethoxy)Phenyl]Methyl]Piperidin-3-Amine\"],[\"Fluticasone\"],[\"Cormetasone|Cormethasone\"],[\"Ocfentanil\"],[\"Skb42|Bbcpd26|104076-32-6|Chebi: 339055|B-066, Skb-42|30|22|N-(3-{3-[(Piperidin-1-Yl)Methyl]Phenoxy}Propyl)-1,3-Benzoxazol-2-Amine\"],[\"Metopimazine\"],[\"Phenazocine\"],[\"Lobeline|Inflatine\"],[\"Amineptine\"],[\"Meclorisone\"],[\"Clocortolone\"],[\"Clobetasol\"],[\"Diflucortolone\"],[\"Ticabesone\"],[\"Diflorasone\"],[\"Prifinium\"],[\"Fentanyl\"],[\"Anileridine\"],[\"Skb31|Bbcpd21|112598-52-4|B-061|25|17|Benzamide, N-[3-[3-(1-Piperidinylmethyl)Phenoxy]Propyl]-\"],[\"Perimetazine\"],[\"Mitoxantrone\"],[\"Delavirdine Mesylate|Delavirdine\"],[\"Ceftizoxime Alapivoxil|2,2-Dimethylpropanoyloxymethyl (6R,7R)-7-[[(2Z)-2-[2-[[(2S)-2-Aminopropanoyl]Amino]-1,3-Thiazol-4-Yl]-2-Methoxyiminoacetyl]Amino]-8-Oxo-5-Thia-1-Azabicyclo[4.2.0]Oct-2-Ene-2-Carboxylate\"],[\"Bevonium\"],[\"Etonogestrel\"],[\"Isoprednidene\"],[\"Prednylidene\"],[\"Beclometasone|Beclomethasone\"],[\"Sofosbuvir\"],[\"Desoximetasone\"],[\"Fluorometholone\"],[\"Timobesone\"],[\"Paramethasone\"],[\"Fluperolone\"],[\"Dexamethasone\"],[\"Lafutidine\"],[\"Pivampicillin\"],[\"Thiethylperazine\"],[\"Levopropoxyphene\"],[\"Dextropropoxyphene|Propoxyphene\"],[\"Chlorhexidine|Nolvasan\"],[\"Spiradoline\"],[\"145742-16-1|Pfizer Compound 8|N-[(2-Methoxy-5-Propan-2-Ylphenyl)Methyl]-2-Phenylpiperidin-3-Amine\"],[\"Pirmenol\"],[\"Sufentanil\"],[\"Spirapril\"],[\"Thioproperazine\"],[\"2-[[2-[[1-(2-Azanylethyl)Piperidin-4-Yl]Amino]-4-Methyl-Benzimidazol-1-Yl]Methyl]-6-Methyl-Pyridin-3-Ol\"],[\"Endrisone\"],[\"Valtrate\"],[\"Tipredane\"],[\"Gadobenate Dimeglumine|2-[2-[2-[Bis(Carboxymethyl)Amino]Ethyl-(Carboxymethyl)Amino]Ethyl-(Carboxymethyl)Amino]-3-Phenylmethoxypropanoic Acid\"],[\"Cilazapril\"],[\"Benzquinamide\"],[\"Distigmine\"],[\"3-(6-(Dimethylamino)-4-Methylpyridin-3-Yl)-2,5-Dimethyl-N,N-Dipropylpyrazolo[1,5-A]Pyrimidin-7-Amine\"],[\"Medrysone\"],[\"Resocortol\"],[\"Didrovaltrate\"],[\"Sobuzoxane\"],[\"Alfentanil, Rapifen|N-Despropionaldehyde Alfentanil-N-Butyraldehyde\"],[\"Icosapent Ethyl\"],[\"Tirofiban\"],[\"Ganaxolone\"],[\"Misoprostol\"],[\"Isepamycin\"],[\"Arbekacin\"],[\"Butikacin\"],[\"Docosanol\"],[\"Cromoglicicacid|Cromolyn\"],[\"Vemurafenib\"],[\"Pfizer Compound 1|(R)-2H [Pmid:19625189]\"],[\"42|N-(3,5-Bis(Trifluoromethyl)Benzyl)-N-Methyl-4-O-Tolylnicotinamide\"],[\"Sibopirdine\"],[\"3\"],[\"24|9-(3,5-Bis-Trifluoromethyl-Benzoyl)-5-Phenyl-1-Oxa-3,9-Diaza-Spiro[5.5]Undecan-2-One\"],[\"Sulfinpyrazone\"],[\"Loprazolam\"],[\"Chlorotrianisene\"],[\"Aprepitant\"],[\"Minokine, Mw01-2-069Srm|3-Phenyl-4-(Pyridin-4-Yl)-6-[4-(Pyrimidin-2-Yl)Piperazin-1-Yl]Pyridazine\"],[\"Pagoclone\"],[\"Carfecillin\"],[\"Mchr Antagonist 8|6-Chloro-4-[1-(2,3-Dihydro-Benzofuran-5-Ylmethyl)-Piperidin-4-Ylamino]-Chromen-2-One\"],[\"5D|(E)-N-(2-(2-(Trifluoromethyl)-1H-Indol-1-Yl)Ethyl)-3-(3,4,5-Trimethoxyphenyl)Acrylamide\"],[\"Topotecan\"],[\"202646-80-8|Fr194921|Compound 32|3(2H)-Pyridazinone, 2-(1-Methyl-4-Piperidinyl)-6-(2-Phenylpyrazolo(1,5-A)Pyridin-3-Yl)-\"],[\"Pralatrexate\"],[\"Cinuperone\"],[\"Prideperone\"],[\"1|Antihistamine-1\"],[\"Cefquinome|1-[[(6R,7R)-7-[[(2Z)-(2-Amino-4-Thiazolyl)(Methoxyimino)Acetyl]Amino]-2-Carboxy-8-Oxo-5-Thia-1-Azabicyclo[4.2.0]Oct-2-En-3-Yl]Methyl]-5,6,7,8-Tetrahydro-Quinolinium Inner Salt\"],[\"Cyclofenil\"],[\"Bsp|P-Bromospiperone|4-Bromospiperone\"],[\"Clomocycline\"],[\"Fluspiperone\"],[\"Flupenthixol\"],[\"Flupentixol\"],[\"Diacetylnalorphine\"],[\"Piperidinederivatives 1|4-Bromo-N-[4-[4-[3-(Trifluoromethyl)Phenoxy]Piperidin-1-Yl]Butyl]Benzamide\"],[\"Avanafil\"],[\"Ciclofenazine|Cyclophenazine\"],[\"Spiperone\"],[\"Fostamatinib\"],[\"Roxindole\"],[\"Solifenacin\"],[\"5A|(E)-N-(2-(2-Methyl-1H-Indol-1-Yl)Ethyl)-3-(3,4,5-Trimethoxyphenyl)Acrylamide\"],[\"Panamesine\"],[\"Pinoxepin\"],[\"Chloroprednisone-Acetate|Chloroprednisone Acetate\"],[\"Flupimazine\"],[\"Risperidone\"],[\"9-Oh Risperidone|9-Hydroxy Risperidone|Paliperidone\"],[\"9-Oh-Risperidone|(R)-Paliperidone\"],[\"9-Hydroxyrisperidone|9-Hydroxy-Risperidone\"],[\"Quilostigmine\"],[\"Minocycline\"],[\"163257-85-0|Pfizer Compound 24|N-[(2-Cyclopropyl-6-Methoxy-1,3-Benzothiazol-5-Yl)Methyl]-2-Phenylpiperidin-3-Amine\"],[\"Piperacillin\"],[\"Micinicate|Nicotinoyl Cyclandelate\"],[\"Morphine-3-Glucuronide\"],[\"Dichlorisone-Acetate|Dichlorisone Acetate\"],[\"Thiopropazate\"],[\"Glibenclamide|Glyburide\"],[\"Homofenazine|Homophenazine\"],[\"Bopindolol\"],[\"Tropapride\"],[\"Temocapril\"],[\"Cefuroxime-Pivoxetil|1-(2-Methoxy-2-Methylpropanoyl)Oxyethyl (6R,7R)-3-(Carbamoyloxymethyl)-7-[[(2Z)-2-(Furan-2-Yl)-2-Methoxyiminoacetyl]Amino]-8-Oxo-5-Thia-1-Azabicyclo[4.2.0]Oct-2-Ene-2-Carboxylate\"],[\"Pac-1\"],[\"Forasartan\"],[\"Xanthiol\"],[\"Amperozide\"],[\"145742-01-4|Pfizer Compound 9|N-[[5-Tert-Butyl-2-(Trifluoromethoxy)Phenyl]Methyl]-2-Phenylpiperidin-3-Amine\"],[\"Isoflupredone-Acetate|Isoflupredone Acetate\"],[\"Opipramol\"],[\"Oxypertine\"],[\"163257-90-7|Pfizer Compound 16|1-[4-Methoxy-3-[[(2-Phenylpiperidin-3-Yl)Amino]Methyl]Phenyl]Pyrrolidin-2-One\"],[\"Acetophenazine\"],[\"Tiotixene|Thiothixene\"],[\"Rp60180|N-Propyl-10-[(2S)-1-Pyrrolidin-1-Ylpropan-2-Yl]Phenothiazine-2-Carboxamide\"],[\"Spac-1|N-[(E)-(2-Hydroxy-3-Prop-2-Enylphenyl)Methylideneamino]-2-[4-[(4-Sulfamoylphenyl)Methyl]Piperazin-1-Yl]Acetamide\"],[\"Phenoperidine\"],[\"Conorfone\"],[\"Propiverine\"],[\"Fenbutrazate\"],[\"Quinacrine\"],[\"Piminodine\"],[\"Perospirone\"],[\"Compound 6H\"],[\"Propantheline\"],[\"Etodroxizine\"],[\"Dimesone\"],[\"160502-85-2|Pfizer Compound 14|N-[(5-Methoxy-2-Methyl-1-Methylsulfonyl-2,3-Dihydroindol-6-Yl)Methyl]-2-Phenylpiperidin-3-Amine\"],[\"Acetylmethadol|Levomethadyl|Methadyl Acetate\"],[\"Betacetylmethadol\"],[\"Levacetylmethadol|Levomethadyl Acetate\"],[\"Alphacetylmethadol\"],[\"Norgestimate|Syn-Norgestimate\"],[\"Mycophenolate Mofetil\"],[\"Compound-7B|1-(4-(4-(2-Tert-Butyl-6-(Trifluoromethyl)Pyrimidin-4-Yl)Piperazin-1-Yl)Butyl)-4-Methylpyridin-2(1H)-One\"],[\"Isopropamide Iodide|Isopropamide\"],[\"Enciprazine\"],[\"Estradiol Valerate\"],[\"Hydrocortisone-Acetate|Hydrocortisone Acetate\"],[\"Propyperone\"],[\"Tameticillin\"],[\"Irie-15|2-Cyano-N-Methyl-4-(Piperidin-4-Ylmethoxy)-6-(Spiro[3.5]Nonan-7-Ylmethylamino)Pyrimidine-5-Carboxamide\"],[\"Treprostinil\"],[\"Mevastatin\"],[\"Tonazocine|1-[(1R,9S)-4-Hydroxy-1,10,13-Trimethyl-10-Azatricyclo[7.3.1.02,7]Trideca-2(7),3,5-Trien-13-Yl]Octan-3-One\"],[\"Argatroban\"],[\"Paromomycin Sulfate|Paromomycin\"],[\"Framycetin\"],[\"Tolufazepam\"],[\"Fenticonazole Nitrate|Fenticonazole\"],[\"Xaliproden\"],[\"Talampicillin\"],[\"Compound-S16D|8-Chloro-2-[3-(4-Phenylpiperidin-1-Yl)Cyclopenten-1-Yl]-3H-Quinazolin-4-One\"],[\"Abecarnil\"],[\"Piflutixol|Piflutixolum\"],[\"Piflutixol\"],[\"Ocaperidone\"],[\"Mizolastine\"],[\"Panuramine\"],[\"141060-39-1|Compound 28|6-(2-Phenylpyrazolo[1,5-A]Pyridin-3-Yl)-2-(2-Piperidin-1-Ylethyl)Pyridazin-3-One\"],[\"Flavoxate\"],[\"Tixadil\"],[\"Nicergoline\"],[\"Sertindole\"],[\"Biriperone\"],[\"Nicodicodine\"],[\"Carvedilol\"],[\"Ropizine|Ropazine\"],[\"Olmesartan\"],[\"Pirbenicillin\"],[\"Cube-10\"],[null],[\"Furomazine\"],[\"Octocrylene\"],[\"Levophenacylmorphan\"],[\"Tralonide\"],[\"Triclonide\"],[\"Amiperone\"],[\"Clotixamide|3-[4-[(3Z)-3-(2-Chlorothioxanthen-9-Ylidene)Propyl]Piperazin-1-Yl]-N-Methylpropanamide\"],[\"Spirilene\"],[\"Msp|N-Methylspiroperidol|3-N-Methylspiperone\"],[\"Risperidone-9-Oh\"],[\"Indacaterol\"],[\"Benazepril\"],[\"Bexarotene\"],[\"Fluclorolone-Acetonide|(4R,8S,9S,11S,12R,13S,19S)-11,12-Dichloro-19-Fluoro-8-(2-Hydroxyacetyl)-6,6,9,13-Tetramethyl-5,7-Dioxapentacyclo[10.8.0.02,9.04,8.013,18]Icosa-14,17-Dien-16-One\"],[\"Jhw 007\"],[\"Cormetasone-Acetate|[2-Oxo-2-[(9R,10S,11S,13S,14S,16R,17R)-6,6,9-Trifluoro-11,17-Dihydroxy-10,13,16-Trimethyl-3-Oxo-8,11,12,14,15,16-Hexahydro-7H-Cyclopenta[A]Phenanthren-17-Yl]Ethyl] Acetate\"],[\"Aceperone\"],[\"Acrocinonide\"],[\"Sarecycline\"],[\"Zalospirone\"],[\"Valsartan\"],[\"Dexclamol\"],[\"Phenomorphan\"],[\"120014-06-4|Donepezil|Donepezil, Aricept\"],[\"Clocortolone-Acetate|Clocortolone Acetate\"],[\"Edoxaban\"],[\"Compound A|N-[1-[(6-Aminopyridin-2-Yl)Methyl]Piperidin-4-Yl]-2-(3,3-Difluorocyclopentyl)-2-Hydroxy-2-Phenylacetamide\"],[\"Fluocinolone-Acetonide|Fluocinolone Acetonide\"],[\"Doxapram\"],[\"Piperacetazine\"],[\"163257-64-5|Pfizer Compound 20|N-[[5-(3,5-Dimethylpyrazol-1-Yl)-2-Methoxyphenyl]Methyl]-2-Phenylpiperidin-3-Amine\"],[\"Cube-6\"],[\"Descinolone-Acetonide|Descinolone Acetonide\"],[\"Fluorometholone-Acetate|Fluorometholone Acetate\"],[\"Fluperolone-Acetate|Fluperolone Acetate\"],[\"Dexamethasone-Acetate|Dexamethasone Acetate\"],[\"Triamcinolone-Acetonide|Triamcinolone Acetonide\"],[\"Flunisolide\"],[\"Homopipramol\"],[\"Mirisetron\"],[\"Carfenazine|Carphenazine\"],[\"Milipertine\"],[\"Drotaverine\"],[\"Sarpogrelate\"],[\"Halcinonide\"],[\"Tiospirone\"],[\"Acevaltrate\"],[\"Desonide\"],[\"Fludroxycortide|Flurandrenolide\"],[\"Dixyrazine\"],[\"Pipotiazine|Pipothiazine\"],[\"Bepridil\"],[\"Trandolapril\"],[\"Glimepiride\"],[\"Rimexolone\"],[\"Algestone-Acetonide|Algestone Acetonide\"],[\"Dehydrocholic|3,7,12-Trioxocholan-24-Oic Acid\"],[\"Dehydrocholic Acid\"],[\"Drocinonide\"],[\"Ximelagatran|Ethyl 2-[[(1R)-1-Cyclohexyl-2-[(2S)-2-[[4-(N'-Hydroxycarbamimidoyl)Phenyl]Methylcarbamoyl]Azetidin-1-Yl]-2-Oxoethyl]Amino]Acetate\"],[\"Irie-10B|2-Cyano-N-Methyl-4-((1-Methylpiperidin-4-Yl)Methoxy)-6-(Spiro[3.5]Nonan-7-Ylmethylamino)Pyrimidine-5-Carboxamide\"],[\"Nabilone\"],[\"Lovastatin\"],[\"Dipyridamole\"],[\"Pf-02545920|Mardepodect\"],[\"Saprisartan\"],[\"Telotristat\"],[\"Skb_A|Talnetant\"],[\"Eltrombopag\"],[\"Pazinaclone\"],[\"5-(4-Ethylphenyl)-13-[Methyl(2-Pyridin-2-Ylethyl)Amino]-8-Thia-3,5,10-Triazatricyclo[7.4.0.02,7]Trideca-1(13),2(7),3,9,11-Pentaen-6-One\"],[\"Mchr Antagonist 7C|Thieno[3,2-D]Pyrimidin-4(3H)-One, 6-(4-Chlorophenyl)-3-[3-Methoxy-4-[2-(1-Pyrrolidinyl)Ethoxy]Phenyl]-\"],[\"Cefpiramide\"],[\"Apixaban\"],[\"Savoxepin\"],[\"Tipr-Dcka\"],[\"Mppf|4-Fluoro-N-[2-[4-(2-Methoxyphenyl)Piperazin-1-Yl]Ethyl]-N-Pyridin-2-Ylbenzamide\"],[\"Cefoperazone\"],[\"Cinfenine\"],[\"Cinperene\"],[\"16\"],[\"145459-26-3|Skf93319|B-040, Skf-93619|4|Skf-93619|24|2-[2-[[5-[(Dimethylamino)Methyl]Furan-2-Yl]Methylsulfanyl]Ethylamino]-5-(Naphthalen-2-Ylmethyl)-1H-Pyrimidin-6-One\"],[\"Irbesartan\"],[\"Linagliptin\"],[\"Halopredone-Acetate|Halopredone Acetate\"],[\"Besp|1-(4-Bromophenyl)-3-Ethyl-8-[4-(4-Fluorophenyl)-4-Oxobutyl]-1,3,8-Triazaspiro[4.5]Decan-4-One\"],[\"Proc-22I|(R)-4-(2,4-Difluorobenzoyl)-1-(4-(3-(2-Methylpyrrolidin-1-Yl)Propoxy)Phenyl)Piperazin-2-One Formic Acid\"],[\"Amiodarone|Amiodarone Hydrochloride\"],[\"Sb-656104-A|6-[(2R)-2-[2-[4-(4-Chlorophenoxy)Piperidin-1-Yl]Ethyl]Pyrrolidin-1-Yl]Sulfonyl-1H-Indole\"],[\"Proc-19D|4-(4-Fluorobenzoyl)-1-[4-(3-Piperidin-1-Ylpropoxy)Phenyl]Piperazin-2-One\"],[\"Fluazacort\"],[\"Quinapril\"],[\"Gentian Violet|Gentian Violet Cation\"],[\"Sultamicillin\"],[\"Erdafitinib\"],[\"Trospium\"],[\"Compound-4H|N-[1-[[5-Chloro-2-(2-Methylpropoxy)Phenyl]Methyl]-5-Methylpyrazol-3-Yl]-4-(Ethylaminomethyl)Benzamide\"],[\"Fluticasone-Propionate|Fluticasone Propionate\"],[\"Trefentanil\"],[\"Butaclamol\"],[\"Deflazacort\"],[\"Clobetasol-Propionate|Clobetasol Propionate\"],[\"Nefazodone\"],[\"Imiclopazine\"],[\"Ticabesone-Propionate|Ticabesone Propionate\"],[\"Silodosin\"],[\"142852-50-4|Zanapezil|Tak-147\"],[\"Racemoramide\"],[\"Lofentanil\"],[\"Tioperidone\"],[\"164352-88-9|Pfizer Compound 18|N-(4,5-Dimethyl-1,3-Thiazol-2-Yl)-N-[4-Methoxy-3-[[(2-Phenylpiperidin-3-Yl)Amino]Methyl]Phenyl]Methanesulfonamide\"],[\"Quinestrol\"],[\"Prednisolone-Hemisuccinate|Prednisolone Hemisuccinate\"],[\"5|5-Allyl-2-(Cyclopropylmethyl)-8-[(4-Methylpiperidin-1-Yl)Carbonyl]-2,3,4,5-Tetrahydro-1H-Pyrido[4,3-B]Indole\"],[\"Etorphine\"],[\"Tafluprost\"],[\"Rofleponide\"],[\"Ingenol Mebutate\"],[\"Hydrocortisone-Hemisuccinate|Hydrocortisone Hemisuccinate\"],[\"Amesergide\"],[\"29|Unii-4L8Eg56Vda\"],[\"[(3R)-Oxolan-3-Yl] N-[(2S,3R)-4-[(4-Aminophenyl)Sulfonyl-(2-Methylpropyl)Amino]-3-Hydroxy-1-Phenylbutan-2-Yl]Carbamate\"],[\"161814-49-9|Amprenavir\"],[\"Mebeverine\"],[\"Fosamprenavir\"],[\"Irie-16C|4-((1-Acetylpiperidin-4-Yl)Methoxy)-2-Cyano-N-Methyl-6-(Spiro[3.5]Nonan-7-Ylmethylamino)Pyrimidine-5-Carboxamide\"],[\"Udenafil\"],[\"Pregnenolone-Succinate\"],[\"Hydrocortisone-Butyrate|Hydrocortisone Butyrate\"],[\"Salmeterol\"],[\"Simvastatin\"],[\"Simvastatin Acid\"],[\"Acarbose|Glucobay\"],[\"Minaxolone\"],[\"Deferoxamine\"],[\"Linopirdine\"],[\"Trametinib\"],[\"Acalabrutinib\"],[\"18|N-(4-Amino-2'-Methyl-Biphenyl-2-Yl)-2-(3,5-Bis-Trifluoromethyl-Phenyl)-N-Methyl-Isobutyramide\"],[\"3-Methyl-2-Phenyl-N-(1-Phenylpropyl)-Quinoline-4- Carboxamide|3-Methyl-2-Phenyl-N-(1-Phenylpropyl)Quinoline-4-Carboxamide\"],[\"Sb222200|Sb-222200|Sb 222200|3-Methyl-2-Phenyl-N-[(1S)-1-Phenylpropyl]Quinoline-4-Carboxamide\"],[\"Tolvaptan\"],[\"Lirequinil\"],[\"Flunarizine\"],[\"Azipramine\"],[\"Carindacillin|Carbenicillin Indanyl Sodium|Carbenicillin Indanyl\"],[\"Bentiamine\"],[\"Lofepramine\"],[\"163257-84-9|Pfizer Compound 23|N-[(6-Methoxy-2-Phenyl-1,3-Benzothiazol-5-Yl)Methyl]-2-Phenylpiperidin-3-Amine\"],[\"Vilazodone\"],[\"Medorubicin\"],[\"Carubicin\"],[\"Idarubicin|Dm5\"],[\"Ketoconazole|(+)-Ketoconazole\"],[\"Ketoconazole|1-[4-[4-[[(2S)-2-(2,4-Dichlorophenyl)-2-(Imidazol-1-Ylmethyl)-1,3-Dioxolan-4-Yl]Methoxy]Phenyl]Piperazin-1-Yl]Ethanone\"],[\"Fibracillin\"],[\"Toremifene\"],[\"Clomifene|Enclomiphene\"],[\"Piperidinederivatives 3|N-[4-[4-[3-(Trifluoromethyl)Phenoxy]Piperidin-1-Yl]Butyl]Quinoline-4-Carboxamide\"],[\"Cinnarizine\"],[\"Pyrvinium|2-[2-(2,5-Dimethyl-1-Phenylpyrrol-3-Yl)Ethenyl]-N,N,1-Trimethylquinolin-1-Ium-6-Amine\"],[\"Bosutinib\"],[\"Almitrine\"],[\"Cabastine\"],[\"Levocabastine Hydrochloride|Levocabastine\"],[\"Sb-649915|6-[[1-[2-(2-Methylquinolin-5-Yl)Oxyethyl]Piperidin-4-Yl]Methyl]-4H-1,4-Benzoxazin-3-One\"],[\"Compound 14B|N-(2,6-Dimethylphenyl)-5-[4-(2-Pyrrolidin-1-Ylethoxy)Phenyl]Imidazo[1,5-A]Pyrazin-8-Amine\"],[\"Compound-14E|N-(2,6-Dimethylphenyl)-5-[3-(2-Pyrrolidin-1-Ylethoxy)Phenyl]Imidazo[1,5-A]Pyrazin-8-Amine Hydrochloride\"],[\"2-[4-(1,2-Diphenylbut-1-Enyl)Phenoxy]-N,N-Dimethylethanamine\"],[\"Tamoxifen|Tamoxifen, Nolvadex\"],[\"Halofantrine Hydrochloride|Halofantrine\"],[\"Proc-37C|4-(4-Chlorobenzoyl)-1-[4-(1-Cyclobutylpiperidin-4-Yl)Oxyphenyl]Piperazin-2-One\"],[\"Bpsp|1-(4-Bromophenyl)-8-[4-(4-Fluorophenyl)-4-Oxobutyl]-3-Propyl-1,3,8-Triazaspiro[4.5]Decan-4-One\"],[\"Terconazole\"],[\"Piperazinederivatives 12|2-Naphthalenecarboxamide, N-(4-(4-(2-Methoxyphenyl)-1-Piperazinyl)Butyl)-\"],[\"Clobetasone-Butyrate|Clobetasone Butyrate\"],[\"Fluocinonide\"],[\"Diflorasone-Diacetate\"],[\"Oxaflumazine\"],[\"Anseculin|Ensaculin\"],[\"Selexipag\"],[\"Flunisolide-Acetate|Flunisolide Acetate\"],[\"Cyprenorphine\"],[\"Lacidipine\"],[\"Flumoxonide\"],[\"Cerivastatin\"],[\"Napsagatran\"],[\"Cube-8\"],[\"Travoprost\"],[\"Fluocortin-Butyl|Fluocortin Butyl\"],[\"Fluprednisolone-Valerate|Fluprednisolone Valerate\"],[\"Amcinafal\"],[\"Amelometasone\"],[\"Mazapertine\"],[\"Norverapamil\"],[\"Domoprednate\"],[\"Fesoterodine\"],[\"Mazipredone\"],[\"Alnespirone\"],[\"Hydrocortisone-Valerate|Hydrocortisone Valerate\"],[\"Irie-16A|2-Cyano-4-((1-Isopropylpiperidin-4-Yl)Methoxy)-N-Methyl-6-(Spiro[3.5]Nonan-7-Ylmethylamino)Pyrimidine-5-Carboxamide\"],[\"Irie-13A|2-Cyano-N-Methyl-4-(Spiro[3.5]Nonan-7-Ylmethylamino)-6-(2,2,6,6-Tetramethylpiperidin-4-Yloxy)Pyrimidine-5-Carboxamide\"],[\"Mupirocin\"],[\"Clofazimine\"],[\"Pranlukast\"],[\"Sb 235375|Skb-D|(-)-(S)-N-(Alpha-Ethylbenzyl)-3-(Carboxymethoxy)-2-Phenylquinoline-4-Carboxamide\"],[\"Ritanserin\"],[\"Compound-10B|1-[(5-Chloro-2-Phenylmethoxyphenyl)Methyl]-5-Methyl-N-[4-(Methylaminomethyl)Phenyl]Pyrazole-3-Carboxamide\"],[\"Cefcanel-Daloxate|Cefcanel Daloxate\"],[\"Bosentan\"],[\"Daunorubicin\"],[\"Esorubicin\"],[\"Doxorubicin\"],[\"Mometasone-Furoate|Mometasone Furoate\"],[\"Dutasteride\"],[\"Asimadoline\"],[\"Proc-37E|4-(1-(4-(1-Cyclobutylpiperidin-4-Yloxy)Phenyl)-2-Oxopiperazine-4-Carbonyl)Benzonitrile Formic Acid\"],[\"Compound-1|4-Methyl-6-[[1-[2-(2-Methylquinolin-5-Yl)Oxyethyl]Piperidin-4-Yl]Methyl]-1,4-Benzoxazin-3-One\"],[\"20\"],[\"4|Mn7Rr3Vql7\"],[\"Compound-4J|N-[1-[[5-Chloro-2-(2-Methylpropoxy)Phenyl]Methyl]-5-Methylpyrazol-3-Yl]-4-(Pyrrolidin-1-Ylmethyl)Benzamide\"],[\"Difluprednate\"],[\"Procinonide\"],[\"Moexipril Hydrochloride|Moexipril\"],[\"Piritramide\"],[\"Nandrolone Phenpropionate\"],[\"167782-15-2|Bms-184111 Hcl|1-[4-(1,3-Benzodioxol-5-Yl)-4-Methoxycyclohexyl]-4-[(3-Methoxyphenyl)Methyl]Piperidine\"],[\"Alletorphine|Alletorphinum\"],[\"Acetorphine\"],[\"Clocortolone-Pivalate|Clocortolone Pivalate\"],[\"Diflucortolone-Pivalate|Diflucortolone Pivalate\"],[\"Flumetasone-Pivalate|Flumethazone Pivalate\"],[\"Mchr Antagonist 1|1-(6-((Diethylamino)Methyl)-1,2,3,4-Tetrahydronaphthalen-2-Yl)-4-(4-Fluorophenethyl)Piperazin-2-One\"],[\"Repaglinide\"],[\"Methylprednisolone-Aceponate|Methylprednisolone Aceponate\"],[\"Prednicarbate\"],[\"Darunavir\"],[\"Verapamil\"],[\"Dexverapamil\"],[\"Am-36|1-Piperazineethanol, 4-((3,5-Bis(1,1-Dimethylethyl)-4-Hydroxyphenyl)Methyl)-Alpha-(4-Chlorophenyl)-\"],[\"Prednisolamate\"],[\"Calcipotriol|Calcipotriene\"],[\"Hydrocortamate\"],[\"Chloramphenicol Palmitate\"],[\"Ixabepilone\"],[\"Cholecalciferol\"],[\"Alfacalcidol\"],[\"Calcidiol|Calcifediol\"],[\"Boceprevir\"],[\"Edelfosine\"],[\"3-Octadecyloxy-2-Methoxypropylphosphonocholine\"],[\"Nilotinib\"],[\"Duoperone\"],[\"Cefpimizole\"],[\"Penfluridol\"],[\"Raloxifene Hydrochloride|Raloxifene\"],[\"Pimozide\"],[\"Takle-1; Sb-590885\"],[\"2-(1-(2-(2,3-Dihydrobenzofuran-5-Yl)Ethyl)Pyrrolidin-3-Yl)-2,2-Diphenylacetamide\"],[\"133099-04-4|Darifenacin\"],[\"Sb-277011A|N-[4-[2-(6-Cyano-3,4-Dihydro-1H-Isoquinolin-2-Yl)Ethyl]Cyclohexyl]Quinoline-4-Carboxamide\"],[\"Indole-Based Mchr1 Antagonist(7A)|2-[4-(Benzyloxy)Phenyl]-N-[1-(2-Pyrrolidin-1-Ylethyl)-1H-Indazol-6-Yl]Acetamide\"],[\"Nivacortol\"],[\"Astemizole|Astemizol\"],[\"Bervastatin\"],[\"Rotamicillin\"],[\"Pfizer Compound 4|(2S,3S)-2-(Diphenylmethyl)-N-[(2-Methoxyphenyl)Methyl]-1-Azabicyclo[2.2.2]Octan-3-Amine\"],[\"135095-42-0|(2R,3R)-2-Benzhydryl-N-[(2-Methoxyphenyl)Methyl]-1-Azabicyclo[2.2.2]Octan-3-Amine\"],[\"Buclizine\"],[\"Difluanazine\"],[\"Ciprocinonide\"],[\"Compound-10\"],[\"Mosapramine\"],[\"Virginiamycin-Factor-M1|(10R,11R,21S)-21-Hydroxy-11,19-Dimethyl-10-Propan-2-Yl-9,26-Dioxa-3,15,28-Triazatricyclo[23.2.1.03,7]Octacosa-1(27),6,12,17,19,25(28)-Hexaene-2,8,14,23-Tetrone\"],[\"Clinofibrate\"],[\"Clocapramine\"],[\"Alclometasone-Dipropionate\"],[\"Icometasone-Enbutate|Icometasone Enbutate\"],[\"Betamethasone-Acibutate|Betamethasone Acibutate\"],[\"Dexamethasone-Dipropionate|Dexamethasone Dipropionate\"],[\"Bilastine\"],[\"Fluocortolone-Caproate|Fluocortolone Caproate\"],[\"Umespirone\"],[\"Hydrocortisone-Buteprate|[2-[(8S,9S,10R,11S,13S,14S,17R)-11-Hydroxy-10,13-Dimethyl-3-Oxo-17-Propanoyloxy-2,6,7,8,9,11,12,14,15,16-Decahydro-1H-Cyclopenta[A]Phenanthren-17-Yl]-2-Oxoethyl] Butanoate\"],[\"Amebucort\"],[\"Difebarbamate\"],[\"Ergocalciferol\"],[\"Doxercalciferol\"],[\"Nandrolone Decanoate\"],[\"Dihydrotachysterol\"],[\"Nicomorphine\"],[\"Lapatinib|Lapatinib, Gw 572016, Tykerb\"],[\"Skb-I\"],[\"6-(3,4-Difluorophenyl)-5-(4-(2-(Piperidin-1-Yl)Ethoxy)Phenoxy)Naphthalen-2-Ol\"],[\"Ponatinib\"],[\"Letermovir\"],[\"6-(4-Fluorophenyl)-5-{4-[2-(Piperidin-1-Yl)Ethoxy]Phenoxy}Naphthalen-2-Ol\"],[\"6-(3-Hydroxyphenyl)-5-(4-(2-(Piperidin-1-Yl)Ethoxy)Phenoxy)Naphthalen-2-Ol\"],[\"6-(4-Hydroxyphenyl)-5-(4-(2-(Piperidin-1-Yl)Ethoxy)Phenoxy)Naphthalen-2-Ol\"],[\"Olmesartan Medoxomil\"],[\"Fluspirilene\"],[\"Indole-Based Mchr1 Antagonist(2)|2-(4-Phenylmethoxyphenyl)-N-[1-(2-Pyrrolidin-1-Ylethyl)Indol-6-Yl]Acetamide\"],[\"Imatinib|Gleevec, Imatinib, Sti 571\"],[\"Etoposide\"],[\"Naflocort|Naflocortum\"],[\"Betamethasone-Benzoate|Betamethasone Benzoate\"],[\"Amcinafide\"],[\"Dexamethasone-Acefurate|Dexamethasone Acefurate\"],[\"19\"],[\"Pecocycline\"],[\"Mifepristone\"],[\"Cicortonide\"],[\"Formocortal\"],[\"Itrocinonide\"],[\"Mibefradil\"],[\"Lymecycline\"],[\"Pipacycline\"],[\"Guamecycline\"],[\"Proc-19M\"],[\"Tigecycline\"],[\"Emetine\"],[\"Omadacycline\"],[\"Maraviroc\"],[\"Buprenorphine\"],[\"Candoxatril\"],[\"Otilonium\"],[\"Ouabain\"],[\"Acebrochol\"],[\"Alpha-Tocopherol\"],[\"Orlistat\"],[\"Tetrachloroethylene|Perchloroethylene\"],[\"Trans 1,2-Dichloroethene|Cis 1,2-Dichloroethene|1,2-Dichloroethylene\"],[\"Dioform|Trans 1,2-Dichloroethene|Trans-1,2-Dichloroethene|Trans-1,2-Dichloroethylene\"],[\"1,1,1,2-Tetrachloroethane\"],[\"1-Chloro-2,2,2-Trifluroethane|2-Chloro-1,1,1-Trifluoroethane|1,1,1-Trifluoro-2-Chloroethane|Cf3Ch2Cl|Chlorotrifluoroethane|111-Trifluoro-2-Chloroethane\"],[\"Norflurane|1,1,1,2-Tetrafluoroethane\"],[\"Tribromoethanol|2,2,2-Tribromoethanol\"],[\"1,1,1-Trichloroethane|1,1,1-Trichloroethan|Methylchloroform|111-Trichloroethane\"],[\"1,1,2-Trichloroethane|Vinyltrichloride\"],[\"Chloralhydrate|Chloral Hydrate\"],[\"Ethylene\"],[\"1,1-Dichloroethane|Ethylidene Chloride\"],[\"1,2-Dichloroethane\"],[\"Ethylene Oxide|Oxirane\"],[\"Ethyl-Chloride|Chloroethane\"],[\"Acetohydroxamic Acid\"],[\"S-Methylisothiourea|S-Methyl-Isothiourea|Carbamimidothioic Acid, Methyl Ester\"],[\"Ethanol\"],[\"Mesna|2-Mercaptoethanesulfonic Acid\"],[\"Etidronate|Etidronic Acid\"],[\"R-Halothane|(R)-Halothane\"],[\"Teflurane|Tefluranum|R-Teflurane\"],[\"(2R)-2-Bromo-1,1,1,2-Tetrafluoroethane\"],[\"1-Chloro-2,2-Difluroethylene|1,1-Difluorochloroethylene|1-Chloro-2,2-Difluoroethylene|2-Chloro-1,1-Difluoroethylene\"],[\"Skb_C|3-[3-(Dimethylamino)Propoxy]-2-Phenyl-N-[(1S)-1-Phenylpropyl]Quinoline-4-Carboxamide\"],[\"Bazedoxifene\"],[\"Lidoflazine\"],[\"Casopitant\"],[\"160502-69-2|Pfizer Compound 13\"],[\"Morpholinyl Oxaunomycin|Antibiotic Mx 2\"],[\"Proc-37J|4-[4-(Azetidine-1-Carbonyl)Benzoyl]-1-[4-(1-Cyclobutylpiperidin-4-Yl)Oxyphenyl]Piperazin-2-One\"],[\"Apicycline\"],[\"Dpdpe\"],[null],[\"Meclorisone-Dibutyrate|Meclorisone Dibutyrate\"],[\"Mchr Antagonist 23C\"],[\"Triamcinolone-Hexacetonide|Triamcinolone Hexacetonide\"],[\"Proscillaridin\"],[\"Fosinopril Sodium|(2S,4S)-4-Cyclohexyl-1-[2-[(2-Methyl-1-Propanoyloxypropoxy)-(4-Phenylbutyl)Phosphoryl]Acetyl]Pyrrolidine-2-Carboxylic Acid\"],[\"Glycyrrhetinic Acid|Enoxolone|Glycyrrhetin\"],[\"Glycyrrhetinic Acid|Enoxolone\"],[\"Retapamulin\"],[\"Eldecalcitol\"],[\"Gallamine Triethiodide|Flaxedil\"],[\"Tipranavir\"],[\"Zafirlukast\"],[\"6-(4-Ethanesulfonyl-Phenyl)-5-[4-(2-Piperidin-1-Yl-Ethoxy)-Phenoxy]-Naphthalen-2-Ol\"],[\"4-(6-Hydroxy-1-(4-(2-(Piperidin-1-Yl)Ethoxy)Phenoxy)Naphthalen-2-Yl)-N,N-Dimethylbenzenesulfonamide\"],[\"Metofenazate\"],[\"Novobiocin|Novobiocin Sodium\"],[\"Menatetrenone\"],[\"Bromperidol-Decanoate|Bromperidol Decanoate\"],[\"Haloperidol-Decanoate|Haloperidol Decanoate\"],[\"Dronedarone\"],[\"Phytonadione\"],[\"Probucol\"],[\"Fusidic|2-[2-(Acetyloxy)-7,10-Dihydroxy-3A,3B,6,9A-Tetramethyl-Dodecahydro-2H-Cyclopenta[A]Phenanthren-1-Ylidene]-6-Methylhept-5-Enoic Acid\"],[\"Fusidic-Acid|Fusidic Acid\"],[\"Rosaramicin\"],[\"Conivaptan\"],[\"Teniposide|Epipodophyllotoxin, 4'-Demethyl-, 9-(4,6-O-2-Thenylidene-Beta-D-Glucopyranoside)\"],[\"Skb-H\"],[\"Chloroserpidine\"],[\"Pirarubicin|(7S,9S)-7-[(2R,4S,5S,6S)-4-Amino-6-Methyl-5-[(2S)-Oxan-2-Yl]Oxyoxan-2-Yl]Oxy-6,9,11-Trihydroxy-9-(2-Hydroxyacetyl)-4-Methoxy-8,10-Dihydro-7H-Tetracene-5,12-Dione\"],[\"Carebastine\"],[\"Cortivazol\"],[\"Ebastine\"],[\"153439-40-8|Fexofenadine\"],[\"Bromocriptine\"],[\"Pfizer Compound 2|N-[(5-Tert-Butyl-2-Methoxyphenyl)Methyl]-2-(Diphenylmethyl)-1-Azabicyclo[2.2.2]Octan-3-Amine\"],[\"147116-67-4|Maropitant\"],[\"50679-08-8|Terfenadine\"],[\"Ergoloidmesylate|Dihydroergokryptine\"],[\"Ciclesonide\"],[\"159989-64-7|Nelfinavir|Nelfinavir Mesylate\"],[\"Fulvestrant\"],[\"17-Dmag|Alvespimycin\"],[\"Thonzonium Bromide|Thonzonium\"],[\"Candesartan Cilexetil\"],[\"Atorvastatin|Atorvastatin Calcium\"],[\"Ergotamine\"],[\"Glycerol Phenylbutyrate\"],[\"Leurubicin\"],[\"Reserpine\"],[\"Natamycin\"],[\"Remikiren\"],[\"Skb-G|(S)-N-(A-Ethylbenzyl)-3-[2-(2-Pyridylacetyl)Aminoethoxy]-2-Phenylquinoline-4-Carboxamide\"],[\"Elacridar\"],[null],[\"Dabigatran Etexilate\"],[\"Dalfopristin|(12Z,17Z,19Z)-6-[2-(Diethylamino)Ethylsulfonyl]-21-Hydroxy-11,19-Dimethyl-10-Propan-2-Yl-9,26-Dioxa-3,15,28-Triazatricyclo[23.2.1.03,7]Octacosa-1(27),12,17,19,25(28)-Pentaene-2,8,14,23-Tetrone\"],[\"Carbenoxolone\"],[\"Vecuronium|Norcuron\"],[\"Clindamycin Palmitate\"],[\"Itraconazole|Canditral\"],[\"Itraconazole\"],[\"Nabazenil\"],[\"Kitasamycin\"],[\"Oleandomycin\"],[\"Pipecuronium\"],[\"Skb-F|2-[2-Oxo-2-[2-[2-Phenyl-4-[[(1S)-1-Phenylpropyl]Carbamoyl]Quinolin-3-Yl]Oxyethylamino]Ethyl]Benzoic Acid\"],[\"Mitratapid|Mitratapide\"],[\"Hexafluronium\"],[\"1-[2-Hydroxy-4-[(2-Hydroxy-2,3-Dihydro-1H-Inden-1-Yl)Carbamoyl]-5-Phenyl-Pentyl]-4-(Pyridin-3-Ylmethyl)-N-Tert-Butyl-Piperazine-2-Carboxamide\"],[\"Indinavir|150378-17-9|Indinavir Sulfate\"],[\"Tubocurarine\"],[\"Cortisuzol\"],[\"Sr 140333|Nolpitantium\"],[\"Rifamycin\"],[\"Ritonavir\"],[\"Pentagastrin\"],[\"Flurithromycin\"],[\"Erythromycin\"],[\"Bisbentiamine\"],[\"Saquinavir|127779-20-8\"],[\"Myrophine\"],[\"Atazanavir\"],[\"Clarithromycin|Clathromycin\"],[\"Lexithromycin\"],[\"Azithromycin|Azithromycin Dihydrate\"],[\"Penimocycline\"],[\"Perflutren\"],[\"Pamidronate|Pamidronic Acid\"],[\"Isoflurane|R-Isoflurane\"],[\"(2R)-2-Chloro-2-(Difluoromethoxy)-1,1,1-Trifluoroethane\"],[\"Enflurane|R-Enflurane\"],[\"(R)-Enflurane\"],[\"Desflurane|Suprane\"],[\"Lin_Train_45|Mp 001-772-915|3-Bromo-3-Chloro-1,1,1-Trifluoropropane\"],[\"Lin_Train_55|Cid 23235109|Tetrafluoropropyl Bromide\"],[\"Acrylonitrile\"],[\"Roflurane\"],[\"Methoxyflurane\"],[\"Propargyl Alcohol|2-Propyn-1-Ol\"],[\"Nitroglycerin\"],[\"Cyclopropane|Trimethylene\"],[\"Cycloserine\"],[\"Acetone|Propanone|Propan-2-One\"],[\"Methyl Acetate|Methylacetate\"],[\"Lactic Acid\"],[\"1-Bromopropane|N-Propylbromide\"],[\"2-Bromopropane\"],[\"S-2Fluoroethylisothiourea|2-(2-Fluoro-Ethyl)-Isothiourea|S-2-Fluoroethylisothiourea|S-(2-Fluoroethyl)Isothiourea\"],[\"Alanine|Dl-Alanine\"],[\"Urethane\"],[\"1-Propanol|Propan-1-Ol|Propanol\"],[\"2-Propanol|Propan-2-Ol|Isopropanol|Isopropyl Alcohol\"],[\"Glycerin|Glycerol\"],[\"Dimercaprol\"],[\"Tramiprosate, Alzhemed|Tramiprosate\"],[\"Metocurine\"],[\"Cobicistat\"],[\"Beta-Carotene\"],[\"Xanthophyll|Lutein\"],[\"Carfilzomib\"],[\"Eribulin\"],[\"Pipotiazine-Palmitate|Pipotiazine Palmitate\"],[\"Verteporfin|3-[14-Ethenyl-22,23-Bis(Methoxycarbonyl)-9-(3-Methoxy-3-Oxopropyl)-4,10,15,24-Tetramethyl-25,26,27,28-Tetrazahexacyclo[16.6.1.13,6.18,11.113,16.019,24]Octacosa-1,3,5,7,9,11(27),12,14,16,18(25),19,21-Dodecaen-5-Yl]Propanoic Acid\"],[\"Digitoxin\"],[\"Digoxin\"],[\"Prednisolone-Steaglate|Prednisolone Steaglate\"],[\"Troleandomycin\"],[\"Roxithromycin|(Z)-Roxithromycin\"],[\"Aclarubicin\"],[\"Rifamexil\"],[\"Josamycin\"],[\"Dirithromycin\"],[\"Virginiamycin-Factor-S1|Staphylomycin S\"],[\"Rifaximin\"],[\"Voacamine|Voacanginine\"],[\"Docetaxel\"],[\"Vindesine\"],[\"Rifamide\"],[\"Rifampin|[2,15,17,27,29-Pentahydroxy-11-Methoxy-3,7,12,14,16,18,22-Heptamethyl-26-[(4-Methylpiperazin-1-Yl)Iminomethyl]-6,23-Dioxo-8,30-Dioxa-24-Azatetracyclo[23.3.1.14,7.05,28]Triaconta-1(29),2,4,9,19,21,25,27-Octaen-13-Yl] Acetate\"],[\"Rifampicin|Rifampin|[(7S,9E,11S,12R,13S,14R,15R,16R,17S,18S,19E,21Z)-2,15,17,27,29-Pentahydroxy-11-Methoxy-3,7,12,14,16,18,22-Heptamethyl-26-[(Z)-(4-Methylpiperazin-1-Yl)Iminomethyl]-6,23-Dioxo-8,30-Dioxa-24-Azatetracyclo[23.3.1.14,7.05,28]Triaconta-1(29),2,4,9,19,21,25,27-Octaen-13-Yl] Acetate\"],[\"Telithromycin\"],[\"Acetyldigitoxin\"],[\"Spiramycin\"],[\"Erythromycin-Ethylsuccinate|Erythromycin Ethylsuccinate\"],[\"Temoporfin\"],[\"Pristinamycin-Ic|Pristinamycin Ic\"],[\"Rifametane|[(7S,9E,11S,12R,13S,14R,15R,16R,17S,18S,19E,21Z)-26-[(Z)-[(Z)-1-(Diethylamino)Ethylidenehydrazinylidene]Methyl]-2,15,17,27,29-Pentahydroxy-11-Methoxy-3,7,12,14,16,18,22-Heptamethyl-6,23-Dioxo-8,30-Dioxa-24-Azatetracyclo[23.3.1.14,7.05,28]Triaconta-1(29),2,4,9,19,21,25,27-Octaen-13-Yl] Acetate\"],[\"Tacrolimus|Fujimycin\"],[\"Vinorelbine\"],[\"Pristinamycin-Ia|Pristinamycin Ia\"],[\"Vincristine\"],[\"Proglumetacin\"],[\"Rifabutin\"],[\"Rifapentine|[(7S,9E,11S,12R,13S,14R,15R,16R,17S,18S,19E,21Z)-26-[(Z)-(4-Cyclopentylpiperazin-1-Yl)Iminomethyl]-2,15,17,27,29-Pentahydroxy-11-Methoxy-3,7,12,14,16,18,22-Heptamethyl-6,23-Dioxo-8,30-Dioxa-24-Azatetracyclo[23.3.1.14,7.05,28]Triaconta-1(29),2,4,9,19,21,25,27-Octaen-13-Yl] Acetate\"],[\"Ivermectin-Ii|(1R,4S,5'S,6R,6'R,8R,12S,13S,20R,21R,24S)-21,24-Dihydroxy-12-[(2R,4S,5S,6S)-5-[(2S,4S,5S,6S)-5-Hydroxy-4-Methoxy-6-Methyloxan-2-Yl]Oxy-4-Methoxy-6-Methyloxan-2-Yl]Oxy-5',11,13,22-Tetramethyl-6'-Propan-2-Ylspiro[3,7,19-Trioxatetracyclo[15.6.1.14,8.020,24]Pentacosa-10,14,16,22-Tetraene-6,2'-Oxane]-2-One\"],[\"Amphotericin-B|Amphotericin B\"],[\"Rodorubicin\"],[\"Ivermectin|6'-Butan-2-Yl-21,24-Dihydroxy-12-[5-(5-Hydroxy-4-Methoxy-6-Methyloxan-2-Yl)Oxy-4-Methoxy-6-Methyloxan-2-Yl]Oxy-5',11,13,22-Tetramethylspiro[3,7,19-Trioxatetracyclo[15.6.1.14,8.020,24]Pentacosa-10,14,16,22-Tetraene-6,2'-Oxane]-2-One\"],[\"Ivermectin B1A\"],[\"Piperazine\"],[\"1-Butanol\"],[\"Diethyl Ether|Ether|Ethyl Ether|Diethylether|Diethyl-Ether\"],[\"2-Methyl-1-Propanol|2-Methylpropanol|Isobutanol|2-Methylpropan-1-Ol\"],[\"T-Butanol|Tert-Butylalcohol|Tert-Butanol\"],[\"Trometamol|Tromethamine\"],[\"Aliflurane\"],[\"Sevoflurane\"],[null],[\"Pyridazinone|3(2H)-Pyridazinone\"],[\"4-Bromo-4-Chloro-1,1,1-Trifluoro-Butane\"],[\"Fluroxene|Cf3Ch2Och=Ch2|Fluoromar|Fluoroxene\"],[\"Fomepizole\"],[\"Methimazole\"],[\"Erythrityl|Cardilate\"],[\"Erythrityl Tetranitrate\"],[\"Divinyl Ether|Vinyl-Ether|Divinylether|Vinyl Ether\"],[\"Succimer\"],[\"Mecloralurea\"],[\"2-Butanone|Butanone|Methyl Ethyl Ketone\"],[\"Ethyl Acetate\"],[\"Gamma Hydroxybutyric Acid|4-Hydroxybutanoic Acid\"],[\"Zoledronate|Zoledronic Acid\"],[\"2-Pentanone\"],[\"Propyl Acetate\"],[\"Isopropyl Acetate\"],[\"Mechlorethamine\"],[\"Amyl Nitrite|Pentyl Nitrite\"],[\"Acamprosate\"],[\"1-Pentanol\"],[\"Sec-Butylcarbinol|2-Methyl-1-Butanol\"],[\"Amylene-Hydrate|Amylene Hydrate|2-Methyl-2-Butanol\"],[\"3-Methyl-1-Butanol|Isoamyl Alcohol\"],[\"Choline\"],[\"Amifostine\"],[\"Mercaptopurine|6-Mercaptopurine\"],[\"Adenine\"],[\"Thioguanine\"],[\"Pyrithione\"],[\"Dalfampridine\"],[\"Dimethadione\"],[\"Y-G 16|18453-07-1|Y-G16|Thiazole-22-Aminoethyl|Zinc 11886332|Yg16|5-68|2-(2-Aminoethyl)Thiazole\"],[\"Skb2|Ici17148|7120-01-6|Cds1 000170|B-038, Ici17148|2|N-(4-Methyl-1,3-Thiazol-2-Yl)Guanidine\"],[\"Ici 17148|Ici17148|2-(5-Methyl-1,3-Thiazol-2-Yl)Guanidine\"],[\"Carmustine|Bcnu|Bis(Chloroethyl)Nitrosourea\"],[\"Betazole\"],[\"Tiopronin\"],[\"Acetylcysteine\"],[\"Carbocysteine\"],[\"Piracetam\"],[\"Pentylenetetrazole|Pentetrazol|Pentylenetetrazol\"],[\"Gluconolactone\"],[\"Aminocyclopentanecarboxylic Acid|Cycloleucine\"],[\"Methyl Aminolevulinate\"],[\"Cyclohexane\"],[\"Methylcyclopentane\"],[\"Mitolactol\"],[\"L-Cystine|Cystine\"],[\"Cgp-37849|(E)-2-Amino-4-Methyl-5-Phosphonopent-3-Enoic Acid\"],[\"Butyl Acetate\"],[\"Isobutyl Acetate\"],[\"Paraldehyde\"],[\"Leucine\"],[\"Hexane|N-Hexane\"],[\"2-Methylpentane|Isohexane\"],[\"2,2-Dimethylbutane|Hexane|22-Dimethylbutane\"],[\"Isoflurophate\"],[\"Carbachol|Carbamoylcholine\"],[\"Tertiary-Amyl Methyl Ether|Tert-Amylmethylether|Tert-Amyl Methyl Ether\"],[\"Ethyl T-Butyl Ether|Tert-Butylethylether|Tert-Butyl Ethyl Ether\"],[\"Hexitol\"],[\"Mannitol|D-Mannitol\"],[\"Treosulfan\"],[\"Trientine Hydrochloride|Trientine\"],[\"Niacin|Nicotinic Acid\"],[\"Benzene\"],[\"Dichlorphenamide\"],[\"Lindane|Hexachlorocyclohexane\"],[\"Nicotinamide|Niacinamide\"],[\"Temozolomide\"],[\"Phenol\"],[\"Nicotinyl Alcohol|3-Pyridinemethanol\"],[\"Clomethiazole|Chlomethiazole\"],[\"Cetohexazine\"],[\"Dimiracetam\"],[\"Gaboxadol\"],[\"Sulfanilamide\"],[\"Isosorbide Dinitrate\"],[\"Ascorbic|D-Erythro-Hex-2-Enonic Acid, Gamma-Lactone\"],[\"Ampyzine\"],[\"Trimethadione\"],[\"Isosorbide Mononitrate\"],[\"Misonidazole,Fluoro\"],[\"Carbimazole\"],[\"5-Methyl-5-Ethyl Barbituric Acid|Nsc 30403|5-Ethyl-5-Methyl-1H,3H,5H-Pyrimidin-2,4,6-Trione\"],[\"Propylthiouracil\"],[\"Penthrichloral\"],[\"Ethosuximide\"],[\"Paramethadione\"],[\"Aceglutamide\"],[\"Carbromal\"],[\"Methylcyclohexane|Cyclohexylmethane\"],[\"Ibrotamide\"],[\"Cgs-19755|Selfotel\"],[\"Pentyl Acetate\"],[\"Isopentylacetate|Isopentyl Acetate|Isoamyl Acetate\"],[\"Ifosfamide\"],[\"Cyclophosphamide\"],[\"Emylcamate\"],[\"Heptane|N-Heptane\"],[\"3-Methylhexane|2-Ethylpentane\"],[\"(-)-3-Methylhexane\"],[\"Cimemoxin\"],[\"Milacemide\"],[\"Bethanechol Chloride|Bethanechol\"],[\"Taurolidine\"],[\"Sulfonmethane\"],[\"Midaflur\"],[\"Chlorzoxazone\"],[\"Chlorothiazide\"],[\"Salicylic Acid|69-72-7|Salicylate\"],[\"P-Aminobenzoic Acid|4-Aminobenzoic Acid\"],[\"Aminosalicylic Acid|Aminosalicylicacid|4-Aminosalicylic Acid\"],[\"Mesalamine\"],[\"Carzenide\"],[\"Toluene\"],[\"Hydrochlorothiazide\"],[\"Pralidoxime Chloride|Pralidoxime|Duodote\"],[\"Paraxanthine\"],[\"Theobromine|83-67-0\"],[\"Theophylline|58-55-9|Theophyline|9-C1|Aminophylline\"],[\"Benzyl-Alcohol|Benzyl Alcohol\"],[\"Mequinol\"],[\"Ethchlorvynol\"],[\"Allomethadione\"],[\"Taurosteine\"],[\"Perflubron\"],[\"Ethylbenzene\"],[\"M-Xylene\"],[\"O-Xylene\"],[\"Pyridostigminebromide|2-Ethoxy-6-Fluorophenylboronic Acid\"],[\"Sulfacetamide\"],[\"Mimosine|2-Amino-3-(3-Hydroxy-4-Oxopyridin-1-Yl)Propanoic Acid\"],[\"Tenilsetam\"],[\"Caffeine|58-08-2\"],[\"Enprofylline\"],[\"Penicillic Acid\"],[\"Lamivudine\"],[\"Desciclovir\"],[\"Aciclovir|Acyclovir\"],[\"Cp21|1-Ethyl-3-Hydroxy-2-Methylpyridin-4(1H)-One\"],[\"Norfenefrine\"],[\"Pyridoxine\"],[\"Norepinephrine\"],[\"2,3,5,6-Tetramethylpyrazine\"],[\"Mebanazine\"],[\"Betahistine|5638-76-6|Y-G14|5-66\"],[\"Phenelzine|Phenelzinesulfate\"],[\"Barbital\"],[\"Etrabamine\"],[\"1-(2-Pyrimidinyl)-Piperazine|2-(1-Piperazinyl)Pyrimidine\"],[\"Decitabine\"],[\"1-[3,4-Dihydroxy-5-(Hydroxymethyl)Oxolan-2-Yl]-1H-1,2,4-Triazole-3-Carboxamide\"],[\"Adefovir\"],[\"Tinidazole\"],[\"Bemegride\"],[\"Arecoline\"],[\"Milameline|N-Methoxy-1-(1-Methyl-5,6-Dihydro-2H-Pyridin-3-Yl)Methanimine\"],[\"Etiracetam\"],[\"Levetiracetam|Memantine, Namenda\"],[\"Cidofovir\"],[\"1,4-Divinyloxybutane|Butane, 1,4-Bis(Ethenyloxy)-\"],[\"Chloralodol\"],[\"Streptozocin\"],[\"Oxanamide\"],[\"Tranexamic Acid\"],[\"1-Octene\"],[\"1,2-Dimethylcyclohexane|Hexahydro-O-Xylene\"],[\"Pentabamate\"],[\"Cgp-39551|(E)-(4-Amino-5-Ethoxy-2-Methyl-5-Oxopent-2-En-1-Yl)Phosphonic Acid\"],[\"Valproic Acid|99-66-1|Sodium Valproate|Valproic-Acid|Valproicacid\"],[\"Valpromide\"],[\"Valnoctamide\"],[\"Pregabalin|3-(Aminomethyl)-5-Methylhexanoic Acid\"],[\"Miglitol\"],[\"Octane\"],[\"2-Methylheptane|2-Methyl Heptane\"],[\"Methacholine\"],[\"Sulfonethylmethane\"],[\"Licostinel\"],[\"Riluzole\"],[\"Triclacetamol\"],[\"Diazoxide\"],[\"Furazolidone|Furazolidona\"],[\"Styrene|Vinylbenzene\"],[\"Brosotamide\"],[\"Guanabenz|2-[(Z)-(2,6-Dichlorophenyl)Methylideneamino]Guanidine\"],[\"Hydroflumethiazide\"],[\"Zonisamide\"],[\"Hydralazine Hydrochloride|Hydralazine\"],[\"Sr-4688|4-(2-Thienyl)But-3-En-2-One\"],[\"Fluoresone\"],[\"Nicorandil\"],[\"Paracetamol|103-90-2|Acetaminophen|Acetaminophen\\u002fParacetamol|P-Acetamidophenol\"],[\"Metacetamol\"],[\"Pyridoxal\"],[\"( + )-4-Fluorotranylcypromine|(1S,2R)-2-(4-Fluorophenyl)Cyclopropanamine\"],[\"Phenacemide\"],[\"Aminohippurate|Aminohippuric Acid\"],[\"Sulfamethizole\"],[\"Salicylicacid|1-Chloro-4-Propylbenzene\"],[\"Methyclothiazide\"],[\"Chlorphenesin\"],[\"Gemcitabine\"],[null],[\"Floxuridine\"],[\"Idoxuridine\"],[\"Nsc 15312|1,2,3,4-Tetrahydroisoquinoline\"],[\"1,2,3,4-Tetrahydroquinoline|Kusol\"],[\"Tranylcypromine|Parnate\"],[\"Tranylcypromine\"],[\"138474-57-4|Tz-15|Imidazolidine, 2-(Phenylimino)-\"],[\"43170-96-3|Y-G20|Yg20|1-47|2-(Imidazo[1,2-A]Pyridin-2-Yl)Ethanamine\"],[\"Cathinone\"],[\"4-Oh-Tiq|1,2,3,4-Tetrahydroisoquinolin-4-Ol\"],[\"Ethenzamide\"],[\"Parapropamol\"],[\"Dl-Dopa\"],[\"Levodopa\"],[\"Droxidopa\"],[\"Saclofen\"],[\"Nornicotine|Nor-Nicotine\"],[\"494-97-3|3-[(2S)-Pyrrolidin-2-Yl]Pyridine\"],[\"Uridine\"],[\"Bbcpd10|112598-26-2|Chebi: 163710|B-047|Y-G12|28|11|4-(3-Amino-1H-1,2,4-Triazol-5-Yl)-N,N-Dimethylpyridin-2-Amine\"],[\"Amfetamine|Amphetamine\"],[\"Dexamphetamine|Dextroamphetamine, Dexedrine|Dexamfetamine|Dextroamphetamine\"],[\"Levamphetamine|Levamfetamine\"],[\"Iproniazid\"],[\"7481-89-2|Zalcitabine|2',3'-Dideoxycytidine\"],[\"4-Amino-1-[(2S,5S)-5-(Hydroxymethyl)Tetrahydrofuran-2-Yl]Pyrimidin-2-One\"],[\"Cytarabine\"],[\"Mizoribine\"],[\"Buciclovir\"],[\"Hydroxyamphetamine|4-(2-Aminopropyl)Phenol\"],[\"Pyrithyldione\"],[\"Metaraminol\"],[\"Cp102|4(1H)-Pyridinone, 2-Ethyl-3-Hydroxy-1-(2-Hydroxyethyl)-\"],[\"Cp41|4(1H)-Pyridinone, 3-Hydroxy-1-(3-Hydroxypropyl)-2-Methyl-\"],[\"Y-G 15|6304-27-4|Y-G15|N,N-Dimethylpyridine-2-Ethylamine|Yg15|5-67|2-(2-Dimethylaminoethyl)Pyridine\"],[\"Pheniprazine\"],[\"Fenoxypropazine|Phenoxypropazine\"],[\"Alaptide\"],[\"5-Propyl-5-Ethyl Barbituric Acid|5-Ethyl-5-Propyl-1,3-Diazinane-2,4,6-Trione|5-Ethyl-5-Propylpyrimidine-2,4,6(1H,3H,5H)-Trione\"],[\"Metharbital\"],[\"Tenofovir\"],[\"Broxaterol\"],[\"Acecarbromal\"],[\"Sapropterin\"],[\"Captopril\"],[\"Lomustine\"],[\"Bisorcic\"],[\"Azelaicacid|Azelaic Acid\"],[\"Valdetamide\"],[\"Pivagabine\"],[\"Pantothenic|Dl-Pantothenic Acid\"],[\"1-Nonene\"],[\"1,2,4-Trimethylcyclohexane|Tripropylphosphine\"],[\"Trofosfamide\"],[\"Meprobamate\"],[\"Altretamine\"],[\"Isometheptene\"],[\"Dexpanthenol\"],[\"Nonane|N-Nonane\"],[\"2-Methyl Octane|2-Methyl Nonane|Isononane|2-Methyloctane\"],[\"Echothiophate\"],[\"Ibandronate|Ibandronic Acid\"],[\"Haloprogin\"],[\"Chloroxine\"],[\"Clioquinol\"],[\"Iodoquinol\"],[\"Nitroxoline\"],[\"Coumarin\"],[\"Lamotrigine\"],[\"Azathioprine\"],[\"38941-33-2|Tz-19|2-(2,4,6-Tribromophenylimino)Imidazolidine\"],[\"40065-09-6|Tz-21|2-(4-Bromo-2,6-Dichlorophenylimino)Imidazoline\"],[\"Clidafidine\"],[\"21571-08-4|Tz-18|1H-Imidazol-2-Amine, 4,5-Dihydro-N-(2,4,6-Trichlorophenyl)-\"],[\"Tizanidine\"],[\"Pemoline|Pemolina [Italian]\"],[\"50-78-2|Aspirin|Acetylsalicylic Acid|Acetyl Salicilic Acid|Acetylsalicylic Acid, Aspirin|Acetylsalicylate\"],[\"4205-93-0|Tz-2|N-(2,6-Dibromophenyl)-4,5-Dihydro-1H-Imidazol-2-Amine\"],[\"Romifidine\"],[\"59465-39-3|Tz-11|N-(2,5-Dichlorophenyl)-4,5-Dihydro-1H-Imidazol-2-Amine\"],[\"23830-88-8|St 363|Tz-10|2-(2,4-Dichlorophenylimino)-Imidazolidine\"],[\"Clonidine|4205-90-7|Tz-1\"],[null],[\"9-C7|S114|2-(5,6-Dichloroindazol-1-Yl)Ethanamine\"],[\"Diloxanide\"],[\"59465-54-2|2-(2,6-Difl Ph Imino)Imidazolidine\"],[\"Sulfathiazole\"],[\"Salicyluric Acid|Salicylurate|Salicyluricacid\"],[\"Dichloromethane|Methylene-Chloride|Methylenechloride|Methylene Chloride\"],[\"Methane\"],[\"Methanol\"],[\"Guanidine\"],[\"Bromoform\"],[\"Carbon Disulfide|Carbon Disulphide|Carbon Bisulfide\"],[\"Sulphur Hexafluoride|Sulfur Hexafluoride|Elegas\"],[\"Hydrazine\"],[\"Krypton\"],[\"Lithium\"],[\"Nitrogen\"],[\"Nitrous Oxide|Nitrous-Oxide\"],[\"Neon\"],[\"Radon|Thoron\"],[\"Xenon\"]],\"hovertemplate\":\"Label=False\\u003cbr\\u003et-SNE 1=%{x}\\u003cbr\\u003et-SNE 2=%{y}\\u003cbr\\u003enames=%{customdata[0]}\\u003cextra\\u003e\\u003c\\u002fextra\\u003e\",\"legendgroup\":\"False\",\"marker\":{\"color\":\"#636efa\",\"opacity\":0.5,\"symbol\":\"circle\"},\"mode\":\"markers\",\"name\":\"False\",\"showlegend\":true,\"x\":[-2.1188304,1.9063655,-65.813,9.330662,-60.35667,55.457283,-9.694589,81.62922,-8.982632,84.58658,11.919258,-23.757345,31.065199,-72.79642,-31.495646,-2.0424972,-34.184464,-12.964308,0.46272278,-48.71923,13.293894,-15.46776,30.025898,-55.325527,-66.98439,-50.031895,36.84711,-8.191408,7.265447,-25.443462,-68.23919,-50.44385,-35.543983,37.48361,-65.248795,-25.449856,30.622385,44.819,-28.647396,-20.908287,-17.435696,27.5423,54.96995,-63.296707,36.80296,-33.020557,24.06049,-35.061417,-7.164536,25.670692,75.96221,-25.759485,28.408472,-18.917524,-53.29561,-57.64488,-26.93004,21.570786,11.51687,-52.813763,68.016304,-9.900014,-30.374868,11.916462,-33.69044,15.862008,38.64859,10.379782,-50.238052,21.41339,33.033863,13.410303,43.12194,-49.62497,-30.205753,-34.817757,-10.946104,14.753162,60.197536,34.752823,1.8470874,17.197498,34.755966,50.583546,57.915466,-65.91347,75.89635,-50.25058,-61.000336,-9.658013,13.69973,10.99364,3.773287,36.371647,-0.52912146,-7.0016117,-10.98991,44.332672,60.803722,-46.672607,-22.4853,0.7922513,16.409084,-36.023193,16.025805,-26.446333,-71.33427,29.848969,30.248125,-0.3536646,86.7486,22.249737,-8.375327,-24.142595,4.1478095,-53.479286,27.579428,43.298183,35.040672,-30.738447,27.96238,-62.516483,60.353973,30.291008,84.660965,-11.793394,7.8575125,-3.8561144,-21.142242,-50.424026,45.010006,-3.4153976,24.782188,-22.89254,-50.83021,33.241302,24.249954,36.247074,-30.357328,-57.914692,-24.680391,8.654235,-21.406631,-39.559868,-12.389929,-64.7947,-26.390814,-36.257046,-2.5435712,-40.1777,26.209494,-23.376896,-5.8545904,12.601416,-26.54013,41.909977,-48.43479,45.502792,-71.70849,43.113888,70.254425,40.23953,-18.713057,22.097599,23.999765,87.167595,-14.899664,-49.450985,-49.525005,-31.884455,-23.417736,-35.247982,-7.845237,0.16692361,-43.19046,70.24143,50.670284,-6.4635,-63.55849,-29.26026,36.980034,67.48771,69.95014,85.60827,-47.291252,-44.138123,-16.94165,2.7194173,-6.8692255,38.94477,81.622116,79.80487,55.370655,-51.07693,15.860437,-64.385826,-22.35915,46.925533,51.595406,16.991764,47.37947,1.1090358,-36.34377,-5.7957687,-62.070995,0.7727171,55.65127,-39.98372,-65.17469,45.86336,-16.988598,-65.21914,18.653734,-17.226755,65.13207,-25.069675,43.55424,22.511482,34.802525,76.95577,-63.26443,-2.4085712,-64.73624,-19.079828,-4.311089,12.922274,-52.11531,-34.411106,-20.9566,-14.961336,-66.06516,16.055523,59.467354,13.937661,41.67925,-7.6596804,83.39329,26.496527,47.011887,13.528817,58.56511,-55.77298,-52.08258,24.25372,57.93001,33.72211,-30.196915,26.284002,75.46459,-0.30993947,3.8292315,-43.74198,27.130352,85.426796,59.75463,61.251385,-55.4215,-56.498158,46.275528,82.01049,-11.492322,58.840557,9.560243,-29.432749,-63.88427,14.299422,39.954533,-31.619114,-19.702213,-50.037823,-59.2339,-4.437544,-3.2882233,90.68269,34.173595,48.719364,-31.073925,-34.166832,-40.576874,21.978334,-36.935013,51.674465,26.40495,-12.953041,67.87608,-17.696985,18.992224,6.1030188,22.656086,-19.999344,-21.570847,85.963425,15.543038,-18.584557,28.407652,32.53807,-56.01652,9.419443,-9.955754,-57.695858,-33.48033,-5.926439,68.00099,-13.33011,6.811195,-54.99459,28.108526,17.616207,-52.500755,-19.603138,-30.4308,28.895212,-65.94796,16.711811,-11.436153,-28.590837,-34.213886,-8.272906,4.633672,17.352741,-1.0881734,49.148376,31.809332,34.9866,24.619589,-54.88529,39.326805,-21.248383,-19.495104,82.93699,19.212994,62.176426,42.829563,1.7874217,-14.322588,-27.04284,-65.89738,32.52223,27.761763,-35.880207,39.863453,-19.934227,-30.830328,61.47883,50.57767,-62.283855,-22.723436,-6.6942854,-0.9334729,-14.608949,-58.8874,16.409948,-27.935324,-2.94153,15.259108,-25.277733,-49.63891,-21.88122,0.1796908,27.159918,62.33418,59.518597,-19.939749,-22.16724,-20.792948,0.06395736,44.558067,26.922873,-29.019577,32.83784,-55.776844,-11.0977,7.1657696,57.56815,38.387035,2.5090218,63.767464,-7.333087,-49.515873,45.03829,29.434391,86.9742,48.140423,-66.042915,-41.242535,-35.980026,46.619366,24.21986,-63.305008,50.03011,48.768623,17.810274,76.20169,14.746436,50.42325,-18.457373,21.711044,74.41958,25.471512,28.493818,-21.079414,15.365711,-64.12882,28.252918,42.96688,-44.406055,-0.56487656,21.978472,-36.412262,83.19588,-0.48481095,29.625797,-59.2085,-30.206207,-12.298618,-2.8097224,16.48369,85.0251,-21.424923,-28.738033,36.508812,15.559597,-38.308636,34.887524,-13.679375,-54.12922,-48.34053,33.35828,-15.932872,-51.52727,-11.709289,64.76971,-9.988964,-64.58169,-38.32647,-57.51599,11.550081,-3.5576594,-35.436012,84.551765,-41.23019,-49.17804,-41.622154,-61.009502,-33.384464,-9.943569,40.639893,-58.594105,-26.071684,-57.34284,13.495433,-56.489902,-64.65734,-38.394012,50.806335,32.96017,8.168658,15.488751,16.568949,-1.2973621,-35.437725,54.0108,16.181566,24.922342,-40.795357,-33.61369,57.354073,46.6496,-56.420288,-17.73663,69.25441,13.351998,-12.2011795,7.8025393,-64.04143,-51.496227,-21.797886,61.84241,-1.9868246,-10.8944025,-10.930802,-18.76632,-39.310604,-14.408493,84.41425,27.087366,16.763683,-38.239685,-29.795273,-42.68672,71.86983,-39.755653,-47.68142,-32.21808,-19.693827,17.254833,89.82599,-25.968815,-28.8627,1.5378896,-57.771984,39.656174,-15.493736,-19.196985,-57.659885,46.778664,24.94654,43.263412,-20.873632,-56.652637,-50.03968,-65.838974,32.62961,41.145176,-10.638,-12.58102,-65.3845,6.744033,-23.619314,-61.592007,36.833767,24.703304,-48.84006,-28.282253,-30.432127,-1.4791652,80.62637,-50.3662,18.674225,-18.534317,-25.755613,-12.02692,-11.102548,-32.57899,-8.615029,-0.31739202,32.71286,-44.610416,20.65719,-46.820084,-4.6664677,26.939064,34.76291,45.16162,-18.008604,42.988087,3.6817718,-29.115004,82.81661,-38.05487,63.172897,-8.657537,-33.31341,25.580446,-37.62697,-25.532719,64.15764,-25.03385,-43.05925,9.135219,60.886906,26.439142,-42.805756,83.32369,7.444705,16.208975,-47.42898,-10.619753,22.564835,-60.091454,0.83399373,-18.049742,36.78131,71.800224,70.773735,13.054147,-28.209835,90.828285,15.639206,75.6376,-1.4268203,66.87183,14.908814,-5.8603334,11.029741,9.458375,27.96807,61.977192,-12.436724,-0.9778576,-13.248823,35.50197,5.713302,-1.826856,-35.375584,-48.734062,77.49727,-2.6285346,90.078804,30.293293,-60.806812,-9.496225,14.142151,59.50654,24.970911,76.857216,17.184952,-10.8363285,-24.529264,-41.38613,-65.26485,66.90904,-38.18814,91.80125,-34.77443,40.06624,20.116005,-36.660526,-29.397524,28.29286,-21.842607,5.796876,-58.28948,-25.008022,-63.37903,20.345516,-41.198032,-56.960693,23.564983,28.75285,24.062805,-10.793926,1.183125,8.070137,54.439934,-9.884168,-5.4322715,-28.037388,88.595116,9.4995365,-32.419807,-68.937775,-32.789017,68.552826,83.19588,2.0743768,-41.495354,15.850802,-11.523935,23.781609,13.524621,84.47726,-55.64561,-36.584564,59.09592,36.78038,-54.84147,-40.86539,48.944622,-13.605084,-38.374252,-14.500646,20.527517,73.28315,-35.164345,-34.68349,-35.12398,66.384224,-38.260643,46.87382,53.31914,20.973778,-59.883442,50.745586,-1.9181393,5.2021255,-66.03345,-55.1438,-29.097921,-31.88162,-65.770454,-39.59405,40.738514,74.68182,-16.850203,-26.566093,-2.6065993,63.959705,7.8010893,64.15276,3.5257673,-36.217243,-36.06378,-15.574841,0.90324855,8.738451,24.726068,-33.78176,16.947138,-8.413128,-28.53348,60.442722,70.478424,35.70524,71.300186,-55.482296,24.598925,35.995365,3.6328616,26.633297,-31.356478,-34.457954,22.867462,87.987236,-12.472525,50.46783,8.393861,39.48641,-29.872313,18.84804,-33.859547,7.850199,17.69334,-42.17455,-50.57974,13.293694,-33.22039,-34.741245,-73.76381,70.773735,-9.507814,-32.845417,66.34807,-43.759293,63.21212,-41.77427,-29.810568,-15.800979,-28.247583,14.166394,63.222668,30.915611,44.17307,7.494186,-34.186497,-14.6008,-31.124523,-24.875547,-18.755684,-28.486666,2.790191,-51.903355,-12.575907,-24.456799,24.663134,-4.1885138,48.014378,63.997242,-41.362152,-73.66449,23.50361,81.73134,-31.30597,11.925197,55.457764,78.55838,26.932098,66.56444,-9.505455,16.402681,-45.254154,71.47456,20.29139,40.302223,-71.54107,22.991816,-28.423992,27.864908,57.433865,-25.53951,-73.8342,-28.006401,66.75201,90.83247,5.802523,-65.7283,-51.416916,21.36816,74.77309,-42.43246,35.113888,45.93209,-65.575325,64.513565,17.806044,-15.821542,-31.669245,-25.835337,22.886099,90.31823,-18.430923,68.91105,-2.5576804,84.307396,-40.982056,77.801384,50.94483,65.008896,-19.619986,64.930305,-8.388234,34.223305,-14.970528,-16.100992,65.82252,-40.576286,7.9186425,-56.30974,-9.028151,65.13801,-42.091824,-55.485188,15.132034,-24.931585,-34.17005,-60.377914,22.544989,8.052344,-1.0112997,-41.225735,18.864592,-62.786236,10.760597,-20.212694,-42.93248,-6.069387,-30.884901,-3.8950195,28.528254,-32.069675,47.243458,-47.764988,-55.033455,24.730083,20.650518,-14.875456,11.248098,-53.2004,-22.67807,-54.160484,-20.90939,48.644424,-34.469017,-21.283316,39.48615,3.2017956,22.046618,-57.276688,-37.132412,10.895371,-40.738937,-54.23065,-24.37857,80.64577,-7.2585177,-34.702423,-3.8640683,38.594032,38.229767,81.8796,-13.781174,77.79029,39.17749,-16.802938,25.798311,-2.457894,13.653124,29.426674,-42.727383,-68.70213,5.4502788,44.060677,-4.6600523,-26.140053,-1.3526675,70.936714,85.78558,5.255446,19.41684,-64.19259,-30.186823,-24.555946,-29.35618,38.332333,22.35756,37.439507,-41.309372,-19.209661,-32.839737,68.71495,63.126,11.141916,-21.415525,17.161253,-19.784533,-34.694416,23.05024,6.047261,89.22713,-13.963661,-1.7351713,74.69833,40.055733,39.46036,21.711056,21.453512,51.487514,-41.090546,19.273924,6.0782948,-57.143642,80.45875,16.07204,11.414315,-13.669935,17.563932,5.8513536,58.08888,7.9125175,-66.86169,-36.129433,15.272161,11.821347,33.366596,-41.33623,15.812053,-4.4483905,8.434588,-55.76045,-40.06881,-5.587949,-30.694075,83.77171,-55.242805,-62.35766,-19.685875,-9.168871,-26.159071,-26.203724,43.491985,-5.6772637,-29.02411,-18.467342,-5.673747,-30.073223,-68.05634,45.17911,-41.771255,29.984373,-7.042606,-18.301325,12.197435,76.857216,9.427317,-18.917015,13.359307,-57.945717,-33.022717,12.6683445,-7.6586595,-33.266098,-0.30336657,-20.30205,4.709302,55.418877,62.38674,-52.00238,-21.125797,28.767168,39.072678,-47.864857,-11.664717,57.53595,-34.762722,-30.057894,-33.157112,-27.848707,7.6759186,-16.762306,83.0605,-67.14419,-17.744625,25.176056,-49.410698,4.4695196,-64.09447,-38.873005,38.776623,-60.189075,-12.380878,15.148315,-31.643736,-20.34948,12.694994,-8.160227,11.057499,-7.115705,-20.937939,-27.66096,21.447998,7.261085,-22.857508,-39.787666,32.155643,33.508602,7.4054866,-47.426395,-36.95727,-8.831186,-58.91348,-8.685984,-41.79752,-17.68898,-36.80569,-30.399714,-42.459766,64.84554,-60.61629,-11.095246,5.6113563,-39.14485,9.148734,18.061224,24.341599,-10.226768,-19.423368,-18.50083,-32.143185,-12.142241,-19.98482,-55.68952,-62.52377,-20.961481,-29.130323,-7.446986,10.928334,80.01833,-7.044891,29.619287,7.7405963,43.130184,10.522848,-49.124233,12.065959,34.12285,-19.126514,8.766663,-27.881927,-6.9776125,83.30516,-56.49448,-55.637207,-43.64517,-30.667887,15.447854,7.4124,42.338024,-28.431412,72.80736,13.327483,1.4401827,-59.339706,-11.720209,18.993244,-21.058645,-18.671785,34.991287,77.83729,-46.877644,5.7145314,61.088985,-13.856186,-27.500961,1.787853,-25.480476,-55.21627,39.284996,58.59753,-29.903095,-10.792503,-53.642315,24.781439,-36.885273,48.28954,-10.081769,-57.306973,41.346786,-46.24317,-58.113018,-50.337486,-51.756905,13.227714,-42.2112,35.868423,24.93599,-4.8173714,-6.5556107,-47.217827,14.838021,-21.555864,-47.26364,-1.3226857,39.440247,-21.11495,-56.678047,-10.850828,-49.002506,29.927673,-47.758724,-8.354209,23.780798,1.1802356,-7.210059,13.917741,-19.76446,-4.028395,-38.529522,10.883594,-64.99283,-22.623634,53.905376,11.075984,-2.8187022,-40.796738,38.537216,21.636316,7.2445073,4.950369,57.755726,-6.9677515,-2.8975253,-35.61012,-41.267834,3.4198005,19.309044,-63.733253,4.133683,-43.968945,-18.083673,-26.611662,31.211351,-23.869091,-12.597823,-0.45668542,37.637222,-41.200382,-50.36515,84.545334,14.610414,32.30334,16.43756,-30.513752,26.602438,-7.390838,-28.137293,-39.277493,43.183895,37.871998,36.550117,54.578197,-14.368976,-8.164704,-63.05344,-33.266163,-35.093395,-35.49731,54.63398,12.167572,43.988403,-34.528255,1.6672913,20.870382,-67.244316,-10.649303,-61.436443,-22.476576,62.660076,-43.91121,40.99162,-59.454266,1.3455967,14.194228,-37.16803,9.312441,51.797047,32.149963,-61.895077,24.042616,48.28137,-11.838074,3.938303,-42.01071,-25.424994,-40.8224,-64.238174,34.424084,24.175066,-73.33812,-24.863388,26.859756,51.903168,6.0644693,25.670692,82.86195,21.999216,-26.306887,13.085496,28.37527,34.246914,-8.301315,14.30267,-38.234516,37.192204,75.755,67.44612,78.29153,-9.544085,88.03419,-31.887733,66.05546,14.531435,-7.664411,78.565285,-40.801888,16.505884,-32.744465,20.049747,-0.2903917,-0.47167784,58.563286,-10.931025,-59.64291,-26.546858,-24.485268,61.57,-11.810522,-53.488693,75.921196,-4.819947,-8.183519,60.36334,37.73131,-13.121268,12.431533,10.019914,16.290081,15.513694,-9.60659,-29.35686,23.971254,49.622147,-68.20382,44.251984,77.04589,-28.083214,25.403255,-31.536295,-10.633328,43.997044,12.171781,-43.30154,-63.49359,39.306587,23.785828,-7.288748,-42.862717,2.6062005,72.02768,-10.742965,-34.237385,46.35028,13.675245,-51.496574,-61.275364,-6.872273,-38.68596,-22.937899,48.16659,-10.537417,-18.44707,-61.716972,28.733181,-66.10051,-12.234865,-62.80253,-21.344545,2.2822933,9.280675,16.177286,52.277416,-35.163036,-65.25831,48.42364,9.4587345,4.6922097,0.6950894,-29.421743,-42.224552,-50.531967,-52.194836,84.31137,60.032143,-43.899204,66.62009,-0.21532294,28.935495,35.583714,-6.383318,-56.71482,-43.833485,-36.606403,-64.427925,-2.6210551,7.3394136,-49.93377,-63.493507,-34.06451,59.127968,39.788383,-63.48534,-8.676055,10.316258,-65.53239,-8.49995,-27.48503,-6.486782,-47.560062,35.350246,-24.257317,-9.958897,-67.51934,-6.9681535,-74.325874,42.227196,3.044102,-22.542673,-27.246458,21.420889,-69.505066,6.162881,-0.27143705,27.0895,83.416435,38.879665,-21.684586,3.3238792,-41.172134,13.119022,-21.279354,-0.6934009,-8.48528,-19.446314,25.174763,59.49848,92.263794,11.133047,-0.07413256,-8.77439,15.46897,10.433285,-31.389517,-33.95326,-34.201595,-6.99675,-49.819496,70.15165,-6.333048,1.6706841,44.80305,-2.6246088,30.303139,-46.999332,-44.606747,-46.946312,-43.45572,-55.87891,14.591777,-32.56896,-54.416862,-40.58924,-10.029866,12.580806,34.50716,-52.23435,61.2669,-30.36629,-47.906796,74.269936,38.55873,5.677112,40.952164,15.422639,-4.2716885,-40.371277,13.497031,-29.172943,-8.794407,39.292156,-27.909645,20.560492,46.978874,61.993145,-28.408499,-62.575623,-26.813654,-21.115364,2.8264983,-13.521738,83.20627,10.63773,61.38741,0.5908208,-1.0261902,5.3632956,-42.259377,-7.7776227,34.135235,42.363747,9.458734,-64.10051,47.660152,33.353973,-6.418891,5.27121,-38.504986,23.13269,-0.4693122,65.718895,-27.436968,14.319438,-37.919186,11.300489,-1.7184615,-11.730229,34.339355,64.49208,7.362157,-62.312637,-22.24628,3.731852,-73.322754,69.81873,-15.799027,-34.693226,-43.37263,22.408028,-20.39792,39.603786,-10.329477,-17.29701,-21.373499,46.453568,29.643946,-24.87221,-33.592045,56.481297,-3.8367898,-63.313293,39.885494,-48.255676,-40.475613,15.084531,-42.557617,-33.979282,-57.526882,7.2697196,60.542213,79.457726,-42.263165,47.750484,-34.621384,-5.121926,-47.270714,-23.170868,-49.153862,89.84378,-30.57579,-11.365201,-22.937057,6.7635803,-65.231766,-15.762607,-32.057503,-1.7972823,-26.701427,-4.6339493,73.1213,43.83901,-15.2563305,63.133263,2.4917035,26.21477,-0.4364386,-28.942696,41.678772,18.791811,-47.391895,-9.420725,-70.39994,-62.52121,-56.25364,66.03808,-7.120966,-54.128906,30.179607,-34.287582,-32.683323,41.33066,36.84935,50.336178,56.608627,-23.764738,-27.776312,3.9739017,40.47113,-10.432031,46.632412,-54.447666,50.100445,65.09058,-7.429817,36.777283,-29.105562,-50.219673,35.76177,41.64827,45.826748,40.881668,4.1706486,-57.66705,-10.461755,-29.515987,-22.8253,56.749557,-68.96837,76.96047,-25.077215,-10.175739,-39.0079,39.385567,35.019222,-24.809046,14.596376,-31.540571,31.87846,41.250507,46.662735,-26.658644,-2.3560746,14.753183,-60.99538,7.4606705,-49.06197,-8.51842,9.22902,-39.0308,36.526794,5.395396,7.9666214,-30.611607,-10.101904,-26.0625,-47.27355,-6.7960753,28.756786,-33.18492,51.935513,-6.3569245,-15.873188,-16.417164,-34.42283,-34.525604,-26.980955,-4.7151756,-20.46434,-3.4422512,-23.04445,4.620169,74.99336,-62.26856,0.912176,-32.17718,-10.141994,-19.095201,36.349937,-5.2731137,51.45348,-71.70916,79.59188,-39.412754,-23.076788,75.46817,27.339334,-23.559618,-41.70883,-62.403656,84.37387,-56.98055,6.4526987,43.705624,-46.43595,-6.6141624,-31.454315,15.25202,-10.936188,42.44793,-1.7044827,8.471712,-61.256813,-6.772283,-45.71891,85.59253,36.46604,59.201866,-64.815544,-55.21667,38.19297,-58.415653,-23.348127,-42.717228,40.30978,-2.4461846,33.82267,74.25681,-26.256458,89.08757,-41.565636,-25.286964,-24.901142,-26.597221,-32.57282,22.451231,-4.288452,19.486015,-19.784767,-49.856583,-62.260807,74.47069,29.282446,-4.4106903,-34.18735,9.5271635,-42.92363,82.96343,-57.72978,-21.03417,-40.063366,16.66015,57.62812,-15.469451,71.357086,7.647446,8.390152,65.44443,-20.565773,14.908825,9.459077,48.829018,-30.70478,26.450434,45.15219,34.77576,-64.254555,85.43649,78.116455,30.43898,-22.37972,-1.8636135,-48.556255,-53.0081,-33.942463,-4.8786783,-62.086807,-7.2021666,76.71666,4.3785515,30.108883,-31.123251,68.07183,42.21545,15.239151,-50.673347,36.887,8.299392,-19.284544,-62.56333,66.56836,19.93481,-26.45116,-45.279503,-68.31528,39.3155,-51.44125,83.19294,90.99914,33.650463,-18.81122,0.9343639,-51.34517,-22.079588,34.76963,24.77679,-65.74047,32.633236,48.138954,-62.43278,-57.007427,-24.475924,0.75564945,32.340218,-41.137367,36.201298,5.813973,-9.91646,-66.02294,0.99921024,47.83481,-28.016113,-29.193174,-34.218307,21.16908,-22.839033,-64.07003,40.732914,-31.427977,0.85760355,17.1019,3.7261665,88.98556,3.827866,-53.16328,74.73765,-28.453722,-66.67224,-26.370182,-4.6036816,-72.72545,55.249012,-15.762285,40.91388,-41.195705,-23.381016,64.15274,0.1361899,43.49418,8.386995,4.2736745,15.826523,-36.607147,-25.390928,42.994297,-52.2323,83.64675,-39.679302,-23.94122,-25.848097,-49.634357,85.23982,-10.921356,32.63881,-40.17758,-33.542877,57.867874,61.44945,-12.596266,-6.84375,-56.57465,71.36747,41.899345,26.613493,36.588917,-64.353165,-69.47522,-24.63184,-22.855986,56.94776,11.511241,3.2321317,-58.47098,7.2028427,-40.162773,14.268415,-35.265038,7.2851686,-0.58614355,-63.551582,62.392265,-23.09753,-37.679802,-24.248718,-32.662,20.62883,36.573086,-36.935165,30.488018,32.707684,-54.341385,20.271736,-43.356403,-43.715183,-35.071693,63.65562,79.608154,64.004974,-0.5587466,5.2825046,-25.147593,-33.626503,-2.8103166,-1.1954957,-4.6233654,1.0502336,10.591224,-21.037905,-9.086817,10.060138,-61.22376,27.419388,43.19913,34.957058,-5.751757,17.50552,-25.855309,-32.11048,-32.05501,66.77199,-40.8462,24.317705,74.65221,-43.075806,-52.085213,-45.50042,44.128742,2.5087564,-14.5283575,-49.174446,-59.72157,-11.502684,-36.89856,-6.9013777,21.741423,62.481155,7.4879837,58.460903,8.002872,59.87815,67.1154,61.423054,-26.553837,34.038357,12.42299,-26.493467,-54.75096,-23.601929,-48.033844,22.478746,-40.851818,-6.0719104,54.430035,-64.86156,-35.19322,63.197235,6.6805887,-32.04618,76.10301,-52.15759,44.552082,-56.934685,-5.456249,9.869143,-67.218895,-49.532402,-29.891119,-24.14224,38.983356,15.364748,11.868146,-30.091726,50.104675,-12.909617,14.031901,65.636505,28.427639,-62.895744,63.319157,40.76506,51.29721,42.169395,-62.025032,-20.520065,-9.168148,-29.963232,-2.9962735,16.873234,74.91514,48.73242,4.900873,-51.958508,-47.782,40.77287,-23.198622,46.08084,69.25441,-20.060087,23.407993,51.476643,0.7327205,42.0625,24.889832,46.840816,-35.07779,-22.600458,-56.41678,63.837322,37.45778,-33.4459,-70.20618,-53.43334,-3.567578,-6.4741054,-63.529945,24.326624,9.823282,3.8966827,-4.7711744,52.00761,-62.059174,-42.019127,-43.11988,76.71364,57.204628,12.597746,70.5433,26.256853,76.9541,-27.980896,16.686644,-27.25966,-33.310207,76.71392,-42.95637,-13.504745,-15.960836,-31.783161,82.03371,-30.079138,-66.16753,-40.587257,-33.61215,42.179005,4.1883388,7.1126,21.601292,34.23247,-12.408588,-66.048805,11.564489,-11.694028,57.62859,49.814423,-6.7729926,37.896893,58.95902,-45.864307,21.246315,-62.75787,10.0610285,-72.56227,25.267506,-5.3396597,-45.40755,17.792093,51.381413,51.71048,65.5851,-48.54623,16.404814,-62.398327,-23.97452,-39.308285,12.214092,-53.411613,10.878337,-64.71683,17.344454,-43.644966,61.112247,26.375448,-45.329895,-10.840838,-56.790127,-1.4279314,16.201345,-29.666285,61.108208,67.92527,8.640539,61.993168,-0.40389583,-43.2064,19.127453,-4.2947836,10.889088,30.904217,-11.429366,-65.59504,-27.892971,-54.304714,-60.29298,24.278532,-37.994164,42.770107,13.979217,-8.055661,-11.073954,-33.238056,-27.438278,38.63515,-20.361807,-0.08338799,32.914764,49.679726,-10.990615,-47.284733,-10.456107,-53.638176,-28.348454,11.460516,-34.16491,49.187668,-31.638058,36.39491,-37.944443,-18.33674,53.563744,-65.698326,-52.78243,-16.110115,-53.376705,32.730587,14.421652,-39.988285,-18.279165,-57.216263,71.306595,50.585155,-64.18595,-60.12285,-37.901634,4.1486063,-47.72316,-37.83242,31.83821,36.601456,7.398838,11.40284,-48.48692,-15.475444,-36.136627,42.394024,20.219723,-63.046616,13.908138,75.32867,-38.79836,55.65609,21.298897,60.873188,-58.11536,10.128223,37.076714,-33.63269,19.55224,89.08698,-64.353134,73.424545,33.18847,-32.55824,7.2206817,-12.476743,33.15923,-25.139101,18.601444,-56.257465,-9.494181,-66.85099,-34.978516,-68.59539,5.450279,-23.551355,37.122814,30.901588,-2.54468,-63.247517,-31.523756,3.3070214,20.926882,-4.7304153,-52.234722,-48.553062,0.94023734,53.16368,-72.40896,20.513796,20.343824,47.22105,-1.4868655,71.44626,34.76352,-53.15588,-12.018079,-4.6395297,-23.500872,-70.750244,-16.49516,47.362232,-39.14123,-46.269432,14.417203,5.698655,-22.587076,23.008644,-49.083897,-14.525131,-14.318615,-33.632366,30.992846,-8.472217,38.337902,-25.680183,2.566877,-57.56572,-59.133278,-62.60246,9.594783,51.59046,23.133036,62.621937,-0.8700249,62.30342,-54.60186,-28.32493,76.18635,-8.940951,-46.146,10.767133,61.67424,9.452102,15.596593,-21.64207,-37.69517,-11.521215,6.3764076,-65.71993,59.309612,15.634913,-33.2016,-42.425194,-48.733,-47.42425,2.313073,-23.519558,9.8232155,-11.358314,-4.5201955,-34.33812,-18.134594,82.73007,38.823902,34.252216,85.332695,-60.769573,70.588875,-24.262955,26.459482,24.895533,-50.257675,-25.70298,-36.997314,23.066822,53.764126,68.755325,-53.356674,37.184837,61.530003,-39.9836,-32.23368,-70.206154,-15.713626,39.281765,38.82866,-11.015976,-32.194836,47.945057,-35.556347,-5.4319763,-12.960366,-16.343853,-24.609219,23.135115,78.9885,-63.69182,-60.612602,-27.581356,-41.7757,15.537448,-15.902164,28.304052,16.456734,-10.227827,21.93647,-6.897211,58.95262,43.907673,-57.745663,-2.4661634,55.404606,-1.3839236,-5.245776,-64.24974,10.638808,-11.514484,31.1599,24.964954,5.794461,4.301436,43.596416,74.65783,-60.909138,68.912186,-51.096176,-27.819304,-72.07417,5.9611144,27.139275,30.995424,21.365553,-33.58861,47.048843,18.511719,-41.79537,-39.490677,74.28213,-63.289734,-52.11182,-53.070477,-1.9683081,24.942492,72.82793,-0.8713638,-8.48786,-63.04729,-54.69183,1.1140457,-49.191814,82.0511,-21.094904,47.902843,-37.04715,1.5335909,-38.908257,-7.23414,50.77615,-67.11206,24.572422,29.973898,19.83703,6.4870067,36.417274,29.475767,-20.930502,-34.484035,76.18572,6.6266594,-29.118128,-2.8671517,-41.15973,-60.593075,17.475431,58.329487,-63.56135,32.85303,-61.85573,1.5216402,-48.683235,-19.724545,79.63459,-33.52552,67.657074,84.57489,69.32666,36.86017,30.67266,85.427216,88.29476,52.31378,-2.2440226,26.690271,25.317436,-1.9016765,-2.2552836,35.75445,-49.03051,-25.839727,35.637554,-48.62299,15.152427,11.396632,-32.53002,1.0716602,-49.154423,-56.647892,-41.307816,53.358883,15.866869,7.8148127,-67.596855,8.732155,25.161486,-40.513332,-2.61996,1.3454401,85.426796,-19.807941,-44.85351,0.03910805,39.10362,23.444887,30.317074,69.82303,78.59636,-17.481846,-61.66907,12.891573,-8.859992,15.50358,26.584707,-57.910667,-4.202516,68.59557,45.809692,22.055485,-25.250761,-71.97488,-4.654793,-50.23558,-25.932894,-0.01724994,68.137856,-20.97857,-43.363075,-14.0144,42.070942,42.707413,7.4637356,41.647335,51.34137,-0.6963047,14.90839,-8.808246,32.53952,-61.113518,83.31287,-40.23158,35.894257,-49.74615,4.5479584,-28.962854,25.444729,14.412783,53.004917,-13.974177,66.33933,83.30129,14.284597,-73.02879,-32.84639,47.11898,6.5496464,-33.118614,38.713642,-52.23555,8.1502285,-68.33232,20.367458,42.70425,-60.904083,2.594515,78.59206,-51.835968,-26.655403,-29.413267,32.689648,25.616495,89.15424,-64.33283,-21.184944,-5.0552444,-22.676594,70.77301,84.13623,51.01847,62.67336,-38.833702,50.531834,-40.318462,3.7820115,16.223343,-36.403255,12.950729,-3.852038,-11.018122,38.28276,-30.054056,76.34006,2.5673685,-14.168294,65.63129,49.038433,-38.614307,28.327198,74.49061,-34.04251,16.395298,61.382233,-5.415803,-54.129326,78.29322,-4.300815,-9.062711,-48.823147,-64.447586,-45.95243,91.05741,-65.30472,-1.7065507,70.62323,-11.690452,84.65897,6.59781,-24.556297,-39.62601,-71.33571,9.445838,-29.389137,-56.33819,-42.729115,15.199955,-45.890656,-32.087875,63.245968,-39.833454,-20.961246,-37.507782,-63.075756,0.06395736,70.48956,46.349823,-63.45768,7.718093,0.79535425,5.7199874,76.42759,52.6286,19.042482,-46.45879,-36.04483,-13.084234,62.4028,-28.01622,-42.430748,-61.862415,7.76139,-41.166637,-23.687963,-16.593826,39.03247,-47.836163,20.70682,69.671326,9.833117,-0.87118804,56.752842,-58.522984,5.6423388,-4.637705,22.16591,10.638349,-12.049569,28.617046,20.515741,21.169903,-22.54549,-21.219942,17.6057,24.415653,-53.923454,-38.407623,24.78002,-41.33741,-41.442623,-5.1993446,-49.526802,9.278632,-32.84665,-54.296986,67.79944,73.10008,19.179705,18.30592,-10.391753,-34.428955,-3.5682197,-65.97543,-61.405556,-21.646196,-37.76438,-13.769223,-42.992016,-51.067066,36.97799,5.668357,17.071033,-16.5922,-24.73065,-14.636607,61.578903,1.5665455,47.64706,-61.403233,14.006788,-1.2378118,86.799126,-33.651974,-1.8439628,48.26353,-16.808367,-56.789967,33.2713,-39.889576,39.775337,-1.503376,-64.1905,-34.121735,-26.601965,-32.251606,-63.735817,-32.51991,7.616081,-25.219852,39.5173,73.289894,85.494095,6.7671037,-34.366127,67.4497,-48.702953,66.588196,-51.36032,-47.35494,15.873909,-24.197426,43.431446,3.9690108,29.673561,-34.203167,-7.9507775,-41.91972,71.855675,-5.352581,-38.634926,-31.516764,-14.684912,-18.28582,-56.787025,-18.581596,-32.185577,74.30451,9.286728,-5.157112,-21.41678,-11.410975,-44.292763,15.138981,51.215015,-57.60744,-23.37612,-12.862563,10.066076,23.25365,-22.232801,-28.28519,14.702171,-53.80902,39.84473,-53.148537,-54.57779,-6.7105203,-29.549173,-9.003283,-61.156597,12.591215,59.454044,-24.975733,-11.666413,60.922173,-0.304353,-39.760468,15.312817,81.45665,-23.29299,-14.438905,-29.79176,-56.585648,-31.16537,-50.801533,47.36738,-20.793749,-19.44182,-14.52926,10.214601,-22.866058,-59.446453,-23.414188,-7.117586,28.45088,-37.227413,85.00137,16.858868,5.2834725,10.453047,-13.296915,-58.526497,69.39485,18.567762,-12.897193,-23.620264,-27.26074,-9.553962,-33.541237,1.7227184,49.760483,-59.242344,-26.457878,-52.536907,48.42826,-27.158947,-29.48135,-38.390873,-20.30565,-19.294495,-7.0726027,-65.33979,-27.350445,-71.78932,-11.999595,-11.099747,12.294798,-2.6685436,-54.29214,-24.247686,64.12311,25.670692,42.494785,-5.1419477,27.611496,51.22085],\"xaxis\":\"x\",\"y\":[4.3299103,-6.0525427,9.649294,-33.376984,22.375107,-2.3167176,30.444706,12.956925,-31.425995,11.924135,-9.760746,30.69895,-19.695837,32.2761,11.096891,-32.046192,-3.1902003,-13.507938,-3.7926977,19.405575,-32.2369,-19.810814,14.24706,23.49609,26.305878,26.05074,-2.4786093,-39.0864,-2.962105,-25.779097,30.106215,2.827852,34.253807,-15.692853,8.965432,-0.3180497,-12.958198,-6.5085487,-6.8141365,34.836464,-40.223465,-12.629722,-7.8390117,26.100822,-5.8335457,29.822353,21.511072,-26.59987,15.514697,5.1967697,15.44781,-12.183791,-10.926431,-25.241713,1.2845719,-3.3769593,-23.933813,-24.60838,-35.07661,-6.408618,15.122559,-45.939445,28.47489,-16.218407,15.7820635,-9.67078,-24.127962,29.874966,-12.035629,22.48737,8.24463,-45.01402,-4.7580733,24.635885,-21.389288,-1.4211618,29.61336,-39.366386,-1.7870404,-6.3884354,-5.4415445,-41.097744,-5.844253,-0.28934476,27.50175,8.564678,16.330502,-5.3820043,36.80444,17.460907,-21.135271,3.7632294,26.077618,5.2684917,-20.755344,49.614033,43.03976,-10.143781,22.27201,25.930882,-12.402944,-40.783092,7.49892,17.986168,-30.99962,-27.635174,33.40445,6.9333014,-4.653387,-31.683084,16.160007,16.790928,-45.849136,-9.278094,27.59828,0.9546424,-3.2006135,16.520992,-13.706747,-27.031406,-9.632872,25.326233,-3.8684368,10.36745,15.998565,19.408184,9.259839,-41.644283,-8.645702,-1.9828562,-14.487289,36.18324,9.718362,-13.541278,11.227795,13.986616,-13.015368,-23.249006,-4.876025,37.446426,-41.164246,29.480179,-36.80231,-13.978405,45.479347,30.18717,-42.27449,-0.50849915,-29.612087,-24.341991,-32.05465,13.668878,-20.08703,-15.55395,-46.350964,16.497952,19.017788,-7.215606,34.211277,-10.059424,0.5364241,-0.8463476,14.19616,21.99248,-17.136415,19.540243,-47.339497,-6.620074,10.9003525,-32.191483,-45.50962,-26.47444,-49.772587,6.3467555,-15.08585,0.6024235,24.0033,19.011835,28.394356,-36.814266,-22.7151,17.071043,-3.6799846,15.685501,17.957191,2.3906589,-4.6214,25.413576,-4.0885963,-17.79686,12.306395,16.288729,-3.0595164,-8.161665,-9.672361,-2.0729012,-17.990671,0.4592633,-5.1256423,-27.662598,4.8412886,14.906961,-5.2560806,17.989975,6.457363,-40.77914,-6.45747,-4.2257338,18.700005,4.141228,-4.8158317,28.15931,-32.356327,-38.546894,12.315608,2.036115,-15.923108,14.853462,20.114637,13.110265,6.4710374,2.868492,-3.6047156,-8.114572,-42.535503,-40.773132,24.878836,35.229263,-35.633102,-20.242958,25.980333,-25.70652,20.910406,-36.83963,24.4737,10.179588,22.825556,7.3677278,-8.194048,-40.884777,-3.0150173,23.86993,-12.050864,-16.983768,27.402552,-7.5077386,-4.020365,13.8863945,30.624052,-22.19938,-39.93222,-36.848656,-8.829433,21.863585,-5.428131,-8.474785,-7.764413,-7.4327784,10.979778,12.170848,-20.986885,22.85854,27.954662,-15.301264,17.141474,-21.916098,3.3826492,-29.726334,-2.7716997,15.922003,35.96504,15.022872,33.771378,18.799395,16.047386,-7.4960675,35.175625,4.9792795,-23.988785,21.465452,-1.9158535,-6.7175503,-8.80596,-47.990288,15.549892,-13.255302,24.246735,0.6000782,-4.543858,-38.145782,-8.578539,18.368464,-38.29069,-28.19676,-10.930163,4.6654134,-4.771947,-2.3963933,-24.316818,0.7458476,-3.3170154,33.817135,-5.6744065,17.557644,-41.46533,23.159906,-8.924993,8.321637,-17.266817,-2.831594,-42.396233,-5.477542,8.778786,-15.655272,-34.14152,15.813807,10.233589,-26.201145,15.033556,-29.465616,-22.246544,5.0397344,-4.3857923,13.620839,17.596481,-9.617701,3.8557546,-6.8315196,-7.4084024,18.101109,-16.250439,-2.318101,10.651564,-39.97235,46.50763,-45.26578,10.59952,-6.162683,12.619168,17.395899,-12.426126,35.09326,27.593994,-3.7104263,-5.7354813,10.072452,13.445772,-17.719334,-36.18001,-47.335636,37.587967,7.4986415,-43.564922,33.430084,9.514495,31.9481,26.826221,-38.912796,13.982581,-3.4064243,23.516039,25.499496,-40.71597,-9.259941,-11.041249,29.654716,-15.507381,21.482334,-30.999094,-5.3980236,23.87052,-46.62552,1.289431,-0.07379313,-20.602867,11.653439,14.216321,-46.31177,0.8623603,-9.522647,10.83005,17.995667,23.511293,18.430128,21.256804,-16.865482,8.359045,-5.483676,37.444324,22.392635,-0.99623835,4.9468436,17.068508,-28.967789,-9.229561,-42.999504,17.783005,0.23341824,-28.40604,5.665999,30.768,-32.87813,-5.64706,-9.244513,-4.8467937,-1.0997343,-23.041725,21.46575,33.486214,12.831749,7.9554143,-9.184153,37.788784,8.0876875,30.882818,29.822618,9.031468,17.485754,-43.589363,-25.249632,5.32424,-15.478332,-36.21766,-13.835088,-23.28863,6.098003,20.29989,10.153684,47.013306,25.641432,44.694107,21.736618,-30.689127,-4.5740066,-8.908979,8.888386,-43.906933,40.733364,-32.804688,13.334774,21.257605,-10.187075,-23.19987,37.032932,16.772812,-34.51322,5.097816,26.16483,-5.83326,8.132684,12.236659,26.01193,19.363115,-39.693684,22.126085,4.2198753,-0.57536715,-11.553124,-38.156147,-29.000338,17.158703,1.0827837,15.15254,4.099685,15.3765545,-7.448347,20.176636,5.6491656,9.908062,-10.541564,0.5630363,-9.465427,-32.66634,3.7971272,36.528957,3.1883996,-9.654228,15.175962,5.7894793,-17.46722,-32.78274,-39.692345,16.19398,19.689507,23.068958,13.969934,-23.923553,-17.975166,-25.947979,-35.419216,18.34055,-17.565624,24.929823,-0.58969265,15.55914,-35.306046,16.611992,-30.517195,-30.48062,14.649779,27.124908,-7.115253,47.162815,30.75878,24.784721,-4.7741437,-33.89168,5.054782,31.462763,35.716946,-18.659855,-2.2266467,-23.165369,-18.013136,30.68524,-26.281013,9.502194,-41.28212,-47.142292,-1.3209635,9.414579,-29.846663,20.056583,17.299967,-1.4642696,8.446855,11.948771,24.761402,6.7794523,14.156287,-11.090562,-16.969257,40.924194,28.509592,-46.31413,-22.193205,17.394482,12.360215,9.187499,23.757915,46.35504,-29.193113,15.409544,-6.6341696,-36.342175,-8.103814,26.95845,31.347197,21.299883,-36.487396,15.356173,-29.079714,-34.039364,-24.04625,-38.390125,-6.601161,22.25803,33.290787,-6.315075,2.0136385,26.436308,-33.877983,9.94066,15.434062,-37.681854,-17.665474,3.235205,4.811249,-5.0186977,26.106207,-1.9683478,29.316359,26.03949,16.991772,-0.55711854,-10.231084,-4.264463,15.919157,-29.974825,30.490412,5.43859,18.717577,0.33100334,46.491585,13.309898,4.699991,-9.626336,-5.887659,30.575636,-28.588232,-34.609028,12.884195,8.421524,30.07745,17.341312,25.670166,16.10399,36.014133,16.726889,10.369902,8.965841,-3.246883,-43.3122,25.17972,-26.45951,27.668552,-33.280876,9.576778,-26.380516,-17.142338,-6.8263736,-5.1626315,-9.051533,17.384048,33.0975,-1.2182719,15.248029,17.808207,16.223526,-23.87856,-4.818148,-38.122063,-7.690081,1.765494,36.3908,-27.787352,20.6629,-4.562031,-17.324604,-23.434345,-5.1817956,-12.274355,12.565738,-42.038204,-2.6002216,5.0877733,-28.505495,-19.579124,18.016386,-2.335348,27.105326,26.272873,-37.495136,16.671083,12.831749,-39.388077,-32.89008,-25.05676,-15.492016,-13.098351,19.768888,13.349104,6.910527,-12.94909,-5.5487337,26.040535,4.1113997,29.798107,19.52136,-23.350069,-39.077797,-19.064253,-20.157042,-1.96212,-13.585651,-28.363514,-2.9655762,-0.29184937,16.577015,-5.912065,21.415352,-19.787252,37.78968,14.085517,-40.84931,-43.00105,16.997412,-10.755869,34.00455,-32.200447,8.851297,-14.210399,-8.254912,1.037094,-41.946102,-44.955544,6.9223795,-2.5349557,28.677586,-8.341846,0.8208178,-8.951845,-15.984254,-38.977566,9.266356,-0.85703987,-17.214989,-39.040714,16.770334,-29.654589,1.2235191,20.672386,21.085283,18.99195,16.582006,6.7839923,-35.28277,0.9120763,-2.4983065,8.940777,36.163013,-4.427336,22.157688,17.513784,-39.21521,-1.2216334,-37.86624,26.021534,-27.522186,12.200609,-10.043281,-40.486683,-38.91618,-31.801138,-5.2244124,8.477067,-2.7438433,-21.530695,32.046722,-0.55711854,-45.447533,5.2919784,-7.6187677,-1.1093032,-6.2969203,15.376144,36.42481,46.99545,32.94857,-11.82444,-5.3275833,8.262986,-15.751719,14.426275,-3.1890216,46.577015,5.4319396,-1.2606132,-36.762318,34.54555,10.677217,-17.31706,-26.296535,-13.597338,-26.201788,-44.3654,23.92821,15.789924,15.014827,33.89975,-20.402487,11.534848,-30.195574,17.732368,-8.817217,16.688221,-28.714499,20.05334,-30.749788,11.834383,21.477026,1.0843178,17.134108,24.559229,32.431282,14.633864,14.899392,-10.7450905,20.129566,30.720297,32.92198,32.75272,-2.9161673,15.707303,-43.19002,8.631795,5.0119543,-32.74365,17.067204,-1.275346,14.325355,4.1296,16.341768,24.587975,-35.91494,33.29067,-25.7474,-44.101513,-37.86607,17.468752,-40.643295,13.09675,-36.57401,12.761618,-7.5375776,29.614891,-13.501113,18.207554,31.11377,-0.41716805,9.910098,15.053686,46.63347,47.536236,-4.876506,-23.988588,13.068716,4.3416324,-25.623297,18.223188,3.7514808,6.7753963,-27.02342,-39.272736,6.206463,11.615451,-4.1522865,-0.37880546,29.637024,-36.931698,-39.414497,-6.323956,-37.283894,-8.827497,-0.3828969,22.48341,-19.514786,-34.678165,14.558646,10.994948,-1.3078446,-10.693391,5.499182,9.519218,-14.825765,-27.741915,-20.66393,3.3174865,-23.165873,12.57726,34.838684,18.983091,1.723175,-37.30046,26.021246,-31.45662,-40.29079,37.962135,3.4792626,-25.625387,20.086712,-9.910941,-9.296203,11.370774,22.134771,33.108032,-44.250504,20.61674,-0.6892815,16.606308,-31.55802,27.070215,9.445408,32.54605,-22.616137,-38.0084,16.54636,12.927895,11.425025,24.864386,29.919373,-1.5398045,-41.35289,33.42112,36.4283,1.1990612,17.288649,13.092211,-16.257734,27.680208,5.1296687,-19.547682,-37.27588,-6.744742,-0.6444539,8.730184,-33.978626,13.165652,-39.072845,-0.9135801,-5.463716,11.726799,35.347115,-41.377277,-41.025154,1.7858217,22.511122,14.730147,17.782932,-29.96438,36.523766,-1.3758465,-25.52139,7.4572535,-20.350061,9.212445,2.163758,17.023357,-32.417324,-45.42912,11.983441,12.252988,-24.73847,21.22213,-32.97035,-18.187502,-36.29457,22.057697,2.3563356,15.048742,-6.9997444,1.7764187,-41.845806,5.8662577,-16.74029,-9.719506,14.615777,-36.961227,1.8915328,-6.980462,-16.580381,-1.3884771,18.584013,12.794525,9.848181,-10.995774,33.45352,-39.099472,-16.999746,-9.645337,15.923922,-29.977823,15.225192,17.130804,34.8136,24.451513,-1.8908688,-18.635664,-24.76698,-36.121452,-40.8676,-35.12822,27.668552,0.021347303,-25.239838,-20.77744,6.003421,29.822563,-44.52991,-48.583015,15.288224,-22.1813,12.07495,-40.706097,-8.833385,18.936502,-8.607501,-40.419754,-21.506653,-26.162086,-19.738209,15.175713,-8.475704,-28.1627,35.40326,35.403168,2.3322284,-39.59658,-42.272423,17.761566,25.439272,-34.078148,-30.099398,-2.421346,30.376747,24.205517,-8.370121,-17.715704,38.28041,-35.64836,-43.145878,-35.43023,-8.984615,-15.454417,16.955807,-44.04541,-45.12826,-13.508987,-20.939846,9.210954,-25.491152,33.681908,-24.287638,-18.30109,-21.79079,-35.789135,23.347366,16.761812,29.477032,-0.14945838,-3.9869564,15.298654,-18.573067,8.28093,-42.365337,30.16574,12.2763,23.3416,41.803303,-36.010693,-34.17616,14.239381,11.993951,-1.2488302,6.3790007,-3.5024173,-35.838886,-3.3986754,45.235992,-33.571423,-10.4637,-2.5751717,13.905767,-42.66371,-41.844727,-26.166405,11.286545,-36.12045,6.835132,10.08814,1.0618231,29.412357,20.84574,-7.403719,-21.744661,-9.369373,12.9183235,0.25311276,-21.17602,24.14714,25.651634,2.78377,20.60229,-31.107645,16.907663,-42.16985,-10.9842415,-31.204517,17.656897,-43.441414,-44.989227,13.855965,44.488876,24.248226,36.153187,33.22868,-13.700208,12.762506,-12.241927,8.42149,-6.3577147,18.265966,34.722576,-39.972084,-6.619538,23.46054,-25.595772,20.288101,36.778713,-12.273866,9.325002,5.197042,8.370134,4.260326,-19.700573,18.451338,4.81322,0.6013839,28.836037,3.62782,24.73086,6.9455094,-33.85702,-21.212341,-24.942871,47.119484,13.209849,27.608496,-37.695786,32.875626,-9.931563,34.150738,9.520272,-12.610171,17.12628,29.607882,26.33338,-22.322218,19.140034,-32.831516,-33.116997,-20.176056,-49.01908,-29.865503,34.482265,34.295944,-36.190308,12.452497,5.538719,-23.133192,-6.45971,-25.287035,6.546158,-6.7555785,8.610786,-36.078823,-28.28988,-22.247889,-4.6311603,-4.02694,11.570712,-17.001772,-23.56464,15.954583,12.434785,16.728811,16.887465,-8.347645,-36.21835,-1.9708292,2.0980878,21.921293,-27.807377,29.247255,11.809103,20.670221,-11.950793,12.515866,-11.484624,-19.422665,5.818618,-4.5246625,8.953736,19.76217,-44.710114,3.3726826,16.582048,-7.379493,21.027304,-9.5115595,-13.426836,8.877252,-2.0018804,-7.441161,-1.0923934,18.725912,-3.9803278,11.540498,4.1746984,34.66805,-20.418095,-21.156294,30.443478,31.018587,26.823471,-32.638206,-2.1604254,2.4111571,-5.960228,21.178537,-39.962452,-11.670563,19.451303,-33.285015,-12.159484,-23.679323,6.5537734,-4.449361,-15.024004,45.212906,-43.455563,4.420713,27.455666,2.243267,-5.364081,-21.613438,-15.938357,33.856144,-40.60135,-3.511643,-11.908378,28.363634,5.1967697,18.040216,-14.664523,-17.175573,16.559772,16.309351,14.912136,-15.838931,13.057146,-34.078445,-21.713043,13.377169,16.023565,13.779695,-35.044224,16.652485,-0.5935533,19.748112,19.627733,31.80279,12.854859,-17.812326,-25.577406,-3.2497146,12.080237,-29.391739,-20.789864,-3.013652,-35.740734,12.103537,-2.5061057,26.749578,18.463959,22.059063,-13.67912,29.159534,16.82063,-16.216116,19.20032,-24.546463,9.05626,17.670048,-25.9124,3.3281906,-31.057245,-4.572077,7.4213367,-8.86373,21.448006,25.88508,2.1825585,1.1635507,29.406948,-34.804646,-15.677132,30.68754,4.2508,-6.53462,-11.736198,36.42859,-22.235268,3.5592558,-49.049534,-35.43461,27.073877,20.090284,-16.63925,-28.685568,-12.590959,-37.72174,12.6537285,13.848348,49.444996,33.210888,26.179733,0.44009265,-47.071007,-13.363066,-7.0425944,-8.316293,19.173069,-32.8519,-4.8407173,35.53372,26.75221,2.1149957,-38.452732,3.9012413,-13.583052,-6.8253813,-7.045506,4.6997576,-40.706005,-19.254808,-15.606446,-22.59532,22.837202,-3.0500355,23.890684,27.100765,12.260132,-5.417212,-30.266174,9.869508,-20.40423,7.743706,-13.391258,2.8314886,30.876808,-7.924435,36.208923,1.1988837,-1.0170498,36.429123,-2.603393,-0.81895286,-0.40399903,28.41186,-32.54016,11.505546,16.934423,33.258907,-28.076729,19.0817,-1.6692904,9.338697,-11.554057,8.553851,31.437546,49.565434,31.576628,2.140983,13.478235,-32.630936,-38.363926,16.88991,27.140663,27.388216,-19.910082,9.786811,17.719662,-11.748691,14.232017,-3.7634597,-15.490202,7.0703387,-6.762488,-43.97767,17.134401,-15.602654,22.831175,18.763916,16.011679,-20.686832,-45.323006,-2.6605942,6.456506,-6.810216,34.675198,35.00407,34.01736,-17.166006,15.771752,18.667007,22.414658,-4.153536,-15.381676,10.479642,14.011263,-17.128305,21.98117,16.774115,-35.89125,2.308054,-35.587677,36.080826,-11.264933,2.0702844,-30.98479,-8.817116,7.3649206,-18.892227,23.246698,25.891108,19.200718,-1.4962424,7.4860225,27.808767,23.500937,10.302009,-20.351156,-38.51282,12.238399,30.443195,-5.111179,-25.606304,14.503952,7.0223885,20.019842,-5.8731437,-7.0681148,24.335487,-45.065926,-12.607582,-2.8200116,30.954073,11.860081,-24.506857,-0.436528,13.699123,36.417496,12.409838,-14.486531,-18.759499,-6.252105,22.599474,4.6997647,23.813835,4.3557677,10.144842,-18.133966,3.1545687,-7.1511965,-12.910956,-38.410294,21.63325,-8.711508,-22.104563,-8.19114,-10.038698,-15.670797,18.377958,-18.746595,24.663107,3.4244053,-6.279576,-17.920124,-24.872103,34.776695,20.769289,-17.448887,1.7840253,20.115206,16.061056,-18.009058,9.766317,-39.133335,-38.420036,34.799896,-9.292325,-10.007634,-1.2629877,0.6501657,-5.611995,-34.749084,1.3211184,22.64422,18.643745,-18.510729,-23.181068,30.181065,-1.4565938,9.204285,-2.9660568,-5.4268665,26.703062,16.634718,-14.52809,16.172058,-39.857613,3.1806023,-34.816532,-7.79717,15.581119,28.524044,-20.868505,26.179792,-36.590794,22.034689,32.91214,-34.785667,31.325571,-38.472584,-42.950466,14.477254,-3.67052,-34.575966,17.787367,25.53756,-32.05238,31.773878,-6.60384,24.47516,-32.590015,-12.653392,-16.17096,33.376812,24.382492,10.568592,-2.8358867,9.606015,-13.9458275,5.713593,18.045147,-22.262268,-8.5945835,-21.929117,-2.6414576,21.41368,32.828224,-27.52461,-30.90784,2.9489195,-2.522425,11.529811,2.479987,0.4501962,23.492126,-45.2594,-26.588686,32.123787,-8.889888,-21.842356,2.1930776,-2.154777,-5.685605,-28.294939,11.783399,9.563512,5.5269575,-11.373313,2.1532316,25.65981,13.9175625,-25.933088,-16.49521,3.2095103,-18.832834,11.838646,-40.71357,-46.46181,5.431728,12.194126,-4.9494405,0.4627626,-9.912219,6.1285334,-39.365547,38.016033,-32.92568,5.8497105,29.898302,28.766035,33.13599,13.989598,-31.415749,9.258496,-11.072271,-24.077599,-39.475643,-1.776811,-16.695965,13.457804,-14.175118,-6.2345705,48.932514,-14.760403,-33.76628,-38.456852,34.14478,33.93394,-41.354023,15.211859,-42.72678,-27.953999,-27.46893,17.427107,6.799235,11.176167,2.4486187,8.068239,31.128756,-22.7864,-44.44333,-0.75130504,31.007498,18.991367,16.393566,34.50127,-1.1288018,6.07426,-34.641865,-1.9864886,11.301478,22.976652,-10.704382,28.550135,6.5987887,3.6652496,13.171338,-39.767876,-38.918087,-14.895273,1.8417507,36.400593,-21.719946,-1.7399427,6.3983364,-6.48364,15.2263775,15.060242,-2.5471096,-1.3219615,7.975144,-1.3314031,11.905864,-16.140844,-6.23803,24.492374,37.57302,-17.73338,12.701534,36.41281,14.909183,-2.2055373,27.173237,22.204685,35.290104,-15.376198,-36.175564,-25.612135,-29.082972,33.084198,15.778954,29.991589,26.599173,-23.071829,-38.89883,-3.2052445,14.751701,-0.6651296,12.413654,26.060127,33.59886,-14.499056,2.4791067,-6.3000655,47.157455,-3.7116787,14.05301,-39.62949,-5.541631,-9.130072,0.3311292,4.6998816,4.177436,-3.66723,-23.39777,-9.237201,11.539998,6.1849923,13.185706,15.998714,13.905432,-33.9076,-16.156181,-2.846062,24.560705,10.204485,-18.95472,27.268509,32.17877,27.256588,29.521357,-4.663896,16.684572,1.2542971,-16.056526,18.586184,13.432626,21.031092,-22.153072,32.144573,6.305098,-5.6913633,7.6197777,27.330004,-23.520086,25.394087,-23.997885,3.059588,21.137615,17.101467,8.469963,-36.409725,26.47369,12.10029,13.178878,-5.839985,5.211707,27.208256,11.88756,0.6562617,10.052215,-4.6819882,-26.524529,10.992416,4.769799,-5.8548074,2.1871657,-24.080019,5.107821,18.713114,-2.6741755,5.968924,-24.53616,7.2067833,18.0692,-35.42704,-38.79094,20.91465,1.7921437,-0.37721404,-41.659744,-27.590601,1.7248279,16.927908,15.591277,-8.014242,0.81511235,-42.245472,14.624778,-39.20019,46.940453,34.29693,-2.6409063,32.91178,9.411453,-37.07089,13.690456,-8.347373,25.404497,16.588419,-39.935383,1.6766586,-27.722263,-26.620144,33.447334,11.292906,-17.435144,24.310251,-13.879881,-34.45439,32.820343,4.970864,26.351526,-29.795385,-18.134165,17.302235,9.923086,-0.23718047,-7.5669184,-12.741376,-18.779222,-0.32198173,-3.9002702,0.89723134,21.860968,-27.031515,5.8170524,31.109207,-12.163549,-27.903248,-8.31221,20.780272,16.127861,26.495508,-42.047142,-12.722612,-38.450577,34.71909,-36.64456,29.701836,0.33044443,20.854439,-12.605527,-37.82228,3.3360767,-19.159063,17.777376,-2.4420235,-1.9163338,-13.3639965,9.759717,22.55602,-14.28561,-13.879395,-15.335832,-26.564974,13.303507,11.797002,-5.6305003,31.538862,27.950476,34.495525,30.109503,29.824207,34.08109,-19.068731,8.097708,22.25657,-11.478507,-19.787443,0.57757926,-7.940091,8.455469,-10.63624,19.989347,32.00744,-18.083996,-16.600775,8.106465,2.412474,-1.9689854,16.956553,-29.733006,15.930779,-38.30183,-14.252104,22.18039,2.357937,-3.77107,-13.228514,-11.180581,36.586487,10.831695,8.349858,-39.62231,20.167288,-8.795913,29.604715,21.958454,-43.716286,20.887089,22.215475,13.723132,-2.4853091,10.802581,-35.920296,-5.5052686,3.514421,28.744886,23.822521,23.27906,1.8095281,18.388758,-2.8797438,19.845266,-34.669262,-7.7701893,29.116041,8.12435,15.497616,-14.796744,-15.135314,-4.727804,-29.25968,29.865765,21.550764,-15.713316,36.561848,-9.279779,5.7106547,-32.867508,-40.536617,-26.181948,1.6605607,-39.761192,19.734102,16.513662,-26.50135,21.311695,12.897962,-18.471554,-1.8474773,9.354977,27.613544,-9.328356,33.45228,34.968647,36.278877,-33.258465,-2.1428158,15.53703,-22.283588,-11.98857,18.491646,21.973347,-47.557564,0.16751257,0.5630363,-47.5197,17.467113,-9.268365,-43.743805,11.1296425,-32.796444,-5.4842625,1.7176293,-23.00694,37.4519,0.021423416,-15.593201,33.559925,29.408787,-8.666009,41.13943,32.066635,-6.4993157,5.069012,29.162447,-28.513618,16.999916,3.785128,-5.370306,-1.716633,15.587062,28.557165,0.06707342,-10.201399,18.169693,-1.4964098,13.109884,0.2725258,-29.652292,31.202042,-34.552864,28.557022,-0.55449736,30.265934,-43.7065,-35.42364,17.978643,7.878258,20.531347,15.563495,27.164461,10.874888,-41.453262,-25.676558,-37.72319,9.201353,45.490894,-6.2203064,17.156239,15.182887,-6.304118,22.519314,-48.52637,12.869497,-0.8883609,-6.1949167,-3.8946276,30.401413,0.57725316,34.138317,-24.142593,-19.20053,-23.40646,-35.9179,16.248722,-7.8518395,12.489125,-3.4719255,7.491378,7.6042714,-1.5080881,-34.73718,14.647543,-6.8520412,-38.796757,-2.5744905,7.8551598,-37.446476,27.068943,-3.7194653,24.993784,-27.371204,17.325193,2.3321643,-35.297955,32.531197,-4.4009323,3.0341535,-3.1466422,-5.8731246,-45.988186,-11.852553,-20.942638,14.503743,18.529558,8.26738,17.634726,14.157525,-42.08278,-8.476917,37.872524,-1.2310488,2.7597861,5.9723554,-28.50528,-46.27732,31.323755,6.7587395,-8.704723,-24.289143,13.826212,29.231956,17.266504,19.28494,43.04159,-10.340641,-45.608253,9.33252,-25.900015,21.104118,-11.109561,1.8016967,17.862474,11.137381,-18.145056,-13.442014,2.373173,31.071386,25.53097,-41.499622,16.029991,17.384987,-17.555552,-16.35576,-33.191833,37.44752,-3.7049634,-0.28194648,27.67372,36.768444,3.672638,27.595758,3.2676756,-37.96389,-5.8427634,-8.394741,-21.675545,-39.872772,19.912556,-41.973232,-25.610153,-12.052419,-19.63876,-1.0601094,-29.86988,15.488351,-27.294273,-6.451305,-32.383415,-8.7309885,28.839108,-35.31839,1.0040779,-1.0856748,-18.892378,21.325384,35.624763,17.35433,-19.030838,-15.376872,28.81014,-27.515778,8.70685,-27.555157,9.664756,2.9724944,-25.4938,13.998079,-33.573692,30.26035,29.919373,-28.071596,0.85814255,7.0521793,-29.612701,-6.487944,-25.585407,-3.4616036,-27.950336,-42.207066,-17.43322,24.21536,-3.680924,21.444954,33.57977,11.67372,-37.37912,23.607462,-14.694374,16.857607,-5.8488617,-10.987249,9.888029,-24.147463,-9.256516,33.101894,-17.035473,22.347916,-34.711872,-5.059184,-17.68227,2.5087647,-41.210823,21.958702,-15.749062,-13.23559,46.26684,-7.443122,10.199356,10.897175,-6.7399254,34.658157,-35.72386,37.52098,30.42875,28.21546,-33.039627,-5.127312,-12.913267,20.659735,-28.371218,20.921583,26.321272,29.19089,28.192612,-16.349426,-5.3772516,11.922689,-1.2530476,-9.6873045,-37.30266,13.011159,32.88884,-33.184483,13.00542,16.00852,22.350767,9.444026,-36.98137,5.042708,26.977686,3.2451758,-18.791306,-45.751675,29.162342,42.629677,-17.525372,32.970848,-30.933064,21.601969,20.371984,11.735562,26.75099,-8.660887,18.165802,35.09175,-34.49512,-32.78696,-5.380719,-45.380795,32.522934,-36.386837,1.316082,13.279649,9.286677,-25.899727,-2.0209224,-4.2257533,16.349884,29.409044,-14.759113,-25.59793,-19.926857,-33.963192,26.838161,21.447435,12.662134,-28.502295,-13.5117,15.611968,1.2782102,-12.910305,26.73164,15.006233,23.344242,-45.190754,16.703156,-30.912746,-38.883373,8.13633,15.057599,-30.395111,-38.847916,-39.61877,18.814922,-10.724163,2.9237041,37.42371,-7.9798145,-20.597397,-39.20029,8.495308,-41.72217,20.215908,2.1759093,-31.498056,-38.119637,-22.57311,-4.221445,-0.22180228,27.501217,15.815078,-1.9898075,35.843746,34.266293,-36.638954,-31.758558,10.202482,-20.54033,-3.8593032,-11.086025,-26.74466,15.306971,-24.52971,1.0068581,-1.3149441,23.230597,15.078981,-19.784065,-0.7026379,16.033073,12.213714,-4.222612,19.190771,22.993826,15.087435,-18.295734,16.70532,-37.38769,25.128304,-35.824272,11.997698,4.2585034,16.64326,14.080794,30.002844,-34.94148,5.713604,-40.129303,-28.708416,11.102418,11.778417,13.083179,-28.529028,28.894888,-35.615696,-41.19,30.640327,-34.01693,23.37055,20.673376,20.34934,14.511805,-5.412086,-2.7744207,-2.6609132,-17.846004,15.141219,12.088164,16.253532,19.91331,18.97998,-0.9518351,26.020967,0.6328499,21.863537,16.543377,-6.9324136,-41.31698,6.6700835,-22.797691,-40.848568,13.407422,-24.636179,24.543385,-11.326232,-6.854109,0.042503614,6.777207,-33.943096,17.396719,29.468449,-9.511791,1.7402773,-33.99521,1.6869465,-9.668044,-2.9896612,20.71546,-25.501955,6.854812,-38.632,29.653872,-39.95967,21.863598,12.756869,25.99476,-23.133837,17.049402,-40.613163,-8.823539,2.523428,18.156475,0.2469292,15.138675,17.967777,-4.9927645,-31.044167,-1.7637125,29.481976,13.318713,0.95917034,-2.1631122,-40.29129,22.310255,33.034657,-46.538944,3.740148,-30.853456,-33.513783,-1.9837987,-19.389563,-14.960598,32.447647,24.70488,2.1400478,-32.93398,2.2062736,-2.4410658,-43.975304,0.32923988,-38.9389,4.6633897,9.458977,12.75171,-26.404213,-0.6907279,-5.6873717,-2.712886,-5.965146,-30.36944,-9.14763,-9.029113,-15.528867,-7.6046724,15.493953,-22.257412,33.44371,5.285232,-5.8791523,-45.43074,-14.592012,-22.683083,-3.0377283,-22.077799,25.18593,17.252325,2.1462717,11.985607,-29.03177,14.806038,-17.638742,-39.454094,-11.203748,-6.2360697,4.6379895,14.831353,29.981081,-8.705948,11.817763,-41.319294,-0.59256136,17.10031,20.48895,-8.566074,31.585777,3.6066751,22.440166,-40.39797,-39.40186,-34.021084,9.074385,-44.239574,-5.509449,-20.856215,-26.825941,27.86632,-35.72185,30.556805,16.515305,3.4284077,3.0102427,15.343899,27.605959,-20.24541,11.9809675,-4.655313,47.959484,22.304365,15.810905,-46.421005,-4.096635,-18.271544,-6.2232585,-5.9594054,16.443695,-6.8385963,36.26295,-1.2379274,44.25102,15.666509,-28.683867,-19.55165,19.757736,33.39173,12.7011,-3.6356502,-13.616012,11.4279785,-11.513363,-10.296565,35.540314,-1.3545985,-35.1897,-37.17573,-5.624914,24.916574,29.654716,21.089003,-12.590842,37.420074,10.150874,-40.783398,8.440024,13.234033,-4.1860094,-32.368683,-11.9908085,7.674114,17.558182,-7.511378,-38.91605,10.383512,13.444765,-2.916239,-29.392889,21.87578,-38.98061,5.797455,-11.938191,15.64944,19.004591,-38.509968,9.285859,20.077446,-7.545028,2.4154675,-24.153849,15.804684,-41.726837,-16.839937,-21.305136,-37.294178,18.366922,13.193388,-6.7617946,-37.39415,-33.537285,2.9099977,33.487053,5.1993895,-23.54461,-14.613816,15.0252495,-15.714362,2.1140993,-22.086891,25.833128,-2.2270525,15.091735,-38.404102,-35.80382,9.446927,4.6572065,41.13535,10.111558,28.342808,32.520557,-8.892385,-15.025427,11.975317,-19.042946,6.951328,14.1547,-15.505007,-8.1628685,-24.31235,19.364996,15.126876,-37.829586,6.5086803,24.609076,6.8183646,-15.000582,16.471338,-21.572113,16.352695,0.4213212,-41.80845,37.58577,-21.453543,32.72225,-8.93256,-15.03946,21.567614,-38.72235,-37.729855,30.350973,6.194369,-37.75913,-44.65991,22.25303,-25.231516,-2.5742035,15.761298,-32.183567,-9.9589205,-3.7966838,26.730787,15.913552,-13.075828,18.112118,-14.645538,-12.615903,-10.606006,1.5608727,-22.491787,34.018425,29.280848,-34.54791,-1.0099851,17.518871,34.411785,6.6253185,-35.00387,-33.53253,19.825638,34.512836,-27.680113,1.0228024,-10.502558,-17.999897,-40.158993,32.4284,21.52249,6.7807856,3.361508,19.241787,34.002277,-31.699429,0.5749566,-0.932705,14.017293,-19.080399,-41.49324,25.498755,3.5452936,26.583916,6.1934,10.002372,-11.188026,5.589292,7.5644145,-24.916975,25.510675,-6.9057,43.14057,25.387913,-22.185488,30.9573,-38.547626,16.246675,-6.042227,46.24718,4.0101748,-0.6782306,28.851524,11.285311,-1.3431642,33.08075,-26.938686,-13.2318325,0.51582825,-14.078902,35.908997,-16.070839,-42.859528,-7.655979,-7.946368,25.5905,-35.818542,27.949415,-6.798196,-47.08006,20.766047,20.585419,-7.699785,-24.49498,-47.14282,31.202509,-17.54656,-12.764796,-2.476674,22.508099,38.37967,-42.31718,-9.548558,-7.0491805,-26.121496,-1.3577592,-34.78348,13.830475,-18.083847,15.513708,27.41892,-45.640984,33.468544,-46.35085,19.655897,-14.770646,-36.701828,-11.5497465,3.3366663,-8.341126,5.1967697,10.528884,11.497367,-26.95519,-13.201639],\"yaxis\":\"y\",\"type\":\"scattergl\"},{\"customdata\":[[\"Suritozole\"],[\"Azanidazole\"],[\"Trifluridine\"],[\"4201-26-7|Tz-12|2-(2-Methyl-4-Chlorophenylamino)-2-Imidazoline\"],[\"Nicopholine\"],[\"S18986|(3As)-2,3,3A,4-Tetrahydro-1H-Pyrrolo[2,1-C][1,2,4]Benzothiadiazine 5,5-Dioxide\"],[\"9-[5-(Hydroxymethyl)Tetrahydrofuran-2-Yl]-9H-Purin-6-Ol\"],[\"Thiacetazone|N-(4-((2-Carbamothioylhydrazono)Methyl)Phenyl)Acetamide\"],[\"Alovudine\"],[\"36318-56-6|Tz-17|Imidazolidine, 2-(2-Methylphenylimino)-\"],[\"Propyl-4-Aminobenzoate|Risocaine\"],[\"Methyldopa\"],[\"3-(1-Methylpyrrolidin-2-Yl)Pyridine\"],[\"Alpha-(4-Pyridyl N-Oxide)-N-Tert-Butylnitrone\"],[\"Sultiame|Sulthiame\"],[\"Telbivudine\"],[\"2´,3´-Dideoxy-3´-Hydroxymethylcytidine\"],[\"Oxilofrine|Suprifen\"],[\"Hydroxyephedrine|Oxilofrine\"],[\"Fasoracetam\"],[\"Butethal|Butobarbitone\"],[\"Secbutabarbital|Butabarbital\"],[\"Albutoin\"],[\"Amantadine\"],[\"Procymate\"],[\"Malathion\"],[\"Mebutamate\"],[\"Loreclezole\"],[\"Anagrelide Hydrochloride|Anagrelide\"],[\"Brosuximide\"],[\"Menadiol\"],[\"Dichlormezanone\"],[\"Alclofenac\"],[\"Dezinamide\"],[\"4-Fluoroantipyrine\"],[\"4-Iodoantipyrine Ok|Iodophenazone|4-Iodoantipyrine|Iodoantipyrine\"],[\"Sulfapyridine\"],[\"Chlormezanone\"],[\"Tozalinone|Thozalinone\"],[\"Oxitriptan\"],[\"Dexamisole\"],[\"Levamisole Hydrochloride|Levamisole\"],[\"Sulfamethoxypyridazine\"],[\"3-Bromocytisine\"],[\"Sorivudine\"],[\"Mofegiline\"],[\"Fenmetramide\"],[\"65936-23-4|Tz-28|(4-Bromo-2,6-Dimethyl-Phenyl)-Imidazolidin-2-Ylidene-Amine\"],[\"Doxofylline\"],[\"Phenaglycodol\"],[\"Cid 10313352|Phenyl-N-Tert-Butylnitrone, (E)-\"],[\"Beta-Ethyl-Beta-Hydroxybenzenepropanamide|3-Hydroxy-3-Phenylpentamide|3-Hydroxy-3-Phenylpentanamide\"],[\"Vinbarbital\"],[\"Bretyliumtosilate|Bretylium\"],[\"Mescaline\"],[\"Metaproterenol|Orciprenaline\"],[\"Pentobarbital\"],[\"Valdipromide\"],[\"Sorbinil\"],[\"Tiacrilast\"],[\"Cinoxacin\"],[\"Rasagiline\"],[\"Skb22|Bbcpd16|B-057; Compound34|18|12|N-[3-[2-(Diaminomethylideneamino)-1,3-Thiazol-4-Yl]Phenyl]Acetamide\"],[\"72801-74-2|N-(3-{2-[(Hydrazinylmethylidene)Amino]-1,3-Thiazol-4-Yl}Phenyl)Acetamide\"],[\"Aniracetam\"],[\"Iminophenimide\"],[\"Metetoin|Methetoin\"],[\"Mephenytoin\"],[\"Racefenicol\"],[\"Clofibrate\"],[\"Oximonam|Oximonamum\"],[\"Xylazine\"],[\"Phendimetrazine\"],[\"Butacetin\"],[\"Ciclopirox\"],[\"Flerobuterol\"],[\"Midodrine Hydrochloride|Midodrine\"],[\"Thiotetrabarbital\"],[\"Memantine\"],[\"Sucrose\"],[\"Lactitol\"],[\"Leflunomide\"],[\"P-Phenylbenzoic Acid|4-Carboxybiphenyl|4-Biphenylcarboxylic Acid\"],[\"Oxolinic|Oxolinic Acid\"],[\"1,3-Diphenylguanidine\"],[null],[\"Metomidate\"],[\"Soretolide\"],[\"Quipazine\"],[\"Sulfisoxazole Acetyl\"],[\"Thialbarbital\"],[\"Taltrimide\"],[\"Moclobemide\"],[\"Lometraline\"],[\"34911-55-2|Bupropion|Buproprion, Wellbutrin\"],[\"Alaproclate\"],[\"Almecillin\"],[\"Bbcpd17\"],[\"Viloxazine\"],[\"Levodropropizine\"],[\"Procainamide Hydrochloride|Procainamide\"],[\"Etamiphyllin|Etamiphylline\"],[\"Toliprolol\"],[\"Iprozilamine\"],[\"5-Heptyl-5-Ethyl Barbituric Acid|5-Ethyl-5-Heptyl-1,3-Diazinane-2,4,6-Trione|5-Ethyl-5-N-Heptylbarbituric Acid\"],[\"Timolol\"],[\"Flufenamic|Flufenamic Acid\"],[\"Nitisinone\"],[\"Diclofenac\"],[\"Flumequine\"],[\"Cefdinir|E-Cefdinir\"],[\"Metyrapone\"],[\"Entacapone\"],[\"Etomidate|Ethyl 1-(1-Phenylethyl)-1H-Imidazole-5-Carboxylate\"],[\"Sulfoxone\"],[\"Azaribine|Azauridine Triacetate\"],[\"Ibudilast\"],[\"Eprobemide\"],[\"Flubanilate\"],[\"Methapyrilene\"],[\"Bromhexine\"],[\"Bunitrolol\"],[\"Tolboxane\"],[\"Oxamniquine\"],[\"Bromopride\"],[\"Lidocaine\"],[\"Spectinomycin\"],[\"Ns1738|Urea, N-(5-Chloro-2-Hydroxyphenyl)-N'-(2-Chloro-5-(Trifluoromethyl)Phenyl)-\"],[\"Delorazepam\"],[\"Lorazepam\"],[\"Nordazepam|1088-11-5|Desmethyldiazepam|Nordiazepam|Desmethyldiazepam, Nordazepam\"],[\"S-Oxazepam\"],[\"Dextrothyroxine Sodium|Dextrothyroxine\"],[\"Phenytoin\"],[\"Lofendazam\"],[\"Flurbiprofen\"],[\"Iomazenil\"],[\"Nomelidine\"],[\"Bemetizide\"],[\"156154-42-6|Methyl 4-((4-Chlorophenyl)Amino)-6-Methyl-2-Oxo-3-Cyclohexene-1-Carboxylate\"],[null],[\"Ripazepam\"],[\"Bisphenol A\"],[\"Pentiapine\"],[\"Ilepcimide\"],[\"Enilospirone|Enilospirona\"],[\"Piquindone\"],[\"Cube-2\"],[\"Meptazinol\"],[\"Marimastat\"],[\"Benoxaprofen\"],[\"Flunitrazepam|1622-62-4|Flunitrazepam, Rohypnol\"],[\"Diazepam|439-14-5\"],[\"Clobazam|22316-47-8\"],[\"Suclofenide\"],[\"Org30526|Org-30526|9-Chloro-13-Oxa-4-Azatetracyclo[12.4.0.02,6.07,12]Octadeca-1(18),7(12),8,10,14,16-Hexaene\"],[\"Etasuline\"],[\"77086-21-6|Dizocilpine|Mk-801\"],[\"Epinastine\"],[\"Cefetrizole\"],[\"Cefedrolor\"],[\"Seproxetine\"],[\"Tetrazepam\"],[\"Nor-1-Chlorpromazine|3-(1-Chlorophenothiazin-10-Yl)-N-Methylpropan-1-Amine\"],[\"Besipirdine\"],[\"Menitrazepam\"],[\"Cefalexin|Cephalexin\"],[\"Cefadroxil\"],[\"Cefotaxime|Claforan\"],[\"Normorphine\"],[\"Benzylpenicillin|Penicillin G\"],[\"Penicillin V|Phenoxymethylpenicillin\"],[\"Temocillin\"],[\"Brompheniramine\"],[\"Prazitone\"],[\"Ampicillin|Ampicilline\"],[\"Suncillin\"],[\"Prothipendyl\"],[\"Litoxetine\"],[\"Benzoylecgonine\"],[\"Perisoxal\"],[\"Eterobarb\"],[\"Mepiprazole\"],[\"Tripelennamine\"],[\"Propranolol|525-66-6|1-Propanolol\"],[\"Melperone\"],[\"Procaterol\"],[\"Remoxipride\"],[\"Tegaserod|Sdz Htf 919\"],[\"Dezocine\"],[\"Betaprodine\"],[\"5-[2-(Dipropylamino)Ethyl]-1,3-Dihydroindol-2-One\"],[\"Carteolol|Carteolol Hydrochloride\"],[\"Ultram\"],[\"Tramadol\"],[\"Thymoxamine|Moxisylyte\"],[\"Gacyclidine\"],[\"Alprazolam|28981-97-7\"],[\"Cloxazolam\"],[\"Celecoxib|Celecoxib, Celebrex\"],[\"Motrazepam\"],[\"Zaleplon\"],[\"Org 5222|Asenapine|5-Chloro-2-Methyl-2,3,3A,12B-Tetrahydrodibenzo[2,3:6,7]Oxepino[4,5-C]Pyrrole\"],[\"Org5222|Asenapine\"],[\"7-K10\"],[\"Mefloquine|Lariam\"],[\"Org34167|198968-25-1|Org-34167|Um4N969Cjq\"],[\"Diclofensine\"],[\"Etazepine\"],[null],[\"Fleroxacin|Fleroxacine\"],[\"Atibeprone\"],[\"Alosetron\"],[\"46|1-(2-Hydroxyethyl)-6-Oxo-4-(1,2,4,5-Tetrahydro-3-Benzazepin-3-Yl)Pyrimidine-5-Carbonitrile\"],[\"Skb26|Bbcpd18|112598-45-5|B-058|22|Pyrrole3Nitro235Dimethylaminomethylfuran2Ylpheny\"],[\"Flumezapine\"],[\"Mirtazapine|85650-52-8|Mirtazepine\"],[\"Delergotrile\"],[\"Didesipramine|2095-95-6|Desmethyldesipramine|Desmethydesipramine\"],[\"Remacemide\"],[\"Isopromethazine\"],[\"Promethazine\"],[\"Olanzapine\"],[\"Mycophenolate|Mycophenolic Acid\"],[\"Tomoxetine\"],[\"Oxifentorex\"],[null],[\"Iopamidol\"],[\"Doxylamine|Doxylamine Succinate\"],[\"Moxiraprine\"],[\"Etacepride\"],[\"Vildagliptin\"],[\"Naratriptan\"],[\"Meropenem\"],[\"Ar 1D9859|Ar-1D9859|2-Butyl-6,7-Dimethoxy-3,3A,4,8B-Tetrahydro-1H-Indeno[1,2-C]Pyrrole\"],[\"Ropivacaine\"],[\"Gamfexine\"],[\"Amisulpride\"],[\"Endomide\"],[\"4-Hydroxymidazolam|59468-85-8\"],[\"Eberconazole\"],[\"Ethyl-Loflazepate|Ethyl Loflazepate\"],[null],[\"Etoricoxib\"],[\"Lorzafone\"],[\"Panadiplon\"],[\"Metaclazepam\"],[\"Fosazepam\"],[\"Clotiapine|Clothiapine\"],[\"Carvotroline\"],[\"Proquazone\"],[\"Demexiptiline\"],[\"Cefaloram\"],[\"Mesocarb|Mesocarb (1 Mg\\u002fMl In Methanol)\"],[\"Cefonicid\"],[\"Nerisopam\"],[\"Glaziovine\"],[\"Clodazon\"],[\"Gemifloxacin|7-[(4E)-3-(Aminomethyl)-4-Methoxyiminopyrrolidin-1-Yl]-1-Cyclopropyl-6-Fluoro-4-Oxo-1,8-Naphthyridine-3-Carboxylic Acid\"],[\"Fantridone\"],[\"Chlorcyclizine\"],[\"Dibenzepin|Noveril\"],[\"Methyldesorphine\"],[\"Metopon\"],[\"Metrizamide|3-Acetamido-5-[Acetyl(Methyl)Amino]-2,4,6-Triiodo-N-[2,4,5-Trihydroxy-6-(Hydroxymethyl)Oxan-3-Yl]Benzamide\"],[\"Isopropicillin\"],[\"Diethazine\"],[\"Liv-20A|Benzyl 4-[(2-Pyrimidinylamino)Methyl]-1-Piperidinecarboxylate\"],[\"16A-Fluoroestradiol|16-Fluoro-13-Methyl-6,7,8,9,11,12,14,15,16,17-Decahydrocyclopenta[A]Phenanthrene-3,17-Diol\"],[\"16A-Fluoroestradiol|16Beta-Fluoroestradiol\"],[\"Bifemelane\"],[\"Ketazocine\"],[\"Isoxsuprine|Duvadilan\"],[\"Dihydrocodeine\"],[\"Brl52537|2-(3,4-Dichlorophenyl)-1-[(2S)-2-(Pyrrolidin-1-Ylmethyl)Piperidin-1-Yl]Ethanone\"],[\"Pancopride\"],[\"Granisetronum\"],[\"Mesulergine\"],[\"Cetotiamine\"],[\"Sb 269970A|(R)-3-((2-(2-(4-Methylpiperidin-1-Yl)Ethyl)Pyrrolidin-1-Yl)Sulfonyl)Phenol\"],[\"37517-30-9|Acebutolol\"],[\"Bisoprolol Fumarate|Bisoprolol\"],[\"Clindamycin-Phosphate|Clindamycin Phosphate\"],[\"23\"],[\"Bekanamycin\"],[\"Elfazepam\"],[\"Adinazolam\"],[\"4-Dimethylamino-7-(4-Ethyl-Phenyl)-7H-9-Thia-1,5,7-Triaza-Fluoren-8-One\"],[\"Cefditoren|Spectracef (Cefditoren Pivoxil)\"],[\"L-838417|7-(Tert-Butyl)-3-(2,5-Difluorophenyl)-6-((1-Methyl-1H-1,2,4-Triazol-5-Yl)Methoxy)-[1,2,4]Triazolo[4,3-B]Pyridazine\"],[\"Setiptiline\"],[\"Odapipam\"],[\"Denzimol\"],[\"Dolasetron\"],[\"Skb17|Bbcpd14|112598-32-0|Chebi: 337303|B-051|15|4-Benzyl-3-Nitro-N-[2-(Pyridin-2-Ylmethylsulfanyl)Ethyl]-1H-Pyrrol-2-Amine\"],[\"Clorotepine\"],[\"Perlapine\"],[\"9A|(2R)-2-[1-[(4-Methylphenyl)Methyl]Benzimidazol-2-Yl]Morpholine\"],[\"Ml|4-(Dimethylamino)-2-[[[2-(Hydroxymethyl)Quinolin-8-Yl]Amino]Methyl]Phenol\"],[\"Metiapine\"],[\"Dosulepin\"],[\"Difencloxazine\"],[\"Grepafloxacin\"],[\"Noxiptiline|Noxiptilin\"],[\"27|1-[3-[5-(4-Methoxyphenyl)-2-Methyl-1,2,4-Triazol-3-Yl]Phenyl]-N,N-Dimethylmethanamine\"],[\"Liv-16|Benzyl 4-[(Pyridin-2-Ylamino)Methyl]Piperidine-1-Carboxylate\"],[\"Semorphone\"],[\"Imipraminoxide\"],[\"Levometiomeprazine|Methiomeprazine\"],[\"8-[(Methylsulfanyl)Methyl]-6-Propylergoline\"],[\"Roscovitine|Seliciclib\"],[\"Formestane\"],[\"Sb205563|2-(3,4-Dichlorophenyl)-1-[(2R)-4-(2-Hydroxyethyl)-2-[[(3R)-3-Hydroxypyrrolidin-1-Yl]Methyl]Piperazin-1-Yl]Ethanone\"],[\"Carperone\"],[\"Gr94839_H|1-[(2S)-4-Acetyl-2-[[(3R)-3-Hydroxypyrrolidin-1-Yl]Methyl]Piperazin-1-Yl]-2-Phenylethanone\"],[\"Bunazosin\"],[\"Piperazinederivatives 8|N-[4-[2-[4-(2,3-Dichlorophenyl)Piperazin-1-Yl]Ethyl]Cyclohexyl]Methanesulfonamide\"],[\"Pentapiperium\"],[\"Oxandrolone\"],[\"Perindopril Erbumine|Perindopril\"],[\"Perhexiline\"],[\"Sisomicin\"],[\"Fluorescein\"],[\"Takle-2; L-779,450|2-Chloro-5-(2-Phenyl-5-(Pyridin-4-Yl)-1H-Imidazol-4-Yl)Phenol\"],[\"Ptk-787, Vatalanib|Vatalanib\"],[\"Camptothecin\"],[\"Ciclotizolam\"],[\"Citatepine\"],[\"Suriclone\"],[\"Latamoxef|Moxalactam\"],[\"145742-22-9|Pfizer Compound 10|N-[[2-(Difluoromethoxy)-5-(Trifluoromethoxy)Phenyl]Methyl]-2-Phenylpiperidin-3-Amine\"],[\"Brl53080|2-(3,4-Dichlorophenyl)-1-[(7R)-7-(Pyrrolidin-1-Ylmethyl)-5,7-Dihydro-4H-Thieno[2,3-C]Pyridin-6-Yl]Ethanone\"],[\"Romergoline\"],[\"Methotrexate|Methotrexate Sodium\"],[\"Pfizer Compound 7|N-[[2-Methoxy-5-(Trifluoromethoxy)Phenyl]Methyl]-2-Phenylpiperidin-3-Amine\"],[\"Triptanol|50-48-6|Amitriptyline|Amitriptyline, Triptanol, Elavil|Amitryptiline|36\"],[\"Dexnafenodone\"],[\"Oxaprotiline\"],[\"Naltrexone\"],[\"Compound-4Ag|N-(Cyclopropylmethyl)-7-(2,4-Dichlorophenyl)-2-Methyl-N-Propyl-5,6-Dihydropyrrolo[2,3-D]Pyrimidin-4-Amine\"],[\"29|1-[3-[2-(Methoxymethyl)-5-(4-Methoxyphenyl)-1,2,4-Triazol-3-Yl]Phenyl]-N,N-Dimethylmethanamine\"],[\"Spiclamine\"],[\"Cloxypendyl\"],[\"Cefluprenam\"],[\"Cefetamet Pivoxil\"],[\"Talopram\"],[\"Femoxetine\"],[\"Dimetacrine\"],[\"Viqualine\"],[\"Gr89696_Et|Ethyl (3S)-4-[2-(3,4-Dichlorophenyl)Acetyl]-3-(Pyrrolidin-1-Ylmethyl)Piperazine-1-Carboxylate\"],[\"364079-69-6|Lu-201640|Abt-925 Anhydrous Free Base\"],[\"Febarbamate\"],[\"Emepronium Carragheenate|Emepronium\"],[\"Oxyphencyclimine Hydrochloride|Oxyphencyclimine\"],[\"Remifentanil\"],[\"Tamsulosin Hydrochloride|Tamsulosin\"],[\"Alitretinoin\"],[\"Gr94839_L|1-[(2S)-4-Acetyl-2-[[(3S)-3-Hydroxypyrrolidin-1-Yl]Methyl]Piperazin-1-Yl]-2-(4-Methylsulfonylphenyl)Ethanone\"],[\"Gemazocine\"],[\"Carbetapentane\"],[\"Vernakalant\"],[\"S113 Amitryptalline\"],[\"Prulifloxacin\"],[\"222722-65-8|2-(2-Hydroxy-2-Methylpropyl)-6-(2-Phenylpyrazolo[1,5-A]Pyridin-3-Yl)Pyridazin-3-One\"],[\"Adriamycinol-Aglycone|Doxorubicinolone, 90%(Mixture Of Diastereomers)\"],[\"25\"],[\"Nafcillin\"],[\"10457-90-6|Bromperidol\"],[\"Alpidem\"],[\"Sprycel, Dasatinib|N-(2,6-Dichlorophenyl)-2-[[6-[4-(2-Hydroxyethyl)Piperazin-1-Yl]-2-Methylpyrimidin-4-Yl]Amino]-1,3-Thiazole-5-Carboxamide\"],[\"Flurazepam\"],[\"Besonprodil 9|Besonprodil\"],[\"Taclamine\"],[\"86181-42-2|Temelastine\"],[\"117-89-5|Trifluoroperazine|Trifluoperazine|Trifluroperazine\"],[\"Cyclarbamate\"],[\"Repinotan\"],[\"Mchr Antagonist 28|N-(1-(Benzo[D][1,3]Dioxol-5-Ylmethyl)Piperidin-4-Yl)-5-Methoxy-1H-Indazol-3-Amine\"],[\"Tianeptine\"],[\"Dapagliflozin\"],[\"Fluanisone\"],[\"Atevirdine, U87201|Atevirdine\"],[\"(5-Ethenyl-2-Bicyclo[2.2.2]Octanyl)-(6-Methoxyquinolin-4-Yl)Methanol\"],[\"9-C15\"],[\"Ciladopa\"],[\"10-{2-[(2R)-1-Methylpiperidin-2-Yl]Ethyl}-2-(Methylsulfanyl)-10H-Phenothiazine\"],[\"Acitretin\"],[\"Sarpicillin\"],[\"Levomethadone\"],[\"Isomethadone\"],[\"Trimethobenzamide\"],[\"Pd 117302|Pd117302|(+)-2-(Benzothiophen-4-Yl)-N-Methyl-N-((1R,2R)-2-Pyrrolidin-1-Ylcyclohexyl)Acetamide\"],[\"Deprodone\"],[\"(8S,9S,10R,13S,14S,17R)-11,17-Dihydroxy-17-(2-Hydroxyacetyl)-10,13-Dimethyl-7,8,9,11,12,14,15,16-Octahydro-6H-Cyclopenta[A]Phenanthren-3-One\"],[\"Oxisopred|(1S,2R,10S,11S,14R,15S,17S)-14,17-Dihydroxy-14-(2-Hydroxyacetyl)-2,15-Dimethyltetracyclo[8.7.0.02,6.011,15]Heptadec-3-Ene-5,7-Dione\"],[\"Progesterone\"],[\"Dronabinol|1 Del Tercero|Thc\"],[\"Tixocortol\"],[\"Hydrocortisone|Cortisol\"],[\"Cogazocine\"],[\"Calusterone\"],[\"Pivmecillinam\"],[\"Laninamivir Octanoate\"],[\"Streptomycin\"],[\"Netilmicin\"],[\"Neodicoumarol|Ethyl Biscoumacetate\"],[\"Clotrimazole\"],[\"Metacycline|Methacycline Hydrochloride|Methacycline\"],[\"Ceftazidime\"],[\"Loratadine\"],[\"Chlortetracycline|Auxeomycin\"],[\"Losartan|Losartan Potassium\"],[\"Lenperone\"],[\"Brl52580|2-(3,4-Dichlorophenyl)-1-[(1S)-1-(Pyrrolidin-1-Ylmethyl)-3,4-Dihydro-1H-Isoquinolin-2-Yl]Ethanone\"],[\"Spiclomazine\"],[\"Ftorpropazine\"],[\"Benperidol\"],[\"Clopenthixol|Sordinol\"],[\"Zuclopenthixol\"],[\"Lubeluzole\"],[\"Spiroxatrine\"],[\"146-56-5|Fluphenazine|Triflumethazine\"],[\"Flesinoxan|Cid 9909776\"],[\"Fluocortin\"],[\"Fluprednidene\"],[\"Zolantidine|104076-38-2|B-065, Zolantidine|29\"],[\"Danazol\"],[\"Mometasone\"],[\"Flumetasone|Flumethasone\"],[\"Meprednisone\"],[\"Doxibetasol\"],[\"Puromycin\"],[\"Sildenafil|Sildenafil, Viagra\"],[\"Desogestrel\"],[\"Hexoprenaline\"],[\"Medroxyprogesterone\"],[\"Brequinar\"],[\"Bentiromide\"],[\"Gedocarnil\"],[\"Elopiprazole\"],[\"Mchr Antagonist 2'|6-Chloro-4-[1-(3-Phenyl-Allyl)-Piperidin-4-Ylamino]-Chromen-2-One\"],[\"Eprosartan Mesylate|Eprosartan\"],[\"Tampramine\"],[\"Flupenthixol|Trans-Flupentixol\"],[\"Doxazosin Mesylate|Doxazosin\"],[\"Ici-204448|2-[3-[1-[[2-(3,4-Dichlorophenyl)Acetyl]-Methylamino]-2-Pyrrolidin-1-Ylethyl]Phenoxy]Acetic Acid\"],[\"Teflutixol\"],[\"Piperidinederivatives 2|4-Bromo-N-[4-[4-[3-(Trifluoromethyl)Anilino]Piperidin-1-Yl]Butyl]Benzamide\"],[\"Aripiprazole|Aripiprazole, Abilify\"],[\"Morphine-6-Glucuronide\"],[\"Ticagrelor\"],[\"Cinalukast\"],[\"163257-88-3|Pfizer Compound 22\"],[\"Apadoline\"],[\"Blonanserin\"],[\"Dibudipine\"],[\"Etretinate\"],[\"Prednisolone-Acetate|Prednisolone Acetate\"],[\"Estramustine\"],[\"Xorphanol\"],[\"145741-90-8|Pfizer Compound 6\"],[\"Ramipril\"],[\"Vardenafil|Vardenafil Hydrochloride Hydrate\"],[\"Finasteride\"],[\"43|3-(4-Oxo-7-Phenylethynyl-4,5-Dihydro-3H-Benzo[B][1,4]Diazepin-2-Yl)-Benzonitrile\"],[\"Ezetimibe\"],[\"Carmoxirol|Carmoxirole\"],[\"Iloperidone\"],[\"Tafenoquine\"],[\"Ivacaftor\"],[\"203321-88-4|Unii-I98T8Bs72C\"],[\"Carfentanil\"],[\"Drospirenone\"],[\"Loteprednol-Etabonate|Loteprednol Etabonate\"],[\"Timobesone-Acetate|Timobesone Acetate\"],[\"Betamethasone-Acetate|Betamethasone Acetate\"],[\"163257-86-1|Pfizer Compound 21|N-[(2-Tert-Butyl-6-Methoxy-1,3-Benzothiazol-5-Yl)Methyl]-2-Phenylpiperidin-3-Amine\"],[\"1063-55-4|Butaperazine|Tyrylen|Butaperazine-Maleate\"],[\"Dipipanone\"],[\"Metoserpate\"],[\"Ethynodiol Diacetate\"],[\"Methylprednisolone-Acetate|Methylprednisolone Acetate\"],[\"Ursodiol\"],[\"Apalcillin\"],[\"Amrubicin\"],[\"Meclizine\\u002fMeclozine|Meclizine\"],[\"Cefditoren Pivoxil|Cefditorin Pivoxil\"],[\"Mindoperone\"],[null],[\"Sb 656104A|6-[2-[2-[4-(4-Chlorophenoxy)Piperidin-1-Yl]Ethyl]Pyrrolidin-1-Yl]Sulfonyl-1H-Indole\"],[\"Cloticasone-Propionate|Cloticasone Propionate\"],[\"Alpertine\"],[\"Levomoramide\"],[\"Dextromoramide\"],[\"Delapril\"],[\"Methylprednisolone-Hemisuccinate|Methylprednisolone Hemisuccinate\"],[\"Diprenorphine\"],[\"Zatebradine\"],[\"Prednival\"],[\"Hydrocortisone-Aceponate|Hydrocortisone Aceponate\"],[\"Cabergoline\"],[\"Pinaverium\"],[\"Tauroursodeoxycholic Acid\"],[\"Omiloxetine\"],[\"Flutroline\"],[\"Piroxicillin\"],[\"Mozavaptan\"],[\"Epirubicin\"],[\"Tobicillin\"],[\"Fimasartan\"],[\"Tamolarizine\"],[\"Isosulfan Blue|Isosulfan Blue Inner Salt\"],[\"Gliquidone\"],[\"Rolitetracycline\"],[\"Sedecamycin|Lankacidin A\"],[\"Betamethasone-Valerate|Betamethasone Valerate\"],[\"Prednisolone-Tebutate\"],[\"Calcitriol\"],[\"Paricalcitol\"],[\"Clopimozide\"],[\"Difenoxin\"],[\"Adapalene\"],[\"Diosmin\"],[\"Amcinonide\"],[\"Beclometasone-Dipropionate|Beclomethasone Dipropionate\"],[\"Betamethasone-Dipropionate|Betamethasone Dipropionate\"],[\"Enkephalin|Leucine Enkephalin\"],[\"Homprenorphine|2-[5-(Cyclopropylmethyl)-11,15-Dimethoxy-13-Oxa-5-Azahexacyclo[13.2.2.12,8.01,6.02,14.012,20]Icosa-8(20),9,11,18-Tetraen-16-Yl]Butan-2-Ol\"],[\"Carpipramine\"],[\"Plerixafor\"],[\"6-(3-Fluorophenyl)-5-(4-(2-(Piperidin-1-Yl)Ethoxy)Phenoxy)Naphthalen-2-Ol\"],[\"Skb-E|4-[2-Phenyl-4-[[(1S)-1-Phenylpropyl]Carbamoyl]Quinolin-3-Yl]Oxybutanoic Acid\"],[\"Fluphenazine-Enanthate|Fluphenazine Enanthate\"],[\"Zipr-Dopa(P)2\"],[\"Cryofluorane|Dichlorotetrafluoroethane\"],[\"Cis-Dichloroethylene|Cis-1,2-Dichloroethene|Cis 1,2-Dichloroethene|Cis-1,2-Dichloroethylene\"],[\"Cysteamine\"],[\"Halothane\"],[\"Trichloroethene|Trichloroethylene\"],[\"Antrafenine\"],[\"3-(6-Hydroxy-1-(4-(2-(Piperidin-1-Yl)Ethoxy)Phenoxy)Naphthalen-2-Yl)Benzonitrile\"],[\"6-(4-(Methanesulfonyl)Phenyl)-5-(4-(2-(Piperidin-1-Yl)Ethoxy)Phenoxy)Naphthalen-2-Ol\"],[\"Fosinopril|4-Cyclohexyl-1-[2-[(2-Methyl-1-Propanoyloxypropoxy)-(4-Phenylbutyl)Phosphoryl]Acetyl]Pyrrolidine-2-Carboxylic Acid\"],[\"Aliskiren\"],[\"Benzonatate\"],[\"Nintedanib\"],[\"Nicocortonide\"],[\"187281-31-8|2-(Diphenylmethyl)-N-{[2-Methoxy-5-(Propan-2-Yl)Phenyl]Methyl}-1-Azabicyclo[2.2.2]Octan-3-Amine\"],[\"161105-56-2|Pfizer Compound 3|Ezlopitant, Hydroxy-\"],[\"Vitamin K|2-Methyl-3-(3,7,11,15-Tetramethylhexadec-2-Enyl)-1,4-Naphthoquinone\"],[\"Teniposide\"],[\"Piridicillin\"],[\"Jnj-5207787|Trans-N-(1-Acetyl-2,3-Dihydro-1H-Indol-6-Yl)-3-(3-Cyanophenyl)-N-(1-(2-Cyclopentylethyl)Piperidin-4-Yl)Acrylamide\"],[\"Rocuronium\"],[\"Triamcinolone-Furetonide|Triamcinolone Furetonide\"],[\"Detorubicin\"],[\"Zorubicin|Daunomycin Benzoylhydrazone\"],[\"Valrubicin\"],[\"Triamcinolone-Benetonide|Triamcinolone Benetonide\"],[\"Pancuronium\"],[\"Lercanidipine\"],[\"Telaprevir\"],[\"Vitamin A Palmitate\"],[\"Posaconazole\"],[\"Lopinavir\"],[\"Berythromycin|Erythromycin B\"],[\"N-[4-[3-[(Tert-Butylamino)-Oxomethyl]-3,4,4A,5,6,7,8,8A-Octahydro-1H-Isoquinolin-2-Yl]-3-Hydroxy-1-Phenylbutan-2-Yl]-2-[[Oxo(2-Quinolinyl)Methyl]Amino]Butanediamide\"],[\"Propene|Propylene\"],[\"Erythromycin-Propionate|Erythromycin Propionate\"],[\"Erythromycin-Ethylcarbonate|Erythromycin Ethyl Carbonate\"],[\"Midecamycin|[(4R,5S,6S,7R,9R,10R,16R)-6-[(2S,3R,4R,5S,6R)-4-(Dimethylamino)-3-Hydroxy-5-[(2S,4R,5S,6S)-4-Hydroxy-4,6-Dimethyl-5-Propanoyloxyoxan-2-Yl]Oxy-6-Methyloxan-2-Yl]Oxy-10-Hydroxy-5-Methoxy-9,16-Dimethyl-2-Oxo-7-(2-Oxoethyl)-1-Oxacyclohexadeca-11,13-Dien-4-Yl] Propanoate\"],[\"Diproleandomycin\"],[\"Spinosad|Spinosyn D;Spinosyn-D\"],[\"Vinblastine\"],[\"4-Fluoropaclitaxel\"],[\"Paclitaxel\"],[\"Nystatin|Mycostatin\"],[\"Deanol\"],[\"Di-(2-Fluroethene) Ether|S111|(E)-1-Fluoro-2-[(E)-2-Fluoroethenoxy]Ethene\"],[\"1,3-Butadiene|Divinyl\"],[\"Acetazolamide\"],[\"Chlorobutanol\"],[\"Sirolimus|Rapamycin (Sirolimus)\"],[\"Xylose|D-Xylose\"],[\"Penicillamine\"],[\"Pentane|N-Pentane\"],[\"Methyl T-Butyl Ether|Tert-Butylmethylether|Methyl Tert-Butyl Ether\"],[\"Cloretate|Clorethate\"],[\"Pyrazinamide\"],[\"Carbocloral\"],[\"Methazolamide\"],[\"Glutamic Acid\"],[\"Oxiracetam\"],[\"Methylpentynol|3-Methyl-1-Pentyn-3-Ol\"],[\"Isosorbide\"],[\"Bromisoval\"],[\"Vigabatrin\"],[\"Aminocaproic Acid\"],[\"Glucosamine|D-Glucosamine\"],[\"3-Methylpentane\"],[\"Nitrofurazone|(E)-2-((5-Nitrofuran-2-Yl)Methylene)Hydrazinecarboxamide\"],[\"Amiloride\"],[\"1-(3-Fluoropropyl)-2-Nitroimidazole|Moli001288\"],[\"Fluoromisonidazole\"],[\"Mafenide Acetate|Mafenide\"],[\"Telmesteine\"],[\"Risedronate|Risedronic Acid\"],[\"Ectylurea\"],[\"2-Methyl Heptane|2-Methylhexane\"],[\"4-Chlorobenzotrifluoride\"],[\"Tirapazamine\"],[\"Sesamol|3,4-Methylenedioxyphenol\"],[\"Gentisic Acid|2,5-Dihydroxybenzoic Acid\"],[\"P-Xylene\"],[\"Emtricitabine|Ftc; Emtricitabine\"],[\"Zaltidine\"],[\"Uracil Mustard\"],[\"Chloralose\"],[\"3-Mosa|2-(Aminomethyl)-6-Methoxyphenol\"],[\"Ribavirin\"],[\"Azacitidine\"],[\"Streptozotocin|Streptozotocin;U 9889\"],[\"Octamoxin\"],[\"Fenadiazole\"],[\"Nitrofurantoin|Hydantoin, 1-(5-Nitro-Furfurylideneamino)-\"],[\"Trichlormethiazide\"],[\"Mgs0028|Bicyclo(3.1.0)Hexane-2,6-Dicarboxylic Acid, 2-Amino-6-Fluoro-4-Oxo-, (1R,2S,5S,6S)-\"],[\"Tegafur\"],[\"5-Chloro-4-Methyl-1,4-Dihydroquinazolin-2-Amine\"],[\"Timirdine\"],[\"Ethyl 4-Aminobenzoate|Benzocaine\"],[\"1,2,4-Trimethylbenzene|Pseudocumene\"],[\"Phaclofen\"],[\"Cp94|1,2-Diethyl-3-Hydroxypyridin-4-One\"],[\"Epinephrine\"],[\"Minoxidil\"],[\"Tetrahydrobiopterin\"],[\"Gabapentin\"],[\"Capuride\"],[\"6|N-(2,6-Dichlorophenyl)-2,5-Dihydro-1H-Imidazol-2-Amine\"],[\"Bz3|5-Methoxyindole\"],[\"Clodronate|Clodronic Acid\"],[\"Urea\"],[\"Chloroform|Trichloromethane\"],[\"Water\"]],\"hovertemplate\":\"Label=True\\u003cbr\\u003et-SNE 1=%{x}\\u003cbr\\u003et-SNE 2=%{y}\\u003cbr\\u003enames=%{customdata[0]}\\u003cextra\\u003e\\u003c\\u002fextra\\u003e\",\"legendgroup\":\"True\",\"marker\":{\"color\":\"#EF553B\",\"opacity\":0.5,\"symbol\":\"circle\"},\"mode\":\"markers\",\"name\":\"True\",\"showlegend\":true,\"x\":[-5.334742,47.811302,-36.25951,42.71228,13.277313,28.012243,75.336975,-64.64941,-48.152237,-38.021862,1.3386356,-29.098309,-23.032,39.915325,38.497902,25.725212,16.802107,-11.871622,65.17118,81.443695,30.394962,73.149315,3.8204153,-10.532016,25.273802,-10.585314,-15.833076,-29.685719,27.264536,9.736042,59.124287,-43.81469,-5.328228,14.657536,31.154753,75.324036,47.12721,-66.23004,-2.7748961,-14.199665,51.09419,-31.058449,-15.918143,-24.807121,-35.630253,-4.359233,-8.820526,-27.92828,-19.794188,-25.437307,-19.541353,23.75264,-56.368347,-63.58201,15.60761,12.809523,23.114344,50.75594,4.413337,-14.757384,7.478992,-31.1556,53.421448,-1.1458215,75.17762,-24.549189,19.403767,11.395331,39.367924,10.3490715,39.314777,66.09262,51.540703,28.97401,-33.036507,19.073101,22.458681,-12.587213,-59.455475,11.74124,39.979797,-3.2771735,-49.92901,-11.926467,50.393368,-14.142554,75.476135,-53.51346,65.50483,4.978764,-1.247896,-35.38907,-27.130175,16.391386,-10.220955,-43.13117,14.64628,-29.315668,-6.4302244,75.396545,-60.140366,90.11325,-13.44052,30.30867,-58.497906,-59.240215,-23.611843,-11.820963,-16.832172,-10.7865505,-11.292608,71.106674,-70.148384,52.36887,49.625675,7.6431203,36.84444,22.09744,30.673546,15.727876,-42.821426,37.838646,23.430038,26.973167,-6.7659135,-31.440422,-12.88612,0.61481404,42.065887,-65.631516,-39.263947,72.70836,-25.656872,57.589153,-41.14042,-45.920223,2.3257494,63.47546,-38.80789,-38.117573,41.34497,49.767616,25.477125,-39.938526,79.95427,-72.011894,1.7466321,5.130654,58.805492,36.452847,-25.030746,27.523966,-65.10089,-31.894989,-20.829678,1.089208,-63.796112,-7.0358686,-52.749477,-0.21159077,-52.95041,-50.28103,4.3548555,62.330463,45.04908,-30.289803,61.46311,-25.978336,-31.366266,-15.914385,45.917225,-43.64262,-14.380739,-61.201588,12.263963,5.883081,15.239231,-34.187603,-22.737453,27.403362,-8.137812,-9.3078575,-46.91749,-1.1514013,48.60843,69.64192,50.250538,53.254097,-70.5459,-68.593315,84.252785,-31.90295,-21.757456,-49.683403,61.623295,19.074583,-67.47645,34.13421,-47.28069,-73.26405,75.337006,10.682488,-36.16084,79.53551,5.3456903,62.133133,49.382473,-19.550291,53.23739,-56.04273,75.37973,23.929747,11.557498,6.473392,-59.18654,-61.417324,16.106277,65.5001,54.141384,38.490578,51.540592,21.597878,13.466347,-7.680769,56.60405,-30.926273,20.498468,-47.899303,-8.0778,-56.738186,-9.165368,-6.90371,3.811118,7.9870286,27.064405,-15.76044,62.841785,-28.438814,35.5266,26.691343,91.454666,-12.418415,7.6900163,79.84078,-61.276882,-12.886308,-1.1591786,13.82212,-15.497819,-20.08572,14.112854,39.406788,18.235344,55.62337,-7.647985,9.3380995,-14.597533,78.84825,50.854507,-8.091028,-33.997826,-8.843728,-30.310257,50.039875,30.465174,-22.653526,-44.556484,-34.217667,-11.796642,28.625282,67.457344,5.005225,-12.094018,56.46214,22.458885,75.40107,54.37023,-62.191925,-39.84952,48.919674,-64.95655,-37.514282,32.2804,31.163239,66.04981,89.27336,-10.407008,-0.30872813,-65.076546,19.192375,-15.007433,2.021082,3.8267834,42.71374,-40.110313,50.902584,51.110466,-33.140156,-46.887463,-47.538784,-2.7413554,-25.247738,-9.016671,76.39837,-33.99533,-44.821224,-8.13747,45.94172,-52.287544,-16.216677,-10.532122,-49.384636,77.28511,-15.502034,-41.259808,-11.8718,-51.88692,-0.5675732,65.95214,-46.575226,-27.837118,15.359632,49.296474,-10.639829,49.714832,-65.01412,-26.453672,-1.511286,-41.726826,-61.611977,36.514843,-18.551489,53.84498,48.26639,40.032974,26.806067,26.186161,-11.9921665,-45.435406,15.182299,-18.942537,61.805614,91.87715,3.8099341,-55.866486,7.702487,50.156933,51.814327,-11.150171,-14.899681,67.68476,-12.094832,48.740013,-12.277401,-10.212325,-2.529353,-12.457463,11.190867,-22.532202,11.061347,42.06621,48.737446,67.286064,40.710537,-3.5057745,84.41182,73.32177,8.815642,12.386108,-19.02901,-30.288969,-44.31796,-67.50744,-62.17357,-24.393795,4.948879,2.7504466,-10.939249,-61.03291,68.70413,12.449993,-1.9138144,41.56881,5.9511085,22.180254,69.40042,50.615562,-35.71616,-4.3607707,-2.7090657,-46.45489,-26.478378,-17.353436,-17.3967,36.518745,-10.914312,-52.172047,4.883382,22.301224,-70.318146,17.66181,51.86125,-12.049896,32.07421,-18.360563,-27.741236,-35.45635,-13.953982,22.392145,11.327928,-22.240803,34.936676,22.03126,84.35385,-21.561357,-13.643409,-14.949732,-54.685295,67.73431,-52.488056,49.45026,-46.968582,-52.66366,-32.081993,-58.035015,-70.44494,-4.1818805,86.17245,52.871494,-13.927675,-15.317587,5.7205315,39.376957,-50.499165,73.31011,-34.924004,-72.85195,54.046467,-16.625092,24.612705,-4.3908744,85.18724,-48.8122,26.05371,12.128205,59.766064,86.44501,-32.14014,86.99649,50.04211,18.630848,16.10331,27.942692,-40.144802,-31.996988,75.39246,-30.463474,25.30458,-39.144627,-52.9255,50.490402,-7.890702,-3.3655753,-41.087933,66.841156,-46.447052,-42.815678,9.991027,-51.771954,81.83483,32.069332,-32.95805,45.139946,19.363262,-51.50497,28.388456,15.314492,86.14242,-15.655834,-4.8681173,27.430958,25.417894,-64.65588,-11.465911,10.36694,-9.699445,51.1899,-61.348766,-29.367077,-57.293552,-33.673615,-35.76486,-1.871085,-37.15121,-52.749912,-11.744493,-39.791515,-40.388218,0.19708489,80.35082,35.92832,-64.962685,67.65964,-25.024775,11.9646225,-3.4048338,-10.8586445,-3.6090794,52.011044,-64.02424,12.160454,-59.52142,-39.606037,36.11207,-36.51093,29.202875,-52.456768,-12.292567,-67.55533,66.40627,-14.407969,16.698835,11.317877,50.438385,-6.7682714,-13.361411,88.85015,2.7500348,-0.018567586,21.16093,-6.744341,-60.638676,62.6764,-33.88993,-13.785441,-33.27139,-12.146667,-59.78322,5.085238,-0.2117932,53.822987,58.506752,-2.3083928,67.65802,-28.311842,62.525467,-0.3807397,-7.0315723,-29.378208,-29.899101,32.284126,-60.479347,40.039165,-54.40792,-38.106113,-28.957733,67.064865,-67.56336,45.913002,-24.74705,-34.078762,86.13559,-37.758175,36.008305,41.807934,23.382532,10.848084,16.407864,-25.129606,-57.929222,-51.163067,-42.49205,-28.066841,19.936357,36.046703,-1.1523591,-11.901497,-34.16285,11.486784,16.028963,38.534756,-21.801514,27.059565,-37.531155,4.489273,-14.541714,-19.473715,-9.784339,-9.000136,-48.127274,72.25022,42.273327,81.14348,26.139908,3.1310735,-29.368322,-57.77925,-11.943414,-57.791794,-6.056595,-36.87049,-57.80513,-22.611538,-43.26832,47.770103,69.38403,-63.28394,15.198346,-19.712528,26.101227,-15.242968,36.58684,-8.729625,69.64192,-4.9495087,36.89114,-25.686548,-18.942127,-15.051204,60.696533,5.942163,-24.388945,0.6147951,-35.859768,-32.14162,-8.199812,-52.186493,40.056892,49.229393,-35.205875,52.32438,-15.590284,8.258254,40.34991,-64.9232,27.811293,-16.633272,81.83486,-18.06968,36.45286,74.50811,-23.417135,65.162605,12.12809,44.136723],\"xaxis\":\"x\",\"y\":[7.1491103,24.535904,32.14169,-10.461693,18.889208,-4.0178504,27.318184,29.295174,-11.216151,18.72088,-29.763367,-42.04324,-14.512295,-12.359033,12.8580675,-0.08941267,9.300428,30.854807,-5.727038,21.162361,-20.915392,18.278585,-4.157059,22.408827,22.820778,29.467388,-8.033758,-15.241574,-21.772184,-9.597082,17.394653,-32.478413,-15.849312,-16.354239,-21.962828,17.059933,22.820816,19.868908,32.846992,-39.33523,17.349564,-21.327887,-18.879951,13.794816,-13.259809,29.442614,10.2312565,-44.76681,15.942812,11.193848,-38.39916,-2.4819267,37.715282,0.34974983,-15.469162,-37.156322,-33.36513,19.45591,26.773144,-34.577076,2.6692312,-5.2944674,-4.3206506,-31.321106,-1.8491955,13.740071,15.175785,-39.416267,22.825668,-35.65659,20.382935,19.175703,18.49685,5.79174,-2.6554544,8.709785,11.398795,-18.510326,38.41374,-25.16395,8.807698,-23.45199,17.533468,21.898811,-14.550115,-33.430923,-0.45132884,-1.2658169,-0.27457097,-22.212109,28.824474,-21.100412,-26.999033,-15.698701,-36.45146,-12.813705,-34.336475,15.377146,31.154854,27.4933,7.3391137,17.305292,31.74735,-12.93051,26.317385,31.584253,-25.738358,4.458354,-18.074308,10.9457855,-30.81344,-1.040597,33.211334,16.836592,17.44318,-33.001854,-6.5671,14.767385,-23.427956,-15.398975,-38.39553,-22.502905,17.034487,-22.591759,-22.615404,-14.465112,-29.664629,-33.72354,-4.88134,11.937071,-32.746033,-2.2377865,-15.971371,-7.9235373,30.036747,27.50269,26.094763,15.282483,-37.834595,14.237595,-5.068814,20.080942,-4.125583,-15.780727,16.60167,31.937452,-18.973125,28.398512,-5.990681,18.824148,-11.379007,-22.597765,3.5000684,32.549877,34.77344,-5.1024003,-5.2050447,49.677814,25.564835,-4.7928367,-11.673866,-1.2749454,-3.9634774,16.504652,-9.180892,31.15862,24.429728,-27.16954,8.991182,-18.877472,7.357556,12.309688,-9.647148,13.587564,12.294579,-24.460543,-36.6969,-10.103855,33.38623,-21.416733,5.749434,9.941245,-10.816344,-31.332275,-2.6712189,-0.32872397,17.103798,18.364164,30.407526,31.638788,13.545125,-13.778867,-15.992003,4.8068385,23.321724,8.707072,25.44888,5.0867505,-0.71004915,32.8986,27.314447,-37.15565,-32.76013,26.619658,15.048662,19.165417,-2.2112067,34.100384,-9.170831,8.29685,26.804607,-8.936043,-11.905488,14.805951,11.972631,6.718088,3.6431248,-0.2759645,-10.832028,21.256636,18.49688,-24.67788,18.325346,-19.499083,-0.54581946,-14.721284,-31.68513,-17.517632,-19.656666,24.420887,30.73886,-40.32505,-34.870144,-30.540571,12.924335,-19.100542,16.466837,-18.451588,7.2287173,13.010673,17.123596,29.625034,-44.062813,16.043938,-4.2152557,-29.66455,-31.345547,16.798107,-7.933816,-47.460197,-43.133812,-7.38905,-39.475357,-9.476164,-30.31115,29.316036,29.61082,26.849178,-14.160786,20.153248,-21.207586,-34.111362,-20.040413,17.858635,-24.29657,-28.813442,26.718267,-35.15289,19.199514,15.899465,-6.443631,-3.9349122,3.673019,21.102743,11.399449,0.63469106,17.990997,5.1699114,23.75981,-3.575109,-2.9092894,33.35045,-7.083478,-21.489166,-4.600344,20.992119,10.238718,-38.465157,10.578522,-27.899078,-43.17225,13.604004,-4.146694,-10.49803,-2.2166765,16.725107,17.446648,34.985596,26.956701,-1.1350884,4.4759507,-6.92248,-15.01719,-0.37948138,-35.760742,28.207436,-39.695114,7.4127154,-8.630949,-32.893333,22.401548,29.14248,18.781946,-19.535042,-16.852312,4.229429,-10.053738,32.13096,-2.1050117,3.5652387,-19.74478,-33.871704,20.397898,-15.131658,15.597575,-3.091307,-40.154526,2.9063475,1.3217868,-1.4688479,12.753342,12.269416,17.747879,19.435577,-19.456758,-22.360512,-23.876902,-31.758604,25.19229,-40.708218,-23.225122,24.205738,16.504097,-34.869637,36.887814,-37.141937,5.2346234,-14.114968,-46.63027,-43.22584,-1.0614008,41.881313,3.044415,31.637655,10.892117,2.8613415,-15.075004,3.8350177,-22.879492,-25.176374,-4.8809924,-14.844265,22.355133,-8.191463,-23.53551,16.153406,18.381367,-43.0269,-41.344994,-13.608836,31.159338,0.8509549,19.290554,-7.1599417,-43.722366,-32.058018,-4.3855095,-31.715559,-2.844262,15.111703,-27.564352,16.208544,6.9156594,-41.023216,23.33793,1.2837588,-2.04656,-3.4321682,29.441969,11.294819,25.126535,-25.484001,-35.277863,12.743294,12.759242,-33.67495,0.6360351,-22.326262,18.090445,29.562773,20.018736,18.445961,-45.6132,10.721626,14.931008,-8.003052,-21.010096,-28.270458,7.316951,18.961016,34.175568,15.215797,-38.414936,24.691734,-6.0252805,-42.730698,-27.647148,-7.6249733,14.84637,15.250976,2.6456523,-10.7919855,15.332875,0.2861477,37.852726,29.756416,34.518604,21.659452,18.11495,29.379597,31.650671,-43.897484,7.3603992,-15.323408,16.26423,-33.619408,32.658966,-10.747595,-44.202484,22.949575,46.7298,18.477936,-15.9819,14.5137415,-29.685408,-1.2677773,21.087963,-30.903671,16.931814,17.856747,-35.315815,3.645418,-26.88024,-36.533115,7.989646,27.498842,-39.763687,22.802975,-13.030568,-8.291019,18.941093,10.774618,-38.54718,30.045565,14.984812,25.67234,21.737265,-37.211285,-8.562499,20.556389,-5.3897624,-21.65041,1.1890981,-18.711868,4.7631593,14.415443,-39.649292,21.549963,-7.999237,47.2331,5.146521,8.307988,29.287256,10.047402,-40.091434,29.292456,17.318947,19.770758,-11.245433,3.1475382,-25.441147,-12.845582,-22.661768,3.472947,25.56456,30.628092,-9.139658,-36.159306,-45.03044,25.623388,-21.804224,4.3703575,0.15254603,32.639294,-11.612417,-44.21518,-46.668926,-44.774822,18.98113,-3.84354,-39.076614,37.442326,17.704464,12.248798,-8.651653,-9.284639,-18.97307,29.667498,20.98338,20.65079,-9.628879,3.3034048,-12.074253,4.7913046,-22.612106,30.081676,16.652988,-4.389175,28.249702,-27.921314,-42.33177,24.800299,15.029261,-20.291279,30.707512,-37.426243,-32.208035,-5.589156,26.992233,6.539992,-6.693687,19.667175,29.009014,0.15990125,-18.42989,22.81781,7.712196,-17.092579,35.41512,-32.271595,-7.082523,37.58908,17.8952,7.867621,14.233624,-20.184649,14.729704,29.350384,7.3651686,33.76045,-36.31973,16.595665,32.271866,-24.242987,7.031827,3.106398,20.293636,-17.690666,35.72406,0.29748806,-1.9919322,-5.738338,34.112988,-38.339638,-24.290594,10.316777,4.603978,-36.057293,19.641733,-15.845456,-4.3717194,-14.304428,-33.807655,-38.319862,-31.038942,29.61183,-14.511148,10.4732275,-36.006046,24.295183,19.848736,5.811282,18.215975,7.5873036,27.98433,15.474697,0.9269871,31.655804,0.84395677,31.874302,-16.068811,0.83917785,32.80875,-11.155712,-15.636773,3.5582004,25.132305,-26.348457,-18.666924,12.456166,-27.855528,-18.233017,-16.33516,-0.32872397,47.267483,8.529611,-25.436392,-23.228064,-36.662125,25.4908,-41.666584,26.567709,-33.723526,-37.75794,25.857681,-4.1020164,0.61226785,-19.583384,-2.8516502,3.7580311,17.206474,-42.614292,-5.444698,-1.5103121,17.777536,-3.50799,-44.226227,20.556423,32.834858,18.82418,27.421331,-14.813353,20.372593,-29.685673,-1.5180562],\"yaxis\":\"y\",\"type\":\"scattergl\"}],                        {\"template\":{\"data\":{\"histogram2dcontour\":[{\"type\":\"histogram2dcontour\",\"colorbar\":{\"outlinewidth\":0,\"ticks\":\"\"},\"colorscale\":[[0.0,\"#0d0887\"],[0.1111111111111111,\"#46039f\"],[0.2222222222222222,\"#7201a8\"],[0.3333333333333333,\"#9c179e\"],[0.4444444444444444,\"#bd3786\"],[0.5555555555555556,\"#d8576b\"],[0.6666666666666666,\"#ed7953\"],[0.7777777777777778,\"#fb9f3a\"],[0.8888888888888888,\"#fdca26\"],[1.0,\"#f0f921\"]]}],\"choropleth\":[{\"type\":\"choropleth\",\"colorbar\":{\"outlinewidth\":0,\"ticks\":\"\"}}],\"histogram2d\":[{\"type\":\"histogram2d\",\"colorbar\":{\"outlinewidth\":0,\"ticks\":\"\"},\"colorscale\":[[0.0,\"#0d0887\"],[0.1111111111111111,\"#46039f\"],[0.2222222222222222,\"#7201a8\"],[0.3333333333333333,\"#9c179e\"],[0.4444444444444444,\"#bd3786\"],[0.5555555555555556,\"#d8576b\"],[0.6666666666666666,\"#ed7953\"],[0.7777777777777778,\"#fb9f3a\"],[0.8888888888888888,\"#fdca26\"],[1.0,\"#f0f921\"]]}],\"heatmap\":[{\"type\":\"heatmap\",\"colorbar\":{\"outlinewidth\":0,\"ticks\":\"\"},\"colorscale\":[[0.0,\"#0d0887\"],[0.1111111111111111,\"#46039f\"],[0.2222222222222222,\"#7201a8\"],[0.3333333333333333,\"#9c179e\"],[0.4444444444444444,\"#bd3786\"],[0.5555555555555556,\"#d8576b\"],[0.6666666666666666,\"#ed7953\"],[0.7777777777777778,\"#fb9f3a\"],[0.8888888888888888,\"#fdca26\"],[1.0,\"#f0f921\"]]}],\"heatmapgl\":[{\"type\":\"heatmapgl\",\"colorbar\":{\"outlinewidth\":0,\"ticks\":\"\"},\"colorscale\":[[0.0,\"#0d0887\"],[0.1111111111111111,\"#46039f\"],[0.2222222222222222,\"#7201a8\"],[0.3333333333333333,\"#9c179e\"],[0.4444444444444444,\"#bd3786\"],[0.5555555555555556,\"#d8576b\"],[0.6666666666666666,\"#ed7953\"],[0.7777777777777778,\"#fb9f3a\"],[0.8888888888888888,\"#fdca26\"],[1.0,\"#f0f921\"]]}],\"contourcarpet\":[{\"type\":\"contourcarpet\",\"colorbar\":{\"outlinewidth\":0,\"ticks\":\"\"}}],\"contour\":[{\"type\":\"contour\",\"colorbar\":{\"outlinewidth\":0,\"ticks\":\"\"},\"colorscale\":[[0.0,\"#0d0887\"],[0.1111111111111111,\"#46039f\"],[0.2222222222222222,\"#7201a8\"],[0.3333333333333333,\"#9c179e\"],[0.4444444444444444,\"#bd3786\"],[0.5555555555555556,\"#d8576b\"],[0.6666666666666666,\"#ed7953\"],[0.7777777777777778,\"#fb9f3a\"],[0.8888888888888888,\"#fdca26\"],[1.0,\"#f0f921\"]]}],\"surface\":[{\"type\":\"surface\",\"colorbar\":{\"outlinewidth\":0,\"ticks\":\"\"},\"colorscale\":[[0.0,\"#0d0887\"],[0.1111111111111111,\"#46039f\"],[0.2222222222222222,\"#7201a8\"],[0.3333333333333333,\"#9c179e\"],[0.4444444444444444,\"#bd3786\"],[0.5555555555555556,\"#d8576b\"],[0.6666666666666666,\"#ed7953\"],[0.7777777777777778,\"#fb9f3a\"],[0.8888888888888888,\"#fdca26\"],[1.0,\"#f0f921\"]]}],\"mesh3d\":[{\"type\":\"mesh3d\",\"colorbar\":{\"outlinewidth\":0,\"ticks\":\"\"}}],\"scatter\":[{\"marker\":{\"line\":{\"color\":\"#283442\"}},\"type\":\"scatter\"}],\"parcoords\":[{\"type\":\"parcoords\",\"line\":{\"colorbar\":{\"outlinewidth\":0,\"ticks\":\"\"}}}],\"scatterpolargl\":[{\"type\":\"scatterpolargl\",\"marker\":{\"colorbar\":{\"outlinewidth\":0,\"ticks\":\"\"}}}],\"bar\":[{\"error_x\":{\"color\":\"#f2f5fa\"},\"error_y\":{\"color\":\"#f2f5fa\"},\"marker\":{\"line\":{\"color\":\"rgb(17,17,17)\",\"width\":0.5},\"pattern\":{\"fillmode\":\"overlay\",\"size\":10,\"solidity\":0.2}},\"type\":\"bar\"}],\"scattergeo\":[{\"type\":\"scattergeo\",\"marker\":{\"colorbar\":{\"outlinewidth\":0,\"ticks\":\"\"}}}],\"scatterpolar\":[{\"type\":\"scatterpolar\",\"marker\":{\"colorbar\":{\"outlinewidth\":0,\"ticks\":\"\"}}}],\"histogram\":[{\"marker\":{\"pattern\":{\"fillmode\":\"overlay\",\"size\":10,\"solidity\":0.2}},\"type\":\"histogram\"}],\"scattergl\":[{\"marker\":{\"line\":{\"color\":\"#283442\"}},\"type\":\"scattergl\"}],\"scatter3d\":[{\"type\":\"scatter3d\",\"line\":{\"colorbar\":{\"outlinewidth\":0,\"ticks\":\"\"}},\"marker\":{\"colorbar\":{\"outlinewidth\":0,\"ticks\":\"\"}}}],\"scattermapbox\":[{\"type\":\"scattermapbox\",\"marker\":{\"colorbar\":{\"outlinewidth\":0,\"ticks\":\"\"}}}],\"scatterternary\":[{\"type\":\"scatterternary\",\"marker\":{\"colorbar\":{\"outlinewidth\":0,\"ticks\":\"\"}}}],\"scattercarpet\":[{\"type\":\"scattercarpet\",\"marker\":{\"colorbar\":{\"outlinewidth\":0,\"ticks\":\"\"}}}],\"carpet\":[{\"aaxis\":{\"endlinecolor\":\"#A2B1C6\",\"gridcolor\":\"#506784\",\"linecolor\":\"#506784\",\"minorgridcolor\":\"#506784\",\"startlinecolor\":\"#A2B1C6\"},\"baxis\":{\"endlinecolor\":\"#A2B1C6\",\"gridcolor\":\"#506784\",\"linecolor\":\"#506784\",\"minorgridcolor\":\"#506784\",\"startlinecolor\":\"#A2B1C6\"},\"type\":\"carpet\"}],\"table\":[{\"cells\":{\"fill\":{\"color\":\"#506784\"},\"line\":{\"color\":\"rgb(17,17,17)\"}},\"header\":{\"fill\":{\"color\":\"#2a3f5f\"},\"line\":{\"color\":\"rgb(17,17,17)\"}},\"type\":\"table\"}],\"barpolar\":[{\"marker\":{\"line\":{\"color\":\"rgb(17,17,17)\",\"width\":0.5},\"pattern\":{\"fillmode\":\"overlay\",\"size\":10,\"solidity\":0.2}},\"type\":\"barpolar\"}],\"pie\":[{\"automargin\":true,\"type\":\"pie\"}]},\"layout\":{\"autotypenumbers\":\"strict\",\"colorway\":[\"#636efa\",\"#EF553B\",\"#00cc96\",\"#ab63fa\",\"#FFA15A\",\"#19d3f3\",\"#FF6692\",\"#B6E880\",\"#FF97FF\",\"#FECB52\"],\"font\":{\"color\":\"#f2f5fa\"},\"hovermode\":\"closest\",\"hoverlabel\":{\"align\":\"left\"},\"paper_bgcolor\":\"rgb(17,17,17)\",\"plot_bgcolor\":\"rgb(17,17,17)\",\"polar\":{\"bgcolor\":\"rgb(17,17,17)\",\"angularaxis\":{\"gridcolor\":\"#506784\",\"linecolor\":\"#506784\",\"ticks\":\"\"},\"radialaxis\":{\"gridcolor\":\"#506784\",\"linecolor\":\"#506784\",\"ticks\":\"\"}},\"ternary\":{\"bgcolor\":\"rgb(17,17,17)\",\"aaxis\":{\"gridcolor\":\"#506784\",\"linecolor\":\"#506784\",\"ticks\":\"\"},\"baxis\":{\"gridcolor\":\"#506784\",\"linecolor\":\"#506784\",\"ticks\":\"\"},\"caxis\":{\"gridcolor\":\"#506784\",\"linecolor\":\"#506784\",\"ticks\":\"\"}},\"coloraxis\":{\"colorbar\":{\"outlinewidth\":0,\"ticks\":\"\"}},\"colorscale\":{\"sequential\":[[0.0,\"#0d0887\"],[0.1111111111111111,\"#46039f\"],[0.2222222222222222,\"#7201a8\"],[0.3333333333333333,\"#9c179e\"],[0.4444444444444444,\"#bd3786\"],[0.5555555555555556,\"#d8576b\"],[0.6666666666666666,\"#ed7953\"],[0.7777777777777778,\"#fb9f3a\"],[0.8888888888888888,\"#fdca26\"],[1.0,\"#f0f921\"]],\"sequentialminus\":[[0.0,\"#0d0887\"],[0.1111111111111111,\"#46039f\"],[0.2222222222222222,\"#7201a8\"],[0.3333333333333333,\"#9c179e\"],[0.4444444444444444,\"#bd3786\"],[0.5555555555555556,\"#d8576b\"],[0.6666666666666666,\"#ed7953\"],[0.7777777777777778,\"#fb9f3a\"],[0.8888888888888888,\"#fdca26\"],[1.0,\"#f0f921\"]],\"diverging\":[[0,\"#8e0152\"],[0.1,\"#c51b7d\"],[0.2,\"#de77ae\"],[0.3,\"#f1b6da\"],[0.4,\"#fde0ef\"],[0.5,\"#f7f7f7\"],[0.6,\"#e6f5d0\"],[0.7,\"#b8e186\"],[0.8,\"#7fbc41\"],[0.9,\"#4d9221\"],[1,\"#276419\"]]},\"xaxis\":{\"gridcolor\":\"#283442\",\"linecolor\":\"#506784\",\"ticks\":\"\",\"title\":{\"standoff\":15},\"zerolinecolor\":\"#283442\",\"automargin\":true,\"zerolinewidth\":2},\"yaxis\":{\"gridcolor\":\"#283442\",\"linecolor\":\"#506784\",\"ticks\":\"\",\"title\":{\"standoff\":15},\"zerolinecolor\":\"#283442\",\"automargin\":true,\"zerolinewidth\":2},\"scene\":{\"xaxis\":{\"backgroundcolor\":\"rgb(17,17,17)\",\"gridcolor\":\"#506784\",\"linecolor\":\"#506784\",\"showbackground\":true,\"ticks\":\"\",\"zerolinecolor\":\"#C8D4E3\",\"gridwidth\":2},\"yaxis\":{\"backgroundcolor\":\"rgb(17,17,17)\",\"gridcolor\":\"#506784\",\"linecolor\":\"#506784\",\"showbackground\":true,\"ticks\":\"\",\"zerolinecolor\":\"#C8D4E3\",\"gridwidth\":2},\"zaxis\":{\"backgroundcolor\":\"rgb(17,17,17)\",\"gridcolor\":\"#506784\",\"linecolor\":\"#506784\",\"showbackground\":true,\"ticks\":\"\",\"zerolinecolor\":\"#C8D4E3\",\"gridwidth\":2}},\"shapedefaults\":{\"line\":{\"color\":\"#f2f5fa\"}},\"annotationdefaults\":{\"arrowcolor\":\"#f2f5fa\",\"arrowhead\":0,\"arrowwidth\":1},\"geo\":{\"bgcolor\":\"rgb(17,17,17)\",\"landcolor\":\"rgb(17,17,17)\",\"subunitcolor\":\"#506784\",\"showland\":true,\"showlakes\":true,\"lakecolor\":\"rgb(17,17,17)\"},\"title\":{\"x\":0.05},\"updatemenudefaults\":{\"bgcolor\":\"#506784\",\"borderwidth\":0},\"sliderdefaults\":{\"bgcolor\":\"#C8D4E3\",\"borderwidth\":1,\"bordercolor\":\"rgb(17,17,17)\",\"tickwidth\":0},\"mapbox\":{\"style\":\"dark\"}}},\"xaxis\":{\"anchor\":\"y\",\"domain\":[0.0,1.0],\"title\":{\"text\":\"t-SNE 1\"}},\"yaxis\":{\"anchor\":\"x\",\"domain\":[0.0,1.0],\"title\":{\"text\":\"t-SNE 2\"}},\"legend\":{\"title\":{\"text\":\"Label\"},\"tracegroupgap\":0},\"margin\":{\"t\":60},\"title\":{\"text\":\"Interactive t-SNE Projection of Molecular Descriptors\"},\"width\":1000,\"height\":800},                        {\"responsive\": true}                    ).then(function(){\n",
       "                            \n",
       "var gd = document.getElementById('34876f2f-8727-49d1-9986-b88424b6cddc');\n",
       "var x = new MutationObserver(function (mutations, observer) {{\n",
       "        var display = window.getComputedStyle(gd).display;\n",
       "        if (!display || display === 'none') {{\n",
       "            console.log([gd, 'removed!']);\n",
       "            Plotly.purge(gd);\n",
       "            observer.disconnect();\n",
       "        }}\n",
       "}});\n",
       "\n",
       "// Listen for the removal of the full notebook cells\n",
       "var notebookContainer = gd.closest('#notebook-container');\n",
       "if (notebookContainer) {{\n",
       "    x.observe(notebookContainer, {childList: true});\n",
       "}}\n",
       "\n",
       "// Listen for the clearing of the current output cell\n",
       "var outputEl = gd.closest('.output');\n",
       "if (outputEl) {{\n",
       "    x.observe(outputEl, {childList: true});\n",
       "}}\n",
       "\n",
       "                        })                };                });            </script>        </div>"
      ]
     },
     "metadata": {},
     "output_type": "display_data"
    },
    {
     "data": {
      "text/plain": [
       "{'name': 'scaffold means',\n",
       " 'n_classification': 645,\n",
       " 'positives_ratio': 1.022,\n",
       " 'n_regression': 198,\n",
       " 'ks_logBB_stat': 0.064,\n",
       " 'ks_logBB_pval': 0.027,\n",
       " 'wasserstein_distance_tsne_dim_1': 3.34,\n",
       " 'wasserstein_distance_tsne_dim_2': 0.955}"
      ]
     },
     "execution_count": 24,
     "metadata": {},
     "output_type": "execute_result"
    },
    {
     "data": {
      "text/plain": [
       "<Figure size 640x480 with 1 Axes>"
      ],
      "image/png": "[encoded data removed]"
     },
     "metadata": {},
     "output_type": "display_data"
    }
   ],
   "execution_count": 24
  },
  {
   "cell_type": "code",
   "source": [
    "# Multiple train-test Twinning-based split assessment:\n",
    "# - scaffold means \n",
    "# - scaffold medians\n",
    "# - molecule properties, extending to scaffolds\n",
    "# - randomised\n",
    "\n",
    "g_scaffold_desc_for_split_mean = df_desc_for_split.groupby(\"murcko_scaffold_grouped\").mean()\n",
    "res = []\n",
    "n_seeds = 50\n",
    "for u1 in range(n_seeds):\n",
    "    res.append(\n",
    "        analyse_test_scaffolds(set(g_scaffold_desc_for_split_mean.index[twinning.twin(g_scaffold_desc_for_split_mean.to_numpy(), r=5, u1=u1)]), name=f\"scaffold means, u1={u1}\", visualise=False\n",
    "   )\n",
    ")\n",
    "g_scaffold_desc_for_split_median = df_desc_for_split.groupby(\"murcko_scaffold_grouped\").median()\n",
    "for u1 in range(n_seeds):\n",
    "    res.append(\n",
    "        analyse_test_scaffolds(set(g_scaffold_desc_for_split_median.index[twinning.twin(g_scaffold_desc_for_split_median.to_numpy(), r=5, u1=u1)]), name=f\"scaffold median, u1={u1}\", visualise=False)\n",
    "    )\n",
    "for u1 in range(n_seeds):\n",
    "    res.append(\n",
    "        analyse_test_scaffolds(set(df_desc_for_split.iloc[twinning.twin(df_desc_for_split.drop(columns=[\"murcko_scaffold_grouped\"]).to_numpy(), r=14, u1=u1)].murcko_scaffold_grouped), name=f\"by mol properties, u1={u1}\", visualise=False)\n",
    "    )\n",
    "for u1 in range(n_seeds):\n",
    "    res.append(analyse_test_scaffolds(list(df_desc_for_split.murcko_scaffold_grouped.sample(240, random_state=u1)), name=f\"240 random, state={u1}\", visualise=False))\n",
    "\n",
    "_df = pd.DataFrame(res)\n",
    "_df[(abs(_df.positives_ratio -1) <0.07) & (_df.n_regression > 165) & (_df.wasserstein_distance_tsne_dim_1 < 5 )].sort_values(\"ks_logBB_pval\", ascending=True)"
   ],
   "metadata": {
    "collapsed": false,
    "ExecuteTime": {
     "end_time": "2025-06-11T08:07:03.557021Z",
     "start_time": "2024-08-25T08:52:04.401119Z"
    }
   },
   "id": "8b4743f2304ef921",
   "outputs": [
    {
     "data": {
      "text/plain": [
       "                         name  n_classification  positives_ratio  \\\n",
       "168      240 random, state=18               728            1.046   \n",
       "56      scaffold median, u1=6               673            1.031   \n",
       "99     scaffold median, u1=49               674            1.011   \n",
       "2        scaffold means, u1=2               645            1.022   \n",
       "74     scaffold median, u1=24               649            0.996   \n",
       "23      scaffold means, u1=23               645            1.004   \n",
       "60     scaffold median, u1=10               674            1.023   \n",
       "37      scaffold means, u1=37               636            0.994   \n",
       "97     scaffold median, u1=47               642            0.980   \n",
       "10      scaffold means, u1=10               614            0.938   \n",
       "5        scaffold means, u1=5               642            0.965   \n",
       "100   by mol properties, u1=0               734            1.016   \n",
       "16      scaffold means, u1=16               653            0.995   \n",
       "33      scaffold means, u1=33               637            1.038   \n",
       "83     scaffold median, u1=33               637            0.950   \n",
       "24      scaffold means, u1=24               644            1.009   \n",
       "73     scaffold median, u1=23               684            1.004   \n",
       "20      scaffold means, u1=20               648            1.062   \n",
       "89     scaffold median, u1=39               723            1.005   \n",
       "25      scaffold means, u1=25               635            1.018   \n",
       "27      scaffold means, u1=27               638            1.055   \n",
       "39      scaffold means, u1=39               648            0.954   \n",
       "149  by mol properties, u1=49               706            1.067   \n",
       "167      240 random, state=17               786            1.041   \n",
       "166      240 random, state=16               772            1.039   \n",
       "31      scaffold means, u1=31               657            1.011   \n",
       "59      scaffold median, u1=9               647            0.970   \n",
       "3        scaffold means, u1=3               663            1.026   \n",
       "51      scaffold median, u1=1               669            0.962   \n",
       "66     scaffold median, u1=16               704            1.060   \n",
       "82     scaffold median, u1=32               674            0.991   \n",
       "91     scaffold median, u1=41               667            1.019   \n",
       "35      scaffold means, u1=35               633            0.979   \n",
       "128  by mol properties, u1=28               777            1.033   \n",
       "12      scaffold means, u1=12               646            0.990   \n",
       "90     scaffold median, u1=40               683            0.972   \n",
       "6        scaffold means, u1=6               646            1.063   \n",
       "86     scaffold median, u1=36               675            1.018   \n",
       "186      240 random, state=36               787            1.042   \n",
       "42      scaffold means, u1=42               646            0.972   \n",
       "36      scaffold means, u1=36               672            1.039   \n",
       "77     scaffold median, u1=27               686            0.986   \n",
       "1        scaffold means, u1=1               650            0.941   \n",
       "96     scaffold median, u1=46               654            0.966   \n",
       "29      scaffold means, u1=29               634            0.938   \n",
       "14      scaffold means, u1=14               633            0.994   \n",
       "65     scaffold median, u1=15               676            1.040   \n",
       "48      scaffold means, u1=48               657            0.987   \n",
       "55      scaffold median, u1=5               666            1.003   \n",
       "70     scaffold median, u1=20               679            0.970   \n",
       "9        scaffold means, u1=9               636            0.970   \n",
       "\n",
       "     n_regression  ks_logBB_stat  ks_logBB_pval  \\\n",
       "168           181          0.067          0.011   \n",
       "56            208          0.065          0.019   \n",
       "99            202          0.065          0.021   \n",
       "2             198          0.064          0.027   \n",
       "74            189          0.062          0.034   \n",
       "23            181          0.059          0.050   \n",
       "60            200          0.056          0.069   \n",
       "37            186          0.052          0.121   \n",
       "97            182          0.050          0.143   \n",
       "10            180          0.050          0.162   \n",
       "5             180          0.048          0.176   \n",
       "100           177          0.046          0.179   \n",
       "16            185          0.048          0.179   \n",
       "33            191          0.047          0.195   \n",
       "83            184          0.045          0.231   \n",
       "24            169          0.044          0.259   \n",
       "73            167          0.042          0.277   \n",
       "20            170          0.043          0.282   \n",
       "89            167          0.039          0.343   \n",
       "25            178          0.037          0.465   \n",
       "27            179          0.035          0.528   \n",
       "39            168          0.035          0.534   \n",
       "149           203          0.033          0.562   \n",
       "167           226          0.032          0.572   \n",
       "166           199          0.031          0.606   \n",
       "31            167          0.032          0.633   \n",
       "59            176          0.032          0.660   \n",
       "3             173          0.030          0.709   \n",
       "51            175          0.029          0.748   \n",
       "66            183          0.028          0.755   \n",
       "82            169          0.028          0.766   \n",
       "91            189          0.025          0.874   \n",
       "35            181          0.026          0.879   \n",
       "128           211          0.023          0.903   \n",
       "12            175          0.024          0.915   \n",
       "90            176          0.022          0.941   \n",
       "6             182          0.023          0.942   \n",
       "86            182          0.022          0.953   \n",
       "186           200          0.021          0.955   \n",
       "42            176          0.022          0.957   \n",
       "36            170          0.020          0.982   \n",
       "77            185          0.019          0.988   \n",
       "1             181          0.019          0.991   \n",
       "96            177          0.018          0.993   \n",
       "29            167          0.018          0.994   \n",
       "14            166          0.018          0.996   \n",
       "65            175          0.017          0.997   \n",
       "48            175          0.016          0.999   \n",
       "55            170          0.016          0.999   \n",
       "70            168          0.015          1.000   \n",
       "9             168          0.013          1.000   \n",
       "\n",
       "     wasserstein_distance_tsne_dim_1  wasserstein_distance_tsne_dim_2  \n",
       "168                            3.622                            1.885  \n",
       "56                             2.450                            1.646  \n",
       "99                             2.451                            2.230  \n",
       "2                              3.340                            0.955  \n",
       "74                             2.495                            2.721  \n",
       "23                             4.005                            2.315  \n",
       "60                             3.102                            1.897  \n",
       "37                             3.112                            3.587  \n",
       "97                             4.271                            2.071  \n",
       "10                             3.545                            3.146  \n",
       "5                              4.658                            3.082  \n",
       "100                            3.479                            5.857  \n",
       "16                             3.340                            3.794  \n",
       "33                             4.587                            5.315  \n",
       "83                             4.547                            2.948  \n",
       "24                             4.699                            2.765  \n",
       "73                             3.026                            2.623  \n",
       "20                             2.509                            4.062  \n",
       "89                             2.373                            2.470  \n",
       "25                             2.780                            2.199  \n",
       "27                             3.874                            1.777  \n",
       "39                             2.735                            1.069  \n",
       "149                            3.852                            1.478  \n",
       "167                            4.920                            3.368  \n",
       "166                            4.366                            4.411  \n",
       "31                             2.254                            1.829  \n",
       "59                             1.804                            1.924  \n",
       "3                              2.488                            1.789  \n",
       "51                             2.480                            1.743  \n",
       "66                             2.158                            2.569  \n",
       "82                             2.086                            1.192  \n",
       "91                             3.599                            2.272  \n",
       "35                             3.871                            3.644  \n",
       "128                            3.517                            4.680  \n",
       "12                             4.349                            0.808  \n",
       "90                             4.390                            3.952  \n",
       "6                              3.407                            0.980  \n",
       "86                             4.030                            2.008  \n",
       "186                            4.637                            5.080  \n",
       "42                             1.621                            4.348  \n",
       "36                             3.126                            1.758  \n",
       "77                             2.368                            1.106  \n",
       "1                              3.346                            0.769  \n",
       "96                             3.632                            0.857  \n",
       "29                             2.179                            2.498  \n",
       "14                             4.746                            1.386  \n",
       "65                             3.599                            3.691  \n",
       "48                             3.097                            2.216  \n",
       "55                             1.431                            4.912  \n",
       "70                             4.900                            1.072  \n",
       "9                              2.016                            2.164  "
      ],
      "text/html": [
       "<div>\n",
       "<style scoped>\n",
       "    .dataframe tbody tr th:only-of-type {\n",
       "        vertical-align: middle;\n",
       "    }\n",
       "\n",
       "    .dataframe tbody tr th {\n",
       "        vertical-align: top;\n",
       "    }\n",
       "\n",
       "    .dataframe thead th {\n",
       "        text-align: right;\n",
       "    }\n",
       "</style>\n",
       "<table border=\"1\" class=\"dataframe\">\n",
       "  <thead>\n",
       "    <tr style=\"text-align: right;\">\n",
       "      <th></th>\n",
       "      <th>name</th>\n",
       "      <th>n_classification</th>\n",
       "      <th>positives_ratio</th>\n",
       "      <th>n_regression</th>\n",
       "      <th>ks_logBB_stat</th>\n",
       "      <th>ks_logBB_pval</th>\n",
       "      <th>wasserstein_distance_tsne_dim_1</th>\n",
       "      <th>wasserstein_distance_tsne_dim_2</th>\n",
       "    </tr>\n",
       "  </thead>\n",
       "  <tbody>\n",
       "    <tr>\n",
       "      <th>168</th>\n",
       "      <td>240 random, state=18</td>\n",
       "      <td>728</td>\n",
       "      <td>1.046</td>\n",
       "      <td>181</td>\n",
       "      <td>0.067</td>\n",
       "      <td>0.011</td>\n",
       "      <td>3.622</td>\n",
       "      <td>1.885</td>\n",
       "    </tr>\n",
       "    <tr>\n",
       "      <th>56</th>\n",
       "      <td>scaffold median, u1=6</td>\n",
       "      <td>673</td>\n",
       "      <td>1.031</td>\n",
       "      <td>208</td>\n",
       "      <td>0.065</td>\n",
       "      <td>0.019</td>\n",
       "      <td>2.450</td>\n",
       "      <td>1.646</td>\n",
       "    </tr>\n",
       "    <tr>\n",
       "      <th>99</th>\n",
       "      <td>scaffold median, u1=49</td>\n",
       "      <td>674</td>\n",
       "      <td>1.011</td>\n",
       "      <td>202</td>\n",
       "      <td>0.065</td>\n",
       "      <td>0.021</td>\n",
       "      <td>2.451</td>\n",
       "      <td>2.230</td>\n",
       "    </tr>\n",
       "    <tr>\n",
       "      <th>2</th>\n",
       "      <td>scaffold means, u1=2</td>\n",
       "      <td>645</td>\n",
       "      <td>1.022</td>\n",
       "      <td>198</td>\n",
       "      <td>0.064</td>\n",
       "      <td>0.027</td>\n",
       "      <td>3.340</td>\n",
       "      <td>0.955</td>\n",
       "    </tr>\n",
       "    <tr>\n",
       "      <th>74</th>\n",
       "      <td>scaffold median, u1=24</td>\n",
       "      <td>649</td>\n",
       "      <td>0.996</td>\n",
       "      <td>189</td>\n",
       "      <td>0.062</td>\n",
       "      <td>0.034</td>\n",
       "      <td>2.495</td>\n",
       "      <td>2.721</td>\n",
       "    </tr>\n",
       "    <tr>\n",
       "      <th>23</th>\n",
       "      <td>scaffold means, u1=23</td>\n",
       "      <td>645</td>\n",
       "      <td>1.004</td>\n",
       "      <td>181</td>\n",
       "      <td>0.059</td>\n",
       "      <td>0.050</td>\n",
       "      <td>4.005</td>\n",
       "      <td>2.315</td>\n",
       "    </tr>\n",
       "    <tr>\n",
       "      <th>60</th>\n",
       "      <td>scaffold median, u1=10</td>\n",
       "      <td>674</td>\n",
       "      <td>1.023</td>\n",
       "      <td>200</td>\n",
       "      <td>0.056</td>\n",
       "      <td>0.069</td>\n",
       "      <td>3.102</td>\n",
       "      <td>1.897</td>\n",
       "    </tr>\n",
       "    <tr>\n",
       "      <th>37</th>\n",
       "      <td>scaffold means, u1=37</td>\n",
       "      <td>636</td>\n",
       "      <td>0.994</td>\n",
       "      <td>186</td>\n",
       "      <td>0.052</td>\n",
       "      <td>0.121</td>\n",
       "      <td>3.112</td>\n",
       "      <td>3.587</td>\n",
       "    </tr>\n",
       "    <tr>\n",
       "      <th>97</th>\n",
       "      <td>scaffold median, u1=47</td>\n",
       "      <td>642</td>\n",
       "      <td>0.980</td>\n",
       "      <td>182</td>\n",
       "      <td>0.050</td>\n",
       "      <td>0.143</td>\n",
       "      <td>4.271</td>\n",
       "      <td>2.071</td>\n",
       "    </tr>\n",
       "    <tr>\n",
       "      <th>10</th>\n",
       "      <td>scaffold means, u1=10</td>\n",
       "      <td>614</td>\n",
       "      <td>0.938</td>\n",
       "      <td>180</td>\n",
       "      <td>0.050</td>\n",
       "      <td>0.162</td>\n",
       "      <td>3.545</td>\n",
       "      <td>3.146</td>\n",
       "    </tr>\n",
       "    <tr>\n",
       "      <th>5</th>\n",
       "      <td>scaffold means, u1=5</td>\n",
       "      <td>642</td>\n",
       "      <td>0.965</td>\n",
       "      <td>180</td>\n",
       "      <td>0.048</td>\n",
       "      <td>0.176</td>\n",
       "      <td>4.658</td>\n",
       "      <td>3.082</td>\n",
       "    </tr>\n",
       "    <tr>\n",
       "      <th>100</th>\n",
       "      <td>by mol properties, u1=0</td>\n",
       "      <td>734</td>\n",
       "      <td>1.016</td>\n",
       "      <td>177</td>\n",
       "      <td>0.046</td>\n",
       "      <td>0.179</td>\n",
       "      <td>3.479</td>\n",
       "      <td>5.857</td>\n",
       "    </tr>\n",
       "    <tr>\n",
       "      <th>16</th>\n",
       "      <td>scaffold means, u1=16</td>\n",
       "      <td>653</td>\n",
       "      <td>0.995</td>\n",
       "      <td>185</td>\n",
       "      <td>0.048</td>\n",
       "      <td>0.179</td>\n",
       "      <td>3.340</td>\n",
       "      <td>3.794</td>\n",
       "    </tr>\n",
       "    <tr>\n",
       "      <th>33</th>\n",
       "      <td>scaffold means, u1=33</td>\n",
       "      <td>637</td>\n",
       "      <td>1.038</td>\n",
       "      <td>191</td>\n",
       "      <td>0.047</td>\n",
       "      <td>0.195</td>\n",
       "      <td>4.587</td>\n",
       "      <td>5.315</td>\n",
       "    </tr>\n",
       "    <tr>\n",
       "      <th>83</th>\n",
       "      <td>scaffold median, u1=33</td>\n",
       "      <td>637</td>\n",
       "      <td>0.950</td>\n",
       "      <td>184</td>\n",
       "      <td>0.045</td>\n",
       "      <td>0.231</td>\n",
       "      <td>4.547</td>\n",
       "      <td>2.948</td>\n",
       "    </tr>\n",
       "    <tr>\n",
       "      <th>24</th>\n",
       "      <td>scaffold means, u1=24</td>\n",
       "      <td>644</td>\n",
       "      <td>1.009</td>\n",
       "      <td>169</td>\n",
       "      <td>0.044</td>\n",
       "      <td>0.259</td>\n",
       "      <td>4.699</td>\n",
       "      <td>2.765</td>\n",
       "    </tr>\n",
       "    <tr>\n",
       "      <th>73</th>\n",
       "      <td>scaffold median, u1=23</td>\n",
       "      <td>684</td>\n",
       "      <td>1.004</td>\n",
       "      <td>167</td>\n",
       "      <td>0.042</td>\n",
       "      <td>0.277</td>\n",
       "      <td>3.026</td>\n",
       "      <td>2.623</td>\n",
       "    </tr>\n",
       "    <tr>\n",
       "      <th>20</th>\n",
       "      <td>scaffold means, u1=20</td>\n",
       "      <td>648</td>\n",
       "      <td>1.062</td>\n",
       "      <td>170</td>\n",
       "      <td>0.043</td>\n",
       "      <td>0.282</td>\n",
       "      <td>2.509</td>\n",
       "      <td>4.062</td>\n",
       "    </tr>\n",
       "    <tr>\n",
       "      <th>89</th>\n",
       "      <td>scaffold median, u1=39</td>\n",
       "      <td>723</td>\n",
       "      <td>1.005</td>\n",
       "      <td>167</td>\n",
       "      <td>0.039</td>\n",
       "      <td>0.343</td>\n",
       "      <td>2.373</td>\n",
       "      <td>2.470</td>\n",
       "    </tr>\n",
       "    <tr>\n",
       "      <th>25</th>\n",
       "      <td>scaffold means, u1=25</td>\n",
       "      <td>635</td>\n",
       "      <td>1.018</td>\n",
       "      <td>178</td>\n",
       "      <td>0.037</td>\n",
       "      <td>0.465</td>\n",
       "      <td>2.780</td>\n",
       "      <td>2.199</td>\n",
       "    </tr>\n",
       "    <tr>\n",
       "      <th>27</th>\n",
       "      <td>scaffold means, u1=27</td>\n",
       "      <td>638</td>\n",
       "      <td>1.055</td>\n",
       "      <td>179</td>\n",
       "      <td>0.035</td>\n",
       "      <td>0.528</td>\n",
       "      <td>3.874</td>\n",
       "      <td>1.777</td>\n",
       "    </tr>\n",
       "    <tr>\n",
       "      <th>39</th>\n",
       "      <td>scaffold means, u1=39</td>\n",
       "      <td>648</td>\n",
       "      <td>0.954</td>\n",
       "      <td>168</td>\n",
       "      <td>0.035</td>\n",
       "      <td>0.534</td>\n",
       "      <td>2.735</td>\n",
       "      <td>1.069</td>\n",
       "    </tr>\n",
       "    <tr>\n",
       "      <th>149</th>\n",
       "      <td>by mol properties, u1=49</td>\n",
       "      <td>706</td>\n",
       "      <td>1.067</td>\n",
       "      <td>203</td>\n",
       "      <td>0.033</td>\n",
       "      <td>0.562</td>\n",
       "      <td>3.852</td>\n",
       "      <td>1.478</td>\n",
       "    </tr>\n",
       "    <tr>\n",
       "      <th>167</th>\n",
       "      <td>240 random, state=17</td>\n",
       "      <td>786</td>\n",
       "      <td>1.041</td>\n",
       "      <td>226</td>\n",
       "      <td>0.032</td>\n",
       "      <td>0.572</td>\n",
       "      <td>4.920</td>\n",
       "      <td>3.368</td>\n",
       "    </tr>\n",
       "    <tr>\n",
       "      <th>166</th>\n",
       "      <td>240 random, state=16</td>\n",
       "      <td>772</td>\n",
       "      <td>1.039</td>\n",
       "      <td>199</td>\n",
       "      <td>0.031</td>\n",
       "      <td>0.606</td>\n",
       "      <td>4.366</td>\n",
       "      <td>4.411</td>\n",
       "    </tr>\n",
       "    <tr>\n",
       "      <th>31</th>\n",
       "      <td>scaffold means, u1=31</td>\n",
       "      <td>657</td>\n",
       "      <td>1.011</td>\n",
       "      <td>167</td>\n",
       "      <td>0.032</td>\n",
       "      <td>0.633</td>\n",
       "      <td>2.254</td>\n",
       "      <td>1.829</td>\n",
       "    </tr>\n",
       "    <tr>\n",
       "      <th>59</th>\n",
       "      <td>scaffold median, u1=9</td>\n",
       "      <td>647</td>\n",
       "      <td>0.970</td>\n",
       "      <td>176</td>\n",
       "      <td>0.032</td>\n",
       "      <td>0.660</td>\n",
       "      <td>1.804</td>\n",
       "      <td>1.924</td>\n",
       "    </tr>\n",
       "    <tr>\n",
       "      <th>3</th>\n",
       "      <td>scaffold means, u1=3</td>\n",
       "      <td>663</td>\n",
       "      <td>1.026</td>\n",
       "      <td>173</td>\n",
       "      <td>0.030</td>\n",
       "      <td>0.709</td>\n",
       "      <td>2.488</td>\n",
       "      <td>1.789</td>\n",
       "    </tr>\n",
       "    <tr>\n",
       "      <th>51</th>\n",
       "      <td>scaffold median, u1=1</td>\n",
       "      <td>669</td>\n",
       "      <td>0.962</td>\n",
       "      <td>175</td>\n",
       "      <td>0.029</td>\n",
       "      <td>0.748</td>\n",
       "      <td>2.480</td>\n",
       "      <td>1.743</td>\n",
       "    </tr>\n",
       "    <tr>\n",
       "      <th>66</th>\n",
       "      <td>scaffold median, u1=16</td>\n",
       "      <td>704</td>\n",
       "      <td>1.060</td>\n",
       "      <td>183</td>\n",
       "      <td>0.028</td>\n",
       "      <td>0.755</td>\n",
       "      <td>2.158</td>\n",
       "      <td>2.569</td>\n",
       "    </tr>\n",
       "    <tr>\n",
       "      <th>82</th>\n",
       "      <td>scaffold median, u1=32</td>\n",
       "      <td>674</td>\n",
       "      <td>0.991</td>\n",
       "      <td>169</td>\n",
       "      <td>0.028</td>\n",
       "      <td>0.766</td>\n",
       "      <td>2.086</td>\n",
       "      <td>1.192</td>\n",
       "    </tr>\n",
       "    <tr>\n",
       "      <th>91</th>\n",
       "      <td>scaffold median, u1=41</td>\n",
       "      <td>667</td>\n",
       "      <td>1.019</td>\n",
       "      <td>189</td>\n",
       "      <td>0.025</td>\n",
       "      <td>0.874</td>\n",
       "      <td>3.599</td>\n",
       "      <td>2.272</td>\n",
       "    </tr>\n",
       "    <tr>\n",
       "      <th>35</th>\n",
       "      <td>scaffold means, u1=35</td>\n",
       "      <td>633</td>\n",
       "      <td>0.979</td>\n",
       "      <td>181</td>\n",
       "      <td>0.026</td>\n",
       "      <td>0.879</td>\n",
       "      <td>3.871</td>\n",
       "      <td>3.644</td>\n",
       "    </tr>\n",
       "    <tr>\n",
       "      <th>128</th>\n",
       "      <td>by mol properties, u1=28</td>\n",
       "      <td>777</td>\n",
       "      <td>1.033</td>\n",
       "      <td>211</td>\n",
       "      <td>0.023</td>\n",
       "      <td>0.903</td>\n",
       "      <td>3.517</td>\n",
       "      <td>4.680</td>\n",
       "    </tr>\n",
       "    <tr>\n",
       "      <th>12</th>\n",
       "      <td>scaffold means, u1=12</td>\n",
       "      <td>646</td>\n",
       "      <td>0.990</td>\n",
       "      <td>175</td>\n",
       "      <td>0.024</td>\n",
       "      <td>0.915</td>\n",
       "      <td>4.349</td>\n",
       "      <td>0.808</td>\n",
       "    </tr>\n",
       "    <tr>\n",
       "      <th>90</th>\n",
       "      <td>scaffold median, u1=40</td>\n",
       "      <td>683</td>\n",
       "      <td>0.972</td>\n",
       "      <td>176</td>\n",
       "      <td>0.022</td>\n",
       "      <td>0.941</td>\n",
       "      <td>4.390</td>\n",
       "      <td>3.952</td>\n",
       "    </tr>\n",
       "    <tr>\n",
       "      <th>6</th>\n",
       "      <td>scaffold means, u1=6</td>\n",
       "      <td>646</td>\n",
       "      <td>1.063</td>\n",
       "      <td>182</td>\n",
       "      <td>0.023</td>\n",
       "      <td>0.942</td>\n",
       "      <td>3.407</td>\n",
       "      <td>0.980</td>\n",
       "    </tr>\n",
       "    <tr>\n",
       "      <th>86</th>\n",
       "      <td>scaffold median, u1=36</td>\n",
       "      <td>675</td>\n",
       "      <td>1.018</td>\n",
       "      <td>182</td>\n",
       "      <td>0.022</td>\n",
       "      <td>0.953</td>\n",
       "      <td>4.030</td>\n",
       "      <td>2.008</td>\n",
       "    </tr>\n",
       "    <tr>\n",
       "      <th>186</th>\n",
       "      <td>240 random, state=36</td>\n",
       "      <td>787</td>\n",
       "      <td>1.042</td>\n",
       "      <td>200</td>\n",
       "      <td>0.021</td>\n",
       "      <td>0.955</td>\n",
       "      <td>4.637</td>\n",
       "      <td>5.080</td>\n",
       "    </tr>\n",
       "    <tr>\n",
       "      <th>42</th>\n",
       "      <td>scaffold means, u1=42</td>\n",
       "      <td>646</td>\n",
       "      <td>0.972</td>\n",
       "      <td>176</td>\n",
       "      <td>0.022</td>\n",
       "      <td>0.957</td>\n",
       "      <td>1.621</td>\n",
       "      <td>4.348</td>\n",
       "    </tr>\n",
       "    <tr>\n",
       "      <th>36</th>\n",
       "      <td>scaffold means, u1=36</td>\n",
       "      <td>672</td>\n",
       "      <td>1.039</td>\n",
       "      <td>170</td>\n",
       "      <td>0.020</td>\n",
       "      <td>0.982</td>\n",
       "      <td>3.126</td>\n",
       "      <td>1.758</td>\n",
       "    </tr>\n",
       "    <tr>\n",
       "      <th>77</th>\n",
       "      <td>scaffold median, u1=27</td>\n",
       "      <td>686</td>\n",
       "      <td>0.986</td>\n",
       "      <td>185</td>\n",
       "      <td>0.019</td>\n",
       "      <td>0.988</td>\n",
       "      <td>2.368</td>\n",
       "      <td>1.106</td>\n",
       "    </tr>\n",
       "    <tr>\n",
       "      <th>1</th>\n",
       "      <td>scaffold means, u1=1</td>\n",
       "      <td>650</td>\n",
       "      <td>0.941</td>\n",
       "      <td>181</td>\n",
       "      <td>0.019</td>\n",
       "      <td>0.991</td>\n",
       "      <td>3.346</td>\n",
       "      <td>0.769</td>\n",
       "    </tr>\n",
       "    <tr>\n",
       "      <th>96</th>\n",
       "      <td>scaffold median, u1=46</td>\n",
       "      <td>654</td>\n",
       "      <td>0.966</td>\n",
       "      <td>177</td>\n",
       "      <td>0.018</td>\n",
       "      <td>0.993</td>\n",
       "      <td>3.632</td>\n",
       "      <td>0.857</td>\n",
       "    </tr>\n",
       "    <tr>\n",
       "      <th>29</th>\n",
       "      <td>scaffold means, u1=29</td>\n",
       "      <td>634</td>\n",
       "      <td>0.938</td>\n",
       "      <td>167</td>\n",
       "      <td>0.018</td>\n",
       "      <td>0.994</td>\n",
       "      <td>2.179</td>\n",
       "      <td>2.498</td>\n",
       "    </tr>\n",
       "    <tr>\n",
       "      <th>14</th>\n",
       "      <td>scaffold means, u1=14</td>\n",
       "      <td>633</td>\n",
       "      <td>0.994</td>\n",
       "      <td>166</td>\n",
       "      <td>0.018</td>\n",
       "      <td>0.996</td>\n",
       "      <td>4.746</td>\n",
       "      <td>1.386</td>\n",
       "    </tr>\n",
       "    <tr>\n",
       "      <th>65</th>\n",
       "      <td>scaffold median, u1=15</td>\n",
       "      <td>676</td>\n",
       "      <td>1.040</td>\n",
       "      <td>175</td>\n",
       "      <td>0.017</td>\n",
       "      <td>0.997</td>\n",
       "      <td>3.599</td>\n",
       "      <td>3.691</td>\n",
       "    </tr>\n",
       "    <tr>\n",
       "      <th>48</th>\n",
       "      <td>scaffold means, u1=48</td>\n",
       "      <td>657</td>\n",
       "      <td>0.987</td>\n",
       "      <td>175</td>\n",
       "      <td>0.016</td>\n",
       "      <td>0.999</td>\n",
       "      <td>3.097</td>\n",
       "      <td>2.216</td>\n",
       "    </tr>\n",
       "    <tr>\n",
       "      <th>55</th>\n",
       "      <td>scaffold median, u1=5</td>\n",
       "      <td>666</td>\n",
       "      <td>1.003</td>\n",
       "      <td>170</td>\n",
       "      <td>0.016</td>\n",
       "      <td>0.999</td>\n",
       "      <td>1.431</td>\n",
       "      <td>4.912</td>\n",
       "    </tr>\n",
       "    <tr>\n",
       "      <th>70</th>\n",
       "      <td>scaffold median, u1=20</td>\n",
       "      <td>679</td>\n",
       "      <td>0.970</td>\n",
       "      <td>168</td>\n",
       "      <td>0.015</td>\n",
       "      <td>1.000</td>\n",
       "      <td>4.900</td>\n",
       "      <td>1.072</td>\n",
       "    </tr>\n",
       "    <tr>\n",
       "      <th>9</th>\n",
       "      <td>scaffold means, u1=9</td>\n",
       "      <td>636</td>\n",
       "      <td>0.970</td>\n",
       "      <td>168</td>\n",
       "      <td>0.013</td>\n",
       "      <td>1.000</td>\n",
       "      <td>2.016</td>\n",
       "      <td>2.164</td>\n",
       "    </tr>\n",
       "  </tbody>\n",
       "</table>\n",
       "</div>"
      ]
     },
     "execution_count": 18,
     "metadata": {},
     "output_type": "execute_result"
    }
   ],
   "execution_count": 18
  },
  {
   "metadata": {},
   "cell_type": "markdown",
   "source": "",
   "id": "23edff528b2cd869"
  },
  {
   "cell_type": "code",
   "source": [
    "df_cns_db[\"split\"] = df_cns_db.murcko_scaffold_grouped.apply(lambda x: \"test\" if x in test_scaffolds_twinning_scaffold_mean else \"training\")\n",
    "df_cns_db_to_dump = df_cns_db.drop(columns=[\"mol\", \"mol_conformers\", \"murcko_scaffold\", \"murcko_scaffold_grouped\", \"ecfp4_count_fingerprint\"])\n",
    "df_cns_db_to_dump.to_csv(\"cns_db_split.tsv\", index=False, sep=\"\\t\")"
   ],
   "metadata": {
    "collapsed": false,
    "ExecuteTime": {
     "end_time": "2025-06-11T08:07:03.558281Z",
     "start_time": "2024-08-25T16:50:58.141234Z"
    }
   },
   "id": "e34a5f9b37526769",
   "outputs": [],
   "execution_count": 25
  },
  {
   "cell_type": "code",
   "source": [
    "desc_for_split_with_smiles = df_cns_db_shuffled[[\"smiles\"]].reset_index(drop=True).join(df_desc_for_split)\n",
    "df_cns_db_to_dump_with_descriptors = df_cns_db_to_dump.merge(desc_for_split_with_smiles, on=\"smiles\")\n",
    "df_cns_db_to_dump_with_descriptors = df_cns_db_to_dump_with_descriptors.rename(columns={k: k.replace(\"desc2D+\" if k.split(\"_\", 1)[-1] in {\"logd\", \"logp\", \"pka_b\"} else \"+chemaxon\", \"\") if k.startswith(\"desc2D+chemaxon\") else k for k in list(df_cns_db_to_dump_with_descriptors)})\n",
    "df_cns_db_to_dump_with_descriptors.to_csv(\"cns_db_split_descriptors.tsv\", index=False, sep=\"\\t\")"
   ],
   "metadata": {
    "collapsed": false,
    "ExecuteTime": {
     "end_time": "2025-06-11T08:07:03.558437Z",
     "start_time": "2024-08-25T16:50:59.842144Z"
    }
   },
   "id": "1f7e849240e37944",
   "outputs": [],
   "execution_count": 26
  }
 ],
 "metadata": {
  "kernelspec": {
   "name": "python3",
   "language": "python",
   "display_name": "Python 3 (ipykernel)"
  },
  "language_info": {
   "codemirror_mode": {
    "name": "ipython",
    "version": 2
   },
   "file_extension": ".py",
   "mimetype": "text/x-python",
   "name": "python",
   "nbconvert_exporter": "python",
   "pygments_lexer": "ipython2",
   "version": "2.7.6"
  }
 },
 "nbformat": 4,
 "nbformat_minor": 5
}
